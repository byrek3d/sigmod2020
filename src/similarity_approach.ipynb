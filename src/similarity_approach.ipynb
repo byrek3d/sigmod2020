{
 "cells": [
  {
   "cell_type": "markdown",
   "metadata": {},
   "source": [
    "### Loading the data"
   ]
  },
  {
   "cell_type": "code",
   "execution_count": 1,
   "metadata": {},
   "outputs": [],
   "source": [
    "import os\n",
    "import numpy as np\n",
    "import json\n",
    "import pandas as pd\n",
    "import itertools\n",
    "from tqdm import tqdm\n",
    "import nltk\n",
    "\n",
    "import matplotlib.pyplot as plt"
   ]
  },
  {
   "cell_type": "code",
   "execution_count": 2,
   "metadata": {},
   "outputs": [],
   "source": [
    "df = pd.read_csv(\"../datasets/labeled/labeled_with_titles_large.csv\")"
   ]
  },
  {
   "cell_type": "code",
   "execution_count": 3,
   "metadata": {},
   "outputs": [
    {
     "data": {
      "text/html": [
       "<div>\n",
       "<style scoped>\n",
       "    .dataframe tbody tr th:only-of-type {\n",
       "        vertical-align: middle;\n",
       "    }\n",
       "\n",
       "    .dataframe tbody tr th {\n",
       "        vertical-align: top;\n",
       "    }\n",
       "\n",
       "    .dataframe thead th {\n",
       "        text-align: right;\n",
       "    }\n",
       "</style>\n",
       "<table border=\"1\" class=\"dataframe\">\n",
       "  <thead>\n",
       "    <tr style=\"text-align: right;\">\n",
       "      <th></th>\n",
       "      <th>left_spec_id</th>\n",
       "      <th>right_spec_id</th>\n",
       "      <th>label</th>\n",
       "      <th>left_page_title</th>\n",
       "      <th>right_page_title</th>\n",
       "    </tr>\n",
       "  </thead>\n",
       "  <tbody>\n",
       "    <tr>\n",
       "      <th>0</th>\n",
       "      <td>www.ebay.com//53278</td>\n",
       "      <td>www.garricks.com.au//31</td>\n",
       "      <td>1</td>\n",
       "      <td>nikon d3200 24 2 mp digital slr camera black k...</td>\n",
       "      <td>nikon d3200 black w/ 18-55mm vr lens</td>\n",
       "    </tr>\n",
       "    <tr>\n",
       "      <th>1</th>\n",
       "      <td>www.ebay.com//53278</td>\n",
       "      <td>www.priceme.co.nz//2246</td>\n",
       "      <td>0</td>\n",
       "      <td>nikon d3200 24 2 mp digital slr camera black k...</td>\n",
       "      <td>canon eos 1200d + 18-55/3.5-5.6  new zealand p...</td>\n",
       "    </tr>\n",
       "    <tr>\n",
       "      <th>2</th>\n",
       "      <td>www.ebay.com//53278</td>\n",
       "      <td>www.shopbot.com.au//1376</td>\n",
       "      <td>0</td>\n",
       "      <td>nikon d3200 24 2 mp digital slr camera black k...</td>\n",
       "      <td>nikon d7000 / 18-105mm vr kit - price comparis...</td>\n",
       "    </tr>\n",
       "    <tr>\n",
       "      <th>3</th>\n",
       "      <td>www.ebay.com//53278</td>\n",
       "      <td>www.flipkart.com//2193</td>\n",
       "      <td>0</td>\n",
       "      <td>nikon d3200 24 2 mp digital slr camera black k...</td>\n",
       "      <td>canon eos 1200d kit (ef s18-55 is ii + 55-250 ...</td>\n",
       "    </tr>\n",
       "    <tr>\n",
       "      <th>4</th>\n",
       "      <td>www.ebay.com//53278</td>\n",
       "      <td>www.ebay.com//58781</td>\n",
       "      <td>0</td>\n",
       "      <td>nikon d3200 24 2 mp digital slr camera black k...</td>\n",
       "      <td>canon eos 5d digital slr camera black body onl...</td>\n",
       "    </tr>\n",
       "  </tbody>\n",
       "</table>\n",
       "</div>"
      ],
      "text/plain": [
       "          left_spec_id             right_spec_id  label  \\\n",
       "0  www.ebay.com//53278   www.garricks.com.au//31      1   \n",
       "1  www.ebay.com//53278   www.priceme.co.nz//2246      0   \n",
       "2  www.ebay.com//53278  www.shopbot.com.au//1376      0   \n",
       "3  www.ebay.com//53278    www.flipkart.com//2193      0   \n",
       "4  www.ebay.com//53278       www.ebay.com//58781      0   \n",
       "\n",
       "                                     left_page_title  \\\n",
       "0  nikon d3200 24 2 mp digital slr camera black k...   \n",
       "1  nikon d3200 24 2 mp digital slr camera black k...   \n",
       "2  nikon d3200 24 2 mp digital slr camera black k...   \n",
       "3  nikon d3200 24 2 mp digital slr camera black k...   \n",
       "4  nikon d3200 24 2 mp digital slr camera black k...   \n",
       "\n",
       "                                    right_page_title  \n",
       "0               nikon d3200 black w/ 18-55mm vr lens  \n",
       "1  canon eos 1200d + 18-55/3.5-5.6  new zealand p...  \n",
       "2  nikon d7000 / 18-105mm vr kit - price comparis...  \n",
       "3  canon eos 1200d kit (ef s18-55 is ii + 55-250 ...  \n",
       "4  canon eos 5d digital slr camera black body onl...  "
      ]
     },
     "execution_count": 3,
     "metadata": {},
     "output_type": "execute_result"
    }
   ],
   "source": [
    "df.head()"
   ]
  },
  {
   "cell_type": "markdown",
   "metadata": {},
   "source": [
    "## Cleaning"
   ]
  },
  {
   "cell_type": "code",
   "execution_count": 4,
   "metadata": {},
   "outputs": [],
   "source": [
    " from nltk.tokenize import word_tokenize"
   ]
  },
  {
   "cell_type": "code",
   "execution_count": 5,
   "metadata": {},
   "outputs": [
    {
     "name": "stderr",
     "output_type": "stream",
     "text": [
      "[nltk_data] Downloading package stopwords to\n",
      "[nltk_data]     /Users/gfotiadis/nltk_data...\n",
      "[nltk_data]   Package stopwords is already up-to-date!\n"
     ]
    },
    {
     "data": {
      "text/plain": [
       "True"
      ]
     },
     "execution_count": 5,
     "metadata": {},
     "output_type": "execute_result"
    }
   ],
   "source": [
    "nltk.download('stopwords')"
   ]
  },
  {
   "cell_type": "code",
   "execution_count": 6,
   "metadata": {},
   "outputs": [
    {
     "name": "stderr",
     "output_type": "stream",
     "text": [
      "[nltk_data] Downloading package punkt to /Users/gfotiadis/nltk_data...\n",
      "[nltk_data]   Package punkt is already up-to-date!\n"
     ]
    },
    {
     "data": {
      "text/plain": [
       "True"
      ]
     },
     "execution_count": 6,
     "metadata": {},
     "output_type": "execute_result"
    }
   ],
   "source": [
    "nltk.download('punkt')"
   ]
  },
  {
   "cell_type": "code",
   "execution_count": 7,
   "metadata": {},
   "outputs": [],
   "source": [
    "from nltk.corpus import stopwords\n",
    "\n",
    "stopWords = set(stopwords.words('english'))"
   ]
  },
  {
   "cell_type": "code",
   "execution_count": 8,
   "metadata": {},
   "outputs": [],
   "source": [
    "from nltk.corpus import stopwords\n",
    "\n",
    "stopWords = set(stopwords.words('english'))"
   ]
  },
  {
   "cell_type": "code",
   "execution_count": 9,
   "metadata": {},
   "outputs": [],
   "source": [
    "import string\n",
    "punctuation = string.punctuation[:1] + string.punctuation[2:] + \"€£¥₹₽\""
   ]
  },
  {
   "cell_type": "code",
   "execution_count": 10,
   "metadata": {},
   "outputs": [],
   "source": [
    "def replace_punctuation(word):\n",
    "    return ''.join(c for c in word if c not in punctuation)"
   ]
  },
  {
   "cell_type": "code",
   "execution_count": 11,
   "metadata": {},
   "outputs": [],
   "source": [
    "df[\"left_page_title\"] = df[\"left_page_title\"].apply(lambda x : [i.lower() for i in list(map(lambda y: replace_punctuation(y), word_tokenize(x))) if i and i.lower() not in stopWords])"
   ]
  },
  {
   "cell_type": "code",
   "execution_count": 12,
   "metadata": {},
   "outputs": [],
   "source": [
    "df[\"right_page_title\"] = df[\"right_page_title\"].apply(lambda x : [i.lower() for i in list(map(lambda y: replace_punctuation(y), word_tokenize(x))) if i and i.lower() not in stopWords])"
   ]
  },
  {
   "cell_type": "markdown",
   "metadata": {},
   "source": [
    "## Model words"
   ]
  },
  {
   "cell_type": "code",
   "execution_count": 13,
   "metadata": {},
   "outputs": [],
   "source": [
    "import re\n",
    "pattern = re.compile(\"(\\S*[A-Za-z]\\S*[0-9]\\S*|\\S*[0-9]\\S*[A-Za-z]\\S*)\")"
   ]
  },
  {
   "cell_type": "code",
   "execution_count": 14,
   "metadata": {},
   "outputs": [],
   "source": [
    "brands = ['360fly', 'acer', 'achiever', 'acorn', 'action', 'actionpro', 'activeon', 'aee', 'agfa', 'agfaphoto', 'aiptek', 'akaso', 'alpine', 'alpine', 'amkov', 'andoer', 'annke', 'ansco', 'apeman', 'apex', 'apple', 'archos', 'argus', 'arlo', 'arri', 'axis', 'bell', 'benq', 'blackmagic', 'blackmagic', 'bosch', 'bower', 'brinno', 'brookstone', 'browning', 'cambo', 'campark', 'canon', 'carl', 'casio', 'celestron', 'chinon', 'cisco', 'cobra', 'coleman', 'concord', 'contax', 'contour', 'covert', 'craig', 'crayola', 'creative', 'creative', 'crosstour', 'crumpler', 'datavideo', 'delkin', 'dell', 'digitrex', 'discovery', 'disney', 'dji', 'd-link', 'domke', 'dörr', 'dragon', 'dsc', 'dxg', 'dxo', 'easypix', 'elecom', 'elmo', 'emerson', 'energizer', 'epson', 'fisher-price', 'flip', 'flir', 'foscam', 'fotoman', 'fotopro', 'fuji', 'fujifilm', 'fujinon', 'garmin', 'gateway', 'godox', 'goodmans', 'google', 'gopro', 'grundig', 'hahnel', 'hamilton', 'hasselblad', 'hello', 'herofiber', 'hitachi', 'holga', 'horseman', 'hoya', 'htc', 'huawei', 'ikelite', 'ilford', 'impossible', 'innovage', 'insignia', 'insta360', 'intel', 'intova', 'ion', 'iris', 'jazz', 'jenoptik', 'jjrc', 'jvc', 'kaiser', 'kenko', 'keyence', 'king', 'kitvision', 'kodak', 'konica', 'kyocera', 'leaf', 'lego', 'leica', 'lenovo', 'lexibook', 'linhof', 'liquid', 'little', 'logitech', 'lomography', 'lowepro', 'ltl', 'lumix', 'lytro', 'maginon', 'magnavox', 'mamiya', 'manfrotto', 'marshall', 'marumi', 'mattel', 'maxell', 'meade', 'medion', 'memorex', 'mercury', 'metz', 'microsoft', 'microtek', 'midland', 'minolta', 'minox', 'monster', 'motorola', 'moultrie', 'mustek', 'nabi', 'neewer', 'nest', 'netgear', 'night', 'nikkon', 'nikkor', 'nikon', 'nilox', 'nintendo', 'nippon', 'nokia', 'norcent', 'olympus', 'optech', 'ordro', 'oregon', 'packard', 'palm', 'panasonic', 'parrot', 'pelco', 'pentacon', 'pentax', 'phase', 'philips', 'philips', 'phoenix', 'pioneer', 'playskool', 'polaroid', 'polarpro', 'praktica', 'premier', 'promaster', 'proscan', 'pyle', 'radioshack', 'raymarine', 'raynox', 'rca', 'ricoh', 'ring', 'rode', 'rokinon', 'rollei', 'ryobi', 'sakar', 'samsung', 'sandisk', 'sanyo', 'schneider', 'schneider', 'schneider', 'scosche', 'seasea', 'sealife', 'sharp', 'sharper', 'sigma', 'sinar', 'sipix', 'sjcam', 'sony', 'soocoo', 'stealth', 'superheadz', 'svp', 'swann', 'tamrac', 'tamron', 'technika', 'tenba', 'think', 'thule', 'tokina', 'tomy', 'toshiba', 'transcend', 'traveler', 'trust', 'verbatim', 'vibe', 'victure', 'vistaquest', 'vivitar', 'voigtländer', 'vtech', 'vupoint', 'walimex', 'wyze', 'xiaomi', 'xit', 'xtreme', 'yashica', 'zeiss', 'zoom']"
   ]
  },
  {
   "cell_type": "code",
   "execution_count": 15,
   "metadata": {},
   "outputs": [],
   "source": [
    "df[\"left_page_title\"] = df[\"left_page_title\"].apply(lambda line : list(set(filter(lambda word : bool(pattern.match(word)) or word in brands,line))))"
   ]
  },
  {
   "cell_type": "code",
   "execution_count": 16,
   "metadata": {},
   "outputs": [],
   "source": [
    "df[\"right_page_title\"] = df[\"right_page_title\"].apply(lambda line : list(set(filter(lambda word : bool(pattern.match(word)) or word in brands,line))))"
   ]
  },
  {
   "cell_type": "code",
   "execution_count": 17,
   "metadata": {},
   "outputs": [],
   "source": [
    "ground_truth = df.loc[df['label'] == 1]"
   ]
  },
  {
   "cell_type": "code",
   "execution_count": 18,
   "metadata": {},
   "outputs": [
    {
     "data": {
      "text/html": [
       "<div>\n",
       "<style scoped>\n",
       "    .dataframe tbody tr th:only-of-type {\n",
       "        vertical-align: middle;\n",
       "    }\n",
       "\n",
       "    .dataframe tbody tr th {\n",
       "        vertical-align: top;\n",
       "    }\n",
       "\n",
       "    .dataframe thead th {\n",
       "        text-align: right;\n",
       "    }\n",
       "</style>\n",
       "<table border=\"1\" class=\"dataframe\">\n",
       "  <thead>\n",
       "    <tr style=\"text-align: right;\">\n",
       "      <th></th>\n",
       "      <th>left_spec_id</th>\n",
       "      <th>right_spec_id</th>\n",
       "      <th>label</th>\n",
       "      <th>left_page_title</th>\n",
       "      <th>right_page_title</th>\n",
       "    </tr>\n",
       "  </thead>\n",
       "  <tbody>\n",
       "    <tr>\n",
       "      <th>0</th>\n",
       "      <td>www.ebay.com//53278</td>\n",
       "      <td>www.garricks.com.au//31</td>\n",
       "      <td>1</td>\n",
       "      <td>[d3200, nikon, 55mm]</td>\n",
       "      <td>[d3200, nikon, 1855mm]</td>\n",
       "    </tr>\n",
       "    <tr>\n",
       "      <th>1</th>\n",
       "      <td>www.ebay.com//53278</td>\n",
       "      <td>www.priceme.co.nz//2246</td>\n",
       "      <td>0</td>\n",
       "      <td>[d3200, nikon, 55mm]</td>\n",
       "      <td>[1200d, canon]</td>\n",
       "    </tr>\n",
       "    <tr>\n",
       "      <th>2</th>\n",
       "      <td>www.ebay.com//53278</td>\n",
       "      <td>www.shopbot.com.au//1376</td>\n",
       "      <td>0</td>\n",
       "      <td>[d3200, nikon, 55mm]</td>\n",
       "      <td>[nikon, d7000, 18105mm]</td>\n",
       "    </tr>\n",
       "    <tr>\n",
       "      <th>3</th>\n",
       "      <td>www.ebay.com//53278</td>\n",
       "      <td>www.flipkart.com//2193</td>\n",
       "      <td>0</td>\n",
       "      <td>[d3200, nikon, 55mm]</td>\n",
       "      <td>[rs26500, s1855, 1200d, canon]</td>\n",
       "    </tr>\n",
       "    <tr>\n",
       "      <th>4</th>\n",
       "      <td>www.ebay.com//53278</td>\n",
       "      <td>www.ebay.com//58781</td>\n",
       "      <td>0</td>\n",
       "      <td>[d3200, nikon, 55mm]</td>\n",
       "      <td>[5d, canon]</td>\n",
       "    </tr>\n",
       "  </tbody>\n",
       "</table>\n",
       "</div>"
      ],
      "text/plain": [
       "          left_spec_id             right_spec_id  label       left_page_title  \\\n",
       "0  www.ebay.com//53278   www.garricks.com.au//31      1  [d3200, nikon, 55mm]   \n",
       "1  www.ebay.com//53278   www.priceme.co.nz//2246      0  [d3200, nikon, 55mm]   \n",
       "2  www.ebay.com//53278  www.shopbot.com.au//1376      0  [d3200, nikon, 55mm]   \n",
       "3  www.ebay.com//53278    www.flipkart.com//2193      0  [d3200, nikon, 55mm]   \n",
       "4  www.ebay.com//53278       www.ebay.com//58781      0  [d3200, nikon, 55mm]   \n",
       "\n",
       "                 right_page_title  \n",
       "0          [d3200, nikon, 1855mm]  \n",
       "1                  [1200d, canon]  \n",
       "2         [nikon, d7000, 18105mm]  \n",
       "3  [rs26500, s1855, 1200d, canon]  \n",
       "4                     [5d, canon]  "
      ]
     },
     "execution_count": 18,
     "metadata": {},
     "output_type": "execute_result"
    }
   ],
   "source": [
    "df.head()"
   ]
  },
  {
   "cell_type": "code",
   "execution_count": 26,
   "metadata": {},
   "outputs": [],
   "source": [
    "import time"
   ]
  },
  {
   "cell_type": "code",
   "execution_count": 27,
   "metadata": {},
   "outputs": [
    {
     "name": "stdout",
     "output_type": "stream",
     "text": [
      "30.684340953826904\n"
     ]
    }
   ],
   "source": [
    "t = time.time()\n",
    "commons = 0\n",
    "found_labels = []\n",
    "for index, row in df.iterrows():\n",
    "    for spec in row[\"left_page_title\"]:\n",
    "        if spec in row[\"right_page_title\"]:\n",
    "            commons += 1\n",
    "    if commons >= 2:\n",
    "        found_labels.append(1)\n",
    "    else:\n",
    "        found_labels.append(0)\n",
    "    commons = 0\n",
    "elapsed = time.time() - t\n",
    "print(elapsed)"
   ]
  },
  {
   "cell_type": "code",
   "execution_count": 21,
   "metadata": {},
   "outputs": [],
   "source": [
    "df[\"found_labels\"] = found_labels"
   ]
  },
  {
   "cell_type": "code",
   "execution_count": 23,
   "metadata": {},
   "outputs": [],
   "source": [
    "sum = 0\n",
    "for index, row in df.iterrows():\n",
    "    if row[\"label\"] == row[\"found_labels\"]:\n",
    "        sum += 1"
   ]
  },
  {
   "cell_type": "code",
   "execution_count": 32,
   "metadata": {},
   "outputs": [
    {
     "name": "stdout",
     "output_type": "stream",
     "text": [
      "0.9957569913211186\n"
     ]
    }
   ],
   "source": [
    "print(sum / len(df))"
   ]
  },
  {
   "cell_type": "code",
   "execution_count": 24,
   "metadata": {},
   "outputs": [
    {
     "name": "stdout",
     "output_type": "stream",
     "text": [
      "0.9980308532639349\n"
     ]
    }
   ],
   "source": [
    "print(sum / len(df))"
   ]
  },
  {
   "cell_type": "code",
   "execution_count": 25,
   "metadata": {},
   "outputs": [
    {
     "data": {
      "text/plain": [
       "303177"
      ]
     },
     "execution_count": 25,
     "metadata": {},
     "output_type": "execute_result"
    }
   ],
   "source": [
    "len(df)"
   ]
  },
  {
   "cell_type": "code",
   "execution_count": null,
   "metadata": {},
   "outputs": [],
   "source": []
  }
 ],
 "metadata": {
  "kernelspec": {
   "display_name": "Python 3",
   "language": "python",
   "name": "python3"
  },
  "language_info": {
   "codemirror_mode": {
    "name": "ipython",
    "version": 3
   },
   "file_extension": ".py",
   "mimetype": "text/x-python",
   "name": "python",
   "nbconvert_exporter": "python",
   "pygments_lexer": "ipython3",
   "version": "3.7.3"
  }
 },
 "nbformat": 4,
 "nbformat_minor": 4
}
