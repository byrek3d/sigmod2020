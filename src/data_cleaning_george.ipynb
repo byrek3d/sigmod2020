{
 "cells": [
  {
   "cell_type": "code",
   "execution_count": 9,
   "metadata": {},
   "outputs": [],
   "source": [
    "import os\n",
    "import numpy as np\n",
    "import json\n",
    "import pandas as pd\n",
    "import itertools\n",
    "from tqdm import tqdm\n",
    "import nltk\n",
    "from nltk.tokenize import word_tokenize\n",
    "import matplotlib.pyplot as plt"
   ]
  },
  {
   "cell_type": "code",
   "execution_count": 2,
   "metadata": {},
   "outputs": [],
   "source": [
    "def create_dataframe(dataset_path, source):\n",
    "    \"\"\"Function used to create a Pandas DataFrame containing specifications page titles\n",
    "\n",
    "    Reads products specifications from the file system (\"dataset_path\" variable in the main function) and creates a Pandas DataFrame where each row is a\n",
    "    specification. The columns are 'source' (e.g. www.sourceA.com), 'spec_number' (e.g. 1) and the 'page title'. Note that this script will consider only\n",
    "    the page title attribute for simplicity.\n",
    "\n",
    "    Args:\n",
    "        dataset_path (str): The path to the dataset\n",
    "\n",
    "    Returns:\n",
    "        df (pd.DataFrame): The Pandas DataFrame containing specifications and page titles\n",
    "    \"\"\"\n",
    "\n",
    "    print('>>> Creating dataframe...\\n')\n",
    "    columns_df = ['source', 'spec_number', 'spec_id', 'page_title']\n",
    "    \n",
    "    df = pd.DataFrame()\n",
    "    progressive_id = 0\n",
    "    progressive_id2row_df = {}\n",
    "    #for source in tqdm(os.listdir(dataset_path)):\n",
    "    #source = \"buy.net\"\n",
    "    for specification in os.listdir(os.path.join(dataset_path, source)):\n",
    "        specification_number = specification.replace('.json', '')\n",
    "        specification_id = '{}//{}'.format(source, specification_number)\n",
    "        with open(os.path.join(dataset_path, source, specification)) as specification_file:\n",
    "            columns_df = ['source', 'spec_number', 'spec_id']\n",
    "            specification_data = json.load(specification_file)\n",
    "            attrs = []\n",
    "            for k, v in specification_data.items():\n",
    "                columns_df.append(k)\n",
    "                attrs.append(v)\n",
    "            row = [source, specification_number, specification_id]\n",
    "            row.extend(attrs)\n",
    "            progressive_id2row_df.update({progressive_id: row})\n",
    "            progressive_id += 1\n",
    "            df = df.append(pd.DataFrame.from_dict(progressive_id2row_df, orient='index', columns=columns_df))\n",
    "            progressive_id2row_df = {}\n",
    "    #print(df)\n",
    "    print('>>> Dataframe created successfully!\\n')\n",
    "    return df"
   ]
  },
  {
   "cell_type": "code",
   "execution_count": 3,
   "metadata": {},
   "outputs": [
    {
     "name": "stdout",
     "output_type": "stream",
     "text": [
      ">>> Creating dataframe...\n",
      "\n"
     ]
    },
    {
     "name": "stderr",
     "output_type": "stream",
     "text": [
      "/Users/gfotiadis/anaconda3/lib/python3.7/site-packages/pandas/core/frame.py:6692: FutureWarning: Sorting because non-concatenation axis is not aligned. A future version\n",
      "of pandas will change to not sort by default.\n",
      "\n",
      "To accept the future behavior, pass 'sort=False'.\n",
      "\n",
      "To retain the current behavior and silence the warning, pass 'sort=True'.\n",
      "\n",
      "  sort=sort)\n"
     ]
    },
    {
     "name": "stdout",
     "output_type": "stream",
     "text": [
      ">>> Dataframe created successfully!\n",
      "\n"
     ]
    }
   ],
   "source": [
    "df = create_dataframe('../datasets/unlabeled/2013_camera_specs', \"buy.net\")"
   ]
  },
  {
   "cell_type": "code",
   "execution_count": 4,
   "metadata": {},
   "outputs": [
    {
     "data": {
      "text/html": [
       "<div>\n",
       "<style scoped>\n",
       "    .dataframe tbody tr th:only-of-type {\n",
       "        vertical-align: middle;\n",
       "    }\n",
       "\n",
       "    .dataframe tbody tr th {\n",
       "        vertical-align: top;\n",
       "    }\n",
       "\n",
       "    .dataframe thead th {\n",
       "        text-align: right;\n",
       "    }\n",
       "</style>\n",
       "<table border=\"1\" class=\"dataframe\">\n",
       "  <thead>\n",
       "    <tr style=\"text-align: right;\">\n",
       "      <th></th>\n",
       "      <th>&lt;page title&gt;</th>\n",
       "      <th>analog video out</th>\n",
       "      <th>autofocus points</th>\n",
       "      <th>battery builtin</th>\n",
       "      <th>battery include</th>\n",
       "      <th>battery model supported</th>\n",
       "      <th>battery rechargeable</th>\n",
       "      <th>brand name</th>\n",
       "      <th>builtin flash</th>\n",
       "      <th>bulb setting</th>\n",
       "      <th>...</th>\n",
       "      <th>video capture format</th>\n",
       "      <th>viewfinder type</th>\n",
       "      <th>warranty information</th>\n",
       "      <th>weight</th>\n",
       "      <th>white balance</th>\n",
       "      <th>white balance modes</th>\n",
       "      <th>wide angle</th>\n",
       "      <th>width</th>\n",
       "      <th>wifi</th>\n",
       "      <th>you are reviewing</th>\n",
       "    </tr>\n",
       "  </thead>\n",
       "  <tbody>\n",
       "    <tr>\n",
       "      <th>0</th>\n",
       "      <td>Canon PowerShot SX170 IS Red Digital Camera (1...</td>\n",
       "      <td>NaN</td>\n",
       "      <td>NaN</td>\n",
       "      <td>NaN</td>\n",
       "      <td>NaN</td>\n",
       "      <td>NaN</td>\n",
       "      <td>NaN</td>\n",
       "      <td>NaN</td>\n",
       "      <td>NaN</td>\n",
       "      <td>NaN</td>\n",
       "      <td>...</td>\n",
       "      <td>NaN</td>\n",
       "      <td>NaN</td>\n",
       "      <td>1 Year</td>\n",
       "      <td>8.04 oz</td>\n",
       "      <td>NaN</td>\n",
       "      <td>NaN</td>\n",
       "      <td>NaN</td>\n",
       "      <td>4.3 in</td>\n",
       "      <td>NaN</td>\n",
       "      <td>NaN</td>\n",
       "    </tr>\n",
       "    <tr>\n",
       "      <th>1</th>\n",
       "      <td>Leica V-LUX 4 Black Digital Camera (12.1 MP, 2...</td>\n",
       "      <td>NaN</td>\n",
       "      <td>NaN</td>\n",
       "      <td>NaN</td>\n",
       "      <td>NaN</td>\n",
       "      <td>NaN</td>\n",
       "      <td>NaN</td>\n",
       "      <td>NaN</td>\n",
       "      <td>NaN</td>\n",
       "      <td>NaN</td>\n",
       "      <td>...</td>\n",
       "      <td>NaN</td>\n",
       "      <td>NaN</td>\n",
       "      <td>NaN</td>\n",
       "      <td>1.30 lbs</td>\n",
       "      <td>NaN</td>\n",
       "      <td>NaN</td>\n",
       "      <td>NaN</td>\n",
       "      <td>4.9 in</td>\n",
       "      <td>NaN</td>\n",
       "      <td>NaN</td>\n",
       "    </tr>\n",
       "    <tr>\n",
       "      <th>2</th>\n",
       "      <td>Olympus Stylus SH-1 Silver Digital Camera (16 ...</td>\n",
       "      <td>NaN</td>\n",
       "      <td>NaN</td>\n",
       "      <td>NaN</td>\n",
       "      <td>NaN</td>\n",
       "      <td>NaN</td>\n",
       "      <td>NaN</td>\n",
       "      <td>NaN</td>\n",
       "      <td>NaN</td>\n",
       "      <td>NaN</td>\n",
       "      <td>...</td>\n",
       "      <td>NaN</td>\n",
       "      <td>NaN</td>\n",
       "      <td>1 year(s)</td>\n",
       "      <td>9.5 oz</td>\n",
       "      <td>NaN</td>\n",
       "      <td>NaN</td>\n",
       "      <td>NaN</td>\n",
       "      <td>4.3 in</td>\n",
       "      <td>Yes</td>\n",
       "      <td>NaN</td>\n",
       "    </tr>\n",
       "    <tr>\n",
       "      <th>3</th>\n",
       "      <td>Panasonic Lumix DMC-FX48 12.1 Megapixel Compac...</td>\n",
       "      <td>NaN</td>\n",
       "      <td>NaN</td>\n",
       "      <td>NaN</td>\n",
       "      <td>NaN</td>\n",
       "      <td>NaN</td>\n",
       "      <td>NaN</td>\n",
       "      <td>NaN</td>\n",
       "      <td>NaN</td>\n",
       "      <td>NaN</td>\n",
       "      <td>...</td>\n",
       "      <td>NaN</td>\n",
       "      <td>NaN</td>\n",
       "      <td>1 Year Limited</td>\n",
       "      <td>4.48 oz</td>\n",
       "      <td>NaN</td>\n",
       "      <td>NaN</td>\n",
       "      <td>NaN</td>\n",
       "      <td>3.8 in</td>\n",
       "      <td>NaN</td>\n",
       "      <td>NaN</td>\n",
       "    </tr>\n",
       "    <tr>\n",
       "      <th>4</th>\n",
       "      <td>Olympus VR-370 Black Digital Camera (16 MP, 12...</td>\n",
       "      <td>NaN</td>\n",
       "      <td>NaN</td>\n",
       "      <td>NaN</td>\n",
       "      <td>NaN</td>\n",
       "      <td>NaN</td>\n",
       "      <td>NaN</td>\n",
       "      <td>NaN</td>\n",
       "      <td>NaN</td>\n",
       "      <td>NaN</td>\n",
       "      <td>...</td>\n",
       "      <td>NaN</td>\n",
       "      <td>NaN</td>\n",
       "      <td>1 Year</td>\n",
       "      <td>6.07 oz</td>\n",
       "      <td>NaN</td>\n",
       "      <td>NaN</td>\n",
       "      <td>NaN</td>\n",
       "      <td>4.1 in</td>\n",
       "      <td>NaN</td>\n",
       "      <td>NaN</td>\n",
       "    </tr>\n",
       "  </tbody>\n",
       "</table>\n",
       "<p>5 rows × 104 columns</p>\n",
       "</div>"
      ],
      "text/plain": [
       "                                        <page title> analog video out  \\\n",
       "0  Canon PowerShot SX170 IS Red Digital Camera (1...              NaN   \n",
       "1  Leica V-LUX 4 Black Digital Camera (12.1 MP, 2...              NaN   \n",
       "2  Olympus Stylus SH-1 Silver Digital Camera (16 ...              NaN   \n",
       "3  Panasonic Lumix DMC-FX48 12.1 Megapixel Compac...              NaN   \n",
       "4  Olympus VR-370 Black Digital Camera (16 MP, 12...              NaN   \n",
       "\n",
       "  autofocus points battery builtin battery include battery model supported  \\\n",
       "0              NaN             NaN             NaN                     NaN   \n",
       "1              NaN             NaN             NaN                     NaN   \n",
       "2              NaN             NaN             NaN                     NaN   \n",
       "3              NaN             NaN             NaN                     NaN   \n",
       "4              NaN             NaN             NaN                     NaN   \n",
       "\n",
       "  battery rechargeable brand name builtin flash bulb setting  ...  \\\n",
       "0                  NaN        NaN           NaN          NaN  ...   \n",
       "1                  NaN        NaN           NaN          NaN  ...   \n",
       "2                  NaN        NaN           NaN          NaN  ...   \n",
       "3                  NaN        NaN           NaN          NaN  ...   \n",
       "4                  NaN        NaN           NaN          NaN  ...   \n",
       "\n",
       "  video capture format viewfinder type warranty information    weight  \\\n",
       "0                  NaN             NaN               1 Year   8.04 oz   \n",
       "1                  NaN             NaN                  NaN  1.30 lbs   \n",
       "2                  NaN             NaN            1 year(s)    9.5 oz   \n",
       "3                  NaN             NaN       1 Year Limited   4.48 oz   \n",
       "4                  NaN             NaN               1 Year   6.07 oz   \n",
       "\n",
       "  white balance white balance modes wide angle   width wifi you are reviewing  \n",
       "0           NaN                 NaN        NaN  4.3 in  NaN               NaN  \n",
       "1           NaN                 NaN        NaN  4.9 in  NaN               NaN  \n",
       "2           NaN                 NaN        NaN  4.3 in  Yes               NaN  \n",
       "3           NaN                 NaN        NaN  3.8 in  NaN               NaN  \n",
       "4           NaN                 NaN        NaN  4.1 in  NaN               NaN  \n",
       "\n",
       "[5 rows x 104 columns]"
      ]
     },
     "execution_count": 4,
     "metadata": {},
     "output_type": "execute_result"
    }
   ],
   "source": [
    "df.head()"
   ]
  },
  {
   "cell_type": "code",
   "execution_count": 5,
   "metadata": {},
   "outputs": [],
   "source": [
    "cols = [\"spec_id\", \"lcd screen size\", \"camera type\", \"effective megapixels\", \"height\", \"width\", \"depth\", \"weight\", \"total pixels\"]"
   ]
  },
  {
   "cell_type": "code",
   "execution_count": 6,
   "metadata": {},
   "outputs": [],
   "source": [
    "df = df[cols]"
   ]
  },
  {
   "cell_type": "markdown",
   "metadata": {},
   "source": [
    "### Screen size"
   ]
  },
  {
   "cell_type": "code",
   "execution_count": 7,
   "metadata": {},
   "outputs": [
    {
     "data": {
      "text/html": [
       "<div>\n",
       "<style scoped>\n",
       "    .dataframe tbody tr th:only-of-type {\n",
       "        vertical-align: middle;\n",
       "    }\n",
       "\n",
       "    .dataframe tbody tr th {\n",
       "        vertical-align: top;\n",
       "    }\n",
       "\n",
       "    .dataframe thead th {\n",
       "        text-align: right;\n",
       "    }\n",
       "</style>\n",
       "<table border=\"1\" class=\"dataframe\">\n",
       "  <thead>\n",
       "    <tr style=\"text-align: right;\">\n",
       "      <th></th>\n",
       "      <th>spec_id</th>\n",
       "      <th>lcd screen size</th>\n",
       "      <th>camera type</th>\n",
       "      <th>effective megapixels</th>\n",
       "      <th>height</th>\n",
       "      <th>width</th>\n",
       "      <th>depth</th>\n",
       "      <th>weight</th>\n",
       "      <th>total pixels</th>\n",
       "    </tr>\n",
       "  </thead>\n",
       "  <tbody>\n",
       "    <tr>\n",
       "      <th>0</th>\n",
       "      <td>buy.net//6036</td>\n",
       "      <td>3 in</td>\n",
       "      <td>Compact Camera</td>\n",
       "      <td>16 Megapixel</td>\n",
       "      <td>2.8 in</td>\n",
       "      <td>4.3 in</td>\n",
       "      <td>1.7 in</td>\n",
       "      <td>8.04 oz</td>\n",
       "      <td>16600000</td>\n",
       "    </tr>\n",
       "    <tr>\n",
       "      <th>1</th>\n",
       "      <td>buy.net//5860</td>\n",
       "      <td>3 in</td>\n",
       "      <td>Bridge Camera</td>\n",
       "      <td>12.1 Megapixel</td>\n",
       "      <td>3.4 in</td>\n",
       "      <td>4.9 in</td>\n",
       "      <td>4.3 in</td>\n",
       "      <td>1.30 lbs</td>\n",
       "      <td>12800000</td>\n",
       "    </tr>\n",
       "    <tr>\n",
       "      <th>2</th>\n",
       "      <td>buy.net//5925</td>\n",
       "      <td>3 in</td>\n",
       "      <td>Point &amp; Shoot Digital Camera</td>\n",
       "      <td>16000000 pixels</td>\n",
       "      <td>2.5 in</td>\n",
       "      <td>4.3 in</td>\n",
       "      <td>1.7 in</td>\n",
       "      <td>9.5 oz</td>\n",
       "      <td>NaN</td>\n",
       "    </tr>\n",
       "    <tr>\n",
       "      <th>3</th>\n",
       "      <td>buy.net//6061</td>\n",
       "      <td>2.5 in</td>\n",
       "      <td>Compact Camera</td>\n",
       "      <td>12.1 Megapixel</td>\n",
       "      <td>2.1 in</td>\n",
       "      <td>3.8 in</td>\n",
       "      <td>0.9 in</td>\n",
       "      <td>4.48 oz</td>\n",
       "      <td>12700000</td>\n",
       "    </tr>\n",
       "    <tr>\n",
       "      <th>4</th>\n",
       "      <td>buy.net//5837</td>\n",
       "      <td>3 in</td>\n",
       "      <td>Compact Camera</td>\n",
       "      <td>16 Megapixel</td>\n",
       "      <td>2.4 in</td>\n",
       "      <td>4.1 in</td>\n",
       "      <td>1.1 in</td>\n",
       "      <td>6.07 oz</td>\n",
       "      <td>16500000</td>\n",
       "    </tr>\n",
       "  </tbody>\n",
       "</table>\n",
       "</div>"
      ],
      "text/plain": [
       "         spec_id lcd screen size                   camera type  \\\n",
       "0  buy.net//6036            3 in                Compact Camera   \n",
       "1  buy.net//5860            3 in                 Bridge Camera   \n",
       "2  buy.net//5925            3 in  Point & Shoot Digital Camera   \n",
       "3  buy.net//6061          2.5 in                Compact Camera   \n",
       "4  buy.net//5837            3 in                Compact Camera   \n",
       "\n",
       "  effective megapixels  height   width   depth    weight total pixels  \n",
       "0         16 Megapixel  2.8 in  4.3 in  1.7 in   8.04 oz     16600000  \n",
       "1       12.1 Megapixel  3.4 in  4.9 in  4.3 in  1.30 lbs     12800000  \n",
       "2      16000000 pixels  2.5 in  4.3 in  1.7 in    9.5 oz          NaN  \n",
       "3       12.1 Megapixel  2.1 in  3.8 in  0.9 in   4.48 oz     12700000  \n",
       "4         16 Megapixel  2.4 in  4.1 in  1.1 in   6.07 oz     16500000  "
      ]
     },
     "execution_count": 7,
     "metadata": {},
     "output_type": "execute_result"
    }
   ],
   "source": [
    "df.head()"
   ]
  },
  {
   "cell_type": "code",
   "execution_count": 8,
   "metadata": {},
   "outputs": [],
   "source": [
    "screen_size = df[\"lcd screen size\"]"
   ]
  },
  {
   "cell_type": "code",
   "execution_count": 10,
   "metadata": {},
   "outputs": [],
   "source": [
    "def clean_size(value):\n",
    "    if pd.isna(value):\n",
    "        return value\n",
    "    else:\n",
    "        return word_tokenize(value)[1]"
   ]
  },
  {
   "cell_type": "code",
   "execution_count": 11,
   "metadata": {},
   "outputs": [
    {
     "data": {
      "text/plain": [
       "in    334\n",
       "Name: lcd screen size, dtype: int64"
      ]
     },
     "execution_count": 11,
     "metadata": {},
     "output_type": "execute_result"
    }
   ],
   "source": [
    "#screen size values FIX\n",
    "pd.Series(screen_size.apply(clean_size)).value_counts()"
   ]
  },
  {
   "cell_type": "code",
   "execution_count": 12,
   "metadata": {},
   "outputs": [
    {
     "data": {
      "text/plain": [
       "24"
      ]
     },
     "execution_count": 12,
     "metadata": {},
     "output_type": "execute_result"
    }
   ],
   "source": [
    "sum(pd.isna(screen_size))"
   ]
  },
  {
   "cell_type": "code",
   "execution_count": 13,
   "metadata": {},
   "outputs": [],
   "source": [
    "def keep_inches(value):\n",
    "    if pd.isna(value):\n",
    "        return value\n",
    "    else:\n",
    "        return word_tokenize(value)[0]"
   ]
  },
  {
   "cell_type": "code",
   "execution_count": 14,
   "metadata": {},
   "outputs": [],
   "source": [
    "df[\"lcd screen size\"] = df[\"lcd screen size\"].apply(keep_inches)"
   ]
  },
  {
   "cell_type": "code",
   "execution_count": 15,
   "metadata": {},
   "outputs": [
    {
     "data": {
      "text/html": [
       "<div>\n",
       "<style scoped>\n",
       "    .dataframe tbody tr th:only-of-type {\n",
       "        vertical-align: middle;\n",
       "    }\n",
       "\n",
       "    .dataframe tbody tr th {\n",
       "        vertical-align: top;\n",
       "    }\n",
       "\n",
       "    .dataframe thead th {\n",
       "        text-align: right;\n",
       "    }\n",
       "</style>\n",
       "<table border=\"1\" class=\"dataframe\">\n",
       "  <thead>\n",
       "    <tr style=\"text-align: right;\">\n",
       "      <th></th>\n",
       "      <th>spec_id</th>\n",
       "      <th>lcd screen size</th>\n",
       "      <th>camera type</th>\n",
       "      <th>effective megapixels</th>\n",
       "      <th>height</th>\n",
       "      <th>width</th>\n",
       "      <th>depth</th>\n",
       "      <th>weight</th>\n",
       "      <th>total pixels</th>\n",
       "    </tr>\n",
       "  </thead>\n",
       "  <tbody>\n",
       "    <tr>\n",
       "      <th>0</th>\n",
       "      <td>buy.net//6036</td>\n",
       "      <td>3</td>\n",
       "      <td>Compact Camera</td>\n",
       "      <td>16 Megapixel</td>\n",
       "      <td>2.8 in</td>\n",
       "      <td>4.3 in</td>\n",
       "      <td>1.7 in</td>\n",
       "      <td>8.04 oz</td>\n",
       "      <td>16600000</td>\n",
       "    </tr>\n",
       "    <tr>\n",
       "      <th>1</th>\n",
       "      <td>buy.net//5860</td>\n",
       "      <td>3</td>\n",
       "      <td>Bridge Camera</td>\n",
       "      <td>12.1 Megapixel</td>\n",
       "      <td>3.4 in</td>\n",
       "      <td>4.9 in</td>\n",
       "      <td>4.3 in</td>\n",
       "      <td>1.30 lbs</td>\n",
       "      <td>12800000</td>\n",
       "    </tr>\n",
       "    <tr>\n",
       "      <th>2</th>\n",
       "      <td>buy.net//5925</td>\n",
       "      <td>3</td>\n",
       "      <td>Point &amp; Shoot Digital Camera</td>\n",
       "      <td>16000000 pixels</td>\n",
       "      <td>2.5 in</td>\n",
       "      <td>4.3 in</td>\n",
       "      <td>1.7 in</td>\n",
       "      <td>9.5 oz</td>\n",
       "      <td>NaN</td>\n",
       "    </tr>\n",
       "    <tr>\n",
       "      <th>3</th>\n",
       "      <td>buy.net//6061</td>\n",
       "      <td>2.5</td>\n",
       "      <td>Compact Camera</td>\n",
       "      <td>12.1 Megapixel</td>\n",
       "      <td>2.1 in</td>\n",
       "      <td>3.8 in</td>\n",
       "      <td>0.9 in</td>\n",
       "      <td>4.48 oz</td>\n",
       "      <td>12700000</td>\n",
       "    </tr>\n",
       "    <tr>\n",
       "      <th>4</th>\n",
       "      <td>buy.net//5837</td>\n",
       "      <td>3</td>\n",
       "      <td>Compact Camera</td>\n",
       "      <td>16 Megapixel</td>\n",
       "      <td>2.4 in</td>\n",
       "      <td>4.1 in</td>\n",
       "      <td>1.1 in</td>\n",
       "      <td>6.07 oz</td>\n",
       "      <td>16500000</td>\n",
       "    </tr>\n",
       "  </tbody>\n",
       "</table>\n",
       "</div>"
      ],
      "text/plain": [
       "         spec_id lcd screen size                   camera type  \\\n",
       "0  buy.net//6036               3                Compact Camera   \n",
       "1  buy.net//5860               3                 Bridge Camera   \n",
       "2  buy.net//5925               3  Point & Shoot Digital Camera   \n",
       "3  buy.net//6061             2.5                Compact Camera   \n",
       "4  buy.net//5837               3                Compact Camera   \n",
       "\n",
       "  effective megapixels  height   width   depth    weight total pixels  \n",
       "0         16 Megapixel  2.8 in  4.3 in  1.7 in   8.04 oz     16600000  \n",
       "1       12.1 Megapixel  3.4 in  4.9 in  4.3 in  1.30 lbs     12800000  \n",
       "2      16000000 pixels  2.5 in  4.3 in  1.7 in    9.5 oz          NaN  \n",
       "3       12.1 Megapixel  2.1 in  3.8 in  0.9 in   4.48 oz     12700000  \n",
       "4         16 Megapixel  2.4 in  4.1 in  1.1 in   6.07 oz     16500000  "
      ]
     },
     "execution_count": 15,
     "metadata": {},
     "output_type": "execute_result"
    }
   ],
   "source": [
    "df.head()"
   ]
  },
  {
   "cell_type": "markdown",
   "metadata": {},
   "source": [
    "### Effective Megapixels"
   ]
  },
  {
   "cell_type": "code",
   "execution_count": 16,
   "metadata": {},
   "outputs": [
    {
     "data": {
      "text/plain": [
       "Megapixel    193\n",
       "pixels       139\n",
       "Name: effective megapixels, dtype: int64"
      ]
     },
     "execution_count": 16,
     "metadata": {},
     "output_type": "execute_result"
    }
   ],
   "source": [
    "#screen size values\n",
    "pd.Series(df[\"effective megapixels\"].apply(clean_size)).value_counts()"
   ]
  },
  {
   "cell_type": "code",
   "execution_count": 17,
   "metadata": {},
   "outputs": [],
   "source": [
    "def pixels_to_megapixels(value):\n",
    "    if pd.isna(value):\n",
    "        return value\n",
    "    else:\n",
    "        metric = word_tokenize(value)[1]\n",
    "        if metric == \"pixels\":\n",
    "            to_convert = word_tokenize(value)[0].replace(\",\", \"\")\n",
    "            return float((to_convert)) / (10 ** 6)\n",
    "        else:\n",
    "            return float(word_tokenize(value)[0])"
   ]
  },
  {
   "cell_type": "code",
   "execution_count": 18,
   "metadata": {},
   "outputs": [],
   "source": [
    "df[\"effective megapixels\"] = df[\"effective megapixels\"].apply(pixels_to_megapixels).head()"
   ]
  },
  {
   "cell_type": "code",
   "execution_count": 19,
   "metadata": {},
   "outputs": [
    {
     "data": {
      "text/html": [
       "<div>\n",
       "<style scoped>\n",
       "    .dataframe tbody tr th:only-of-type {\n",
       "        vertical-align: middle;\n",
       "    }\n",
       "\n",
       "    .dataframe tbody tr th {\n",
       "        vertical-align: top;\n",
       "    }\n",
       "\n",
       "    .dataframe thead th {\n",
       "        text-align: right;\n",
       "    }\n",
       "</style>\n",
       "<table border=\"1\" class=\"dataframe\">\n",
       "  <thead>\n",
       "    <tr style=\"text-align: right;\">\n",
       "      <th></th>\n",
       "      <th>spec_id</th>\n",
       "      <th>lcd screen size</th>\n",
       "      <th>camera type</th>\n",
       "      <th>effective megapixels</th>\n",
       "      <th>height</th>\n",
       "      <th>width</th>\n",
       "      <th>depth</th>\n",
       "      <th>weight</th>\n",
       "      <th>total pixels</th>\n",
       "    </tr>\n",
       "  </thead>\n",
       "  <tbody>\n",
       "    <tr>\n",
       "      <th>0</th>\n",
       "      <td>buy.net//6036</td>\n",
       "      <td>3</td>\n",
       "      <td>Compact Camera</td>\n",
       "      <td>16.0</td>\n",
       "      <td>2.8 in</td>\n",
       "      <td>4.3 in</td>\n",
       "      <td>1.7 in</td>\n",
       "      <td>8.04 oz</td>\n",
       "      <td>16600000</td>\n",
       "    </tr>\n",
       "    <tr>\n",
       "      <th>1</th>\n",
       "      <td>buy.net//5860</td>\n",
       "      <td>3</td>\n",
       "      <td>Bridge Camera</td>\n",
       "      <td>12.1</td>\n",
       "      <td>3.4 in</td>\n",
       "      <td>4.9 in</td>\n",
       "      <td>4.3 in</td>\n",
       "      <td>1.30 lbs</td>\n",
       "      <td>12800000</td>\n",
       "    </tr>\n",
       "    <tr>\n",
       "      <th>2</th>\n",
       "      <td>buy.net//5925</td>\n",
       "      <td>3</td>\n",
       "      <td>Point &amp; Shoot Digital Camera</td>\n",
       "      <td>16.0</td>\n",
       "      <td>2.5 in</td>\n",
       "      <td>4.3 in</td>\n",
       "      <td>1.7 in</td>\n",
       "      <td>9.5 oz</td>\n",
       "      <td>NaN</td>\n",
       "    </tr>\n",
       "    <tr>\n",
       "      <th>3</th>\n",
       "      <td>buy.net//6061</td>\n",
       "      <td>2.5</td>\n",
       "      <td>Compact Camera</td>\n",
       "      <td>12.1</td>\n",
       "      <td>2.1 in</td>\n",
       "      <td>3.8 in</td>\n",
       "      <td>0.9 in</td>\n",
       "      <td>4.48 oz</td>\n",
       "      <td>12700000</td>\n",
       "    </tr>\n",
       "    <tr>\n",
       "      <th>4</th>\n",
       "      <td>buy.net//5837</td>\n",
       "      <td>3</td>\n",
       "      <td>Compact Camera</td>\n",
       "      <td>16.0</td>\n",
       "      <td>2.4 in</td>\n",
       "      <td>4.1 in</td>\n",
       "      <td>1.1 in</td>\n",
       "      <td>6.07 oz</td>\n",
       "      <td>16500000</td>\n",
       "    </tr>\n",
       "  </tbody>\n",
       "</table>\n",
       "</div>"
      ],
      "text/plain": [
       "         spec_id lcd screen size                   camera type  \\\n",
       "0  buy.net//6036               3                Compact Camera   \n",
       "1  buy.net//5860               3                 Bridge Camera   \n",
       "2  buy.net//5925               3  Point & Shoot Digital Camera   \n",
       "3  buy.net//6061             2.5                Compact Camera   \n",
       "4  buy.net//5837               3                Compact Camera   \n",
       "\n",
       "   effective megapixels  height   width   depth    weight total pixels  \n",
       "0                  16.0  2.8 in  4.3 in  1.7 in   8.04 oz     16600000  \n",
       "1                  12.1  3.4 in  4.9 in  4.3 in  1.30 lbs     12800000  \n",
       "2                  16.0  2.5 in  4.3 in  1.7 in    9.5 oz          NaN  \n",
       "3                  12.1  2.1 in  3.8 in  0.9 in   4.48 oz     12700000  \n",
       "4                  16.0  2.4 in  4.1 in  1.1 in   6.07 oz     16500000  "
      ]
     },
     "execution_count": 19,
     "metadata": {},
     "output_type": "execute_result"
    }
   ],
   "source": [
    "df.head()"
   ]
  },
  {
   "cell_type": "markdown",
   "metadata": {},
   "source": [
    "### Height width depth"
   ]
  },
  {
   "cell_type": "code",
   "execution_count": 20,
   "metadata": {},
   "outputs": [
    {
     "data": {
      "text/plain": [
       "in    316\n",
       "mm      2\n",
       "Name: height, dtype: int64"
      ]
     },
     "execution_count": 20,
     "metadata": {},
     "output_type": "execute_result"
    }
   ],
   "source": [
    "pd.Series(df[\"height\"].apply(clean_size)).value_counts()"
   ]
  },
  {
   "cell_type": "code",
   "execution_count": 21,
   "metadata": {},
   "outputs": [
    {
     "data": {
      "text/plain": [
       "in    316\n",
       "mm      2\n",
       "Name: width, dtype: int64"
      ]
     },
     "execution_count": 21,
     "metadata": {},
     "output_type": "execute_result"
    }
   ],
   "source": [
    "pd.Series(df[\"width\"].apply(clean_size)).value_counts()"
   ]
  },
  {
   "cell_type": "code",
   "execution_count": 22,
   "metadata": {},
   "outputs": [
    {
     "data": {
      "text/plain": [
       "in    315\n",
       "mm      2\n",
       "Name: depth, dtype: int64"
      ]
     },
     "execution_count": 22,
     "metadata": {},
     "output_type": "execute_result"
    }
   ],
   "source": [
    "pd.Series(df[\"depth\"].apply(clean_size)).value_counts()"
   ]
  },
  {
   "cell_type": "code",
   "execution_count": 23,
   "metadata": {},
   "outputs": [],
   "source": [
    "for index, row in df.iterrows():\n",
    "    if pd.isna(row[\"height\"]) or pd.isna(row[\"width\"]) or pd.isna(row[\"depth\"]):\n",
    "        df.at[index, \"height\"] = np.nan\n",
    "        df.at[index, \"width\"] = np.nan\n",
    "        df.at[index, \"depth\"] = np.nan"
   ]
  },
  {
   "cell_type": "code",
   "execution_count": 24,
   "metadata": {},
   "outputs": [
    {
     "data": {
      "text/plain": [
       "358"
      ]
     },
     "execution_count": 24,
     "metadata": {},
     "output_type": "execute_result"
    }
   ],
   "source": [
    "len(df[\"depth\"])"
   ]
  },
  {
   "cell_type": "code",
   "execution_count": 25,
   "metadata": {},
   "outputs": [],
   "source": [
    "def mm_to_inches(value):\n",
    "    if pd.isna(value):\n",
    "        return value\n",
    "    else:\n",
    "        to_convert = word_tokenize(value)[0]\n",
    "        metric = word_tokenize(value)[1]\n",
    "        if metric == \"mm\":\n",
    "            return round(float(to_convert) / 25.4, 1)\n",
    "        else:\n",
    "            return float(to_convert)"
   ]
  },
  {
   "cell_type": "code",
   "execution_count": 26,
   "metadata": {},
   "outputs": [],
   "source": [
    "df[\"height\"] = df[\"height\"].apply(mm_to_inches)"
   ]
  },
  {
   "cell_type": "code",
   "execution_count": 27,
   "metadata": {},
   "outputs": [],
   "source": [
    "df[\"depth\"] = df[\"depth\"].apply(mm_to_inches)\n",
    "df[\"width\"] = df[\"width\"].apply(mm_to_inches)"
   ]
  },
  {
   "cell_type": "code",
   "execution_count": 28,
   "metadata": {},
   "outputs": [
    {
     "data": {
      "text/html": [
       "<div>\n",
       "<style scoped>\n",
       "    .dataframe tbody tr th:only-of-type {\n",
       "        vertical-align: middle;\n",
       "    }\n",
       "\n",
       "    .dataframe tbody tr th {\n",
       "        vertical-align: top;\n",
       "    }\n",
       "\n",
       "    .dataframe thead th {\n",
       "        text-align: right;\n",
       "    }\n",
       "</style>\n",
       "<table border=\"1\" class=\"dataframe\">\n",
       "  <thead>\n",
       "    <tr style=\"text-align: right;\">\n",
       "      <th></th>\n",
       "      <th>spec_id</th>\n",
       "      <th>lcd screen size</th>\n",
       "      <th>camera type</th>\n",
       "      <th>effective megapixels</th>\n",
       "      <th>height</th>\n",
       "      <th>width</th>\n",
       "      <th>depth</th>\n",
       "      <th>weight</th>\n",
       "      <th>total pixels</th>\n",
       "    </tr>\n",
       "  </thead>\n",
       "  <tbody>\n",
       "    <tr>\n",
       "      <th>0</th>\n",
       "      <td>buy.net//6036</td>\n",
       "      <td>3</td>\n",
       "      <td>Compact Camera</td>\n",
       "      <td>16.0</td>\n",
       "      <td>2.8</td>\n",
       "      <td>4.3</td>\n",
       "      <td>1.7</td>\n",
       "      <td>8.04 oz</td>\n",
       "      <td>16600000</td>\n",
       "    </tr>\n",
       "    <tr>\n",
       "      <th>1</th>\n",
       "      <td>buy.net//5860</td>\n",
       "      <td>3</td>\n",
       "      <td>Bridge Camera</td>\n",
       "      <td>12.1</td>\n",
       "      <td>3.4</td>\n",
       "      <td>4.9</td>\n",
       "      <td>4.3</td>\n",
       "      <td>1.30 lbs</td>\n",
       "      <td>12800000</td>\n",
       "    </tr>\n",
       "    <tr>\n",
       "      <th>2</th>\n",
       "      <td>buy.net//5925</td>\n",
       "      <td>3</td>\n",
       "      <td>Point &amp; Shoot Digital Camera</td>\n",
       "      <td>16.0</td>\n",
       "      <td>2.5</td>\n",
       "      <td>4.3</td>\n",
       "      <td>1.7</td>\n",
       "      <td>9.5 oz</td>\n",
       "      <td>NaN</td>\n",
       "    </tr>\n",
       "    <tr>\n",
       "      <th>3</th>\n",
       "      <td>buy.net//6061</td>\n",
       "      <td>2.5</td>\n",
       "      <td>Compact Camera</td>\n",
       "      <td>12.1</td>\n",
       "      <td>2.1</td>\n",
       "      <td>3.8</td>\n",
       "      <td>0.9</td>\n",
       "      <td>4.48 oz</td>\n",
       "      <td>12700000</td>\n",
       "    </tr>\n",
       "    <tr>\n",
       "      <th>4</th>\n",
       "      <td>buy.net//5837</td>\n",
       "      <td>3</td>\n",
       "      <td>Compact Camera</td>\n",
       "      <td>16.0</td>\n",
       "      <td>2.4</td>\n",
       "      <td>4.1</td>\n",
       "      <td>1.1</td>\n",
       "      <td>6.07 oz</td>\n",
       "      <td>16500000</td>\n",
       "    </tr>\n",
       "  </tbody>\n",
       "</table>\n",
       "</div>"
      ],
      "text/plain": [
       "         spec_id lcd screen size                   camera type  \\\n",
       "0  buy.net//6036               3                Compact Camera   \n",
       "1  buy.net//5860               3                 Bridge Camera   \n",
       "2  buy.net//5925               3  Point & Shoot Digital Camera   \n",
       "3  buy.net//6061             2.5                Compact Camera   \n",
       "4  buy.net//5837               3                Compact Camera   \n",
       "\n",
       "   effective megapixels  height  width  depth    weight total pixels  \n",
       "0                  16.0     2.8    4.3    1.7   8.04 oz     16600000  \n",
       "1                  12.1     3.4    4.9    4.3  1.30 lbs     12800000  \n",
       "2                  16.0     2.5    4.3    1.7    9.5 oz          NaN  \n",
       "3                  12.1     2.1    3.8    0.9   4.48 oz     12700000  \n",
       "4                  16.0     2.4    4.1    1.1   6.07 oz     16500000  "
      ]
     },
     "execution_count": 28,
     "metadata": {},
     "output_type": "execute_result"
    }
   ],
   "source": [
    "df.head()"
   ]
  },
  {
   "cell_type": "code",
   "execution_count": 29,
   "metadata": {},
   "outputs": [],
   "source": [
    "def merge_dimensions(row):\n",
    "    if pd.isna(row[\"height\"]) or pd.isna(row[\"width\"]) or pd.isna(row[\"depth\"]):\n",
    "        return np.nan\n",
    "    row[\"dimension\"] = 'h' + str(row[\"height\"]) + 'w' + str(row[\"width\"]) + \"d\" + str(row[\"depth\"])\n",
    "    return row"
   ]
  },
  {
   "cell_type": "code",
   "execution_count": 30,
   "metadata": {},
   "outputs": [],
   "source": [
    "df = df.apply(merge_dimensions, axis = 1)"
   ]
  },
  {
   "cell_type": "code",
   "execution_count": 31,
   "metadata": {},
   "outputs": [
    {
     "data": {
      "text/html": [
       "<div>\n",
       "<style scoped>\n",
       "    .dataframe tbody tr th:only-of-type {\n",
       "        vertical-align: middle;\n",
       "    }\n",
       "\n",
       "    .dataframe tbody tr th {\n",
       "        vertical-align: top;\n",
       "    }\n",
       "\n",
       "    .dataframe thead th {\n",
       "        text-align: right;\n",
       "    }\n",
       "</style>\n",
       "<table border=\"1\" class=\"dataframe\">\n",
       "  <thead>\n",
       "    <tr style=\"text-align: right;\">\n",
       "      <th></th>\n",
       "      <th>spec_id</th>\n",
       "      <th>lcd screen size</th>\n",
       "      <th>camera type</th>\n",
       "      <th>effective megapixels</th>\n",
       "      <th>height</th>\n",
       "      <th>width</th>\n",
       "      <th>depth</th>\n",
       "      <th>weight</th>\n",
       "      <th>total pixels</th>\n",
       "      <th>dimension</th>\n",
       "    </tr>\n",
       "  </thead>\n",
       "  <tbody>\n",
       "    <tr>\n",
       "      <th>0</th>\n",
       "      <td>buy.net//6036</td>\n",
       "      <td>3</td>\n",
       "      <td>Compact Camera</td>\n",
       "      <td>16.0</td>\n",
       "      <td>2.8</td>\n",
       "      <td>4.3</td>\n",
       "      <td>1.7</td>\n",
       "      <td>8.04 oz</td>\n",
       "      <td>16600000</td>\n",
       "      <td>h2.8w4.3d1.7</td>\n",
       "    </tr>\n",
       "    <tr>\n",
       "      <th>1</th>\n",
       "      <td>buy.net//5860</td>\n",
       "      <td>3</td>\n",
       "      <td>Bridge Camera</td>\n",
       "      <td>12.1</td>\n",
       "      <td>3.4</td>\n",
       "      <td>4.9</td>\n",
       "      <td>4.3</td>\n",
       "      <td>1.30 lbs</td>\n",
       "      <td>12800000</td>\n",
       "      <td>h3.4w4.9d4.3</td>\n",
       "    </tr>\n",
       "    <tr>\n",
       "      <th>2</th>\n",
       "      <td>buy.net//5925</td>\n",
       "      <td>3</td>\n",
       "      <td>Point &amp; Shoot Digital Camera</td>\n",
       "      <td>16.0</td>\n",
       "      <td>2.5</td>\n",
       "      <td>4.3</td>\n",
       "      <td>1.7</td>\n",
       "      <td>9.5 oz</td>\n",
       "      <td>NaN</td>\n",
       "      <td>h2.5w4.3d1.7</td>\n",
       "    </tr>\n",
       "    <tr>\n",
       "      <th>3</th>\n",
       "      <td>buy.net//6061</td>\n",
       "      <td>2.5</td>\n",
       "      <td>Compact Camera</td>\n",
       "      <td>12.1</td>\n",
       "      <td>2.1</td>\n",
       "      <td>3.8</td>\n",
       "      <td>0.9</td>\n",
       "      <td>4.48 oz</td>\n",
       "      <td>12700000</td>\n",
       "      <td>h2.1w3.8d0.9</td>\n",
       "    </tr>\n",
       "    <tr>\n",
       "      <th>4</th>\n",
       "      <td>buy.net//5837</td>\n",
       "      <td>3</td>\n",
       "      <td>Compact Camera</td>\n",
       "      <td>16.0</td>\n",
       "      <td>2.4</td>\n",
       "      <td>4.1</td>\n",
       "      <td>1.1</td>\n",
       "      <td>6.07 oz</td>\n",
       "      <td>16500000</td>\n",
       "      <td>h2.4w4.1d1.1</td>\n",
       "    </tr>\n",
       "  </tbody>\n",
       "</table>\n",
       "</div>"
      ],
      "text/plain": [
       "         spec_id lcd screen size                   camera type  \\\n",
       "0  buy.net//6036               3                Compact Camera   \n",
       "1  buy.net//5860               3                 Bridge Camera   \n",
       "2  buy.net//5925               3  Point & Shoot Digital Camera   \n",
       "3  buy.net//6061             2.5                Compact Camera   \n",
       "4  buy.net//5837               3                Compact Camera   \n",
       "\n",
       "   effective megapixels  height  width  depth    weight total pixels  \\\n",
       "0                  16.0     2.8    4.3    1.7   8.04 oz     16600000   \n",
       "1                  12.1     3.4    4.9    4.3  1.30 lbs     12800000   \n",
       "2                  16.0     2.5    4.3    1.7    9.5 oz          NaN   \n",
       "3                  12.1     2.1    3.8    0.9   4.48 oz     12700000   \n",
       "4                  16.0     2.4    4.1    1.1   6.07 oz     16500000   \n",
       "\n",
       "      dimension  \n",
       "0  h2.8w4.3d1.7  \n",
       "1  h3.4w4.9d4.3  \n",
       "2  h2.5w4.3d1.7  \n",
       "3  h2.1w3.8d0.9  \n",
       "4  h2.4w4.1d1.1  "
      ]
     },
     "execution_count": 31,
     "metadata": {},
     "output_type": "execute_result"
    }
   ],
   "source": [
    "df.head()"
   ]
  },
  {
   "cell_type": "markdown",
   "metadata": {},
   "source": [
    "### Weight"
   ]
  },
  {
   "cell_type": "code",
   "execution_count": 32,
   "metadata": {},
   "outputs": [
    {
     "data": {
      "text/plain": [
       "oz     252\n",
       "lbs     58\n",
       "g        3\n",
       "Name: weight, dtype: int64"
      ]
     },
     "execution_count": 32,
     "metadata": {},
     "output_type": "execute_result"
    }
   ],
   "source": [
    "pd.Series(df[\"weight\"].apply(clean_size)).value_counts()"
   ]
  },
  {
   "cell_type": "code",
   "execution_count": 33,
   "metadata": {},
   "outputs": [],
   "source": [
    "def weight_to_grams_conversion(value):\n",
    "    if pd.isna(value):\n",
    "        return value\n",
    "    else:\n",
    "        to_convert = word_tokenize(value)[0]\n",
    "        metric = word_tokenize(value)[1]\n",
    "        if metric == \"oz\":\n",
    "            return int(round(float(to_convert) * 28.35))\n",
    "        elif metric == \"lbs\":\n",
    "            return int(round(float(to_convert) * 454))\n",
    "        else:\n",
    "            return int(round(float(to_convert)))"
   ]
  },
  {
   "cell_type": "code",
   "execution_count": 34,
   "metadata": {},
   "outputs": [],
   "source": [
    "df[\"weight\"] = df[\"weight\"].apply(weight_to_grams_conversion)"
   ]
  },
  {
   "cell_type": "code",
   "execution_count": 35,
   "metadata": {},
   "outputs": [
    {
     "data": {
      "text/html": [
       "<div>\n",
       "<style scoped>\n",
       "    .dataframe tbody tr th:only-of-type {\n",
       "        vertical-align: middle;\n",
       "    }\n",
       "\n",
       "    .dataframe tbody tr th {\n",
       "        vertical-align: top;\n",
       "    }\n",
       "\n",
       "    .dataframe thead th {\n",
       "        text-align: right;\n",
       "    }\n",
       "</style>\n",
       "<table border=\"1\" class=\"dataframe\">\n",
       "  <thead>\n",
       "    <tr style=\"text-align: right;\">\n",
       "      <th></th>\n",
       "      <th>spec_id</th>\n",
       "      <th>lcd screen size</th>\n",
       "      <th>camera type</th>\n",
       "      <th>effective megapixels</th>\n",
       "      <th>height</th>\n",
       "      <th>width</th>\n",
       "      <th>depth</th>\n",
       "      <th>weight</th>\n",
       "      <th>total pixels</th>\n",
       "      <th>dimension</th>\n",
       "    </tr>\n",
       "  </thead>\n",
       "  <tbody>\n",
       "    <tr>\n",
       "      <th>0</th>\n",
       "      <td>buy.net//6036</td>\n",
       "      <td>3</td>\n",
       "      <td>Compact Camera</td>\n",
       "      <td>16.0</td>\n",
       "      <td>2.8</td>\n",
       "      <td>4.3</td>\n",
       "      <td>1.7</td>\n",
       "      <td>228.0</td>\n",
       "      <td>16600000</td>\n",
       "      <td>h2.8w4.3d1.7</td>\n",
       "    </tr>\n",
       "    <tr>\n",
       "      <th>1</th>\n",
       "      <td>buy.net//5860</td>\n",
       "      <td>3</td>\n",
       "      <td>Bridge Camera</td>\n",
       "      <td>12.1</td>\n",
       "      <td>3.4</td>\n",
       "      <td>4.9</td>\n",
       "      <td>4.3</td>\n",
       "      <td>590.0</td>\n",
       "      <td>12800000</td>\n",
       "      <td>h3.4w4.9d4.3</td>\n",
       "    </tr>\n",
       "    <tr>\n",
       "      <th>2</th>\n",
       "      <td>buy.net//5925</td>\n",
       "      <td>3</td>\n",
       "      <td>Point &amp; Shoot Digital Camera</td>\n",
       "      <td>16.0</td>\n",
       "      <td>2.5</td>\n",
       "      <td>4.3</td>\n",
       "      <td>1.7</td>\n",
       "      <td>269.0</td>\n",
       "      <td>NaN</td>\n",
       "      <td>h2.5w4.3d1.7</td>\n",
       "    </tr>\n",
       "    <tr>\n",
       "      <th>3</th>\n",
       "      <td>buy.net//6061</td>\n",
       "      <td>2.5</td>\n",
       "      <td>Compact Camera</td>\n",
       "      <td>12.1</td>\n",
       "      <td>2.1</td>\n",
       "      <td>3.8</td>\n",
       "      <td>0.9</td>\n",
       "      <td>127.0</td>\n",
       "      <td>12700000</td>\n",
       "      <td>h2.1w3.8d0.9</td>\n",
       "    </tr>\n",
       "    <tr>\n",
       "      <th>4</th>\n",
       "      <td>buy.net//5837</td>\n",
       "      <td>3</td>\n",
       "      <td>Compact Camera</td>\n",
       "      <td>16.0</td>\n",
       "      <td>2.4</td>\n",
       "      <td>4.1</td>\n",
       "      <td>1.1</td>\n",
       "      <td>172.0</td>\n",
       "      <td>16500000</td>\n",
       "      <td>h2.4w4.1d1.1</td>\n",
       "    </tr>\n",
       "  </tbody>\n",
       "</table>\n",
       "</div>"
      ],
      "text/plain": [
       "         spec_id lcd screen size                   camera type  \\\n",
       "0  buy.net//6036               3                Compact Camera   \n",
       "1  buy.net//5860               3                 Bridge Camera   \n",
       "2  buy.net//5925               3  Point & Shoot Digital Camera   \n",
       "3  buy.net//6061             2.5                Compact Camera   \n",
       "4  buy.net//5837               3                Compact Camera   \n",
       "\n",
       "   effective megapixels  height  width  depth  weight total pixels  \\\n",
       "0                  16.0     2.8    4.3    1.7   228.0     16600000   \n",
       "1                  12.1     3.4    4.9    4.3   590.0     12800000   \n",
       "2                  16.0     2.5    4.3    1.7   269.0          NaN   \n",
       "3                  12.1     2.1    3.8    0.9   127.0     12700000   \n",
       "4                  16.0     2.4    4.1    1.1   172.0     16500000   \n",
       "\n",
       "      dimension  \n",
       "0  h2.8w4.3d1.7  \n",
       "1  h3.4w4.9d4.3  \n",
       "2  h2.5w4.3d1.7  \n",
       "3  h2.1w3.8d0.9  \n",
       "4  h2.4w4.1d1.1  "
      ]
     },
     "execution_count": 35,
     "metadata": {},
     "output_type": "execute_result"
    }
   ],
   "source": [
    "df.head()"
   ]
  },
  {
   "cell_type": "markdown",
   "metadata": {},
   "source": [
    "### Camera type"
   ]
  },
  {
   "cell_type": "code",
   "execution_count": 41,
   "metadata": {},
   "outputs": [],
   "source": [
    "def clean_camera_type(camera):\n",
    "    if pd.isna(camera):\n",
    "        return camera\n",
    "    else:\n",
    "        punctuation = \"!#$%&'()*+,-./:;<=>?@[\\]^_`{|}~€£¥₹₽\"\n",
    "        for p in punctuation:\n",
    "            camera = camera.replace(p, \"\")\n",
    "        return camera.lower()"
   ]
  },
  {
   "cell_type": "code",
   "execution_count": 42,
   "metadata": {},
   "outputs": [],
   "source": [
    "df[\"camera type\"] = df[\"camera type\"].apply(clean_camera_type)"
   ]
  },
  {
   "cell_type": "code",
   "execution_count": 43,
   "metadata": {},
   "outputs": [
    {
     "data": {
      "text/html": [
       "<div>\n",
       "<style scoped>\n",
       "    .dataframe tbody tr th:only-of-type {\n",
       "        vertical-align: middle;\n",
       "    }\n",
       "\n",
       "    .dataframe tbody tr th {\n",
       "        vertical-align: top;\n",
       "    }\n",
       "\n",
       "    .dataframe thead th {\n",
       "        text-align: right;\n",
       "    }\n",
       "</style>\n",
       "<table border=\"1\" class=\"dataframe\">\n",
       "  <thead>\n",
       "    <tr style=\"text-align: right;\">\n",
       "      <th></th>\n",
       "      <th>spec_id</th>\n",
       "      <th>lcd screen size</th>\n",
       "      <th>camera type</th>\n",
       "      <th>effective megapixels</th>\n",
       "      <th>weight</th>\n",
       "      <th>dimension</th>\n",
       "    </tr>\n",
       "  </thead>\n",
       "  <tbody>\n",
       "    <tr>\n",
       "      <th>0</th>\n",
       "      <td>buy.net//6036</td>\n",
       "      <td>3</td>\n",
       "      <td>compact camera</td>\n",
       "      <td>16.0</td>\n",
       "      <td>228.0</td>\n",
       "      <td>h2.8w4.3d1.7</td>\n",
       "    </tr>\n",
       "    <tr>\n",
       "      <th>1</th>\n",
       "      <td>buy.net//5860</td>\n",
       "      <td>3</td>\n",
       "      <td>bridge camera</td>\n",
       "      <td>12.1</td>\n",
       "      <td>590.0</td>\n",
       "      <td>h3.4w4.9d4.3</td>\n",
       "    </tr>\n",
       "    <tr>\n",
       "      <th>2</th>\n",
       "      <td>buy.net//5925</td>\n",
       "      <td>3</td>\n",
       "      <td>point  shoot digital camera</td>\n",
       "      <td>16.0</td>\n",
       "      <td>269.0</td>\n",
       "      <td>h2.5w4.3d1.7</td>\n",
       "    </tr>\n",
       "    <tr>\n",
       "      <th>3</th>\n",
       "      <td>buy.net//6061</td>\n",
       "      <td>2.5</td>\n",
       "      <td>compact camera</td>\n",
       "      <td>12.1</td>\n",
       "      <td>127.0</td>\n",
       "      <td>h2.1w3.8d0.9</td>\n",
       "    </tr>\n",
       "    <tr>\n",
       "      <th>4</th>\n",
       "      <td>buy.net//5837</td>\n",
       "      <td>3</td>\n",
       "      <td>compact camera</td>\n",
       "      <td>16.0</td>\n",
       "      <td>172.0</td>\n",
       "      <td>h2.4w4.1d1.1</td>\n",
       "    </tr>\n",
       "  </tbody>\n",
       "</table>\n",
       "</div>"
      ],
      "text/plain": [
       "         spec_id lcd screen size                  camera type  \\\n",
       "0  buy.net//6036               3               compact camera   \n",
       "1  buy.net//5860               3                bridge camera   \n",
       "2  buy.net//5925               3  point  shoot digital camera   \n",
       "3  buy.net//6061             2.5               compact camera   \n",
       "4  buy.net//5837               3               compact camera   \n",
       "\n",
       "   effective megapixels  weight     dimension  \n",
       "0                  16.0   228.0  h2.8w4.3d1.7  \n",
       "1                  12.1   590.0  h3.4w4.9d4.3  \n",
       "2                  16.0   269.0  h2.5w4.3d1.7  \n",
       "3                  12.1   127.0  h2.1w3.8d0.9  \n",
       "4                  16.0   172.0  h2.4w4.1d1.1  "
      ]
     },
     "execution_count": 43,
     "metadata": {},
     "output_type": "execute_result"
    }
   ],
   "source": [
    "df.head()"
   ]
  },
  {
   "cell_type": "markdown",
   "metadata": {},
   "source": [
    "### Final cleaning"
   ]
  },
  {
   "cell_type": "code",
   "execution_count": 44,
   "metadata": {},
   "outputs": [
    {
     "ename": "KeyError",
     "evalue": "\"['height' 'width' 'depth' 'total pixels'] not found in axis\"",
     "output_type": "error",
     "traceback": [
      "\u001b[0;31m---------------------------------------------------------------------------\u001b[0m",
      "\u001b[0;31mKeyError\u001b[0m                                  Traceback (most recent call last)",
      "\u001b[0;32m<ipython-input-44-f53109991aad>\u001b[0m in \u001b[0;36m<module>\u001b[0;34m\u001b[0m\n\u001b[0;32m----> 1\u001b[0;31m \u001b[0mdf\u001b[0m \u001b[0;34m=\u001b[0m \u001b[0mdf\u001b[0m\u001b[0;34m.\u001b[0m\u001b[0mdrop\u001b[0m\u001b[0;34m(\u001b[0m\u001b[0;34m[\u001b[0m\u001b[0;34m\"height\"\u001b[0m\u001b[0;34m,\u001b[0m \u001b[0;34m\"width\"\u001b[0m\u001b[0;34m,\u001b[0m \u001b[0;34m\"depth\"\u001b[0m\u001b[0;34m,\u001b[0m \u001b[0;34m\"total pixels\"\u001b[0m\u001b[0;34m]\u001b[0m\u001b[0;34m,\u001b[0m \u001b[0maxis\u001b[0m \u001b[0;34m=\u001b[0m \u001b[0;36m1\u001b[0m\u001b[0;34m)\u001b[0m\u001b[0;34m\u001b[0m\u001b[0;34m\u001b[0m\u001b[0m\n\u001b[0m",
      "\u001b[0;32m~/anaconda3/lib/python3.7/site-packages/pandas/core/frame.py\u001b[0m in \u001b[0;36mdrop\u001b[0;34m(self, labels, axis, index, columns, level, inplace, errors)\u001b[0m\n\u001b[1;32m   3938\u001b[0m                                            \u001b[0mindex\u001b[0m\u001b[0;34m=\u001b[0m\u001b[0mindex\u001b[0m\u001b[0;34m,\u001b[0m \u001b[0mcolumns\u001b[0m\u001b[0;34m=\u001b[0m\u001b[0mcolumns\u001b[0m\u001b[0;34m,\u001b[0m\u001b[0;34m\u001b[0m\u001b[0;34m\u001b[0m\u001b[0m\n\u001b[1;32m   3939\u001b[0m                                            \u001b[0mlevel\u001b[0m\u001b[0;34m=\u001b[0m\u001b[0mlevel\u001b[0m\u001b[0;34m,\u001b[0m \u001b[0minplace\u001b[0m\u001b[0;34m=\u001b[0m\u001b[0minplace\u001b[0m\u001b[0;34m,\u001b[0m\u001b[0;34m\u001b[0m\u001b[0;34m\u001b[0m\u001b[0m\n\u001b[0;32m-> 3940\u001b[0;31m                                            errors=errors)\n\u001b[0m\u001b[1;32m   3941\u001b[0m \u001b[0;34m\u001b[0m\u001b[0m\n\u001b[1;32m   3942\u001b[0m     @rewrite_axis_style_signature('mapper', [('copy', True),\n",
      "\u001b[0;32m~/anaconda3/lib/python3.7/site-packages/pandas/core/generic.py\u001b[0m in \u001b[0;36mdrop\u001b[0;34m(self, labels, axis, index, columns, level, inplace, errors)\u001b[0m\n\u001b[1;32m   3778\u001b[0m         \u001b[0;32mfor\u001b[0m \u001b[0maxis\u001b[0m\u001b[0;34m,\u001b[0m \u001b[0mlabels\u001b[0m \u001b[0;32min\u001b[0m \u001b[0maxes\u001b[0m\u001b[0;34m.\u001b[0m\u001b[0mitems\u001b[0m\u001b[0;34m(\u001b[0m\u001b[0;34m)\u001b[0m\u001b[0;34m:\u001b[0m\u001b[0;34m\u001b[0m\u001b[0;34m\u001b[0m\u001b[0m\n\u001b[1;32m   3779\u001b[0m             \u001b[0;32mif\u001b[0m \u001b[0mlabels\u001b[0m \u001b[0;32mis\u001b[0m \u001b[0;32mnot\u001b[0m \u001b[0;32mNone\u001b[0m\u001b[0;34m:\u001b[0m\u001b[0;34m\u001b[0m\u001b[0;34m\u001b[0m\u001b[0m\n\u001b[0;32m-> 3780\u001b[0;31m                 \u001b[0mobj\u001b[0m \u001b[0;34m=\u001b[0m \u001b[0mobj\u001b[0m\u001b[0;34m.\u001b[0m\u001b[0m_drop_axis\u001b[0m\u001b[0;34m(\u001b[0m\u001b[0mlabels\u001b[0m\u001b[0;34m,\u001b[0m \u001b[0maxis\u001b[0m\u001b[0;34m,\u001b[0m \u001b[0mlevel\u001b[0m\u001b[0;34m=\u001b[0m\u001b[0mlevel\u001b[0m\u001b[0;34m,\u001b[0m \u001b[0merrors\u001b[0m\u001b[0;34m=\u001b[0m\u001b[0merrors\u001b[0m\u001b[0;34m)\u001b[0m\u001b[0;34m\u001b[0m\u001b[0;34m\u001b[0m\u001b[0m\n\u001b[0m\u001b[1;32m   3781\u001b[0m \u001b[0;34m\u001b[0m\u001b[0m\n\u001b[1;32m   3782\u001b[0m         \u001b[0;32mif\u001b[0m \u001b[0minplace\u001b[0m\u001b[0;34m:\u001b[0m\u001b[0;34m\u001b[0m\u001b[0;34m\u001b[0m\u001b[0m\n",
      "\u001b[0;32m~/anaconda3/lib/python3.7/site-packages/pandas/core/generic.py\u001b[0m in \u001b[0;36m_drop_axis\u001b[0;34m(self, labels, axis, level, errors)\u001b[0m\n\u001b[1;32m   3810\u001b[0m                 \u001b[0mnew_axis\u001b[0m \u001b[0;34m=\u001b[0m \u001b[0maxis\u001b[0m\u001b[0;34m.\u001b[0m\u001b[0mdrop\u001b[0m\u001b[0;34m(\u001b[0m\u001b[0mlabels\u001b[0m\u001b[0;34m,\u001b[0m \u001b[0mlevel\u001b[0m\u001b[0;34m=\u001b[0m\u001b[0mlevel\u001b[0m\u001b[0;34m,\u001b[0m \u001b[0merrors\u001b[0m\u001b[0;34m=\u001b[0m\u001b[0merrors\u001b[0m\u001b[0;34m)\u001b[0m\u001b[0;34m\u001b[0m\u001b[0;34m\u001b[0m\u001b[0m\n\u001b[1;32m   3811\u001b[0m             \u001b[0;32melse\u001b[0m\u001b[0;34m:\u001b[0m\u001b[0;34m\u001b[0m\u001b[0;34m\u001b[0m\u001b[0m\n\u001b[0;32m-> 3812\u001b[0;31m                 \u001b[0mnew_axis\u001b[0m \u001b[0;34m=\u001b[0m \u001b[0maxis\u001b[0m\u001b[0;34m.\u001b[0m\u001b[0mdrop\u001b[0m\u001b[0;34m(\u001b[0m\u001b[0mlabels\u001b[0m\u001b[0;34m,\u001b[0m \u001b[0merrors\u001b[0m\u001b[0;34m=\u001b[0m\u001b[0merrors\u001b[0m\u001b[0;34m)\u001b[0m\u001b[0;34m\u001b[0m\u001b[0;34m\u001b[0m\u001b[0m\n\u001b[0m\u001b[1;32m   3813\u001b[0m             \u001b[0mresult\u001b[0m \u001b[0;34m=\u001b[0m \u001b[0mself\u001b[0m\u001b[0;34m.\u001b[0m\u001b[0mreindex\u001b[0m\u001b[0;34m(\u001b[0m\u001b[0;34m**\u001b[0m\u001b[0;34m{\u001b[0m\u001b[0maxis_name\u001b[0m\u001b[0;34m:\u001b[0m \u001b[0mnew_axis\u001b[0m\u001b[0;34m}\u001b[0m\u001b[0;34m)\u001b[0m\u001b[0;34m\u001b[0m\u001b[0;34m\u001b[0m\u001b[0m\n\u001b[1;32m   3814\u001b[0m \u001b[0;34m\u001b[0m\u001b[0m\n",
      "\u001b[0;32m~/anaconda3/lib/python3.7/site-packages/pandas/core/indexes/base.py\u001b[0m in \u001b[0;36mdrop\u001b[0;34m(self, labels, errors)\u001b[0m\n\u001b[1;32m   4963\u001b[0m             \u001b[0;32mif\u001b[0m \u001b[0merrors\u001b[0m \u001b[0;34m!=\u001b[0m \u001b[0;34m'ignore'\u001b[0m\u001b[0;34m:\u001b[0m\u001b[0;34m\u001b[0m\u001b[0;34m\u001b[0m\u001b[0m\n\u001b[1;32m   4964\u001b[0m                 raise KeyError(\n\u001b[0;32m-> 4965\u001b[0;31m                     '{} not found in axis'.format(labels[mask]))\n\u001b[0m\u001b[1;32m   4966\u001b[0m             \u001b[0mindexer\u001b[0m \u001b[0;34m=\u001b[0m \u001b[0mindexer\u001b[0m\u001b[0;34m[\u001b[0m\u001b[0;34m~\u001b[0m\u001b[0mmask\u001b[0m\u001b[0;34m]\u001b[0m\u001b[0;34m\u001b[0m\u001b[0;34m\u001b[0m\u001b[0m\n\u001b[1;32m   4967\u001b[0m         \u001b[0;32mreturn\u001b[0m \u001b[0mself\u001b[0m\u001b[0;34m.\u001b[0m\u001b[0mdelete\u001b[0m\u001b[0;34m(\u001b[0m\u001b[0mindexer\u001b[0m\u001b[0;34m)\u001b[0m\u001b[0;34m\u001b[0m\u001b[0;34m\u001b[0m\u001b[0m\n",
      "\u001b[0;31mKeyError\u001b[0m: \"['height' 'width' 'depth' 'total pixels'] not found in axis\""
     ]
    }
   ],
   "source": [
    "df = df.drop([\"height\", \"width\", \"depth\", \"total pixels\"], axis = 1)"
   ]
  },
  {
   "cell_type": "code",
   "execution_count": 45,
   "metadata": {},
   "outputs": [
    {
     "data": {
      "text/html": [
       "<div>\n",
       "<style scoped>\n",
       "    .dataframe tbody tr th:only-of-type {\n",
       "        vertical-align: middle;\n",
       "    }\n",
       "\n",
       "    .dataframe tbody tr th {\n",
       "        vertical-align: top;\n",
       "    }\n",
       "\n",
       "    .dataframe thead th {\n",
       "        text-align: right;\n",
       "    }\n",
       "</style>\n",
       "<table border=\"1\" class=\"dataframe\">\n",
       "  <thead>\n",
       "    <tr style=\"text-align: right;\">\n",
       "      <th></th>\n",
       "      <th>spec_id</th>\n",
       "      <th>lcd screen size</th>\n",
       "      <th>camera type</th>\n",
       "      <th>effective megapixels</th>\n",
       "      <th>weight</th>\n",
       "      <th>dimension</th>\n",
       "    </tr>\n",
       "  </thead>\n",
       "  <tbody>\n",
       "    <tr>\n",
       "      <th>0</th>\n",
       "      <td>buy.net//6036</td>\n",
       "      <td>3</td>\n",
       "      <td>compact camera</td>\n",
       "      <td>16.0</td>\n",
       "      <td>228.0</td>\n",
       "      <td>h2.8w4.3d1.7</td>\n",
       "    </tr>\n",
       "    <tr>\n",
       "      <th>1</th>\n",
       "      <td>buy.net//5860</td>\n",
       "      <td>3</td>\n",
       "      <td>bridge camera</td>\n",
       "      <td>12.1</td>\n",
       "      <td>590.0</td>\n",
       "      <td>h3.4w4.9d4.3</td>\n",
       "    </tr>\n",
       "    <tr>\n",
       "      <th>2</th>\n",
       "      <td>buy.net//5925</td>\n",
       "      <td>3</td>\n",
       "      <td>point  shoot digital camera</td>\n",
       "      <td>16.0</td>\n",
       "      <td>269.0</td>\n",
       "      <td>h2.5w4.3d1.7</td>\n",
       "    </tr>\n",
       "    <tr>\n",
       "      <th>3</th>\n",
       "      <td>buy.net//6061</td>\n",
       "      <td>2.5</td>\n",
       "      <td>compact camera</td>\n",
       "      <td>12.1</td>\n",
       "      <td>127.0</td>\n",
       "      <td>h2.1w3.8d0.9</td>\n",
       "    </tr>\n",
       "    <tr>\n",
       "      <th>4</th>\n",
       "      <td>buy.net//5837</td>\n",
       "      <td>3</td>\n",
       "      <td>compact camera</td>\n",
       "      <td>16.0</td>\n",
       "      <td>172.0</td>\n",
       "      <td>h2.4w4.1d1.1</td>\n",
       "    </tr>\n",
       "  </tbody>\n",
       "</table>\n",
       "</div>"
      ],
      "text/plain": [
       "         spec_id lcd screen size                  camera type  \\\n",
       "0  buy.net//6036               3               compact camera   \n",
       "1  buy.net//5860               3                bridge camera   \n",
       "2  buy.net//5925               3  point  shoot digital camera   \n",
       "3  buy.net//6061             2.5               compact camera   \n",
       "4  buy.net//5837               3               compact camera   \n",
       "\n",
       "   effective megapixels  weight     dimension  \n",
       "0                  16.0   228.0  h2.8w4.3d1.7  \n",
       "1                  12.1   590.0  h3.4w4.9d4.3  \n",
       "2                  16.0   269.0  h2.5w4.3d1.7  \n",
       "3                  12.1   127.0  h2.1w3.8d0.9  \n",
       "4                  16.0   172.0  h2.4w4.1d1.1  "
      ]
     },
     "execution_count": 45,
     "metadata": {},
     "output_type": "execute_result"
    }
   ],
   "source": [
    "df.head()"
   ]
  },
  {
   "cell_type": "code",
   "execution_count": 46,
   "metadata": {},
   "outputs": [],
   "source": [
    "df.to_csv(\"../datasets/unlabeled/cleaned/buy_net.csv\", index=False)"
   ]
  },
  {
   "cell_type": "code",
   "execution_count": null,
   "metadata": {},
   "outputs": [],
   "source": []
  }
 ],
 "metadata": {
  "kernelspec": {
   "display_name": "Python 3",
   "language": "python",
   "name": "python3"
  },
  "language_info": {
   "codemirror_mode": {
    "name": "ipython",
    "version": 3
   },
   "file_extension": ".py",
   "mimetype": "text/x-python",
   "name": "python",
   "nbconvert_exporter": "python",
   "pygments_lexer": "ipython3",
   "version": "3.7.3"
  }
 },
 "nbformat": 4,
 "nbformat_minor": 4
}
