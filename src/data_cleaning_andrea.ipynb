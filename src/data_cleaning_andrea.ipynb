{
 "cells": [
  {
   "cell_type": "code",
   "execution_count": 34,
   "metadata": {},
   "outputs": [],
   "source": [
    "import os\n",
    "import numpy as np\n",
    "import json\n",
    "import pandas as pd\n",
    "import itertools\n",
    "from tqdm import tqdm\n",
    "import nltk\n",
    "from nltk.tokenize import word_tokenize\n",
    "from nltk.corpus import stopwords\n",
    "import matplotlib.pyplot as plt"
   ]
  },
  {
   "cell_type": "code",
   "execution_count": 35,
   "metadata": {},
   "outputs": [],
   "source": [
    "def create_dataframe(dataset_path, source):\n",
    "    \"\"\"Function used to create a Pandas DataFrame containing specifications page titles\n",
    "\n",
    "    Reads products specifications from the file system (\"dataset_path\" variable in the main function) and creates a Pandas DataFrame where each row is a\n",
    "    specification. The columns are 'source' (e.g. www.sourceA.com), 'spec_number' (e.g. 1) and the 'page title'. Note that this script will consider only\n",
    "    the page title attribute for simplicity.\n",
    "\n",
    "    Args:\n",
    "        dataset_path (str): The path to the dataset\n",
    "\n",
    "    Returns:\n",
    "        df (pd.DataFrame): The Pandas DataFrame containing specifications and page titles\n",
    "    \"\"\"\n",
    "\n",
    "    print('>>> Creating dataframe...\\n')\n",
    "    columns_df = ['source', 'spec_number', 'spec_id', 'page_title']\n",
    "    \n",
    "    df = pd.DataFrame()\n",
    "    progressive_id = 0\n",
    "    progressive_id2row_df = {}\n",
    "    \n",
    "    for specification in tqdm(os.listdir(os.path.join(dataset_path, source))):\n",
    "        specification_number = specification.replace('.json', '')\n",
    "        specification_id = '{}//{}'.format(source, specification_number)\n",
    "        with open(os.path.join(dataset_path, source, specification)) as specification_file:\n",
    "            columns_df = ['source', 'spec_number', 'spec_id']\n",
    "            specification_data = json.load(specification_file)\n",
    "            attrs = []\n",
    "            for k, v in specification_data.items():\n",
    "                columns_df.append(k)\n",
    "                attrs.append(v)\n",
    "            row = [source, specification_number, specification_id]\n",
    "            row.extend(attrs)\n",
    "            progressive_id2row_df.update({progressive_id: row})\n",
    "            progressive_id += 1\n",
    "            df = df.append(pd.DataFrame.from_dict(progressive_id2row_df, orient='index', columns=columns_df))\n",
    "            progressive_id2row_df = {}\n",
    "            \n",
    "    print('>>> Dataframe created successfully!\\n')\n",
    "    return df"
   ]
  },
  {
   "cell_type": "markdown",
   "metadata": {},
   "source": [
    "# priceme.co.nz"
   ]
  },
  {
   "cell_type": "code",
   "execution_count": 36,
   "metadata": {},
   "outputs": [
    {
     "name": "stderr",
     "output_type": "stream",
     "text": [
      "  1%|▏         | 10/740 [00:00<00:07, 92.06it/s]"
     ]
    },
    {
     "name": "stdout",
     "output_type": "stream",
     "text": [
      ">>> Creating dataframe...\n",
      "\n"
     ]
    },
    {
     "name": "stderr",
     "output_type": "stream",
     "text": [
      "100%|██████████| 740/740 [00:04<00:00, 179.00it/s]"
     ]
    },
    {
     "name": "stdout",
     "output_type": "stream",
     "text": [
      ">>> Dataframe created successfully!\n",
      "\n"
     ]
    },
    {
     "name": "stderr",
     "output_type": "stream",
     "text": [
      "\n"
     ]
    }
   ],
   "source": [
    "df_priceme = create_dataframe('../datasets/unlabeled/2013_camera_specs', \"www.priceme.co.nz\")"
   ]
  },
  {
   "cell_type": "code",
   "execution_count": 37,
   "metadata": {},
   "outputs": [
    {
     "data": {
      "text/html": [
       "<div>\n",
       "<style scoped>\n",
       "    .dataframe tbody tr th:only-of-type {\n",
       "        vertical-align: middle;\n",
       "    }\n",
       "\n",
       "    .dataframe tbody tr th {\n",
       "        vertical-align: top;\n",
       "    }\n",
       "\n",
       "    .dataframe thead th {\n",
       "        text-align: right;\n",
       "    }\n",
       "</style>\n",
       "<table border=\"1\" class=\"dataframe\">\n",
       "  <thead>\n",
       "    <tr style=\"text-align: right;\">\n",
       "      <th></th>\n",
       "      <th>source</th>\n",
       "      <th>spec_number</th>\n",
       "      <th>spec_id</th>\n",
       "      <th>&lt;page title&gt;</th>\n",
       "      <th>light sensitivity</th>\n",
       "      <th>max image resolution</th>\n",
       "      <th>optical sensor</th>\n",
       "      <th>resolution</th>\n",
       "      <th>shutter speed</th>\n",
       "      <th>still image format</th>\n",
       "      <th>...</th>\n",
       "      <th>3d support</th>\n",
       "      <th>image stabilizer</th>\n",
       "      <th>lens aperture</th>\n",
       "      <th>max focal length</th>\n",
       "      <th>min focal length</th>\n",
       "      <th>optical zoom</th>\n",
       "      <th>storage media</th>\n",
       "      <th>focus adjustment</th>\n",
       "      <th>colour</th>\n",
       "      <th>internal memory</th>\n",
       "    </tr>\n",
       "  </thead>\n",
       "  <tbody>\n",
       "    <tr>\n",
       "      <th>0</th>\n",
       "      <td>www.priceme.co.nz</td>\n",
       "      <td>2407</td>\n",
       "      <td>www.priceme.co.nz//2407</td>\n",
       "      <td>Canon EOS 70D + 18-55/3.5-5.6  New Zealand Pri...</td>\n",
       "      <td>100 - 12,800 ISO</td>\n",
       "      <td>5472x3648</td>\n",
       "      <td>CMOS</td>\n",
       "      <td>The amount of detail that the camera can captu...</td>\n",
       "      <td>30-1/8000s</td>\n",
       "      <td>JPEG, RAW</td>\n",
       "      <td>...</td>\n",
       "      <td>NaN</td>\n",
       "      <td>NaN</td>\n",
       "      <td>NaN</td>\n",
       "      <td>NaN</td>\n",
       "      <td>NaN</td>\n",
       "      <td>NaN</td>\n",
       "      <td>NaN</td>\n",
       "      <td>NaN</td>\n",
       "      <td>NaN</td>\n",
       "      <td>NaN</td>\n",
       "    </tr>\n",
       "    <tr>\n",
       "      <th>1</th>\n",
       "      <td>www.priceme.co.nz</td>\n",
       "      <td>2050</td>\n",
       "      <td>www.priceme.co.nz//2050</td>\n",
       "      <td>Canon EOS 700D + 18-55/3.5-5.6 IS STM  New Zea...</td>\n",
       "      <td>100 - 12,800 ISO</td>\n",
       "      <td>5184x3456</td>\n",
       "      <td>CMOS</td>\n",
       "      <td>The amount of detail that the camera can captu...</td>\n",
       "      <td>30-1/4000s</td>\n",
       "      <td>JPEG, RAW</td>\n",
       "      <td>...</td>\n",
       "      <td>NaN</td>\n",
       "      <td>NaN</td>\n",
       "      <td>NaN</td>\n",
       "      <td>NaN</td>\n",
       "      <td>NaN</td>\n",
       "      <td>NaN</td>\n",
       "      <td>NaN</td>\n",
       "      <td>NaN</td>\n",
       "      <td>NaN</td>\n",
       "      <td>NaN</td>\n",
       "    </tr>\n",
       "    <tr>\n",
       "      <th>2</th>\n",
       "      <td>www.priceme.co.nz</td>\n",
       "      <td>1984</td>\n",
       "      <td>www.priceme.co.nz//1984</td>\n",
       "      <td>Nikon Coolpix P310  New Zealand Prices - PriceMe</td>\n",
       "      <td>100 - 12,800 ISO</td>\n",
       "      <td>4608x3456</td>\n",
       "      <td>NaN</td>\n",
       "      <td>The amount of detail that the camera can captu...</td>\n",
       "      <td>NaN</td>\n",
       "      <td>JPEG</td>\n",
       "      <td>...</td>\n",
       "      <td>Yes</td>\n",
       "      <td>Optical</td>\n",
       "      <td>F/1.8-4.9</td>\n",
       "      <td>100mm</td>\n",
       "      <td>24mm</td>\n",
       "      <td>The number of times the image can be enlarged ...</td>\n",
       "      <td>NaN</td>\n",
       "      <td>NaN</td>\n",
       "      <td>NaN</td>\n",
       "      <td>NaN</td>\n",
       "    </tr>\n",
       "    <tr>\n",
       "      <th>3</th>\n",
       "      <td>www.priceme.co.nz</td>\n",
       "      <td>2262</td>\n",
       "      <td>www.priceme.co.nz//2262</td>\n",
       "      <td>Nikon D5200 + 18-105/3.5-5.6 VR  New Zealand P...</td>\n",
       "      <td>100 - 6,400 ISO</td>\n",
       "      <td>6000x4000</td>\n",
       "      <td>CMOS</td>\n",
       "      <td>The amount of detail that the camera can captu...</td>\n",
       "      <td>30-1/4000s</td>\n",
       "      <td>JPEG, RAW</td>\n",
       "      <td>...</td>\n",
       "      <td>NaN</td>\n",
       "      <td>NaN</td>\n",
       "      <td>NaN</td>\n",
       "      <td>NaN</td>\n",
       "      <td>NaN</td>\n",
       "      <td>NaN</td>\n",
       "      <td>NaN</td>\n",
       "      <td>NaN</td>\n",
       "      <td>NaN</td>\n",
       "      <td>NaN</td>\n",
       "    </tr>\n",
       "    <tr>\n",
       "      <th>4</th>\n",
       "      <td>www.priceme.co.nz</td>\n",
       "      <td>1937</td>\n",
       "      <td>www.priceme.co.nz//1937</td>\n",
       "      <td>Olympus Stylus TG-3  New Zealand Prices - PriceMe</td>\n",
       "      <td>100 - 6,400 ISO</td>\n",
       "      <td>4608x3456</td>\n",
       "      <td>NaN</td>\n",
       "      <td>The amount of detail that the camera can captu...</td>\n",
       "      <td>NaN</td>\n",
       "      <td>JPEG</td>\n",
       "      <td>...</td>\n",
       "      <td>No</td>\n",
       "      <td>Optical</td>\n",
       "      <td>F/2-4.9</td>\n",
       "      <td>100mm</td>\n",
       "      <td>25mm</td>\n",
       "      <td>The number of times the image can be enlarged ...</td>\n",
       "      <td>NaN</td>\n",
       "      <td>NaN</td>\n",
       "      <td>NaN</td>\n",
       "      <td>NaN</td>\n",
       "    </tr>\n",
       "  </tbody>\n",
       "</table>\n",
       "<p>5 rows × 21 columns</p>\n",
       "</div>"
      ],
      "text/plain": [
       "              source spec_number                  spec_id  \\\n",
       "0  www.priceme.co.nz        2407  www.priceme.co.nz//2407   \n",
       "1  www.priceme.co.nz        2050  www.priceme.co.nz//2050   \n",
       "2  www.priceme.co.nz        1984  www.priceme.co.nz//1984   \n",
       "3  www.priceme.co.nz        2262  www.priceme.co.nz//2262   \n",
       "4  www.priceme.co.nz        1937  www.priceme.co.nz//1937   \n",
       "\n",
       "                                        <page title> light sensitivity  \\\n",
       "0  Canon EOS 70D + 18-55/3.5-5.6  New Zealand Pri...  100 - 12,800 ISO   \n",
       "1  Canon EOS 700D + 18-55/3.5-5.6 IS STM  New Zea...  100 - 12,800 ISO   \n",
       "2   Nikon Coolpix P310  New Zealand Prices - PriceMe  100 - 12,800 ISO   \n",
       "3  Nikon D5200 + 18-105/3.5-5.6 VR  New Zealand P...   100 - 6,400 ISO   \n",
       "4  Olympus Stylus TG-3  New Zealand Prices - PriceMe   100 - 6,400 ISO   \n",
       "\n",
       "  max image resolution optical sensor  \\\n",
       "0            5472x3648           CMOS   \n",
       "1            5184x3456           CMOS   \n",
       "2            4608x3456            NaN   \n",
       "3            6000x4000           CMOS   \n",
       "4            4608x3456            NaN   \n",
       "\n",
       "                                          resolution shutter speed  \\\n",
       "0  The amount of detail that the camera can captu...    30-1/8000s   \n",
       "1  The amount of detail that the camera can captu...    30-1/4000s   \n",
       "2  The amount of detail that the camera can captu...           NaN   \n",
       "3  The amount of detail that the camera can captu...    30-1/4000s   \n",
       "4  The amount of detail that the camera can captu...           NaN   \n",
       "\n",
       "  still image format  ... 3d support image stabilizer lens aperture  \\\n",
       "0          JPEG, RAW  ...        NaN              NaN           NaN   \n",
       "1          JPEG, RAW  ...        NaN              NaN           NaN   \n",
       "2               JPEG  ...        Yes          Optical     F/1.8-4.9   \n",
       "3          JPEG, RAW  ...        NaN              NaN           NaN   \n",
       "4               JPEG  ...         No          Optical       F/2-4.9   \n",
       "\n",
       "  max focal length min focal length  \\\n",
       "0              NaN              NaN   \n",
       "1              NaN              NaN   \n",
       "2            100mm             24mm   \n",
       "3              NaN              NaN   \n",
       "4            100mm             25mm   \n",
       "\n",
       "                                        optical zoom storage media  \\\n",
       "0                                                NaN           NaN   \n",
       "1                                                NaN           NaN   \n",
       "2  The number of times the image can be enlarged ...           NaN   \n",
       "3                                                NaN           NaN   \n",
       "4  The number of times the image can be enlarged ...           NaN   \n",
       "\n",
       "  focus adjustment colour internal memory  \n",
       "0              NaN    NaN             NaN  \n",
       "1              NaN    NaN             NaN  \n",
       "2              NaN    NaN             NaN  \n",
       "3              NaN    NaN             NaN  \n",
       "4              NaN    NaN             NaN  \n",
       "\n",
       "[5 rows x 21 columns]"
      ]
     },
     "execution_count": 37,
     "metadata": {},
     "output_type": "execute_result"
    }
   ],
   "source": [
    "df_priceme.head()"
   ]
  },
  {
   "cell_type": "code",
   "execution_count": 38,
   "metadata": {},
   "outputs": [],
   "source": [
    "cols = [\"spec_id\", \"max image resolution\", \"<page title>\"]"
   ]
  },
  {
   "cell_type": "code",
   "execution_count": 39,
   "metadata": {},
   "outputs": [
    {
     "data": {
      "text/html": [
       "<div>\n",
       "<style scoped>\n",
       "    .dataframe tbody tr th:only-of-type {\n",
       "        vertical-align: middle;\n",
       "    }\n",
       "\n",
       "    .dataframe tbody tr th {\n",
       "        vertical-align: top;\n",
       "    }\n",
       "\n",
       "    .dataframe thead th {\n",
       "        text-align: right;\n",
       "    }\n",
       "</style>\n",
       "<table border=\"1\" class=\"dataframe\">\n",
       "  <thead>\n",
       "    <tr style=\"text-align: right;\">\n",
       "      <th></th>\n",
       "      <th>spec_id</th>\n",
       "      <th>max image resolution</th>\n",
       "      <th>&lt;page title&gt;</th>\n",
       "    </tr>\n",
       "  </thead>\n",
       "  <tbody>\n",
       "    <tr>\n",
       "      <th>0</th>\n",
       "      <td>www.priceme.co.nz//2407</td>\n",
       "      <td>5472x3648</td>\n",
       "      <td>Canon EOS 70D + 18-55/3.5-5.6  New Zealand Pri...</td>\n",
       "    </tr>\n",
       "    <tr>\n",
       "      <th>1</th>\n",
       "      <td>www.priceme.co.nz//2050</td>\n",
       "      <td>5184x3456</td>\n",
       "      <td>Canon EOS 700D + 18-55/3.5-5.6 IS STM  New Zea...</td>\n",
       "    </tr>\n",
       "    <tr>\n",
       "      <th>2</th>\n",
       "      <td>www.priceme.co.nz//1984</td>\n",
       "      <td>4608x3456</td>\n",
       "      <td>Nikon Coolpix P310  New Zealand Prices - PriceMe</td>\n",
       "    </tr>\n",
       "    <tr>\n",
       "      <th>3</th>\n",
       "      <td>www.priceme.co.nz//2262</td>\n",
       "      <td>6000x4000</td>\n",
       "      <td>Nikon D5200 + 18-105/3.5-5.6 VR  New Zealand P...</td>\n",
       "    </tr>\n",
       "    <tr>\n",
       "      <th>4</th>\n",
       "      <td>www.priceme.co.nz//1937</td>\n",
       "      <td>4608x3456</td>\n",
       "      <td>Olympus Stylus TG-3  New Zealand Prices - PriceMe</td>\n",
       "    </tr>\n",
       "  </tbody>\n",
       "</table>\n",
       "</div>"
      ],
      "text/plain": [
       "                   spec_id max image resolution  \\\n",
       "0  www.priceme.co.nz//2407            5472x3648   \n",
       "1  www.priceme.co.nz//2050            5184x3456   \n",
       "2  www.priceme.co.nz//1984            4608x3456   \n",
       "3  www.priceme.co.nz//2262            6000x4000   \n",
       "4  www.priceme.co.nz//1937            4608x3456   \n",
       "\n",
       "                                        <page title>  \n",
       "0  Canon EOS 70D + 18-55/3.5-5.6  New Zealand Pri...  \n",
       "1  Canon EOS 700D + 18-55/3.5-5.6 IS STM  New Zea...  \n",
       "2   Nikon Coolpix P310  New Zealand Prices - PriceMe  \n",
       "3  Nikon D5200 + 18-105/3.5-5.6 VR  New Zealand P...  \n",
       "4  Olympus Stylus TG-3  New Zealand Prices - PriceMe  "
      ]
     },
     "execution_count": 39,
     "metadata": {},
     "output_type": "execute_result"
    }
   ],
   "source": [
    "df_priceme = df_priceme[cols]\n",
    "df_priceme.head()"
   ]
  },
  {
   "cell_type": "markdown",
   "metadata": {},
   "source": [
    "## Title"
   ]
  },
  {
   "cell_type": "code",
   "execution_count": 40,
   "metadata": {},
   "outputs": [],
   "source": [
    "stop_words = set(stopwords.words('english'))"
   ]
  },
  {
   "cell_type": "code",
   "execution_count": 41,
   "metadata": {},
   "outputs": [],
   "source": [
    "stop_words = set(['itself', 'down', 'by', 'with', 'doesn', 'wouldn', 'other', 'ours', 'of', 'then', 'where', 'don', 'these', 'nor', 'she', \"should've\", 'won', 'ma', 'from', 'had', \"you're\", 'our', 'did', 'them', 'too', 'her', 'that', 'haven', 'after', \"you'll\", 'hers', 'because', 'yourself', 'against', 'mightn', 'as', 'll', 'whom', 'how', 'couldn', 'further', 'aren', \"you'd\", 'and', 'needn', \"couldn't\", 'those', 'to', \"doesn't\", \"weren't\", 'both', 'ourselves', 'in', 'which', 'yours', 'under', 'some', 'what', 'during', 'before', \"needn't\", \"shan't\", 'here', 'having', 'hasn', 'your', \"hasn't\", 'between', 'me', \"she's\", 'into', 'all', 'at', 'shan', 'who', 'o', 'an', 'very', 'can', 'you', 'shouldn', 'such', 'but', 'do', 'out', 'am', \"shouldn't\", 'above', 'wasn', 'or', 'were', 'own', 'didn', \"you've\", 'on', 'will', 'my', 'it', 'have', 'once', 'only', 'been', 'themselves', 'his', 'be', \"mightn't\", 'they', 'not', 'so', 'up', 'any', 'most', 'has', 'myself', 't', 'yourselves', 'isn', \"it's\", 'y', 'm', 'now', 'until', 're', 'there', 'their', 'mustn', \"mustn't\", 'again', 'being', 'hadn', 'doing', 'just', 'no', 'if', 've', \"wasn't\", \"won't\", 'we', 'below', 'does', 'more', 'this', 'should', \"isn't\", 'ain', \"don't\", 'i', \"haven't\", 'than', \"didn't\", 'are', 'about', 'off', 'him', 'for', 'few', \"wouldn't\", 'was', 'weren', 'why', 'he', \"that'll\", 'd', 'the', 'its', 'a', 'each', 'is', 'while', \"aren't\", 'when', 'theirs', 'same', 's', 'himself', 'herself', \"hadn't\", 'through', 'over'])"
   ]
  },
  {
   "cell_type": "code",
   "execution_count": 42,
   "metadata": {},
   "outputs": [],
   "source": [
    "punctuation = \"!#$%&'()*+,-./:;<=>?@[\\]^_`{|}~€£¥₹₽\""
   ]
  },
  {
   "cell_type": "code",
   "execution_count": 43,
   "metadata": {},
   "outputs": [],
   "source": [
    "def replace_punctuation(word):\n",
    "    return ''.join(c for c in word if c not in punctuation)"
   ]
  },
  {
   "cell_type": "code",
   "execution_count": 44,
   "metadata": {},
   "outputs": [],
   "source": [
    "df_priceme['page_title'] = df_priceme['<page title>'].apply(lambda x : [i.lower() for i in list(map(lambda y: replace_punctuation(y), word_tokenize(x))) if i and i.lower() not in stop_words])\n",
    "df_priceme.drop(columns=['<page title>'], inplace=True)"
   ]
  },
  {
   "cell_type": "code",
   "execution_count": 45,
   "metadata": {},
   "outputs": [
    {
     "data": {
      "text/html": [
       "<div>\n",
       "<style scoped>\n",
       "    .dataframe tbody tr th:only-of-type {\n",
       "        vertical-align: middle;\n",
       "    }\n",
       "\n",
       "    .dataframe tbody tr th {\n",
       "        vertical-align: top;\n",
       "    }\n",
       "\n",
       "    .dataframe thead th {\n",
       "        text-align: right;\n",
       "    }\n",
       "</style>\n",
       "<table border=\"1\" class=\"dataframe\">\n",
       "  <thead>\n",
       "    <tr style=\"text-align: right;\">\n",
       "      <th></th>\n",
       "      <th>spec_id</th>\n",
       "      <th>max image resolution</th>\n",
       "      <th>page_title</th>\n",
       "    </tr>\n",
       "  </thead>\n",
       "  <tbody>\n",
       "    <tr>\n",
       "      <th>0</th>\n",
       "      <td>www.priceme.co.nz//2407</td>\n",
       "      <td>5472x3648</td>\n",
       "      <td>[canon, eos, 70d, 18553556, new, zealand, pric...</td>\n",
       "    </tr>\n",
       "    <tr>\n",
       "      <th>1</th>\n",
       "      <td>www.priceme.co.nz//2050</td>\n",
       "      <td>5184x3456</td>\n",
       "      <td>[canon, eos, 700d, 18553556, stm, new, zealand...</td>\n",
       "    </tr>\n",
       "    <tr>\n",
       "      <th>2</th>\n",
       "      <td>www.priceme.co.nz//1984</td>\n",
       "      <td>4608x3456</td>\n",
       "      <td>[nikon, coolpix, p310, new, zealand, prices, p...</td>\n",
       "    </tr>\n",
       "    <tr>\n",
       "      <th>3</th>\n",
       "      <td>www.priceme.co.nz//2262</td>\n",
       "      <td>6000x4000</td>\n",
       "      <td>[nikon, d5200, 181053556, vr, new, zealand, pr...</td>\n",
       "    </tr>\n",
       "    <tr>\n",
       "      <th>4</th>\n",
       "      <td>www.priceme.co.nz//1937</td>\n",
       "      <td>4608x3456</td>\n",
       "      <td>[olympus, stylus, tg3, new, zealand, prices, p...</td>\n",
       "    </tr>\n",
       "  </tbody>\n",
       "</table>\n",
       "</div>"
      ],
      "text/plain": [
       "                   spec_id max image resolution  \\\n",
       "0  www.priceme.co.nz//2407            5472x3648   \n",
       "1  www.priceme.co.nz//2050            5184x3456   \n",
       "2  www.priceme.co.nz//1984            4608x3456   \n",
       "3  www.priceme.co.nz//2262            6000x4000   \n",
       "4  www.priceme.co.nz//1937            4608x3456   \n",
       "\n",
       "                                          page_title  \n",
       "0  [canon, eos, 70d, 18553556, new, zealand, pric...  \n",
       "1  [canon, eos, 700d, 18553556, stm, new, zealand...  \n",
       "2  [nikon, coolpix, p310, new, zealand, prices, p...  \n",
       "3  [nikon, d5200, 181053556, vr, new, zealand, pr...  \n",
       "4  [olympus, stylus, tg3, new, zealand, prices, p...  "
      ]
     },
     "execution_count": 45,
     "metadata": {},
     "output_type": "execute_result"
    }
   ],
   "source": [
    "df_priceme.head()"
   ]
  },
  {
   "cell_type": "markdown",
   "metadata": {},
   "source": [
    "## Max image resolution"
   ]
  },
  {
   "cell_type": "code",
   "execution_count": 46,
   "metadata": {},
   "outputs": [
    {
     "data": {
      "text/plain": [
       "4608x3456      132\n",
       "4000x3000       69\n",
       "5184x3456       61\n",
       "6000x4000       53\n",
       "4928x3264       38\n",
       "3648x2736       32\n",
       "4320x3240       30\n",
       "5472x3648       29\n",
       "4912x3264       26\n",
       "4896x3264       23\n",
       "4592x3448       17\n",
       "4608x3072       14\n",
       "3872x2592       14\n",
       "4896x3672       13\n",
       "4288x3216       12\n",
       "4592x3056       11\n",
       "4032x3024       10\n",
       "6016x4016        9\n",
       "4288x2848        9\n",
       "7360x4912        7\n",
       "6016x4000        7\n",
       "5456x3632        7\n",
       "4272x2848        6\n",
       "3968x2976        6\n",
       "3264x2448        3\n",
       "7360x4144        3\n",
       "5760x3840        3\n",
       "2640 × 1760      2\n",
       "4256x2832        2\n",
       "4352x3264        2\n",
       "5212x3472        2\n",
       "1920x1080        2\n",
       "4240x2384        2\n",
       "5184x3888        2\n",
       "3888x2592        2\n",
       "2272x1704        1\n",
       "4672x3120        1\n",
       "6048x4032        1\n",
       "3296x2472        1\n",
       "4288 x3216       1\n",
       "4928x3280        1\n",
       "3664x2748        1\n",
       "5152x3864        1\n",
       "3456x3456        1\n",
       "3072x3204        1\n",
       "3616x2712        1\n",
       "4160x3120        1\n",
       "4672x3104        1\n",
       "4224x3168        1\n",
       "4752x3168        1\n",
       "4344x3258        1\n",
       "4256x2848        1\n",
       "Name: max image resolution, dtype: int64"
      ]
     },
     "execution_count": 46,
     "metadata": {},
     "output_type": "execute_result"
    }
   ],
   "source": [
    "df_priceme['max image resolution'].value_counts()"
   ]
  },
  {
   "cell_type": "code",
   "execution_count": 51,
   "metadata": {},
   "outputs": [
    {
     "data": {
      "text/plain": [
       "spec_id                  0\n",
       "max image resolution    63\n",
       "page_title               0\n",
       "dtype: int64"
      ]
     },
     "execution_count": 51,
     "metadata": {},
     "output_type": "execute_result"
    }
   ],
   "source": [
    "# Number of nan\n",
    "len(df_priceme) - df_priceme.count()"
   ]
  },
  {
   "cell_type": "code",
   "execution_count": 56,
   "metadata": {},
   "outputs": [],
   "source": [
    "def clean(val):\n",
    "    if pd.isna(val):\n",
    "        return val\n",
    "    \n",
    "    if ' × ' in val:\n",
    "        l, r = tuple(val.split(' × '))\n",
    "        return 'x'.join([l.strip(), r.strip()])\n",
    "    \n",
    "    l, r = tuple(val.split('x'))\n",
    "    return 'x'.join([l.strip(), r.strip()])"
   ]
  },
  {
   "cell_type": "code",
   "execution_count": 57,
   "metadata": {},
   "outputs": [
    {
     "data": {
      "text/html": [
       "<div>\n",
       "<style scoped>\n",
       "    .dataframe tbody tr th:only-of-type {\n",
       "        vertical-align: middle;\n",
       "    }\n",
       "\n",
       "    .dataframe tbody tr th {\n",
       "        vertical-align: top;\n",
       "    }\n",
       "\n",
       "    .dataframe thead th {\n",
       "        text-align: right;\n",
       "    }\n",
       "</style>\n",
       "<table border=\"1\" class=\"dataframe\">\n",
       "  <thead>\n",
       "    <tr style=\"text-align: right;\">\n",
       "      <th></th>\n",
       "      <th>spec_id</th>\n",
       "      <th>max image resolution</th>\n",
       "      <th>page_title</th>\n",
       "    </tr>\n",
       "  </thead>\n",
       "  <tbody>\n",
       "    <tr>\n",
       "      <th>0</th>\n",
       "      <td>www.priceme.co.nz//2407</td>\n",
       "      <td>5472x3648</td>\n",
       "      <td>[canon, eos, 70d, 18553556, new, zealand, pric...</td>\n",
       "    </tr>\n",
       "    <tr>\n",
       "      <th>1</th>\n",
       "      <td>www.priceme.co.nz//2050</td>\n",
       "      <td>5184x3456</td>\n",
       "      <td>[canon, eos, 700d, 18553556, stm, new, zealand...</td>\n",
       "    </tr>\n",
       "    <tr>\n",
       "      <th>2</th>\n",
       "      <td>www.priceme.co.nz//1984</td>\n",
       "      <td>4608x3456</td>\n",
       "      <td>[nikon, coolpix, p310, new, zealand, prices, p...</td>\n",
       "    </tr>\n",
       "    <tr>\n",
       "      <th>3</th>\n",
       "      <td>www.priceme.co.nz//2262</td>\n",
       "      <td>6000x4000</td>\n",
       "      <td>[nikon, d5200, 181053556, vr, new, zealand, pr...</td>\n",
       "    </tr>\n",
       "    <tr>\n",
       "      <th>4</th>\n",
       "      <td>www.priceme.co.nz//1937</td>\n",
       "      <td>4608x3456</td>\n",
       "      <td>[olympus, stylus, tg3, new, zealand, prices, p...</td>\n",
       "    </tr>\n",
       "  </tbody>\n",
       "</table>\n",
       "</div>"
      ],
      "text/plain": [
       "                   spec_id max image resolution  \\\n",
       "0  www.priceme.co.nz//2407            5472x3648   \n",
       "1  www.priceme.co.nz//2050            5184x3456   \n",
       "2  www.priceme.co.nz//1984            4608x3456   \n",
       "3  www.priceme.co.nz//2262            6000x4000   \n",
       "4  www.priceme.co.nz//1937            4608x3456   \n",
       "\n",
       "                                          page_title  \n",
       "0  [canon, eos, 70d, 18553556, new, zealand, pric...  \n",
       "1  [canon, eos, 700d, 18553556, stm, new, zealand...  \n",
       "2  [nikon, coolpix, p310, new, zealand, prices, p...  \n",
       "3  [nikon, d5200, 181053556, vr, new, zealand, pr...  \n",
       "4  [olympus, stylus, tg3, new, zealand, prices, p...  "
      ]
     },
     "execution_count": 57,
     "metadata": {},
     "output_type": "execute_result"
    }
   ],
   "source": [
    "df_priceme['max image resolution'] = df_priceme['max image resolution'].apply(clean)\n",
    "df_priceme.head()"
   ]
  },
  {
   "cell_type": "code",
   "execution_count": 58,
   "metadata": {},
   "outputs": [
    {
     "data": {
      "text/plain": [
       "4608x3456    132\n",
       "4000x3000     69\n",
       "5184x3456     61\n",
       "6000x4000     53\n",
       "4928x3264     38\n",
       "3648x2736     32\n",
       "4320x3240     30\n",
       "5472x3648     29\n",
       "4912x3264     26\n",
       "4896x3264     23\n",
       "4592x3448     17\n",
       "4608x3072     14\n",
       "3872x2592     14\n",
       "4896x3672     13\n",
       "4288x3216     13\n",
       "4592x3056     11\n",
       "4032x3024     10\n",
       "6016x4016      9\n",
       "4288x2848      9\n",
       "7360x4912      7\n",
       "6016x4000      7\n",
       "5456x3632      7\n",
       "3968x2976      6\n",
       "4272x2848      6\n",
       "7360x4144      3\n",
       "3264x2448      3\n",
       "5760x3840      3\n",
       "4352x3264      2\n",
       "4256x2832      2\n",
       "2640x1760      2\n",
       "5212x3472      2\n",
       "1920x1080      2\n",
       "4240x2384      2\n",
       "5184x3888      2\n",
       "3888x2592      2\n",
       "6048x4032      1\n",
       "4672x3120      1\n",
       "2272x1704      1\n",
       "3296x2472      1\n",
       "4928x3280      1\n",
       "3072x3204      1\n",
       "3456x3456      1\n",
       "5152x3864      1\n",
       "3664x2748      1\n",
       "4256x2848      1\n",
       "4160x3120      1\n",
       "4672x3104      1\n",
       "4752x3168      1\n",
       "4224x3168      1\n",
       "4344x3258      1\n",
       "3616x2712      1\n",
       "Name: max image resolution, dtype: int64"
      ]
     },
     "execution_count": 58,
     "metadata": {},
     "output_type": "execute_result"
    }
   ],
   "source": [
    "df_priceme['max image resolution'].value_counts()"
   ]
  },
  {
   "cell_type": "markdown",
   "metadata": {},
   "source": [
    "## Save to CSV"
   ]
  },
  {
   "cell_type": "code",
   "execution_count": 59,
   "metadata": {},
   "outputs": [],
   "source": [
    "df_priceme.to_csv(\"../datasets/unlabeled/cleaned/priceme.co.nz.csv\", index=False)"
   ]
  },
  {
   "cell_type": "markdown",
   "metadata": {},
   "source": [
    "# gosale.com"
   ]
  },
  {
   "cell_type": "code",
   "execution_count": null,
   "metadata": {},
   "outputs": [],
   "source": []
  }
 ],
 "metadata": {
  "kernelspec": {
   "display_name": "Python 3",
   "language": "python",
   "name": "python3"
  },
  "language_info": {
   "codemirror_mode": {
    "name": "ipython",
    "version": 3
   },
   "file_extension": ".py",
   "mimetype": "text/x-python",
   "name": "python",
   "nbconvert_exporter": "python",
   "pygments_lexer": "ipython3",
   "version": "3.7.4"
  }
 },
 "nbformat": 4,
 "nbformat_minor": 4
}
