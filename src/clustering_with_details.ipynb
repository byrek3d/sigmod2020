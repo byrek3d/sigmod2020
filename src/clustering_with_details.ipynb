{
 "cells": [
  {
   "cell_type": "code",
   "execution_count": 1,
   "metadata": {},
   "outputs": [],
   "source": [
    "import os\n",
    "import numpy as np\n",
    "import json\n",
    "import pandas as pd\n",
    "import itertools\n",
    "from tqdm import tqdm\n",
    "import nltk\n",
    "from nltk.tokenize import word_tokenize\n",
    "import re\n",
    "import ast\n",
    "import matplotlib.pyplot as plt"
   ]
  },
  {
   "cell_type": "code",
   "execution_count": 2,
   "metadata": {},
   "outputs": [],
   "source": [
    "def create_dataframe(dataset_path):\n",
    "    \"\"\"Function used to create a Pandas DataFrame containing specifications page titles\n",
    "\n",
    "    Reads products specifications from the file system (\"dataset_path\" variable in the main function) and creates a Pandas DataFrame where each row is a\n",
    "    specification. The columns are 'source' (e.g. www.sourceA.com), 'spec_number' (e.g. 1) and the 'page title'. Note that this script will consider only\n",
    "    the page title attribute for simplicity.\n",
    "\n",
    "    Args:\n",
    "        dataset_path (str): The path to the dataset\n",
    "\n",
    "    Returns:\n",
    "        df (pd.DataFrame): The Pandas DataFrame containing specifications and page titles\n",
    "    \"\"\"\n",
    "\n",
    "    print('>>> Creating dataframe...\\n')\n",
    "    columns_df = ['source', 'spec_number', 'spec_id', 'page_title']\n",
    "\n",
    "    progressive_id = 0\n",
    "    progressive_id2row_df = {}\n",
    "    for source in tqdm(os.listdir(dataset_path)):\n",
    "        for specification in os.listdir(os.path.join(dataset_path, source)):\n",
    "            specification_number = specification.replace('.json', '')\n",
    "            specification_id = '{}//{}'.format(source, specification_number)\n",
    "            with open(os.path.join(dataset_path, source, specification)) as specification_file:\n",
    "                specification_data = json.load(specification_file)\n",
    "                page_title = specification_data.get('<page title>').lower()\n",
    "                row = (source, specification_number, specification_id, page_title)\n",
    "                progressive_id2row_df.update({progressive_id: row})\n",
    "                progressive_id += 1\n",
    "    df = pd.DataFrame.from_dict(progressive_id2row_df, orient='index', columns=columns_df)\n",
    "    print('>>> Dataframe created successfully!\\n')\n",
    "    return df"
   ]
  },
  {
   "cell_type": "code",
   "execution_count": 3,
   "metadata": {},
   "outputs": [
    {
     "name": "stderr",
     "output_type": "stream",
     "text": [
      "  8%|▊         | 2/24 [00:00<00:01, 12.53it/s]"
     ]
    },
    {
     "name": "stdout",
     "output_type": "stream",
     "text": [
      ">>> Creating dataframe...\n",
      "\n"
     ]
    },
    {
     "name": "stderr",
     "output_type": "stream",
     "text": [
      "100%|██████████| 24/24 [00:09<00:00,  2.45it/s]"
     ]
    },
    {
     "name": "stdout",
     "output_type": "stream",
     "text": [
      ">>> Dataframe created successfully!\n",
      "\n"
     ]
    },
    {
     "name": "stderr",
     "output_type": "stream",
     "text": [
      "\n"
     ]
    }
   ],
   "source": [
    "df = create_dataframe('../datasets/unlabeled/2013_camera_specs')"
   ]
  },
  {
   "cell_type": "markdown",
   "metadata": {},
   "source": [
    "## Title"
   ]
  },
  {
   "cell_type": "code",
   "execution_count": 4,
   "metadata": {},
   "outputs": [
    {
     "data": {
      "text/html": [
       "<div>\n",
       "<style scoped>\n",
       "    .dataframe tbody tr th:only-of-type {\n",
       "        vertical-align: middle;\n",
       "    }\n",
       "\n",
       "    .dataframe tbody tr th {\n",
       "        vertical-align: top;\n",
       "    }\n",
       "\n",
       "    .dataframe thead th {\n",
       "        text-align: right;\n",
       "    }\n",
       "</style>\n",
       "<table border=\"1\" class=\"dataframe\">\n",
       "  <thead>\n",
       "    <tr style=\"text-align: right;\">\n",
       "      <th></th>\n",
       "      <th>source</th>\n",
       "      <th>spec_number</th>\n",
       "      <th>spec_id</th>\n",
       "      <th>page_title</th>\n",
       "    </tr>\n",
       "  </thead>\n",
       "  <tbody>\n",
       "    <tr>\n",
       "      <th>0</th>\n",
       "      <td>www.wexphotographic.com</td>\n",
       "      <td>154</td>\n",
       "      <td>www.wexphotographic.com//154</td>\n",
       "      <td>nikon coolpix aw120 digital camera - camouflag...</td>\n",
       "    </tr>\n",
       "    <tr>\n",
       "      <th>1</th>\n",
       "      <td>www.wexphotographic.com</td>\n",
       "      <td>553</td>\n",
       "      <td>www.wexphotographic.com//553</td>\n",
       "      <td>canon ixus 150 digital camera - red (9148b007a...</td>\n",
       "    </tr>\n",
       "    <tr>\n",
       "      <th>2</th>\n",
       "      <td>www.wexphotographic.com</td>\n",
       "      <td>601</td>\n",
       "      <td>www.wexphotographic.com//601</td>\n",
       "      <td>fuji finepix s1 digital camera (p10nc12730a) -...</td>\n",
       "    </tr>\n",
       "    <tr>\n",
       "      <th>3</th>\n",
       "      <td>www.wexphotographic.com</td>\n",
       "      <td>197</td>\n",
       "      <td>www.wexphotographic.com//197</td>\n",
       "      <td>nikon coolpix s5300 digital camera - black (vn...</td>\n",
       "    </tr>\n",
       "    <tr>\n",
       "      <th>4</th>\n",
       "      <td>www.wexphotographic.com</td>\n",
       "      <td>178</td>\n",
       "      <td>www.wexphotographic.com//178</td>\n",
       "      <td>fuji finepix s8600 digital camera - red (p10nc...</td>\n",
       "    </tr>\n",
       "  </tbody>\n",
       "</table>\n",
       "</div>"
      ],
      "text/plain": [
       "                    source spec_number                       spec_id  \\\n",
       "0  www.wexphotographic.com         154  www.wexphotographic.com//154   \n",
       "1  www.wexphotographic.com         553  www.wexphotographic.com//553   \n",
       "2  www.wexphotographic.com         601  www.wexphotographic.com//601   \n",
       "3  www.wexphotographic.com         197  www.wexphotographic.com//197   \n",
       "4  www.wexphotographic.com         178  www.wexphotographic.com//178   \n",
       "\n",
       "                                          page_title  \n",
       "0  nikon coolpix aw120 digital camera - camouflag...  \n",
       "1  canon ixus 150 digital camera - red (9148b007a...  \n",
       "2  fuji finepix s1 digital camera (p10nc12730a) -...  \n",
       "3  nikon coolpix s5300 digital camera - black (vn...  \n",
       "4  fuji finepix s8600 digital camera - red (p10nc...  "
      ]
     },
     "execution_count": 4,
     "metadata": {},
     "output_type": "execute_result"
    }
   ],
   "source": [
    "df.head()"
   ]
  },
  {
   "cell_type": "code",
   "execution_count": 5,
   "metadata": {},
   "outputs": [],
   "source": [
    "df = df.drop(columns = [\"source\", \"spec_number\"], axis = 1)"
   ]
  },
  {
   "cell_type": "code",
   "execution_count": 6,
   "metadata": {},
   "outputs": [],
   "source": [
    "from nltk.corpus import stopwords\n",
    "\n",
    "stopWords = set(stopwords.words('english'))"
   ]
  },
  {
   "cell_type": "code",
   "execution_count": 7,
   "metadata": {},
   "outputs": [],
   "source": [
    "stopWords = set(['itself', 'down', 'by', 'with', 'doesn', 'wouldn', 'other', 'ours', 'of', 'then', 'where', 'don', 'these', 'nor', 'she', \"should've\", 'won', 'ma', 'from', 'had', \"you're\", 'our', 'did', 'them', 'too', 'her', 'that', 'haven', 'after', \"you'll\", 'hers', 'because', 'yourself', 'against', 'mightn', 'as', 'll', 'whom', 'how', 'couldn', 'further', 'aren', \"you'd\", 'and', 'needn', \"couldn't\", 'those', 'to', \"doesn't\", \"weren't\", 'both', 'ourselves', 'in', 'which', 'yours', 'under', 'some', 'what', 'during', 'before', \"needn't\", \"shan't\", 'here', 'having', 'hasn', 'your', \"hasn't\", 'between', 'me', \"she's\", 'into', 'all', 'at', 'shan', 'who', 'o', 'an', 'very', 'can', 'you', 'shouldn', 'such', 'but', 'do', 'out', 'am', \"shouldn't\", 'above', 'wasn', 'or', 'were', 'own', 'didn', \"you've\", 'on', 'will', 'my', 'it', 'have', 'once', 'only', 'been', 'themselves', 'his', 'be', \"mightn't\", 'they', 'not', 'so', 'up', 'any', 'most', 'has', 'myself', 't', 'yourselves', 'isn', \"it's\", 'y', 'm', 'now', 'until', 're', 'there', 'their', 'mustn', \"mustn't\", 'again', 'being', 'hadn', 'doing', 'just', 'no', 'if', 've', \"wasn't\", \"won't\", 'we', 'below', 'does', 'more', 'this', 'should', \"isn't\", 'ain', \"don't\", 'i', \"haven't\", 'than', \"didn't\", 'are', 'about', 'off', 'him', 'for', 'few', \"wouldn't\", 'was', 'weren', 'why', 'he', \"that'll\", 'd', 'the', 'its', 'a', 'each', 'is', 'while', \"aren't\", 'when', 'theirs', 'same', 's', 'himself', 'herself', \"hadn't\", 'through', 'over'])"
   ]
  },
  {
   "cell_type": "code",
   "execution_count": 8,
   "metadata": {},
   "outputs": [],
   "source": [
    "punctuation = \"!#$%&'()*+,-./:;<=>?@[\\]^_`{|}~€£¥₹₽\""
   ]
  },
  {
   "cell_type": "code",
   "execution_count": 9,
   "metadata": {},
   "outputs": [],
   "source": [
    "def replace_punctuation(word):\n",
    "    return ''.join(c for c in word if c not in punctuation)"
   ]
  },
  {
   "cell_type": "code",
   "execution_count": 10,
   "metadata": {},
   "outputs": [],
   "source": [
    "df[\"page_title\"] = df[\"page_title\"].apply(lambda x : [i.lower() for i in list(map(lambda y: replace_punctuation(y), word_tokenize(x))) if i and i.lower() not in stopWords])"
   ]
  },
  {
   "cell_type": "markdown",
   "metadata": {},
   "source": [
    "### Modelwords"
   ]
  },
  {
   "cell_type": "code",
   "execution_count": 11,
   "metadata": {},
   "outputs": [],
   "source": [
    "pattern = re.compile(\"(\\S*[A-Za-z]\\S*[0-9]\\S*|\\S*[0-9]\\S*[A-Za-z]\\S*)\")"
   ]
  },
  {
   "cell_type": "code",
   "execution_count": 12,
   "metadata": {},
   "outputs": [],
   "source": [
    "## In the data replace lumix with panasonic"
   ]
  },
  {
   "cell_type": "code",
   "execution_count": 13,
   "metadata": {},
   "outputs": [],
   "source": [
    "brands = ['360fly', 'acer', 'achiever', 'acorn', 'actionpro', 'activeon', 'aee', 'agfa', 'agfaphoto', 'aiptek', 'akaso', 'alpine', 'alpine', 'amkov', 'andoer', 'annke', 'ansco', 'apeman', 'apex', 'apple', 'archos', 'argus', 'arlo', 'arri', 'axis', 'bell', 'benq', 'blackmagic', 'blackmagic', 'bosch', 'bower', 'brinno', 'brookstone', 'browning', 'cambo', 'campark', 'canon', 'carl', 'casio', 'celestron', 'chinon', 'cisco', 'cobra', 'coleman', 'concord', 'contax', 'contour', 'covert', 'craig', 'crayola', 'creative', 'creative', 'crosstour', 'crumpler', 'datavideo', 'delkin', 'dell', 'digitrex', 'discovery', 'disney', 'dji', 'd-link', 'domke', 'dörr', 'dragon', 'dxg', 'dxo', 'easypix', 'elecom', 'elmo', 'emerson', 'energizer', 'epson', 'fisher-price', 'flip', 'flir', 'foscam', 'fotoman', 'fotopro', 'fuji', 'fujifilm', 'fujinon', 'garmin', 'gateway', 'godox', 'goodmans', 'google', 'gopro', 'grundig', 'hahnel', 'hamilton', 'hasselblad', 'hello', 'herofiber', 'hitachi', 'holga', 'horseman', 'hoya', 'htc', 'huawei', 'ikelite', 'ilford', 'impossible', 'innovage', 'insignia', 'insta360', 'intel', 'intova', 'ion', 'iris', 'jazz', 'jenoptik', 'jjrc', 'jvc', 'kaiser', 'kenko', 'keyence', 'king', 'kitvision', 'kodak', 'konica', 'kyocera', 'leaf', 'lego', 'leica', 'lenovo', 'lexibook', 'linhof', 'liquid', 'little', 'logitech', 'lomography', 'lowepro', 'ltl', 'lytro', 'maginon', 'magnavox', 'mamiya', 'manfrotto', 'marshall', 'marumi', 'mattel', 'maxell', 'meade', 'medion', 'memorex', 'mercury', 'metz', 'microsoft', 'microtek', 'midland', 'minolta', 'minox', 'monster', 'motorola', 'moultrie', 'mustek', 'nabi', 'neewer', 'nest', 'netgear', 'night', 'nikkon', 'nikkor', 'nikon', 'nilox', 'nintendo', 'nippon', 'nokia', 'norcent', 'olympus', 'optech', 'ordro', 'oregon', 'packard', 'palm', 'panasonic', 'parrot', 'pelco', 'pentacon', 'pentax', 'phase', 'philips', 'philips', 'phoenix', 'pioneer', 'playskool', 'polaroid', 'polarpro', 'praktica', 'premier', 'promaster', 'proscan', 'pyle', 'radioshack', 'raymarine', 'raynox', 'rca', 'ricoh', 'ring', 'rode', 'rokinon', 'rollei', 'ryobi', 'sakar', 'samsung', 'sandisk', 'sanyo', 'schneider', 'schneider', 'schneider', 'scosche', 'seasea', 'sealife', 'sharp', 'sharper', 'sigma', 'sinar', 'sipix', 'sjcam', 'sony', 'soocoo', 'stealth', 'superheadz', 'svp', 'swann', 'tamrac', 'tamron', 'technika', 'tenba', 'think', 'thule', 'tokina', 'tomy', 'toshiba', 'transcend', 'traveler', 'trust', 'verbatim', 'vibe', 'victure', 'vistaquest', 'vivitar', 'voigtländer', 'vtech', 'vupoint', 'walimex', 'wyze', 'xiaomi', 'xit', 'xtreme', 'yashica', 'zeiss']"
   ]
  },
  {
   "cell_type": "code",
   "execution_count": 14,
   "metadata": {},
   "outputs": [],
   "source": [
    "df[\"page_title\"] = df[\"page_title\"].apply(lambda line : list(set(filter(lambda word : bool(pattern.match(word)) or word in brands,line))))"
   ]
  },
  {
   "cell_type": "code",
   "execution_count": 15,
   "metadata": {},
   "outputs": [
    {
     "data": {
      "text/html": [
       "<div>\n",
       "<style scoped>\n",
       "    .dataframe tbody tr th:only-of-type {\n",
       "        vertical-align: middle;\n",
       "    }\n",
       "\n",
       "    .dataframe tbody tr th {\n",
       "        vertical-align: top;\n",
       "    }\n",
       "\n",
       "    .dataframe thead th {\n",
       "        text-align: right;\n",
       "    }\n",
       "</style>\n",
       "<table border=\"1\" class=\"dataframe\">\n",
       "  <thead>\n",
       "    <tr style=\"text-align: right;\">\n",
       "      <th></th>\n",
       "      <th>spec_id</th>\n",
       "      <th>page_title</th>\n",
       "    </tr>\n",
       "  </thead>\n",
       "  <tbody>\n",
       "    <tr>\n",
       "      <th>0</th>\n",
       "      <td>www.wexphotographic.com//154</td>\n",
       "      <td>[aw120, nikon, vna593e1]</td>\n",
       "    </tr>\n",
       "    <tr>\n",
       "      <th>1</th>\n",
       "      <td>www.wexphotographic.com//553</td>\n",
       "      <td>[9148b007aa, canon]</td>\n",
       "    </tr>\n",
       "    <tr>\n",
       "      <th>2</th>\n",
       "      <td>www.wexphotographic.com//601</td>\n",
       "      <td>[p10nc12730a, fuji, s1]</td>\n",
       "    </tr>\n",
       "    <tr>\n",
       "      <th>3</th>\n",
       "      <td>www.wexphotographic.com//197</td>\n",
       "      <td>[vna540e1, nikon, s5300]</td>\n",
       "    </tr>\n",
       "    <tr>\n",
       "      <th>4</th>\n",
       "      <td>www.wexphotographic.com//178</td>\n",
       "      <td>[p10nc12690a, fuji, s8600]</td>\n",
       "    </tr>\n",
       "  </tbody>\n",
       "</table>\n",
       "</div>"
      ],
      "text/plain": [
       "                        spec_id                  page_title\n",
       "0  www.wexphotographic.com//154    [aw120, nikon, vna593e1]\n",
       "1  www.wexphotographic.com//553         [9148b007aa, canon]\n",
       "2  www.wexphotographic.com//601     [p10nc12730a, fuji, s1]\n",
       "3  www.wexphotographic.com//197    [vna540e1, nikon, s5300]\n",
       "4  www.wexphotographic.com//178  [p10nc12690a, fuji, s8600]"
      ]
     },
     "execution_count": 15,
     "metadata": {},
     "output_type": "execute_result"
    }
   ],
   "source": [
    "df.head()"
   ]
  },
  {
   "cell_type": "code",
   "execution_count": 16,
   "metadata": {},
   "outputs": [],
   "source": [
    "df[\"brand\"] = [[] for _ in range(len(df))]"
   ]
  },
  {
   "cell_type": "code",
   "execution_count": 17,
   "metadata": {},
   "outputs": [],
   "source": [
    "# Create brand column\n",
    "for index, row in df.iterrows():\n",
    "    for brand in row[\"page_title\"]:\n",
    "        if brand in brands:\n",
    "            if not brand in df.at[index, \"brand\"]:\n",
    "                df.at[index, \"brand\"].append(brand)\n",
    "                row[\"page_title\"].remove(brand)"
   ]
  },
  {
   "cell_type": "code",
   "execution_count": 18,
   "metadata": {},
   "outputs": [],
   "source": [
    "def clean_mp_mm_g_oz(value):\n",
    "    if not isinstance(value, list) and pd.isna(value):\n",
    "        return np.nan\n",
    "    regex = r\"[0-9]+mm(\\n|)\"\n",
    "    regex2 = r\"[0-9]+mp(\\n|)\"\n",
    "    regex3 = r\"[0-9]+oz\"\n",
    "    regex4 = r\"[0-9]+g(\\n|)$\"\n",
    "    repl = value\n",
    "    for e in repl:\n",
    "        if bool(re.match(regex, e)) or bool(re.match(regex2, e)) or bool(re.match(regex3, e)) or bool(re.match(regex4, e)):\n",
    "            repl.remove(e)\n",
    "    return repl"
   ]
  },
  {
   "cell_type": "code",
   "execution_count": 19,
   "metadata": {},
   "outputs": [],
   "source": [
    "df[\"page_title\"] = df[\"page_title\"].apply(lambda row : clean_mp_mm_g_oz(row))"
   ]
  },
  {
   "cell_type": "code",
   "execution_count": 20,
   "metadata": {},
   "outputs": [
    {
     "data": {
      "text/html": [
       "<div>\n",
       "<style scoped>\n",
       "    .dataframe tbody tr th:only-of-type {\n",
       "        vertical-align: middle;\n",
       "    }\n",
       "\n",
       "    .dataframe tbody tr th {\n",
       "        vertical-align: top;\n",
       "    }\n",
       "\n",
       "    .dataframe thead th {\n",
       "        text-align: right;\n",
       "    }\n",
       "</style>\n",
       "<table border=\"1\" class=\"dataframe\">\n",
       "  <thead>\n",
       "    <tr style=\"text-align: right;\">\n",
       "      <th></th>\n",
       "      <th>spec_id</th>\n",
       "      <th>page_title</th>\n",
       "      <th>brand</th>\n",
       "    </tr>\n",
       "  </thead>\n",
       "  <tbody>\n",
       "    <tr>\n",
       "      <th>0</th>\n",
       "      <td>www.wexphotographic.com//154</td>\n",
       "      <td>[aw120, vna593e1]</td>\n",
       "      <td>[nikon]</td>\n",
       "    </tr>\n",
       "    <tr>\n",
       "      <th>1</th>\n",
       "      <td>www.wexphotographic.com//553</td>\n",
       "      <td>[9148b007aa]</td>\n",
       "      <td>[canon]</td>\n",
       "    </tr>\n",
       "    <tr>\n",
       "      <th>2</th>\n",
       "      <td>www.wexphotographic.com//601</td>\n",
       "      <td>[p10nc12730a, s1]</td>\n",
       "      <td>[fuji]</td>\n",
       "    </tr>\n",
       "    <tr>\n",
       "      <th>3</th>\n",
       "      <td>www.wexphotographic.com//197</td>\n",
       "      <td>[vna540e1, s5300]</td>\n",
       "      <td>[nikon]</td>\n",
       "    </tr>\n",
       "    <tr>\n",
       "      <th>4</th>\n",
       "      <td>www.wexphotographic.com//178</td>\n",
       "      <td>[p10nc12690a, s8600]</td>\n",
       "      <td>[fuji]</td>\n",
       "    </tr>\n",
       "  </tbody>\n",
       "</table>\n",
       "</div>"
      ],
      "text/plain": [
       "                        spec_id            page_title    brand\n",
       "0  www.wexphotographic.com//154     [aw120, vna593e1]  [nikon]\n",
       "1  www.wexphotographic.com//553          [9148b007aa]  [canon]\n",
       "2  www.wexphotographic.com//601     [p10nc12730a, s1]   [fuji]\n",
       "3  www.wexphotographic.com//197     [vna540e1, s5300]  [nikon]\n",
       "4  www.wexphotographic.com//178  [p10nc12690a, s8600]   [fuji]"
      ]
     },
     "execution_count": 20,
     "metadata": {},
     "output_type": "execute_result"
    }
   ],
   "source": [
    "df.head()"
   ]
  },
  {
   "cell_type": "markdown",
   "metadata": {},
   "source": [
    "## Load cleaned datasets"
   ]
  },
  {
   "cell_type": "code",
   "execution_count": 21,
   "metadata": {},
   "outputs": [],
   "source": [
    "import os\n",
    "import glob\n",
    "\n",
    "os.chdir(\"../datasets/unlabeled/cleaned\")\n",
    "extension = 'csv'\n",
    "all_filenames = [i for i in glob.glob('*.{}'.format(extension))]\n",
    "df_cleaned = pd.concat([pd.read_csv(f) for f in all_filenames ])\n",
    "#export to csv"
   ]
  },
  {
   "cell_type": "code",
   "execution_count": 22,
   "metadata": {},
   "outputs": [],
   "source": [
    "df_cleaned = df_cleaned.reset_index(drop = True)"
   ]
  },
  {
   "cell_type": "code",
   "execution_count": 23,
   "metadata": {},
   "outputs": [
    {
     "data": {
      "text/html": [
       "<div>\n",
       "<style scoped>\n",
       "    .dataframe tbody tr th:only-of-type {\n",
       "        vertical-align: middle;\n",
       "    }\n",
       "\n",
       "    .dataframe tbody tr th {\n",
       "        vertical-align: top;\n",
       "    }\n",
       "\n",
       "    .dataframe thead th {\n",
       "        text-align: right;\n",
       "    }\n",
       "</style>\n",
       "<table border=\"1\" class=\"dataframe\">\n",
       "  <thead>\n",
       "    <tr style=\"text-align: right;\">\n",
       "      <th></th>\n",
       "      <th>spec_id</th>\n",
       "      <th>brand</th>\n",
       "      <th>weight</th>\n",
       "      <th>manufacturer</th>\n",
       "      <th>short_descr</th>\n",
       "      <th>megapixels</th>\n",
       "      <th>dimensions</th>\n",
       "      <th>screen_size</th>\n",
       "      <th>type</th>\n",
       "      <th>dots</th>\n",
       "    </tr>\n",
       "  </thead>\n",
       "  <tbody>\n",
       "    <tr>\n",
       "      <th>0</th>\n",
       "      <td>www.canon-europe.com//115</td>\n",
       "      <td>canon</td>\n",
       "      <td>NaN</td>\n",
       "      <td>NaN</td>\n",
       "      <td>NaN</td>\n",
       "      <td>NaN</td>\n",
       "      <td>NaN</td>\n",
       "      <td>NaN</td>\n",
       "      <td>NaN</td>\n",
       "      <td>NaN</td>\n",
       "    </tr>\n",
       "    <tr>\n",
       "      <th>1</th>\n",
       "      <td>www.canon-europe.com//154</td>\n",
       "      <td>canon</td>\n",
       "      <td>NaN</td>\n",
       "      <td>NaN</td>\n",
       "      <td>NaN</td>\n",
       "      <td>NaN</td>\n",
       "      <td>NaN</td>\n",
       "      <td>NaN</td>\n",
       "      <td>NaN</td>\n",
       "      <td>NaN</td>\n",
       "    </tr>\n",
       "    <tr>\n",
       "      <th>2</th>\n",
       "      <td>www.canon-europe.com//103</td>\n",
       "      <td>canon</td>\n",
       "      <td>NaN</td>\n",
       "      <td>NaN</td>\n",
       "      <td>NaN</td>\n",
       "      <td>NaN</td>\n",
       "      <td>NaN</td>\n",
       "      <td>NaN</td>\n",
       "      <td>NaN</td>\n",
       "      <td>NaN</td>\n",
       "    </tr>\n",
       "    <tr>\n",
       "      <th>3</th>\n",
       "      <td>www.canon-europe.com//20</td>\n",
       "      <td>canon</td>\n",
       "      <td>NaN</td>\n",
       "      <td>NaN</td>\n",
       "      <td>NaN</td>\n",
       "      <td>NaN</td>\n",
       "      <td>NaN</td>\n",
       "      <td>NaN</td>\n",
       "      <td>NaN</td>\n",
       "      <td>NaN</td>\n",
       "    </tr>\n",
       "    <tr>\n",
       "      <th>4</th>\n",
       "      <td>www.canon-europe.com//98</td>\n",
       "      <td>canon</td>\n",
       "      <td>NaN</td>\n",
       "      <td>NaN</td>\n",
       "      <td>NaN</td>\n",
       "      <td>NaN</td>\n",
       "      <td>NaN</td>\n",
       "      <td>NaN</td>\n",
       "      <td>NaN</td>\n",
       "      <td>NaN</td>\n",
       "    </tr>\n",
       "  </tbody>\n",
       "</table>\n",
       "</div>"
      ],
      "text/plain": [
       "                     spec_id  brand  weight manufacturer short_descr  \\\n",
       "0  www.canon-europe.com//115  canon     NaN          NaN         NaN   \n",
       "1  www.canon-europe.com//154  canon     NaN          NaN         NaN   \n",
       "2  www.canon-europe.com//103  canon     NaN          NaN         NaN   \n",
       "3   www.canon-europe.com//20  canon     NaN          NaN         NaN   \n",
       "4   www.canon-europe.com//98  canon     NaN          NaN         NaN   \n",
       "\n",
       "   megapixels dimensions  screen_size type dots  \n",
       "0         NaN        NaN          NaN  NaN  NaN  \n",
       "1         NaN        NaN          NaN  NaN  NaN  \n",
       "2         NaN        NaN          NaN  NaN  NaN  \n",
       "3         NaN        NaN          NaN  NaN  NaN  \n",
       "4         NaN        NaN          NaN  NaN  NaN  "
      ]
     },
     "execution_count": 23,
     "metadata": {},
     "output_type": "execute_result"
    }
   ],
   "source": [
    "df_cleaned.head()"
   ]
  },
  {
   "cell_type": "markdown",
   "metadata": {},
   "source": [
    "## Merge clean with title"
   ]
  },
  {
   "cell_type": "code",
   "execution_count": 24,
   "metadata": {},
   "outputs": [],
   "source": [
    "df = df.merge(df_cleaned, on=\"spec_id\")"
   ]
  },
  {
   "cell_type": "code",
   "execution_count": 25,
   "metadata": {},
   "outputs": [
    {
     "data": {
      "text/html": [
       "<div>\n",
       "<style scoped>\n",
       "    .dataframe tbody tr th:only-of-type {\n",
       "        vertical-align: middle;\n",
       "    }\n",
       "\n",
       "    .dataframe tbody tr th {\n",
       "        vertical-align: top;\n",
       "    }\n",
       "\n",
       "    .dataframe thead th {\n",
       "        text-align: right;\n",
       "    }\n",
       "</style>\n",
       "<table border=\"1\" class=\"dataframe\">\n",
       "  <thead>\n",
       "    <tr style=\"text-align: right;\">\n",
       "      <th></th>\n",
       "      <th>spec_id</th>\n",
       "      <th>page_title</th>\n",
       "      <th>brand_x</th>\n",
       "      <th>brand_y</th>\n",
       "      <th>weight</th>\n",
       "      <th>manufacturer</th>\n",
       "      <th>short_descr</th>\n",
       "      <th>megapixels</th>\n",
       "      <th>dimensions</th>\n",
       "      <th>screen_size</th>\n",
       "      <th>type</th>\n",
       "      <th>dots</th>\n",
       "    </tr>\n",
       "  </thead>\n",
       "  <tbody>\n",
       "    <tr>\n",
       "      <th>0</th>\n",
       "      <td>www.wexphotographic.com//154</td>\n",
       "      <td>[aw120, vna593e1]</td>\n",
       "      <td>[nikon]</td>\n",
       "      <td>NaN</td>\n",
       "      <td>NaN</td>\n",
       "      <td>NaN</td>\n",
       "      <td>NaN</td>\n",
       "      <td>16.0</td>\n",
       "      <td>NaN</td>\n",
       "      <td>3.0</td>\n",
       "      <td>NaN</td>\n",
       "      <td>NaN</td>\n",
       "    </tr>\n",
       "    <tr>\n",
       "      <th>1</th>\n",
       "      <td>www.wexphotographic.com//553</td>\n",
       "      <td>[9148b007aa]</td>\n",
       "      <td>[canon]</td>\n",
       "      <td>NaN</td>\n",
       "      <td>NaN</td>\n",
       "      <td>NaN</td>\n",
       "      <td>NaN</td>\n",
       "      <td>16.0</td>\n",
       "      <td>NaN</td>\n",
       "      <td>2.7</td>\n",
       "      <td>NaN</td>\n",
       "      <td>NaN</td>\n",
       "    </tr>\n",
       "    <tr>\n",
       "      <th>2</th>\n",
       "      <td>www.wexphotographic.com//601</td>\n",
       "      <td>[p10nc12730a, s1]</td>\n",
       "      <td>[fuji]</td>\n",
       "      <td>NaN</td>\n",
       "      <td>NaN</td>\n",
       "      <td>NaN</td>\n",
       "      <td>NaN</td>\n",
       "      <td>16.4</td>\n",
       "      <td>NaN</td>\n",
       "      <td>3.0</td>\n",
       "      <td>NaN</td>\n",
       "      <td>NaN</td>\n",
       "    </tr>\n",
       "    <tr>\n",
       "      <th>3</th>\n",
       "      <td>www.wexphotographic.com//197</td>\n",
       "      <td>[vna540e1, s5300]</td>\n",
       "      <td>[nikon]</td>\n",
       "      <td>NaN</td>\n",
       "      <td>NaN</td>\n",
       "      <td>NaN</td>\n",
       "      <td>NaN</td>\n",
       "      <td>16.0</td>\n",
       "      <td>NaN</td>\n",
       "      <td>3.0</td>\n",
       "      <td>NaN</td>\n",
       "      <td>NaN</td>\n",
       "    </tr>\n",
       "    <tr>\n",
       "      <th>4</th>\n",
       "      <td>www.wexphotographic.com//178</td>\n",
       "      <td>[p10nc12690a, s8600]</td>\n",
       "      <td>[fuji]</td>\n",
       "      <td>NaN</td>\n",
       "      <td>NaN</td>\n",
       "      <td>NaN</td>\n",
       "      <td>NaN</td>\n",
       "      <td>16.0</td>\n",
       "      <td>NaN</td>\n",
       "      <td>3.0</td>\n",
       "      <td>NaN</td>\n",
       "      <td>NaN</td>\n",
       "    </tr>\n",
       "  </tbody>\n",
       "</table>\n",
       "</div>"
      ],
      "text/plain": [
       "                        spec_id            page_title  brand_x brand_y  \\\n",
       "0  www.wexphotographic.com//154     [aw120, vna593e1]  [nikon]     NaN   \n",
       "1  www.wexphotographic.com//553          [9148b007aa]  [canon]     NaN   \n",
       "2  www.wexphotographic.com//601     [p10nc12730a, s1]   [fuji]     NaN   \n",
       "3  www.wexphotographic.com//197     [vna540e1, s5300]  [nikon]     NaN   \n",
       "4  www.wexphotographic.com//178  [p10nc12690a, s8600]   [fuji]     NaN   \n",
       "\n",
       "   weight manufacturer short_descr  megapixels dimensions  screen_size type  \\\n",
       "0     NaN          NaN         NaN        16.0        NaN          3.0  NaN   \n",
       "1     NaN          NaN         NaN        16.0        NaN          2.7  NaN   \n",
       "2     NaN          NaN         NaN        16.4        NaN          3.0  NaN   \n",
       "3     NaN          NaN         NaN        16.0        NaN          3.0  NaN   \n",
       "4     NaN          NaN         NaN        16.0        NaN          3.0  NaN   \n",
       "\n",
       "  dots  \n",
       "0  NaN  \n",
       "1  NaN  \n",
       "2  NaN  \n",
       "3  NaN  \n",
       "4  NaN  "
      ]
     },
     "execution_count": 25,
     "metadata": {},
     "output_type": "execute_result"
    }
   ],
   "source": [
    "df.head()"
   ]
  },
  {
   "cell_type": "code",
   "execution_count": 26,
   "metadata": {},
   "outputs": [],
   "source": [
    "df.rename(columns={\"brand_x\" : \"brand_from_title\", \"brand_y\" : \"brand_descr\"}, inplace=True)"
   ]
  },
  {
   "cell_type": "code",
   "execution_count": 27,
   "metadata": {},
   "outputs": [
    {
     "data": {
      "text/html": [
       "<div>\n",
       "<style scoped>\n",
       "    .dataframe tbody tr th:only-of-type {\n",
       "        vertical-align: middle;\n",
       "    }\n",
       "\n",
       "    .dataframe tbody tr th {\n",
       "        vertical-align: top;\n",
       "    }\n",
       "\n",
       "    .dataframe thead th {\n",
       "        text-align: right;\n",
       "    }\n",
       "</style>\n",
       "<table border=\"1\" class=\"dataframe\">\n",
       "  <thead>\n",
       "    <tr style=\"text-align: right;\">\n",
       "      <th></th>\n",
       "      <th>spec_id</th>\n",
       "      <th>page_title</th>\n",
       "      <th>brand_from_title</th>\n",
       "      <th>brand_descr</th>\n",
       "      <th>weight</th>\n",
       "      <th>manufacturer</th>\n",
       "      <th>short_descr</th>\n",
       "      <th>megapixels</th>\n",
       "      <th>dimensions</th>\n",
       "      <th>screen_size</th>\n",
       "      <th>type</th>\n",
       "      <th>dots</th>\n",
       "    </tr>\n",
       "  </thead>\n",
       "  <tbody>\n",
       "    <tr>\n",
       "      <th>0</th>\n",
       "      <td>www.wexphotographic.com//154</td>\n",
       "      <td>[aw120, vna593e1]</td>\n",
       "      <td>[nikon]</td>\n",
       "      <td>NaN</td>\n",
       "      <td>NaN</td>\n",
       "      <td>NaN</td>\n",
       "      <td>NaN</td>\n",
       "      <td>16.0</td>\n",
       "      <td>NaN</td>\n",
       "      <td>3.0</td>\n",
       "      <td>NaN</td>\n",
       "      <td>NaN</td>\n",
       "    </tr>\n",
       "    <tr>\n",
       "      <th>1</th>\n",
       "      <td>www.wexphotographic.com//553</td>\n",
       "      <td>[9148b007aa]</td>\n",
       "      <td>[canon]</td>\n",
       "      <td>NaN</td>\n",
       "      <td>NaN</td>\n",
       "      <td>NaN</td>\n",
       "      <td>NaN</td>\n",
       "      <td>16.0</td>\n",
       "      <td>NaN</td>\n",
       "      <td>2.7</td>\n",
       "      <td>NaN</td>\n",
       "      <td>NaN</td>\n",
       "    </tr>\n",
       "    <tr>\n",
       "      <th>2</th>\n",
       "      <td>www.wexphotographic.com//601</td>\n",
       "      <td>[p10nc12730a, s1]</td>\n",
       "      <td>[fuji]</td>\n",
       "      <td>NaN</td>\n",
       "      <td>NaN</td>\n",
       "      <td>NaN</td>\n",
       "      <td>NaN</td>\n",
       "      <td>16.4</td>\n",
       "      <td>NaN</td>\n",
       "      <td>3.0</td>\n",
       "      <td>NaN</td>\n",
       "      <td>NaN</td>\n",
       "    </tr>\n",
       "    <tr>\n",
       "      <th>3</th>\n",
       "      <td>www.wexphotographic.com//197</td>\n",
       "      <td>[vna540e1, s5300]</td>\n",
       "      <td>[nikon]</td>\n",
       "      <td>NaN</td>\n",
       "      <td>NaN</td>\n",
       "      <td>NaN</td>\n",
       "      <td>NaN</td>\n",
       "      <td>16.0</td>\n",
       "      <td>NaN</td>\n",
       "      <td>3.0</td>\n",
       "      <td>NaN</td>\n",
       "      <td>NaN</td>\n",
       "    </tr>\n",
       "    <tr>\n",
       "      <th>4</th>\n",
       "      <td>www.wexphotographic.com//178</td>\n",
       "      <td>[p10nc12690a, s8600]</td>\n",
       "      <td>[fuji]</td>\n",
       "      <td>NaN</td>\n",
       "      <td>NaN</td>\n",
       "      <td>NaN</td>\n",
       "      <td>NaN</td>\n",
       "      <td>16.0</td>\n",
       "      <td>NaN</td>\n",
       "      <td>3.0</td>\n",
       "      <td>NaN</td>\n",
       "      <td>NaN</td>\n",
       "    </tr>\n",
       "  </tbody>\n",
       "</table>\n",
       "</div>"
      ],
      "text/plain": [
       "                        spec_id            page_title brand_from_title  \\\n",
       "0  www.wexphotographic.com//154     [aw120, vna593e1]          [nikon]   \n",
       "1  www.wexphotographic.com//553          [9148b007aa]          [canon]   \n",
       "2  www.wexphotographic.com//601     [p10nc12730a, s1]           [fuji]   \n",
       "3  www.wexphotographic.com//197     [vna540e1, s5300]          [nikon]   \n",
       "4  www.wexphotographic.com//178  [p10nc12690a, s8600]           [fuji]   \n",
       "\n",
       "  brand_descr  weight manufacturer short_descr  megapixels dimensions  \\\n",
       "0         NaN     NaN          NaN         NaN        16.0        NaN   \n",
       "1         NaN     NaN          NaN         NaN        16.0        NaN   \n",
       "2         NaN     NaN          NaN         NaN        16.4        NaN   \n",
       "3         NaN     NaN          NaN         NaN        16.0        NaN   \n",
       "4         NaN     NaN          NaN         NaN        16.0        NaN   \n",
       "\n",
       "   screen_size type dots  \n",
       "0          3.0  NaN  NaN  \n",
       "1          2.7  NaN  NaN  \n",
       "2          3.0  NaN  NaN  \n",
       "3          3.0  NaN  NaN  \n",
       "4          3.0  NaN  NaN  "
      ]
     },
     "execution_count": 27,
     "metadata": {},
     "output_type": "execute_result"
    }
   ],
   "source": [
    "df.head()"
   ]
  },
  {
   "cell_type": "code",
   "execution_count": 28,
   "metadata": {},
   "outputs": [],
   "source": [
    "def clean_short_descr(line):\n",
    "    pattern = re.compile(\"(\\S*[A-Za-z]\\S*[0-9]\\S*|\\S*[0-9]\\S*[A-Za-z]\\S*)\")\n",
    "    brands = ['360fly', 'acer', 'achiever', 'acorn', 'actionpro', 'activeon', 'aee', 'agfa', 'agfaphoto', 'aiptek', 'akaso', 'alpine', 'alpine', 'amkov', 'andoer', 'annke', 'ansco', 'apeman', 'apex', 'apple', 'archos', 'argus', 'arlo', 'arri', 'axis', 'bell', 'benq', 'blackmagic', 'blackmagic', 'bosch', 'bower', 'brinno', 'brookstone', 'browning', 'cambo', 'campark', 'canon', 'carl', 'casio', 'celestron', 'chinon', 'cisco', 'cobra', 'coleman', 'concord', 'contax', 'contour', 'covert', 'craig', 'crayola', 'creative', 'creative', 'crosstour', 'crumpler', 'datavideo', 'delkin', 'dell', 'digitrex', 'discovery', 'disney', 'dji', 'd-link', 'domke', 'dörr', 'dorr', 'dragon', 'dxg', 'dxo', 'easypix', 'elecom', 'elmo', 'emerson', 'energizer', 'epson', 'fisher-price', 'flip', 'flir', 'foscam', 'fotoman', 'fotopro', 'fuji', 'fujifilm', 'fujinon', 'garmin', 'gateway', 'godox', 'goodmans', 'google', 'gopro', 'grundig', 'hahnel', 'hamilton', 'hasselblad', 'hello', 'herofiber', 'hitachi', 'holga', 'horseman', 'hoya', 'htc', 'huawei', 'ikelite', 'ilford', 'impossible', 'innovage', 'insignia', 'insta360', 'intel', 'intova', 'ion', 'iris', 'jazz', 'jenoptik', 'jjrc', 'jvc', 'kaiser', 'kenko', 'keyence', 'king', 'kitvision', 'kodak', 'konica', 'kyocera', 'leaf', 'lego', 'leica', 'lenovo', 'lexibook', 'linhof', 'liquid', 'logitech', 'lomography', 'lowepro', 'ltl', 'lytro', 'maginon', 'magnavox', 'mamiya', 'manfrotto', 'marshall', 'marumi', 'mattel', 'maxell', 'meade', 'medion', 'memorex', 'mercury', 'metz', 'microsoft', 'microtek', 'midland', 'minolta', 'minox', 'monster', 'motorola', 'moultrie', 'mustek', 'nabi', 'neewer', 'nest', 'netgear', 'nikkon', 'nikkor', 'nikon', 'nilox', 'nintendo', 'nippon', 'nokia', 'norcent', 'olympus', 'optech', 'ordro', 'oregon', 'packard', 'palm', 'panasonic', 'parrot', 'pelco', 'pentacon', 'pentax', 'phase', 'philips', 'philips', 'phoenix', 'pioneer', 'playskool', 'polaroid', 'polarpro', 'praktica', 'premier', 'promaster', 'proscan', 'pyle', 'radioshack', 'raymarine', 'raynox', 'rca', 'ricoh', 'ring', 'rode', 'rokinon', 'rollei', 'ryobi', 'sakar', 'samsung', 'sandisk', 'sanyo', 'schneider', 'schneider', 'schneider', 'scosche', 'seasea', 'sealife', 'sharp', 'sharper', 'sigma', 'sinar', 'sipix', 'sjcam', 'sony', 'soocoo', 'stealth', 'superheadz', 'svp', 'swann', 'tamrac', 'tamron', 'technika', 'tenba', 'think', 'thule', 'tokina', 'tomy', 'toshiba', 'transcend', 'traveler', 'trust', 'verbatim', 'vibe', 'victure', 'vistaquest', 'vivitar', 'voigtländer', 'vtech', 'vupoint', 'walimex', 'wyze', 'xiaomi', 'xit', 'xtreme', 'yashica', 'zeiss']\n",
    "    if not isinstance(line, list) and pd.isna(line):\n",
    "        return np.nan\n",
    "    else:\n",
    "        line = ast.literal_eval(line)\n",
    "        return list(set(filter(lambda word : bool(pattern.match(word)) or word in brands,line)))"
   ]
  },
  {
   "cell_type": "code",
   "execution_count": 29,
   "metadata": {},
   "outputs": [],
   "source": [
    "df[\"short_descr\"] = df[\"short_descr\"].apply(clean_short_descr)"
   ]
  },
  {
   "cell_type": "code",
   "execution_count": 30,
   "metadata": {},
   "outputs": [],
   "source": [
    "df[\"short_descr\"] = df[\"short_descr\"].apply(lambda row : clean_mp_mm_g_oz(row))"
   ]
  },
  {
   "cell_type": "code",
   "execution_count": 31,
   "metadata": {},
   "outputs": [
    {
     "data": {
      "text/html": [
       "<div>\n",
       "<style scoped>\n",
       "    .dataframe tbody tr th:only-of-type {\n",
       "        vertical-align: middle;\n",
       "    }\n",
       "\n",
       "    .dataframe tbody tr th {\n",
       "        vertical-align: top;\n",
       "    }\n",
       "\n",
       "    .dataframe thead th {\n",
       "        text-align: right;\n",
       "    }\n",
       "</style>\n",
       "<table border=\"1\" class=\"dataframe\">\n",
       "  <thead>\n",
       "    <tr style=\"text-align: right;\">\n",
       "      <th></th>\n",
       "      <th>spec_id</th>\n",
       "      <th>page_title</th>\n",
       "      <th>brand_from_title</th>\n",
       "      <th>brand_descr</th>\n",
       "      <th>weight</th>\n",
       "      <th>manufacturer</th>\n",
       "      <th>short_descr</th>\n",
       "      <th>megapixels</th>\n",
       "      <th>dimensions</th>\n",
       "      <th>screen_size</th>\n",
       "      <th>type</th>\n",
       "      <th>dots</th>\n",
       "    </tr>\n",
       "  </thead>\n",
       "  <tbody>\n",
       "    <tr>\n",
       "      <th>0</th>\n",
       "      <td>www.wexphotographic.com//154</td>\n",
       "      <td>[aw120, vna593e1]</td>\n",
       "      <td>[nikon]</td>\n",
       "      <td>NaN</td>\n",
       "      <td>NaN</td>\n",
       "      <td>NaN</td>\n",
       "      <td>NaN</td>\n",
       "      <td>16.0</td>\n",
       "      <td>NaN</td>\n",
       "      <td>3.0</td>\n",
       "      <td>NaN</td>\n",
       "      <td>NaN</td>\n",
       "    </tr>\n",
       "    <tr>\n",
       "      <th>1</th>\n",
       "      <td>www.wexphotographic.com//553</td>\n",
       "      <td>[9148b007aa]</td>\n",
       "      <td>[canon]</td>\n",
       "      <td>NaN</td>\n",
       "      <td>NaN</td>\n",
       "      <td>NaN</td>\n",
       "      <td>NaN</td>\n",
       "      <td>16.0</td>\n",
       "      <td>NaN</td>\n",
       "      <td>2.7</td>\n",
       "      <td>NaN</td>\n",
       "      <td>NaN</td>\n",
       "    </tr>\n",
       "    <tr>\n",
       "      <th>2</th>\n",
       "      <td>www.wexphotographic.com//601</td>\n",
       "      <td>[p10nc12730a, s1]</td>\n",
       "      <td>[fuji]</td>\n",
       "      <td>NaN</td>\n",
       "      <td>NaN</td>\n",
       "      <td>NaN</td>\n",
       "      <td>NaN</td>\n",
       "      <td>16.4</td>\n",
       "      <td>NaN</td>\n",
       "      <td>3.0</td>\n",
       "      <td>NaN</td>\n",
       "      <td>NaN</td>\n",
       "    </tr>\n",
       "    <tr>\n",
       "      <th>3</th>\n",
       "      <td>www.wexphotographic.com//197</td>\n",
       "      <td>[vna540e1, s5300]</td>\n",
       "      <td>[nikon]</td>\n",
       "      <td>NaN</td>\n",
       "      <td>NaN</td>\n",
       "      <td>NaN</td>\n",
       "      <td>NaN</td>\n",
       "      <td>16.0</td>\n",
       "      <td>NaN</td>\n",
       "      <td>3.0</td>\n",
       "      <td>NaN</td>\n",
       "      <td>NaN</td>\n",
       "    </tr>\n",
       "    <tr>\n",
       "      <th>4</th>\n",
       "      <td>www.wexphotographic.com//178</td>\n",
       "      <td>[p10nc12690a, s8600]</td>\n",
       "      <td>[fuji]</td>\n",
       "      <td>NaN</td>\n",
       "      <td>NaN</td>\n",
       "      <td>NaN</td>\n",
       "      <td>NaN</td>\n",
       "      <td>16.0</td>\n",
       "      <td>NaN</td>\n",
       "      <td>3.0</td>\n",
       "      <td>NaN</td>\n",
       "      <td>NaN</td>\n",
       "    </tr>\n",
       "  </tbody>\n",
       "</table>\n",
       "</div>"
      ],
      "text/plain": [
       "                        spec_id            page_title brand_from_title  \\\n",
       "0  www.wexphotographic.com//154     [aw120, vna593e1]          [nikon]   \n",
       "1  www.wexphotographic.com//553          [9148b007aa]          [canon]   \n",
       "2  www.wexphotographic.com//601     [p10nc12730a, s1]           [fuji]   \n",
       "3  www.wexphotographic.com//197     [vna540e1, s5300]          [nikon]   \n",
       "4  www.wexphotographic.com//178  [p10nc12690a, s8600]           [fuji]   \n",
       "\n",
       "  brand_descr  weight manufacturer short_descr  megapixels dimensions  \\\n",
       "0         NaN     NaN          NaN         NaN        16.0        NaN   \n",
       "1         NaN     NaN          NaN         NaN        16.0        NaN   \n",
       "2         NaN     NaN          NaN         NaN        16.4        NaN   \n",
       "3         NaN     NaN          NaN         NaN        16.0        NaN   \n",
       "4         NaN     NaN          NaN         NaN        16.0        NaN   \n",
       "\n",
       "   screen_size type dots  \n",
       "0          3.0  NaN  NaN  \n",
       "1          2.7  NaN  NaN  \n",
       "2          3.0  NaN  NaN  \n",
       "3          3.0  NaN  NaN  \n",
       "4          3.0  NaN  NaN  "
      ]
     },
     "execution_count": 31,
     "metadata": {},
     "output_type": "execute_result"
    }
   ],
   "source": [
    "df.head()"
   ]
  },
  {
   "cell_type": "markdown",
   "metadata": {},
   "source": [
    "## Add units to megapixels and screen_size"
   ]
  },
  {
   "cell_type": "code",
   "execution_count": 32,
   "metadata": {},
   "outputs": [],
   "source": [
    "df[\"megapixels\"] = df[\"megapixels\"].apply(lambda value: str(value) + \"mp\" if not pd.isna(value) else np.nan)"
   ]
  },
  {
   "cell_type": "code",
   "execution_count": 33,
   "metadata": {},
   "outputs": [],
   "source": [
    "df[\"screen_size\"] = df[\"screen_size\"].apply(lambda value: str(value) + \"in\" if not pd.isna(value) else np.nan)"
   ]
  },
  {
   "cell_type": "code",
   "execution_count": 34,
   "metadata": {},
   "outputs": [],
   "source": [
    "df[\"weight\"] = df[\"weight\"].apply(lambda value: str(value) + \"g\" if not pd.isna(value) else np.nan)"
   ]
  },
  {
   "cell_type": "code",
   "execution_count": 35,
   "metadata": {},
   "outputs": [
    {
     "data": {
      "text/html": [
       "<div>\n",
       "<style scoped>\n",
       "    .dataframe tbody tr th:only-of-type {\n",
       "        vertical-align: middle;\n",
       "    }\n",
       "\n",
       "    .dataframe tbody tr th {\n",
       "        vertical-align: top;\n",
       "    }\n",
       "\n",
       "    .dataframe thead th {\n",
       "        text-align: right;\n",
       "    }\n",
       "</style>\n",
       "<table border=\"1\" class=\"dataframe\">\n",
       "  <thead>\n",
       "    <tr style=\"text-align: right;\">\n",
       "      <th></th>\n",
       "      <th>spec_id</th>\n",
       "      <th>page_title</th>\n",
       "      <th>brand_from_title</th>\n",
       "      <th>brand_descr</th>\n",
       "      <th>weight</th>\n",
       "      <th>manufacturer</th>\n",
       "      <th>short_descr</th>\n",
       "      <th>megapixels</th>\n",
       "      <th>dimensions</th>\n",
       "      <th>screen_size</th>\n",
       "      <th>type</th>\n",
       "      <th>dots</th>\n",
       "    </tr>\n",
       "  </thead>\n",
       "  <tbody>\n",
       "    <tr>\n",
       "      <th>0</th>\n",
       "      <td>www.wexphotographic.com//154</td>\n",
       "      <td>[aw120, vna593e1]</td>\n",
       "      <td>[nikon]</td>\n",
       "      <td>NaN</td>\n",
       "      <td>NaN</td>\n",
       "      <td>NaN</td>\n",
       "      <td>NaN</td>\n",
       "      <td>16.0mp</td>\n",
       "      <td>NaN</td>\n",
       "      <td>3.0in</td>\n",
       "      <td>NaN</td>\n",
       "      <td>NaN</td>\n",
       "    </tr>\n",
       "    <tr>\n",
       "      <th>1</th>\n",
       "      <td>www.wexphotographic.com//553</td>\n",
       "      <td>[9148b007aa]</td>\n",
       "      <td>[canon]</td>\n",
       "      <td>NaN</td>\n",
       "      <td>NaN</td>\n",
       "      <td>NaN</td>\n",
       "      <td>NaN</td>\n",
       "      <td>16.0mp</td>\n",
       "      <td>NaN</td>\n",
       "      <td>2.7in</td>\n",
       "      <td>NaN</td>\n",
       "      <td>NaN</td>\n",
       "    </tr>\n",
       "    <tr>\n",
       "      <th>2</th>\n",
       "      <td>www.wexphotographic.com//601</td>\n",
       "      <td>[p10nc12730a, s1]</td>\n",
       "      <td>[fuji]</td>\n",
       "      <td>NaN</td>\n",
       "      <td>NaN</td>\n",
       "      <td>NaN</td>\n",
       "      <td>NaN</td>\n",
       "      <td>16.4mp</td>\n",
       "      <td>NaN</td>\n",
       "      <td>3.0in</td>\n",
       "      <td>NaN</td>\n",
       "      <td>NaN</td>\n",
       "    </tr>\n",
       "    <tr>\n",
       "      <th>3</th>\n",
       "      <td>www.wexphotographic.com//197</td>\n",
       "      <td>[vna540e1, s5300]</td>\n",
       "      <td>[nikon]</td>\n",
       "      <td>NaN</td>\n",
       "      <td>NaN</td>\n",
       "      <td>NaN</td>\n",
       "      <td>NaN</td>\n",
       "      <td>16.0mp</td>\n",
       "      <td>NaN</td>\n",
       "      <td>3.0in</td>\n",
       "      <td>NaN</td>\n",
       "      <td>NaN</td>\n",
       "    </tr>\n",
       "    <tr>\n",
       "      <th>4</th>\n",
       "      <td>www.wexphotographic.com//178</td>\n",
       "      <td>[p10nc12690a, s8600]</td>\n",
       "      <td>[fuji]</td>\n",
       "      <td>NaN</td>\n",
       "      <td>NaN</td>\n",
       "      <td>NaN</td>\n",
       "      <td>NaN</td>\n",
       "      <td>16.0mp</td>\n",
       "      <td>NaN</td>\n",
       "      <td>3.0in</td>\n",
       "      <td>NaN</td>\n",
       "      <td>NaN</td>\n",
       "    </tr>\n",
       "  </tbody>\n",
       "</table>\n",
       "</div>"
      ],
      "text/plain": [
       "                        spec_id            page_title brand_from_title  \\\n",
       "0  www.wexphotographic.com//154     [aw120, vna593e1]          [nikon]   \n",
       "1  www.wexphotographic.com//553          [9148b007aa]          [canon]   \n",
       "2  www.wexphotographic.com//601     [p10nc12730a, s1]           [fuji]   \n",
       "3  www.wexphotographic.com//197     [vna540e1, s5300]          [nikon]   \n",
       "4  www.wexphotographic.com//178  [p10nc12690a, s8600]           [fuji]   \n",
       "\n",
       "  brand_descr weight manufacturer short_descr megapixels dimensions  \\\n",
       "0         NaN    NaN          NaN         NaN     16.0mp        NaN   \n",
       "1         NaN    NaN          NaN         NaN     16.0mp        NaN   \n",
       "2         NaN    NaN          NaN         NaN     16.4mp        NaN   \n",
       "3         NaN    NaN          NaN         NaN     16.0mp        NaN   \n",
       "4         NaN    NaN          NaN         NaN     16.0mp        NaN   \n",
       "\n",
       "  screen_size type dots  \n",
       "0       3.0in  NaN  NaN  \n",
       "1       2.7in  NaN  NaN  \n",
       "2       3.0in  NaN  NaN  \n",
       "3       3.0in  NaN  NaN  \n",
       "4       3.0in  NaN  NaN  "
      ]
     },
     "execution_count": 35,
     "metadata": {},
     "output_type": "execute_result"
    }
   ],
   "source": [
    "df.head()"
   ]
  },
  {
   "cell_type": "code",
   "execution_count": 36,
   "metadata": {},
   "outputs": [
    {
     "data": {
      "text/plain": [
       "spec_id             0.000000\n",
       "page_title          0.000000\n",
       "brand_from_title    0.000000\n",
       "brand_descr         0.466058\n",
       "weight              0.818035\n",
       "manufacturer        0.956657\n",
       "short_descr         0.942120\n",
       "megapixels          0.444303\n",
       "dimensions          0.953837\n",
       "screen_size         0.541295\n",
       "type                0.951957\n",
       "dots                0.981636\n",
       "dtype: float64"
      ]
     },
     "execution_count": 36,
     "metadata": {},
     "output_type": "execute_result"
    }
   ],
   "source": [
    "df.isna().sum() / len(df)"
   ]
  },
  {
   "cell_type": "code",
   "execution_count": 37,
   "metadata": {},
   "outputs": [
    {
     "data": {
      "text/plain": [
       "29786"
      ]
     },
     "execution_count": 37,
     "metadata": {},
     "output_type": "execute_result"
    }
   ],
   "source": [
    "len(df)"
   ]
  },
  {
   "cell_type": "code",
   "execution_count": null,
   "metadata": {},
   "outputs": [],
   "source": []
  },
  {
   "cell_type": "code",
   "execution_count": null,
   "metadata": {},
   "outputs": [],
   "source": []
  },
  {
   "cell_type": "code",
   "execution_count": 38,
   "metadata": {},
   "outputs": [
    {
     "data": {
      "text/html": [
       "<div>\n",
       "<style scoped>\n",
       "    .dataframe tbody tr th:only-of-type {\n",
       "        vertical-align: middle;\n",
       "    }\n",
       "\n",
       "    .dataframe tbody tr th {\n",
       "        vertical-align: top;\n",
       "    }\n",
       "\n",
       "    .dataframe thead th {\n",
       "        text-align: right;\n",
       "    }\n",
       "</style>\n",
       "<table border=\"1\" class=\"dataframe\">\n",
       "  <thead>\n",
       "    <tr style=\"text-align: right;\">\n",
       "      <th></th>\n",
       "      <th>spec_id</th>\n",
       "      <th>page_title</th>\n",
       "      <th>brand_from_title</th>\n",
       "      <th>brand_descr</th>\n",
       "      <th>weight</th>\n",
       "      <th>manufacturer</th>\n",
       "      <th>short_descr</th>\n",
       "      <th>megapixels</th>\n",
       "      <th>dimensions</th>\n",
       "      <th>screen_size</th>\n",
       "      <th>type</th>\n",
       "      <th>dots</th>\n",
       "    </tr>\n",
       "  </thead>\n",
       "  <tbody>\n",
       "    <tr>\n",
       "      <th>0</th>\n",
       "      <td>www.wexphotographic.com//154</td>\n",
       "      <td>[aw120, vna593e1]</td>\n",
       "      <td>[nikon]</td>\n",
       "      <td>NaN</td>\n",
       "      <td>NaN</td>\n",
       "      <td>NaN</td>\n",
       "      <td>NaN</td>\n",
       "      <td>16.0mp</td>\n",
       "      <td>NaN</td>\n",
       "      <td>3.0in</td>\n",
       "      <td>NaN</td>\n",
       "      <td>NaN</td>\n",
       "    </tr>\n",
       "    <tr>\n",
       "      <th>1</th>\n",
       "      <td>www.wexphotographic.com//553</td>\n",
       "      <td>[9148b007aa]</td>\n",
       "      <td>[canon]</td>\n",
       "      <td>NaN</td>\n",
       "      <td>NaN</td>\n",
       "      <td>NaN</td>\n",
       "      <td>NaN</td>\n",
       "      <td>16.0mp</td>\n",
       "      <td>NaN</td>\n",
       "      <td>2.7in</td>\n",
       "      <td>NaN</td>\n",
       "      <td>NaN</td>\n",
       "    </tr>\n",
       "    <tr>\n",
       "      <th>2</th>\n",
       "      <td>www.wexphotographic.com//601</td>\n",
       "      <td>[p10nc12730a, s1]</td>\n",
       "      <td>[fuji]</td>\n",
       "      <td>NaN</td>\n",
       "      <td>NaN</td>\n",
       "      <td>NaN</td>\n",
       "      <td>NaN</td>\n",
       "      <td>16.4mp</td>\n",
       "      <td>NaN</td>\n",
       "      <td>3.0in</td>\n",
       "      <td>NaN</td>\n",
       "      <td>NaN</td>\n",
       "    </tr>\n",
       "    <tr>\n",
       "      <th>3</th>\n",
       "      <td>www.wexphotographic.com//197</td>\n",
       "      <td>[vna540e1, s5300]</td>\n",
       "      <td>[nikon]</td>\n",
       "      <td>NaN</td>\n",
       "      <td>NaN</td>\n",
       "      <td>NaN</td>\n",
       "      <td>NaN</td>\n",
       "      <td>16.0mp</td>\n",
       "      <td>NaN</td>\n",
       "      <td>3.0in</td>\n",
       "      <td>NaN</td>\n",
       "      <td>NaN</td>\n",
       "    </tr>\n",
       "    <tr>\n",
       "      <th>4</th>\n",
       "      <td>www.wexphotographic.com//178</td>\n",
       "      <td>[p10nc12690a, s8600]</td>\n",
       "      <td>[fuji]</td>\n",
       "      <td>NaN</td>\n",
       "      <td>NaN</td>\n",
       "      <td>NaN</td>\n",
       "      <td>NaN</td>\n",
       "      <td>16.0mp</td>\n",
       "      <td>NaN</td>\n",
       "      <td>3.0in</td>\n",
       "      <td>NaN</td>\n",
       "      <td>NaN</td>\n",
       "    </tr>\n",
       "  </tbody>\n",
       "</table>\n",
       "</div>"
      ],
      "text/plain": [
       "                        spec_id            page_title brand_from_title  \\\n",
       "0  www.wexphotographic.com//154     [aw120, vna593e1]          [nikon]   \n",
       "1  www.wexphotographic.com//553          [9148b007aa]          [canon]   \n",
       "2  www.wexphotographic.com//601     [p10nc12730a, s1]           [fuji]   \n",
       "3  www.wexphotographic.com//197     [vna540e1, s5300]          [nikon]   \n",
       "4  www.wexphotographic.com//178  [p10nc12690a, s8600]           [fuji]   \n",
       "\n",
       "  brand_descr weight manufacturer short_descr megapixels dimensions  \\\n",
       "0         NaN    NaN          NaN         NaN     16.0mp        NaN   \n",
       "1         NaN    NaN          NaN         NaN     16.0mp        NaN   \n",
       "2         NaN    NaN          NaN         NaN     16.4mp        NaN   \n",
       "3         NaN    NaN          NaN         NaN     16.0mp        NaN   \n",
       "4         NaN    NaN          NaN         NaN     16.0mp        NaN   \n",
       "\n",
       "  screen_size type dots  \n",
       "0       3.0in  NaN  NaN  \n",
       "1       2.7in  NaN  NaN  \n",
       "2       3.0in  NaN  NaN  \n",
       "3       3.0in  NaN  NaN  \n",
       "4       3.0in  NaN  NaN  "
      ]
     },
     "execution_count": 38,
     "metadata": {},
     "output_type": "execute_result"
    }
   ],
   "source": [
    "df.head()"
   ]
  },
  {
   "cell_type": "markdown",
   "metadata": {},
   "source": [
    "## Clean brands"
   ]
  },
  {
   "cell_type": "code",
   "execution_count": 39,
   "metadata": {},
   "outputs": [],
   "source": [
    "def clean_title_brands(title):\n",
    "    new_title = []\n",
    "    for e in title:\n",
    "        if 'fuji' in e:\n",
    "            new_title.append(\"fuji\")\n",
    "        elif \"nikkor\" in e or \"nikkon\" in e:\n",
    "            new_title.append(\"nikon\")\n",
    "        elif \"butterfly\" in e:\n",
    "            new_title.append(\"butterfly\")\n",
    "        elif \"blackmagic\" in e:\n",
    "            new_title.append(\"blackmagic\")\n",
    "        else:\n",
    "            new_title.append(e)\n",
    "    return list(set(new_title))"
   ]
  },
  {
   "cell_type": "code",
   "execution_count": 40,
   "metadata": {},
   "outputs": [],
   "source": [
    "df[\"brand_from_title\"] = df[\"brand_from_title\"].apply(clean_title_brands)"
   ]
  },
  {
   "cell_type": "code",
   "execution_count": 41,
   "metadata": {},
   "outputs": [],
   "source": [
    "def clean_manufacturer(e):\n",
    "    if pd.isna(e):\n",
    "        return e\n",
    "    if 'fuji' in e:\n",
    "        return \"fuji\"\n",
    "    elif \"nikkor\" in e or \"nikkon\" in e or \"niko9\" in e:\n",
    "        return \"nikon\"\n",
    "    elif \"penx9\" in e:\n",
    "        return \"pentax\"\n",
    "    elif \"canu9\" in e or \"canon cameras us\" in e:\n",
    "        return \"canon\"\n",
    "    elif \"butterfly\" in e:\n",
    "        return \"butterfly\"\n",
    "    elif \"blackmagic\" in e:\n",
    "        return \"blackmagic\"\n",
    "    elif \"leica camera\" in e:\n",
    "        return \"leica\"\n",
    "    elif \"samsung pleomax zirex\" in e:\n",
    "        return \"samsung\"\n",
    "    elif \"digital\" in e or \"lomo cameras\" in e or \"micro solution of japan\" in e or \"ricoh cameras usa\" in e:\n",
    "        np.nan\n",
    "    else:\n",
    "        return e"
   ]
  },
  {
   "cell_type": "code",
   "execution_count": 42,
   "metadata": {},
   "outputs": [],
   "source": [
    "df[\"manufacturer\"] = df[\"manufacturer\"].apply(clean_manufacturer)"
   ]
  },
  {
   "cell_type": "code",
   "execution_count": 43,
   "metadata": {},
   "outputs": [],
   "source": [
    "def clean_type(camera):\n",
    "    if pd.isna(camera):\n",
    "        return camera\n",
    "    if \"slr\" in camera:\n",
    "        return \"dslr\"\n",
    "    elif \"point shoot\" in camera:\n",
    "        return \"point shoot\"\n",
    "    elif \"compact\" in camera:\n",
    "        return \"compact\"\n",
    "    elif \"mirrorless\" in camera:\n",
    "        return \"mirrorless\"\n",
    "    else:\n",
    "        return camera"
   ]
  },
  {
   "cell_type": "code",
   "execution_count": 44,
   "metadata": {},
   "outputs": [],
   "source": [
    "df[\"type\"] = df[\"type\"].apply(clean_type)"
   ]
  },
  {
   "cell_type": "code",
   "execution_count": 45,
   "metadata": {},
   "outputs": [],
   "source": [
    "df[\"brand_descr\"] = df[\"brand_descr\"].apply(clean_manufacturer)"
   ]
  },
  {
   "cell_type": "code",
   "execution_count": 46,
   "metadata": {},
   "outputs": [
    {
     "data": {
      "text/html": [
       "<div>\n",
       "<style scoped>\n",
       "    .dataframe tbody tr th:only-of-type {\n",
       "        vertical-align: middle;\n",
       "    }\n",
       "\n",
       "    .dataframe tbody tr th {\n",
       "        vertical-align: top;\n",
       "    }\n",
       "\n",
       "    .dataframe thead th {\n",
       "        text-align: right;\n",
       "    }\n",
       "</style>\n",
       "<table border=\"1\" class=\"dataframe\">\n",
       "  <thead>\n",
       "    <tr style=\"text-align: right;\">\n",
       "      <th></th>\n",
       "      <th>spec_id</th>\n",
       "      <th>page_title</th>\n",
       "      <th>brand_from_title</th>\n",
       "      <th>brand_descr</th>\n",
       "      <th>weight</th>\n",
       "      <th>manufacturer</th>\n",
       "      <th>short_descr</th>\n",
       "      <th>megapixels</th>\n",
       "      <th>dimensions</th>\n",
       "      <th>screen_size</th>\n",
       "      <th>type</th>\n",
       "      <th>dots</th>\n",
       "    </tr>\n",
       "  </thead>\n",
       "  <tbody>\n",
       "    <tr>\n",
       "      <th>0</th>\n",
       "      <td>www.wexphotographic.com//154</td>\n",
       "      <td>[aw120, vna593e1]</td>\n",
       "      <td>[nikon]</td>\n",
       "      <td>NaN</td>\n",
       "      <td>NaN</td>\n",
       "      <td>NaN</td>\n",
       "      <td>NaN</td>\n",
       "      <td>16.0mp</td>\n",
       "      <td>NaN</td>\n",
       "      <td>3.0in</td>\n",
       "      <td>NaN</td>\n",
       "      <td>NaN</td>\n",
       "    </tr>\n",
       "    <tr>\n",
       "      <th>1</th>\n",
       "      <td>www.wexphotographic.com//553</td>\n",
       "      <td>[9148b007aa]</td>\n",
       "      <td>[canon]</td>\n",
       "      <td>NaN</td>\n",
       "      <td>NaN</td>\n",
       "      <td>NaN</td>\n",
       "      <td>NaN</td>\n",
       "      <td>16.0mp</td>\n",
       "      <td>NaN</td>\n",
       "      <td>2.7in</td>\n",
       "      <td>NaN</td>\n",
       "      <td>NaN</td>\n",
       "    </tr>\n",
       "    <tr>\n",
       "      <th>2</th>\n",
       "      <td>www.wexphotographic.com//601</td>\n",
       "      <td>[p10nc12730a, s1]</td>\n",
       "      <td>[fuji]</td>\n",
       "      <td>NaN</td>\n",
       "      <td>NaN</td>\n",
       "      <td>NaN</td>\n",
       "      <td>NaN</td>\n",
       "      <td>16.4mp</td>\n",
       "      <td>NaN</td>\n",
       "      <td>3.0in</td>\n",
       "      <td>NaN</td>\n",
       "      <td>NaN</td>\n",
       "    </tr>\n",
       "    <tr>\n",
       "      <th>3</th>\n",
       "      <td>www.wexphotographic.com//197</td>\n",
       "      <td>[vna540e1, s5300]</td>\n",
       "      <td>[nikon]</td>\n",
       "      <td>NaN</td>\n",
       "      <td>NaN</td>\n",
       "      <td>NaN</td>\n",
       "      <td>NaN</td>\n",
       "      <td>16.0mp</td>\n",
       "      <td>NaN</td>\n",
       "      <td>3.0in</td>\n",
       "      <td>NaN</td>\n",
       "      <td>NaN</td>\n",
       "    </tr>\n",
       "    <tr>\n",
       "      <th>4</th>\n",
       "      <td>www.wexphotographic.com//178</td>\n",
       "      <td>[p10nc12690a, s8600]</td>\n",
       "      <td>[fuji]</td>\n",
       "      <td>NaN</td>\n",
       "      <td>NaN</td>\n",
       "      <td>NaN</td>\n",
       "      <td>NaN</td>\n",
       "      <td>16.0mp</td>\n",
       "      <td>NaN</td>\n",
       "      <td>3.0in</td>\n",
       "      <td>NaN</td>\n",
       "      <td>NaN</td>\n",
       "    </tr>\n",
       "  </tbody>\n",
       "</table>\n",
       "</div>"
      ],
      "text/plain": [
       "                        spec_id            page_title brand_from_title  \\\n",
       "0  www.wexphotographic.com//154     [aw120, vna593e1]          [nikon]   \n",
       "1  www.wexphotographic.com//553          [9148b007aa]          [canon]   \n",
       "2  www.wexphotographic.com//601     [p10nc12730a, s1]           [fuji]   \n",
       "3  www.wexphotographic.com//197     [vna540e1, s5300]          [nikon]   \n",
       "4  www.wexphotographic.com//178  [p10nc12690a, s8600]           [fuji]   \n",
       "\n",
       "  brand_descr weight manufacturer short_descr megapixels dimensions  \\\n",
       "0         NaN    NaN          NaN         NaN     16.0mp        NaN   \n",
       "1         NaN    NaN          NaN         NaN     16.0mp        NaN   \n",
       "2         NaN    NaN          NaN         NaN     16.4mp        NaN   \n",
       "3         NaN    NaN          NaN         NaN     16.0mp        NaN   \n",
       "4         NaN    NaN          NaN         NaN     16.0mp        NaN   \n",
       "\n",
       "  screen_size type dots  \n",
       "0       3.0in  NaN  NaN  \n",
       "1       2.7in  NaN  NaN  \n",
       "2       3.0in  NaN  NaN  \n",
       "3       3.0in  NaN  NaN  \n",
       "4       3.0in  NaN  NaN  "
      ]
     },
     "execution_count": 46,
     "metadata": {},
     "output_type": "execute_result"
    }
   ],
   "source": [
    "df.head()"
   ]
  },
  {
   "cell_type": "markdown",
   "metadata": {},
   "source": [
    "## Merge brands together"
   ]
  },
  {
   "cell_type": "code",
   "execution_count": 47,
   "metadata": {},
   "outputs": [],
   "source": [
    "def create_brands_column(row):\n",
    "    repl = row[\"brand_from_title\"]\n",
    "    if not pd.isna(row[\"brand_descr\"]):\n",
    "        repl.append(row[\"brand_descr\"])\n",
    "    if not pd.isna(row[\"manufacturer\"]):\n",
    "        repl.append(row[\"manufacturer\"])\n",
    "    return tuple(set(repl))"
   ]
  },
  {
   "cell_type": "code",
   "execution_count": 48,
   "metadata": {},
   "outputs": [],
   "source": [
    "df[\"merged_brands\"] = df.apply(create_brands_column, axis = 1)"
   ]
  },
  {
   "cell_type": "code",
   "execution_count": 49,
   "metadata": {},
   "outputs": [
    {
     "data": {
      "text/html": [
       "<div>\n",
       "<style scoped>\n",
       "    .dataframe tbody tr th:only-of-type {\n",
       "        vertical-align: middle;\n",
       "    }\n",
       "\n",
       "    .dataframe tbody tr th {\n",
       "        vertical-align: top;\n",
       "    }\n",
       "\n",
       "    .dataframe thead th {\n",
       "        text-align: right;\n",
       "    }\n",
       "</style>\n",
       "<table border=\"1\" class=\"dataframe\">\n",
       "  <thead>\n",
       "    <tr style=\"text-align: right;\">\n",
       "      <th></th>\n",
       "      <th>spec_id</th>\n",
       "      <th>page_title</th>\n",
       "      <th>brand_from_title</th>\n",
       "      <th>brand_descr</th>\n",
       "      <th>weight</th>\n",
       "      <th>manufacturer</th>\n",
       "      <th>short_descr</th>\n",
       "      <th>megapixels</th>\n",
       "      <th>dimensions</th>\n",
       "      <th>screen_size</th>\n",
       "      <th>type</th>\n",
       "      <th>dots</th>\n",
       "      <th>merged_brands</th>\n",
       "    </tr>\n",
       "  </thead>\n",
       "  <tbody>\n",
       "    <tr>\n",
       "      <th>0</th>\n",
       "      <td>www.wexphotographic.com//154</td>\n",
       "      <td>[aw120, vna593e1]</td>\n",
       "      <td>[nikon]</td>\n",
       "      <td>NaN</td>\n",
       "      <td>NaN</td>\n",
       "      <td>NaN</td>\n",
       "      <td>NaN</td>\n",
       "      <td>16.0mp</td>\n",
       "      <td>NaN</td>\n",
       "      <td>3.0in</td>\n",
       "      <td>NaN</td>\n",
       "      <td>NaN</td>\n",
       "      <td>(nikon,)</td>\n",
       "    </tr>\n",
       "    <tr>\n",
       "      <th>1</th>\n",
       "      <td>www.wexphotographic.com//553</td>\n",
       "      <td>[9148b007aa]</td>\n",
       "      <td>[canon]</td>\n",
       "      <td>NaN</td>\n",
       "      <td>NaN</td>\n",
       "      <td>NaN</td>\n",
       "      <td>NaN</td>\n",
       "      <td>16.0mp</td>\n",
       "      <td>NaN</td>\n",
       "      <td>2.7in</td>\n",
       "      <td>NaN</td>\n",
       "      <td>NaN</td>\n",
       "      <td>(canon,)</td>\n",
       "    </tr>\n",
       "    <tr>\n",
       "      <th>2</th>\n",
       "      <td>www.wexphotographic.com//601</td>\n",
       "      <td>[p10nc12730a, s1]</td>\n",
       "      <td>[fuji]</td>\n",
       "      <td>NaN</td>\n",
       "      <td>NaN</td>\n",
       "      <td>NaN</td>\n",
       "      <td>NaN</td>\n",
       "      <td>16.4mp</td>\n",
       "      <td>NaN</td>\n",
       "      <td>3.0in</td>\n",
       "      <td>NaN</td>\n",
       "      <td>NaN</td>\n",
       "      <td>(fuji,)</td>\n",
       "    </tr>\n",
       "    <tr>\n",
       "      <th>3</th>\n",
       "      <td>www.wexphotographic.com//197</td>\n",
       "      <td>[vna540e1, s5300]</td>\n",
       "      <td>[nikon]</td>\n",
       "      <td>NaN</td>\n",
       "      <td>NaN</td>\n",
       "      <td>NaN</td>\n",
       "      <td>NaN</td>\n",
       "      <td>16.0mp</td>\n",
       "      <td>NaN</td>\n",
       "      <td>3.0in</td>\n",
       "      <td>NaN</td>\n",
       "      <td>NaN</td>\n",
       "      <td>(nikon,)</td>\n",
       "    </tr>\n",
       "    <tr>\n",
       "      <th>4</th>\n",
       "      <td>www.wexphotographic.com//178</td>\n",
       "      <td>[p10nc12690a, s8600]</td>\n",
       "      <td>[fuji]</td>\n",
       "      <td>NaN</td>\n",
       "      <td>NaN</td>\n",
       "      <td>NaN</td>\n",
       "      <td>NaN</td>\n",
       "      <td>16.0mp</td>\n",
       "      <td>NaN</td>\n",
       "      <td>3.0in</td>\n",
       "      <td>NaN</td>\n",
       "      <td>NaN</td>\n",
       "      <td>(fuji,)</td>\n",
       "    </tr>\n",
       "  </tbody>\n",
       "</table>\n",
       "</div>"
      ],
      "text/plain": [
       "                        spec_id            page_title brand_from_title  \\\n",
       "0  www.wexphotographic.com//154     [aw120, vna593e1]          [nikon]   \n",
       "1  www.wexphotographic.com//553          [9148b007aa]          [canon]   \n",
       "2  www.wexphotographic.com//601     [p10nc12730a, s1]           [fuji]   \n",
       "3  www.wexphotographic.com//197     [vna540e1, s5300]          [nikon]   \n",
       "4  www.wexphotographic.com//178  [p10nc12690a, s8600]           [fuji]   \n",
       "\n",
       "  brand_descr weight manufacturer short_descr megapixels dimensions  \\\n",
       "0         NaN    NaN          NaN         NaN     16.0mp        NaN   \n",
       "1         NaN    NaN          NaN         NaN     16.0mp        NaN   \n",
       "2         NaN    NaN          NaN         NaN     16.4mp        NaN   \n",
       "3         NaN    NaN          NaN         NaN     16.0mp        NaN   \n",
       "4         NaN    NaN          NaN         NaN     16.0mp        NaN   \n",
       "\n",
       "  screen_size type dots merged_brands  \n",
       "0       3.0in  NaN  NaN      (nikon,)  \n",
       "1       2.7in  NaN  NaN      (canon,)  \n",
       "2       3.0in  NaN  NaN       (fuji,)  \n",
       "3       3.0in  NaN  NaN      (nikon,)  \n",
       "4       3.0in  NaN  NaN       (fuji,)  "
      ]
     },
     "execution_count": 49,
     "metadata": {},
     "output_type": "execute_result"
    }
   ],
   "source": [
    "df.head()"
   ]
  },
  {
   "cell_type": "code",
   "execution_count": 50,
   "metadata": {},
   "outputs": [
    {
     "data": {
      "text/plain": [
       "5137"
      ]
     },
     "execution_count": 50,
     "metadata": {},
     "output_type": "execute_result"
    }
   ],
   "source": [
    "sum(df.apply(lambda row : row[\"page_title\"] == [], axis = 1))"
   ]
  },
  {
   "cell_type": "code",
   "execution_count": 51,
   "metadata": {},
   "outputs": [],
   "source": [
    "df.drop(columns = [\"brand_from_title\", \"brand_descr\", \"manufacturer\"], inplace=True)"
   ]
  },
  {
   "cell_type": "markdown",
   "metadata": {},
   "source": [
    "### Statistics on matches"
   ]
  },
  {
   "cell_type": "code",
   "execution_count": 52,
   "metadata": {},
   "outputs": [],
   "source": [
    "# df.head()"
   ]
  },
  {
   "cell_type": "code",
   "execution_count": 53,
   "metadata": {},
   "outputs": [],
   "source": [
    "# labeled = pd.read_csv(\"/Users/gfotiadis/programming/sigmod/datasets/created/with_details/combined_csv.csv\")"
   ]
  },
  {
   "cell_type": "code",
   "execution_count": 54,
   "metadata": {},
   "outputs": [],
   "source": [
    "# labeled.head()"
   ]
  },
  {
   "cell_type": "code",
   "execution_count": 55,
   "metadata": {},
   "outputs": [],
   "source": [
    "# left_joined = labeled.merge(df, left_on='left_spec_id', right_on='spec_id')\n",
    "# left_joined.rename(columns={'page_title': 'left_page_title'}, inplace=True)\n",
    "# left_joined.drop('spec_id', axis=1, inplace=True)"
   ]
  },
  {
   "cell_type": "code",
   "execution_count": 56,
   "metadata": {},
   "outputs": [],
   "source": [
    "# left_joined.head()"
   ]
  },
  {
   "cell_type": "code",
   "execution_count": 57,
   "metadata": {},
   "outputs": [],
   "source": [
    "# right_joined = labeled.merge(df, left_on='right_spec_id', right_on='spec_id')\n",
    "# right_joined.rename(columns={'page_title': 'right_page_title'}, inplace=True)\n",
    "# right_joined.drop('spec_id', axis=1, inplace=True)\n",
    "# right_joined.head()"
   ]
  },
  {
   "cell_type": "code",
   "execution_count": 58,
   "metadata": {},
   "outputs": [],
   "source": [
    "# fully_joined = pd.merge(left_joined, right_joined, how=\"inner\", left_on=[\"left_spec_id\", \"right_spec_id\"], right_on=[\"left_spec_id\", \"right_spec_id\"], suffixes=(\"_left\", \"_right\"))"
   ]
  },
  {
   "cell_type": "code",
   "execution_count": 59,
   "metadata": {},
   "outputs": [],
   "source": [
    "# fully_joined.right_page_title.apply(lambda title : np.nan if title == [] else title).isna().sum()"
   ]
  },
  {
   "cell_type": "code",
   "execution_count": 60,
   "metadata": {},
   "outputs": [],
   "source": [
    "# fully_joined.left_page_title.apply(lambda title : np.nan if title == [] else title).isna().sum()"
   ]
  },
  {
   "cell_type": "code",
   "execution_count": 61,
   "metadata": {},
   "outputs": [],
   "source": [
    "# df.head()"
   ]
  },
  {
   "cell_type": "code",
   "execution_count": null,
   "metadata": {},
   "outputs": [],
   "source": []
  },
  {
   "cell_type": "code",
   "execution_count": 62,
   "metadata": {},
   "outputs": [],
   "source": [
    "grouped = df.groupby(\"merged_brands\")"
   ]
  },
  {
   "cell_type": "code",
   "execution_count": 63,
   "metadata": {},
   "outputs": [],
   "source": [
    "unbranded_til_100 = grouped.get_group(())"
   ]
  },
  {
   "cell_type": "code",
   "execution_count": 64,
   "metadata": {},
   "outputs": [],
   "source": [
    "for gname, group in grouped:\n",
    "    if len(group) < 100:\n",
    "        unbranded_til_100 = pd.concat([group, unbranded_til_100])"
   ]
  },
  {
   "cell_type": "code",
   "execution_count": 65,
   "metadata": {},
   "outputs": [
    {
     "data": {
      "text/plain": [
       "8769"
      ]
     },
     "execution_count": 65,
     "metadata": {},
     "output_type": "execute_result"
    }
   ],
   "source": [
    "len(unbranded_til_100)"
   ]
  },
  {
   "cell_type": "code",
   "execution_count": 66,
   "metadata": {},
   "outputs": [
    {
     "data": {
      "text/plain": [
       "476"
      ]
     },
     "execution_count": 66,
     "metadata": {},
     "output_type": "execute_result"
    }
   ],
   "source": [
    "len(grouped.groups)"
   ]
  },
  {
   "cell_type": "code",
   "execution_count": 67,
   "metadata": {},
   "outputs": [],
   "source": [
    "def get_merged_df(dataframe):\n",
    "    merged = dataframe.drop(columns=[\"merged_brands\"], axis = 1)\n",
    "    merged = (merged.merge(merged, on=merged.assign(key_col=1)['key_col'], suffixes=('', '_right'))\n",
    " .query('spec_id < spec_id_right') # filter out joins on the same row and keep unique combinations\n",
    " .reset_index(drop=True))\n",
    "    merged.drop(columns = [\"key_0\"], axis = 1, inplace=True)\n",
    "    merged.rename(columns = {\"spec_id\" : \"left_spec_id\", \"spec_id_right\" : \"right_spec_id\"}, inplace=True)\n",
    "    merged.reset_index(inplace=True)\n",
    "    return merged"
   ]
  },
  {
   "cell_type": "code",
   "execution_count": 82,
   "metadata": {},
   "outputs": [],
   "source": [
    "count_title = 0\n",
    "count_no_title = 0\n",
    "matched_title = 0\n",
    "matched_no_title = 0"
   ]
  },
  {
   "cell_type": "code",
   "execution_count": 83,
   "metadata": {},
   "outputs": [],
   "source": [
    "def determine_match(row):\n",
    "    global count_title\n",
    "    global count_no_title\n",
    "    global matched_title\n",
    "    global matched_no_title\n",
    "    \n",
    "    if row[\"page_title\"] == [] or row[\"page_title_right\"] == []:\n",
    "        target = 0.55\n",
    "        count_no_title += 1\n",
    "    else:\n",
    "        target = 1.3\n",
    "        count_title += 1\n",
    "            \n",
    "    dim_weight = 0.9\n",
    "    dots_weight = 0.9\n",
    "    mp_weight = 0.44\n",
    "    scr_weight = 0.54\n",
    "    type_weight = 0.49\n",
    "    weight_weight = 0.81\n",
    "    descr_weight= 0.9\n",
    "    title_weight = 0.9\n",
    "    \n",
    "    \n",
    "    score = 0\n",
    "    dim_l = row[\"dimensions\"]\n",
    "    dim_r = row[\"dimensions_right\"]\n",
    "    dots_l = row[\"dots\"]\n",
    "    dots_r = row[\"dots_right\"]\n",
    "    megapixels_l = row[\"megapixels\"]\n",
    "    megapixels_r = row[\"megapixels_right\"]\n",
    "    screen_size_l = row[\"screen_size\"]\n",
    "    screen_size_r = row[\"screen_size_right\"]\n",
    "    short_descr_l = row[\"short_descr\"]\n",
    "    short_descr_r = row[\"short_descr_right\"]\n",
    "    type_l = row[\"type\"]\n",
    "    type_r = row[\"type_right\"]\n",
    "    weight_l = row[\"weight\"]\n",
    "    weight_r = row[\"weight_right\"]\n",
    "    page_title_l = row[\"page_title\"]\n",
    "    page_title_r = row[\"page_title_right\"]\n",
    "    \n",
    "    dimensions_regex = r\"([0-9]+\\.[0-9]+|[0-9]+)h([0-9]+\\.[0-9]+|[0-9]+)w([0-9]+\\.[0-9]+|[0-9]+)d\"\n",
    "    dimensions_regex_2 = r\"h([0-9]+\\.[0-9]+|[0-9]+)w([0-9]+\\.[0-9]+|[0-9]+)d([0-9]+\\.[0-9]+|[0-9]+)\"\n",
    "    \n",
    "    if not pd.isna(dim_l) and not pd.isna(dim_r):\n",
    "        if re.match(dimensions_regex, dim_l) == None:\n",
    "            groups_l = re.match(dimensions_regex_2, dim_l).groups(1)\n",
    "        else:\n",
    "            groups_l = re.match(dimensions_regex, dim_l).groups(1)\n",
    "        if re.match(dimensions_regex, dim_r) == None:\n",
    "            groups_r = re.match(dimensions_regex_2, dim_r).groups(1)\n",
    "        else:\n",
    "            groups_r = re.match(dimensions_regex, dim_r).groups(1)\n",
    "        if np.sum(np.abs(np.array(groups_l).astype(float) - np.array(groups_r).astype(float))) <= 0.3:\n",
    "            score += dim_weight\n",
    "    if not pd.isna(dots_l) and not pd.isna(dots_r) and dots_l == dots_r:\n",
    "        score += dots_weight\n",
    "    if not pd.isna(megapixels_l) and not pd.isna(megapixels_r) and abs(float(megapixels_l.replace(\"mp\", \"\")) - float(megapixels_r.replace(\"mp\", \"\"))) <= 0.2:\n",
    "        score += mp_weight\n",
    "    if not pd.isna(screen_size_l) and not pd.isna(screen_size_r) and abs(float(screen_size_l.replace(\"in\", \"\")) - float(screen_size_r.replace(\"in\", \"\"))) <= 0.2:\n",
    "        score += scr_weight\n",
    "    if not pd.isna(type_l) and not pd.isna(type_r) and type_l == type_r:\n",
    "        score += type_weight\n",
    "    if not pd.isna(weight_l) and not pd.isna(weight_r) and abs(float(weight_l.replace(\"g\", \"\")) - float(weight_r.replace(\"g\", \"\"))) <= 0.2:\n",
    "        score += weight_weight\n",
    "        \n",
    "    if isinstance(short_descr_r, list) and isinstance(short_descr_l, list):\n",
    "        for spec1 in short_descr_l:\n",
    "            for spec2 in short_descr_r:\n",
    "                if spec1 == spec2:  \n",
    "                    score += descr_weight\n",
    "    if isinstance(page_title_r, list) and isinstance(page_title_l, list):\n",
    "        for spec1 in page_title_l:\n",
    "            for spec2 in page_title_r:\n",
    "                if spec1 == spec2:  \n",
    "                    score += title_weight\n",
    "                    \n",
    "    if score >= target:\n",
    "        if row[\"page_title\"] == [] or row[\"page_title_right\"] == []:\n",
    "            matched_no_title += 1\n",
    "        else:\n",
    "            matched_title += 1\n",
    "    return score >= target\n",
    "    "
   ]
  },
  {
   "cell_type": "code",
   "execution_count": 84,
   "metadata": {},
   "outputs": [
    {
     "name": "stderr",
     "output_type": "stream",
     "text": [
      "/Users/gfotiadis/anaconda3/lib/python3.7/site-packages/tqdm/std.py:658: FutureWarning: The Panel class is removed from pandas. Accessing it from the top-level namespace will also be removed in the next version\n",
      "  from pandas import Panel\n"
     ]
    }
   ],
   "source": [
    "tqdm.pandas()"
   ]
  },
  {
   "cell_type": "code",
   "execution_count": 85,
   "metadata": {},
   "outputs": [
    {
     "name": "stderr",
     "output_type": "stream",
     "text": [
      "100%|██████████| 1/1 [00:00<00:00, 600.99it/s]\n",
      "100%|██████████| 1/1 [00:00<00:00, 516.54it/s]\n",
      "100%|██████████| 55/55 [00:00<00:00, 3193.21it/s]\n",
      "100%|██████████| 1/1 [00:00<00:00, 531.60it/s]\n",
      "100%|██████████| 21/21 [00:00<00:00, 3127.85it/s]\n",
      "100%|██████████| 28/28 [00:00<00:00, 3212.44it/s]\n",
      "100%|██████████| 1/1 [00:00<00:00, 613.11it/s]\n",
      "100%|██████████| 1/1 [00:00<00:00, 469.27it/s]"
     ]
    },
    {
     "name": "stdout",
     "output_type": "stream",
     "text": [
      "CALCULATING FOR BRAND =  ('advancedplus',)\n",
      "NUMBER OF COMPARISONS:  1\n",
      "MATCHED  1  OUT OF  1\n",
      "CALCULATING FOR BRAND =  ('agfa',)\n",
      "NUMBER OF COMPARISONS:  1\n",
      "MATCHED  1  OUT OF  1\n",
      "CALCULATING FOR BRAND =  ('aiptek',)\n",
      "NUMBER OF COMPARISONS:  55\n",
      "MATCHED  1  OUT OF  55\n",
      "CALCULATING FOR BRAND =  ('apex',)\n",
      "NUMBER OF COMPARISONS:  1\n",
      "MATCHED  0  OUT OF  1\n",
      "CALCULATING FOR BRAND =  ('apple',)\n",
      "NUMBER OF COMPARISONS:  21\n",
      "MATCHED  0  OUT OF  21\n",
      "CALCULATING FOR BRAND =  ('argus',)\n",
      "NUMBER OF COMPARISONS:  28\n",
      "MATCHED  1  OUT OF  28\n",
      "CALCULATING FOR BRAND =  ('audiovox',)\n",
      "NUMBER OF COMPARISONS:  1\n",
      "MATCHED  0  OUT OF  1\n",
      "CALCULATING FOR BRAND =  ('axess',)\n",
      "NUMBER OF COMPARISONS:  1\n",
      "MATCHED  0  OUT OF  1\n",
      "CALCULATING FOR BRAND =  ('axis',)\n",
      "NUMBER OF COMPARISONS: "
     ]
    },
    {
     "name": "stderr",
     "output_type": "stream",
     "text": [
      "\n",
      "100%|██████████| 10/10 [00:00<00:00, 1857.04it/s]\n",
      "100%|██████████| 10/10 [00:00<00:00, 2088.07it/s]\n",
      "100%|██████████| 1/1 [00:00<00:00, 571.43it/s]\n",
      "100%|██████████| 171/171 [00:00<00:00, 4202.59it/s]\n",
      "100%|██████████| 105/105 [00:00<00:00, 4407.55it/s]\n",
      "100%|██████████| 1/1 [00:00<00:00, 580.37it/s]"
     ]
    },
    {
     "name": "stdout",
     "output_type": "stream",
     "text": [
      " 10\n",
      "MATCHED  0  OUT OF  10\n",
      "CALCULATING FOR BRAND =  ('bell',)\n",
      "NUMBER OF COMPARISONS:  10\n",
      "MATCHED  0  OUT OF  10\n",
      "CALCULATING FOR BRAND =  ('bell & howell',)\n",
      "NUMBER OF COMPARISONS:  1\n",
      "MATCHED  0  OUT OF  1\n",
      "CALCULATING FOR BRAND =  ('bell & howell', 'bell')\n",
      "NUMBER OF COMPARISONS:  171\n",
      "MATCHED  12  OUT OF  171\n",
      "CALCULATING FOR BRAND =  ('benq',)\n",
      "NUMBER OF COMPARISONS:  105\n",
      "MATCHED  9  OUT OF  105\n",
      "CALCULATING FOR BRAND =  ('big mikes',)\n",
      "NUMBER OF COMPARISONS:  1\n",
      "MATCHED  1  OUT OF  1\n",
      "CALCULATING FOR BRAND =  ('blackmagic',)\n",
      "NUMBER OF COMPARISONS: "
     ]
    },
    {
     "name": "stderr",
     "output_type": "stream",
     "text": [
      "\n",
      "100%|██████████| 15/15 [00:00<00:00, 2697.42it/s]\n",
      "100%|██████████| 1/1 [00:00<00:00, 661.46it/s]\n",
      "100%|██████████| 15/15 [00:00<00:00, 2884.67it/s]\n",
      "100%|██████████| 3/3 [00:00<00:00, 1345.91it/s]\n",
      "100%|██████████| 1/1 [00:00<00:00, 367.92it/s]\n",
      "100%|██████████| 28/28 [00:00<00:00, 3337.71it/s]\n",
      "  0%|          | 0/1596 [00:00<?, ?it/s]"
     ]
    },
    {
     "name": "stdout",
     "output_type": "stream",
     "text": [
      " 15\n",
      "MATCHED  1  OUT OF  15\n",
      "CALCULATING FOR BRAND =  ('blackmagic', 'none')\n",
      "NUMBER OF COMPARISONS:  1\n",
      "MATCHED  0  OUT OF  1\n",
      "CALCULATING FOR BRAND =  ('bosch',)\n",
      "NUMBER OF COMPARISONS:  15\n",
      "MATCHED  6  OUT OF  15\n",
      "CALCULATING FOR BRAND =  ('brinno',)\n",
      "NUMBER OF COMPARISONS:  3\n",
      "MATCHED  0  OUT OF  3\n",
      "CALCULATING FOR BRAND =  ('bushnell',)\n",
      "NUMBER OF COMPARISONS:  1\n",
      "MATCHED  0  OUT OF  1\n",
      "CALCULATING FOR BRAND =  ('butterfly',)\n",
      "NUMBER OF COMPARISONS:  28\n",
      "MATCHED  21  OUT OF  28\n",
      "CALCULATING FOR BRAND =  ('butterfly', 'canon')\n",
      "NUMBER OF COMPARISONS:  1596\n"
     ]
    },
    {
     "name": "stderr",
     "output_type": "stream",
     "text": [
      "100%|██████████| 1596/1596 [00:00<00:00, 4443.40it/s]\n",
      "100%|██████████| 171/171 [00:00<00:00, 3529.33it/s]\n",
      "100%|██████████| 3/3 [00:00<00:00, 1687.40it/s]\n",
      "100%|██████████| 21/21 [00:00<00:00, 3357.75it/s]\n",
      "100%|██████████| 15/15 [00:00<00:00, 1904.08it/s]\n",
      "100%|██████████| 10/10 [00:00<00:00, 2416.07it/s]\n"
     ]
    },
    {
     "name": "stdout",
     "output_type": "stream",
     "text": [
      "MATCHED  608  OUT OF  1596\n",
      "CALCULATING FOR BRAND =  ('butterfly', 'fuji')\n",
      "NUMBER OF COMPARISONS:  171\n",
      "MATCHED  171  OUT OF  171\n",
      "CALCULATING FOR BRAND =  ('butterfly', 'sony')\n",
      "NUMBER OF COMPARISONS:  3\n",
      "MATCHED  3  OUT OF  3\n",
      "CALCULATING FOR BRAND =  ('bvi', 'canon')\n",
      "NUMBER OF COMPARISONS:  21\n",
      "MATCHED  15  OUT OF  21\n",
      "CALCULATING FOR BRAND =  ('bvi', 'fuji')\n",
      "NUMBER OF COMPARISONS:  15\n",
      "MATCHED  10  OUT OF  15\n",
      "CALCULATING FOR BRAND =  ('bvi', 'olympus')\n",
      "NUMBER OF COMPARISONS:  10\n",
      "MATCHED  10  OUT OF  10\n",
      "CALCULATING FOR BRAND =  ('canon',)\n"
     ]
    },
    {
     "name": "stderr",
     "output_type": "stream",
     "text": [
      "  0%|          | 0/14372841 [00:00<?, ?it/s]"
     ]
    },
    {
     "name": "stdout",
     "output_type": "stream",
     "text": [
      "NUMBER OF COMPARISONS:  14372841\n"
     ]
    },
    {
     "name": "stderr",
     "output_type": "stream",
     "text": [
      "100%|██████████| 14372841/14372841 [48:52<00:00, 4901.41it/s] \n"
     ]
    },
    {
     "name": "stdout",
     "output_type": "stream",
     "text": [
      "MATCHED  194551  OUT OF  14372841\n"
     ]
    },
    {
     "name": "stderr",
     "output_type": "stream",
     "text": [
      "100%|██████████| 1/1 [00:00<00:00, 651.09it/s]\n",
      "100%|██████████| 1/1 [00:00<00:00, 700.69it/s]\n",
      "100%|██████████| 21/21 [00:00<00:00, 2968.97it/s]\n",
      "100%|██████████| 3/3 [00:00<00:00, 1275.51it/s]\n",
      "100%|██████████| 1/1 [00:00<00:00, 552.46it/s]\n",
      "100%|██████████| 153/153 [00:00<00:00, 3932.76it/s]\n",
      "  0%|          | 0/45 [00:00<?, ?it/s]"
     ]
    },
    {
     "name": "stdout",
     "output_type": "stream",
     "text": [
      "CALCULATING FOR BRAND =  ('canon', 'ebasket')\n",
      "NUMBER OF COMPARISONS:  1\n",
      "MATCHED  1  OUT OF  1\n",
      "CALCULATING FOR BRAND =  ('canon', 'fuji')\n",
      "NUMBER OF COMPARISONS:  1\n",
      "MATCHED  0  OUT OF  1\n",
      "CALCULATING FOR BRAND =  ('canon', 'gid')\n",
      "NUMBER OF COMPARISONS:  21\n",
      "MATCHED  15  OUT OF  21\n",
      "CALCULATING FOR BRAND =  ('canon', 'nikon')\n",
      "NUMBER OF COMPARISONS:  3\n",
      "MATCHED  0  OUT OF  3\n",
      "CALCULATING FOR BRAND =  ('canon', 'samsung')\n",
      "NUMBER OF COMPARISONS:  1\n",
      "MATCHED  0  OUT OF  1\n",
      "CALCULATING FOR BRAND =  ('canon', 'sigma')\n",
      "NUMBER OF COMPARISONS:  153\n",
      "MATCHED  1  OUT OF  153\n",
      "CALCULATING FOR BRAND =  ('canon', 'tamron')\n",
      "NUMBER OF COMPARISONS:  45\n"
     ]
    },
    {
     "name": "stderr",
     "output_type": "stream",
     "text": [
      "100%|██████████| 45/45 [00:00<00:00, 3513.99it/s]\n",
      "100%|██████████| 36/36 [00:00<00:00, 3154.60it/s]\n",
      "100%|██████████| 171/171 [00:00<00:00, 3666.54it/s]\n",
      "  0%|          | 0/22791 [00:00<?, ?it/s]"
     ]
    },
    {
     "name": "stdout",
     "output_type": "stream",
     "text": [
      "MATCHED  0  OUT OF  45\n",
      "CALCULATING FOR BRAND =  ('carl', 'sony')\n",
      "NUMBER OF COMPARISONS:  36\n",
      "MATCHED  4  OUT OF  36\n",
      "CALCULATING FOR BRAND =  ('carl', 'sony', 'zeiss')\n",
      "NUMBER OF COMPARISONS:  171\n",
      "MATCHED  19  OUT OF  171\n",
      "CALCULATING FOR BRAND =  ('casio',)\n",
      "NUMBER OF COMPARISONS:  22791\n"
     ]
    },
    {
     "name": "stderr",
     "output_type": "stream",
     "text": [
      "100%|██████████| 22791/22791 [00:04<00:00, 4755.38it/s]\n",
      "100%|██████████| 3/3 [00:00<00:00, 1664.85it/s]\n",
      "100%|██████████| 1/1 [00:00<00:00, 744.99it/s]\n",
      "100%|██████████| 55/55 [00:00<00:00, 4400.65it/s]\n",
      "100%|██████████| 6/6 [00:00<00:00, 2083.26it/s]\n",
      "  0%|          | 0/595 [00:00<?, ?it/s]"
     ]
    },
    {
     "name": "stdout",
     "output_type": "stream",
     "text": [
      "MATCHED  247  OUT OF  22791\n",
      "CALCULATING FOR BRAND =  ('celestron',)\n",
      "NUMBER OF COMPARISONS:  3\n",
      "MATCHED  0  OUT OF  3\n",
      "CALCULATING FOR BRAND =  ('celltime inc',)\n",
      "NUMBER OF COMPARISONS:  1\n",
      "MATCHED  0  OUT OF  1\n",
      "CALCULATING FOR BRAND =  ('cobra',)\n",
      "NUMBER OF COMPARISONS:  55\n",
      "MATCHED  1  OUT OF  55\n",
      "CALCULATING FOR BRAND =  ('coby',)\n",
      "NUMBER OF COMPARISONS:  6\n",
      "MATCHED  0  OUT OF  6\n",
      "CALCULATING FOR BRAND =  ('coleman',)\n",
      "NUMBER OF COMPARISONS:  595\n"
     ]
    },
    {
     "name": "stderr",
     "output_type": "stream",
     "text": [
      "100%|██████████| 595/595 [00:00<00:00, 4371.01it/s]\n",
      "100%|██████████| 6/6 [00:00<00:00, 2204.24it/s]\n",
      "100%|██████████| 1/1 [00:00<00:00, 514.64it/s]\n",
      "100%|██████████| 1/1 [00:00<00:00, 427.34it/s]\n",
      "100%|██████████| 1/1 [00:00<00:00, 585.80it/s]\n",
      "100%|██████████| 1/1 [00:00<00:00, 632.43it/s]\n",
      "100%|██████████| 21/21 [00:00<00:00, 3255.24it/s]\n",
      "100%|██████████| 3/3 [00:00<00:00, 1360.02it/s]\n",
      "100%|██████████| 6/6 [00:00<00:00, 2016.17it/s]\n",
      "100%|██████████| 1/1 [00:00<00:00, 567.18it/s]\n",
      "100%|██████████| 3/3 [00:00<00:00, 1440.85it/s]"
     ]
    },
    {
     "name": "stdout",
     "output_type": "stream",
     "text": [
      "MATCHED  102  OUT OF  595\n",
      "CALCULATING FOR BRAND =  ('coleman', 'none')\n",
      "NUMBER OF COMPARISONS:  6\n",
      "MATCHED  6  OUT OF  6\n",
      "CALCULATING FOR BRAND =  ('coleman', 'xtreme')\n",
      "NUMBER OF COMPARISONS:  1\n",
      "MATCHED  0  OUT OF  1\n",
      "CALCULATING FOR BRAND =  ('contax',)\n",
      "NUMBER OF COMPARISONS:  1\n",
      "MATCHED  0  OUT OF  1\n",
      "CALCULATING FOR BRAND =  ('contour',)\n",
      "NUMBER OF COMPARISONS:  1\n",
      "MATCHED  0  OUT OF  1\n",
      "CALCULATING FOR BRAND =  ('contour, inc', 'contour')\n",
      "NUMBER OF COMPARISONS:  1\n",
      "MATCHED  0  OUT OF  1\n",
      "CALCULATING FOR BRAND =  ('covert',)\n",
      "NUMBER OF COMPARISONS:  21\n",
      "MATCHED  0  OUT OF  21\n",
      "CALCULATING FOR BRAND =  ('crayola',)\n",
      "NUMBER OF COMPARISONS:  3\n",
      "MATCHED  0  OUT OF  3\n",
      "CALCULATING FOR BRAND =  ('crayola', 'sakar')\n",
      "NUMBER OF COMPARISONS:  6\n",
      "MATCHED  0  OUT OF  6\n",
      "CALCULATING FOR BRAND =  ('creative',)\n",
      "NUMBER OF COMPARISONS:  1\n",
      "MATCHED  0  OUT OF  1\n",
      "CALCULATING FOR BRAND =  ('digiflip',)\n",
      "NUMBER OF COMPARISONS:  3\n",
      "MATCHED "
     ]
    },
    {
     "name": "stderr",
     "output_type": "stream",
     "text": [
      "\n",
      "100%|██████████| 1/1 [00:00<00:00, 520.58it/s]\n",
      "100%|██████████| 210/210 [00:00<00:00, 4641.89it/s]\n",
      "100%|██████████| 1/1 [00:00<00:00, 727.80it/s]\n",
      "100%|██████████| 1/1 [00:00<00:00, 682.56it/s]\n",
      "100%|██████████| 10/10 [00:00<00:00, 2701.99it/s]\n",
      "100%|██████████| 1/1 [00:00<00:00, 636.56it/s]\n",
      "100%|██████████| 66/66 [00:00<00:00, 4071.60it/s]"
     ]
    },
    {
     "name": "stdout",
     "output_type": "stream",
     "text": [
      " 0  OUT OF  3\n",
      "CALCULATING FOR BRAND =  ('discovery kids', 'discovery')\n",
      "NUMBER OF COMPARISONS:  1\n",
      "MATCHED  0  OUT OF  1\n",
      "CALCULATING FOR BRAND =  ('disney',)\n",
      "NUMBER OF COMPARISONS:  210\n",
      "MATCHED  15  OUT OF  210\n",
      "CALCULATING FOR BRAND =  ('disney', 'none')\n",
      "NUMBER OF COMPARISONS:  1\n",
      "MATCHED  0  OUT OF  1\n",
      "CALCULATING FOR BRAND =  ('disney', 'sakar')\n",
      "NUMBER OF COMPARISONS:  1\n",
      "MATCHED  0  OUT OF  1\n",
      "CALCULATING FOR BRAND =  ('dji',)\n",
      "NUMBER OF COMPARISONS:  10\n",
      "MATCHED  0  OUT OF  10\n",
      "CALCULATING FOR BRAND =  ('drift',)\n",
      "NUMBER OF COMPARISONS:  1\n",
      "MATCHED  1  OUT OF  1\n",
      "CALCULATING FOR BRAND =  ('dxg',)\n",
      "NUMBER OF COMPARISONS:  66\n",
      "MATCHED  5  OUT OF  66\n"
     ]
    },
    {
     "name": "stderr",
     "output_type": "stream",
     "text": [
      "\n",
      "100%|██████████| 1/1 [00:00<00:00, 468.85it/s]\n",
      "100%|██████████| 36/36 [00:00<00:00, 3342.30it/s]\n",
      "100%|██████████| 6/6 [00:00<00:00, 2054.19it/s]\n",
      "100%|██████████| 1/1 [00:00<00:00, 588.92it/s]\n",
      "100%|██████████| 45/45 [00:00<00:00, 3808.08it/s]\n",
      "100%|██████████| 1/1 [00:00<00:00, 498.79it/s]\n",
      "100%|██████████| 6/6 [00:00<00:00, 1576.90it/s]\n",
      "100%|██████████| 6/6 [00:00<00:00, 1604.66it/s]\n",
      "100%|██████████| 3/3 [00:00<00:00, 1254.65it/s]"
     ]
    },
    {
     "name": "stdout",
     "output_type": "stream",
     "text": [
      "CALCULATING FOR BRAND =  ('dxg', 'none')\n",
      "NUMBER OF COMPARISONS:  1\n",
      "MATCHED  0  OUT OF  1\n",
      "CALCULATING FOR BRAND =  ('easypix',)\n",
      "NUMBER OF COMPARISONS:  36\n",
      "MATCHED  4  OUT OF  36\n",
      "CALCULATING FOR BRAND =  ('ebasket', 'samsung')\n",
      "NUMBER OF COMPARISONS:  6\n",
      "MATCHED  6  OUT OF  6\n",
      "CALCULATING FOR BRAND =  ('element',)\n",
      "NUMBER OF COMPARISONS:  1\n",
      "MATCHED  0  OUT OF  1\n",
      "CALCULATING FOR BRAND =  ('emerson',)\n",
      "NUMBER OF COMPARISONS:  45\n",
      "MATCHED  2  OUT OF  45\n",
      "CALCULATING FOR BRAND =  ('emerson', 'none')\n",
      "NUMBER OF COMPARISONS:  1\n",
      "MATCHED  0  OUT OF  1\n",
      "CALCULATING FOR BRAND =  ('epson',)\n",
      "NUMBER OF COMPARISONS:  6\n",
      "MATCHED  1  OUT OF  6\n",
      "CALCULATING FOR BRAND =  ('fisher price',)\n",
      "NUMBER OF COMPARISONS:  6\n",
      "MATCHED  2  OUT OF  6\n",
      "CALCULATING FOR BRAND =  ('flip',)\n",
      "NUMBER OF COMPARISONS:  3\n",
      "MATCHED  0  OUT OF  3\n"
     ]
    },
    {
     "name": "stderr",
     "output_type": "stream",
     "text": [
      "\n",
      "100%|██████████| 3/3 [00:00<00:00, 1083.43it/s]\n",
      "100%|██████████| 1/1 [00:00<00:00, 515.65it/s]\n",
      "100%|██████████| 1/1 [00:00<00:00, 404.23it/s]\n",
      "100%|██████████| 3/3 [00:00<00:00, 1020.84it/s]\n",
      "100%|██████████| 21/21 [00:00<00:00, 2810.21it/s]\n"
     ]
    },
    {
     "name": "stdout",
     "output_type": "stream",
     "text": [
      "CALCULATING FOR BRAND =  ('flip', 'flip video')\n",
      "NUMBER OF COMPARISONS:  3\n",
      "MATCHED  1  OUT OF  3\n",
      "CALCULATING FOR BRAND =  ('flip', 'nikon')\n",
      "NUMBER OF COMPARISONS:  1\n",
      "MATCHED  0  OUT OF  1\n",
      "CALCULATING FOR BRAND =  ('flip', 'vivitar')\n",
      "NUMBER OF COMPARISONS:  1\n",
      "MATCHED  0  OUT OF  1\n",
      "CALCULATING FOR BRAND =  ('foscam',)\n",
      "NUMBER OF COMPARISONS:  3\n",
      "MATCHED  0  OUT OF  3\n",
      "CALCULATING FOR BRAND =  ('fotopix',)\n",
      "NUMBER OF COMPARISONS:  21\n",
      "MATCHED  9  OUT OF  21\n",
      "CALCULATING FOR BRAND =  ('fuji',)\n"
     ]
    },
    {
     "name": "stderr",
     "output_type": "stream",
     "text": [
      "  0%|          | 0/1078246 [00:00<?, ?it/s]"
     ]
    },
    {
     "name": "stdout",
     "output_type": "stream",
     "text": [
      "NUMBER OF COMPARISONS:  1078246\n"
     ]
    },
    {
     "name": "stderr",
     "output_type": "stream",
     "text": [
      "100%|██████████| 1078246/1078246 [03:42<00:00, 4839.94it/s]\n",
      "100%|██████████| 1/1 [00:00<00:00, 689.51it/s]\n",
      "100%|██████████| 1/1 [00:00<00:00, 654.03it/s]\n",
      "100%|██████████| 3/3 [00:00<00:00, 1332.09it/s]\n",
      "  0%|          | 0/276 [00:00<?, ?it/s]"
     ]
    },
    {
     "name": "stdout",
     "output_type": "stream",
     "text": [
      "MATCHED  9103  OUT OF  1078246\n",
      "CALCULATING FOR BRAND =  ('fuji', 'nikon')\n",
      "NUMBER OF COMPARISONS:  1\n",
      "MATCHED  0  OUT OF  1\n",
      "CALCULATING FOR BRAND =  ('fuji', 'olympus')\n",
      "NUMBER OF COMPARISONS:  1\n",
      "MATCHED  0  OUT OF  1\n",
      "CALCULATING FOR BRAND =  ('fuji', 'polaroid')\n",
      "NUMBER OF COMPARISONS:  3\n",
      "MATCHED  0  OUT OF  3\n",
      "CALCULATING FOR BRAND =  ('fvanor',)\n",
      "NUMBER OF COMPARISONS:  276\n"
     ]
    },
    {
     "name": "stderr",
     "output_type": "stream",
     "text": [
      "100%|██████████| 276/276 [00:00<00:00, 3549.79it/s]\n",
      "100%|██████████| 15/15 [00:00<00:00, 3286.56it/s]\n",
      "100%|██████████| 1/1 [00:00<00:00, 650.58it/s]\n",
      " 11%|█▏        | 455/4005 [00:00<00:00, 4542.07it/s]"
     ]
    },
    {
     "name": "stdout",
     "output_type": "stream",
     "text": [
      "MATCHED  276  OUT OF  276\n",
      "CALCULATING FOR BRAND =  ('garmin',)\n",
      "NUMBER OF COMPARISONS:  15\n",
      "MATCHED  3  OUT OF  15\n",
      "CALCULATING FOR BRAND =  ('gateway',)\n",
      "NUMBER OF COMPARISONS:  1\n",
      "MATCHED  0  OUT OF  1\n",
      "CALCULATING FOR BRAND =  ('ge',)\n",
      "NUMBER OF COMPARISONS:  4005\n"
     ]
    },
    {
     "name": "stderr",
     "output_type": "stream",
     "text": [
      "100%|██████████| 4005/4005 [00:00<00:00, 4787.52it/s]\n",
      "100%|██████████| 1/1 [00:00<00:00, 462.54it/s]\n",
      "100%|██████████| 6/6 [00:00<00:00, 1902.90it/s]\n",
      "  0%|          | 0/36046 [00:00<?, ?it/s]"
     ]
    },
    {
     "name": "stdout",
     "output_type": "stream",
     "text": [
      "MATCHED  412  OUT OF  4005\n",
      "CALCULATING FOR BRAND =  ('general electric',)\n",
      "NUMBER OF COMPARISONS:  1\n",
      "MATCHED  0  OUT OF  1\n",
      "CALCULATING FOR BRAND =  ('global point',)\n",
      "NUMBER OF COMPARISONS:  6\n",
      "MATCHED  0  OUT OF  6\n",
      "CALCULATING FOR BRAND =  ('gopro',)\n",
      "NUMBER OF COMPARISONS:  36046\n"
     ]
    },
    {
     "name": "stderr",
     "output_type": "stream",
     "text": [
      "100%|██████████| 36046/36046 [00:06<00:00, 5294.16it/s]\n",
      "100%|██████████| 6/6 [00:00<00:00, 2654.90it/s]\n",
      "100%|██████████| 3/3 [00:00<00:00, 1629.28it/s]\n",
      "100%|██████████| 190/190 [00:00<00:00, 4816.26it/s]\n",
      "100%|██████████| 1/1 [00:00<00:00, 680.23it/s]\n",
      "100%|██████████| 3/3 [00:00<00:00, 1517.48it/s]\n",
      "100%|██████████| 1/1 [00:00<00:00, 630.82it/s]\n",
      "100%|██████████| 21/21 [00:00<00:00, 3215.32it/s]\n",
      "  0%|          | 0/3240 [00:00<?, ?it/s]"
     ]
    },
    {
     "name": "stdout",
     "output_type": "stream",
     "text": [
      "MATCHED  861  OUT OF  36046\n",
      "CALCULATING FOR BRAND =  ('gopro', 'none')\n",
      "NUMBER OF COMPARISONS:  6\n",
      "MATCHED  0  OUT OF  6\n",
      "CALCULATING FOR BRAND =  ('gopro', 'olympus')\n",
      "NUMBER OF COMPARISONS:  3\n",
      "MATCHED  0  OUT OF  3\n",
      "CALCULATING FOR BRAND =  ('hasselblad',)\n",
      "NUMBER OF COMPARISONS:  190\n",
      "MATCHED  29  OUT OF  190\n",
      "CALCULATING FOR BRAND =  ('hello',)\n",
      "NUMBER OF COMPARISONS:  1\n",
      "MATCHED  0  OUT OF  1\n",
      "CALCULATING FOR BRAND =  ('hello', 'hello kitty')\n",
      "NUMBER OF COMPARISONS:  3\n",
      "MATCHED  0  OUT OF  3\n",
      "CALCULATING FOR BRAND =  ('hello', 'sakar')\n",
      "NUMBER OF COMPARISONS:  1\n",
      "MATCHED  0  OUT OF  1\n",
      "CALCULATING FOR BRAND =  ('hoya',)\n",
      "NUMBER OF COMPARISONS:  21\n",
      "MATCHED  0  OUT OF  21\n",
      "CALCULATING FOR BRAND =  ('hp',)\n",
      "NUMBER OF COMPARISONS:  3240\n"
     ]
    },
    {
     "name": "stderr",
     "output_type": "stream",
     "text": [
      "100%|██████████| 3240/3240 [00:00<00:00, 4917.64it/s]\n",
      "100%|██████████| 6/6 [00:00<00:00, 1661.11it/s]\n",
      "100%|██████████| 1/1 [00:00<00:00, 739.61it/s]\n",
      "100%|██████████| 1/1 [00:00<00:00, 513.06it/s]\n",
      "100%|██████████| 1/1 [00:00<00:00, 598.84it/s]\n",
      "100%|██████████| 28/28 [00:00<00:00, 3668.30it/s]\n",
      "100%|██████████| 36/36 [00:00<00:00, 3996.48it/s]\n",
      "100%|██████████| 3/3 [00:00<00:00, 1399.81it/s]\n",
      "100%|██████████| 1/1 [00:00<00:00, 674.76it/s]\n",
      "100%|██████████| 3/3 [00:00<00:00, 1532.07it/s]\n",
      "100%|██████████| 6/6 [00:00<00:00, 1856.43it/s]"
     ]
    },
    {
     "name": "stdout",
     "output_type": "stream",
     "text": [
      "MATCHED  91  OUT OF  3240\n",
      "CALCULATING FOR BRAND =  ('htc',)\n",
      "NUMBER OF COMPARISONS:  6\n",
      "MATCHED  3  OUT OF  6\n",
      "CALCULATING FOR BRAND =  ('humminbird',)\n",
      "NUMBER OF COMPARISONS:  1\n",
      "MATCHED  0  OUT OF  1\n",
      "CALCULATING FOR BRAND =  ('iclick',)\n",
      "NUMBER OF COMPARISONS:  1\n",
      "MATCHED  0  OUT OF  1\n",
      "CALCULATING FOR BRAND =  ('innovage',)\n",
      "NUMBER OF COMPARISONS:  1\n",
      "MATCHED  0  OUT OF  1\n",
      "CALCULATING FOR BRAND =  ('insignia',)\n",
      "NUMBER OF COMPARISONS:  28\n",
      "MATCHED  0  OUT OF  28\n",
      "CALCULATING FOR BRAND =  ('intova',)\n",
      "NUMBER OF COMPARISONS:  36\n",
      "MATCHED  2  OUT OF  36\n",
      "CALCULATING FOR BRAND =  ('ion',)\n",
      "NUMBER OF COMPARISONS:  3\n",
      "MATCHED  0  OUT OF  3\n",
      "CALCULATING FOR BRAND =  ('ion', 'leica')\n",
      "NUMBER OF COMPARISONS:  1\n",
      "MATCHED  0  OUT OF  1\n",
      "CALCULATING FOR BRAND =  ('iris',)\n",
      "NUMBER OF COMPARISONS:  3\n",
      "MATCHED  0  OUT OF  3\n",
      "CALCULATING FOR BRAND =  ('jazz',)\n",
      "NUMBER OF COMPARISONS:  6\n"
     ]
    },
    {
     "name": "stderr",
     "output_type": "stream",
     "text": [
      "\n",
      "100%|██████████| 21/21 [00:00<00:00, 2465.44it/s]\n",
      "100%|██████████| 1/1 [00:00<00:00, 657.41it/s]\n",
      "100%|██████████| 3/3 [00:00<00:00, 1365.63it/s]\n",
      "100%|██████████| 1/1 [00:00<00:00, 486.35it/s]\n"
     ]
    },
    {
     "name": "stdout",
     "output_type": "stream",
     "text": [
      "MATCHED  0  OUT OF  6\n",
      "CALCULATING FOR BRAND =  ('jvc',)\n",
      "NUMBER OF COMPARISONS:  21\n",
      "MATCHED  1  OUT OF  21\n",
      "CALCULATING FOR BRAND =  ('jvc', 'none')\n",
      "NUMBER OF COMPARISONS:  1\n",
      "MATCHED  0  OUT OF  1\n",
      "CALCULATING FOR BRAND =  ('keedox',)\n",
      "NUMBER OF COMPARISONS:  3\n",
      "MATCHED  1  OUT OF  3\n",
      "CALCULATING FOR BRAND =  ('kenko',)\n",
      "NUMBER OF COMPARISONS:  1\n",
      "MATCHED  0  OUT OF  1\n",
      "CALCULATING FOR BRAND =  ('kodak',)\n"
     ]
    },
    {
     "name": "stderr",
     "output_type": "stream",
     "text": [
      "  0%|          | 31/283881 [00:00<15:18, 309.20it/s]"
     ]
    },
    {
     "name": "stdout",
     "output_type": "stream",
     "text": [
      "NUMBER OF COMPARISONS:  283881\n"
     ]
    },
    {
     "name": "stderr",
     "output_type": "stream",
     "text": [
      "100%|██████████| 283881/283881 [00:57<00:00, 4929.53it/s]\n",
      "100%|██████████| 1/1 [00:00<00:00, 517.56it/s]\n",
      "100%|██████████| 3/3 [00:00<00:00, 1477.04it/s]\n",
      "100%|██████████| 3/3 [00:00<00:00, 1306.64it/s]\n",
      "100%|██████████| 1/1 [00:00<00:00, 522.72it/s]\n",
      "  0%|          | 0/13366 [00:00<?, ?it/s]"
     ]
    },
    {
     "name": "stdout",
     "output_type": "stream",
     "text": [
      "MATCHED  2300  OUT OF  283881\n",
      "CALCULATING FOR BRAND =  ('kodak', 'hp')\n",
      "NUMBER OF COMPARISONS:  1\n",
      "MATCHED  1  OUT OF  1\n",
      "CALCULATING FOR BRAND =  ('kodak', 'none')\n",
      "NUMBER OF COMPARISONS:  3\n",
      "MATCHED  0  OUT OF  3\n",
      "CALCULATING FOR BRAND =  ('konica minolta', 'konica')\n",
      "NUMBER OF COMPARISONS:  3\n",
      "MATCHED  1  OUT OF  3\n",
      "CALCULATING FOR BRAND =  ('lego',)\n",
      "NUMBER OF COMPARISONS:  1\n",
      "MATCHED  0  OUT OF  1\n",
      "CALCULATING FOR BRAND =  ('leica',)\n",
      "NUMBER OF COMPARISONS:  13366\n"
     ]
    },
    {
     "name": "stderr",
     "output_type": "stream",
     "text": [
      "100%|██████████| 13366/13366 [00:02<00:00, 5023.38it/s]\n",
      "100%|██████████| 21/21 [00:00<00:00, 3917.30it/s]\n",
      "100%|██████████| 231/231 [00:00<00:00, 4624.52it/s]\n",
      "100%|██████████| 1/1 [00:00<00:00, 550.43it/s]\n",
      "100%|██████████| 190/190 [00:00<00:00, 3946.33it/s]\n",
      "100%|██████████| 3/3 [00:00<00:00, 1068.43it/s]\n"
     ]
    },
    {
     "name": "stdout",
     "output_type": "stream",
     "text": [
      "MATCHED  576  OUT OF  13366\n",
      "CALCULATING FOR BRAND =  ('leica', 'none')\n",
      "NUMBER OF COMPARISONS:  21\n",
      "MATCHED  1  OUT OF  21\n",
      "CALCULATING FOR BRAND =  ('leica', 'panasonic')\n",
      "NUMBER OF COMPARISONS:  231\n",
      "MATCHED  23  OUT OF  231\n",
      "CALCULATING FOR BRAND =  ('leica', 'ricoh')\n",
      "NUMBER OF COMPARISONS:  1\n",
      "MATCHED  1  OUT OF  1\n",
      "CALCULATING FOR BRAND =  ('lg',)\n",
      "NUMBER OF COMPARISONS:  190\n",
      "MATCHED  23  OUT OF  190\n",
      "CALCULATING FOR BRAND =  ('limited too',)\n",
      "NUMBER OF COMPARISONS:  3\n",
      "MATCHED  0  OUT OF  3\n"
     ]
    },
    {
     "name": "stderr",
     "output_type": "stream",
     "text": [
      "100%|██████████| 1/1 [00:00<00:00, 616.90it/s]\n",
      "100%|██████████| 120/120 [00:00<00:00, 3905.22it/s]\n",
      "100%|██████████| 21/21 [00:00<00:00, 3583.56it/s]\n",
      "100%|██████████| 190/190 [00:00<00:00, 3965.95it/s]\n",
      "100%|██████████| 10/10 [00:00<00:00, 2493.79it/s]\n",
      "100%|██████████| 1/1 [00:00<00:00, 521.94it/s]"
     ]
    },
    {
     "name": "stdout",
     "output_type": "stream",
     "text": [
      "CALCULATING FOR BRAND =  ('little acorn', 'ltl', 'acorn')\n",
      "NUMBER OF COMPARISONS:  1\n",
      "MATCHED  0  OUT OF  1\n",
      "CALCULATING FOR BRAND =  ('lowepro',)\n",
      "NUMBER OF COMPARISONS:  120\n",
      "MATCHED  0  OUT OF  120\n",
      "CALCULATING FOR BRAND =  ('lowrance',)\n",
      "NUMBER OF COMPARISONS:  21\n",
      "MATCHED  0  OUT OF  21\n",
      "CALCULATING FOR BRAND =  ('lytro',)\n",
      "NUMBER OF COMPARISONS:  190\n",
      "MATCHED  10  OUT OF  190\n",
      "CALCULATING FOR BRAND =  ('magnavox',)\n",
      "NUMBER OF COMPARISONS:  10\n",
      "MATCHED  1  OUT OF  10\n",
      "CALCULATING FOR BRAND =  ('mamiya',)\n",
      "NUMBER OF COMPARISONS:  1\n",
      "MATCHED  0  OUT OF  1\n"
     ]
    },
    {
     "name": "stderr",
     "output_type": "stream",
     "text": [
      "\n",
      "100%|██████████| 6/6 [00:00<00:00, 1869.12it/s]\n",
      "100%|██████████| 1/1 [00:00<00:00, 442.48it/s]\n",
      "100%|██████████| 1/1 [00:00<00:00, 289.70it/s]\n",
      "100%|██████████| 276/276 [00:00<00:00, 4182.77it/s]\n",
      "  0%|          | 0/903 [00:00<?, ?it/s]"
     ]
    },
    {
     "name": "stdout",
     "output_type": "stream",
     "text": [
      "CALCULATING FOR BRAND =  ('mattel',)\n",
      "NUMBER OF COMPARISONS:  6\n",
      "MATCHED  0  OUT OF  6\n",
      "CALCULATING FOR BRAND =  ('midland',)\n",
      "NUMBER OF COMPARISONS:  1\n",
      "MATCHED  0  OUT OF  1\n",
      "CALCULATING FOR BRAND =  ('mikona',)\n",
      "NUMBER OF COMPARISONS:  1\n",
      "MATCHED  0  OUT OF  1\n",
      "CALCULATING FOR BRAND =  ('minolta',)\n",
      "NUMBER OF COMPARISONS:  276\n",
      "MATCHED  16  OUT OF  276\n",
      "CALCULATING FOR BRAND =  ('minolta', 'konica minolta')\n",
      "NUMBER OF COMPARISONS:  903\n"
     ]
    },
    {
     "name": "stderr",
     "output_type": "stream",
     "text": [
      "100%|██████████| 903/903 [00:00<00:00, 4386.13it/s]\n",
      "100%|██████████| 45/45 [00:00<00:00, 4105.44it/s]\n",
      "100%|██████████| 1/1 [00:00<00:00, 621.56it/s]\n",
      "100%|██████████| 10/10 [00:00<00:00, 2758.68it/s]\n",
      "100%|██████████| 3/3 [00:00<00:00, 1386.24it/s]\n",
      "100%|██████████| 1/1 [00:00<00:00, 667.14it/s]\n",
      "100%|██████████| 1/1 [00:00<00:00, 667.14it/s]\n",
      "100%|██████████| 6/6 [00:00<00:00, 2165.36it/s]\n",
      "100%|██████████| 15/15 [00:00<00:00, 2812.70it/s]\n",
      "100%|██████████| 36/36 [00:00<00:00, 3964.27it/s]\n"
     ]
    },
    {
     "name": "stdout",
     "output_type": "stream",
     "text": [
      "MATCHED  170  OUT OF  903\n",
      "CALCULATING FOR BRAND =  ('minolta', 'konica minolta', 'konica')\n",
      "NUMBER OF COMPARISONS:  45\n",
      "MATCHED  4  OUT OF  45\n",
      "CALCULATING FOR BRAND =  ('minolta', 'sony')\n",
      "NUMBER OF COMPARISONS:  1\n",
      "MATCHED  0  OUT OF  1\n",
      "CALCULATING FOR BRAND =  ('minox',)\n",
      "NUMBER OF COMPARISONS:  10\n",
      "MATCHED  6  OUT OF  10\n",
      "CALCULATING FOR BRAND =  ('minox', 'leica')\n",
      "NUMBER OF COMPARISONS:  3\n",
      "MATCHED  1  OUT OF  3\n",
      "CALCULATING FOR BRAND =  ('mitsuba',)\n",
      "NUMBER OF COMPARISONS:  1\n",
      "MATCHED  0  OUT OF  1\n",
      "CALCULATING FOR BRAND =  ('mitsubishi',)\n",
      "NUMBER OF COMPARISONS:  1\n",
      "MATCHED  0  OUT OF  1\n",
      "CALCULATING FOR BRAND =  ('motorola',)\n",
      "NUMBER OF COMPARISONS:  6\n",
      "MATCHED  0  OUT OF  6\n",
      "CALCULATING FOR BRAND =  ('mustek',)\n",
      "NUMBER OF COMPARISONS:  15\n",
      "MATCHED  1  OUT OF  15\n",
      "CALCULATING FOR BRAND =  ('naxa',)\n",
      "NUMBER OF COMPARISONS:  36\n",
      "MATCHED  0  OUT OF  36\n"
     ]
    },
    {
     "name": "stderr",
     "output_type": "stream",
     "text": [
      "100%|██████████| 21/21 [00:00<00:00, 3223.32it/s]\n",
      "  0%|          | 0/67896 [00:00<?, ?it/s]"
     ]
    },
    {
     "name": "stdout",
     "output_type": "stream",
     "text": [
      "CALCULATING FOR BRAND =  ('nest',)\n",
      "NUMBER OF COMPARISONS:  21\n",
      "MATCHED  0  OUT OF  21\n",
      "CALCULATING FOR BRAND =  ('night',)\n",
      "NUMBER OF COMPARISONS:  67896\n"
     ]
    },
    {
     "name": "stderr",
     "output_type": "stream",
     "text": [
      "100%|██████████| 67896/67896 [00:13<00:00, 5072.35it/s]\n",
      "100%|██████████| 1/1 [00:00<00:00, 645.18it/s]\n"
     ]
    },
    {
     "name": "stdout",
     "output_type": "stream",
     "text": [
      "MATCHED  632  OUT OF  67896\n",
      "CALCULATING FOR BRAND =  ('night', 'chobi')\n",
      "NUMBER OF COMPARISONS:  1\n",
      "MATCHED  1  OUT OF  1\n",
      "CALCULATING FOR BRAND =  ('nikon',)\n"
     ]
    },
    {
     "name": "stderr",
     "output_type": "stream",
     "text": [
      "  0%|          | 0/10897446 [00:00<?, ?it/s]"
     ]
    },
    {
     "name": "stdout",
     "output_type": "stream",
     "text": [
      "NUMBER OF COMPARISONS:  10897446\n"
     ]
    },
    {
     "name": "stderr",
     "output_type": "stream",
     "text": [
      "100%|██████████| 10897446/10897446 [36:53<00:00, 4922.88it/s]\n"
     ]
    },
    {
     "name": "stdout",
     "output_type": "stream",
     "text": [
      "MATCHED  122043  OUT OF  10897446\n"
     ]
    },
    {
     "name": "stderr",
     "output_type": "stream",
     "text": [
      "100%|██████████| 3/3 [00:00<00:00, 343.22it/s]\n",
      "100%|██████████| 1/1 [00:00<00:00, 652.30it/s]\n",
      "100%|██████████| 55/55 [00:00<00:00, 3495.84it/s]\n",
      "100%|██████████| 66/66 [00:00<00:00, 3438.72it/s]\n",
      "100%|██████████| 1/1 [00:00<00:00, 552.68it/s]\n",
      "  0%|          | 0/4851 [00:00<?, ?it/s]"
     ]
    },
    {
     "name": "stdout",
     "output_type": "stream",
     "text": [
      "CALCULATING FOR BRAND =  ('nikon', 'lowepro')\n",
      "NUMBER OF COMPARISONS:  3\n",
      "MATCHED  0  OUT OF  3\n",
      "CALCULATING FOR BRAND =  ('nikon', 'olympus')\n",
      "NUMBER OF COMPARISONS:  1\n",
      "MATCHED  0  OUT OF  1\n",
      "CALCULATING FOR BRAND =  ('nikon', 'sigma')\n",
      "NUMBER OF COMPARISONS:  55\n",
      "MATCHED  2  OUT OF  55\n",
      "CALCULATING FOR BRAND =  ('nikon', 'tamron')\n",
      "NUMBER OF COMPARISONS:  66\n",
      "MATCHED  0  OUT OF  66\n",
      "CALCULATING FOR BRAND =  ('nokia',)\n",
      "NUMBER OF COMPARISONS:  1\n",
      "MATCHED  0  OUT OF  1\n",
      "CALCULATING FOR BRAND =  ('none',)\n",
      "NUMBER OF COMPARISONS:  4851\n"
     ]
    },
    {
     "name": "stderr",
     "output_type": "stream",
     "text": [
      "100%|██████████| 4851/4851 [00:00<00:00, 4871.47it/s]\n",
      "100%|██████████| 528/528 [00:00<00:00, 4310.10it/s]\n",
      "100%|██████████| 10/10 [00:00<00:00, 2321.27it/s]\n",
      "100%|██████████| 28/28 [00:00<00:00, 3476.01it/s]\n"
     ]
    },
    {
     "name": "stdout",
     "output_type": "stream",
     "text": [
      "MATCHED  19  OUT OF  4851\n",
      "CALCULATING FOR BRAND =  ('none', 'canon')\n",
      "NUMBER OF COMPARISONS:  528\n",
      "MATCHED  1  OUT OF  528\n",
      "CALCULATING FOR BRAND =  ('none', 'casio')\n",
      "NUMBER OF COMPARISONS:  10\n",
      "MATCHED  0  OUT OF  10\n",
      "CALCULATING FOR BRAND =  ('none', 'fuji')\n",
      "NUMBER OF COMPARISONS:  28\n",
      "MATCHED  0  OUT OF  28\n",
      "CALCULATING FOR BRAND =  ('none', 'intova')\n"
     ]
    },
    {
     "name": "stderr",
     "output_type": "stream",
     "text": [
      "100%|██████████| 3/3 [00:00<00:00, 958.11it/s]\n",
      "100%|██████████| 231/231 [00:00<00:00, 3895.58it/s]\n",
      "100%|██████████| 10/10 [00:00<00:00, 1120.60it/s]\n",
      "  0%|          | 0/171 [00:00<?, ?it/s]"
     ]
    },
    {
     "name": "stdout",
     "output_type": "stream",
     "text": [
      "NUMBER OF COMPARISONS:  3\n",
      "MATCHED  3  OUT OF  3\n",
      "CALCULATING FOR BRAND =  ('none', 'nikon')\n",
      "NUMBER OF COMPARISONS:  231\n",
      "MATCHED  4  OUT OF  231\n",
      "CALCULATING FOR BRAND =  ('none', 'olympus')\n",
      "NUMBER OF COMPARISONS:  10\n",
      "MATCHED  0  OUT OF  10\n",
      "CALCULATING FOR BRAND =  ('none', 'samsung')\n",
      "NUMBER OF COMPARISONS:  171\n"
     ]
    },
    {
     "name": "stderr",
     "output_type": "stream",
     "text": [
      "100%|██████████| 171/171 [00:00<00:00, 3262.73it/s]\n"
     ]
    },
    {
     "name": "stdout",
     "output_type": "stream",
     "text": [
      "MATCHED  3  OUT OF  171\n",
      "CALCULATING FOR BRAND =  ('olympus',)\n"
     ]
    },
    {
     "name": "stderr",
     "output_type": "stream",
     "text": [
      "  0%|          | 0/1004653 [00:00<?, ?it/s]"
     ]
    },
    {
     "name": "stdout",
     "output_type": "stream",
     "text": [
      "NUMBER OF COMPARISONS:  1004653\n"
     ]
    },
    {
     "name": "stderr",
     "output_type": "stream",
     "text": [
      "100%|██████████| 1004653/1004653 [03:19<00:00, 5042.55it/s]\n",
      "100%|██████████| 1/1 [00:00<00:00, 723.16it/s]\n",
      "100%|██████████| 1/1 [00:00<00:00, 630.15it/s]\n",
      "100%|██████████| 10/10 [00:00<00:00, 1745.23it/s]\n",
      "100%|██████████| 1/1 [00:00<00:00, 443.47it/s]"
     ]
    },
    {
     "name": "stdout",
     "output_type": "stream",
     "text": [
      "MATCHED  23653  OUT OF  1004653\n",
      "CALCULATING FOR BRAND =  ('olympus', 'sigma')\n",
      "NUMBER OF COMPARISONS:  1\n",
      "MATCHED  1  OUT OF  1\n",
      "CALCULATING FOR BRAND =  ('oregon scientific',)\n",
      "NUMBER OF COMPARISONS:  1\n",
      "MATCHED  0  OUT OF  1\n",
      "CALCULATING FOR BRAND =  ('oregon scientific', 'oregon')\n",
      "NUMBER OF COMPARISONS:  10\n",
      "MATCHED  1  OUT OF  10\n",
      "CALCULATING FOR BRAND =  ('packard',)\n",
      "NUMBER OF COMPARISONS:  1\n",
      "MATCHED  0  OUT OF  1\n",
      "CALCULATING FOR BRAND =  ('packard', 'hp')\n",
      "NUMBER OF COMPARISONS: "
     ]
    },
    {
     "name": "stderr",
     "output_type": "stream",
     "text": [
      "\n",
      "100%|██████████| 3/3 [00:00<00:00, 1179.72it/s]\n"
     ]
    },
    {
     "name": "stdout",
     "output_type": "stream",
     "text": [
      " 3\n",
      "MATCHED  0  OUT OF  3\n",
      "CALCULATING FOR BRAND =  ('panasonic',)\n"
     ]
    },
    {
     "name": "stderr",
     "output_type": "stream",
     "text": [
      "  0%|          | 0/796953 [00:00<?, ?it/s]"
     ]
    },
    {
     "name": "stdout",
     "output_type": "stream",
     "text": [
      "NUMBER OF COMPARISONS:  796953\n"
     ]
    },
    {
     "name": "stderr",
     "output_type": "stream",
     "text": [
      "100%|██████████| 796953/796953 [02:42<00:00, 4894.16it/s]\n",
      "100%|██████████| 66/66 [00:00<00:00, 4064.61it/s]\n",
      "100%|██████████| 1/1 [00:00<00:00, 695.46it/s]\n",
      "100%|██████████| 36/36 [00:00<00:00, 3704.49it/s]\n",
      "100%|██████████| 1/1 [00:00<00:00, 613.38it/s]\n",
      "100%|██████████| 3/3 [00:00<00:00, 1161.00it/s]\n",
      "100%|██████████| 3/3 [00:00<00:00, 1029.19it/s]"
     ]
    },
    {
     "name": "stdout",
     "output_type": "stream",
     "text": [
      "MATCHED  6375  OUT OF  796953\n",
      "CALCULATING FOR BRAND =  ('panasonic', 'butterfly')\n",
      "NUMBER OF COMPARISONS:  66\n",
      "MATCHED  66  OUT OF  66\n",
      "CALCULATING FOR BRAND =  ('panasonic', 'canon', 'nikon')\n",
      "NUMBER OF COMPARISONS:  1\n",
      "MATCHED  0  OUT OF  1\n",
      "CALCULATING FOR BRAND =  ('panasonic', 'none')\n",
      "NUMBER OF COMPARISONS:  36\n",
      "MATCHED  1  OUT OF  36\n",
      "CALCULATING FOR BRAND =  ('panasonic', 'olympus')\n",
      "NUMBER OF COMPARISONS:  1\n",
      "MATCHED  0  OUT OF  1\n",
      "CALCULATING FOR BRAND =  ('panasonic', 'sharp')\n",
      "NUMBER OF COMPARISONS:  3\n",
      "MATCHED  0  OUT OF  3\n",
      "CALCULATING FOR BRAND =  ('pelco',)\n",
      "NUMBER OF COMPARISONS:  3\n",
      "MATCHED  0  OUT OF  3\n"
     ]
    },
    {
     "name": "stderr",
     "output_type": "stream",
     "text": [
      "\n"
     ]
    },
    {
     "name": "stdout",
     "output_type": "stream",
     "text": [
      "CALCULATING FOR BRAND =  ('pentax',)\n"
     ]
    },
    {
     "name": "stderr",
     "output_type": "stream",
     "text": [
      "  0%|          | 248/172578 [00:00<01:09, 2475.87it/s]"
     ]
    },
    {
     "name": "stdout",
     "output_type": "stream",
     "text": [
      "NUMBER OF COMPARISONS:  172578\n"
     ]
    },
    {
     "name": "stderr",
     "output_type": "stream",
     "text": [
      "100%|██████████| 172578/172578 [00:34<00:00, 5005.73it/s]\n",
      "100%|██████████| 153/153 [00:00<00:00, 3745.61it/s]\n",
      "100%|██████████| 1/1 [00:00<00:00, 489.25it/s]\n",
      "100%|██████████| 10/10 [00:00<00:00, 2593.56it/s]\n",
      "100%|██████████| 3/3 [00:00<00:00, 1426.47it/s]\n",
      "100%|██████████| 10/10 [00:00<00:00, 2211.37it/s]\n",
      "  0%|          | 0/153 [00:00<?, ?it/s]"
     ]
    },
    {
     "name": "stdout",
     "output_type": "stream",
     "text": [
      "MATCHED  4076  OUT OF  172578\n",
      "CALCULATING FOR BRAND =  ('pentax', 'bvi')\n",
      "NUMBER OF COMPARISONS:  153\n",
      "MATCHED  153  OUT OF  153\n",
      "CALCULATING FOR BRAND =  ('pentax', 'nikon')\n",
      "NUMBER OF COMPARISONS:  1\n",
      "MATCHED  0  OUT OF  1\n",
      "CALCULATING FOR BRAND =  ('pentax', 'ricoh')\n",
      "NUMBER OF COMPARISONS:  10\n",
      "MATCHED  0  OUT OF  10\n",
      "CALCULATING FOR BRAND =  ('pentax', 'sigma')\n",
      "NUMBER OF COMPARISONS:  3\n",
      "MATCHED  0  OUT OF  3\n",
      "CALCULATING FOR BRAND =  ('pentax', 'tamron')\n",
      "NUMBER OF COMPARISONS:  10\n",
      "MATCHED  0  OUT OF  10\n",
      "CALCULATING FOR BRAND =  ('philips',)\n",
      "NUMBER OF COMPARISONS:  153\n"
     ]
    },
    {
     "name": "stderr",
     "output_type": "stream",
     "text": [
      "100%|██████████| 153/153 [00:00<00:00, 4061.80it/s]\n",
      "100%|██████████| 3/3 [00:00<00:00, 1264.11it/s]\n",
      "  7%|▋         | 456/6555 [00:00<00:01, 4556.41it/s]"
     ]
    },
    {
     "name": "stdout",
     "output_type": "stream",
     "text": [
      "MATCHED  0  OUT OF  153\n",
      "CALCULATING FOR BRAND =  ('pioneer',)\n",
      "NUMBER OF COMPARISONS:  3\n",
      "MATCHED  0  OUT OF  3\n",
      "CALCULATING FOR BRAND =  ('polaroid',)\n",
      "NUMBER OF COMPARISONS:  6555\n"
     ]
    },
    {
     "name": "stderr",
     "output_type": "stream",
     "text": [
      "100%|██████████| 6555/6555 [00:01<00:00, 4975.96it/s]\n",
      "100%|██████████| 1/1 [00:00<00:00, 632.15it/s]\n",
      "100%|██████████| 1/1 [00:00<00:00, 560.21it/s]\n",
      "100%|██████████| 3/3 [00:00<00:00, 1414.92it/s]\n",
      "100%|██████████| 1/1 [00:00<00:00, 617.63it/s]\n",
      "100%|██████████| 1/1 [00:00<00:00, 518.46it/s]\n",
      "100%|██████████| 28/28 [00:00<00:00, 3537.58it/s]\n",
      "100%|██████████| 1/1 [00:00<00:00, 542.60it/s]\n",
      "  0%|          | 0/4371 [00:00<?, ?it/s]"
     ]
    },
    {
     "name": "stdout",
     "output_type": "stream",
     "text": [
      "MATCHED  166  OUT OF  6555\n",
      "CALCULATING FOR BRAND =  ('praktica',)\n",
      "NUMBER OF COMPARISONS:  1\n",
      "MATCHED  0  OUT OF  1\n",
      "CALCULATING FOR BRAND =  ('precision',)\n",
      "NUMBER OF COMPARISONS:  1\n",
      "MATCHED  0  OUT OF  1\n",
      "CALCULATING FOR BRAND =  ('premier',)\n",
      "NUMBER OF COMPARISONS:  3\n",
      "MATCHED  0  OUT OF  3\n",
      "CALCULATING FOR BRAND =  ('proscan',)\n",
      "NUMBER OF COMPARISONS:  1\n",
      "MATCHED  0  OUT OF  1\n",
      "CALCULATING FOR BRAND =  ('quantumfx',)\n",
      "NUMBER OF COMPARISONS:  1\n",
      "MATCHED  0  OUT OF  1\n",
      "CALCULATING FOR BRAND =  ('rca',)\n",
      "NUMBER OF COMPARISONS:  28\n",
      "MATCHED  0  OUT OF  28\n",
      "CALCULATING FOR BRAND =  ('rca', 'polaroid')\n",
      "NUMBER OF COMPARISONS:  1\n",
      "MATCHED  1  OUT OF  1\n",
      "CALCULATING FOR BRAND =  ('ricoh',)\n",
      "NUMBER OF COMPARISONS:  4371\n"
     ]
    },
    {
     "name": "stderr",
     "output_type": "stream",
     "text": [
      "100%|██████████| 4371/4371 [00:00<00:00, 4982.93it/s]\n",
      "100%|██████████| 1/1 [00:00<00:00, 611.59it/s]\n",
      "100%|██████████| 153/153 [00:00<00:00, 4965.21it/s]\n"
     ]
    },
    {
     "name": "stdout",
     "output_type": "stream",
     "text": [
      "MATCHED  523  OUT OF  4371\n",
      "CALCULATING FOR BRAND =  ('rollei',)\n",
      "NUMBER OF COMPARISONS:  1\n",
      "MATCHED  1  OUT OF  1\n",
      "CALCULATING FOR BRAND =  ('sakar',)\n",
      "NUMBER OF COMPARISONS:  153\n",
      "MATCHED  2  OUT OF  153\n",
      "CALCULATING FOR BRAND =  ('samsung',)\n"
     ]
    },
    {
     "name": "stderr",
     "output_type": "stream",
     "text": [
      "  0%|          | 0/540280 [00:00<?, ?it/s]"
     ]
    },
    {
     "name": "stdout",
     "output_type": "stream",
     "text": [
      "NUMBER OF COMPARISONS:  540280\n"
     ]
    },
    {
     "name": "stderr",
     "output_type": "stream",
     "text": [
      "100%|██████████| 540280/540280 [01:49<00:00, 4942.83it/s]\n",
      "100%|██████████| 91/91 [00:00<00:00, 4774.42it/s]\n",
      "100%|██████████| 1/1 [00:00<00:00, 413.44it/s]\n",
      "100%|██████████| 1/1 [00:00<00:00, 507.91it/s]\n",
      "  0%|          | 0/990 [00:00<?, ?it/s]"
     ]
    },
    {
     "name": "stdout",
     "output_type": "stream",
     "text": [
      "MATCHED  5563  OUT OF  540280\n",
      "CALCULATING FOR BRAND =  ('sandisk',)\n",
      "NUMBER OF COMPARISONS:  91\n",
      "MATCHED  1  OUT OF  91\n",
      "CALCULATING FOR BRAND =  ('sandisk', 'olympus')\n",
      "NUMBER OF COMPARISONS:  1\n",
      "MATCHED  0  OUT OF  1\n",
      "CALCULATING FOR BRAND =  ('sandisk', 'sony')\n",
      "NUMBER OF COMPARISONS:  1\n",
      "MATCHED  0  OUT OF  1\n",
      "CALCULATING FOR BRAND =  ('sanyo',)\n",
      "NUMBER OF COMPARISONS:  990\n"
     ]
    },
    {
     "name": "stderr",
     "output_type": "stream",
     "text": [
      "100%|██████████| 990/990 [00:00<00:00, 4636.56it/s]\n",
      "100%|██████████| 1/1 [00:00<00:00, 800.59it/s]\n",
      "100%|██████████| 66/66 [00:00<00:00, 4468.51it/s]\n",
      "100%|██████████| 1/1 [00:00<00:00, 666.71it/s]\n",
      "100%|██████████| 45/45 [00:00<00:00, 3654.71it/s]\n",
      "100%|██████████| 10/10 [00:00<00:00, 2724.81it/s]\n",
      "100%|██████████| 1/1 [00:00<00:00, 659.59it/s]\n",
      "100%|██████████| 1/1 [00:00<00:00, 414.05it/s]\n",
      "100%|██████████| 1/1 [00:00<00:00, 651.90it/s]\n",
      "100%|██████████| 3/3 [00:00<00:00, 1488.75it/s]\n"
     ]
    },
    {
     "name": "stdout",
     "output_type": "stream",
     "text": [
      "MATCHED  27  OUT OF  990\n",
      "CALCULATING FOR BRAND =  ('sciwin',)\n",
      "NUMBER OF COMPARISONS:  1\n",
      "MATCHED  0  OUT OF  1\n",
      "CALCULATING FOR BRAND =  ('sealife',)\n",
      "NUMBER OF COMPARISONS:  66\n",
      "MATCHED  14  OUT OF  66\n",
      "CALCULATING FOR BRAND =  ('sealife', 'sealife reefmaster')\n",
      "NUMBER OF COMPARISONS:  1\n",
      "MATCHED  1  OUT OF  1\n",
      "CALCULATING FOR BRAND =  ('sharp',)\n",
      "NUMBER OF COMPARISONS:  45\n",
      "MATCHED  4  OUT OF  45\n",
      "CALCULATING FOR BRAND =  ('sharp', 'canon')\n",
      "NUMBER OF COMPARISONS:  10\n",
      "MATCHED  6  OUT OF  10\n",
      "CALCULATING FOR BRAND =  ('sharp', 'olympus')\n",
      "NUMBER OF COMPARISONS:  1\n",
      "MATCHED  0  OUT OF  1\n",
      "CALCULATING FOR BRAND =  ('sharp', 'sharper image')\n",
      "NUMBER OF COMPARISONS:  1\n",
      "MATCHED  0  OUT OF  1\n",
      "CALCULATING FOR BRAND =  ('sharper', 'sharper image')\n",
      "NUMBER OF COMPARISONS:  1\n",
      "MATCHED  0  OUT OF  1\n",
      "CALCULATING FOR BRAND =  ('sharper', 'the sharper image')\n",
      "NUMBER OF COMPARISONS:  3\n",
      "MATCHED  0  OUT OF  3\n"
     ]
    },
    {
     "name": "stderr",
     "output_type": "stream",
     "text": [
      "100%|██████████| 3/3 [00:00<00:00, 1467.05it/s]\n",
      "100%|██████████| 703/703 [00:00<00:00, 4702.63it/s]\n",
      "100%|██████████| 1/1 [00:00<00:00, 696.27it/s]"
     ]
    },
    {
     "name": "stdout",
     "output_type": "stream",
     "text": [
      "CALCULATING FOR BRAND =  ('shimano',)\n",
      "NUMBER OF COMPARISONS:  3\n",
      "MATCHED  0  OUT OF  3\n",
      "CALCULATING FOR BRAND =  ('sigma',)\n",
      "NUMBER OF COMPARISONS:  703\n",
      "MATCHED  51  OUT OF  703\n",
      "CALCULATING FOR BRAND =  ('sipix',)\n",
      "NUMBER OF COMPARISONS:  1\n",
      "MATCHED "
     ]
    },
    {
     "name": "stderr",
     "output_type": "stream",
     "text": [
      "\n",
      "100%|██████████| 3/3 [00:00<00:00, 1342.32it/s]\n",
      "100%|██████████| 1/1 [00:00<00:00, 557.68it/s]\n",
      "100%|██████████| 1/1 [00:00<00:00, 513.32it/s]\n"
     ]
    },
    {
     "name": "stdout",
     "output_type": "stream",
     "text": [
      " 0  OUT OF  1\n",
      "CALCULATING FOR BRAND =  ('sjcam',)\n",
      "NUMBER OF COMPARISONS:  3\n",
      "MATCHED  1  OUT OF  3\n",
      "CALCULATING FOR BRAND =  ('skyworth',)\n",
      "NUMBER OF COMPARISONS:  1\n",
      "MATCHED  0  OUT OF  1\n",
      "CALCULATING FOR BRAND =  ('slick',)\n",
      "NUMBER OF COMPARISONS:  1\n",
      "MATCHED  0  OUT OF  1\n",
      "CALCULATING FOR BRAND =  ('sony',)\n"
     ]
    },
    {
     "name": "stderr",
     "output_type": "stream",
     "text": [
      "  0%|          | 0/4915680 [00:00<?, ?it/s]"
     ]
    },
    {
     "name": "stdout",
     "output_type": "stream",
     "text": [
      "NUMBER OF COMPARISONS:  4915680\n"
     ]
    },
    {
     "name": "stderr",
     "output_type": "stream",
     "text": [
      "100%|██████████| 4915680/4915680 [16:35<00:00, 4937.33it/s]\n"
     ]
    },
    {
     "name": "stdout",
     "output_type": "stream",
     "text": [
      "MATCHED  27698  OUT OF  4915680\n"
     ]
    },
    {
     "name": "stderr",
     "output_type": "stream",
     "text": [
      "100%|██████████| 15/15 [00:00<00:00, 3020.38it/s]\n",
      "100%|██████████| 3/3 [00:00<00:00, 1372.93it/s]\n",
      "100%|██████████| 1/1 [00:00<00:00, 546.99it/s]\n",
      "100%|██████████| 1/1 [00:00<00:00, 382.27it/s]\n",
      "100%|██████████| 3/3 [00:00<00:00, 1283.32it/s]\n",
      "100%|██████████| 1/1 [00:00<00:00, 512.81it/s]\n",
      "  0%|          | 0/406 [00:00<?, ?it/s]"
     ]
    },
    {
     "name": "stdout",
     "output_type": "stream",
     "text": [
      "CALCULATING FOR BRAND =  ('sony', 'canon')\n",
      "NUMBER OF COMPARISONS:  15\n",
      "MATCHED  0  OUT OF  15\n",
      "CALCULATING FOR BRAND =  ('sony', 'ebasket')\n",
      "NUMBER OF COMPARISONS:  3\n",
      "MATCHED  3  OUT OF  3\n",
      "CALCULATING FOR BRAND =  ('sony', 'fuji')\n",
      "NUMBER OF COMPARISONS:  1\n",
      "MATCHED  0  OUT OF  1\n",
      "CALCULATING FOR BRAND =  ('sony', 'hp')\n",
      "NUMBER OF COMPARISONS:  1\n",
      "MATCHED  1  OUT OF  1\n",
      "CALCULATING FOR BRAND =  ('sony', 'lowepro')\n",
      "NUMBER OF COMPARISONS:  3\n",
      "MATCHED  0  OUT OF  3\n",
      "CALCULATING FOR BRAND =  ('sony', 'night')\n",
      "NUMBER OF COMPARISONS:  1\n",
      "MATCHED  0  OUT OF  1\n",
      "CALCULATING FOR BRAND =  ('sony', 'nikon')\n",
      "NUMBER OF COMPARISONS:  406\n"
     ]
    },
    {
     "name": "stderr",
     "output_type": "stream",
     "text": [
      "100%|██████████| 406/406 [00:00<00:00, 4412.37it/s]\n",
      "100%|██████████| 630/630 [00:00<00:00, 4609.41it/s]\n",
      "100%|██████████| 3/3 [00:00<00:00, 1451.32it/s]\n",
      "100%|██████████| 45/45 [00:00<00:00, 4055.52it/s]"
     ]
    },
    {
     "name": "stdout",
     "output_type": "stream",
     "text": [
      "MATCHED  1  OUT OF  406\n",
      "CALCULATING FOR BRAND =  ('sony', 'none')\n",
      "NUMBER OF COMPARISONS:  630\n",
      "MATCHED  33  OUT OF  630\n",
      "CALCULATING FOR BRAND =  ('sony', 'olympus')\n",
      "NUMBER OF COMPARISONS:  3\n",
      "MATCHED  0  OUT OF  3\n",
      "CALCULATING FOR BRAND =  ('sony', 'sigma')\n",
      "NUMBER OF COMPARISONS:  45\n"
     ]
    },
    {
     "name": "stderr",
     "output_type": "stream",
     "text": [
      "\n",
      "100%|██████████| 10/10 [00:00<00:00, 2387.33it/s]\n",
      "100%|██████████| 21/21 [00:00<00:00, 3141.46it/s]\n",
      "100%|██████████| 1/1 [00:00<00:00, 695.92it/s]\n",
      "100%|██████████| 15/15 [00:00<00:00, 3213.53it/s]\n",
      "100%|██████████| 3/3 [00:00<00:00, 1180.61it/s]\n",
      "  0%|          | 0/1275 [00:00<?, ?it/s]"
     ]
    },
    {
     "name": "stdout",
     "output_type": "stream",
     "text": [
      "MATCHED  2  OUT OF  45\n",
      "CALCULATING FOR BRAND =  ('sony', 'tamron')\n",
      "NUMBER OF COMPARISONS:  10\n",
      "MATCHED  0  OUT OF  10\n",
      "CALCULATING FOR BRAND =  ('sony', 'zeiss')\n",
      "NUMBER OF COMPARISONS:  21\n",
      "MATCHED  4  OUT OF  21\n",
      "CALCULATING FOR BRAND =  ('spongebob',)\n",
      "NUMBER OF COMPARISONS:  1\n",
      "MATCHED  0  OUT OF  1\n",
      "CALCULATING FOR BRAND =  ('superheadz',)\n",
      "NUMBER OF COMPARISONS:  15\n",
      "MATCHED  0  OUT OF  15\n",
      "CALCULATING FOR BRAND =  ('supersonic',)\n",
      "NUMBER OF COMPARISONS:  3\n",
      "MATCHED  0  OUT OF  3\n",
      "CALCULATING FOR BRAND =  ('svp',)\n",
      "NUMBER OF COMPARISONS:  1275\n"
     ]
    },
    {
     "name": "stderr",
     "output_type": "stream",
     "text": [
      "100%|██████████| 1275/1275 [00:00<00:00, 4958.06it/s]\n",
      "100%|██████████| 6/6 [00:00<00:00, 1879.59it/s]\n",
      "100%|██████████| 1/1 [00:00<00:00, 652.81it/s]\n",
      "100%|██████████| 1/1 [00:00<00:00, 515.90it/s]\n",
      "100%|██████████| 66/66 [00:00<00:00, 3862.59it/s]\n",
      "100%|██████████| 10/10 [00:00<00:00, 3341.01it/s]\n",
      "100%|██████████| 3/3 [00:00<00:00, 1660.45it/s]\n",
      "100%|██████████| 10/10 [00:00<00:00, 2184.42it/s]\n",
      "100%|██████████| 1/1 [00:00<00:00, 623.41it/s]\n",
      "100%|██████████| 136/136 [00:00<00:00, 4669.23it/s]"
     ]
    },
    {
     "name": "stdout",
     "output_type": "stream",
     "text": [
      "MATCHED  1  OUT OF  1275\n",
      "CALCULATING FOR BRAND =  ('sylvania',)\n",
      "NUMBER OF COMPARISONS:  6\n",
      "MATCHED  0  OUT OF  6\n",
      "CALCULATING FOR BRAND =  ('tamrac', 'minolta')\n",
      "NUMBER OF COMPARISONS:  1\n",
      "MATCHED  1  OUT OF  1\n",
      "CALCULATING FOR BRAND =  ('tamron',)\n",
      "NUMBER OF COMPARISONS:  1\n",
      "MATCHED  0  OUT OF  1\n",
      "CALCULATING FOR BRAND =  ('tamron', 'nikon')\n",
      "NUMBER OF COMPARISONS:  66\n",
      "MATCHED  8  OUT OF  66\n",
      "CALCULATING FOR BRAND =  ('toi kamera',)\n",
      "NUMBER OF COMPARISONS:  10\n",
      "MATCHED  0  OUT OF  10\n",
      "CALCULATING FOR BRAND =  ('tokina', 'canon')\n",
      "NUMBER OF COMPARISONS:  3\n",
      "MATCHED  0  OUT OF  3\n",
      "CALCULATING FOR BRAND =  ('tokina', 'nikon')\n",
      "NUMBER OF COMPARISONS:  10\n",
      "MATCHED  0  OUT OF  10\n",
      "CALCULATING FOR BRAND =  ('topixo',)\n",
      "NUMBER OF COMPARISONS:  1\n",
      "MATCHED  1  OUT OF  1\n",
      "CALCULATING FOR BRAND =  ('toshiba',)\n",
      "NUMBER OF COMPARISONS:  136\n"
     ]
    },
    {
     "name": "stderr",
     "output_type": "stream",
     "text": [
      "\n",
      "100%|██████████| 1/1 [00:00<00:00, 727.80it/s]\n",
      "100%|██████████| 1/1 [00:00<00:00, 582.06it/s]\n",
      "100%|██████████| 6/6 [00:00<00:00, 2365.88it/s]\n",
      "100%|██████████| 55/55 [00:00<00:00, 3351.98it/s]\n",
      "  0%|          | 0/17391 [00:00<?, ?it/s]"
     ]
    },
    {
     "name": "stdout",
     "output_type": "stream",
     "text": [
      "MATCHED  1  OUT OF  136\n",
      "CALCULATING FOR BRAND =  ('traveler',)\n",
      "NUMBER OF COMPARISONS:  1\n",
      "MATCHED  0  OUT OF  1\n",
      "CALCULATING FOR BRAND =  ('tvc',)\n",
      "NUMBER OF COMPARISONS:  1\n",
      "MATCHED  0  OUT OF  1\n",
      "CALCULATING FOR BRAND =  ('vibe',)\n",
      "NUMBER OF COMPARISONS:  6\n",
      "MATCHED  0  OUT OF  6\n",
      "CALCULATING FOR BRAND =  ('vistaquest',)\n",
      "NUMBER OF COMPARISONS:  55\n",
      "MATCHED  3  OUT OF  55\n",
      "CALCULATING FOR BRAND =  ('vivitar',)\n",
      "NUMBER OF COMPARISONS:  17391\n"
     ]
    },
    {
     "name": "stderr",
     "output_type": "stream",
     "text": [
      "100%|██████████| 17391/17391 [00:03<00:00, 5106.22it/s]\n",
      "100%|██████████| 1/1 [00:00<00:00, 548.78it/s]\n",
      "100%|██████████| 1/1 [00:00<00:00, 713.20it/s]\n",
      "100%|██████████| 10/10 [00:00<00:00, 2905.45it/s]\n",
      "100%|██████████| 496/496 [00:00<00:00, 4561.47it/s]\n",
      "  0%|          | 0/45 [00:00<?, ?it/s]"
     ]
    },
    {
     "name": "stdout",
     "output_type": "stream",
     "text": [
      "MATCHED  385  OUT OF  17391\n",
      "CALCULATING FOR BRAND =  ('vivitar', 'canon')\n",
      "NUMBER OF COMPARISONS:  1\n",
      "MATCHED  0  OUT OF  1\n",
      "CALCULATING FOR BRAND =  ('vivitar', 'nikon')\n",
      "NUMBER OF COMPARISONS:  1\n",
      "MATCHED  0  OUT OF  1\n",
      "CALCULATING FOR BRAND =  ('vivitar', 'sakar')\n",
      "NUMBER OF COMPARISONS:  10\n",
      "MATCHED  0  OUT OF  10\n",
      "CALCULATING FOR BRAND =  ('vizio',)\n",
      "NUMBER OF COMPARISONS:  496\n",
      "MATCHED  78  OUT OF  496\n",
      "CALCULATING FOR BRAND =  ('vtech',)\n",
      "NUMBER OF COMPARISONS:  45\n"
     ]
    },
    {
     "name": "stderr",
     "output_type": "stream",
     "text": [
      "100%|██████████| 45/45 [00:00<00:00, 3953.99it/s]\n",
      "100%|██████████| 1/1 [00:00<00:00, 394.76it/s]\n",
      "100%|██████████| 3/3 [00:00<00:00, 1308.27it/s]\n",
      "100%|██████████| 1/1 [00:00<00:00, 654.54it/s]\n",
      "100%|██████████| 1/1 [00:00<00:00, 653.73it/s]\n",
      "100%|██████████| 3/3 [00:00<00:00, 1441.67it/s]\n",
      "100%|██████████| 36/36 [00:00<00:00, 3507.68it/s]\n",
      "100%|██████████| 15/15 [00:00<00:00, 2831.82it/s]\n",
      "100%|██████████| 1/1 [00:00<00:00, 487.03it/s]\n"
     ]
    },
    {
     "name": "stdout",
     "output_type": "stream",
     "text": [
      "MATCHED  0  OUT OF  45\n",
      "CALCULATING FOR BRAND =  ('vupoint', 'vupoint solutions')\n",
      "NUMBER OF COMPARISONS:  1\n",
      "MATCHED  0  OUT OF  1\n",
      "CALCULATING FOR BRAND =  ('wespro',)\n",
      "NUMBER OF COMPARISONS:  3\n",
      "MATCHED  0  OUT OF  3\n",
      "CALCULATING FOR BRAND =  ('westinghouse',)\n",
      "NUMBER OF COMPARISONS:  1\n",
      "MATCHED  0  OUT OF  1\n",
      "CALCULATING FOR BRAND =  ('wingscapes',)\n",
      "NUMBER OF COMPARISONS:  1\n",
      "MATCHED  0  OUT OF  1\n",
      "CALCULATING FOR BRAND =  ('yashica',)\n",
      "NUMBER OF COMPARISONS:  3\n",
      "MATCHED  0  OUT OF  3\n",
      "CALCULATING FOR BRAND =  ('yourdeal',)\n",
      "NUMBER OF COMPARISONS:  36\n",
      "MATCHED  14  OUT OF  36\n",
      "CALCULATING FOR BRAND =  ('zeemo', 'canon')\n",
      "NUMBER OF COMPARISONS:  15\n",
      "MATCHED  11  OUT OF  15\n",
      "CALCULATING FOR BRAND =  ('zenith',)\n",
      "NUMBER OF COMPARISONS:  1\n",
      "MATCHED  0  OUT OF  1\n"
     ]
    }
   ],
   "source": [
    "for gname, group in grouped:\n",
    "    labels = []\n",
    "    \n",
    "    if len(group) == 1 or gname == ():\n",
    "        continue\n",
    "    #brand_and_unbranded = pd.concat([group, unbranded])\n",
    "    \n",
    "    print(\"CALCULATING FOR BRAND = \", gname)\n",
    "    merged = get_merged_df(group)\n",
    "\n",
    "    #logic\n",
    "    \n",
    "    print(\"NUMBER OF COMPARISONS: \", len(merged))\n",
    "    labels.append(list(merged.progress_apply(determine_match, axis = 1)))\n",
    "    labels = sum(labels, [])\n",
    "    merged[\"label\"] = labels\n",
    "    print(\"MATCHED \", sum(merged[\"label\"]), \" OUT OF \", len(merged[\"label\"]))\n",
    "    del labels\n",
    "    merged = merged.loc[merged['label'] == True]\n",
    "    cols = [\"left_spec_id\", \"right_spec_id\"]\n",
    "    merged = merged[cols]\n",
    "    if not '/' in gname[0]:\n",
    "        merged.to_csv(\"/Users/gfotiadis/programming/sigmod/datasets/created/with_details/{}_matches_labeled.csv\".format(gname), index = False)\n",
    "    else:\n",
    "        merged.to_csv(\"/Users/gfotiadis/programming/sigmod/datasets/created/with_details/{}_matches_labeled.csv\".format(gname[0].replace(\"/\", \"\")), index = False)\n",
    "     "
   ]
  },
  {
   "cell_type": "code",
   "execution_count": 86,
   "metadata": {},
   "outputs": [],
   "source": [
    "# count_title\n",
    "# count_no_title\n",
    "# matched_title\n",
    "# matched_no_title"
   ]
  },
  {
   "cell_type": "code",
   "execution_count": 87,
   "metadata": {},
   "outputs": [
    {
     "data": {
      "text/plain": [
       "0.02399022998450135"
      ]
     },
     "execution_count": 87,
     "metadata": {},
     "output_type": "execute_result"
    }
   ],
   "source": [
    "matched_no_title / count_no_title"
   ]
  },
  {
   "cell_type": "code",
   "execution_count": 88,
   "metadata": {},
   "outputs": [
    {
     "data": {
      "text/plain": [
       "0.009428436272976754"
      ]
     },
     "execution_count": 88,
     "metadata": {},
     "output_type": "execute_result"
    }
   ],
   "source": [
    "matched_title / count_title"
   ]
  },
  {
   "cell_type": "code",
   "execution_count": 89,
   "metadata": {},
   "outputs": [
    {
     "data": {
      "text/plain": [
       "129218"
      ]
     },
     "execution_count": 89,
     "metadata": {},
     "output_type": "execute_result"
    }
   ],
   "source": [
    "matched_no_title"
   ]
  },
  {
   "cell_type": "code",
   "execution_count": 90,
   "metadata": {},
   "outputs": [
    {
     "data": {
      "text/plain": [
       "272203"
      ]
     },
     "execution_count": 90,
     "metadata": {},
     "output_type": "execute_result"
    }
   ],
   "source": [
    "matched_title"
   ]
  },
  {
   "cell_type": "code",
   "execution_count": 91,
   "metadata": {},
   "outputs": [
    {
     "data": {
      "text/plain": [
       "28870429"
      ]
     },
     "execution_count": 91,
     "metadata": {},
     "output_type": "execute_result"
    }
   ],
   "source": [
    "count_title"
   ]
  },
  {
   "cell_type": "code",
   "execution_count": 92,
   "metadata": {},
   "outputs": [
    {
     "data": {
      "text/plain": [
       "5386276"
      ]
     },
     "execution_count": 92,
     "metadata": {},
     "output_type": "execute_result"
    }
   ],
   "source": [
    "count_no_title"
   ]
  },
  {
   "cell_type": "code",
   "execution_count": null,
   "metadata": {},
   "outputs": [],
   "source": []
  },
  {
   "cell_type": "code",
   "execution_count": null,
   "metadata": {},
   "outputs": [],
   "source": []
  },
  {
   "cell_type": "code",
   "execution_count": 93,
   "metadata": {},
   "outputs": [
    {
     "name": "stderr",
     "output_type": "stream",
     "text": [
      "100%|██████████| 38443296/38443296 [2:07:38<00:00, 5019.94it/s]  \n"
     ]
    }
   ],
   "source": [
    "labels_unbranded = []\n",
    "merged_unbranded = get_merged_df(unbranded_til_100)\n",
    "labels_unbranded.append(list(merged_unbranded.progress_apply(determine_match, axis = 1)))\n",
    "labels_unbranded = sum(labels_unbranded, [])\n",
    "merged_unbranded[\"label\"] = labels_unbranded\n",
    "del labels_unbranded\n",
    "merged_unbranded = merged_unbranded.loc[merged_unbranded['label'] == True]\n",
    "cols = [\"left_spec_id\", \"right_spec_id\"]\n",
    "merged_unbranded = merged_unbranded[cols]\n",
    "merged_unbranded.to_csv(\"/Users/gfotiadis/programming/sigmod/datasets/created/with_details/unbranded_matches_labeled.csv\", index = False)"
   ]
  },
  {
   "cell_type": "code",
   "execution_count": 94,
   "metadata": {},
   "outputs": [
    {
     "data": {
      "text/plain": [
       "169982"
      ]
     },
     "execution_count": 94,
     "metadata": {},
     "output_type": "execute_result"
    }
   ],
   "source": [
    "len(merged_unbranded)"
   ]
  },
  {
   "cell_type": "code",
   "execution_count": 95,
   "metadata": {},
   "outputs": [],
   "source": [
    "import os\n",
    "import glob\n",
    "\n",
    "os.chdir(\"/Users/gfotiadis/programming/sigmod/datasets/created/with_details/\")\n",
    "extension = 'csv'\n",
    "all_filenames = [i for i in glob.glob('*.{}'.format(extension))]\n",
    "combined_csv = pd.concat([pd.read_csv(f, header = 0) for f in all_filenames ])\n",
    "#export to csv\n",
    "combined_csv.to_csv( \"/Users/gfotiadis/programming/sigmod/datasets/created/with_details/combined_csv.csv\", index=False, encoding='utf-8-sig')"
   ]
  },
  {
   "cell_type": "code",
   "execution_count": 96,
   "metadata": {},
   "outputs": [
    {
     "data": {
      "text/plain": [
       "574100"
      ]
     },
     "execution_count": 96,
     "metadata": {},
     "output_type": "execute_result"
    }
   ],
   "source": [
    "len(combined_csv)"
   ]
  },
  {
   "cell_type": "code",
   "execution_count": null,
   "metadata": {},
   "outputs": [],
   "source": [
    "# old 15100"
   ]
  },
  {
   "cell_type": "code",
   "execution_count": null,
   "metadata": {},
   "outputs": [],
   "source": [
    "# target 600,212"
   ]
  }
 ],
 "metadata": {
  "kernelspec": {
   "display_name": "Python 3",
   "language": "python",
   "name": "python3"
  },
  "language_info": {
   "codemirror_mode": {
    "name": "ipython",
    "version": 3
   },
   "file_extension": ".py",
   "mimetype": "text/x-python",
   "name": "python",
   "nbconvert_exporter": "python",
   "pygments_lexer": "ipython3",
   "version": "3.7.3"
  }
 },
 "nbformat": 4,
 "nbformat_minor": 4
}
