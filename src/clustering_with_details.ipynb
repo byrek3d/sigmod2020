{
 "cells": [
  {
   "cell_type": "code",
   "execution_count": 1,
   "metadata": {},
   "outputs": [],
   "source": [
    "import os\n",
    "import numpy as np\n",
    "import json\n",
    "import pandas as pd\n",
    "import itertools\n",
    "from tqdm import tqdm\n",
    "import nltk\n",
    "from nltk.tokenize import word_tokenize\n",
    "import re\n",
    "import ast\n",
    "import matplotlib.pyplot as plt"
   ]
  },
  {
   "cell_type": "code",
   "execution_count": 2,
   "metadata": {},
   "outputs": [],
   "source": [
    "def create_dataframe(dataset_path):\n",
    "    \"\"\"Function used to create a Pandas DataFrame containing specifications page titles\n",
    "\n",
    "    Reads products specifications from the file system (\"dataset_path\" variable in the main function) and creates a Pandas DataFrame where each row is a\n",
    "    specification. The columns are 'source' (e.g. www.sourceA.com), 'spec_number' (e.g. 1) and the 'page title'. Note that this script will consider only\n",
    "    the page title attribute for simplicity.\n",
    "\n",
    "    Args:\n",
    "        dataset_path (str): The path to the dataset\n",
    "\n",
    "    Returns:\n",
    "        df (pd.DataFrame): The Pandas DataFrame containing specifications and page titles\n",
    "    \"\"\"\n",
    "\n",
    "    print('>>> Creating dataframe...\\n')\n",
    "    columns_df = ['source', 'spec_number', 'spec_id', 'page_title']\n",
    "\n",
    "    progressive_id = 0\n",
    "    progressive_id2row_df = {}\n",
    "    for source in tqdm(os.listdir(dataset_path)):\n",
    "        for specification in os.listdir(os.path.join(dataset_path, source)):\n",
    "            specification_number = specification.replace('.json', '')\n",
    "            specification_id = '{}//{}'.format(source, specification_number)\n",
    "            with open(os.path.join(dataset_path, source, specification)) as specification_file:\n",
    "                specification_data = json.load(specification_file)\n",
    "                page_title = specification_data.get('<page title>').lower()\n",
    "                row = (source, specification_number, specification_id, page_title)\n",
    "                progressive_id2row_df.update({progressive_id: row})\n",
    "                progressive_id += 1\n",
    "    df = pd.DataFrame.from_dict(progressive_id2row_df, orient='index', columns=columns_df)\n",
    "    print('>>> Dataframe created successfully!\\n')\n",
    "    return df"
   ]
  },
  {
   "cell_type": "code",
   "execution_count": 3,
   "metadata": {},
   "outputs": [
    {
     "name": "stderr",
     "output_type": "stream",
     "text": [
      "  0%|          | 0/24 [00:00<?, ?it/s]"
     ]
    },
    {
     "name": "stdout",
     "output_type": "stream",
     "text": [
      ">>> Creating dataframe...\n",
      "\n"
     ]
    },
    {
     "name": "stderr",
     "output_type": "stream",
     "text": [
      "100%|██████████| 24/24 [00:12<00:00,  1.87it/s]"
     ]
    },
    {
     "name": "stdout",
     "output_type": "stream",
     "text": [
      ">>> Dataframe created successfully!\n",
      "\n"
     ]
    },
    {
     "name": "stderr",
     "output_type": "stream",
     "text": [
      "\n"
     ]
    }
   ],
   "source": [
    "df = create_dataframe('../datasets/unlabeled/2013_camera_specs')"
   ]
  },
  {
   "cell_type": "markdown",
   "metadata": {},
   "source": [
    "## Title"
   ]
  },
  {
   "cell_type": "code",
   "execution_count": 4,
   "metadata": {},
   "outputs": [
    {
     "data": {
      "text/html": [
       "<div>\n",
       "<style scoped>\n",
       "    .dataframe tbody tr th:only-of-type {\n",
       "        vertical-align: middle;\n",
       "    }\n",
       "\n",
       "    .dataframe tbody tr th {\n",
       "        vertical-align: top;\n",
       "    }\n",
       "\n",
       "    .dataframe thead th {\n",
       "        text-align: right;\n",
       "    }\n",
       "</style>\n",
       "<table border=\"1\" class=\"dataframe\">\n",
       "  <thead>\n",
       "    <tr style=\"text-align: right;\">\n",
       "      <th></th>\n",
       "      <th>source</th>\n",
       "      <th>spec_number</th>\n",
       "      <th>spec_id</th>\n",
       "      <th>page_title</th>\n",
       "    </tr>\n",
       "  </thead>\n",
       "  <tbody>\n",
       "    <tr>\n",
       "      <th>0</th>\n",
       "      <td>www.wexphotographic.com</td>\n",
       "      <td>154</td>\n",
       "      <td>www.wexphotographic.com//154</td>\n",
       "      <td>nikon coolpix aw120 digital camera - camouflag...</td>\n",
       "    </tr>\n",
       "    <tr>\n",
       "      <th>1</th>\n",
       "      <td>www.wexphotographic.com</td>\n",
       "      <td>553</td>\n",
       "      <td>www.wexphotographic.com//553</td>\n",
       "      <td>canon ixus 150 digital camera - red (9148b007a...</td>\n",
       "    </tr>\n",
       "    <tr>\n",
       "      <th>2</th>\n",
       "      <td>www.wexphotographic.com</td>\n",
       "      <td>601</td>\n",
       "      <td>www.wexphotographic.com//601</td>\n",
       "      <td>fuji finepix s1 digital camera (p10nc12730a) -...</td>\n",
       "    </tr>\n",
       "    <tr>\n",
       "      <th>3</th>\n",
       "      <td>www.wexphotographic.com</td>\n",
       "      <td>197</td>\n",
       "      <td>www.wexphotographic.com//197</td>\n",
       "      <td>nikon coolpix s5300 digital camera - black (vn...</td>\n",
       "    </tr>\n",
       "    <tr>\n",
       "      <th>4</th>\n",
       "      <td>www.wexphotographic.com</td>\n",
       "      <td>178</td>\n",
       "      <td>www.wexphotographic.com//178</td>\n",
       "      <td>fuji finepix s8600 digital camera - red (p10nc...</td>\n",
       "    </tr>\n",
       "  </tbody>\n",
       "</table>\n",
       "</div>"
      ],
      "text/plain": [
       "                    source spec_number                       spec_id  \\\n",
       "0  www.wexphotographic.com         154  www.wexphotographic.com//154   \n",
       "1  www.wexphotographic.com         553  www.wexphotographic.com//553   \n",
       "2  www.wexphotographic.com         601  www.wexphotographic.com//601   \n",
       "3  www.wexphotographic.com         197  www.wexphotographic.com//197   \n",
       "4  www.wexphotographic.com         178  www.wexphotographic.com//178   \n",
       "\n",
       "                                          page_title  \n",
       "0  nikon coolpix aw120 digital camera - camouflag...  \n",
       "1  canon ixus 150 digital camera - red (9148b007a...  \n",
       "2  fuji finepix s1 digital camera (p10nc12730a) -...  \n",
       "3  nikon coolpix s5300 digital camera - black (vn...  \n",
       "4  fuji finepix s8600 digital camera - red (p10nc...  "
      ]
     },
     "execution_count": 4,
     "metadata": {},
     "output_type": "execute_result"
    }
   ],
   "source": [
    "df.head()"
   ]
  },
  {
   "cell_type": "code",
   "execution_count": 5,
   "metadata": {},
   "outputs": [],
   "source": [
    "df = df.drop(columns = [\"source\", \"spec_number\"], axis = 1)"
   ]
  },
  {
   "cell_type": "code",
   "execution_count": 6,
   "metadata": {},
   "outputs": [],
   "source": [
    "from nltk.corpus import stopwords\n",
    "\n",
    "stopWords = set(stopwords.words('english'))"
   ]
  },
  {
   "cell_type": "code",
   "execution_count": 7,
   "metadata": {},
   "outputs": [],
   "source": [
    "stopWords = set(['itself', 'down', 'by', 'with', 'doesn', 'wouldn', 'other', 'ours', 'of', 'then', 'where', 'don', 'these', 'nor', 'she', \"should've\", 'won', 'ma', 'from', 'had', \"you're\", 'our', 'did', 'them', 'too', 'her', 'that', 'haven', 'after', \"you'll\", 'hers', 'because', 'yourself', 'against', 'mightn', 'as', 'll', 'whom', 'how', 'couldn', 'further', 'aren', \"you'd\", 'and', 'needn', \"couldn't\", 'those', 'to', \"doesn't\", \"weren't\", 'both', 'ourselves', 'in', 'which', 'yours', 'under', 'some', 'what', 'during', 'before', \"needn't\", \"shan't\", 'here', 'having', 'hasn', 'your', \"hasn't\", 'between', 'me', \"she's\", 'into', 'all', 'at', 'shan', 'who', 'o', 'an', 'very', 'can', 'you', 'shouldn', 'such', 'but', 'do', 'out', 'am', \"shouldn't\", 'above', 'wasn', 'or', 'were', 'own', 'didn', \"you've\", 'on', 'will', 'my', 'it', 'have', 'once', 'only', 'been', 'themselves', 'his', 'be', \"mightn't\", 'they', 'not', 'so', 'up', 'any', 'most', 'has', 'myself', 't', 'yourselves', 'isn', \"it's\", 'y', 'm', 'now', 'until', 're', 'there', 'their', 'mustn', \"mustn't\", 'again', 'being', 'hadn', 'doing', 'just', 'no', 'if', 've', \"wasn't\", \"won't\", 'we', 'below', 'does', 'more', 'this', 'should', \"isn't\", 'ain', \"don't\", 'i', \"haven't\", 'than', \"didn't\", 'are', 'about', 'off', 'him', 'for', 'few', \"wouldn't\", 'was', 'weren', 'why', 'he', \"that'll\", 'd', 'the', 'its', 'a', 'each', 'is', 'while', \"aren't\", 'when', 'theirs', 'same', 's', 'himself', 'herself', \"hadn't\", 'through', 'over'])"
   ]
  },
  {
   "cell_type": "code",
   "execution_count": 8,
   "metadata": {},
   "outputs": [],
   "source": [
    "punctuation = \"!#$%&'()*+,-./:;<=>?@[\\]^_`{|}~€£¥₹₽\""
   ]
  },
  {
   "cell_type": "code",
   "execution_count": 9,
   "metadata": {},
   "outputs": [],
   "source": [
    "def replace_punctuation(word):\n",
    "    return ''.join(c for c in word if c not in punctuation)"
   ]
  },
  {
   "cell_type": "code",
   "execution_count": 10,
   "metadata": {},
   "outputs": [],
   "source": [
    "df[\"page_title\"] = df[\"page_title\"].apply(lambda x : [i.lower() for i in list(map(lambda y: replace_punctuation(y), word_tokenize(x))) if i and i.lower() not in stopWords])"
   ]
  },
  {
   "cell_type": "markdown",
   "metadata": {},
   "source": [
    "### Modelwords"
   ]
  },
  {
   "cell_type": "code",
   "execution_count": 11,
   "metadata": {},
   "outputs": [],
   "source": [
    "pattern = re.compile(\"(\\S*[A-Za-z]\\S*[0-9]\\S*|\\S*[0-9]\\S*[A-Za-z]\\S*)\")"
   ]
  },
  {
   "cell_type": "code",
   "execution_count": 12,
   "metadata": {},
   "outputs": [],
   "source": [
    "## In the data replace lumix with panasonic"
   ]
  },
  {
   "cell_type": "code",
   "execution_count": 13,
   "metadata": {},
   "outputs": [],
   "source": [
    "brands = ['360fly', 'acer', 'achiever', 'acorn', 'actionpro', 'activeon', 'aee', 'agfa', 'agfaphoto', 'aiptek', 'akaso', 'alpine', 'alpine', 'amkov', 'andoer', 'annke', 'ansco', 'apeman', 'apex', 'apple', 'archos', 'argus', 'arlo', 'arri', 'axis', 'bell', 'benq', 'blackmagic', 'blackmagic', 'bosch', 'bower', 'brinno', 'brookstone', 'browning', 'cambo', 'campark', 'canon', 'carl', 'casio', 'celestron', 'chinon', 'cisco', 'cobra', 'coleman', 'concord', 'contax', 'contour', 'covert', 'craig', 'crayola', 'creative', 'creative', 'crosstour', 'crumpler', 'datavideo', 'delkin', 'dell', 'digitrex', 'discovery', 'disney', 'dji', 'd-link', 'domke', 'dörr', 'dragon', 'dxg', 'dxo', 'easypix', 'elecom', 'elmo', 'emerson', 'energizer', 'epson', 'fisher-price', 'flip', 'flir', 'foscam', 'fotoman', 'fotopro', 'fuji', 'fujifilm', 'fujinon', 'garmin', 'gateway', 'godox', 'goodmans', 'google', 'gopro', 'grundig', 'hahnel', 'hamilton', 'hasselblad', 'hello', 'herofiber', 'hitachi', 'holga', 'horseman', 'hoya', 'htc', 'huawei', 'ikelite', 'ilford', 'impossible', 'innovage', 'insignia', 'insta360', 'intel', 'intova', 'ion', 'iris', 'jazz', 'jenoptik', 'jjrc', 'jvc', 'kaiser', 'kenko', 'keyence', 'king', 'kitvision', 'kodak', 'konica', 'kyocera', 'leaf', 'lego', 'leica', 'lenovo', 'lexibook', 'linhof', 'liquid', 'little', 'logitech', 'lomography', 'lowepro', 'ltl', 'lytro', 'maginon', 'magnavox', 'mamiya', 'manfrotto', 'marshall', 'marumi', 'mattel', 'maxell', 'meade', 'medion', 'memorex', 'mercury', 'metz', 'microsoft', 'microtek', 'midland', 'minolta', 'minox', 'monster', 'motorola', 'moultrie', 'mustek', 'nabi', 'neewer', 'nest', 'netgear', 'night', 'nikkon', 'nikkor', 'nikon', 'nilox', 'nintendo', 'nippon', 'nokia', 'norcent', 'olympus', 'optech', 'ordro', 'oregon', 'packard', 'palm', 'panasonic', 'parrot', 'pelco', 'pentacon', 'pentax', 'phase', 'philips', 'philips', 'phoenix', 'pioneer', 'playskool', 'polaroid', 'polarpro', 'praktica', 'premier', 'promaster', 'proscan', 'pyle', 'radioshack', 'raymarine', 'raynox', 'rca', 'ricoh', 'ring', 'rode', 'rokinon', 'rollei', 'ryobi', 'sakar', 'samsung', 'sandisk', 'sanyo', 'schneider', 'schneider', 'schneider', 'scosche', 'seasea', 'sealife', 'sharp', 'sharper', 'sigma', 'sinar', 'sipix', 'sjcam', 'sony', 'soocoo', 'stealth', 'superheadz', 'svp', 'swann', 'tamrac', 'tamron', 'technika', 'tenba', 'think', 'thule', 'tokina', 'tomy', 'toshiba', 'transcend', 'traveler', 'trust', 'verbatim', 'vibe', 'victure', 'vistaquest', 'vivitar', 'voigtländer', 'vtech', 'vupoint', 'walimex', 'wyze', 'xiaomi', 'xit', 'xtreme', 'yashica', 'zeiss']"
   ]
  },
  {
   "cell_type": "code",
   "execution_count": 14,
   "metadata": {},
   "outputs": [],
   "source": [
    "df[\"page_title\"] = df[\"page_title\"].apply(lambda line : list(set(filter(lambda word : bool(pattern.match(word)) or word in brands,line))))"
   ]
  },
  {
   "cell_type": "code",
   "execution_count": 15,
   "metadata": {},
   "outputs": [
    {
     "data": {
      "text/html": [
       "<div>\n",
       "<style scoped>\n",
       "    .dataframe tbody tr th:only-of-type {\n",
       "        vertical-align: middle;\n",
       "    }\n",
       "\n",
       "    .dataframe tbody tr th {\n",
       "        vertical-align: top;\n",
       "    }\n",
       "\n",
       "    .dataframe thead th {\n",
       "        text-align: right;\n",
       "    }\n",
       "</style>\n",
       "<table border=\"1\" class=\"dataframe\">\n",
       "  <thead>\n",
       "    <tr style=\"text-align: right;\">\n",
       "      <th></th>\n",
       "      <th>spec_id</th>\n",
       "      <th>page_title</th>\n",
       "    </tr>\n",
       "  </thead>\n",
       "  <tbody>\n",
       "    <tr>\n",
       "      <th>0</th>\n",
       "      <td>www.wexphotographic.com//154</td>\n",
       "      <td>[vna593e1, nikon, aw120]</td>\n",
       "    </tr>\n",
       "    <tr>\n",
       "      <th>1</th>\n",
       "      <td>www.wexphotographic.com//553</td>\n",
       "      <td>[canon, 9148b007aa]</td>\n",
       "    </tr>\n",
       "    <tr>\n",
       "      <th>2</th>\n",
       "      <td>www.wexphotographic.com//601</td>\n",
       "      <td>[p10nc12730a, s1, fuji]</td>\n",
       "    </tr>\n",
       "    <tr>\n",
       "      <th>3</th>\n",
       "      <td>www.wexphotographic.com//197</td>\n",
       "      <td>[s5300, nikon, vna540e1]</td>\n",
       "    </tr>\n",
       "    <tr>\n",
       "      <th>4</th>\n",
       "      <td>www.wexphotographic.com//178</td>\n",
       "      <td>[s8600, p10nc12690a, fuji]</td>\n",
       "    </tr>\n",
       "  </tbody>\n",
       "</table>\n",
       "</div>"
      ],
      "text/plain": [
       "                        spec_id                  page_title\n",
       "0  www.wexphotographic.com//154    [vna593e1, nikon, aw120]\n",
       "1  www.wexphotographic.com//553         [canon, 9148b007aa]\n",
       "2  www.wexphotographic.com//601     [p10nc12730a, s1, fuji]\n",
       "3  www.wexphotographic.com//197    [s5300, nikon, vna540e1]\n",
       "4  www.wexphotographic.com//178  [s8600, p10nc12690a, fuji]"
      ]
     },
     "execution_count": 15,
     "metadata": {},
     "output_type": "execute_result"
    }
   ],
   "source": [
    "df.head()"
   ]
  },
  {
   "cell_type": "code",
   "execution_count": 16,
   "metadata": {},
   "outputs": [],
   "source": [
    "df[\"brand\"] = [[] for _ in range(len(df))]"
   ]
  },
  {
   "cell_type": "code",
   "execution_count": 17,
   "metadata": {},
   "outputs": [],
   "source": [
    "# Create brand column\n",
    "for index, row in df.iterrows():\n",
    "    for brand in row[\"page_title\"]:\n",
    "        if brand in brands:\n",
    "            if not brand in df.at[index, \"brand\"]:\n",
    "                df.at[index, \"brand\"].append(brand)\n",
    "                row[\"page_title\"].remove(brand)"
   ]
  },
  {
   "cell_type": "code",
   "execution_count": 18,
   "metadata": {},
   "outputs": [],
   "source": [
    "def clean_mp_mm_g_oz(value):\n",
    "    if not isinstance(value, list) and pd.isna(value):\n",
    "        return np.nan\n",
    "    regex = r\"[0-9]+mm(\\n|)\"\n",
    "    regex2 = r\"[0-9]+mp(\\n|)\"\n",
    "    regex3 = r\"[0-9]+oz\"\n",
    "    regex4 = r\"[0-9]+g(\\n|)$\"\n",
    "    repl = value\n",
    "    for e in repl:\n",
    "        if bool(re.match(regex, e)) or bool(re.match(regex2, e)) or bool(re.match(regex3, e)) or bool(re.match(regex4, e)):\n",
    "            repl.remove(e)\n",
    "    return repl"
   ]
  },
  {
   "cell_type": "code",
   "execution_count": 19,
   "metadata": {},
   "outputs": [],
   "source": [
    "df[\"page_title\"] = df[\"page_title\"].apply(lambda row : clean_mp_mm_g_oz(row))"
   ]
  },
  {
   "cell_type": "code",
   "execution_count": 20,
   "metadata": {},
   "outputs": [
    {
     "data": {
      "text/html": [
       "<div>\n",
       "<style scoped>\n",
       "    .dataframe tbody tr th:only-of-type {\n",
       "        vertical-align: middle;\n",
       "    }\n",
       "\n",
       "    .dataframe tbody tr th {\n",
       "        vertical-align: top;\n",
       "    }\n",
       "\n",
       "    .dataframe thead th {\n",
       "        text-align: right;\n",
       "    }\n",
       "</style>\n",
       "<table border=\"1\" class=\"dataframe\">\n",
       "  <thead>\n",
       "    <tr style=\"text-align: right;\">\n",
       "      <th></th>\n",
       "      <th>spec_id</th>\n",
       "      <th>page_title</th>\n",
       "      <th>brand</th>\n",
       "    </tr>\n",
       "  </thead>\n",
       "  <tbody>\n",
       "    <tr>\n",
       "      <th>0</th>\n",
       "      <td>www.wexphotographic.com//154</td>\n",
       "      <td>[vna593e1, aw120]</td>\n",
       "      <td>[nikon]</td>\n",
       "    </tr>\n",
       "    <tr>\n",
       "      <th>1</th>\n",
       "      <td>www.wexphotographic.com//553</td>\n",
       "      <td>[9148b007aa]</td>\n",
       "      <td>[canon]</td>\n",
       "    </tr>\n",
       "    <tr>\n",
       "      <th>2</th>\n",
       "      <td>www.wexphotographic.com//601</td>\n",
       "      <td>[p10nc12730a, s1]</td>\n",
       "      <td>[fuji]</td>\n",
       "    </tr>\n",
       "    <tr>\n",
       "      <th>3</th>\n",
       "      <td>www.wexphotographic.com//197</td>\n",
       "      <td>[s5300, vna540e1]</td>\n",
       "      <td>[nikon]</td>\n",
       "    </tr>\n",
       "    <tr>\n",
       "      <th>4</th>\n",
       "      <td>www.wexphotographic.com//178</td>\n",
       "      <td>[s8600, p10nc12690a]</td>\n",
       "      <td>[fuji]</td>\n",
       "    </tr>\n",
       "  </tbody>\n",
       "</table>\n",
       "</div>"
      ],
      "text/plain": [
       "                        spec_id            page_title    brand\n",
       "0  www.wexphotographic.com//154     [vna593e1, aw120]  [nikon]\n",
       "1  www.wexphotographic.com//553          [9148b007aa]  [canon]\n",
       "2  www.wexphotographic.com//601     [p10nc12730a, s1]   [fuji]\n",
       "3  www.wexphotographic.com//197     [s5300, vna540e1]  [nikon]\n",
       "4  www.wexphotographic.com//178  [s8600, p10nc12690a]   [fuji]"
      ]
     },
     "execution_count": 20,
     "metadata": {},
     "output_type": "execute_result"
    }
   ],
   "source": [
    "df.head()"
   ]
  },
  {
   "cell_type": "markdown",
   "metadata": {},
   "source": [
    "## Load cleaned datasets"
   ]
  },
  {
   "cell_type": "code",
   "execution_count": 21,
   "metadata": {},
   "outputs": [],
   "source": [
    "import os\n",
    "import glob\n",
    "\n",
    "os.chdir(\"../datasets/unlabeled/cleaned\")\n",
    "extension = 'csv'\n",
    "all_filenames = [i for i in glob.glob('*.{}'.format(extension))]\n",
    "df_cleaned = pd.concat([pd.read_csv(f) for f in all_filenames ])\n",
    "#export to csv"
   ]
  },
  {
   "cell_type": "code",
   "execution_count": 22,
   "metadata": {},
   "outputs": [],
   "source": [
    "df_cleaned = df_cleaned.reset_index(drop = True)"
   ]
  },
  {
   "cell_type": "code",
   "execution_count": 23,
   "metadata": {},
   "outputs": [
    {
     "data": {
      "text/html": [
       "<div>\n",
       "<style scoped>\n",
       "    .dataframe tbody tr th:only-of-type {\n",
       "        vertical-align: middle;\n",
       "    }\n",
       "\n",
       "    .dataframe tbody tr th {\n",
       "        vertical-align: top;\n",
       "    }\n",
       "\n",
       "    .dataframe thead th {\n",
       "        text-align: right;\n",
       "    }\n",
       "</style>\n",
       "<table border=\"1\" class=\"dataframe\">\n",
       "  <thead>\n",
       "    <tr style=\"text-align: right;\">\n",
       "      <th></th>\n",
       "      <th>spec_id</th>\n",
       "      <th>brand</th>\n",
       "      <th>weight</th>\n",
       "      <th>manufacturer</th>\n",
       "      <th>short_descr</th>\n",
       "      <th>megapixels</th>\n",
       "      <th>dimensions</th>\n",
       "      <th>screen_size</th>\n",
       "      <th>type</th>\n",
       "      <th>dots</th>\n",
       "    </tr>\n",
       "  </thead>\n",
       "  <tbody>\n",
       "    <tr>\n",
       "      <th>0</th>\n",
       "      <td>www.canon-europe.com//115</td>\n",
       "      <td>canon</td>\n",
       "      <td>NaN</td>\n",
       "      <td>NaN</td>\n",
       "      <td>NaN</td>\n",
       "      <td>NaN</td>\n",
       "      <td>NaN</td>\n",
       "      <td>NaN</td>\n",
       "      <td>NaN</td>\n",
       "      <td>NaN</td>\n",
       "    </tr>\n",
       "    <tr>\n",
       "      <th>1</th>\n",
       "      <td>www.canon-europe.com//154</td>\n",
       "      <td>canon</td>\n",
       "      <td>NaN</td>\n",
       "      <td>NaN</td>\n",
       "      <td>NaN</td>\n",
       "      <td>NaN</td>\n",
       "      <td>NaN</td>\n",
       "      <td>NaN</td>\n",
       "      <td>NaN</td>\n",
       "      <td>NaN</td>\n",
       "    </tr>\n",
       "    <tr>\n",
       "      <th>2</th>\n",
       "      <td>www.canon-europe.com//103</td>\n",
       "      <td>canon</td>\n",
       "      <td>NaN</td>\n",
       "      <td>NaN</td>\n",
       "      <td>NaN</td>\n",
       "      <td>NaN</td>\n",
       "      <td>NaN</td>\n",
       "      <td>NaN</td>\n",
       "      <td>NaN</td>\n",
       "      <td>NaN</td>\n",
       "    </tr>\n",
       "    <tr>\n",
       "      <th>3</th>\n",
       "      <td>www.canon-europe.com//20</td>\n",
       "      <td>canon</td>\n",
       "      <td>NaN</td>\n",
       "      <td>NaN</td>\n",
       "      <td>NaN</td>\n",
       "      <td>NaN</td>\n",
       "      <td>NaN</td>\n",
       "      <td>NaN</td>\n",
       "      <td>NaN</td>\n",
       "      <td>NaN</td>\n",
       "    </tr>\n",
       "    <tr>\n",
       "      <th>4</th>\n",
       "      <td>www.canon-europe.com//98</td>\n",
       "      <td>canon</td>\n",
       "      <td>NaN</td>\n",
       "      <td>NaN</td>\n",
       "      <td>NaN</td>\n",
       "      <td>NaN</td>\n",
       "      <td>NaN</td>\n",
       "      <td>NaN</td>\n",
       "      <td>NaN</td>\n",
       "      <td>NaN</td>\n",
       "    </tr>\n",
       "  </tbody>\n",
       "</table>\n",
       "</div>"
      ],
      "text/plain": [
       "                     spec_id  brand  weight manufacturer short_descr  \\\n",
       "0  www.canon-europe.com//115  canon     NaN          NaN         NaN   \n",
       "1  www.canon-europe.com//154  canon     NaN          NaN         NaN   \n",
       "2  www.canon-europe.com//103  canon     NaN          NaN         NaN   \n",
       "3   www.canon-europe.com//20  canon     NaN          NaN         NaN   \n",
       "4   www.canon-europe.com//98  canon     NaN          NaN         NaN   \n",
       "\n",
       "   megapixels dimensions  screen_size type dots  \n",
       "0         NaN        NaN          NaN  NaN  NaN  \n",
       "1         NaN        NaN          NaN  NaN  NaN  \n",
       "2         NaN        NaN          NaN  NaN  NaN  \n",
       "3         NaN        NaN          NaN  NaN  NaN  \n",
       "4         NaN        NaN          NaN  NaN  NaN  "
      ]
     },
     "execution_count": 23,
     "metadata": {},
     "output_type": "execute_result"
    }
   ],
   "source": [
    "df_cleaned.head()"
   ]
  },
  {
   "cell_type": "markdown",
   "metadata": {},
   "source": [
    "## Merge clean with title"
   ]
  },
  {
   "cell_type": "code",
   "execution_count": 24,
   "metadata": {},
   "outputs": [],
   "source": [
    "df = df.merge(df_cleaned, on=\"spec_id\")"
   ]
  },
  {
   "cell_type": "code",
   "execution_count": 25,
   "metadata": {},
   "outputs": [
    {
     "data": {
      "text/html": [
       "<div>\n",
       "<style scoped>\n",
       "    .dataframe tbody tr th:only-of-type {\n",
       "        vertical-align: middle;\n",
       "    }\n",
       "\n",
       "    .dataframe tbody tr th {\n",
       "        vertical-align: top;\n",
       "    }\n",
       "\n",
       "    .dataframe thead th {\n",
       "        text-align: right;\n",
       "    }\n",
       "</style>\n",
       "<table border=\"1\" class=\"dataframe\">\n",
       "  <thead>\n",
       "    <tr style=\"text-align: right;\">\n",
       "      <th></th>\n",
       "      <th>spec_id</th>\n",
       "      <th>page_title</th>\n",
       "      <th>brand_x</th>\n",
       "      <th>brand_y</th>\n",
       "      <th>weight</th>\n",
       "      <th>manufacturer</th>\n",
       "      <th>short_descr</th>\n",
       "      <th>megapixels</th>\n",
       "      <th>dimensions</th>\n",
       "      <th>screen_size</th>\n",
       "      <th>type</th>\n",
       "      <th>dots</th>\n",
       "    </tr>\n",
       "  </thead>\n",
       "  <tbody>\n",
       "    <tr>\n",
       "      <th>0</th>\n",
       "      <td>www.wexphotographic.com//154</td>\n",
       "      <td>[vna593e1, aw120]</td>\n",
       "      <td>[nikon]</td>\n",
       "      <td>NaN</td>\n",
       "      <td>NaN</td>\n",
       "      <td>NaN</td>\n",
       "      <td>NaN</td>\n",
       "      <td>16.0</td>\n",
       "      <td>NaN</td>\n",
       "      <td>3.0</td>\n",
       "      <td>NaN</td>\n",
       "      <td>NaN</td>\n",
       "    </tr>\n",
       "    <tr>\n",
       "      <th>1</th>\n",
       "      <td>www.wexphotographic.com//553</td>\n",
       "      <td>[9148b007aa]</td>\n",
       "      <td>[canon]</td>\n",
       "      <td>NaN</td>\n",
       "      <td>NaN</td>\n",
       "      <td>NaN</td>\n",
       "      <td>NaN</td>\n",
       "      <td>16.0</td>\n",
       "      <td>NaN</td>\n",
       "      <td>2.7</td>\n",
       "      <td>NaN</td>\n",
       "      <td>NaN</td>\n",
       "    </tr>\n",
       "    <tr>\n",
       "      <th>2</th>\n",
       "      <td>www.wexphotographic.com//601</td>\n",
       "      <td>[p10nc12730a, s1]</td>\n",
       "      <td>[fuji]</td>\n",
       "      <td>NaN</td>\n",
       "      <td>NaN</td>\n",
       "      <td>NaN</td>\n",
       "      <td>NaN</td>\n",
       "      <td>16.4</td>\n",
       "      <td>NaN</td>\n",
       "      <td>3.0</td>\n",
       "      <td>NaN</td>\n",
       "      <td>NaN</td>\n",
       "    </tr>\n",
       "    <tr>\n",
       "      <th>3</th>\n",
       "      <td>www.wexphotographic.com//197</td>\n",
       "      <td>[s5300, vna540e1]</td>\n",
       "      <td>[nikon]</td>\n",
       "      <td>NaN</td>\n",
       "      <td>NaN</td>\n",
       "      <td>NaN</td>\n",
       "      <td>NaN</td>\n",
       "      <td>16.0</td>\n",
       "      <td>NaN</td>\n",
       "      <td>3.0</td>\n",
       "      <td>NaN</td>\n",
       "      <td>NaN</td>\n",
       "    </tr>\n",
       "    <tr>\n",
       "      <th>4</th>\n",
       "      <td>www.wexphotographic.com//178</td>\n",
       "      <td>[s8600, p10nc12690a]</td>\n",
       "      <td>[fuji]</td>\n",
       "      <td>NaN</td>\n",
       "      <td>NaN</td>\n",
       "      <td>NaN</td>\n",
       "      <td>NaN</td>\n",
       "      <td>16.0</td>\n",
       "      <td>NaN</td>\n",
       "      <td>3.0</td>\n",
       "      <td>NaN</td>\n",
       "      <td>NaN</td>\n",
       "    </tr>\n",
       "  </tbody>\n",
       "</table>\n",
       "</div>"
      ],
      "text/plain": [
       "                        spec_id            page_title  brand_x brand_y  \\\n",
       "0  www.wexphotographic.com//154     [vna593e1, aw120]  [nikon]     NaN   \n",
       "1  www.wexphotographic.com//553          [9148b007aa]  [canon]     NaN   \n",
       "2  www.wexphotographic.com//601     [p10nc12730a, s1]   [fuji]     NaN   \n",
       "3  www.wexphotographic.com//197     [s5300, vna540e1]  [nikon]     NaN   \n",
       "4  www.wexphotographic.com//178  [s8600, p10nc12690a]   [fuji]     NaN   \n",
       "\n",
       "   weight manufacturer short_descr  megapixels dimensions  screen_size type  \\\n",
       "0     NaN          NaN         NaN        16.0        NaN          3.0  NaN   \n",
       "1     NaN          NaN         NaN        16.0        NaN          2.7  NaN   \n",
       "2     NaN          NaN         NaN        16.4        NaN          3.0  NaN   \n",
       "3     NaN          NaN         NaN        16.0        NaN          3.0  NaN   \n",
       "4     NaN          NaN         NaN        16.0        NaN          3.0  NaN   \n",
       "\n",
       "  dots  \n",
       "0  NaN  \n",
       "1  NaN  \n",
       "2  NaN  \n",
       "3  NaN  \n",
       "4  NaN  "
      ]
     },
     "execution_count": 25,
     "metadata": {},
     "output_type": "execute_result"
    }
   ],
   "source": [
    "df.head()"
   ]
  },
  {
   "cell_type": "code",
   "execution_count": 26,
   "metadata": {},
   "outputs": [],
   "source": [
    "df.rename(columns={\"brand_x\" : \"brand_from_title\", \"brand_y\" : \"brand_descr\"}, inplace=True)"
   ]
  },
  {
   "cell_type": "code",
   "execution_count": 27,
   "metadata": {},
   "outputs": [
    {
     "data": {
      "text/html": [
       "<div>\n",
       "<style scoped>\n",
       "    .dataframe tbody tr th:only-of-type {\n",
       "        vertical-align: middle;\n",
       "    }\n",
       "\n",
       "    .dataframe tbody tr th {\n",
       "        vertical-align: top;\n",
       "    }\n",
       "\n",
       "    .dataframe thead th {\n",
       "        text-align: right;\n",
       "    }\n",
       "</style>\n",
       "<table border=\"1\" class=\"dataframe\">\n",
       "  <thead>\n",
       "    <tr style=\"text-align: right;\">\n",
       "      <th></th>\n",
       "      <th>spec_id</th>\n",
       "      <th>page_title</th>\n",
       "      <th>brand_from_title</th>\n",
       "      <th>brand_descr</th>\n",
       "      <th>weight</th>\n",
       "      <th>manufacturer</th>\n",
       "      <th>short_descr</th>\n",
       "      <th>megapixels</th>\n",
       "      <th>dimensions</th>\n",
       "      <th>screen_size</th>\n",
       "      <th>type</th>\n",
       "      <th>dots</th>\n",
       "    </tr>\n",
       "  </thead>\n",
       "  <tbody>\n",
       "    <tr>\n",
       "      <th>0</th>\n",
       "      <td>www.wexphotographic.com//154</td>\n",
       "      <td>[vna593e1, aw120]</td>\n",
       "      <td>[nikon]</td>\n",
       "      <td>NaN</td>\n",
       "      <td>NaN</td>\n",
       "      <td>NaN</td>\n",
       "      <td>NaN</td>\n",
       "      <td>16.0</td>\n",
       "      <td>NaN</td>\n",
       "      <td>3.0</td>\n",
       "      <td>NaN</td>\n",
       "      <td>NaN</td>\n",
       "    </tr>\n",
       "    <tr>\n",
       "      <th>1</th>\n",
       "      <td>www.wexphotographic.com//553</td>\n",
       "      <td>[9148b007aa]</td>\n",
       "      <td>[canon]</td>\n",
       "      <td>NaN</td>\n",
       "      <td>NaN</td>\n",
       "      <td>NaN</td>\n",
       "      <td>NaN</td>\n",
       "      <td>16.0</td>\n",
       "      <td>NaN</td>\n",
       "      <td>2.7</td>\n",
       "      <td>NaN</td>\n",
       "      <td>NaN</td>\n",
       "    </tr>\n",
       "    <tr>\n",
       "      <th>2</th>\n",
       "      <td>www.wexphotographic.com//601</td>\n",
       "      <td>[p10nc12730a, s1]</td>\n",
       "      <td>[fuji]</td>\n",
       "      <td>NaN</td>\n",
       "      <td>NaN</td>\n",
       "      <td>NaN</td>\n",
       "      <td>NaN</td>\n",
       "      <td>16.4</td>\n",
       "      <td>NaN</td>\n",
       "      <td>3.0</td>\n",
       "      <td>NaN</td>\n",
       "      <td>NaN</td>\n",
       "    </tr>\n",
       "    <tr>\n",
       "      <th>3</th>\n",
       "      <td>www.wexphotographic.com//197</td>\n",
       "      <td>[s5300, vna540e1]</td>\n",
       "      <td>[nikon]</td>\n",
       "      <td>NaN</td>\n",
       "      <td>NaN</td>\n",
       "      <td>NaN</td>\n",
       "      <td>NaN</td>\n",
       "      <td>16.0</td>\n",
       "      <td>NaN</td>\n",
       "      <td>3.0</td>\n",
       "      <td>NaN</td>\n",
       "      <td>NaN</td>\n",
       "    </tr>\n",
       "    <tr>\n",
       "      <th>4</th>\n",
       "      <td>www.wexphotographic.com//178</td>\n",
       "      <td>[s8600, p10nc12690a]</td>\n",
       "      <td>[fuji]</td>\n",
       "      <td>NaN</td>\n",
       "      <td>NaN</td>\n",
       "      <td>NaN</td>\n",
       "      <td>NaN</td>\n",
       "      <td>16.0</td>\n",
       "      <td>NaN</td>\n",
       "      <td>3.0</td>\n",
       "      <td>NaN</td>\n",
       "      <td>NaN</td>\n",
       "    </tr>\n",
       "  </tbody>\n",
       "</table>\n",
       "</div>"
      ],
      "text/plain": [
       "                        spec_id            page_title brand_from_title  \\\n",
       "0  www.wexphotographic.com//154     [vna593e1, aw120]          [nikon]   \n",
       "1  www.wexphotographic.com//553          [9148b007aa]          [canon]   \n",
       "2  www.wexphotographic.com//601     [p10nc12730a, s1]           [fuji]   \n",
       "3  www.wexphotographic.com//197     [s5300, vna540e1]          [nikon]   \n",
       "4  www.wexphotographic.com//178  [s8600, p10nc12690a]           [fuji]   \n",
       "\n",
       "  brand_descr  weight manufacturer short_descr  megapixels dimensions  \\\n",
       "0         NaN     NaN          NaN         NaN        16.0        NaN   \n",
       "1         NaN     NaN          NaN         NaN        16.0        NaN   \n",
       "2         NaN     NaN          NaN         NaN        16.4        NaN   \n",
       "3         NaN     NaN          NaN         NaN        16.0        NaN   \n",
       "4         NaN     NaN          NaN         NaN        16.0        NaN   \n",
       "\n",
       "   screen_size type dots  \n",
       "0          3.0  NaN  NaN  \n",
       "1          2.7  NaN  NaN  \n",
       "2          3.0  NaN  NaN  \n",
       "3          3.0  NaN  NaN  \n",
       "4          3.0  NaN  NaN  "
      ]
     },
     "execution_count": 27,
     "metadata": {},
     "output_type": "execute_result"
    }
   ],
   "source": [
    "df.head()"
   ]
  },
  {
   "cell_type": "code",
   "execution_count": 28,
   "metadata": {},
   "outputs": [],
   "source": [
    "def clean_short_descr(line):\n",
    "    pattern = re.compile(\"(\\S*[A-Za-z]\\S*[0-9]\\S*|\\S*[0-9]\\S*[A-Za-z]\\S*)\")\n",
    "    brands = ['360fly', 'acer', 'achiever', 'acorn', 'actionpro', 'activeon', 'aee', 'agfa', 'agfaphoto', 'aiptek', 'akaso', 'alpine', 'alpine', 'amkov', 'andoer', 'annke', 'ansco', 'apeman', 'apex', 'apple', 'archos', 'argus', 'arlo', 'arri', 'axis', 'bell', 'benq', 'blackmagic', 'blackmagic', 'bosch', 'bower', 'brinno', 'brookstone', 'browning', 'cambo', 'campark', 'canon', 'carl', 'casio', 'celestron', 'chinon', 'cisco', 'cobra', 'coleman', 'concord', 'contax', 'contour', 'covert', 'craig', 'crayola', 'creative', 'creative', 'crosstour', 'crumpler', 'datavideo', 'delkin', 'dell', 'digitrex', 'discovery', 'disney', 'dji', 'd-link', 'domke', 'dörr', 'dorr', 'dragon', 'dxg', 'dxo', 'easypix', 'elecom', 'elmo', 'emerson', 'energizer', 'epson', 'fisher-price', 'flip', 'flir', 'foscam', 'fotoman', 'fotopro', 'fuji', 'fujifilm', 'fujinon', 'garmin', 'gateway', 'godox', 'goodmans', 'google', 'gopro', 'grundig', 'hahnel', 'hamilton', 'hasselblad', 'hello', 'herofiber', 'hitachi', 'holga', 'horseman', 'hoya', 'htc', 'huawei', 'ikelite', 'ilford', 'impossible', 'innovage', 'insignia', 'insta360', 'intel', 'intova', 'ion', 'iris', 'jazz', 'jenoptik', 'jjrc', 'jvc', 'kaiser', 'kenko', 'keyence', 'king', 'kitvision', 'kodak', 'konica', 'kyocera', 'leaf', 'lego', 'leica', 'lenovo', 'lexibook', 'linhof', 'liquid', 'logitech', 'lomography', 'lowepro', 'ltl', 'lytro', 'maginon', 'magnavox', 'mamiya', 'manfrotto', 'marshall', 'marumi', 'mattel', 'maxell', 'meade', 'medion', 'memorex', 'mercury', 'metz', 'microsoft', 'microtek', 'midland', 'minolta', 'minox', 'monster', 'motorola', 'moultrie', 'mustek', 'nabi', 'neewer', 'nest', 'netgear', 'nikkon', 'nikkor', 'nikon', 'nilox', 'nintendo', 'nippon', 'nokia', 'norcent', 'olympus', 'optech', 'ordro', 'oregon', 'packard', 'palm', 'panasonic', 'parrot', 'pelco', 'pentacon', 'pentax', 'phase', 'philips', 'philips', 'phoenix', 'pioneer', 'playskool', 'polaroid', 'polarpro', 'praktica', 'premier', 'promaster', 'proscan', 'pyle', 'radioshack', 'raymarine', 'raynox', 'rca', 'ricoh', 'ring', 'rode', 'rokinon', 'rollei', 'ryobi', 'sakar', 'samsung', 'sandisk', 'sanyo', 'schneider', 'schneider', 'schneider', 'scosche', 'seasea', 'sealife', 'sharp', 'sharper', 'sigma', 'sinar', 'sipix', 'sjcam', 'sony', 'soocoo', 'stealth', 'superheadz', 'svp', 'swann', 'tamrac', 'tamron', 'technika', 'tenba', 'think', 'thule', 'tokina', 'tomy', 'toshiba', 'transcend', 'traveler', 'trust', 'verbatim', 'vibe', 'victure', 'vistaquest', 'vivitar', 'voigtländer', 'vtech', 'vupoint', 'walimex', 'wyze', 'xiaomi', 'xit', 'xtreme', 'yashica', 'zeiss']\n",
    "    if not isinstance(line, list) and pd.isna(line):\n",
    "        return np.nan\n",
    "    else:\n",
    "        line = ast.literal_eval(line)\n",
    "        return list(set(filter(lambda word : bool(pattern.match(word)) or word in brands,line)))"
   ]
  },
  {
   "cell_type": "code",
   "execution_count": 29,
   "metadata": {},
   "outputs": [],
   "source": [
    "df[\"short_descr\"] = df[\"short_descr\"].apply(clean_short_descr)"
   ]
  },
  {
   "cell_type": "code",
   "execution_count": 30,
   "metadata": {},
   "outputs": [],
   "source": [
    "df[\"short_descr\"] = df[\"short_descr\"].apply(lambda row : clean_mp_mm_g_oz(row))"
   ]
  },
  {
   "cell_type": "code",
   "execution_count": 31,
   "metadata": {},
   "outputs": [
    {
     "data": {
      "text/html": [
       "<div>\n",
       "<style scoped>\n",
       "    .dataframe tbody tr th:only-of-type {\n",
       "        vertical-align: middle;\n",
       "    }\n",
       "\n",
       "    .dataframe tbody tr th {\n",
       "        vertical-align: top;\n",
       "    }\n",
       "\n",
       "    .dataframe thead th {\n",
       "        text-align: right;\n",
       "    }\n",
       "</style>\n",
       "<table border=\"1\" class=\"dataframe\">\n",
       "  <thead>\n",
       "    <tr style=\"text-align: right;\">\n",
       "      <th></th>\n",
       "      <th>spec_id</th>\n",
       "      <th>page_title</th>\n",
       "      <th>brand_from_title</th>\n",
       "      <th>brand_descr</th>\n",
       "      <th>weight</th>\n",
       "      <th>manufacturer</th>\n",
       "      <th>short_descr</th>\n",
       "      <th>megapixels</th>\n",
       "      <th>dimensions</th>\n",
       "      <th>screen_size</th>\n",
       "      <th>type</th>\n",
       "      <th>dots</th>\n",
       "    </tr>\n",
       "  </thead>\n",
       "  <tbody>\n",
       "    <tr>\n",
       "      <th>0</th>\n",
       "      <td>www.wexphotographic.com//154</td>\n",
       "      <td>[vna593e1, aw120]</td>\n",
       "      <td>[nikon]</td>\n",
       "      <td>NaN</td>\n",
       "      <td>NaN</td>\n",
       "      <td>NaN</td>\n",
       "      <td>NaN</td>\n",
       "      <td>16.0</td>\n",
       "      <td>NaN</td>\n",
       "      <td>3.0</td>\n",
       "      <td>NaN</td>\n",
       "      <td>NaN</td>\n",
       "    </tr>\n",
       "    <tr>\n",
       "      <th>1</th>\n",
       "      <td>www.wexphotographic.com//553</td>\n",
       "      <td>[9148b007aa]</td>\n",
       "      <td>[canon]</td>\n",
       "      <td>NaN</td>\n",
       "      <td>NaN</td>\n",
       "      <td>NaN</td>\n",
       "      <td>NaN</td>\n",
       "      <td>16.0</td>\n",
       "      <td>NaN</td>\n",
       "      <td>2.7</td>\n",
       "      <td>NaN</td>\n",
       "      <td>NaN</td>\n",
       "    </tr>\n",
       "    <tr>\n",
       "      <th>2</th>\n",
       "      <td>www.wexphotographic.com//601</td>\n",
       "      <td>[p10nc12730a, s1]</td>\n",
       "      <td>[fuji]</td>\n",
       "      <td>NaN</td>\n",
       "      <td>NaN</td>\n",
       "      <td>NaN</td>\n",
       "      <td>NaN</td>\n",
       "      <td>16.4</td>\n",
       "      <td>NaN</td>\n",
       "      <td>3.0</td>\n",
       "      <td>NaN</td>\n",
       "      <td>NaN</td>\n",
       "    </tr>\n",
       "    <tr>\n",
       "      <th>3</th>\n",
       "      <td>www.wexphotographic.com//197</td>\n",
       "      <td>[s5300, vna540e1]</td>\n",
       "      <td>[nikon]</td>\n",
       "      <td>NaN</td>\n",
       "      <td>NaN</td>\n",
       "      <td>NaN</td>\n",
       "      <td>NaN</td>\n",
       "      <td>16.0</td>\n",
       "      <td>NaN</td>\n",
       "      <td>3.0</td>\n",
       "      <td>NaN</td>\n",
       "      <td>NaN</td>\n",
       "    </tr>\n",
       "    <tr>\n",
       "      <th>4</th>\n",
       "      <td>www.wexphotographic.com//178</td>\n",
       "      <td>[s8600, p10nc12690a]</td>\n",
       "      <td>[fuji]</td>\n",
       "      <td>NaN</td>\n",
       "      <td>NaN</td>\n",
       "      <td>NaN</td>\n",
       "      <td>NaN</td>\n",
       "      <td>16.0</td>\n",
       "      <td>NaN</td>\n",
       "      <td>3.0</td>\n",
       "      <td>NaN</td>\n",
       "      <td>NaN</td>\n",
       "    </tr>\n",
       "  </tbody>\n",
       "</table>\n",
       "</div>"
      ],
      "text/plain": [
       "                        spec_id            page_title brand_from_title  \\\n",
       "0  www.wexphotographic.com//154     [vna593e1, aw120]          [nikon]   \n",
       "1  www.wexphotographic.com//553          [9148b007aa]          [canon]   \n",
       "2  www.wexphotographic.com//601     [p10nc12730a, s1]           [fuji]   \n",
       "3  www.wexphotographic.com//197     [s5300, vna540e1]          [nikon]   \n",
       "4  www.wexphotographic.com//178  [s8600, p10nc12690a]           [fuji]   \n",
       "\n",
       "  brand_descr  weight manufacturer short_descr  megapixels dimensions  \\\n",
       "0         NaN     NaN          NaN         NaN        16.0        NaN   \n",
       "1         NaN     NaN          NaN         NaN        16.0        NaN   \n",
       "2         NaN     NaN          NaN         NaN        16.4        NaN   \n",
       "3         NaN     NaN          NaN         NaN        16.0        NaN   \n",
       "4         NaN     NaN          NaN         NaN        16.0        NaN   \n",
       "\n",
       "   screen_size type dots  \n",
       "0          3.0  NaN  NaN  \n",
       "1          2.7  NaN  NaN  \n",
       "2          3.0  NaN  NaN  \n",
       "3          3.0  NaN  NaN  \n",
       "4          3.0  NaN  NaN  "
      ]
     },
     "execution_count": 31,
     "metadata": {},
     "output_type": "execute_result"
    }
   ],
   "source": [
    "df.head()"
   ]
  },
  {
   "cell_type": "markdown",
   "metadata": {},
   "source": [
    "## Add units to megapixels and screen_size"
   ]
  },
  {
   "cell_type": "code",
   "execution_count": 32,
   "metadata": {},
   "outputs": [],
   "source": [
    "df[\"megapixels\"] = df[\"megapixels\"].apply(lambda value: str(value) + \"mp\" if not pd.isna(value) else np.nan)"
   ]
  },
  {
   "cell_type": "code",
   "execution_count": 33,
   "metadata": {},
   "outputs": [],
   "source": [
    "df[\"screen_size\"] = df[\"screen_size\"].apply(lambda value: str(value) + \"in\" if not pd.isna(value) else np.nan)"
   ]
  },
  {
   "cell_type": "code",
   "execution_count": 34,
   "metadata": {},
   "outputs": [],
   "source": [
    "df[\"weight\"] = df[\"weight\"].apply(lambda value: str(value) + \"g\" if not pd.isna(value) else np.nan)"
   ]
  },
  {
   "cell_type": "code",
   "execution_count": 35,
   "metadata": {},
   "outputs": [
    {
     "data": {
      "text/html": [
       "<div>\n",
       "<style scoped>\n",
       "    .dataframe tbody tr th:only-of-type {\n",
       "        vertical-align: middle;\n",
       "    }\n",
       "\n",
       "    .dataframe tbody tr th {\n",
       "        vertical-align: top;\n",
       "    }\n",
       "\n",
       "    .dataframe thead th {\n",
       "        text-align: right;\n",
       "    }\n",
       "</style>\n",
       "<table border=\"1\" class=\"dataframe\">\n",
       "  <thead>\n",
       "    <tr style=\"text-align: right;\">\n",
       "      <th></th>\n",
       "      <th>spec_id</th>\n",
       "      <th>page_title</th>\n",
       "      <th>brand_from_title</th>\n",
       "      <th>brand_descr</th>\n",
       "      <th>weight</th>\n",
       "      <th>manufacturer</th>\n",
       "      <th>short_descr</th>\n",
       "      <th>megapixels</th>\n",
       "      <th>dimensions</th>\n",
       "      <th>screen_size</th>\n",
       "      <th>type</th>\n",
       "      <th>dots</th>\n",
       "    </tr>\n",
       "  </thead>\n",
       "  <tbody>\n",
       "    <tr>\n",
       "      <th>0</th>\n",
       "      <td>www.wexphotographic.com//154</td>\n",
       "      <td>[vna593e1, aw120]</td>\n",
       "      <td>[nikon]</td>\n",
       "      <td>NaN</td>\n",
       "      <td>NaN</td>\n",
       "      <td>NaN</td>\n",
       "      <td>NaN</td>\n",
       "      <td>16.0mp</td>\n",
       "      <td>NaN</td>\n",
       "      <td>3.0in</td>\n",
       "      <td>NaN</td>\n",
       "      <td>NaN</td>\n",
       "    </tr>\n",
       "    <tr>\n",
       "      <th>1</th>\n",
       "      <td>www.wexphotographic.com//553</td>\n",
       "      <td>[9148b007aa]</td>\n",
       "      <td>[canon]</td>\n",
       "      <td>NaN</td>\n",
       "      <td>NaN</td>\n",
       "      <td>NaN</td>\n",
       "      <td>NaN</td>\n",
       "      <td>16.0mp</td>\n",
       "      <td>NaN</td>\n",
       "      <td>2.7in</td>\n",
       "      <td>NaN</td>\n",
       "      <td>NaN</td>\n",
       "    </tr>\n",
       "    <tr>\n",
       "      <th>2</th>\n",
       "      <td>www.wexphotographic.com//601</td>\n",
       "      <td>[p10nc12730a, s1]</td>\n",
       "      <td>[fuji]</td>\n",
       "      <td>NaN</td>\n",
       "      <td>NaN</td>\n",
       "      <td>NaN</td>\n",
       "      <td>NaN</td>\n",
       "      <td>16.4mp</td>\n",
       "      <td>NaN</td>\n",
       "      <td>3.0in</td>\n",
       "      <td>NaN</td>\n",
       "      <td>NaN</td>\n",
       "    </tr>\n",
       "    <tr>\n",
       "      <th>3</th>\n",
       "      <td>www.wexphotographic.com//197</td>\n",
       "      <td>[s5300, vna540e1]</td>\n",
       "      <td>[nikon]</td>\n",
       "      <td>NaN</td>\n",
       "      <td>NaN</td>\n",
       "      <td>NaN</td>\n",
       "      <td>NaN</td>\n",
       "      <td>16.0mp</td>\n",
       "      <td>NaN</td>\n",
       "      <td>3.0in</td>\n",
       "      <td>NaN</td>\n",
       "      <td>NaN</td>\n",
       "    </tr>\n",
       "    <tr>\n",
       "      <th>4</th>\n",
       "      <td>www.wexphotographic.com//178</td>\n",
       "      <td>[s8600, p10nc12690a]</td>\n",
       "      <td>[fuji]</td>\n",
       "      <td>NaN</td>\n",
       "      <td>NaN</td>\n",
       "      <td>NaN</td>\n",
       "      <td>NaN</td>\n",
       "      <td>16.0mp</td>\n",
       "      <td>NaN</td>\n",
       "      <td>3.0in</td>\n",
       "      <td>NaN</td>\n",
       "      <td>NaN</td>\n",
       "    </tr>\n",
       "  </tbody>\n",
       "</table>\n",
       "</div>"
      ],
      "text/plain": [
       "                        spec_id            page_title brand_from_title  \\\n",
       "0  www.wexphotographic.com//154     [vna593e1, aw120]          [nikon]   \n",
       "1  www.wexphotographic.com//553          [9148b007aa]          [canon]   \n",
       "2  www.wexphotographic.com//601     [p10nc12730a, s1]           [fuji]   \n",
       "3  www.wexphotographic.com//197     [s5300, vna540e1]          [nikon]   \n",
       "4  www.wexphotographic.com//178  [s8600, p10nc12690a]           [fuji]   \n",
       "\n",
       "  brand_descr weight manufacturer short_descr megapixels dimensions  \\\n",
       "0         NaN    NaN          NaN         NaN     16.0mp        NaN   \n",
       "1         NaN    NaN          NaN         NaN     16.0mp        NaN   \n",
       "2         NaN    NaN          NaN         NaN     16.4mp        NaN   \n",
       "3         NaN    NaN          NaN         NaN     16.0mp        NaN   \n",
       "4         NaN    NaN          NaN         NaN     16.0mp        NaN   \n",
       "\n",
       "  screen_size type dots  \n",
       "0       3.0in  NaN  NaN  \n",
       "1       2.7in  NaN  NaN  \n",
       "2       3.0in  NaN  NaN  \n",
       "3       3.0in  NaN  NaN  \n",
       "4       3.0in  NaN  NaN  "
      ]
     },
     "execution_count": 35,
     "metadata": {},
     "output_type": "execute_result"
    }
   ],
   "source": [
    "df.head()"
   ]
  },
  {
   "cell_type": "code",
   "execution_count": 36,
   "metadata": {},
   "outputs": [
    {
     "data": {
      "text/plain": [
       "spec_id             0.000000\n",
       "page_title          0.000000\n",
       "brand_from_title    0.000000\n",
       "brand_descr         0.466058\n",
       "weight              0.818035\n",
       "manufacturer        0.956657\n",
       "short_descr         0.942120\n",
       "megapixels          0.444303\n",
       "dimensions          0.953837\n",
       "screen_size         0.541295\n",
       "type                0.951957\n",
       "dots                0.981636\n",
       "dtype: float64"
      ]
     },
     "execution_count": 36,
     "metadata": {},
     "output_type": "execute_result"
    }
   ],
   "source": [
    "df.isna().sum() / len(df)"
   ]
  },
  {
   "cell_type": "code",
   "execution_count": 37,
   "metadata": {},
   "outputs": [
    {
     "data": {
      "text/plain": [
       "29786"
      ]
     },
     "execution_count": 37,
     "metadata": {},
     "output_type": "execute_result"
    }
   ],
   "source": [
    "len(df)"
   ]
  },
  {
   "cell_type": "code",
   "execution_count": null,
   "metadata": {},
   "outputs": [],
   "source": []
  },
  {
   "cell_type": "code",
   "execution_count": null,
   "metadata": {},
   "outputs": [],
   "source": []
  },
  {
   "cell_type": "code",
   "execution_count": 38,
   "metadata": {},
   "outputs": [
    {
     "data": {
      "text/html": [
       "<div>\n",
       "<style scoped>\n",
       "    .dataframe tbody tr th:only-of-type {\n",
       "        vertical-align: middle;\n",
       "    }\n",
       "\n",
       "    .dataframe tbody tr th {\n",
       "        vertical-align: top;\n",
       "    }\n",
       "\n",
       "    .dataframe thead th {\n",
       "        text-align: right;\n",
       "    }\n",
       "</style>\n",
       "<table border=\"1\" class=\"dataframe\">\n",
       "  <thead>\n",
       "    <tr style=\"text-align: right;\">\n",
       "      <th></th>\n",
       "      <th>spec_id</th>\n",
       "      <th>page_title</th>\n",
       "      <th>brand_from_title</th>\n",
       "      <th>brand_descr</th>\n",
       "      <th>weight</th>\n",
       "      <th>manufacturer</th>\n",
       "      <th>short_descr</th>\n",
       "      <th>megapixels</th>\n",
       "      <th>dimensions</th>\n",
       "      <th>screen_size</th>\n",
       "      <th>type</th>\n",
       "      <th>dots</th>\n",
       "    </tr>\n",
       "  </thead>\n",
       "  <tbody>\n",
       "    <tr>\n",
       "      <th>0</th>\n",
       "      <td>www.wexphotographic.com//154</td>\n",
       "      <td>[vna593e1, aw120]</td>\n",
       "      <td>[nikon]</td>\n",
       "      <td>NaN</td>\n",
       "      <td>NaN</td>\n",
       "      <td>NaN</td>\n",
       "      <td>NaN</td>\n",
       "      <td>16.0mp</td>\n",
       "      <td>NaN</td>\n",
       "      <td>3.0in</td>\n",
       "      <td>NaN</td>\n",
       "      <td>NaN</td>\n",
       "    </tr>\n",
       "    <tr>\n",
       "      <th>1</th>\n",
       "      <td>www.wexphotographic.com//553</td>\n",
       "      <td>[9148b007aa]</td>\n",
       "      <td>[canon]</td>\n",
       "      <td>NaN</td>\n",
       "      <td>NaN</td>\n",
       "      <td>NaN</td>\n",
       "      <td>NaN</td>\n",
       "      <td>16.0mp</td>\n",
       "      <td>NaN</td>\n",
       "      <td>2.7in</td>\n",
       "      <td>NaN</td>\n",
       "      <td>NaN</td>\n",
       "    </tr>\n",
       "    <tr>\n",
       "      <th>2</th>\n",
       "      <td>www.wexphotographic.com//601</td>\n",
       "      <td>[p10nc12730a, s1]</td>\n",
       "      <td>[fuji]</td>\n",
       "      <td>NaN</td>\n",
       "      <td>NaN</td>\n",
       "      <td>NaN</td>\n",
       "      <td>NaN</td>\n",
       "      <td>16.4mp</td>\n",
       "      <td>NaN</td>\n",
       "      <td>3.0in</td>\n",
       "      <td>NaN</td>\n",
       "      <td>NaN</td>\n",
       "    </tr>\n",
       "    <tr>\n",
       "      <th>3</th>\n",
       "      <td>www.wexphotographic.com//197</td>\n",
       "      <td>[s5300, vna540e1]</td>\n",
       "      <td>[nikon]</td>\n",
       "      <td>NaN</td>\n",
       "      <td>NaN</td>\n",
       "      <td>NaN</td>\n",
       "      <td>NaN</td>\n",
       "      <td>16.0mp</td>\n",
       "      <td>NaN</td>\n",
       "      <td>3.0in</td>\n",
       "      <td>NaN</td>\n",
       "      <td>NaN</td>\n",
       "    </tr>\n",
       "    <tr>\n",
       "      <th>4</th>\n",
       "      <td>www.wexphotographic.com//178</td>\n",
       "      <td>[s8600, p10nc12690a]</td>\n",
       "      <td>[fuji]</td>\n",
       "      <td>NaN</td>\n",
       "      <td>NaN</td>\n",
       "      <td>NaN</td>\n",
       "      <td>NaN</td>\n",
       "      <td>16.0mp</td>\n",
       "      <td>NaN</td>\n",
       "      <td>3.0in</td>\n",
       "      <td>NaN</td>\n",
       "      <td>NaN</td>\n",
       "    </tr>\n",
       "  </tbody>\n",
       "</table>\n",
       "</div>"
      ],
      "text/plain": [
       "                        spec_id            page_title brand_from_title  \\\n",
       "0  www.wexphotographic.com//154     [vna593e1, aw120]          [nikon]   \n",
       "1  www.wexphotographic.com//553          [9148b007aa]          [canon]   \n",
       "2  www.wexphotographic.com//601     [p10nc12730a, s1]           [fuji]   \n",
       "3  www.wexphotographic.com//197     [s5300, vna540e1]          [nikon]   \n",
       "4  www.wexphotographic.com//178  [s8600, p10nc12690a]           [fuji]   \n",
       "\n",
       "  brand_descr weight manufacturer short_descr megapixels dimensions  \\\n",
       "0         NaN    NaN          NaN         NaN     16.0mp        NaN   \n",
       "1         NaN    NaN          NaN         NaN     16.0mp        NaN   \n",
       "2         NaN    NaN          NaN         NaN     16.4mp        NaN   \n",
       "3         NaN    NaN          NaN         NaN     16.0mp        NaN   \n",
       "4         NaN    NaN          NaN         NaN     16.0mp        NaN   \n",
       "\n",
       "  screen_size type dots  \n",
       "0       3.0in  NaN  NaN  \n",
       "1       2.7in  NaN  NaN  \n",
       "2       3.0in  NaN  NaN  \n",
       "3       3.0in  NaN  NaN  \n",
       "4       3.0in  NaN  NaN  "
      ]
     },
     "execution_count": 38,
     "metadata": {},
     "output_type": "execute_result"
    }
   ],
   "source": [
    "df.head()"
   ]
  },
  {
   "cell_type": "markdown",
   "metadata": {},
   "source": [
    "## Clean brands"
   ]
  },
  {
   "cell_type": "code",
   "execution_count": 39,
   "metadata": {},
   "outputs": [],
   "source": [
    "def clean_title_brands(title):\n",
    "    new_title = []\n",
    "    for e in title:\n",
    "        if 'fuji' in e:\n",
    "            new_title.append(\"fuji\")\n",
    "        elif \"nikkor\" in e or \"nikkon\" in e:\n",
    "            new_title.append(\"nikon\")\n",
    "        elif \"butterfly\" in e:\n",
    "            new_title.append(\"butterfly\")\n",
    "        elif \"blackmagic\" in e:\n",
    "            new_title.append(\"blackmagic\")\n",
    "        else:\n",
    "            new_title.append(e)\n",
    "    return list(set(new_title))"
   ]
  },
  {
   "cell_type": "code",
   "execution_count": 40,
   "metadata": {},
   "outputs": [],
   "source": [
    "df[\"brand_from_title\"] = df[\"brand_from_title\"].apply(clean_title_brands)"
   ]
  },
  {
   "cell_type": "code",
   "execution_count": 41,
   "metadata": {},
   "outputs": [],
   "source": [
    "def clean_manufacturer(e):\n",
    "    if pd.isna(e):\n",
    "        return e\n",
    "    if 'fuji' in e:\n",
    "        return \"fuji\"\n",
    "    elif \"nikkor\" in e or \"nikkon\" in e or \"niko9\" in e:\n",
    "        return \"nikon\"\n",
    "    elif \"penx9\" in e:\n",
    "        return \"pentax\"\n",
    "    elif \"canu9\" in e or \"canon cameras us\" in e:\n",
    "        return \"canon\"\n",
    "    elif \"butterfly\" in e:\n",
    "        return \"butterfly\"\n",
    "    elif \"blackmagic\" in e:\n",
    "        return \"blackmagic\"\n",
    "    elif \"leica camera\" in e:\n",
    "        return \"leica\"\n",
    "    elif \"samsung pleomax zirex\" in e:\n",
    "        return \"samsung\"\n",
    "    elif \"digital\" in e or \"lomo cameras\" in e or \"micro solution of japan\" in e or \"ricoh cameras usa\" in e:\n",
    "        np.nan\n",
    "    else:\n",
    "        return e"
   ]
  },
  {
   "cell_type": "code",
   "execution_count": 42,
   "metadata": {},
   "outputs": [],
   "source": [
    "df[\"manufacturer\"] = df[\"manufacturer\"].apply(clean_manufacturer)"
   ]
  },
  {
   "cell_type": "code",
   "execution_count": 43,
   "metadata": {},
   "outputs": [],
   "source": [
    "def clean_type(camera):\n",
    "    if pd.isna(camera):\n",
    "        return camera\n",
    "    if \"slr\" in camera:\n",
    "        return \"dslr\"\n",
    "    elif \"point shoot\" in camera:\n",
    "        return \"point shoot\"\n",
    "    elif \"compact\" in camera:\n",
    "        return \"compact\"\n",
    "    elif \"mirrorless\" in camera:\n",
    "        return \"mirrorless\"\n",
    "    else:\n",
    "        return camera"
   ]
  },
  {
   "cell_type": "code",
   "execution_count": 44,
   "metadata": {},
   "outputs": [],
   "source": [
    "df[\"type\"] = df[\"type\"].apply(clean_type)"
   ]
  },
  {
   "cell_type": "code",
   "execution_count": 45,
   "metadata": {},
   "outputs": [],
   "source": [
    "df[\"brand_descr\"] = df[\"brand_descr\"].apply(clean_manufacturer)"
   ]
  },
  {
   "cell_type": "code",
   "execution_count": 46,
   "metadata": {},
   "outputs": [
    {
     "data": {
      "text/html": [
       "<div>\n",
       "<style scoped>\n",
       "    .dataframe tbody tr th:only-of-type {\n",
       "        vertical-align: middle;\n",
       "    }\n",
       "\n",
       "    .dataframe tbody tr th {\n",
       "        vertical-align: top;\n",
       "    }\n",
       "\n",
       "    .dataframe thead th {\n",
       "        text-align: right;\n",
       "    }\n",
       "</style>\n",
       "<table border=\"1\" class=\"dataframe\">\n",
       "  <thead>\n",
       "    <tr style=\"text-align: right;\">\n",
       "      <th></th>\n",
       "      <th>spec_id</th>\n",
       "      <th>page_title</th>\n",
       "      <th>brand_from_title</th>\n",
       "      <th>brand_descr</th>\n",
       "      <th>weight</th>\n",
       "      <th>manufacturer</th>\n",
       "      <th>short_descr</th>\n",
       "      <th>megapixels</th>\n",
       "      <th>dimensions</th>\n",
       "      <th>screen_size</th>\n",
       "      <th>type</th>\n",
       "      <th>dots</th>\n",
       "    </tr>\n",
       "  </thead>\n",
       "  <tbody>\n",
       "    <tr>\n",
       "      <th>0</th>\n",
       "      <td>www.wexphotographic.com//154</td>\n",
       "      <td>[vna593e1, aw120]</td>\n",
       "      <td>[nikon]</td>\n",
       "      <td>NaN</td>\n",
       "      <td>NaN</td>\n",
       "      <td>NaN</td>\n",
       "      <td>NaN</td>\n",
       "      <td>16.0mp</td>\n",
       "      <td>NaN</td>\n",
       "      <td>3.0in</td>\n",
       "      <td>NaN</td>\n",
       "      <td>NaN</td>\n",
       "    </tr>\n",
       "    <tr>\n",
       "      <th>1</th>\n",
       "      <td>www.wexphotographic.com//553</td>\n",
       "      <td>[9148b007aa]</td>\n",
       "      <td>[canon]</td>\n",
       "      <td>NaN</td>\n",
       "      <td>NaN</td>\n",
       "      <td>NaN</td>\n",
       "      <td>NaN</td>\n",
       "      <td>16.0mp</td>\n",
       "      <td>NaN</td>\n",
       "      <td>2.7in</td>\n",
       "      <td>NaN</td>\n",
       "      <td>NaN</td>\n",
       "    </tr>\n",
       "    <tr>\n",
       "      <th>2</th>\n",
       "      <td>www.wexphotographic.com//601</td>\n",
       "      <td>[p10nc12730a, s1]</td>\n",
       "      <td>[fuji]</td>\n",
       "      <td>NaN</td>\n",
       "      <td>NaN</td>\n",
       "      <td>NaN</td>\n",
       "      <td>NaN</td>\n",
       "      <td>16.4mp</td>\n",
       "      <td>NaN</td>\n",
       "      <td>3.0in</td>\n",
       "      <td>NaN</td>\n",
       "      <td>NaN</td>\n",
       "    </tr>\n",
       "    <tr>\n",
       "      <th>3</th>\n",
       "      <td>www.wexphotographic.com//197</td>\n",
       "      <td>[s5300, vna540e1]</td>\n",
       "      <td>[nikon]</td>\n",
       "      <td>NaN</td>\n",
       "      <td>NaN</td>\n",
       "      <td>NaN</td>\n",
       "      <td>NaN</td>\n",
       "      <td>16.0mp</td>\n",
       "      <td>NaN</td>\n",
       "      <td>3.0in</td>\n",
       "      <td>NaN</td>\n",
       "      <td>NaN</td>\n",
       "    </tr>\n",
       "    <tr>\n",
       "      <th>4</th>\n",
       "      <td>www.wexphotographic.com//178</td>\n",
       "      <td>[s8600, p10nc12690a]</td>\n",
       "      <td>[fuji]</td>\n",
       "      <td>NaN</td>\n",
       "      <td>NaN</td>\n",
       "      <td>NaN</td>\n",
       "      <td>NaN</td>\n",
       "      <td>16.0mp</td>\n",
       "      <td>NaN</td>\n",
       "      <td>3.0in</td>\n",
       "      <td>NaN</td>\n",
       "      <td>NaN</td>\n",
       "    </tr>\n",
       "  </tbody>\n",
       "</table>\n",
       "</div>"
      ],
      "text/plain": [
       "                        spec_id            page_title brand_from_title  \\\n",
       "0  www.wexphotographic.com//154     [vna593e1, aw120]          [nikon]   \n",
       "1  www.wexphotographic.com//553          [9148b007aa]          [canon]   \n",
       "2  www.wexphotographic.com//601     [p10nc12730a, s1]           [fuji]   \n",
       "3  www.wexphotographic.com//197     [s5300, vna540e1]          [nikon]   \n",
       "4  www.wexphotographic.com//178  [s8600, p10nc12690a]           [fuji]   \n",
       "\n",
       "  brand_descr weight manufacturer short_descr megapixels dimensions  \\\n",
       "0         NaN    NaN          NaN         NaN     16.0mp        NaN   \n",
       "1         NaN    NaN          NaN         NaN     16.0mp        NaN   \n",
       "2         NaN    NaN          NaN         NaN     16.4mp        NaN   \n",
       "3         NaN    NaN          NaN         NaN     16.0mp        NaN   \n",
       "4         NaN    NaN          NaN         NaN     16.0mp        NaN   \n",
       "\n",
       "  screen_size type dots  \n",
       "0       3.0in  NaN  NaN  \n",
       "1       2.7in  NaN  NaN  \n",
       "2       3.0in  NaN  NaN  \n",
       "3       3.0in  NaN  NaN  \n",
       "4       3.0in  NaN  NaN  "
      ]
     },
     "execution_count": 46,
     "metadata": {},
     "output_type": "execute_result"
    }
   ],
   "source": [
    "df.head()"
   ]
  },
  {
   "cell_type": "markdown",
   "metadata": {},
   "source": [
    "## Merge brands together"
   ]
  },
  {
   "cell_type": "code",
   "execution_count": 47,
   "metadata": {},
   "outputs": [],
   "source": [
    "def create_brands_column(row):\n",
    "    repl = row[\"brand_from_title\"]\n",
    "    if not pd.isna(row[\"brand_descr\"]):\n",
    "        repl.append(row[\"brand_descr\"])\n",
    "    if not pd.isna(row[\"manufacturer\"]):\n",
    "        repl.append(row[\"manufacturer\"])\n",
    "    return tuple(set(repl))"
   ]
  },
  {
   "cell_type": "code",
   "execution_count": 48,
   "metadata": {},
   "outputs": [],
   "source": [
    "df[\"merged_brands\"] = df.apply(create_brands_column, axis = 1)"
   ]
  },
  {
   "cell_type": "code",
   "execution_count": 49,
   "metadata": {},
   "outputs": [
    {
     "data": {
      "text/html": [
       "<div>\n",
       "<style scoped>\n",
       "    .dataframe tbody tr th:only-of-type {\n",
       "        vertical-align: middle;\n",
       "    }\n",
       "\n",
       "    .dataframe tbody tr th {\n",
       "        vertical-align: top;\n",
       "    }\n",
       "\n",
       "    .dataframe thead th {\n",
       "        text-align: right;\n",
       "    }\n",
       "</style>\n",
       "<table border=\"1\" class=\"dataframe\">\n",
       "  <thead>\n",
       "    <tr style=\"text-align: right;\">\n",
       "      <th></th>\n",
       "      <th>spec_id</th>\n",
       "      <th>page_title</th>\n",
       "      <th>brand_from_title</th>\n",
       "      <th>brand_descr</th>\n",
       "      <th>weight</th>\n",
       "      <th>manufacturer</th>\n",
       "      <th>short_descr</th>\n",
       "      <th>megapixels</th>\n",
       "      <th>dimensions</th>\n",
       "      <th>screen_size</th>\n",
       "      <th>type</th>\n",
       "      <th>dots</th>\n",
       "      <th>merged_brands</th>\n",
       "    </tr>\n",
       "  </thead>\n",
       "  <tbody>\n",
       "    <tr>\n",
       "      <th>0</th>\n",
       "      <td>www.wexphotographic.com//154</td>\n",
       "      <td>[vna593e1, aw120]</td>\n",
       "      <td>[nikon]</td>\n",
       "      <td>NaN</td>\n",
       "      <td>NaN</td>\n",
       "      <td>NaN</td>\n",
       "      <td>NaN</td>\n",
       "      <td>16.0mp</td>\n",
       "      <td>NaN</td>\n",
       "      <td>3.0in</td>\n",
       "      <td>NaN</td>\n",
       "      <td>NaN</td>\n",
       "      <td>(nikon,)</td>\n",
       "    </tr>\n",
       "    <tr>\n",
       "      <th>1</th>\n",
       "      <td>www.wexphotographic.com//553</td>\n",
       "      <td>[9148b007aa]</td>\n",
       "      <td>[canon]</td>\n",
       "      <td>NaN</td>\n",
       "      <td>NaN</td>\n",
       "      <td>NaN</td>\n",
       "      <td>NaN</td>\n",
       "      <td>16.0mp</td>\n",
       "      <td>NaN</td>\n",
       "      <td>2.7in</td>\n",
       "      <td>NaN</td>\n",
       "      <td>NaN</td>\n",
       "      <td>(canon,)</td>\n",
       "    </tr>\n",
       "    <tr>\n",
       "      <th>2</th>\n",
       "      <td>www.wexphotographic.com//601</td>\n",
       "      <td>[p10nc12730a, s1]</td>\n",
       "      <td>[fuji]</td>\n",
       "      <td>NaN</td>\n",
       "      <td>NaN</td>\n",
       "      <td>NaN</td>\n",
       "      <td>NaN</td>\n",
       "      <td>16.4mp</td>\n",
       "      <td>NaN</td>\n",
       "      <td>3.0in</td>\n",
       "      <td>NaN</td>\n",
       "      <td>NaN</td>\n",
       "      <td>(fuji,)</td>\n",
       "    </tr>\n",
       "    <tr>\n",
       "      <th>3</th>\n",
       "      <td>www.wexphotographic.com//197</td>\n",
       "      <td>[s5300, vna540e1]</td>\n",
       "      <td>[nikon]</td>\n",
       "      <td>NaN</td>\n",
       "      <td>NaN</td>\n",
       "      <td>NaN</td>\n",
       "      <td>NaN</td>\n",
       "      <td>16.0mp</td>\n",
       "      <td>NaN</td>\n",
       "      <td>3.0in</td>\n",
       "      <td>NaN</td>\n",
       "      <td>NaN</td>\n",
       "      <td>(nikon,)</td>\n",
       "    </tr>\n",
       "    <tr>\n",
       "      <th>4</th>\n",
       "      <td>www.wexphotographic.com//178</td>\n",
       "      <td>[s8600, p10nc12690a]</td>\n",
       "      <td>[fuji]</td>\n",
       "      <td>NaN</td>\n",
       "      <td>NaN</td>\n",
       "      <td>NaN</td>\n",
       "      <td>NaN</td>\n",
       "      <td>16.0mp</td>\n",
       "      <td>NaN</td>\n",
       "      <td>3.0in</td>\n",
       "      <td>NaN</td>\n",
       "      <td>NaN</td>\n",
       "      <td>(fuji,)</td>\n",
       "    </tr>\n",
       "  </tbody>\n",
       "</table>\n",
       "</div>"
      ],
      "text/plain": [
       "                        spec_id            page_title brand_from_title  \\\n",
       "0  www.wexphotographic.com//154     [vna593e1, aw120]          [nikon]   \n",
       "1  www.wexphotographic.com//553          [9148b007aa]          [canon]   \n",
       "2  www.wexphotographic.com//601     [p10nc12730a, s1]           [fuji]   \n",
       "3  www.wexphotographic.com//197     [s5300, vna540e1]          [nikon]   \n",
       "4  www.wexphotographic.com//178  [s8600, p10nc12690a]           [fuji]   \n",
       "\n",
       "  brand_descr weight manufacturer short_descr megapixels dimensions  \\\n",
       "0         NaN    NaN          NaN         NaN     16.0mp        NaN   \n",
       "1         NaN    NaN          NaN         NaN     16.0mp        NaN   \n",
       "2         NaN    NaN          NaN         NaN     16.4mp        NaN   \n",
       "3         NaN    NaN          NaN         NaN     16.0mp        NaN   \n",
       "4         NaN    NaN          NaN         NaN     16.0mp        NaN   \n",
       "\n",
       "  screen_size type dots merged_brands  \n",
       "0       3.0in  NaN  NaN      (nikon,)  \n",
       "1       2.7in  NaN  NaN      (canon,)  \n",
       "2       3.0in  NaN  NaN       (fuji,)  \n",
       "3       3.0in  NaN  NaN      (nikon,)  \n",
       "4       3.0in  NaN  NaN       (fuji,)  "
      ]
     },
     "execution_count": 49,
     "metadata": {},
     "output_type": "execute_result"
    }
   ],
   "source": [
    "df.head()"
   ]
  },
  {
   "cell_type": "code",
   "execution_count": 50,
   "metadata": {},
   "outputs": [
    {
     "data": {
      "text/plain": [
       "5140"
      ]
     },
     "execution_count": 50,
     "metadata": {},
     "output_type": "execute_result"
    }
   ],
   "source": [
    "sum(df.apply(lambda row : row[\"page_title\"] == [], axis = 1))"
   ]
  },
  {
   "cell_type": "code",
   "execution_count": 51,
   "metadata": {},
   "outputs": [],
   "source": [
    "df.drop(columns = [\"brand_from_title\", \"brand_descr\", \"manufacturer\"], inplace=True)"
   ]
  },
  {
   "cell_type": "markdown",
   "metadata": {},
   "source": [
    "### Statistics on matches"
   ]
  },
  {
   "cell_type": "code",
   "execution_count": 52,
   "metadata": {},
   "outputs": [],
   "source": [
    "# df.head()"
   ]
  },
  {
   "cell_type": "code",
   "execution_count": 53,
   "metadata": {},
   "outputs": [],
   "source": [
    "# labeled = pd.read_csv(\"/Users/gfotiadis/programming/sigmod/datasets/created/with_details/combined_csv.csv\")"
   ]
  },
  {
   "cell_type": "code",
   "execution_count": 54,
   "metadata": {},
   "outputs": [],
   "source": [
    "# labeled.head()"
   ]
  },
  {
   "cell_type": "code",
   "execution_count": 55,
   "metadata": {},
   "outputs": [],
   "source": [
    "# left_joined = labeled.merge(df, left_on='left_spec_id', right_on='spec_id')\n",
    "# left_joined.rename(columns={'page_title': 'left_page_title'}, inplace=True)\n",
    "# left_joined.drop('spec_id', axis=1, inplace=True)"
   ]
  },
  {
   "cell_type": "code",
   "execution_count": 56,
   "metadata": {},
   "outputs": [],
   "source": [
    "# left_joined.head()"
   ]
  },
  {
   "cell_type": "code",
   "execution_count": 57,
   "metadata": {},
   "outputs": [],
   "source": [
    "# right_joined = labeled.merge(df, left_on='right_spec_id', right_on='spec_id')\n",
    "# right_joined.rename(columns={'page_title': 'right_page_title'}, inplace=True)\n",
    "# right_joined.drop('spec_id', axis=1, inplace=True)\n",
    "# right_joined.head()"
   ]
  },
  {
   "cell_type": "code",
   "execution_count": 58,
   "metadata": {},
   "outputs": [],
   "source": [
    "# fully_joined = pd.merge(left_joined, right_joined, how=\"inner\", left_on=[\"left_spec_id\", \"right_spec_id\"], right_on=[\"left_spec_id\", \"right_spec_id\"], suffixes=(\"_left\", \"_right\"))"
   ]
  },
  {
   "cell_type": "code",
   "execution_count": 59,
   "metadata": {},
   "outputs": [],
   "source": [
    "# fully_joined.right_page_title.apply(lambda title : np.nan if title == [] else title).isna().sum()"
   ]
  },
  {
   "cell_type": "code",
   "execution_count": 60,
   "metadata": {},
   "outputs": [],
   "source": [
    "# fully_joined.left_page_title.apply(lambda title : np.nan if title == [] else title).isna().sum()"
   ]
  },
  {
   "cell_type": "code",
   "execution_count": 61,
   "metadata": {},
   "outputs": [],
   "source": [
    "# df.head()"
   ]
  },
  {
   "cell_type": "code",
   "execution_count": null,
   "metadata": {},
   "outputs": [],
   "source": []
  },
  {
   "cell_type": "code",
   "execution_count": 62,
   "metadata": {},
   "outputs": [],
   "source": [
    "grouped = df.groupby(\"merged_brands\")"
   ]
  },
  {
   "cell_type": "code",
   "execution_count": 63,
   "metadata": {},
   "outputs": [],
   "source": [
    "unbranded_til_100 = grouped.get_group(())"
   ]
  },
  {
   "cell_type": "code",
   "execution_count": 64,
   "metadata": {},
   "outputs": [],
   "source": [
    "for gname, group in grouped:\n",
    "    if len(group) < 100:\n",
    "        unbranded_til_100 = pd.concat([group, unbranded_til_100])"
   ]
  },
  {
   "cell_type": "code",
   "execution_count": 65,
   "metadata": {},
   "outputs": [
    {
     "data": {
      "text/plain": [
       "8791"
      ]
     },
     "execution_count": 65,
     "metadata": {},
     "output_type": "execute_result"
    }
   ],
   "source": [
    "len(unbranded_til_100)"
   ]
  },
  {
   "cell_type": "code",
   "execution_count": 66,
   "metadata": {},
   "outputs": [
    {
     "data": {
      "text/plain": [
       "473"
      ]
     },
     "execution_count": 66,
     "metadata": {},
     "output_type": "execute_result"
    }
   ],
   "source": [
    "len(grouped.groups)"
   ]
  },
  {
   "cell_type": "code",
   "execution_count": 67,
   "metadata": {},
   "outputs": [],
   "source": [
    "def get_merged_df(dataframe):\n",
    "    merged = dataframe.drop(columns=[\"merged_brands\"], axis = 1)\n",
    "    merged = (merged.merge(merged, on=merged.assign(key_col=1)['key_col'], suffixes=('', '_right'))\n",
    " .query('spec_id < spec_id_right') # filter out joins on the same row and keep unique combinations\n",
    " .reset_index(drop=True))\n",
    "    merged.drop(columns = [\"key_0\"], axis = 1, inplace=True)\n",
    "    merged.rename(columns = {\"spec_id\" : \"left_spec_id\", \"spec_id_right\" : \"right_spec_id\"}, inplace=True)\n",
    "    merged.reset_index(inplace=True)\n",
    "    return merged"
   ]
  },
  {
   "cell_type": "code",
   "execution_count": 74,
   "metadata": {},
   "outputs": [],
   "source": [
    "def get_merged_df_with_unbranded(dataframe_left, dataframe_right):\n",
    "\n",
    "    merged_left = dataframe_left.drop(columns=[\"merged_brands\"], axis = 1)\n",
    "    merged_right = dataframe_right.drop(columns=[\"merged_brands\"], axis = 1)\n",
    "    \n",
    "    merged_left[\"key_col\"] = 1\n",
    "    merged_right[\"key_col\"] = 1\n",
    "        \n",
    "    merged = (merged_left.merge(pd.concat([merged_left, merged_right]), on='key_col', suffixes=('', '_right'))\n",
    " .query('spec_id < spec_id_right') # filter out joins on the same row and keep unique combinations\n",
    " .reset_index(drop=True))\n",
    "    merged.drop(columns = [\"key_col\"], axis = 1, inplace=True)\n",
    "    merged.rename(columns = {\"spec_id\" : \"left_spec_id\", \"spec_id_right\" : \"right_spec_id\"}, inplace=True)\n",
    "    merged.reset_index(inplace=True)\n",
    "    return merged"
   ]
  },
  {
   "cell_type": "code",
   "execution_count": 78,
   "metadata": {},
   "outputs": [],
   "source": [
    "def determine_match(row):\n",
    "    \n",
    "    if row[\"page_title\"] == [] or row[\"page_title_right\"] == []:\n",
    "        target = 0.55\n",
    "    else:\n",
    "        target = 1.3\n",
    "            \n",
    "    dim_weight = 0.9\n",
    "    dots_weight = 0.9\n",
    "    mp_weight = 0.44\n",
    "    scr_weight = 0.54\n",
    "    type_weight = 0.49\n",
    "    weight_weight = 0.81\n",
    "    descr_weight= 0.9\n",
    "    title_weight = 0.9\n",
    "    \n",
    "    \n",
    "    score = 0\n",
    "    dim_l = row[\"dimensions\"]\n",
    "    dim_r = row[\"dimensions_right\"]\n",
    "    dots_l = row[\"dots\"]\n",
    "    dots_r = row[\"dots_right\"]\n",
    "    megapixels_l = row[\"megapixels\"]\n",
    "    megapixels_r = row[\"megapixels_right\"]\n",
    "    screen_size_l = row[\"screen_size\"]\n",
    "    screen_size_r = row[\"screen_size_right\"]\n",
    "    short_descr_l = row[\"short_descr\"]\n",
    "    short_descr_r = row[\"short_descr_right\"]\n",
    "    type_l = row[\"type\"]\n",
    "    type_r = row[\"type_right\"]\n",
    "    weight_l = row[\"weight\"]\n",
    "    weight_r = row[\"weight_right\"]\n",
    "    page_title_l = row[\"page_title\"]\n",
    "    page_title_r = row[\"page_title_right\"]\n",
    "    \n",
    "    dimensions_regex = r\"([0-9]+\\.[0-9]+|[0-9]+)h([0-9]+\\.[0-9]+|[0-9]+)w([0-9]+\\.[0-9]+|[0-9]+)d\"\n",
    "    dimensions_regex_2 = r\"h([0-9]+\\.[0-9]+|[0-9]+)w([0-9]+\\.[0-9]+|[0-9]+)d([0-9]+\\.[0-9]+|[0-9]+)\"\n",
    "    \n",
    "    if not pd.isna(dim_l) and not pd.isna(dim_r):\n",
    "        if re.match(dimensions_regex, dim_l) == None:\n",
    "            groups_l = re.match(dimensions_regex_2, dim_l).groups(1)\n",
    "        else:\n",
    "            groups_l = re.match(dimensions_regex, dim_l).groups(1)\n",
    "        if re.match(dimensions_regex, dim_r) == None:\n",
    "            groups_r = re.match(dimensions_regex_2, dim_r).groups(1)\n",
    "        else:\n",
    "            groups_r = re.match(dimensions_regex, dim_r).groups(1)\n",
    "        if np.sum(np.abs(np.array(groups_l).astype(float) - np.array(groups_r).astype(float))) <= 0.3:\n",
    "            score += dim_weight\n",
    "    if not pd.isna(dots_l) and not pd.isna(dots_r) and dots_l == dots_r:\n",
    "        score += dots_weight\n",
    "    if not pd.isna(megapixels_l) and not pd.isna(megapixels_r) and abs(float(megapixels_l.replace(\"mp\", \"\")) - float(megapixels_r.replace(\"mp\", \"\"))) <= 0.2:\n",
    "        score += mp_weight\n",
    "    if not pd.isna(screen_size_l) and not pd.isna(screen_size_r) and abs(float(screen_size_l.replace(\"in\", \"\")) - float(screen_size_r.replace(\"in\", \"\"))) <= 0.2:\n",
    "        score += scr_weight\n",
    "    if not pd.isna(type_l) and not pd.isna(type_r) and type_l == type_r:\n",
    "        score += type_weight\n",
    "    if not pd.isna(weight_l) and not pd.isna(weight_r) and abs(float(weight_l.replace(\"g\", \"\")) - float(weight_r.replace(\"g\", \"\"))) <= 0.2:\n",
    "        score += weight_weight\n",
    "    \n",
    "    if isinstance(short_descr_r, list) and isinstance(short_descr_l, list):\n",
    "        for spec1 in short_descr_l:\n",
    "            for spec2 in short_descr_r:\n",
    "                if spec1 == spec2:  \n",
    "                    score += descr_weight\n",
    "                    \n",
    "    if page_title_l != [] and page_title_r != []:\n",
    "        for spec1 in page_title_l:\n",
    "            for spec2 in page_title_r:\n",
    "                if spec1 == spec2:  \n",
    "                    score += title_weight\n",
    "                    \n",
    "    return score >= target\n",
    "    "
   ]
  },
  {
   "cell_type": "code",
   "execution_count": 76,
   "metadata": {},
   "outputs": [
    {
     "name": "stderr",
     "output_type": "stream",
     "text": [
      "/Users/gfotiadis/anaconda3/lib/python3.7/site-packages/tqdm/std.py:658: FutureWarning: The Panel class is removed from pandas. Accessing it from the top-level namespace will also be removed in the next version\n",
      "  from pandas import Panel\n"
     ]
    }
   ],
   "source": [
    "tqdm.pandas()"
   ]
  },
  {
   "cell_type": "code",
   "execution_count": 79,
   "metadata": {
    "collapsed": true,
    "jupyter": {
     "outputs_hidden": true
    }
   },
   "outputs": [
    {
     "name": "stdout",
     "output_type": "stream",
     "text": [
      "CALCULATING FOR BRAND =  ('canon',)\n"
     ]
    },
    {
     "name": "stderr",
     "output_type": "stream",
     "text": [
      "\n",
      "\n",
      "  0%|          | 0/14405028 [00:00<?, ?it/s]\u001b[A\u001b[A"
     ]
    },
    {
     "name": "stdout",
     "output_type": "stream",
     "text": [
      "NUMBER OF COMPARISONS:  14405028\n"
     ]
    },
    {
     "name": "stderr",
     "output_type": "stream",
     "text": [
      "\n",
      "\n",
      "  0%|          | 1/14405028 [00:09<37225:45:33,  9.30s/it]\u001b[A\u001b[A\n",
      "\n",
      "  0%|          | 249/14405028 [00:09<26058:04:03,  6.51s/it]\u001b[A\u001b[A\n",
      "\n",
      "  0%|          | 558/14405028 [00:09<18240:38:40,  4.56s/it]\u001b[A\u001b[A\n",
      "\n",
      "  0%|          | 839/14405028 [00:09<12768:37:48,  3.19s/it]\u001b[A\u001b[A\n",
      "\n",
      "  0%|          | 1124/14405028 [00:09<8938:17:07,  2.23s/it]\u001b[A\u001b[A\n",
      "\n",
      "  0%|          | 1400/14405028 [00:09<6257:06:54,  1.56s/it]\u001b[A\u001b[A\n",
      "\n",
      "  0%|          | 1702/14405028 [00:09<4380:17:13,  1.09s/it]\u001b[A\u001b[A\n",
      "\n",
      "  0%|          | 1997/14405028 [00:10<3066:32:42,  1.30it/s]\u001b[A\u001b[A\n",
      "\n",
      "  0%|          | 2362/14405028 [00:10<2146:51:22,  1.86it/s]\u001b[A\u001b[A\n",
      "\n",
      "  0%|          | 2723/14405028 [00:10<1503:05:40,  2.66it/s]\u001b[A\u001b[A\n",
      "\n",
      "  0%|          | 3039/14405028 [00:10<1052:34:23,  3.80it/s]\u001b[A\u001b[A\n",
      "\n",
      "  0%|          | 3355/14405028 [00:10<737:09:55,  5.43it/s] \u001b[A\u001b[A\n",
      "\n",
      "  0%|          | 3663/14405028 [00:10<516:29:08,  7.75it/s]\u001b[A\u001b[A\n",
      "\n",
      "  0%|          | 3954/14405028 [00:10<361:59:10, 11.05it/s]\u001b[A\u001b[A\n",
      "\n",
      "  0%|          | 4247/14405028 [00:10<253:47:41, 15.76it/s]\u001b[A\u001b[A\n",
      "\n",
      "  0%|          | 4568/14405028 [00:10<178:01:39, 22.47it/s]\u001b[A\u001b[A\n",
      "\n",
      "  0%|          | 4871/14405028 [00:10<125:00:46, 32.00it/s]\u001b[A\u001b[A\n",
      "\n",
      "  0%|          | 5169/14405028 [00:11<87:58:02, 45.47it/s] \u001b[A\u001b[A\n",
      "\n",
      "  0%|          | 5456/14405028 [00:11<62:01:49, 64.48it/s]\u001b[A\u001b[A\n",
      "\n",
      "  0%|          | 5737/14405028 [00:11<43:50:56, 91.22it/s]\u001b[A\u001b[A\n",
      "\n",
      "  0%|          | 6035/14405028 [00:11<31:05:51, 128.62it/s]\u001b[A\u001b[A\n",
      "\n",
      "  0%|          | 6329/14405028 [00:11<22:10:36, 180.35it/s]\u001b[A\u001b[A\n",
      "\n",
      "  0%|          | 6637/14405028 [00:11<15:54:49, 251.33it/s]\u001b[A\u001b[A\n",
      "\n",
      "  0%|          | 6931/14405028 [00:11<11:34:38, 345.46it/s]\u001b[A\u001b[A\n",
      "\n",
      "  0%|          | 7266/14405028 [00:11<8:27:50, 472.52it/s] \u001b[A\u001b[A\n",
      "\n",
      "  0%|          | 7584/14405028 [00:11<6:18:09, 634.55it/s]\u001b[A\u001b[A\n",
      "\n",
      "  0%|          | 7891/14405028 [00:12<4:54:20, 815.23it/s]\u001b[A\u001b[A\n",
      "\n",
      "  0%|          | 8179/14405028 [00:12<3:55:03, 1020.77it/s]\u001b[A\u001b[A\n",
      "\n",
      "  0%|          | 8472/14405028 [00:12<3:09:07, 1268.74it/s]\u001b[A\u001b[A\n",
      "\n",
      "  0%|          | 8785/14405028 [00:12<2:35:26, 1543.65it/s]\u001b[A\u001b[A\n",
      "\n",
      "  0%|          | 9076/14405028 [00:12<2:14:13, 1787.51it/s]\u001b[A\u001b[A\n",
      "\n",
      "  0%|          | 9365/14405028 [00:12<2:01:37, 1972.80it/s]\u001b[A\u001b[A\n",
      "\n",
      "  0%|          | 9709/14405028 [00:12<1:46:03, 2262.17it/s]\u001b[A\u001b[A\n",
      "\n",
      "  0%|          | 10008/14405028 [00:12<1:39:09, 2419.56it/s]\u001b[A\u001b[A\n",
      "\n",
      "  0%|          | 10304/14405028 [00:12<1:36:48, 2478.11it/s]\u001b[A\u001b[A\n",
      "\n",
      "  0%|          | 10590/14405028 [00:12<1:33:30, 2565.68it/s]\u001b[A\u001b[A\n",
      "\n",
      "  0%|          | 10890/14405028 [00:13<1:29:29, 2680.60it/s]\u001b[A\u001b[A\n",
      "\n",
      "  0%|          | 11200/14405028 [00:13<1:25:54, 2792.50it/s]\u001b[A\u001b[A\n",
      "\n",
      "  0%|          | 11532/14405028 [00:13<1:21:50, 2931.20it/s]\u001b[A\u001b[A\n",
      "\n",
      "  0%|          | 11838/14405028 [00:13<1:22:21, 2912.97it/s]\u001b[A\u001b[A\n",
      "\n",
      "  0%|          | 12232/14405028 [00:13<1:15:56, 3158.66it/s]\u001b[A\u001b[A\n",
      "\n",
      "  0%|          | 12586/14405028 [00:13<1:13:29, 3263.99it/s]\u001b[A\u001b[A\n",
      "\n",
      "  0%|          | 12922/14405028 [00:13<1:13:21, 3270.08it/s]\u001b[A\u001b[A\n",
      "\n",
      "  0%|          | 13258/14405028 [00:13<1:12:48, 3294.45it/s]\u001b[A\u001b[A\n",
      "\n",
      "  0%|          | 13623/14405028 [00:13<1:10:43, 3391.34it/s]\u001b[A\u001b[A\n",
      "\n",
      "  0%|          | 13967/14405028 [00:13<1:11:49, 3339.71it/s]\u001b[A\u001b[A\n",
      "\n",
      "  0%|          | 14312/14405028 [00:14<1:11:08, 3371.18it/s]\u001b[A\u001b[A\n",
      "\n",
      "  0%|          | 14652/14405028 [00:14<1:13:45, 3252.06it/s]\u001b[A\u001b[A\n",
      "\n",
      "  0%|          | 14980/14405028 [00:14<1:17:47, 3082.76it/s]\u001b[A\u001b[A\n",
      "\n",
      "  0%|          | 15292/14405028 [00:14<1:20:18, 2986.59it/s]\u001b[A\u001b[A\n",
      "\n",
      "  0%|          | 15628/14405028 [00:14<1:17:41, 3086.90it/s]\u001b[A\u001b[A\n",
      "\n",
      "  0%|          | 15940/14405028 [00:14<1:18:25, 3058.01it/s]\u001b[A\u001b[A\n",
      "\n",
      "  0%|          | 16248/14405028 [00:14<1:26:04, 2786.22it/s]\u001b[A\u001b[A\n",
      "\n",
      "  0%|          | 16533/14405028 [00:14<1:39:55, 2399.95it/s]\u001b[A\u001b[A\n",
      "\n",
      "  0%|          | 16787/14405028 [00:15<1:53:13, 2118.05it/s]\u001b[A\u001b[A\n",
      "\n",
      "  0%|          | 17058/14405028 [00:15<1:45:53, 2264.40it/s]\u001b[A\u001b[A\n",
      "\n",
      "  0%|          | 17299/14405028 [00:15<1:52:39, 2128.41it/s]\u001b[A\u001b[A\n",
      "\n",
      "  0%|          | 17524/14405028 [00:15<1:59:43, 2002.90it/s]\u001b[A\u001b[A\n",
      "\n",
      "  0%|          | 17762/14405028 [00:15<1:54:02, 2102.63it/s]\u001b[A\u001b[A\n",
      "\n",
      "  0%|          | 18002/14405028 [00:15<1:49:52, 2182.48it/s]\u001b[A\u001b[A\n",
      "\n",
      "  0%|          | 18232/14405028 [00:15<1:48:13, 2215.58it/s]\u001b[A\u001b[A\n",
      "\n",
      "  0%|          | 18466/14405028 [00:15<1:46:35, 2249.58it/s]\u001b[A\u001b[A\n",
      "\n",
      "  0%|          | 18706/14405028 [00:15<1:44:41, 2290.29it/s]\u001b[A\u001b[A\n",
      "\n",
      "  0%|          | 18938/14405028 [00:16<1:51:11, 2156.26it/s]\u001b[A\u001b[A\n",
      "\n",
      "  0%|          | 19157/14405028 [00:16<1:53:04, 2120.55it/s]\u001b[A\u001b[A\n",
      "\n",
      "  0%|          | 19409/14405028 [00:16<1:47:43, 2225.50it/s]\u001b[A\u001b[A\n",
      "\n",
      "  0%|          | 19692/14405028 [00:16<1:40:51, 2377.19it/s]\u001b[A\u001b[A\n",
      "\n",
      "  0%|          | 19977/14405028 [00:16<1:35:50, 2501.48it/s]\u001b[A\u001b[A\n",
      "\n",
      "  0%|          | 20294/14405028 [00:16<1:29:46, 2670.42it/s]\u001b[A\u001b[A\n",
      "\n",
      "  0%|          | 20580/14405028 [00:16<1:28:03, 2722.62it/s]\u001b[A\u001b[A\n",
      "\n",
      "  0%|          | 20870/14405028 [00:16<1:26:27, 2773.10it/s]\u001b[A\u001b[A\n",
      "\n",
      "  0%|          | 21164/14405028 [00:16<1:25:06, 2816.59it/s]\u001b[A\u001b[A\n",
      "\n",
      "  0%|          | 21506/14405028 [00:16<1:20:37, 2973.27it/s]\u001b[A\u001b[A\n",
      "\n",
      "  0%|          | 21864/14405028 [00:17<1:16:34, 3130.40it/s]\u001b[A\u001b[A\n",
      "\n",
      "  0%|          | 22230/14405028 [00:17<1:13:15, 3271.83it/s]\u001b[A\u001b[A\n",
      "\n",
      "  0%|          | 22563/14405028 [00:17<1:13:21, 3267.60it/s]\u001b[A\u001b[A\n",
      "\n",
      "  0%|          | 22894/14405028 [00:17<1:14:14, 3228.68it/s]\u001b[A\u001b[A\n",
      "\n",
      "  0%|          | 23230/14405028 [00:17<1:13:22, 3266.62it/s]\u001b[A\u001b[A\n",
      "\n",
      "  0%|          | 23559/14405028 [00:17<1:16:02, 3151.82it/s]\u001b[A\u001b[A\n",
      "\n",
      "  0%|          | 23877/14405028 [00:17<1:16:21, 3138.96it/s]\u001b[A\u001b[A\n",
      "\n",
      "  0%|          | 24193/14405028 [00:17<1:20:47, 2966.91it/s]\u001b[A\u001b[A\n",
      "\n",
      "  0%|          | 24498/14405028 [00:17<1:20:13, 2987.59it/s]\u001b[A\u001b[A\n",
      "\n",
      "  0%|          | 24803/14405028 [00:18<1:19:46, 3004.25it/s]\u001b[A\u001b[A\n",
      "\n",
      "  0%|          | 25126/14405028 [00:18<1:18:07, 3067.74it/s]\u001b[A\u001b[A\n",
      "\n",
      "  0%|          | 25452/14405028 [00:18<1:16:46, 3121.91it/s]\u001b[A\u001b[A\n",
      "\n",
      "  0%|          | 25795/14405028 [00:18<1:14:44, 3206.68it/s]\u001b[A\u001b[A\n",
      "\n",
      "  0%|          | 26118/14405028 [00:18<1:21:57, 2924.09it/s]\u001b[A\u001b[A\n",
      "\n",
      "  0%|          | 26417/14405028 [00:18<1:38:54, 2422.89it/s]\u001b[A\u001b[A\n",
      "\n",
      "  0%|          | 26678/14405028 [00:18<1:41:35, 2358.80it/s]\u001b[A\u001b[A\n",
      "\n",
      "  0%|          | 26945/14405028 [00:18<1:38:02, 2444.23it/s]\u001b[A\u001b[A\n",
      "\n",
      "  0%|          | 27231/14405028 [00:18<1:33:46, 2555.34it/s]\u001b[A\u001b[A\n",
      "\n",
      "  0%|          | 27495/14405028 [00:19<1:33:20, 2567.39it/s]\u001b[A\u001b[A\n",
      "\n",
      "  0%|          | 27761/14405028 [00:19<1:32:30, 2590.09it/s]\u001b[A\u001b[A\n",
      "\n",
      "  0%|          | 28026/14405028 [00:19<1:32:19, 2595.52it/s]\u001b[A\u001b[A\n",
      "\n",
      "  0%|          | 28289/14405028 [00:19<1:33:23, 2565.69it/s]\u001b[A\u001b[A\n",
      "\n",
      "  0%|          | 28548/14405028 [00:19<1:33:38, 2558.95it/s]\u001b[A\u001b[A\n",
      "\n",
      "  0%|          | 28806/14405028 [00:19<1:37:22, 2460.68it/s]\u001b[A\u001b[A\n",
      "\n",
      "  0%|          | 29054/14405028 [00:19<1:53:11, 2116.71it/s]\u001b[A\u001b[A\n",
      "\n",
      "  0%|          | 29276/14405028 [00:19<2:00:05, 1995.08it/s]\u001b[A\u001b[A\n",
      "\n",
      "  0%|          | 29492/14405028 [00:19<1:57:27, 2039.73it/s]\u001b[A\u001b[A\n",
      "\n",
      "  0%|          | 29765/14405028 [00:20<1:48:35, 2206.39it/s]\u001b[A\u001b[A\n",
      "\n",
      "  0%|          | 30042/14405028 [00:20<1:41:58, 2349.58it/s]\u001b[A\u001b[A\n",
      "\n",
      "  0%|          | 30286/14405028 [00:20<1:43:54, 2305.70it/s]\u001b[A\u001b[A\n",
      "\n",
      "  0%|          | 30523/14405028 [00:20<1:43:10, 2321.92it/s]\u001b[A\u001b[A\n",
      "\n",
      "  0%|          | 30761/14405028 [00:20<1:42:36, 2334.83it/s]\u001b[A\u001b[A\n",
      "\n",
      "  0%|          | 31015/14405028 [00:20<1:40:10, 2391.37it/s]\u001b[A\u001b[A\n",
      "\n",
      "  0%|          | 31277/14405028 [00:20<1:37:36, 2454.45it/s]\u001b[A\u001b[A\n",
      "\n",
      "  0%|          | 31554/14405028 [00:20<1:34:19, 2539.69it/s]\u001b[A\u001b[A\n",
      "\n",
      "  0%|          | 31811/14405028 [00:20<1:37:10, 2465.12it/s]\u001b[A\u001b[A\n",
      "\n",
      "  0%|          | 32080/14405028 [00:20<1:34:45, 2527.95it/s]\u001b[A\u001b[A\n",
      "\n",
      "  0%|          | 32335/14405028 [00:21<1:35:58, 2495.90it/s]\u001b[A\u001b[A\n",
      "\n",
      "  0%|          | 32616/14405028 [00:21<1:32:46, 2581.77it/s]\u001b[A\u001b[A\n",
      "\n",
      "  0%|          | 32919/14405028 [00:21<1:28:45, 2698.96it/s]\u001b[A\u001b[A\n",
      "\n",
      "  0%|          | 33216/14405028 [00:21<1:26:22, 2773.27it/s]\u001b[A\u001b[A"
     ]
    },
    {
     "ename": "KeyboardInterrupt",
     "evalue": "",
     "output_type": "error",
     "traceback": [
      "\u001b[0;31m---------------------------------------------------------------------------\u001b[0m",
      "\u001b[0;31mKeyboardInterrupt\u001b[0m                         Traceback (most recent call last)",
      "\u001b[0;32m<ipython-input-79-d5f82f5ca7a7>\u001b[0m in \u001b[0;36m<module>\u001b[0;34m\u001b[0m\n\u001b[1;32m     14\u001b[0m \u001b[0;34m\u001b[0m\u001b[0m\n\u001b[1;32m     15\u001b[0m     \u001b[0mprint\u001b[0m\u001b[0;34m(\u001b[0m\u001b[0;34m\"NUMBER OF COMPARISONS: \"\u001b[0m\u001b[0;34m,\u001b[0m \u001b[0mlen\u001b[0m\u001b[0;34m(\u001b[0m\u001b[0mmerged\u001b[0m\u001b[0;34m)\u001b[0m\u001b[0;34m)\u001b[0m\u001b[0;34m\u001b[0m\u001b[0;34m\u001b[0m\u001b[0m\n\u001b[0;32m---> 16\u001b[0;31m     \u001b[0mlabels\u001b[0m\u001b[0;34m.\u001b[0m\u001b[0mappend\u001b[0m\u001b[0;34m(\u001b[0m\u001b[0mlist\u001b[0m\u001b[0;34m(\u001b[0m\u001b[0mmerged\u001b[0m\u001b[0;34m.\u001b[0m\u001b[0mprogress_apply\u001b[0m\u001b[0;34m(\u001b[0m\u001b[0mdetermine_match\u001b[0m\u001b[0;34m,\u001b[0m \u001b[0maxis\u001b[0m \u001b[0;34m=\u001b[0m \u001b[0;36m1\u001b[0m\u001b[0;34m)\u001b[0m\u001b[0;34m)\u001b[0m\u001b[0;34m)\u001b[0m\u001b[0;34m\u001b[0m\u001b[0;34m\u001b[0m\u001b[0m\n\u001b[0m\u001b[1;32m     17\u001b[0m     \u001b[0mlabels\u001b[0m \u001b[0;34m=\u001b[0m \u001b[0msum\u001b[0m\u001b[0;34m(\u001b[0m\u001b[0mlabels\u001b[0m\u001b[0;34m,\u001b[0m \u001b[0;34m[\u001b[0m\u001b[0;34m]\u001b[0m\u001b[0;34m)\u001b[0m\u001b[0;34m\u001b[0m\u001b[0;34m\u001b[0m\u001b[0m\n\u001b[1;32m     18\u001b[0m     \u001b[0mmerged\u001b[0m\u001b[0;34m[\u001b[0m\u001b[0;34m\"label\"\u001b[0m\u001b[0;34m]\u001b[0m \u001b[0;34m=\u001b[0m \u001b[0mlabels\u001b[0m\u001b[0;34m\u001b[0m\u001b[0;34m\u001b[0m\u001b[0m\n",
      "\u001b[0;32m~/anaconda3/lib/python3.7/site-packages/tqdm/std.py\u001b[0m in \u001b[0;36minner\u001b[0;34m(df, func, *args, **kwargs)\u001b[0m\n\u001b[1;32m    754\u001b[0m                 \u001b[0;31m# Apply the provided function (in **kwargs)\u001b[0m\u001b[0;34m\u001b[0m\u001b[0;34m\u001b[0m\u001b[0;34m\u001b[0m\u001b[0m\n\u001b[1;32m    755\u001b[0m                 \u001b[0;31m# on the df using our wrapper (which provides bar updating)\u001b[0m\u001b[0;34m\u001b[0m\u001b[0;34m\u001b[0m\u001b[0;34m\u001b[0m\u001b[0m\n\u001b[0;32m--> 756\u001b[0;31m                 \u001b[0mresult\u001b[0m \u001b[0;34m=\u001b[0m \u001b[0mgetattr\u001b[0m\u001b[0;34m(\u001b[0m\u001b[0mdf\u001b[0m\u001b[0;34m,\u001b[0m \u001b[0mdf_function\u001b[0m\u001b[0;34m)\u001b[0m\u001b[0;34m(\u001b[0m\u001b[0mwrapper\u001b[0m\u001b[0;34m,\u001b[0m \u001b[0;34m**\u001b[0m\u001b[0mkwargs\u001b[0m\u001b[0;34m)\u001b[0m\u001b[0;34m\u001b[0m\u001b[0;34m\u001b[0m\u001b[0m\n\u001b[0m\u001b[1;32m    757\u001b[0m \u001b[0;34m\u001b[0m\u001b[0m\n\u001b[1;32m    758\u001b[0m                 \u001b[0;31m# Close bar and return pandas calculation result\u001b[0m\u001b[0;34m\u001b[0m\u001b[0;34m\u001b[0m\u001b[0;34m\u001b[0m\u001b[0m\n",
      "\u001b[0;32m~/anaconda3/lib/python3.7/site-packages/pandas/core/frame.py\u001b[0m in \u001b[0;36mapply\u001b[0;34m(self, func, axis, raw, result_type, args, **kwds)\u001b[0m\n\u001b[1;32m   6876\u001b[0m             \u001b[0mkwds\u001b[0m\u001b[0;34m=\u001b[0m\u001b[0mkwds\u001b[0m\u001b[0;34m,\u001b[0m\u001b[0;34m\u001b[0m\u001b[0;34m\u001b[0m\u001b[0m\n\u001b[1;32m   6877\u001b[0m         )\n\u001b[0;32m-> 6878\u001b[0;31m         \u001b[0;32mreturn\u001b[0m \u001b[0mop\u001b[0m\u001b[0;34m.\u001b[0m\u001b[0mget_result\u001b[0m\u001b[0;34m(\u001b[0m\u001b[0;34m)\u001b[0m\u001b[0;34m\u001b[0m\u001b[0;34m\u001b[0m\u001b[0m\n\u001b[0m\u001b[1;32m   6879\u001b[0m \u001b[0;34m\u001b[0m\u001b[0m\n\u001b[1;32m   6880\u001b[0m     \u001b[0;32mdef\u001b[0m \u001b[0mapplymap\u001b[0m\u001b[0;34m(\u001b[0m\u001b[0mself\u001b[0m\u001b[0;34m,\u001b[0m \u001b[0mfunc\u001b[0m\u001b[0;34m)\u001b[0m \u001b[0;34m->\u001b[0m \u001b[0;34m\"DataFrame\"\u001b[0m\u001b[0;34m:\u001b[0m\u001b[0;34m\u001b[0m\u001b[0;34m\u001b[0m\u001b[0m\n",
      "\u001b[0;32m~/anaconda3/lib/python3.7/site-packages/pandas/core/apply.py\u001b[0m in \u001b[0;36mget_result\u001b[0;34m(self)\u001b[0m\n\u001b[1;32m    184\u001b[0m             \u001b[0;32mreturn\u001b[0m \u001b[0mself\u001b[0m\u001b[0;34m.\u001b[0m\u001b[0mapply_raw\u001b[0m\u001b[0;34m(\u001b[0m\u001b[0;34m)\u001b[0m\u001b[0;34m\u001b[0m\u001b[0;34m\u001b[0m\u001b[0m\n\u001b[1;32m    185\u001b[0m \u001b[0;34m\u001b[0m\u001b[0m\n\u001b[0;32m--> 186\u001b[0;31m         \u001b[0;32mreturn\u001b[0m \u001b[0mself\u001b[0m\u001b[0;34m.\u001b[0m\u001b[0mapply_standard\u001b[0m\u001b[0;34m(\u001b[0m\u001b[0;34m)\u001b[0m\u001b[0;34m\u001b[0m\u001b[0;34m\u001b[0m\u001b[0m\n\u001b[0m\u001b[1;32m    187\u001b[0m \u001b[0;34m\u001b[0m\u001b[0m\n\u001b[1;32m    188\u001b[0m     \u001b[0;32mdef\u001b[0m \u001b[0mapply_empty_result\u001b[0m\u001b[0;34m(\u001b[0m\u001b[0mself\u001b[0m\u001b[0;34m)\u001b[0m\u001b[0;34m:\u001b[0m\u001b[0;34m\u001b[0m\u001b[0;34m\u001b[0m\u001b[0m\n",
      "\u001b[0;32m~/anaconda3/lib/python3.7/site-packages/pandas/core/apply.py\u001b[0m in \u001b[0;36mapply_standard\u001b[0;34m(self)\u001b[0m\n\u001b[1;32m    294\u001b[0m             \u001b[0;32mtry\u001b[0m\u001b[0;34m:\u001b[0m\u001b[0;34m\u001b[0m\u001b[0;34m\u001b[0m\u001b[0m\n\u001b[1;32m    295\u001b[0m                 result = libreduction.compute_reduction(\n\u001b[0;32m--> 296\u001b[0;31m                     \u001b[0mvalues\u001b[0m\u001b[0;34m,\u001b[0m \u001b[0mself\u001b[0m\u001b[0;34m.\u001b[0m\u001b[0mf\u001b[0m\u001b[0;34m,\u001b[0m \u001b[0maxis\u001b[0m\u001b[0;34m=\u001b[0m\u001b[0mself\u001b[0m\u001b[0;34m.\u001b[0m\u001b[0maxis\u001b[0m\u001b[0;34m,\u001b[0m \u001b[0mdummy\u001b[0m\u001b[0;34m=\u001b[0m\u001b[0mdummy\u001b[0m\u001b[0;34m,\u001b[0m \u001b[0mlabels\u001b[0m\u001b[0;34m=\u001b[0m\u001b[0mlabels\u001b[0m\u001b[0;34m\u001b[0m\u001b[0;34m\u001b[0m\u001b[0m\n\u001b[0m\u001b[1;32m    297\u001b[0m                 )\n\u001b[1;32m    298\u001b[0m             \u001b[0;32mexcept\u001b[0m \u001b[0mValueError\u001b[0m \u001b[0;32mas\u001b[0m \u001b[0merr\u001b[0m\u001b[0;34m:\u001b[0m\u001b[0;34m\u001b[0m\u001b[0;34m\u001b[0m\u001b[0m\n",
      "\u001b[0;32mpandas/_libs/reduction.pyx\u001b[0m in \u001b[0;36mpandas._libs.reduction.compute_reduction\u001b[0;34m()\u001b[0m\n",
      "\u001b[0;32mpandas/_libs/reduction.pyx\u001b[0m in \u001b[0;36mpandas._libs.reduction.Reducer.get_result\u001b[0;34m()\u001b[0m\n",
      "\u001b[0;32m~/anaconda3/lib/python3.7/site-packages/tqdm/std.py\u001b[0m in \u001b[0;36mwrapper\u001b[0;34m(*args, **kwargs)\u001b[0m\n\u001b[1;32m    750\u001b[0m                     \u001b[0;31m# take a fast or slow code path; so stop when t.total==t.n\u001b[0m\u001b[0;34m\u001b[0m\u001b[0;34m\u001b[0m\u001b[0;34m\u001b[0m\u001b[0m\n\u001b[1;32m    751\u001b[0m                     \u001b[0mt\u001b[0m\u001b[0;34m.\u001b[0m\u001b[0mupdate\u001b[0m\u001b[0;34m(\u001b[0m\u001b[0mn\u001b[0m\u001b[0;34m=\u001b[0m\u001b[0;36m1\u001b[0m \u001b[0;32mif\u001b[0m \u001b[0;32mnot\u001b[0m \u001b[0mt\u001b[0m\u001b[0;34m.\u001b[0m\u001b[0mtotal\u001b[0m \u001b[0;32mor\u001b[0m \u001b[0mt\u001b[0m\u001b[0;34m.\u001b[0m\u001b[0mn\u001b[0m \u001b[0;34m<\u001b[0m \u001b[0mt\u001b[0m\u001b[0;34m.\u001b[0m\u001b[0mtotal\u001b[0m \u001b[0;32melse\u001b[0m \u001b[0;36m0\u001b[0m\u001b[0;34m)\u001b[0m\u001b[0;34m\u001b[0m\u001b[0;34m\u001b[0m\u001b[0m\n\u001b[0;32m--> 752\u001b[0;31m                     \u001b[0;32mreturn\u001b[0m \u001b[0mfunc\u001b[0m\u001b[0;34m(\u001b[0m\u001b[0;34m*\u001b[0m\u001b[0margs\u001b[0m\u001b[0;34m,\u001b[0m \u001b[0;34m**\u001b[0m\u001b[0mkwargs\u001b[0m\u001b[0;34m)\u001b[0m\u001b[0;34m\u001b[0m\u001b[0;34m\u001b[0m\u001b[0m\n\u001b[0m\u001b[1;32m    753\u001b[0m \u001b[0;34m\u001b[0m\u001b[0m\n\u001b[1;32m    754\u001b[0m                 \u001b[0;31m# Apply the provided function (in **kwargs)\u001b[0m\u001b[0;34m\u001b[0m\u001b[0;34m\u001b[0m\u001b[0;34m\u001b[0m\u001b[0m\n",
      "\u001b[0;32m<ipython-input-78-7744b25f7514>\u001b[0m in \u001b[0;36mdetermine_match\u001b[0;34m(row)\u001b[0m\n\u001b[1;32m     19\u001b[0m     \u001b[0mdim_l\u001b[0m \u001b[0;34m=\u001b[0m \u001b[0mrow\u001b[0m\u001b[0;34m[\u001b[0m\u001b[0;34m\"dimensions\"\u001b[0m\u001b[0;34m]\u001b[0m\u001b[0;34m\u001b[0m\u001b[0;34m\u001b[0m\u001b[0m\n\u001b[1;32m     20\u001b[0m     \u001b[0mdim_r\u001b[0m \u001b[0;34m=\u001b[0m \u001b[0mrow\u001b[0m\u001b[0;34m[\u001b[0m\u001b[0;34m\"dimensions_right\"\u001b[0m\u001b[0;34m]\u001b[0m\u001b[0;34m\u001b[0m\u001b[0;34m\u001b[0m\u001b[0m\n\u001b[0;32m---> 21\u001b[0;31m     \u001b[0mdots_l\u001b[0m \u001b[0;34m=\u001b[0m \u001b[0mrow\u001b[0m\u001b[0;34m[\u001b[0m\u001b[0;34m\"dots\"\u001b[0m\u001b[0;34m]\u001b[0m\u001b[0;34m\u001b[0m\u001b[0;34m\u001b[0m\u001b[0m\n\u001b[0m\u001b[1;32m     22\u001b[0m     \u001b[0mdots_r\u001b[0m \u001b[0;34m=\u001b[0m \u001b[0mrow\u001b[0m\u001b[0;34m[\u001b[0m\u001b[0;34m\"dots_right\"\u001b[0m\u001b[0;34m]\u001b[0m\u001b[0;34m\u001b[0m\u001b[0;34m\u001b[0m\u001b[0m\n\u001b[1;32m     23\u001b[0m     \u001b[0mmegapixels_l\u001b[0m \u001b[0;34m=\u001b[0m \u001b[0mrow\u001b[0m\u001b[0;34m[\u001b[0m\u001b[0;34m\"megapixels\"\u001b[0m\u001b[0;34m]\u001b[0m\u001b[0;34m\u001b[0m\u001b[0;34m\u001b[0m\u001b[0m\n",
      "\u001b[0;32m~/anaconda3/lib/python3.7/site-packages/pandas/core/series.py\u001b[0m in \u001b[0;36m__getitem__\u001b[0;34m(self, key)\u001b[0m\n\u001b[1;32m    869\u001b[0m         \u001b[0mkey\u001b[0m \u001b[0;34m=\u001b[0m \u001b[0mcom\u001b[0m\u001b[0;34m.\u001b[0m\u001b[0mapply_if_callable\u001b[0m\u001b[0;34m(\u001b[0m\u001b[0mkey\u001b[0m\u001b[0;34m,\u001b[0m \u001b[0mself\u001b[0m\u001b[0;34m)\u001b[0m\u001b[0;34m\u001b[0m\u001b[0;34m\u001b[0m\u001b[0m\n\u001b[1;32m    870\u001b[0m         \u001b[0;32mtry\u001b[0m\u001b[0;34m:\u001b[0m\u001b[0;34m\u001b[0m\u001b[0;34m\u001b[0m\u001b[0m\n\u001b[0;32m--> 871\u001b[0;31m             \u001b[0mresult\u001b[0m \u001b[0;34m=\u001b[0m \u001b[0mself\u001b[0m\u001b[0;34m.\u001b[0m\u001b[0mindex\u001b[0m\u001b[0;34m.\u001b[0m\u001b[0mget_value\u001b[0m\u001b[0;34m(\u001b[0m\u001b[0mself\u001b[0m\u001b[0;34m,\u001b[0m \u001b[0mkey\u001b[0m\u001b[0;34m)\u001b[0m\u001b[0;34m\u001b[0m\u001b[0;34m\u001b[0m\u001b[0m\n\u001b[0m\u001b[1;32m    872\u001b[0m \u001b[0;34m\u001b[0m\u001b[0m\n\u001b[1;32m    873\u001b[0m             \u001b[0;32mif\u001b[0m \u001b[0;32mnot\u001b[0m \u001b[0mis_scalar\u001b[0m\u001b[0;34m(\u001b[0m\u001b[0mresult\u001b[0m\u001b[0;34m)\u001b[0m\u001b[0;34m:\u001b[0m\u001b[0;34m\u001b[0m\u001b[0;34m\u001b[0m\u001b[0m\n",
      "\u001b[0;32m~/anaconda3/lib/python3.7/site-packages/pandas/core/indexes/base.py\u001b[0m in \u001b[0;36mget_value\u001b[0;34m(self, series, key)\u001b[0m\n\u001b[1;32m   4376\u001b[0m         \u001b[0;31m# use this, e.g. DatetimeIndex\u001b[0m\u001b[0;34m\u001b[0m\u001b[0;34m\u001b[0m\u001b[0;34m\u001b[0m\u001b[0m\n\u001b[1;32m   4377\u001b[0m         \u001b[0;31m# Things like `Series._get_value` (via .at) pass the EA directly here.\u001b[0m\u001b[0;34m\u001b[0m\u001b[0;34m\u001b[0m\u001b[0;34m\u001b[0m\u001b[0m\n\u001b[0;32m-> 4378\u001b[0;31m         \u001b[0ms\u001b[0m \u001b[0;34m=\u001b[0m \u001b[0mextract_array\u001b[0m\u001b[0;34m(\u001b[0m\u001b[0mseries\u001b[0m\u001b[0;34m,\u001b[0m \u001b[0mextract_numpy\u001b[0m\u001b[0;34m=\u001b[0m\u001b[0;32mTrue\u001b[0m\u001b[0;34m)\u001b[0m\u001b[0;34m\u001b[0m\u001b[0;34m\u001b[0m\u001b[0m\n\u001b[0m\u001b[1;32m   4379\u001b[0m         \u001b[0;32mif\u001b[0m \u001b[0misinstance\u001b[0m\u001b[0;34m(\u001b[0m\u001b[0ms\u001b[0m\u001b[0;34m,\u001b[0m \u001b[0mExtensionArray\u001b[0m\u001b[0;34m)\u001b[0m\u001b[0;34m:\u001b[0m\u001b[0;34m\u001b[0m\u001b[0;34m\u001b[0m\u001b[0m\n\u001b[1;32m   4380\u001b[0m             \u001b[0;32mif\u001b[0m \u001b[0mis_scalar\u001b[0m\u001b[0;34m(\u001b[0m\u001b[0mkey\u001b[0m\u001b[0;34m)\u001b[0m\u001b[0;34m:\u001b[0m\u001b[0;34m\u001b[0m\u001b[0;34m\u001b[0m\u001b[0m\n",
      "\u001b[0;32m~/anaconda3/lib/python3.7/site-packages/pandas/core/construction.py\u001b[0m in \u001b[0;36mextract_array\u001b[0;34m(obj, extract_numpy)\u001b[0m\n\u001b[1;32m    378\u001b[0m     \"\"\"\n\u001b[1;32m    379\u001b[0m     \u001b[0;32mif\u001b[0m \u001b[0misinstance\u001b[0m\u001b[0;34m(\u001b[0m\u001b[0mobj\u001b[0m\u001b[0;34m,\u001b[0m \u001b[0;34m(\u001b[0m\u001b[0mABCIndexClass\u001b[0m\u001b[0;34m,\u001b[0m \u001b[0mABCSeries\u001b[0m\u001b[0;34m)\u001b[0m\u001b[0;34m)\u001b[0m\u001b[0;34m:\u001b[0m\u001b[0;34m\u001b[0m\u001b[0;34m\u001b[0m\u001b[0m\n\u001b[0;32m--> 380\u001b[0;31m         \u001b[0mobj\u001b[0m \u001b[0;34m=\u001b[0m \u001b[0mobj\u001b[0m\u001b[0;34m.\u001b[0m\u001b[0marray\u001b[0m\u001b[0;34m\u001b[0m\u001b[0;34m\u001b[0m\u001b[0m\n\u001b[0m\u001b[1;32m    381\u001b[0m \u001b[0;34m\u001b[0m\u001b[0m\n\u001b[1;32m    382\u001b[0m     \u001b[0;32mif\u001b[0m \u001b[0mextract_numpy\u001b[0m \u001b[0;32mand\u001b[0m \u001b[0misinstance\u001b[0m\u001b[0;34m(\u001b[0m\u001b[0mobj\u001b[0m\u001b[0;34m,\u001b[0m \u001b[0mABCPandasArray\u001b[0m\u001b[0;34m)\u001b[0m\u001b[0;34m:\u001b[0m\u001b[0;34m\u001b[0m\u001b[0;34m\u001b[0m\u001b[0m\n",
      "\u001b[0;32m~/anaconda3/lib/python3.7/site-packages/pandas/core/series.py\u001b[0m in \u001b[0;36marray\u001b[0;34m(self)\u001b[0m\n\u001b[1;32m    516\u001b[0m     \u001b[0;34m@\u001b[0m\u001b[0mproperty\u001b[0m\u001b[0;34m\u001b[0m\u001b[0;34m\u001b[0m\u001b[0m\n\u001b[1;32m    517\u001b[0m     \u001b[0;32mdef\u001b[0m \u001b[0marray\u001b[0m\u001b[0;34m(\u001b[0m\u001b[0mself\u001b[0m\u001b[0;34m)\u001b[0m \u001b[0;34m->\u001b[0m \u001b[0mExtensionArray\u001b[0m\u001b[0;34m:\u001b[0m\u001b[0;34m\u001b[0m\u001b[0;34m\u001b[0m\u001b[0m\n\u001b[0;32m--> 518\u001b[0;31m         \u001b[0;32mreturn\u001b[0m \u001b[0mself\u001b[0m\u001b[0;34m.\u001b[0m\u001b[0m_data\u001b[0m\u001b[0;34m.\u001b[0m\u001b[0m_block\u001b[0m\u001b[0;34m.\u001b[0m\u001b[0marray_values\u001b[0m\u001b[0;34m(\u001b[0m\u001b[0;34m)\u001b[0m\u001b[0;34m\u001b[0m\u001b[0;34m\u001b[0m\u001b[0m\n\u001b[0m\u001b[1;32m    519\u001b[0m \u001b[0;34m\u001b[0m\u001b[0m\n\u001b[1;32m    520\u001b[0m     \u001b[0;32mdef\u001b[0m \u001b[0m_internal_get_values\u001b[0m\u001b[0;34m(\u001b[0m\u001b[0mself\u001b[0m\u001b[0;34m)\u001b[0m\u001b[0;34m:\u001b[0m\u001b[0;34m\u001b[0m\u001b[0;34m\u001b[0m\u001b[0m\n",
      "\u001b[0;32m~/anaconda3/lib/python3.7/site-packages/pandas/core/internals/blocks.py\u001b[0m in \u001b[0;36marray_values\u001b[0;34m(self)\u001b[0m\n\u001b[1;32m    221\u001b[0m         \u001b[0mThe\u001b[0m \u001b[0marray\u001b[0m \u001b[0mthat\u001b[0m \u001b[0mSeries\u001b[0m\u001b[0;34m.\u001b[0m\u001b[0marray\u001b[0m \u001b[0mreturns\u001b[0m\u001b[0;34m.\u001b[0m \u001b[0mAlways\u001b[0m \u001b[0man\u001b[0m \u001b[0mExtensionArray\u001b[0m\u001b[0;34m.\u001b[0m\u001b[0;34m\u001b[0m\u001b[0;34m\u001b[0m\u001b[0m\n\u001b[1;32m    222\u001b[0m         \"\"\"\n\u001b[0;32m--> 223\u001b[0;31m         \u001b[0;32mreturn\u001b[0m \u001b[0mPandasArray\u001b[0m\u001b[0;34m(\u001b[0m\u001b[0mself\u001b[0m\u001b[0;34m.\u001b[0m\u001b[0mvalues\u001b[0m\u001b[0;34m)\u001b[0m\u001b[0;34m\u001b[0m\u001b[0;34m\u001b[0m\u001b[0m\n\u001b[0m\u001b[1;32m    224\u001b[0m \u001b[0;34m\u001b[0m\u001b[0m\n\u001b[1;32m    225\u001b[0m     \u001b[0;32mdef\u001b[0m \u001b[0mget_values\u001b[0m\u001b[0;34m(\u001b[0m\u001b[0mself\u001b[0m\u001b[0;34m,\u001b[0m \u001b[0mdtype\u001b[0m\u001b[0;34m=\u001b[0m\u001b[0;32mNone\u001b[0m\u001b[0;34m)\u001b[0m\u001b[0;34m:\u001b[0m\u001b[0;34m\u001b[0m\u001b[0;34m\u001b[0m\u001b[0m\n",
      "\u001b[0;32m~/anaconda3/lib/python3.7/site-packages/pandas/core/arrays/numpy_.py\u001b[0m in \u001b[0;36m__init__\u001b[0;34m(self, values, copy)\u001b[0m\n\u001b[1;32m    151\u001b[0m \u001b[0;34m\u001b[0m\u001b[0m\n\u001b[1;32m    152\u001b[0m         \u001b[0mself\u001b[0m\u001b[0;34m.\u001b[0m\u001b[0m_ndarray\u001b[0m \u001b[0;34m=\u001b[0m \u001b[0mvalues\u001b[0m\u001b[0;34m\u001b[0m\u001b[0;34m\u001b[0m\u001b[0m\n\u001b[0;32m--> 153\u001b[0;31m         \u001b[0mself\u001b[0m\u001b[0;34m.\u001b[0m\u001b[0m_dtype\u001b[0m \u001b[0;34m=\u001b[0m \u001b[0mPandasDtype\u001b[0m\u001b[0;34m(\u001b[0m\u001b[0mvalues\u001b[0m\u001b[0;34m.\u001b[0m\u001b[0mdtype\u001b[0m\u001b[0;34m)\u001b[0m\u001b[0;34m\u001b[0m\u001b[0;34m\u001b[0m\u001b[0m\n\u001b[0m\u001b[1;32m    154\u001b[0m \u001b[0;34m\u001b[0m\u001b[0m\n\u001b[1;32m    155\u001b[0m     \u001b[0;34m@\u001b[0m\u001b[0mclassmethod\u001b[0m\u001b[0;34m\u001b[0m\u001b[0;34m\u001b[0m\u001b[0m\n",
      "\u001b[0;32m~/anaconda3/lib/python3.7/site-packages/pandas/core/arrays/numpy_.py\u001b[0m in \u001b[0;36m__init__\u001b[0;34m(self, dtype)\u001b[0m\n\u001b[1;32m     41\u001b[0m \u001b[0;34m\u001b[0m\u001b[0m\n\u001b[1;32m     42\u001b[0m     \u001b[0;32mdef\u001b[0m \u001b[0m__init__\u001b[0m\u001b[0;34m(\u001b[0m\u001b[0mself\u001b[0m\u001b[0;34m,\u001b[0m \u001b[0mdtype\u001b[0m\u001b[0;34m)\u001b[0m\u001b[0;34m:\u001b[0m\u001b[0;34m\u001b[0m\u001b[0;34m\u001b[0m\u001b[0m\n\u001b[0;32m---> 43\u001b[0;31m         \u001b[0mdtype\u001b[0m \u001b[0;34m=\u001b[0m \u001b[0mnp\u001b[0m\u001b[0;34m.\u001b[0m\u001b[0mdtype\u001b[0m\u001b[0;34m(\u001b[0m\u001b[0mdtype\u001b[0m\u001b[0;34m)\u001b[0m\u001b[0;34m\u001b[0m\u001b[0;34m\u001b[0m\u001b[0m\n\u001b[0m\u001b[1;32m     44\u001b[0m         \u001b[0mself\u001b[0m\u001b[0;34m.\u001b[0m\u001b[0m_dtype\u001b[0m \u001b[0;34m=\u001b[0m \u001b[0mdtype\u001b[0m\u001b[0;34m\u001b[0m\u001b[0;34m\u001b[0m\u001b[0m\n\u001b[1;32m     45\u001b[0m         \u001b[0mself\u001b[0m\u001b[0;34m.\u001b[0m\u001b[0m_type\u001b[0m \u001b[0;34m=\u001b[0m \u001b[0mdtype\u001b[0m\u001b[0;34m.\u001b[0m\u001b[0mtype\u001b[0m\u001b[0;34m\u001b[0m\u001b[0;34m\u001b[0m\u001b[0m\n",
      "\u001b[0;31mKeyboardInterrupt\u001b[0m: "
     ]
    },
    {
     "name": "stderr",
     "output_type": "stream",
     "text": [
      "\n",
      "\n",
      "  0%|          | 33280/14405028 [00:34<1:26:22, 2773.27it/s]\u001b[A\u001b[A"
     ]
    }
   ],
   "source": [
    "for gname, group in grouped:\n",
    "    labels = []\n",
    "    \n",
    "    if len(group) < 100 or gname == ():\n",
    "        continue\n",
    "        \n",
    "    print(\"CALCULATING FOR BRAND = \", gname)\n",
    "\n",
    "    if gname == (\"canon\",) or gname == (\"nikon\",) or gname == (\"sony\",):\n",
    "        merged = get_merged_df_with_unbranded(group, unbranded_til_100)\n",
    "    else:\n",
    "        merged = get_merged_df(group)\n",
    "    \n",
    "    print(\"NUMBER OF COMPARISONS: \", len(merged))\n",
    "    labels.append(list(merged.progress_apply(determine_match, axis = 1)))\n",
    "    labels = sum(labels, [])\n",
    "    merged[\"label\"] = labels\n",
    "    print(\"MATCHED \", sum(merged[\"label\"]), \" OUT OF \", len(merged[\"label\"]))\n",
    "    del labels\n",
    "    merged = merged.loc[merged['label'] == True]\n",
    "    cols = [\"left_spec_id\", \"right_spec_id\"]\n",
    "    merged = merged[cols]\n",
    "    if not '/' in gname[0]:\n",
    "        merged.to_csv(\"/Users/gfotiadis/programming/sigmod/datasets/created/with_details/{}_matches_labeled.csv\".format(gname), index = False)\n",
    "    else:\n",
    "        merged.to_csv(\"/Users/gfotiadis/programming/sigmod/datasets/created/with_details/{}_matches_labeled.csv\".format(gname[0].replace(\"/\", \"\")), index = False)\n",
    "     "
   ]
  },
  {
   "cell_type": "code",
   "execution_count": 93,
   "metadata": {},
   "outputs": [
    {
     "name": "stderr",
     "output_type": "stream",
     "text": [
      "100%|██████████| 38443296/38443296 [2:07:38<00:00, 5019.94it/s]  \n"
     ]
    }
   ],
   "source": [
    "labels_unbranded = []\n",
    "merged_unbranded = get_merged_df(unbranded_til_100)\n",
    "labels_unbranded.append(list(merged_unbranded.progress_apply(determine_match, axis = 1)))\n",
    "labels_unbranded = sum(labels_unbranded, [])\n",
    "merged_unbranded[\"label\"] = labels_unbranded\n",
    "del labels_unbranded\n",
    "merged_unbranded = merged_unbranded.loc[merged_unbranded['label'] == True]\n",
    "cols = [\"left_spec_id\", \"right_spec_id\"]\n",
    "merged_unbranded = merged_unbranded[cols]\n",
    "merged_unbranded.to_csv(\"/Users/gfotiadis/programming/sigmod/datasets/created/with_details/unbranded_matches_labeled.csv\", index = False)"
   ]
  },
  {
   "cell_type": "code",
   "execution_count": 94,
   "metadata": {},
   "outputs": [
    {
     "data": {
      "text/plain": [
       "169982"
      ]
     },
     "execution_count": 94,
     "metadata": {},
     "output_type": "execute_result"
    }
   ],
   "source": [
    "len(merged_unbranded)"
   ]
  },
  {
   "cell_type": "code",
   "execution_count": 95,
   "metadata": {},
   "outputs": [],
   "source": [
    "import os\n",
    "import glob\n",
    "\n",
    "os.chdir(\"/Users/gfotiadis/programming/sigmod/datasets/created/with_details/\")\n",
    "extension = 'csv'\n",
    "all_filenames = [i for i in glob.glob('*.{}'.format(extension))]\n",
    "combined_csv = pd.concat([pd.read_csv(f, header = 0) for f in all_filenames ])\n",
    "#export to csv\n",
    "combined_csv.to_csv( \"/Users/gfotiadis/programming/sigmod/datasets/created/with_details/combined_csv.csv\", index=False, encoding='utf-8-sig')"
   ]
  },
  {
   "cell_type": "code",
   "execution_count": 96,
   "metadata": {},
   "outputs": [
    {
     "data": {
      "text/plain": [
       "574100"
      ]
     },
     "execution_count": 96,
     "metadata": {},
     "output_type": "execute_result"
    }
   ],
   "source": [
    "len(combined_csv)"
   ]
  },
  {
   "cell_type": "code",
   "execution_count": null,
   "metadata": {},
   "outputs": [],
   "source": [
    "# old 15100"
   ]
  },
  {
   "cell_type": "code",
   "execution_count": null,
   "metadata": {},
   "outputs": [],
   "source": [
    "# target 600,212"
   ]
  }
 ],
 "metadata": {
  "kernelspec": {
   "display_name": "Python 3",
   "language": "python",
   "name": "python3"
  },
  "language_info": {
   "codemirror_mode": {
    "name": "ipython",
    "version": 3
   },
   "file_extension": ".py",
   "mimetype": "text/x-python",
   "name": "python",
   "nbconvert_exporter": "python",
   "pygments_lexer": "ipython3",
   "version": "3.7.3"
  }
 },
 "nbformat": 4,
 "nbformat_minor": 4
}
