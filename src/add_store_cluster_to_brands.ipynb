{
 "cells": [
  {
   "cell_type": "code",
   "execution_count": 1,
   "metadata": {},
   "outputs": [],
   "source": [
    "import os\n",
    "import numpy as np\n",
    "import json\n",
    "import pandas as pd\n",
    "import itertools\n",
    "from tqdm import tqdm\n",
    "import nltk\n",
    "from nltk.tokenize import word_tokenize\n",
    "import matplotlib.pyplot as plt\n",
    "import re"
   ]
  },
  {
   "cell_type": "code",
   "execution_count": 2,
   "metadata": {},
   "outputs": [],
   "source": [
    "df_alibaba = pd.read_csv(\"/Users/gfotiadis/programming/sigmod/src/matches.csv\")"
   ]
  },
  {
   "cell_type": "code",
   "execution_count": 3,
   "metadata": {},
   "outputs": [
    {
     "data": {
      "text/html": [
       "<div>\n",
       "<style scoped>\n",
       "    .dataframe tbody tr th:only-of-type {\n",
       "        vertical-align: middle;\n",
       "    }\n",
       "\n",
       "    .dataframe tbody tr th {\n",
       "        vertical-align: top;\n",
       "    }\n",
       "\n",
       "    .dataframe thead th {\n",
       "        text-align: right;\n",
       "    }\n",
       "</style>\n",
       "<table border=\"1\" class=\"dataframe\">\n",
       "  <thead>\n",
       "    <tr style=\"text-align: right;\">\n",
       "      <th></th>\n",
       "      <th>left_spec_id</th>\n",
       "      <th>right_spec_id</th>\n",
       "    </tr>\n",
       "  </thead>\n",
       "  <tbody>\n",
       "    <tr>\n",
       "      <th>0</th>\n",
       "      <td>www.wexphotographic.com//154</td>\n",
       "      <td>www.wexphotographic.com//181</td>\n",
       "    </tr>\n",
       "    <tr>\n",
       "      <th>1</th>\n",
       "      <td>www.wexphotographic.com//154</td>\n",
       "      <td>www.wexphotographic.com//187</td>\n",
       "    </tr>\n",
       "    <tr>\n",
       "      <th>2</th>\n",
       "      <td>www.henrys.com//76</td>\n",
       "      <td>www.wexphotographic.com//154</td>\n",
       "    </tr>\n",
       "    <tr>\n",
       "      <th>3</th>\n",
       "      <td>www.henrys.com//132</td>\n",
       "      <td>www.wexphotographic.com//154</td>\n",
       "    </tr>\n",
       "    <tr>\n",
       "      <th>4</th>\n",
       "      <td>www.pcconnection.com//12171</td>\n",
       "      <td>www.wexphotographic.com//154</td>\n",
       "    </tr>\n",
       "    <tr>\n",
       "      <th>...</th>\n",
       "      <td>...</td>\n",
       "      <td>...</td>\n",
       "    </tr>\n",
       "    <tr>\n",
       "      <th>903408</th>\n",
       "      <td>www.buzzillions.com//1040</td>\n",
       "      <td>www.buzzillions.com//881</td>\n",
       "    </tr>\n",
       "    <tr>\n",
       "      <th>903409</th>\n",
       "      <td>www.buzzillions.com//2173</td>\n",
       "      <td>www.buzzillions.com//2810</td>\n",
       "    </tr>\n",
       "    <tr>\n",
       "      <th>903410</th>\n",
       "      <td>www.buzzillions.com//2488</td>\n",
       "      <td>www.buzzillions.com//2846</td>\n",
       "    </tr>\n",
       "    <tr>\n",
       "      <th>903411</th>\n",
       "      <td>www.buzzillions.com//2105</td>\n",
       "      <td>www.buzzillions.com//2430</td>\n",
       "    </tr>\n",
       "    <tr>\n",
       "      <th>903412</th>\n",
       "      <td>www.buzzillions.com//2943</td>\n",
       "      <td>www.buzzillions.com//2959</td>\n",
       "    </tr>\n",
       "  </tbody>\n",
       "</table>\n",
       "<p>903413 rows × 2 columns</p>\n",
       "</div>"
      ],
      "text/plain": [
       "                        left_spec_id                 right_spec_id\n",
       "0       www.wexphotographic.com//154  www.wexphotographic.com//181\n",
       "1       www.wexphotographic.com//154  www.wexphotographic.com//187\n",
       "2                 www.henrys.com//76  www.wexphotographic.com//154\n",
       "3                www.henrys.com//132  www.wexphotographic.com//154\n",
       "4        www.pcconnection.com//12171  www.wexphotographic.com//154\n",
       "...                              ...                           ...\n",
       "903408     www.buzzillions.com//1040      www.buzzillions.com//881\n",
       "903409     www.buzzillions.com//2173     www.buzzillions.com//2810\n",
       "903410     www.buzzillions.com//2488     www.buzzillions.com//2846\n",
       "903411     www.buzzillions.com//2105     www.buzzillions.com//2430\n",
       "903412     www.buzzillions.com//2943     www.buzzillions.com//2959\n",
       "\n",
       "[903413 rows x 2 columns]"
      ]
     },
     "execution_count": 3,
     "metadata": {},
     "output_type": "execute_result"
    }
   ],
   "source": [
    "df_alibaba"
   ]
  },
  {
   "cell_type": "code",
   "execution_count": 4,
   "metadata": {},
   "outputs": [],
   "source": [
    "df_brands = pd.read_csv(\"../datasets/created/with_details/combined_csv.csv\")"
   ]
  },
  {
   "cell_type": "code",
   "execution_count": 5,
   "metadata": {},
   "outputs": [
    {
     "data": {
      "text/html": [
       "<div>\n",
       "<style scoped>\n",
       "    .dataframe tbody tr th:only-of-type {\n",
       "        vertical-align: middle;\n",
       "    }\n",
       "\n",
       "    .dataframe tbody tr th {\n",
       "        vertical-align: top;\n",
       "    }\n",
       "\n",
       "    .dataframe thead th {\n",
       "        text-align: right;\n",
       "    }\n",
       "</style>\n",
       "<table border=\"1\" class=\"dataframe\">\n",
       "  <thead>\n",
       "    <tr style=\"text-align: right;\">\n",
       "      <th></th>\n",
       "      <th>left_spec_id</th>\n",
       "      <th>right_spec_id</th>\n",
       "    </tr>\n",
       "  </thead>\n",
       "  <tbody>\n",
       "    <tr>\n",
       "      <th>0</th>\n",
       "      <td>www.price-hunt.com//9855</td>\n",
       "      <td>www.price-hunt.com//9892</td>\n",
       "    </tr>\n",
       "    <tr>\n",
       "      <th>1</th>\n",
       "      <td>www.price-hunt.com//9855</td>\n",
       "      <td>www.shopmania.in//1086</td>\n",
       "    </tr>\n",
       "    <tr>\n",
       "      <th>2</th>\n",
       "      <td>www.price-hunt.com//755</td>\n",
       "      <td>www.price-hunt.com//9855</td>\n",
       "    </tr>\n",
       "    <tr>\n",
       "      <th>3</th>\n",
       "      <td>www.price-hunt.com//755</td>\n",
       "      <td>www.price-hunt.com//9777</td>\n",
       "    </tr>\n",
       "    <tr>\n",
       "      <th>4</th>\n",
       "      <td>www.price-hunt.com//755</td>\n",
       "      <td>www.price-hunt.com//9892</td>\n",
       "    </tr>\n",
       "    <tr>\n",
       "      <th>...</th>\n",
       "      <td>...</td>\n",
       "      <td>...</td>\n",
       "    </tr>\n",
       "    <tr>\n",
       "      <th>605010</th>\n",
       "      <td>www.buzzillions.com//2349</td>\n",
       "      <td>www.priceme.co.nz//1939</td>\n",
       "    </tr>\n",
       "    <tr>\n",
       "      <th>605011</th>\n",
       "      <td>www.buzzillions.com//2349</td>\n",
       "      <td>www.priceme.co.nz//1810</td>\n",
       "    </tr>\n",
       "    <tr>\n",
       "      <th>605012</th>\n",
       "      <td>www.buzzillions.com//2349</td>\n",
       "      <td>www.priceme.co.nz//1693</td>\n",
       "    </tr>\n",
       "    <tr>\n",
       "      <th>605013</th>\n",
       "      <td>www.buzzillions.com//2349</td>\n",
       "      <td>www.priceme.co.nz//78</td>\n",
       "    </tr>\n",
       "    <tr>\n",
       "      <th>605014</th>\n",
       "      <td>www.buzzillions.com//2349</td>\n",
       "      <td>www.buzzillions.com//2868</td>\n",
       "    </tr>\n",
       "  </tbody>\n",
       "</table>\n",
       "<p>605015 rows × 2 columns</p>\n",
       "</div>"
      ],
      "text/plain": [
       "                     left_spec_id              right_spec_id\n",
       "0        www.price-hunt.com//9855   www.price-hunt.com//9892\n",
       "1        www.price-hunt.com//9855     www.shopmania.in//1086\n",
       "2         www.price-hunt.com//755   www.price-hunt.com//9855\n",
       "3         www.price-hunt.com//755   www.price-hunt.com//9777\n",
       "4         www.price-hunt.com//755   www.price-hunt.com//9892\n",
       "...                           ...                        ...\n",
       "605010  www.buzzillions.com//2349    www.priceme.co.nz//1939\n",
       "605011  www.buzzillions.com//2349    www.priceme.co.nz//1810\n",
       "605012  www.buzzillions.com//2349    www.priceme.co.nz//1693\n",
       "605013  www.buzzillions.com//2349      www.priceme.co.nz//78\n",
       "605014  www.buzzillions.com//2349  www.buzzillions.com//2868\n",
       "\n",
       "[605015 rows x 2 columns]"
      ]
     },
     "execution_count": 5,
     "metadata": {},
     "output_type": "execute_result"
    }
   ],
   "source": [
    "df_brands"
   ]
  },
  {
   "cell_type": "code",
   "execution_count": 6,
   "metadata": {},
   "outputs": [],
   "source": [
    "def swap_columns(row):\n",
    "    left = row[\"left_spec_id\"]\n",
    "    right = row[\"right_spec_id\"]\n",
    "    if right < left:\n",
    "        row[\"left_spec_id\"] = right\n",
    "        row[\"right_spec_id\"] = left\n",
    "    return row"
   ]
  },
  {
   "cell_type": "code",
   "execution_count": 8,
   "metadata": {},
   "outputs": [],
   "source": [
    "df_brands = df_brands.apply(swap_columns, axis = 1)"
   ]
  },
  {
   "cell_type": "code",
   "execution_count": 9,
   "metadata": {},
   "outputs": [
    {
     "data": {
      "text/plain": [
       "605015"
      ]
     },
     "execution_count": 9,
     "metadata": {},
     "output_type": "execute_result"
    }
   ],
   "source": [
    "len(df_brands)"
   ]
  },
  {
   "cell_type": "code",
   "execution_count": 10,
   "metadata": {},
   "outputs": [],
   "source": [
    "df_brands = df_brands.drop_duplicates()"
   ]
  },
  {
   "cell_type": "code",
   "execution_count": 11,
   "metadata": {},
   "outputs": [
    {
     "data": {
      "text/plain": [
       "605015"
      ]
     },
     "execution_count": 11,
     "metadata": {},
     "output_type": "execute_result"
    }
   ],
   "source": [
    "len(df_brands)"
   ]
  },
  {
   "cell_type": "code",
   "execution_count": 12,
   "metadata": {},
   "outputs": [],
   "source": [
    "brands_original = len(df_brands)"
   ]
  },
  {
   "cell_type": "code",
   "execution_count": 13,
   "metadata": {},
   "outputs": [],
   "source": [
    "alibaba = len(df_alibaba)"
   ]
  },
  {
   "cell_type": "code",
   "execution_count": 14,
   "metadata": {},
   "outputs": [],
   "source": [
    "merged = pd.concat([df_brands, df_alibaba])"
   ]
  },
  {
   "cell_type": "code",
   "execution_count": 15,
   "metadata": {},
   "outputs": [],
   "source": [
    "len_merged = len(merged)"
   ]
  },
  {
   "cell_type": "code",
   "execution_count": 16,
   "metadata": {},
   "outputs": [
    {
     "data": {
      "text/plain": [
       "1508428"
      ]
     },
     "execution_count": 16,
     "metadata": {},
     "output_type": "execute_result"
    }
   ],
   "source": [
    "len_merged"
   ]
  },
  {
   "cell_type": "code",
   "execution_count": 17,
   "metadata": {},
   "outputs": [],
   "source": [
    "merged = merged.drop_duplicates()"
   ]
  },
  {
   "cell_type": "code",
   "execution_count": 18,
   "metadata": {},
   "outputs": [
    {
     "data": {
      "text/plain": [
       "1162452"
      ]
     },
     "execution_count": 18,
     "metadata": {},
     "output_type": "execute_result"
    }
   ],
   "source": [
    "len(merged)"
   ]
  },
  {
   "cell_type": "code",
   "execution_count": 19,
   "metadata": {},
   "outputs": [
    {
     "data": {
      "text/plain": [
       "557437"
      ]
     },
     "execution_count": 19,
     "metadata": {},
     "output_type": "execute_result"
    }
   ],
   "source": [
    "len(merged) - brands_original"
   ]
  },
  {
   "cell_type": "code",
   "execution_count": 20,
   "metadata": {},
   "outputs": [
    {
     "data": {
      "text/html": [
       "<div>\n",
       "<style scoped>\n",
       "    .dataframe tbody tr th:only-of-type {\n",
       "        vertical-align: middle;\n",
       "    }\n",
       "\n",
       "    .dataframe tbody tr th {\n",
       "        vertical-align: top;\n",
       "    }\n",
       "\n",
       "    .dataframe thead th {\n",
       "        text-align: right;\n",
       "    }\n",
       "</style>\n",
       "<table border=\"1\" class=\"dataframe\">\n",
       "  <thead>\n",
       "    <tr style=\"text-align: right;\">\n",
       "      <th></th>\n",
       "      <th>left_spec_id</th>\n",
       "      <th>right_spec_id</th>\n",
       "    </tr>\n",
       "  </thead>\n",
       "  <tbody>\n",
       "    <tr>\n",
       "      <th>0</th>\n",
       "      <td>www.price-hunt.com//9855</td>\n",
       "      <td>www.price-hunt.com//9892</td>\n",
       "    </tr>\n",
       "    <tr>\n",
       "      <th>1</th>\n",
       "      <td>www.price-hunt.com//9855</td>\n",
       "      <td>www.shopmania.in//1086</td>\n",
       "    </tr>\n",
       "    <tr>\n",
       "      <th>2</th>\n",
       "      <td>www.price-hunt.com//755</td>\n",
       "      <td>www.price-hunt.com//9855</td>\n",
       "    </tr>\n",
       "    <tr>\n",
       "      <th>3</th>\n",
       "      <td>www.price-hunt.com//755</td>\n",
       "      <td>www.price-hunt.com//9777</td>\n",
       "    </tr>\n",
       "    <tr>\n",
       "      <th>4</th>\n",
       "      <td>www.price-hunt.com//755</td>\n",
       "      <td>www.price-hunt.com//9892</td>\n",
       "    </tr>\n",
       "    <tr>\n",
       "      <th>...</th>\n",
       "      <td>...</td>\n",
       "      <td>...</td>\n",
       "    </tr>\n",
       "    <tr>\n",
       "      <th>903372</th>\n",
       "      <td>www.buzzillions.com//903</td>\n",
       "      <td>www.buzzillions.com//994</td>\n",
       "    </tr>\n",
       "    <tr>\n",
       "      <th>903394</th>\n",
       "      <td>www.buzzillions.com//2118</td>\n",
       "      <td>www.buzzillions.com//2421</td>\n",
       "    </tr>\n",
       "    <tr>\n",
       "      <th>903395</th>\n",
       "      <td>www.buzzillions.com//2118</td>\n",
       "      <td>www.buzzillions.com//2787</td>\n",
       "    </tr>\n",
       "    <tr>\n",
       "      <th>903396</th>\n",
       "      <td>www.buzzillions.com//2421</td>\n",
       "      <td>www.buzzillions.com//2787</td>\n",
       "    </tr>\n",
       "    <tr>\n",
       "      <th>903408</th>\n",
       "      <td>www.buzzillions.com//1040</td>\n",
       "      <td>www.buzzillions.com//881</td>\n",
       "    </tr>\n",
       "  </tbody>\n",
       "</table>\n",
       "<p>1162452 rows × 2 columns</p>\n",
       "</div>"
      ],
      "text/plain": [
       "                     left_spec_id              right_spec_id\n",
       "0        www.price-hunt.com//9855   www.price-hunt.com//9892\n",
       "1        www.price-hunt.com//9855     www.shopmania.in//1086\n",
       "2         www.price-hunt.com//755   www.price-hunt.com//9855\n",
       "3         www.price-hunt.com//755   www.price-hunt.com//9777\n",
       "4         www.price-hunt.com//755   www.price-hunt.com//9892\n",
       "...                           ...                        ...\n",
       "903372   www.buzzillions.com//903   www.buzzillions.com//994\n",
       "903394  www.buzzillions.com//2118  www.buzzillions.com//2421\n",
       "903395  www.buzzillions.com//2118  www.buzzillions.com//2787\n",
       "903396  www.buzzillions.com//2421  www.buzzillions.com//2787\n",
       "903408  www.buzzillions.com//1040   www.buzzillions.com//881\n",
       "\n",
       "[1162452 rows x 2 columns]"
      ]
     },
     "execution_count": 20,
     "metadata": {},
     "output_type": "execute_result"
    }
   ],
   "source": [
    "merged"
   ]
  },
  {
   "cell_type": "code",
   "execution_count": 21,
   "metadata": {},
   "outputs": [],
   "source": [
    "merged.to_csv(\"/Users/gfotiadis/programming/sigmod/src/matches_with_per_brand.csv\", index=False)"
   ]
  },
  {
   "cell_type": "code",
   "execution_count": null,
   "metadata": {},
   "outputs": [],
   "source": []
  }
 ],
 "metadata": {
  "kernelspec": {
   "display_name": "Python 3",
   "language": "python",
   "name": "python3"
  },
  "language_info": {
   "codemirror_mode": {
    "name": "ipython",
    "version": 3
   },
   "file_extension": ".py",
   "mimetype": "text/x-python",
   "name": "python",
   "nbconvert_exporter": "python",
   "pygments_lexer": "ipython3",
   "version": "3.7.3"
  }
 },
 "nbformat": 4,
 "nbformat_minor": 4
}
