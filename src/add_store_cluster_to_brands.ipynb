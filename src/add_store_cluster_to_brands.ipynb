{
 "cells": [
  {
   "cell_type": "code",
   "execution_count": 1,
   "metadata": {},
   "outputs": [],
   "source": [
    "import os\n",
    "import numpy as np\n",
    "import json\n",
    "import pandas as pd\n",
    "import itertools\n",
    "from tqdm import tqdm\n",
    "import nltk\n",
    "from nltk.tokenize import word_tokenize\n",
    "import matplotlib.pyplot as plt\n",
    "import re"
   ]
  },
  {
   "cell_type": "code",
   "execution_count": 2,
   "metadata": {},
   "outputs": [],
   "source": [
    "df_alibaba = pd.read_csv(\"alibaba.csv\")"
   ]
  },
  {
   "cell_type": "code",
   "execution_count": 3,
   "metadata": {},
   "outputs": [
    {
     "data": {
      "text/html": [
       "<div>\n",
       "<style scoped>\n",
       "    .dataframe tbody tr th:only-of-type {\n",
       "        vertical-align: middle;\n",
       "    }\n",
       "\n",
       "    .dataframe tbody tr th {\n",
       "        vertical-align: top;\n",
       "    }\n",
       "\n",
       "    .dataframe thead th {\n",
       "        text-align: right;\n",
       "    }\n",
       "</style>\n",
       "<table border=\"1\" class=\"dataframe\">\n",
       "  <thead>\n",
       "    <tr style=\"text-align: right;\">\n",
       "      <th></th>\n",
       "      <th>left_spec_id</th>\n",
       "      <th>right_spec_id</th>\n",
       "    </tr>\n",
       "  </thead>\n",
       "  <tbody>\n",
       "    <tr>\n",
       "      <th>0</th>\n",
       "      <td>www.alibaba.com//29289</td>\n",
       "      <td>www.alibaba.com//34993</td>\n",
       "    </tr>\n",
       "    <tr>\n",
       "      <th>1</th>\n",
       "      <td>www.alibaba.com//29289</td>\n",
       "      <td>www.alibaba.com//34233</td>\n",
       "    </tr>\n",
       "    <tr>\n",
       "      <th>2</th>\n",
       "      <td>www.alibaba.com//29289</td>\n",
       "      <td>www.alibaba.com//35658</td>\n",
       "    </tr>\n",
       "    <tr>\n",
       "      <th>3</th>\n",
       "      <td>www.alibaba.com//29289</td>\n",
       "      <td>www.alibaba.com//5601</td>\n",
       "    </tr>\n",
       "    <tr>\n",
       "      <th>4</th>\n",
       "      <td>www.alibaba.com//29289</td>\n",
       "      <td>www.alibaba.com//36560</td>\n",
       "    </tr>\n",
       "    <tr>\n",
       "      <th>...</th>\n",
       "      <td>...</td>\n",
       "      <td>...</td>\n",
       "    </tr>\n",
       "    <tr>\n",
       "      <th>850119</th>\n",
       "      <td>www.alibaba.com//29422</td>\n",
       "      <td>www.alibaba.com//29520</td>\n",
       "    </tr>\n",
       "    <tr>\n",
       "      <th>850120</th>\n",
       "      <td>www.alibaba.com//29422</td>\n",
       "      <td>www.alibaba.com//34968</td>\n",
       "    </tr>\n",
       "    <tr>\n",
       "      <th>850121</th>\n",
       "      <td>www.alibaba.com//29422</td>\n",
       "      <td>www.alibaba.com//35088</td>\n",
       "    </tr>\n",
       "    <tr>\n",
       "      <th>850122</th>\n",
       "      <td>www.alibaba.com//29422</td>\n",
       "      <td>www.alibaba.com//33310</td>\n",
       "    </tr>\n",
       "    <tr>\n",
       "      <th>850123</th>\n",
       "      <td>www.alibaba.com//29422</td>\n",
       "      <td>www.alibaba.com//30029</td>\n",
       "    </tr>\n",
       "  </tbody>\n",
       "</table>\n",
       "<p>850124 rows × 2 columns</p>\n",
       "</div>"
      ],
      "text/plain": [
       "                  left_spec_id           right_spec_id\n",
       "0       www.alibaba.com//29289  www.alibaba.com//34993\n",
       "1       www.alibaba.com//29289  www.alibaba.com//34233\n",
       "2       www.alibaba.com//29289  www.alibaba.com//35658\n",
       "3       www.alibaba.com//29289   www.alibaba.com//5601\n",
       "4       www.alibaba.com//29289  www.alibaba.com//36560\n",
       "...                        ...                     ...\n",
       "850119  www.alibaba.com//29422  www.alibaba.com//29520\n",
       "850120  www.alibaba.com//29422  www.alibaba.com//34968\n",
       "850121  www.alibaba.com//29422  www.alibaba.com//35088\n",
       "850122  www.alibaba.com//29422  www.alibaba.com//33310\n",
       "850123  www.alibaba.com//29422  www.alibaba.com//30029\n",
       "\n",
       "[850124 rows x 2 columns]"
      ]
     },
     "execution_count": 3,
     "metadata": {},
     "output_type": "execute_result"
    }
   ],
   "source": [
    "df_alibaba"
   ]
  },
  {
   "cell_type": "code",
   "execution_count": 4,
   "metadata": {},
   "outputs": [],
   "source": [
    "df_brands = pd.read_csv(\"../datasets/created/with_details/combined_csv.csv\")"
   ]
  },
  {
   "cell_type": "code",
   "execution_count": 5,
   "metadata": {},
   "outputs": [
    {
     "data": {
      "text/html": [
       "<div>\n",
       "<style scoped>\n",
       "    .dataframe tbody tr th:only-of-type {\n",
       "        vertical-align: middle;\n",
       "    }\n",
       "\n",
       "    .dataframe tbody tr th {\n",
       "        vertical-align: top;\n",
       "    }\n",
       "\n",
       "    .dataframe thead th {\n",
       "        text-align: right;\n",
       "    }\n",
       "</style>\n",
       "<table border=\"1\" class=\"dataframe\">\n",
       "  <thead>\n",
       "    <tr style=\"text-align: right;\">\n",
       "      <th></th>\n",
       "      <th>left_spec_id</th>\n",
       "      <th>right_spec_id</th>\n",
       "    </tr>\n",
       "  </thead>\n",
       "  <tbody>\n",
       "    <tr>\n",
       "      <th>0</th>\n",
       "      <td>www.price-hunt.com//9855</td>\n",
       "      <td>www.price-hunt.com//9892</td>\n",
       "    </tr>\n",
       "    <tr>\n",
       "      <th>1</th>\n",
       "      <td>www.price-hunt.com//9855</td>\n",
       "      <td>www.shopmania.in//1086</td>\n",
       "    </tr>\n",
       "    <tr>\n",
       "      <th>2</th>\n",
       "      <td>www.price-hunt.com//755</td>\n",
       "      <td>www.price-hunt.com//9855</td>\n",
       "    </tr>\n",
       "    <tr>\n",
       "      <th>3</th>\n",
       "      <td>www.price-hunt.com//755</td>\n",
       "      <td>www.price-hunt.com//9777</td>\n",
       "    </tr>\n",
       "    <tr>\n",
       "      <th>4</th>\n",
       "      <td>www.price-hunt.com//755</td>\n",
       "      <td>www.price-hunt.com//9892</td>\n",
       "    </tr>\n",
       "    <tr>\n",
       "      <th>...</th>\n",
       "      <td>...</td>\n",
       "      <td>...</td>\n",
       "    </tr>\n",
       "    <tr>\n",
       "      <th>605010</th>\n",
       "      <td>www.buzzillions.com//2349</td>\n",
       "      <td>www.priceme.co.nz//1939</td>\n",
       "    </tr>\n",
       "    <tr>\n",
       "      <th>605011</th>\n",
       "      <td>www.buzzillions.com//2349</td>\n",
       "      <td>www.priceme.co.nz//1810</td>\n",
       "    </tr>\n",
       "    <tr>\n",
       "      <th>605012</th>\n",
       "      <td>www.buzzillions.com//2349</td>\n",
       "      <td>www.priceme.co.nz//1693</td>\n",
       "    </tr>\n",
       "    <tr>\n",
       "      <th>605013</th>\n",
       "      <td>www.buzzillions.com//2349</td>\n",
       "      <td>www.priceme.co.nz//78</td>\n",
       "    </tr>\n",
       "    <tr>\n",
       "      <th>605014</th>\n",
       "      <td>www.buzzillions.com//2349</td>\n",
       "      <td>www.buzzillions.com//2868</td>\n",
       "    </tr>\n",
       "  </tbody>\n",
       "</table>\n",
       "<p>605015 rows × 2 columns</p>\n",
       "</div>"
      ],
      "text/plain": [
       "                     left_spec_id              right_spec_id\n",
       "0        www.price-hunt.com//9855   www.price-hunt.com//9892\n",
       "1        www.price-hunt.com//9855     www.shopmania.in//1086\n",
       "2         www.price-hunt.com//755   www.price-hunt.com//9855\n",
       "3         www.price-hunt.com//755   www.price-hunt.com//9777\n",
       "4         www.price-hunt.com//755   www.price-hunt.com//9892\n",
       "...                           ...                        ...\n",
       "605010  www.buzzillions.com//2349    www.priceme.co.nz//1939\n",
       "605011  www.buzzillions.com//2349    www.priceme.co.nz//1810\n",
       "605012  www.buzzillions.com//2349    www.priceme.co.nz//1693\n",
       "605013  www.buzzillions.com//2349      www.priceme.co.nz//78\n",
       "605014  www.buzzillions.com//2349  www.buzzillions.com//2868\n",
       "\n",
       "[605015 rows x 2 columns]"
      ]
     },
     "execution_count": 5,
     "metadata": {},
     "output_type": "execute_result"
    }
   ],
   "source": [
    "df_brands"
   ]
  },
  {
   "cell_type": "code",
   "execution_count": 6,
   "metadata": {},
   "outputs": [],
   "source": [
    "brands_original = len(df_brands)"
   ]
  },
  {
   "cell_type": "code",
   "execution_count": 7,
   "metadata": {},
   "outputs": [],
   "source": [
    "alibaba = len(df_alibaba)"
   ]
  },
  {
   "cell_type": "code",
   "execution_count": 8,
   "metadata": {},
   "outputs": [],
   "source": [
    "merged = pd.concat([df_brands, df_alibaba])"
   ]
  },
  {
   "cell_type": "code",
   "execution_count": 9,
   "metadata": {},
   "outputs": [],
   "source": [
    "len_merged = len(merged)"
   ]
  },
  {
   "cell_type": "code",
   "execution_count": 10,
   "metadata": {},
   "outputs": [],
   "source": [
    "merged = merged.drop_duplicates()"
   ]
  },
  {
   "cell_type": "code",
   "execution_count": 11,
   "metadata": {},
   "outputs": [
    {
     "data": {
      "text/plain": [
       "687589"
      ]
     },
     "execution_count": 11,
     "metadata": {},
     "output_type": "execute_result"
    }
   ],
   "source": [
    "len(merged) - brands_original"
   ]
  },
  {
   "cell_type": "code",
   "execution_count": 12,
   "metadata": {},
   "outputs": [
    {
     "data": {
      "text/html": [
       "<div>\n",
       "<style scoped>\n",
       "    .dataframe tbody tr th:only-of-type {\n",
       "        vertical-align: middle;\n",
       "    }\n",
       "\n",
       "    .dataframe tbody tr th {\n",
       "        vertical-align: top;\n",
       "    }\n",
       "\n",
       "    .dataframe thead th {\n",
       "        text-align: right;\n",
       "    }\n",
       "</style>\n",
       "<table border=\"1\" class=\"dataframe\">\n",
       "  <thead>\n",
       "    <tr style=\"text-align: right;\">\n",
       "      <th></th>\n",
       "      <th>left_spec_id</th>\n",
       "      <th>right_spec_id</th>\n",
       "    </tr>\n",
       "  </thead>\n",
       "  <tbody>\n",
       "    <tr>\n",
       "      <th>0</th>\n",
       "      <td>www.price-hunt.com//9855</td>\n",
       "      <td>www.price-hunt.com//9892</td>\n",
       "    </tr>\n",
       "    <tr>\n",
       "      <th>1</th>\n",
       "      <td>www.price-hunt.com//9855</td>\n",
       "      <td>www.shopmania.in//1086</td>\n",
       "    </tr>\n",
       "    <tr>\n",
       "      <th>2</th>\n",
       "      <td>www.price-hunt.com//755</td>\n",
       "      <td>www.price-hunt.com//9855</td>\n",
       "    </tr>\n",
       "    <tr>\n",
       "      <th>3</th>\n",
       "      <td>www.price-hunt.com//755</td>\n",
       "      <td>www.price-hunt.com//9777</td>\n",
       "    </tr>\n",
       "    <tr>\n",
       "      <th>4</th>\n",
       "      <td>www.price-hunt.com//755</td>\n",
       "      <td>www.price-hunt.com//9892</td>\n",
       "    </tr>\n",
       "    <tr>\n",
       "      <th>...</th>\n",
       "      <td>...</td>\n",
       "      <td>...</td>\n",
       "    </tr>\n",
       "    <tr>\n",
       "      <th>850119</th>\n",
       "      <td>www.alibaba.com//29422</td>\n",
       "      <td>www.alibaba.com//29520</td>\n",
       "    </tr>\n",
       "    <tr>\n",
       "      <th>850120</th>\n",
       "      <td>www.alibaba.com//29422</td>\n",
       "      <td>www.alibaba.com//34968</td>\n",
       "    </tr>\n",
       "    <tr>\n",
       "      <th>850121</th>\n",
       "      <td>www.alibaba.com//29422</td>\n",
       "      <td>www.alibaba.com//35088</td>\n",
       "    </tr>\n",
       "    <tr>\n",
       "      <th>850122</th>\n",
       "      <td>www.alibaba.com//29422</td>\n",
       "      <td>www.alibaba.com//33310</td>\n",
       "    </tr>\n",
       "    <tr>\n",
       "      <th>850123</th>\n",
       "      <td>www.alibaba.com//29422</td>\n",
       "      <td>www.alibaba.com//30029</td>\n",
       "    </tr>\n",
       "  </tbody>\n",
       "</table>\n",
       "<p>1292604 rows × 2 columns</p>\n",
       "</div>"
      ],
      "text/plain": [
       "                    left_spec_id             right_spec_id\n",
       "0       www.price-hunt.com//9855  www.price-hunt.com//9892\n",
       "1       www.price-hunt.com//9855    www.shopmania.in//1086\n",
       "2        www.price-hunt.com//755  www.price-hunt.com//9855\n",
       "3        www.price-hunt.com//755  www.price-hunt.com//9777\n",
       "4        www.price-hunt.com//755  www.price-hunt.com//9892\n",
       "...                          ...                       ...\n",
       "850119    www.alibaba.com//29422    www.alibaba.com//29520\n",
       "850120    www.alibaba.com//29422    www.alibaba.com//34968\n",
       "850121    www.alibaba.com//29422    www.alibaba.com//35088\n",
       "850122    www.alibaba.com//29422    www.alibaba.com//33310\n",
       "850123    www.alibaba.com//29422    www.alibaba.com//30029\n",
       "\n",
       "[1292604 rows x 2 columns]"
      ]
     },
     "execution_count": 12,
     "metadata": {},
     "output_type": "execute_result"
    }
   ],
   "source": [
    "merged"
   ]
  },
  {
   "cell_type": "code",
   "execution_count": null,
   "metadata": {},
   "outputs": [],
   "source": []
  },
  {
   "cell_type": "code",
   "execution_count": 13,
   "metadata": {},
   "outputs": [],
   "source": [
    "merged.to_csv(\"with_alibaba.csv\", index=False)"
   ]
  },
  {
   "cell_type": "code",
   "execution_count": null,
   "metadata": {},
   "outputs": [],
   "source": []
  }
 ],
 "metadata": {
  "kernelspec": {
   "display_name": "Python 3",
   "language": "python",
   "name": "python3"
  },
  "language_info": {
   "codemirror_mode": {
    "name": "ipython",
    "version": 3
   },
   "file_extension": ".py",
   "mimetype": "text/x-python",
   "name": "python",
   "nbconvert_exporter": "python",
   "pygments_lexer": "ipython3",
   "version": "3.7.3"
  }
 },
 "nbformat": 4,
 "nbformat_minor": 4
}
