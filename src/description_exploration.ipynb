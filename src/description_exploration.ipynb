{
 "cells": [
  {
   "cell_type": "code",
   "execution_count": 1,
   "metadata": {},
   "outputs": [],
   "source": [
    "import os\n",
    "import numpy as np\n",
    "import json\n",
    "import pandas as pd\n",
    "import itertools\n",
    "from tqdm import tqdm\n",
    "import nltk\n",
    "\n",
    "import matplotlib.pyplot as plt"
   ]
  },
  {
   "cell_type": "code",
   "execution_count": 10,
   "metadata": {},
   "outputs": [],
   "source": [
    "def create_dataframe(dataset_path, source):\n",
    "    \"\"\"Function used to create a Pandas DataFrame containing specifications page titles\n",
    "\n",
    "    Reads products specifications from the file system (\"dataset_path\" variable in the main function) and creates a Pandas DataFrame where each row is a\n",
    "    specification. The columns are 'source' (e.g. www.sourceA.com), 'spec_number' (e.g. 1) and the 'page title'. Note that this script will consider only\n",
    "    the page title attribute for simplicity.\n",
    "\n",
    "    Args:\n",
    "        dataset_path (str): The path to the dataset\n",
    "\n",
    "    Returns:\n",
    "        df (pd.DataFrame): The Pandas DataFrame containing specifications and page titles\n",
    "    \"\"\"\n",
    "\n",
    "    print('>>> Creating dataframe...\\n')\n",
    "    columns_df = ['source', 'spec_number', 'spec_id', 'page_title']\n",
    "    \n",
    "    df = pd.DataFrame()\n",
    "    progressive_id = 0\n",
    "    progressive_id2row_df = {}\n",
    "    #for source in tqdm(os.listdir(dataset_path)):\n",
    "    #source = \"buy.net\"\n",
    "    for specification in os.listdir(os.path.join(dataset_path, source)):\n",
    "        specification_number = specification.replace('.json', '')\n",
    "        specification_id = '{}//{}'.format(source, specification_number)\n",
    "        with open(os.path.join(dataset_path, source, specification)) as specification_file:\n",
    "            columns_df = ['source', 'spec_number', 'spec_id']\n",
    "            specification_data = json.load(specification_file)\n",
    "            attrs = []\n",
    "            for k, v in specification_data.items():\n",
    "                columns_df.append(k)\n",
    "                attrs.append(v)\n",
    "            row = [source, specification_number, specification_id]\n",
    "            row.extend(attrs)\n",
    "            progressive_id2row_df.update({progressive_id: row})\n",
    "            progressive_id += 1\n",
    "            df = df.append(pd.DataFrame.from_dict(progressive_id2row_df, orient='index', columns=columns_df))\n",
    "            progressive_id2row_df = {}\n",
    "    #print(df)\n",
    "    print('>>> Dataframe created successfully!\\n')\n",
    "    df = df.isna().sum().sort_values()[:20].keys()\n",
    "    return df"
   ]
  },
  {
   "cell_type": "code",
   "execution_count": 3,
   "metadata": {
    "collapsed": true,
    "jupyter": {
     "outputs_hidden": true
    }
   },
   "outputs": [
    {
     "name": "stderr",
     "output_type": "stream",
     "text": [
      "  0%|          | 0/358 [00:00<?, ?it/s]/Users/gfotiadis/anaconda3/lib/python3.7/site-packages/pandas/core/frame.py:6692: FutureWarning: Sorting because non-concatenation axis is not aligned. A future version\n",
      "of pandas will change to not sort by default.\n",
      "\n",
      "To accept the future behavior, pass 'sort=False'.\n",
      "\n",
      "To retain the current behavior and silence the warning, pass 'sort=True'.\n",
      "\n",
      "  sort=sort)\n",
      "  2%|▏         | 8/358 [00:00<00:04, 71.03it/s]"
     ]
    },
    {
     "name": "stdout",
     "output_type": "stream",
     "text": [
      ">>> Creating dataframe...\n",
      "\n"
     ]
    },
    {
     "name": "stderr",
     "output_type": "stream",
     "text": [
      "100%|██████████| 358/358 [00:08<00:00, 41.13it/s]"
     ]
    },
    {
     "name": "stdout",
     "output_type": "stream",
     "text": [
      ">>> Dataframe created successfully!\n",
      "\n"
     ]
    },
    {
     "name": "stderr",
     "output_type": "stream",
     "text": [
      "\n"
     ]
    }
   ],
   "source": [
    "most_freq_columns_buy = create_dataframe('../datasets/unlabeled/2013_camera_specs', \"buy.net\")"
   ]
  },
  {
   "cell_type": "code",
   "execution_count": 5,
   "metadata": {
    "collapsed": true,
    "jupyter": {
     "outputs_hidden": true
    }
   },
   "outputs": [
    {
     "name": "stderr",
     "output_type": "stream",
     "text": [
      "\n",
      "  0%|          | 0/1002 [00:00<?, ?it/s]\u001b[A\n",
      "  1%|          | 8/1002 [00:00<00:12, 77.58it/s]\u001b[A"
     ]
    },
    {
     "name": "stdout",
     "output_type": "stream",
     "text": [
      ">>> Creating dataframe...\n",
      "\n"
     ]
    },
    {
     "name": "stderr",
     "output_type": "stream",
     "text": [
      "\n",
      "  2%|▏         | 16/1002 [00:00<00:12, 77.34it/s]\u001b[A\n",
      "  2%|▏         | 24/1002 [00:00<00:12, 78.10it/s]\u001b[A\n",
      "  3%|▎         | 33/1002 [00:00<00:12, 79.66it/s]\u001b[A\n",
      "  4%|▍         | 42/1002 [00:00<00:11, 82.32it/s]\u001b[A\n",
      "  5%|▌         | 52/1002 [00:00<00:10, 86.37it/s]\u001b[A\n",
      "  6%|▋         | 63/1002 [00:00<00:10, 90.76it/s]\u001b[A\n",
      "  7%|▋         | 73/1002 [00:00<00:10, 91.35it/s]\u001b[A\n",
      "  8%|▊         | 82/1002 [00:00<00:10, 90.66it/s]\u001b[A\n",
      "  9%|▉         | 91/1002 [00:01<00:10, 90.44it/s]\u001b[A\n",
      " 10%|█         | 101/1002 [00:01<00:09, 92.67it/s]\u001b[A\n",
      " 11%|█         | 111/1002 [00:01<00:09, 93.19it/s]\u001b[A\n",
      " 12%|█▏        | 121/1002 [00:01<00:09, 92.52it/s]\u001b[A\n",
      " 13%|█▎        | 131/1002 [00:01<00:09, 91.17it/s]\u001b[A\n",
      " 14%|█▍        | 141/1002 [00:01<00:09, 90.68it/s]\u001b[A\n",
      " 15%|█▌        | 151/1002 [00:01<00:09, 89.30it/s]\u001b[A\n",
      " 16%|█▌        | 161/1002 [00:01<00:09, 90.86it/s]\u001b[A\n",
      " 17%|█▋        | 171/1002 [00:01<00:09, 88.23it/s]\u001b[A\n",
      " 18%|█▊        | 180/1002 [00:02<00:09, 84.50it/s]\u001b[A\n",
      " 19%|█▉        | 189/1002 [00:02<00:09, 81.77it/s]\u001b[A\n",
      " 20%|█▉        | 198/1002 [00:02<00:10, 78.69it/s]\u001b[A\n",
      " 21%|██        | 208/1002 [00:02<00:09, 82.75it/s]\u001b[A\n",
      " 22%|██▏       | 217/1002 [00:02<00:10, 76.40it/s]\u001b[A\n",
      " 22%|██▏       | 225/1002 [00:02<00:14, 52.57it/s]\u001b[A\n",
      " 23%|██▎       | 232/1002 [00:02<00:13, 55.54it/s]\u001b[A\n",
      " 24%|██▍       | 239/1002 [00:03<00:16, 44.96it/s]\u001b[A\n",
      " 25%|██▍       | 246/1002 [00:03<00:15, 49.63it/s]\u001b[A\n",
      " 25%|██▌       | 254/1002 [00:03<00:13, 54.91it/s]\u001b[A\n",
      " 26%|██▌       | 261/1002 [00:03<00:13, 56.09it/s]\u001b[A\n",
      " 27%|██▋       | 268/1002 [00:03<00:12, 59.33it/s]\u001b[A\n",
      " 27%|██▋       | 275/1002 [00:03<00:12, 60.41it/s]\u001b[A\n",
      " 28%|██▊       | 282/1002 [00:03<00:11, 62.17it/s]\u001b[A\n",
      " 29%|██▉       | 289/1002 [00:03<00:11, 62.01it/s]\u001b[A\n",
      " 30%|██▉       | 296/1002 [00:03<00:11, 63.26it/s]\u001b[A\n",
      " 30%|███       | 304/1002 [00:04<00:10, 66.45it/s]\u001b[A\n",
      " 31%|███       | 312/1002 [00:04<00:09, 69.11it/s]\u001b[A\n",
      " 32%|███▏      | 320/1002 [00:04<00:09, 71.24it/s]\u001b[A\n",
      " 33%|███▎      | 328/1002 [00:04<00:09, 71.71it/s]\u001b[A\n",
      " 34%|███▎      | 336/1002 [00:04<00:09, 72.49it/s]\u001b[A\n",
      " 34%|███▍      | 344/1002 [00:04<00:09, 72.78it/s]\u001b[A\n",
      " 35%|███▌      | 352/1002 [00:04<00:08, 72.93it/s]\u001b[A\n",
      " 36%|███▌      | 360/1002 [00:04<00:08, 73.09it/s]\u001b[A\n",
      " 37%|███▋      | 368/1002 [00:04<00:08, 73.86it/s]\u001b[A\n",
      " 38%|███▊      | 376/1002 [00:05<00:08, 74.43it/s]\u001b[A\n",
      " 38%|███▊      | 384/1002 [00:05<00:10, 59.15it/s]\u001b[A\n",
      " 39%|███▉      | 391/1002 [00:05<00:12, 48.22it/s]\u001b[A\n",
      " 40%|███▉      | 399/1002 [00:05<00:11, 53.83it/s]\u001b[A\n",
      " 41%|████      | 407/1002 [00:05<00:10, 58.11it/s]\u001b[A\n",
      " 41%|████▏     | 415/1002 [00:05<00:09, 62.77it/s]\u001b[A\n",
      " 42%|████▏     | 422/1002 [00:05<00:08, 64.64it/s]\u001b[A\n",
      " 43%|████▎     | 429/1002 [00:06<00:09, 60.62it/s]\u001b[A\n",
      " 44%|████▎     | 436/1002 [00:06<00:09, 58.67it/s]\u001b[A\n",
      " 44%|████▍     | 443/1002 [00:06<00:09, 58.83it/s]\u001b[A\n",
      " 45%|████▍     | 450/1002 [00:06<00:09, 59.99it/s]\u001b[A\n",
      " 46%|████▌     | 458/1002 [00:06<00:08, 62.57it/s]\u001b[A\n",
      " 47%|████▋     | 466/1002 [00:06<00:08, 66.21it/s]\u001b[A\n",
      " 47%|████▋     | 474/1002 [00:06<00:07, 68.30it/s]\u001b[A\n",
      " 48%|████▊     | 481/1002 [00:06<00:07, 66.60it/s]\u001b[A\n",
      " 49%|████▊     | 488/1002 [00:06<00:07, 67.40it/s]\u001b[A\n",
      " 50%|████▉     | 496/1002 [00:07<00:07, 69.09it/s]\u001b[A\n",
      " 50%|█████     | 504/1002 [00:07<00:06, 72.03it/s]\u001b[A\n",
      " 51%|█████     | 512/1002 [00:07<00:06, 70.97it/s]\u001b[A\n",
      " 52%|█████▏    | 520/1002 [00:07<00:08, 59.17it/s]\u001b[A\n",
      " 53%|█████▎    | 527/1002 [00:07<00:13, 34.59it/s]\u001b[A\n",
      " 53%|█████▎    | 532/1002 [00:08<00:16, 29.18it/s]\u001b[A\n",
      " 54%|█████▎    | 537/1002 [00:08<00:15, 29.28it/s]\u001b[A\n",
      " 54%|█████▍    | 543/1002 [00:08<00:13, 34.49it/s]\u001b[A\n",
      " 55%|█████▍    | 549/1002 [00:08<00:11, 39.48it/s]\u001b[A\n",
      " 55%|█████▌    | 556/1002 [00:08<00:09, 44.81it/s]\u001b[A\n",
      " 56%|█████▌    | 563/1002 [00:08<00:08, 49.02it/s]\u001b[A\n",
      " 57%|█████▋    | 570/1002 [00:08<00:08, 52.83it/s]\u001b[A\n",
      " 57%|█████▋    | 576/1002 [00:08<00:07, 53.98it/s]\u001b[A\n",
      " 58%|█████▊    | 582/1002 [00:08<00:07, 53.43it/s]\u001b[A\n",
      " 59%|█████▊    | 588/1002 [00:09<00:07, 55.15it/s]\u001b[A\n",
      " 59%|█████▉    | 595/1002 [00:09<00:07, 57.44it/s]\u001b[A\n",
      " 60%|██████    | 602/1002 [00:09<00:06, 59.70it/s]\u001b[A\n",
      " 61%|██████    | 609/1002 [00:09<00:06, 60.95it/s]\u001b[A\n",
      " 61%|██████▏   | 616/1002 [00:09<00:06, 62.45it/s]\u001b[A\n",
      " 62%|██████▏   | 623/1002 [00:09<00:05, 63.52it/s]\u001b[A\n",
      " 63%|██████▎   | 630/1002 [00:09<00:05, 62.96it/s]\u001b[A\n",
      " 64%|██████▎   | 637/1002 [00:09<00:05, 64.25it/s]\u001b[A\n",
      " 64%|██████▍   | 644/1002 [00:09<00:05, 64.94it/s]\u001b[A\n",
      " 65%|██████▍   | 651/1002 [00:10<00:05, 64.09it/s]\u001b[A\n",
      " 66%|██████▌   | 658/1002 [00:10<00:05, 63.42it/s]\u001b[A\n",
      " 66%|██████▋   | 665/1002 [00:10<00:05, 62.43it/s]\u001b[A\n",
      " 67%|██████▋   | 672/1002 [00:10<00:05, 63.40it/s]\u001b[A\n",
      " 68%|██████▊   | 680/1002 [00:10<00:04, 66.01it/s]\u001b[A\n",
      " 69%|██████▊   | 687/1002 [00:10<00:04, 66.25it/s]\u001b[A\n",
      " 69%|██████▉   | 694/1002 [00:10<00:04, 64.85it/s]\u001b[A\n",
      " 70%|██████▉   | 701/1002 [00:10<00:04, 64.04it/s]\u001b[A\n",
      " 71%|███████   | 708/1002 [00:10<00:04, 63.63it/s]\u001b[A\n",
      " 71%|███████▏  | 715/1002 [00:11<00:04, 64.53it/s]\u001b[A\n",
      " 72%|███████▏  | 722/1002 [00:11<00:04, 64.99it/s]\u001b[A\n",
      " 73%|███████▎  | 729/1002 [00:11<00:04, 63.87it/s]\u001b[A\n",
      " 73%|███████▎  | 736/1002 [00:11<00:04, 62.77it/s]\u001b[A\n",
      " 74%|███████▍  | 743/1002 [00:11<00:04, 62.52it/s]\u001b[A\n",
      " 75%|███████▍  | 750/1002 [00:11<00:04, 60.88it/s]\u001b[A\n",
      " 76%|███████▌  | 757/1002 [00:11<00:03, 62.70it/s]\u001b[A\n",
      " 76%|███████▌  | 764/1002 [00:11<00:03, 61.43it/s]\u001b[A\n",
      " 77%|███████▋  | 771/1002 [00:11<00:03, 62.43it/s]\u001b[A\n",
      " 78%|███████▊  | 778/1002 [00:12<00:03, 61.21it/s]\u001b[A\n",
      " 78%|███████▊  | 785/1002 [00:12<00:03, 54.58it/s]\u001b[A\n",
      " 79%|███████▉  | 791/1002 [00:12<00:05, 41.21it/s]\u001b[A\n",
      " 79%|███████▉  | 796/1002 [00:12<00:04, 41.40it/s]\u001b[A\n",
      " 80%|████████  | 803/1002 [00:12<00:04, 45.96it/s]\u001b[A\n",
      " 81%|████████  | 810/1002 [00:12<00:03, 49.66it/s]\u001b[A\n",
      " 82%|████████▏ | 817/1002 [00:12<00:03, 53.00it/s]\u001b[A\n",
      " 82%|████████▏ | 824/1002 [00:13<00:03, 55.47it/s]\u001b[A\n",
      " 83%|████████▎ | 830/1002 [00:13<00:03, 56.28it/s]\u001b[A\n",
      " 84%|████████▎ | 837/1002 [00:13<00:02, 57.73it/s]\u001b[A\n",
      " 84%|████████▍ | 843/1002 [00:13<00:02, 55.98it/s]\u001b[A\n",
      " 85%|████████▍ | 850/1002 [00:13<00:02, 58.78it/s]\u001b[A\n",
      " 85%|████████▌ | 856/1002 [00:13<00:02, 58.81it/s]\u001b[A\n",
      " 86%|████████▌ | 863/1002 [00:13<00:02, 59.29it/s]\u001b[A\n",
      " 87%|████████▋ | 869/1002 [00:13<00:02, 54.56it/s]\u001b[A\n",
      " 87%|████████▋ | 875/1002 [00:13<00:02, 53.22it/s]\u001b[A\n",
      " 88%|████████▊ | 881/1002 [00:14<00:02, 54.17it/s]\u001b[A\n",
      " 89%|████████▊ | 887/1002 [00:14<00:02, 55.03it/s]\u001b[A\n",
      " 89%|████████▉ | 893/1002 [00:14<00:01, 55.66it/s]\u001b[A\n",
      " 90%|████████▉ | 899/1002 [00:14<00:01, 55.53it/s]\u001b[A\n",
      " 90%|█████████ | 905/1002 [00:14<00:01, 55.68it/s]\u001b[A\n",
      " 91%|█████████ | 911/1002 [00:14<00:01, 55.23it/s]\u001b[A\n",
      " 92%|█████████▏| 917/1002 [00:14<00:01, 55.98it/s]\u001b[A\n",
      " 92%|█████████▏| 923/1002 [00:14<00:01, 56.21it/s]\u001b[A\n",
      " 93%|█████████▎| 929/1002 [00:14<00:01, 57.26it/s]\u001b[A\n",
      " 93%|█████████▎| 935/1002 [00:15<00:01, 56.80it/s]\u001b[A\n",
      " 94%|█████████▍| 941/1002 [00:15<00:01, 57.32it/s]\u001b[A\n",
      " 95%|█████████▍| 947/1002 [00:15<00:00, 57.31it/s]\u001b[A\n",
      " 95%|█████████▌| 953/1002 [00:15<00:00, 56.65it/s]\u001b[A\n",
      " 96%|█████████▌| 959/1002 [00:15<00:00, 57.59it/s]\u001b[A\n",
      " 96%|█████████▋| 965/1002 [00:15<00:00, 42.64it/s]\u001b[A\n",
      " 97%|█████████▋| 970/1002 [00:15<00:00, 32.49it/s]\u001b[A\n",
      " 97%|█████████▋| 976/1002 [00:16<00:00, 36.43it/s]\u001b[A\n",
      " 98%|█████████▊| 981/1002 [00:16<00:00, 29.78it/s]\u001b[A\n",
      " 98%|█████████▊| 985/1002 [00:16<00:00, 27.02it/s]\u001b[A\n",
      " 99%|█████████▉| 990/1002 [00:16<00:00, 30.68it/s]\u001b[A\n",
      " 99%|█████████▉| 996/1002 [00:16<00:00, 35.46it/s]\u001b[A\n",
      "100%|██████████| 1002/1002 [00:16<00:00, 40.27it/s]\u001b[A"
     ]
    },
    {
     "name": "stdout",
     "output_type": "stream",
     "text": [
      ">>> Dataframe created successfully!\n",
      "\n"
     ]
    }
   ],
   "source": [
    "most_freq_columns_gosale = create_dataframe('../datasets/unlabeled/2013_camera_specs', \"www.gosale.com\")"
   ]
  },
  {
   "cell_type": "code",
   "execution_count": 11,
   "metadata": {},
   "outputs": [
    {
     "name": "stderr",
     "output_type": "stream",
     "text": [
      "\n",
      "\n",
      "\n",
      "  0%|          | 0/24 [00:00<?, ?it/s]\u001b[A\u001b[A\u001b[A"
     ]
    },
    {
     "name": "stdout",
     "output_type": "stream",
     "text": [
      ">>> Creating dataframe...\n",
      "\n"
     ]
    },
    {
     "name": "stderr",
     "output_type": "stream",
     "text": [
      "\n",
      "\n",
      "\n",
      "  4%|▍         | 1/24 [00:01<00:41,  1.82s/it]\u001b[A\u001b[A\u001b[A"
     ]
    },
    {
     "name": "stdout",
     "output_type": "stream",
     "text": [
      ">>> Dataframe created successfully!\n",
      "\n",
      "www.wexphotographic.com\n",
      "['<page title>', 'the information is', 'the description needs', 'spec_number', 'spec_id', 'source', 'screen size inches', 'screen resolution pixels', 'requires', 'please add', 'optical zoom x', 'needs additional', 'max aperture wide', 'max aperture tele', 'iso min', 'iso max', 'megapixels', 'cant find a', 'focal length wide', 'an']\n",
      "\n",
      ">>> Creating dataframe...\n",
      "\n"
     ]
    },
    {
     "name": "stderr",
     "output_type": "stream",
     "text": [
      "\n",
      "\n",
      "\n",
      "  8%|▊         | 2/24 [00:16<02:05,  5.72s/it]\u001b[A\u001b[A\u001b[A"
     ]
    },
    {
     "name": "stdout",
     "output_type": "stream",
     "text": [
      ">>> Dataframe created successfully!\n",
      "\n",
      "www.price-hunt.com\n",
      "['spec_number', '<page title>', 'source', 'spec_id', 'model id', 'brand', 'lcd screen size', 'optical sensor resolution in megapixel', 'weight', 'sensor type', 'type', 'upgradeable memory', 'memory card type', 'battery type', 'color', 'image display resolution', 'usb cable', 'image format', 'video format', 'dimensions']\n",
      "\n",
      ">>> Creating dataframe...\n",
      "\n"
     ]
    },
    {
     "name": "stderr",
     "output_type": "stream",
     "text": [
      "\n",
      "\n",
      "\n",
      " 12%|█▎        | 3/24 [00:19<01:44,  5.00s/it]\u001b[A\u001b[A\u001b[A"
     ]
    },
    {
     "name": "stdout",
     "output_type": "stream",
     "text": [
      ">>> Dataframe created successfully!\n",
      "\n",
      "www.henrys.com\n",
      "['spec_number', 'spec_id', 'source', '<page title>', 'white balance modes', 'colour', 'camera type', 'battery', 'effective pixels', 'aspect ratio', 'operatingstorage temperature', 'sensor typesize', 'viewfinder type', 'display screen type', 'remote control', 'self timer', 'metering method', 'shutter', 'builtin flash', 'iso sensitivity']\n",
      "\n",
      ">>> Creating dataframe...\n",
      "\n"
     ]
    },
    {
     "name": "stderr",
     "output_type": "stream",
     "text": [
      "\n",
      "\n",
      "\n",
      " 21%|██        | 5/24 [00:25<01:22,  4.33s/it]\u001b[A\u001b[A\u001b[A"
     ]
    },
    {
     "name": "stdout",
     "output_type": "stream",
     "text": [
      ">>> Dataframe created successfully!\n",
      "\n",
      "www.flipkart.com\n",
      "['spec_id', 'spec_number', '<page title>', 'source', '12 months', '6 months', 'emi tenure', '9 months', '3 months', 'brand', 'type', 'lcd screen size', 'lcd display', 'image display resolution', 'color', 'additional features', 'focal length', '18 months', 'model id', '24 months']\n",
      "\n",
      ">>> Creating dataframe...\n",
      "\n"
     ]
    },
    {
     "name": "stderr",
     "output_type": "stream",
     "text": [
      "\n",
      "\n",
      "\n",
      " 25%|██▌       | 6/24 [00:33<01:39,  5.53s/it]\u001b[A\u001b[A\u001b[A"
     ]
    },
    {
     "name": "stdout",
     "output_type": "stream",
     "text": [
      ">>> Dataframe created successfully!\n",
      "\n",
      "buy.net\n",
      "['<page title>', 'source', 'spec_id', 'spec_number', 'camera type', 'lcd screen size', 'url', 'memory card support', 'effective megapixels', 'height', 'width', 'depth', 'weight', 'image sensor', 'flash', 'maximum video capture resolution', 'warranty information', 'image stabilization', 'total pixels', 'focal length']\n",
      "\n",
      ">>> Creating dataframe...\n",
      "\n"
     ]
    },
    {
     "name": "stderr",
     "output_type": "stream",
     "text": [
      "\n",
      "\n",
      "\n",
      " 29%|██▉       | 7/24 [00:38<01:28,  5.22s/it]\u001b[A\u001b[A\u001b[A"
     ]
    },
    {
     "name": "stdout",
     "output_type": "stream",
     "text": [
      ">>> Dataframe created successfully!\n",
      "\n",
      "www.ilgs.net\n",
      "['<page title>', 'spec_number', 'spec_id', 'source', 'ean', 'manufacturer', 'pdf url', 'product promotion', 'short description', 'sku', 'specification', 'megapixel', 'colour of product', 'compatible memory cards', 'sensor type', 'weight', 'battery type', 'iso sensitivity', 'builtin flash', 'white balance']\n",
      "\n",
      ">>> Creating dataframe...\n",
      "\n"
     ]
    },
    {
     "name": "stderr",
     "output_type": "stream",
     "text": [
      "\n",
      "\n",
      "\n",
      " 33%|███▎      | 8/24 [00:41<01:13,  4.58s/it]\u001b[A\u001b[A\u001b[A"
     ]
    },
    {
     "name": "stdout",
     "output_type": "stream",
     "text": [
      ">>> Dataframe created successfully!\n",
      "\n",
      "www.walmart.com\n",
      "['<page title>', 'store information not available', 'spec_number', 'spec_id', 'source', 'product in inches l x w x h', 'model no', 'shipping weight in pounds', 'walmart no', 'type', 'additional features', 'optical zoom', 'connector type', 'self timer delay', 'software', 'flash modes', 'digital zoom', 'focal length equivalent to 35mm camera', 'features', 'effective flash range']\n",
      "\n",
      ">>> Creating dataframe...\n",
      "\n"
     ]
    },
    {
     "name": "stderr",
     "output_type": "stream",
     "text": [
      "\n",
      "\n",
      "\n",
      " 38%|███▊      | 9/24 [00:43<00:58,  3.93s/it]\u001b[A\u001b[A\u001b[A"
     ]
    },
    {
     "name": "stdout",
     "output_type": "stream",
     "text": [
      ">>> Dataframe created successfully!\n",
      "\n",
      "www.pcconnection.com\n",
      "['warranty  parts', '<page title>', 'warranty  labor', 'spec_number', 'spec_id', 'source', 'returns policy', 'camera type', 'megapixels', 'optical sensor type', 'display size', 'optical sensor size', 'flash type', 'color', 'shooting modes', '35mm equivalent focal length max', '35mm equivalent focal length min', 'contents', 'power notes', 'display technology']\n",
      "\n",
      ">>> Creating dataframe...\n",
      "\n"
     ]
    },
    {
     "name": "stderr",
     "output_type": "stream",
     "text": [
      "\n",
      "\n",
      "\n",
      " 42%|████▏     | 10/24 [00:47<00:55,  3.95s/it]\u001b[A\u001b[A\u001b[A"
     ]
    },
    {
     "name": "stdout",
     "output_type": "stream",
     "text": [
      ">>> Dataframe created successfully!\n",
      "\n",
      "cammarkt.com\n",
      "['brand', 'source', 'spec_id', 'spec_number', 'specs', 'manufacturer', '<page title>', 'weight', 'part number', 'image sensor type', 'catalog number', 'resolution', 'camera resolution', 'family line', 'upc', 'lcd screen size', 'height', 'depth', 'width', 'color']\n",
      "\n",
      ">>> Creating dataframe...\n",
      "\n"
     ]
    },
    {
     "name": "stderr",
     "output_type": "stream",
     "text": [
      "\n",
      "\n",
      "\n",
      " 46%|████▌     | 11/24 [00:56<01:08,  5.29s/it]\u001b[A\u001b[A\u001b[A"
     ]
    },
    {
     "name": "stdout",
     "output_type": "stream",
     "text": [
      ">>> Dataframe created successfully!\n",
      "\n",
      "www.priceme.co.nz\n",
      "['<page title>', 'spec_number', 'spec_id', 'source', 'light sensitivity', 'still image format', 'resolution', 'max image resolution', 'optical sensor', 'shutter speed', 'image stabilizer', 'digital zoom', 'optical zoom', 'lens aperture', 'max focal length', 'min focal length', '3d support', 'focus adjustment', 'storage media', 'colour']\n",
      "\n",
      ">>> Creating dataframe...\n",
      "\n"
     ]
    },
    {
     "name": "stderr",
     "output_type": "stream",
     "text": [
      "\n",
      "\n",
      "\n",
      " 50%|█████     | 12/24 [01:08<01:28,  7.36s/it]\u001b[A\u001b[A\u001b[A"
     ]
    },
    {
     "name": "stdout",
     "output_type": "stream",
     "text": [
      ">>> Dataframe created successfully!\n",
      "\n",
      "www.gosale.com\n",
      "['<page title>', 'spec_number', 'spec_id', 'source', 'product name', 'manufacturer', 'deal first added on', 'last updated', 'upc', 'ean13', 'retail price', 'product number mpn', 'camera type', 'ean14', 'weight', 'megapixels', 'megapixel range', 'dimensions', 'optical zoom', 'lcd screen size']\n",
      "\n",
      ">>> Creating dataframe...\n",
      "\n"
     ]
    },
    {
     "name": "stderr",
     "output_type": "stream",
     "text": [
      "\n",
      "\n",
      "\n",
      " 54%|█████▍    | 13/24 [01:09<00:59,  5.44s/it]\u001b[A\u001b[A\u001b[A"
     ]
    },
    {
     "name": "stdout",
     "output_type": "stream",
     "text": [
      ">>> Dataframe created successfully!\n",
      "\n",
      "www.garricks.com.au\n",
      "['<page title>', 'spec_number', 'spec_id', 'source', 'sensor details', 'memory type', 'resolution', 'image format', 'lens mount', 'viewfinder type', 'video recording format', 'flash unit', 'special attribute', 'image stabilization', 'zoom range', 'weight', 'autofocus array']\n",
      "\n",
      ">>> Creating dataframe...\n",
      "\n"
     ]
    },
    {
     "name": "stderr",
     "output_type": "stream",
     "text": [
      "\n",
      "\n",
      "\n",
      " 58%|█████▊    | 14/24 [01:18<01:06,  6.61s/it]\u001b[A\u001b[A\u001b[A"
     ]
    },
    {
     "name": "stdout",
     "output_type": "stream",
     "text": [
      ">>> Dataframe created successfully!\n",
      "\n",
      "www.pricedekho.com\n",
      "['<page title>', 'spec_number', 'spec_id', 'source', 'face detection', 'screen size', 'video display resolution', 'usb', 'hdmi', 'gps', 'external memory', 'color', 'metering', 'additional features', 'bangalore', 'self timer', 'sensor size', 'sensor type', 'focal length', 'image display resolution']\n",
      "\n",
      ">>> Creating dataframe...\n",
      "\n"
     ]
    },
    {
     "name": "stderr",
     "output_type": "stream",
     "text": [
      "\n",
      "\n",
      "\n",
      " 62%|██████▎   | 15/24 [01:19<00:43,  4.88s/it]\u001b[A\u001b[A\u001b[A"
     ]
    },
    {
     "name": "stdout",
     "output_type": "stream",
     "text": [
      ">>> Dataframe created successfully!\n",
      "\n",
      "www.ukdigitalcameras.co.uk\n",
      "['<page title>', 'brand', 'camera resolution', 'colour', 'spec_number', 'spec_id', 'lcd size', 'source', 'mpn', 'hd video', '35mm equivalent', 'lens wide mm', 'lens tele mm', 'features', 'optical zoom', 'optical zoom range', 'variangle lcd', 'included lens', 'waterproof depth']\n",
      "\n",
      ">>> Creating dataframe...\n",
      "\n"
     ]
    },
    {
     "name": "stderr",
     "output_type": "stream",
     "text": [
      "\n",
      "\n",
      "\n",
      " 67%|██████▋   | 16/24 [01:22<00:33,  4.24s/it]\u001b[A\u001b[A\u001b[A"
     ]
    },
    {
     "name": "stdout",
     "output_type": "stream",
     "text": [
      ">>> Dataframe created successfully!\n",
      "\n",
      "www.camerafarm.com.au\n",
      "['spec_number', '<page title>', 'source', 'spec_id', 'part no', 'ship weight', 'rating', 'our price', 'rrp', 'brand', 'usually ships', 'date added', 'you save', 'manuf no', 'exposure compensation', 'exposure modes', 'scene modes', 'selftimer', 'incamera image editing', 'top continuous shooting speed at full resolution']\n",
      "\n",
      ">>> Creating dataframe...\n",
      "\n"
     ]
    },
    {
     "name": "stderr",
     "output_type": "stream",
     "text": [
      "\n",
      "\n",
      "\n",
      " 71%|███████   | 17/24 [01:28<00:33,  4.78s/it]\u001b[A\u001b[A\u001b[A"
     ]
    },
    {
     "name": "stdout",
     "output_type": "stream",
     "text": [
      ">>> Dataframe created successfully!\n",
      "\n",
      "www.mypriceindia.com\n",
      "['<page title>', 'source', 'spec_id', 'spec_number', 'camera resolution', 'video format', 'maximum shutter speed', 'minimum shutter speed', 'iso rating', 'self timer', 'auto focus', 'image format', 'white balancing', 'lens type', 'focal length', 'face detection', 'aperture range', 'shooting modes', 'conitnous shots', 'manual focus']\n",
      "\n",
      ">>> Creating dataframe...\n",
      "\n"
     ]
    },
    {
     "name": "stderr",
     "output_type": "stream",
     "text": [
      "\n",
      "\n",
      "\n",
      " 75%|███████▌  | 18/24 [01:43<00:47,  7.99s/it]\u001b[A\u001b[A\u001b[A"
     ]
    },
    {
     "name": "stdout",
     "output_type": "stream",
     "text": [
      ">>> Dataframe created successfully!\n",
      "\n",
      "www.eglobalcentral.co.uk\n",
      "['<page title>', 'spec_number', 'spec_id', 'source', 'weight', 'battery', 'minimum aperture', 'iso sensitivity', 'max resolution', 'aspect ratio', 'angle of view', 'focal length', 'effective pixels', 'dimensions w x h x d', 'usb', 'hdmi', 'sensor type', 'gps', 'sensor size', 'storage type']\n",
      "\n",
      ">>> Creating dataframe...\n",
      "\n"
     ]
    },
    {
     "name": "stderr",
     "output_type": "stream",
     "text": [
      "\n",
      "\n",
      "\n",
      " 83%|████████▎ | 20/24 [01:48<00:25,  6.29s/it]\u001b[A\u001b[A\u001b[A"
     ]
    },
    {
     "name": "stdout",
     "output_type": "stream",
     "text": [
      ">>> Dataframe created successfully!\n",
      "\n",
      "www.shopbot.com.au\n",
      "['<page title>', 'source', 'spec_id', 'spec_number', 'product name', 'digital camera warehouse', 'camerastorecomau', 'shop', 'the bad', 'the good', 'dimensions', 'camera type', 'sensor resolution', 'lcd size', 'video resolution', 'digital camera warehouse nsw vic qld', 'optical image stabilization', 'weight', 'camerastorecomau sa', 'nsw']\n",
      "\n",
      ">>> Creating dataframe...\n",
      "\n"
     ]
    },
    {
     "name": "stderr",
     "output_type": "stream",
     "text": [
      "\n",
      "\n",
      "\n",
      " 88%|████████▊ | 21/24 [02:06<00:28,  9.66s/it]\u001b[A\u001b[A\u001b[A"
     ]
    },
    {
     "name": "stdout",
     "output_type": "stream",
     "text": [
      ">>> Dataframe created successfully!\n",
      "\n",
      "www.shopmania.in\n",
      "['category', '<page title>', 'user reviews', 'spec_number', 'spec_id', 'source', 'product name', 'brand', 'product rating', 'resolution', 'screen size', 'sensor type', 'light sensitivity iso', 'image format', 'digital video format', 'memory type', 'connector type', 'image resolutions', 'self timer delay', 'sensor size']\n",
      "\n",
      ">>> Creating dataframe...\n",
      "\n"
     ]
    },
    {
     "name": "stderr",
     "output_type": "stream",
     "text": [
      "\n",
      "\n",
      "\n",
      " 92%|█████████▏| 22/24 [02:13<00:18,  9.12s/it]\u001b[A\u001b[A\u001b[A"
     ]
    },
    {
     "name": "stdout",
     "output_type": "stream",
     "text": [
      ">>> Dataframe created successfully!\n",
      "\n",
      "www.cambuy.com.au\n",
      "['spec_number', '<page title>', 'spec_id', 'source', 'dimensions w x h x d', 'weight', 'type', 'exposure compensation', 'monitor', 'speed', 'effective pixels', 'supplied accessories', 'focal length', 'selftimer', 'white balance', 'metering modes', 'tripod socket', 'file system', 'image sensor', 'supported languages']\n",
      "\n",
      ">>> Creating dataframe...\n",
      "\n"
     ]
    },
    {
     "name": "stderr",
     "output_type": "stream",
     "text": [
      "\n",
      "\n",
      "\n",
      " 96%|█████████▌| 23/24 [02:47<00:16, 16.40s/it]\u001b[A\u001b[A\u001b[A"
     ]
    },
    {
     "name": "stdout",
     "output_type": "stream",
     "text": [
      ">>> Dataframe created successfully!\n",
      "\n",
      "www.buzzillions.com\n",
      "['spec_number', '<page title>', 'specification', 'spec_id', 'source', 'megapixels', 'lcd viewer', 'lens', 'storage media type', 'optical zoom', 'still picture capture', 'video movie capture', 'electronic flash', 'anti shake mode', 'camera color', 'trackinglinkbaseurl', 'trackinglinkuri', 'digital zoom', 'model', 'sound']\n",
      "\n",
      ">>> Creating dataframe...\n",
      "\n"
     ]
    },
    {
     "name": "stderr",
     "output_type": "stream",
     "text": [
      "\n",
      "\n",
      "\n",
      "100%|██████████| 24/24 [02:51<00:00, 12.75s/it]\u001b[A\u001b[A\u001b[A"
     ]
    },
    {
     "name": "stdout",
     "output_type": "stream",
     "text": [
      ">>> Dataframe created successfully!\n",
      "\n",
      "www.canon-europe.com\n",
      "['<page title>', 'still image type', 'spec_number', 'spec_id', 'source', 'movies', 'modes', 'metering modes', 'maximum fnumber', 'iso sensitivity', 'focal length', 'exposure compensation', 'continuous shooting', 'construction', 'zoom', 'redeye reduction', 'builtin flash range', 'ae lock', 'slow sync speed', 'drive modes']\n",
      "\n"
     ]
    }
   ],
   "source": [
    "dataset_path = \"../datasets/unlabeled/2013_camera_specs\"\n",
    "\n",
    "for source in tqdm(os.listdir(dataset_path)):\n",
    "    if source != \"www.ebay.com\" and source !=\"www.alibaba.com\":\n",
    "        most_freq = create_dataframe(dataset_path, source)\n",
    "        print(source)\n",
    "        print(most_freq.to_list())\n",
    "        print()\n",
    "    "
   ]
  },
  {
   "cell_type": "code",
   "execution_count": null,
   "metadata": {},
   "outputs": [],
   "source": []
  },
  {
   "cell_type": "code",
   "execution_count": null,
   "metadata": {},
   "outputs": [],
   "source": []
  },
  {
   "cell_type": "code",
   "execution_count": null,
   "metadata": {},
   "outputs": [],
   "source": []
  },
  {
   "cell_type": "code",
   "execution_count": null,
   "metadata": {},
   "outputs": [],
   "source": []
  },
  {
   "cell_type": "code",
   "execution_count": null,
   "metadata": {},
   "outputs": [],
   "source": []
  },
  {
   "cell_type": "code",
   "execution_count": null,
   "metadata": {},
   "outputs": [],
   "source": []
  },
  {
   "cell_type": "code",
   "execution_count": 12,
   "metadata": {},
   "outputs": [
    {
     "name": "stdout",
     "output_type": "stream",
     "text": [
      ">>> Creating dataframe...\n",
      "\n",
      ">>> Dataframe created successfully!\n",
      "\n"
     ]
    }
   ],
   "source": [
    "most_freq_alibaba = create_dataframe(dataset_path, \"www.alibaba.com\")"
   ]
  },
  {
   "cell_type": "code",
   "execution_count": 13,
   "metadata": {},
   "outputs": [
    {
     "data": {
      "text/plain": [
       "Index(['source', '<page title>', 'spec_id', 'spec_number', 'payment terms',\n",
       "       'supply ability', 'fob price', 'minorder quantity', 'port', 'weight',\n",
       "       'power supply', 'image sensor', 'power consumption', 'min illumination',\n",
       "       'frame rate', 'dimensions', 'bit rate', 'lens', 'interface', 'network'],\n",
       "      dtype='object')"
      ]
     },
     "execution_count": 13,
     "metadata": {},
     "output_type": "execute_result"
    }
   ],
   "source": [
    "most_freq_alibaba"
   ]
  },
  {
   "cell_type": "code",
   "execution_count": null,
   "metadata": {},
   "outputs": [],
   "source": []
  },
  {
   "cell_type": "code",
   "execution_count": null,
   "metadata": {},
   "outputs": [],
   "source": []
  }
 ],
 "metadata": {
  "kernelspec": {
   "display_name": "Python 3",
   "language": "python",
   "name": "python3"
  },
  "language_info": {
   "codemirror_mode": {
    "name": "ipython",
    "version": 3
   },
   "file_extension": ".py",
   "mimetype": "text/x-python",
   "name": "python",
   "nbconvert_exporter": "python",
   "pygments_lexer": "ipython3",
   "version": "3.7.3"
  }
 },
 "nbformat": 4,
 "nbformat_minor": 4
}
