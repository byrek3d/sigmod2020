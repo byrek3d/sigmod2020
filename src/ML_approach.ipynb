{
 "cells": [
  {
   "cell_type": "code",
   "execution_count": 1,
   "metadata": {},
   "outputs": [],
   "source": [
    "import pandas as pd\n",
    "import numpy as np\n",
    "import os\n",
    "import itertools\n",
    "import json\n",
    "from tqdm import tqdm\n",
    "from sklearn.feature_extraction.text import TfidfVectorizer\n",
    "from sklearn.model_selection import train_test_split\n",
    "from sklearn.naive_bayes import MultinomialNB\n",
    "from sklearn.ensemble import RandomForestClassifier,  GradientBoostingClassifier\n",
    "from sklearn import svm\n",
    "from sklearn.model_selection import GridSearchCV\n",
    "from sklearn.pipeline import Pipeline"
   ]
  },
  {
   "cell_type": "markdown",
   "metadata": {},
   "source": [
    "# Training"
   ]
  },
  {
   "cell_type": "code",
   "execution_count": 2,
   "metadata": {},
   "outputs": [
    {
     "data": {
      "text/html": [
       "<div>\n",
       "<style scoped>\n",
       "    .dataframe tbody tr th:only-of-type {\n",
       "        vertical-align: middle;\n",
       "    }\n",
       "\n",
       "    .dataframe tbody tr th {\n",
       "        vertical-align: top;\n",
       "    }\n",
       "\n",
       "    .dataframe thead th {\n",
       "        text-align: right;\n",
       "    }\n",
       "</style>\n",
       "<table border=\"1\" class=\"dataframe\">\n",
       "  <thead>\n",
       "    <tr style=\"text-align: right;\">\n",
       "      <th></th>\n",
       "      <th>left_spec_id</th>\n",
       "      <th>right_spec_id</th>\n",
       "      <th>label</th>\n",
       "      <th>left_page_title</th>\n",
       "      <th>right_page_title</th>\n",
       "    </tr>\n",
       "  </thead>\n",
       "  <tbody>\n",
       "    <tr>\n",
       "      <th>0</th>\n",
       "      <td>www.ebay.com//53278</td>\n",
       "      <td>www.garricks.com.au//31</td>\n",
       "      <td>1</td>\n",
       "      <td>nikon d3200 24 2 mp digital slr camera black k...</td>\n",
       "      <td>nikon d3200 black w/ 18-55mm vr lens</td>\n",
       "    </tr>\n",
       "    <tr>\n",
       "      <th>1</th>\n",
       "      <td>www.ebay.com//53278</td>\n",
       "      <td>www.priceme.co.nz//2246</td>\n",
       "      <td>0</td>\n",
       "      <td>nikon d3200 24 2 mp digital slr camera black k...</td>\n",
       "      <td>canon eos 1200d + 18-55/3.5-5.6  new zealand p...</td>\n",
       "    </tr>\n",
       "    <tr>\n",
       "      <th>2</th>\n",
       "      <td>www.ebay.com//53278</td>\n",
       "      <td>www.shopbot.com.au//1376</td>\n",
       "      <td>0</td>\n",
       "      <td>nikon d3200 24 2 mp digital slr camera black k...</td>\n",
       "      <td>nikon d7000 / 18-105mm vr kit - price comparis...</td>\n",
       "    </tr>\n",
       "    <tr>\n",
       "      <th>3</th>\n",
       "      <td>www.ebay.com//53278</td>\n",
       "      <td>www.flipkart.com//2193</td>\n",
       "      <td>0</td>\n",
       "      <td>nikon d3200 24 2 mp digital slr camera black k...</td>\n",
       "      <td>canon eos 1200d kit (ef s18-55 is ii + 55-250 ...</td>\n",
       "    </tr>\n",
       "    <tr>\n",
       "      <th>4</th>\n",
       "      <td>www.ebay.com//53278</td>\n",
       "      <td>www.ebay.com//58781</td>\n",
       "      <td>0</td>\n",
       "      <td>nikon d3200 24 2 mp digital slr camera black k...</td>\n",
       "      <td>canon eos 5d digital slr camera black body onl...</td>\n",
       "    </tr>\n",
       "  </tbody>\n",
       "</table>\n",
       "</div>"
      ],
      "text/plain": [
       "          left_spec_id             right_spec_id  label  \\\n",
       "0  www.ebay.com//53278   www.garricks.com.au//31      1   \n",
       "1  www.ebay.com//53278   www.priceme.co.nz//2246      0   \n",
       "2  www.ebay.com//53278  www.shopbot.com.au//1376      0   \n",
       "3  www.ebay.com//53278    www.flipkart.com//2193      0   \n",
       "4  www.ebay.com//53278       www.ebay.com//58781      0   \n",
       "\n",
       "                                     left_page_title  \\\n",
       "0  nikon d3200 24 2 mp digital slr camera black k...   \n",
       "1  nikon d3200 24 2 mp digital slr camera black k...   \n",
       "2  nikon d3200 24 2 mp digital slr camera black k...   \n",
       "3  nikon d3200 24 2 mp digital slr camera black k...   \n",
       "4  nikon d3200 24 2 mp digital slr camera black k...   \n",
       "\n",
       "                                    right_page_title  \n",
       "0               nikon d3200 black w/ 18-55mm vr lens  \n",
       "1  canon eos 1200d + 18-55/3.5-5.6  new zealand p...  \n",
       "2  nikon d7000 / 18-105mm vr kit - price comparis...  \n",
       "3  canon eos 1200d kit (ef s18-55 is ii + 55-250 ...  \n",
       "4  canon eos 5d digital slr camera black body onl...  "
      ]
     },
     "execution_count": 2,
     "metadata": {},
     "output_type": "execute_result"
    }
   ],
   "source": [
    "df = pd.read_csv('../datasets/labeled/labeled_with_titles_large.csv')\n",
    "df.head()"
   ]
  },
  {
   "cell_type": "code",
   "execution_count": 3,
   "metadata": {},
   "outputs": [
    {
     "data": {
      "text/plain": [
       "0         1\n",
       "1         0\n",
       "2         0\n",
       "3         0\n",
       "4         0\n",
       "         ..\n",
       "303172    0\n",
       "303173    0\n",
       "303174    0\n",
       "303175    0\n",
       "303176    0\n",
       "Name: label, Length: 303177, dtype: int64"
      ]
     },
     "execution_count": 3,
     "metadata": {},
     "output_type": "execute_result"
    }
   ],
   "source": [
    "y = df['label'].copy()\n",
    "y"
   ]
  },
  {
   "cell_type": "code",
   "execution_count": 4,
   "metadata": {},
   "outputs": [
    {
     "data": {
      "text/plain": [
       "(606354,)"
      ]
     },
     "execution_count": 4,
     "metadata": {},
     "output_type": "execute_result"
    }
   ],
   "source": [
    "titles = np.hstack([df['left_page_title'].values, df['right_page_title'].values])\n",
    "titles.shape"
   ]
  },
  {
   "cell_type": "code",
   "execution_count": 5,
   "metadata": {},
   "outputs": [],
   "source": [
    "vect = TfidfVectorizer()\n",
    "vect.fit(titles)\n",
    "left = vect.transform(df['left_page_title']).toarray()\n",
    "right = vect.transform(df['right_page_title']).toarray()"
   ]
  },
  {
   "cell_type": "code",
   "execution_count": 6,
   "metadata": {},
   "outputs": [
    {
     "data": {
      "text/html": [
       "<div>\n",
       "<style scoped>\n",
       "    .dataframe tbody tr th:only-of-type {\n",
       "        vertical-align: middle;\n",
       "    }\n",
       "\n",
       "    .dataframe tbody tr th {\n",
       "        vertical-align: top;\n",
       "    }\n",
       "\n",
       "    .dataframe thead th {\n",
       "        text-align: right;\n",
       "    }\n",
       "</style>\n",
       "<table border=\"1\" class=\"dataframe\">\n",
       "  <thead>\n",
       "    <tr style=\"text-align: right;\">\n",
       "      <th></th>\n",
       "      <th>left_page_title</th>\n",
       "      <th>right_page_title</th>\n",
       "    </tr>\n",
       "  </thead>\n",
       "  <tbody>\n",
       "    <tr>\n",
       "      <th>0</th>\n",
       "      <td>[0.0, 0.0, 0.0, 0.0, 0.0, 0.0, 0.0, 0.0, 0.0, ...</td>\n",
       "      <td>[0.0, 0.0, 0.0, 0.0, 0.0, 0.0, 0.0, 0.0, 0.0, ...</td>\n",
       "    </tr>\n",
       "    <tr>\n",
       "      <th>1</th>\n",
       "      <td>[0.0, 0.0, 0.0, 0.0, 0.0, 0.0, 0.0, 0.0, 0.0, ...</td>\n",
       "      <td>[0.0, 0.0, 0.0, 0.0, 0.0, 0.0, 0.0, 0.0, 0.0, ...</td>\n",
       "    </tr>\n",
       "    <tr>\n",
       "      <th>2</th>\n",
       "      <td>[0.0, 0.0, 0.0, 0.0, 0.0, 0.0, 0.0, 0.0, 0.0, ...</td>\n",
       "      <td>[0.0, 0.0, 0.0, 0.0, 0.0, 0.0, 0.0, 0.0, 0.0, ...</td>\n",
       "    </tr>\n",
       "    <tr>\n",
       "      <th>3</th>\n",
       "      <td>[0.0, 0.0, 0.0, 0.0, 0.0, 0.0, 0.0, 0.0, 0.0, ...</td>\n",
       "      <td>[0.0, 0.0, 0.0, 0.0, 0.0, 0.0, 0.0, 0.0, 0.0, ...</td>\n",
       "    </tr>\n",
       "    <tr>\n",
       "      <th>4</th>\n",
       "      <td>[0.0, 0.0, 0.0, 0.0, 0.0, 0.0, 0.0, 0.0, 0.0, ...</td>\n",
       "      <td>[0.0, 0.0, 0.0, 0.0, 0.5585104430195296, 0.0, ...</td>\n",
       "    </tr>\n",
       "  </tbody>\n",
       "</table>\n",
       "</div>"
      ],
      "text/plain": [
       "                                     left_page_title  \\\n",
       "0  [0.0, 0.0, 0.0, 0.0, 0.0, 0.0, 0.0, 0.0, 0.0, ...   \n",
       "1  [0.0, 0.0, 0.0, 0.0, 0.0, 0.0, 0.0, 0.0, 0.0, ...   \n",
       "2  [0.0, 0.0, 0.0, 0.0, 0.0, 0.0, 0.0, 0.0, 0.0, ...   \n",
       "3  [0.0, 0.0, 0.0, 0.0, 0.0, 0.0, 0.0, 0.0, 0.0, ...   \n",
       "4  [0.0, 0.0, 0.0, 0.0, 0.0, 0.0, 0.0, 0.0, 0.0, ...   \n",
       "\n",
       "                                    right_page_title  \n",
       "0  [0.0, 0.0, 0.0, 0.0, 0.0, 0.0, 0.0, 0.0, 0.0, ...  \n",
       "1  [0.0, 0.0, 0.0, 0.0, 0.0, 0.0, 0.0, 0.0, 0.0, ...  \n",
       "2  [0.0, 0.0, 0.0, 0.0, 0.0, 0.0, 0.0, 0.0, 0.0, ...  \n",
       "3  [0.0, 0.0, 0.0, 0.0, 0.0, 0.0, 0.0, 0.0, 0.0, ...  \n",
       "4  [0.0, 0.0, 0.0, 0.0, 0.5585104430195296, 0.0, ...  "
      ]
     },
     "execution_count": 6,
     "metadata": {},
     "output_type": "execute_result"
    }
   ],
   "source": [
    "rows = []\n",
    "for l, r in zip(left, right):\n",
    "    elem = {'left_page_title': l, 'right_page_title': r}\n",
    "    rows.append(elem)\n",
    "    \n",
    "X = pd.DataFrame(rows)\n",
    "X.head()"
   ]
  },
  {
   "cell_type": "code",
   "execution_count": 7,
   "metadata": {},
   "outputs": [
    {
     "data": {
      "text/plain": [
       "(303177, 1582)"
      ]
     },
     "execution_count": 7,
     "metadata": {},
     "output_type": "execute_result"
    }
   ],
   "source": [
    "X = X.to_numpy()\n",
    "X = np.array([np.concatenate(x) for x in X])\n",
    "X.shape"
   ]
  },
  {
   "cell_type": "code",
   "execution_count": 8,
   "metadata": {},
   "outputs": [],
   "source": [
    "X_train, X_test, y_train, y_test = train_test_split(X, y, test_size=0.2, random_state=42)"
   ]
  },
  {
   "cell_type": "markdown",
   "metadata": {},
   "source": [
    "### Naive Bayes"
   ]
  },
  {
   "cell_type": "code",
   "execution_count": null,
   "metadata": {},
   "outputs": [],
   "source": [
    "nb = MultinomialNB()\n",
    "nb.fit(X_train, y_train)"
   ]
  },
  {
   "cell_type": "code",
   "execution_count": null,
   "metadata": {},
   "outputs": [],
   "source": [
    "nb.score(X_test, y_test)"
   ]
  },
  {
   "cell_type": "markdown",
   "metadata": {},
   "source": [
    "### Random forests"
   ]
  },
  {
   "cell_type": "code",
   "execution_count": 9,
   "metadata": {},
   "outputs": [
    {
     "data": {
      "text/plain": [
       "RandomForestClassifier(bootstrap=True, ccp_alpha=0.0, class_weight=None,\n",
       "                       criterion='gini', max_depth=None, max_features='auto',\n",
       "                       max_leaf_nodes=None, max_samples=None,\n",
       "                       min_impurity_decrease=0.0, min_impurity_split=None,\n",
       "                       min_samples_leaf=1, min_samples_split=2,\n",
       "                       min_weight_fraction_leaf=0.0, n_estimators=1000,\n",
       "                       n_jobs=2, oob_score=False, random_state=42, verbose=0,\n",
       "                       warm_start=False)"
      ]
     },
     "execution_count": 9,
     "metadata": {},
     "output_type": "execute_result"
    }
   ],
   "source": [
    "rf = RandomForestClassifier(n_estimators=1000, random_state=42, n_jobs=2)\n",
    "rf.fit(X_train, y_train)"
   ]
  },
  {
   "cell_type": "code",
   "execution_count": 10,
   "metadata": {},
   "outputs": [
    {
     "data": {
      "text/plain": [
       "0.999076456230622"
      ]
     },
     "execution_count": 10,
     "metadata": {},
     "output_type": "execute_result"
    }
   ],
   "source": [
    "rf.score(X_test, y_test)"
   ]
  },
  {
   "cell_type": "markdown",
   "metadata": {},
   "source": [
    "### SVM"
   ]
  },
  {
   "cell_type": "code",
   "execution_count": null,
   "metadata": {},
   "outputs": [],
   "source": [
    "svc = svm.LinearSVC()\n",
    "svc.fit(X_train, y_train)"
   ]
  },
  {
   "cell_type": "code",
   "execution_count": null,
   "metadata": {},
   "outputs": [],
   "source": [
    "svc.score(X_test, y_test)"
   ]
  },
  {
   "cell_type": "markdown",
   "metadata": {},
   "source": [
    "### Gradient boosted trees"
   ]
  },
  {
   "cell_type": "code",
   "execution_count": null,
   "metadata": {},
   "outputs": [],
   "source": [
    "gbt = GradientBoostingClassifier()\n",
    "gbt.fit(X_train, y_train)"
   ]
  },
  {
   "cell_type": "code",
   "execution_count": null,
   "metadata": {},
   "outputs": [],
   "source": [
    "gbt.score(X_test, y_test)"
   ]
  },
  {
   "cell_type": "markdown",
   "metadata": {},
   "source": [
    "# Testing"
   ]
  },
  {
   "cell_type": "code",
   "execution_count": 21,
   "metadata": {},
   "outputs": [],
   "source": [
    "def create_dataframe(dataset_path):\n",
    "    \"\"\"Function used to create a Pandas DataFrame containing specifications page titles\n",
    "\n",
    "    Reads products specifications from the file system (\"dataset_path\" variable in the main function) and creates a Pandas DataFrame where each row is a\n",
    "    specification. The columns are 'source' (e.g. www.sourceA.com), 'spec_number' (e.g. 1) and the 'page title'. Note that this script will consider only\n",
    "    the page title attribute for simplicity.\n",
    "\n",
    "    Args:\n",
    "        dataset_path (str): The path to the dataset\n",
    "\n",
    "    Returns:\n",
    "        df (pd.DataFrame): The Pandas DataFrame containing specifications and page titles\n",
    "    \"\"\"\n",
    "\n",
    "    print('>>> Creating dataframe...\\n')\n",
    "    columns_df = ['source', 'spec_number', 'spec_id', 'page_title']\n",
    "\n",
    "    progressive_id = 0\n",
    "    progressive_id2row_df = {}\n",
    "    for source in tqdm(os.listdir(dataset_path)):\n",
    "        for specification in os.listdir(os.path.join(dataset_path, source)):\n",
    "            specification_number = specification.replace('.json', '')\n",
    "            specification_id = '{}//{}'.format(source, specification_number)\n",
    "            with open(os.path.join(dataset_path, source, specification)) as specification_file:\n",
    "                specification_data = json.load(specification_file)\n",
    "                page_title = specification_data.get('<page title>').lower()\n",
    "                row = (source, specification_number, specification_id, page_title)\n",
    "                progressive_id2row_df.update({progressive_id: row})\n",
    "                progressive_id += 1\n",
    "    df = pd.DataFrame.from_dict(progressive_id2row_df, orient='index', columns=columns_df)\n",
    "    print('>>> Dataframe created successfully!\\n')\n",
    "    return df"
   ]
  },
  {
   "cell_type": "code",
   "execution_count": 22,
   "metadata": {},
   "outputs": [
    {
     "name": "stderr",
     "output_type": "stream",
     "text": [
      "\n",
      "  0%|          | 0/24 [00:00<?, ?it/s]\u001b[A\n",
      " 17%|█▋        | 4/24 [00:00<00:00, 30.40it/s]\u001b[A"
     ]
    },
    {
     "name": "stdout",
     "output_type": "stream",
     "text": [
      ">>> Creating dataframe...\n",
      "\n"
     ]
    },
    {
     "name": "stderr",
     "output_type": "stream",
     "text": [
      "\n",
      " 33%|███▎      | 8/24 [00:00<00:01, 11.86it/s]\u001b[A\n",
      " 58%|█████▊    | 14/24 [00:01<00:00, 15.46it/s]\u001b[A\n",
      " 71%|███████   | 17/24 [00:01<00:00, 10.27it/s]\u001b[A\n",
      " 88%|████████▊ | 21/24 [00:01<00:00, 12.62it/s]\u001b[A\n",
      "100%|██████████| 24/24 [00:01<00:00, 13.27it/s]\u001b[A"
     ]
    },
    {
     "name": "stdout",
     "output_type": "stream",
     "text": [
      ">>> Dataframe created successfully!\n",
      "\n"
     ]
    }
   ],
   "source": [
    "df = create_dataframe('../datasets/unlabeled/2013_camera_specs')"
   ]
  },
  {
   "cell_type": "code",
   "execution_count": 23,
   "metadata": {},
   "outputs": [
    {
     "data": {
      "text/html": [
       "<div>\n",
       "<style scoped>\n",
       "    .dataframe tbody tr th:only-of-type {\n",
       "        vertical-align: middle;\n",
       "    }\n",
       "\n",
       "    .dataframe tbody tr th {\n",
       "        vertical-align: top;\n",
       "    }\n",
       "\n",
       "    .dataframe thead th {\n",
       "        text-align: right;\n",
       "    }\n",
       "</style>\n",
       "<table border=\"1\" class=\"dataframe\">\n",
       "  <thead>\n",
       "    <tr style=\"text-align: right;\">\n",
       "      <th></th>\n",
       "      <th>spec_id</th>\n",
       "      <th>page_title</th>\n",
       "    </tr>\n",
       "  </thead>\n",
       "  <tbody>\n",
       "    <tr>\n",
       "      <th>0</th>\n",
       "      <td>www.mypriceindia.com//50</td>\n",
       "      <td>panasonic hc v130 price in india, bangalore, h...</td>\n",
       "    </tr>\n",
       "    <tr>\n",
       "      <th>1</th>\n",
       "      <td>www.mypriceindia.com//34</td>\n",
       "      <td>canon eos 1100d (ef-s 18-55 mm is ii) price in...</td>\n",
       "    </tr>\n",
       "    <tr>\n",
       "      <th>2</th>\n",
       "      <td>www.mypriceindia.com//47</td>\n",
       "      <td>panasonic lumix dmc tz30 price in india, banga...</td>\n",
       "    </tr>\n",
       "    <tr>\n",
       "      <th>3</th>\n",
       "      <td>www.mypriceindia.com//40</td>\n",
       "      <td>sony alpha ilce 7s (body only) price in india,...</td>\n",
       "    </tr>\n",
       "    <tr>\n",
       "      <th>4</th>\n",
       "      <td>www.mypriceindia.com//726</td>\n",
       "      <td>samsung st72 price in india, bangalore, hydera...</td>\n",
       "    </tr>\n",
       "  </tbody>\n",
       "</table>\n",
       "</div>"
      ],
      "text/plain": [
       "                     spec_id  \\\n",
       "0   www.mypriceindia.com//50   \n",
       "1   www.mypriceindia.com//34   \n",
       "2   www.mypriceindia.com//47   \n",
       "3   www.mypriceindia.com//40   \n",
       "4  www.mypriceindia.com//726   \n",
       "\n",
       "                                          page_title  \n",
       "0  panasonic hc v130 price in india, bangalore, h...  \n",
       "1  canon eos 1100d (ef-s 18-55 mm is ii) price in...  \n",
       "2  panasonic lumix dmc tz30 price in india, banga...  \n",
       "3  sony alpha ilce 7s (body only) price in india,...  \n",
       "4  samsung st72 price in india, bangalore, hydera...  "
      ]
     },
     "execution_count": 23,
     "metadata": {},
     "output_type": "execute_result"
    }
   ],
   "source": [
    "df = df[['spec_id', 'page_title']]\n",
    "df.head()"
   ]
  },
  {
   "cell_type": "code",
   "execution_count": 24,
   "metadata": {},
   "outputs": [],
   "source": [
    "with open('submission.csv', 'w') as file:\n",
    "    file.write('left_spec_id,right_spec_id\\n')"
   ]
  },
  {
   "cell_type": "code",
   "execution_count": 25,
   "metadata": {},
   "outputs": [
    {
     "name": "stderr",
     "output_type": "stream",
     "text": [
      "\n",
      "  0%|          | 0/298 [00:00<?, ?it/s]\u001b[A\n",
      "  0%|          | 1/298 [00:01<09:19,  1.88s/it]\u001b[A\n",
      "  1%|          | 2/298 [00:03<09:24,  1.91s/it]\u001b[A\n",
      "  1%|          | 3/298 [00:05<09:02,  1.84s/it]\u001b[A\n",
      "  1%|▏         | 4/298 [00:07<09:00,  1.84s/it]\u001b[A\n",
      "  2%|▏         | 5/298 [00:09<09:05,  1.86s/it]\u001b[A\n",
      "  2%|▏         | 6/298 [00:11<09:37,  1.98s/it]\u001b[A\n",
      "  2%|▏         | 7/298 [00:13<09:33,  1.97s/it]\u001b[A\n",
      "  3%|▎         | 8/298 [00:16<10:28,  2.17s/it]\u001b[A\n",
      "  3%|▎         | 9/298 [00:18<10:19,  2.14s/it]\u001b[A\n",
      "  3%|▎         | 10/298 [00:20<09:56,  2.07s/it]\u001b[A\n",
      "  4%|▎         | 11/298 [00:22<09:56,  2.08s/it]\u001b[A\n",
      "  4%|▍         | 12/298 [00:24<09:31,  2.00s/it]\u001b[A\n",
      "  4%|▍         | 13/298 [00:25<09:13,  1.94s/it]\u001b[A\n",
      "  5%|▍         | 14/298 [00:28<09:45,  2.06s/it]\u001b[A\n",
      "  5%|▌         | 15/298 [00:30<09:30,  2.02s/it]\u001b[A\n",
      "  5%|▌         | 16/298 [00:32<09:40,  2.06s/it]\u001b[A\n",
      "  6%|▌         | 17/298 [00:34<09:38,  2.06s/it]\u001b[A\n",
      "  6%|▌         | 18/298 [00:36<09:09,  1.96s/it]\u001b[A\n",
      "  6%|▋         | 19/298 [00:37<08:57,  1.93s/it]\u001b[A\n",
      "  7%|▋         | 20/298 [00:39<08:47,  1.90s/it]\u001b[A\n",
      "  7%|▋         | 21/298 [00:41<08:40,  1.88s/it]\u001b[A\n",
      "  7%|▋         | 22/298 [00:43<08:34,  1.87s/it]\u001b[A\n",
      "  8%|▊         | 23/298 [00:45<08:23,  1.83s/it]\u001b[A\n",
      "  8%|▊         | 24/298 [00:46<08:08,  1.78s/it]\u001b[A\n",
      "  8%|▊         | 25/298 [00:48<07:57,  1.75s/it]\u001b[A\n",
      "  9%|▊         | 26/298 [00:50<07:50,  1.73s/it]\u001b[A\n",
      "  9%|▉         | 27/298 [00:51<07:48,  1.73s/it]\u001b[A\n",
      "  9%|▉         | 28/298 [00:53<07:44,  1.72s/it]\u001b[A\n",
      " 10%|▉         | 29/298 [00:55<07:45,  1.73s/it]\u001b[A\n",
      " 10%|█         | 30/298 [00:57<07:42,  1.73s/it]\u001b[A\n",
      " 10%|█         | 31/298 [00:58<07:40,  1.73s/it]\u001b[A\n",
      " 11%|█         | 32/298 [01:00<07:40,  1.73s/it]\u001b[A\n",
      " 11%|█         | 33/298 [01:02<07:37,  1.73s/it]\u001b[A\n",
      " 11%|█▏        | 34/298 [01:03<07:31,  1.71s/it]\u001b[A\n",
      " 12%|█▏        | 35/298 [01:05<07:31,  1.72s/it]\u001b[A\n",
      " 12%|█▏        | 36/298 [01:07<07:26,  1.71s/it]\u001b[A\n",
      " 12%|█▏        | 37/298 [01:09<07:25,  1.71s/it]\u001b[A\n",
      " 13%|█▎        | 38/298 [01:10<07:21,  1.70s/it]\u001b[A\n",
      " 13%|█▎        | 39/298 [01:12<07:21,  1.71s/it]\u001b[A\n",
      " 13%|█▎        | 40/298 [01:14<07:20,  1.71s/it]\u001b[A\n",
      " 14%|█▍        | 41/298 [01:15<07:16,  1.70s/it]\u001b[A\n",
      " 14%|█▍        | 42/298 [01:17<07:16,  1.70s/it]\u001b[A\n",
      " 14%|█▍        | 43/298 [01:19<07:17,  1.71s/it]\u001b[A\n",
      " 15%|█▍        | 44/298 [01:20<07:16,  1.72s/it]\u001b[A\n",
      " 15%|█▌        | 45/298 [01:22<07:15,  1.72s/it]\u001b[A\n",
      " 15%|█▌        | 46/298 [01:24<07:12,  1.72s/it]\u001b[A\n",
      " 16%|█▌        | 47/298 [01:26<07:15,  1.73s/it]\u001b[A\n",
      " 16%|█▌        | 48/298 [01:27<07:15,  1.74s/it]\u001b[A\n",
      " 16%|█▋        | 49/298 [01:29<07:14,  1.74s/it]\u001b[A\n",
      " 17%|█▋        | 50/298 [01:31<07:08,  1.73s/it]\u001b[A\n",
      " 17%|█▋        | 51/298 [01:33<07:07,  1.73s/it]\u001b[A\n",
      " 17%|█▋        | 52/298 [01:34<07:06,  1.73s/it]\u001b[A\n",
      " 18%|█▊        | 53/298 [01:36<07:05,  1.74s/it]\u001b[A\n",
      " 18%|█▊        | 54/298 [01:38<06:59,  1.72s/it]\u001b[A\n",
      " 18%|█▊        | 55/298 [01:40<06:56,  1.72s/it]\u001b[A\n",
      " 19%|█▉        | 56/298 [01:41<06:57,  1.72s/it]\u001b[A\n",
      " 19%|█▉        | 57/298 [01:43<06:55,  1.72s/it]\u001b[A\n",
      " 19%|█▉        | 58/298 [01:45<06:50,  1.71s/it]\u001b[A\n",
      " 20%|█▉        | 59/298 [01:46<06:51,  1.72s/it]\u001b[A\n",
      " 20%|██        | 60/298 [01:48<06:48,  1.72s/it]\u001b[A\n",
      " 20%|██        | 61/298 [01:50<06:49,  1.73s/it]\u001b[A\n",
      " 21%|██        | 62/298 [01:52<06:46,  1.72s/it]\u001b[A\n",
      " 21%|██        | 63/298 [01:53<06:42,  1.71s/it]\u001b[A\n",
      " 21%|██▏       | 64/298 [01:55<06:42,  1.72s/it]\u001b[A\n",
      " 22%|██▏       | 65/298 [01:57<06:40,  1.72s/it]\u001b[A\n",
      " 22%|██▏       | 66/298 [01:58<06:36,  1.71s/it]\u001b[A\n",
      " 22%|██▏       | 67/298 [02:00<06:37,  1.72s/it]\u001b[A\n",
      " 23%|██▎       | 68/298 [02:02<06:37,  1.73s/it]\u001b[A\n",
      " 23%|██▎       | 69/298 [02:04<06:33,  1.72s/it]\u001b[A\n",
      " 23%|██▎       | 70/298 [02:05<06:37,  1.75s/it]\u001b[A\n",
      " 24%|██▍       | 71/298 [02:07<06:43,  1.78s/it]\u001b[A\n",
      " 24%|██▍       | 72/298 [02:09<06:39,  1.77s/it]\u001b[A\n",
      " 24%|██▍       | 73/298 [02:11<06:35,  1.76s/it]\u001b[A\n",
      " 25%|██▍       | 74/298 [02:12<06:31,  1.75s/it]\u001b[A\n",
      " 25%|██▌       | 75/298 [02:14<06:30,  1.75s/it]\u001b[A\n",
      " 26%|██▌       | 76/298 [02:16<06:29,  1.75s/it]\u001b[A\n",
      " 26%|██▌       | 77/298 [02:18<06:26,  1.75s/it]\u001b[A\n",
      " 26%|██▌       | 78/298 [02:19<06:20,  1.73s/it]\u001b[A\n",
      " 27%|██▋       | 79/298 [02:21<06:20,  1.74s/it]\u001b[A\n",
      " 27%|██▋       | 80/298 [02:23<06:18,  1.74s/it]\u001b[A\n",
      " 27%|██▋       | 81/298 [02:25<06:14,  1.73s/it]\u001b[A\n",
      " 28%|██▊       | 82/298 [02:26<06:13,  1.73s/it]\u001b[A\n",
      " 28%|██▊       | 83/298 [02:28<06:10,  1.72s/it]\u001b[A\n",
      " 28%|██▊       | 84/298 [02:30<06:09,  1.73s/it]\u001b[A\n",
      " 29%|██▊       | 85/298 [02:32<06:09,  1.73s/it]\u001b[A\n",
      " 29%|██▉       | 86/298 [02:33<06:09,  1.74s/it]\u001b[A\n",
      " 29%|██▉       | 87/298 [02:35<06:06,  1.74s/it]\u001b[A\n",
      " 30%|██▉       | 88/298 [02:37<06:13,  1.78s/it]\u001b[A\n",
      " 30%|██▉       | 89/298 [02:39<06:09,  1.77s/it]\u001b[A\n",
      " 30%|███       | 90/298 [02:40<06:07,  1.77s/it]\u001b[A\n",
      " 31%|███       | 91/298 [02:42<06:04,  1.76s/it]\u001b[A\n",
      " 31%|███       | 92/298 [02:44<05:59,  1.75s/it]\u001b[A\n",
      " 31%|███       | 93/298 [02:46<05:58,  1.75s/it]\u001b[A\n",
      " 32%|███▏      | 94/298 [02:47<05:57,  1.75s/it]\u001b[A\n",
      " 32%|███▏      | 95/298 [02:49<05:51,  1.73s/it]\u001b[A\n",
      " 32%|███▏      | 96/298 [02:51<05:51,  1.74s/it]\u001b[A\n",
      " 33%|███▎      | 97/298 [02:53<05:51,  1.75s/it]\u001b[A\n",
      " 33%|███▎      | 98/298 [02:54<05:48,  1.74s/it]\u001b[A\n",
      " 33%|███▎      | 99/298 [02:56<05:47,  1.75s/it]\u001b[A\n",
      " 34%|███▎      | 100/298 [02:58<05:48,  1.76s/it]\u001b[A\n",
      " 34%|███▍      | 101/298 [03:00<05:46,  1.76s/it]\u001b[A\n",
      " 34%|███▍      | 102/298 [03:01<05:44,  1.76s/it]\u001b[A\n",
      " 35%|███▍      | 103/298 [03:03<05:42,  1.76s/it]\u001b[A\n",
      " 35%|███▍      | 104/298 [03:05<05:38,  1.75s/it]\u001b[A\n",
      " 35%|███▌      | 105/298 [03:06<05:32,  1.72s/it]\u001b[A\n",
      " 36%|███▌      | 106/298 [03:08<05:28,  1.71s/it]\u001b[A\n",
      " 36%|███▌      | 107/298 [03:10<05:29,  1.73s/it]\u001b[A\n",
      " 36%|███▌      | 108/298 [03:12<05:27,  1.72s/it]\u001b[A\n",
      " 37%|███▋      | 109/298 [03:13<05:22,  1.71s/it]\u001b[A\n",
      " 37%|███▋      | 110/298 [03:15<05:22,  1.72s/it]\u001b[A\n",
      " 37%|███▋      | 111/298 [03:17<05:22,  1.73s/it]\u001b[A\n",
      " 38%|███▊      | 112/298 [03:18<05:18,  1.71s/it]\u001b[A\n",
      " 38%|███▊      | 113/298 [03:20<05:14,  1.70s/it]\u001b[A\n",
      " 38%|███▊      | 114/298 [03:22<05:14,  1.71s/it]\u001b[A\n",
      " 39%|███▊      | 115/298 [03:24<05:14,  1.72s/it]\u001b[A\n",
      " 39%|███▉      | 116/298 [03:25<05:13,  1.72s/it]\u001b[A\n",
      " 39%|███▉      | 117/298 [03:27<05:16,  1.75s/it]\u001b[A\n",
      " 40%|███▉      | 118/298 [03:29<05:14,  1.75s/it]\u001b[A\n",
      " 40%|███▉      | 119/298 [03:31<05:12,  1.75s/it]\u001b[A\n",
      " 40%|████      | 120/298 [03:32<05:11,  1.75s/it]\u001b[A\n",
      " 41%|████      | 121/298 [03:34<05:08,  1.75s/it]\u001b[A\n",
      " 41%|████      | 122/298 [03:36<05:05,  1.74s/it]\u001b[A\n",
      " 41%|████▏     | 123/298 [03:38<05:04,  1.74s/it]\u001b[A\n",
      " 42%|████▏     | 124/298 [03:39<05:00,  1.73s/it]\u001b[A\n",
      " 42%|████▏     | 125/298 [03:41<04:59,  1.73s/it]\u001b[A\n",
      " 42%|████▏     | 126/298 [03:43<04:57,  1.73s/it]\u001b[A\n",
      " 43%|████▎     | 127/298 [03:45<04:55,  1.73s/it]\u001b[A\n",
      " 43%|████▎     | 128/298 [03:46<04:50,  1.71s/it]\u001b[A\n",
      " 43%|████▎     | 129/298 [03:48<04:48,  1.71s/it]\u001b[A\n",
      " 44%|████▎     | 130/298 [03:50<04:45,  1.70s/it]\u001b[A\n",
      " 44%|████▍     | 131/298 [03:51<04:43,  1.70s/it]\u001b[A\n",
      " 44%|████▍     | 132/298 [03:53<04:41,  1.70s/it]\u001b[A\n",
      " 45%|████▍     | 133/298 [03:55<04:42,  1.71s/it]\u001b[A\n",
      " 45%|████▍     | 134/298 [03:56<04:41,  1.72s/it]\u001b[A\n",
      " 45%|████▌     | 135/298 [03:58<04:38,  1.71s/it]\u001b[A\n",
      " 46%|████▌     | 136/298 [04:00<04:38,  1.72s/it]\u001b[A\n",
      " 46%|████▌     | 137/298 [04:02<04:37,  1.72s/it]\u001b[A\n",
      " 46%|████▋     | 138/298 [04:03<04:33,  1.71s/it]\u001b[A\n",
      " 47%|████▋     | 139/298 [04:05<04:32,  1.71s/it]\u001b[A\n",
      " 47%|████▋     | 140/298 [04:07<04:31,  1.72s/it]\u001b[A\n",
      " 47%|████▋     | 141/298 [04:08<04:29,  1.71s/it]\u001b[A\n",
      " 48%|████▊     | 142/298 [04:10<04:27,  1.71s/it]\u001b[A\n",
      " 48%|████▊     | 143/298 [04:12<04:27,  1.72s/it]\u001b[A\n",
      " 48%|████▊     | 144/298 [04:14<04:25,  1.72s/it]\u001b[A\n",
      " 49%|████▊     | 145/298 [04:15<04:24,  1.73s/it]\u001b[A\n",
      " 49%|████▉     | 146/298 [04:17<04:23,  1.73s/it]\u001b[A\n",
      " 49%|████▉     | 147/298 [04:19<04:21,  1.73s/it]\u001b[A\n",
      " 50%|████▉     | 148/298 [04:21<04:20,  1.74s/it]\u001b[A\n",
      " 50%|█████     | 149/298 [04:22<04:19,  1.74s/it]\u001b[A\n",
      " 50%|█████     | 150/298 [04:24<04:18,  1.74s/it]\u001b[A\n",
      " 51%|█████     | 151/298 [04:26<04:14,  1.73s/it]\u001b[A\n",
      " 51%|█████     | 152/298 [04:27<04:10,  1.72s/it]\u001b[A\n",
      " 51%|█████▏    | 153/298 [04:29<04:09,  1.72s/it]\u001b[A\n",
      " 52%|█████▏    | 154/298 [04:31<04:07,  1.72s/it]\u001b[A\n",
      " 52%|█████▏    | 155/298 [04:33<04:06,  1.73s/it]\u001b[A\n",
      " 52%|█████▏    | 156/298 [04:34<04:06,  1.73s/it]\u001b[A\n",
      " 53%|█████▎    | 157/298 [04:36<04:02,  1.72s/it]\u001b[A\n",
      " 53%|█████▎    | 158/298 [04:38<04:00,  1.72s/it]\u001b[A\n",
      " 53%|█████▎    | 159/298 [04:39<03:57,  1.71s/it]\u001b[A\n",
      " 54%|█████▎    | 160/298 [04:41<03:57,  1.72s/it]\u001b[A\n",
      " 54%|█████▍    | 161/298 [04:43<03:55,  1.72s/it]\u001b[A\n",
      " 54%|█████▍    | 162/298 [04:45<03:54,  1.73s/it]\u001b[A\n",
      " 55%|█████▍    | 163/298 [04:46<03:53,  1.73s/it]\u001b[A\n",
      " 55%|█████▌    | 164/298 [04:48<03:49,  1.72s/it]\u001b[A\n",
      " 55%|█████▌    | 165/298 [04:50<03:48,  1.72s/it]\u001b[A\n",
      " 56%|█████▌    | 166/298 [04:52<03:47,  1.72s/it]\u001b[A\n",
      " 56%|█████▌    | 167/298 [04:53<03:47,  1.74s/it]\u001b[A\n",
      " 56%|█████▋    | 168/298 [04:55<03:49,  1.77s/it]\u001b[A\n",
      " 57%|█████▋    | 169/298 [04:57<03:50,  1.79s/it]\u001b[A\n",
      " 57%|█████▋    | 170/298 [04:59<03:45,  1.76s/it]\u001b[A\n",
      " 57%|█████▋    | 171/298 [05:00<03:43,  1.76s/it]\u001b[A\n",
      " 58%|█████▊    | 172/298 [05:02<03:41,  1.76s/it]\u001b[A\n",
      " 58%|█████▊    | 173/298 [05:04<03:39,  1.75s/it]\u001b[A\n",
      " 58%|█████▊    | 174/298 [05:06<03:36,  1.74s/it]\u001b[A\n",
      " 59%|█████▊    | 175/298 [05:07<03:31,  1.72s/it]\u001b[A\n",
      " 59%|█████▉    | 176/298 [05:09<03:28,  1.71s/it]\u001b[A\n",
      " 59%|█████▉    | 177/298 [05:11<03:26,  1.71s/it]\u001b[A\n",
      " 60%|█████▉    | 178/298 [05:12<03:26,  1.72s/it]\u001b[A\n",
      " 60%|██████    | 179/298 [05:14<03:23,  1.71s/it]\u001b[A\n",
      " 60%|██████    | 180/298 [05:16<03:20,  1.70s/it]\u001b[A\n",
      " 61%|██████    | 181/298 [05:18<03:22,  1.73s/it]\u001b[A\n",
      " 61%|██████    | 182/298 [05:19<03:20,  1.73s/it]\u001b[A\n",
      " 61%|██████▏   | 183/298 [05:21<03:17,  1.72s/it]\u001b[A\n",
      " 62%|██████▏   | 184/298 [05:23<03:14,  1.71s/it]\u001b[A\n",
      " 62%|██████▏   | 185/298 [05:25<03:17,  1.74s/it]\u001b[A\n",
      " 62%|██████▏   | 186/298 [05:26<03:18,  1.77s/it]\u001b[A\n",
      " 63%|██████▎   | 187/298 [05:28<03:16,  1.77s/it]\u001b[A\n",
      " 63%|██████▎   | 188/298 [05:30<03:11,  1.74s/it]\u001b[A\n",
      " 63%|██████▎   | 189/298 [05:32<03:07,  1.72s/it]\u001b[A\n",
      " 64%|██████▍   | 190/298 [05:33<03:05,  1.72s/it]\u001b[A\n",
      " 64%|██████▍   | 191/298 [05:35<03:02,  1.71s/it]\u001b[A\n",
      " 64%|██████▍   | 192/298 [05:37<03:06,  1.76s/it]\u001b[A\n",
      " 65%|██████▍   | 193/298 [05:39<03:05,  1.77s/it]\u001b[A\n",
      " 65%|██████▌   | 194/298 [05:40<03:02,  1.75s/it]\u001b[A\n",
      " 65%|██████▌   | 195/298 [05:42<02:58,  1.73s/it]\u001b[A\n",
      " 66%|██████▌   | 196/298 [05:44<02:59,  1.76s/it]\u001b[A\n",
      " 66%|██████▌   | 197/298 [05:46<03:00,  1.79s/it]\u001b[A\n",
      " 66%|██████▋   | 198/298 [05:47<02:58,  1.79s/it]\u001b[A\n",
      " 67%|██████▋   | 199/298 [05:49<02:54,  1.76s/it]\u001b[A\n",
      " 67%|██████▋   | 200/298 [05:51<02:50,  1.74s/it]\u001b[A\n",
      " 67%|██████▋   | 201/298 [05:53<02:49,  1.75s/it]\u001b[A\n",
      " 68%|██████▊   | 202/298 [05:54<02:47,  1.75s/it]\u001b[A\n",
      " 68%|██████▊   | 203/298 [05:56<02:47,  1.76s/it]\u001b[A\n",
      " 68%|██████▊   | 204/298 [05:58<02:47,  1.78s/it]\u001b[A\n",
      " 69%|██████▉   | 205/298 [06:00<02:47,  1.80s/it]\u001b[A\n",
      " 69%|██████▉   | 206/298 [06:02<02:44,  1.78s/it]\u001b[A\n",
      " 69%|██████▉   | 207/298 [06:03<02:42,  1.79s/it]\u001b[A\n",
      " 70%|██████▉   | 208/298 [06:05<02:42,  1.80s/it]\u001b[A\n",
      " 70%|███████   | 209/298 [06:07<02:44,  1.84s/it]\u001b[A\n",
      " 70%|███████   | 210/298 [06:09<02:39,  1.81s/it]\u001b[A\n",
      " 71%|███████   | 211/298 [06:11<02:34,  1.78s/it]\u001b[A\n",
      " 71%|███████   | 212/298 [06:12<02:31,  1.76s/it]\u001b[A\n",
      " 71%|███████▏  | 213/298 [06:14<02:27,  1.73s/it]\u001b[A\n",
      " 72%|███████▏  | 214/298 [06:16<02:24,  1.72s/it]\u001b[A\n",
      " 72%|███████▏  | 215/298 [06:17<02:25,  1.75s/it]\u001b[A\n",
      " 72%|███████▏  | 216/298 [06:19<02:23,  1.75s/it]\u001b[A\n",
      " 73%|███████▎  | 217/298 [06:21<02:23,  1.77s/it]\u001b[A\n",
      " 73%|███████▎  | 218/298 [06:23<02:20,  1.76s/it]\u001b[A\n",
      " 73%|███████▎  | 219/298 [06:24<02:17,  1.74s/it]\u001b[A\n",
      " 74%|███████▍  | 220/298 [06:26<02:14,  1.73s/it]\u001b[A\n",
      " 74%|███████▍  | 221/298 [06:28<02:12,  1.71s/it]\u001b[A\n",
      " 74%|███████▍  | 222/298 [06:30<02:09,  1.71s/it]\u001b[A\n",
      " 75%|███████▍  | 223/298 [06:31<02:08,  1.71s/it]\u001b[A\n",
      " 75%|███████▌  | 224/298 [06:33<02:05,  1.70s/it]\u001b[A\n",
      " 76%|███████▌  | 225/298 [06:35<02:04,  1.71s/it]\u001b[A\n",
      " 76%|███████▌  | 226/298 [06:36<02:05,  1.74s/it]\u001b[A\n",
      " 76%|███████▌  | 227/298 [06:38<02:06,  1.78s/it]\u001b[A\n",
      " 77%|███████▋  | 228/298 [06:40<02:03,  1.77s/it]\u001b[A\n",
      " 77%|███████▋  | 229/298 [06:42<02:02,  1.78s/it]\u001b[A\n",
      " 77%|███████▋  | 230/298 [06:44<02:00,  1.77s/it]\u001b[A\n",
      " 78%|███████▊  | 231/298 [06:45<01:57,  1.75s/it]\u001b[A\n",
      " 78%|███████▊  | 232/298 [06:47<01:56,  1.76s/it]\u001b[A\n",
      " 78%|███████▊  | 233/298 [06:49<01:55,  1.78s/it]\u001b[A\n",
      " 79%|███████▊  | 234/298 [06:51<01:55,  1.80s/it]\u001b[A\n",
      " 79%|███████▉  | 235/298 [06:53<01:54,  1.82s/it]\u001b[A\n",
      " 79%|███████▉  | 236/298 [06:54<01:51,  1.80s/it]\u001b[A\n",
      " 80%|███████▉  | 237/298 [06:56<01:50,  1.81s/it]\u001b[A\n",
      " 80%|███████▉  | 238/298 [06:58<01:47,  1.79s/it]\u001b[A\n",
      " 80%|████████  | 239/298 [07:00<01:43,  1.75s/it]\u001b[A\n",
      " 81%|████████  | 240/298 [07:01<01:40,  1.74s/it]\u001b[A\n",
      " 81%|████████  | 241/298 [07:03<01:38,  1.72s/it]\u001b[A\n",
      " 81%|████████  | 242/298 [07:05<01:35,  1.71s/it]\u001b[A\n",
      " 82%|████████▏ | 243/298 [07:06<01:35,  1.73s/it]\u001b[A\n",
      " 82%|████████▏ | 244/298 [07:08<01:35,  1.77s/it]\u001b[A\n",
      " 82%|████████▏ | 245/298 [07:10<01:32,  1.74s/it]\u001b[A\n",
      " 83%|████████▎ | 246/298 [07:12<01:29,  1.72s/it]\u001b[A\n",
      " 83%|████████▎ | 247/298 [07:13<01:27,  1.71s/it]\u001b[A\n",
      " 83%|████████▎ | 248/298 [07:15<01:24,  1.70s/it]\u001b[A\n",
      " 84%|████████▎ | 249/298 [07:17<01:23,  1.70s/it]\u001b[A\n",
      " 84%|████████▍ | 250/298 [07:18<01:21,  1.70s/it]\u001b[A\n",
      " 84%|████████▍ | 251/298 [07:20<01:19,  1.70s/it]\u001b[A\n",
      " 85%|████████▍ | 252/298 [07:22<01:21,  1.78s/it]\u001b[A\n",
      " 85%|████████▍ | 253/298 [07:26<01:48,  2.41s/it]\u001b[A\n",
      " 85%|████████▌ | 254/298 [07:28<01:41,  2.31s/it]\u001b[A\n",
      " 86%|████████▌ | 255/298 [07:30<01:32,  2.16s/it]\u001b[A\n",
      " 86%|████████▌ | 256/298 [07:32<01:26,  2.07s/it]\u001b[A\n",
      " 86%|████████▌ | 257/298 [07:33<01:20,  1.97s/it]\u001b[A\n",
      " 87%|████████▋ | 258/298 [07:35<01:15,  1.89s/it]\u001b[A\n",
      " 87%|████████▋ | 259/298 [07:37<01:13,  1.87s/it]\u001b[A\n",
      " 87%|████████▋ | 260/298 [07:39<01:09,  1.84s/it]\u001b[A\n",
      " 88%|████████▊ | 261/298 [07:41<01:07,  1.83s/it]\u001b[A\n",
      " 88%|████████▊ | 262/298 [07:42<01:05,  1.81s/it]\u001b[A\n",
      " 88%|████████▊ | 263/298 [07:44<01:03,  1.80s/it]\u001b[A\n",
      " 89%|████████▊ | 264/298 [07:46<01:00,  1.77s/it]\u001b[A\n",
      " 89%|████████▉ | 265/298 [07:48<00:57,  1.75s/it]\u001b[A\n",
      " 89%|████████▉ | 266/298 [07:49<00:55,  1.74s/it]\u001b[A\n",
      " 90%|████████▉ | 267/298 [07:51<00:53,  1.72s/it]\u001b[A\n",
      " 90%|████████▉ | 268/298 [07:53<00:51,  1.73s/it]\u001b[A\n",
      " 90%|█████████ | 269/298 [07:54<00:49,  1.71s/it]\u001b[A\n",
      " 91%|█████████ | 270/298 [07:56<00:47,  1.71s/it]\u001b[A\n",
      " 91%|█████████ | 271/298 [07:58<00:46,  1.71s/it]\u001b[A\n",
      " 91%|█████████▏| 272/298 [07:59<00:44,  1.71s/it]\u001b[A\n",
      " 92%|█████████▏| 273/298 [08:01<00:43,  1.72s/it]\u001b[A\n",
      " 92%|█████████▏| 274/298 [08:03<00:41,  1.72s/it]\u001b[A\n",
      " 92%|█████████▏| 275/298 [08:05<00:39,  1.71s/it]\u001b[A\n",
      " 93%|█████████▎| 276/298 [08:06<00:37,  1.71s/it]\u001b[A\n",
      " 93%|█████████▎| 277/298 [08:08<00:36,  1.73s/it]\u001b[A\n",
      " 93%|█████████▎| 278/298 [08:10<00:34,  1.74s/it]\u001b[A\n",
      " 94%|█████████▎| 279/298 [08:12<00:32,  1.72s/it]\u001b[A\n",
      " 94%|█████████▍| 280/298 [08:13<00:30,  1.71s/it]\u001b[A\n",
      " 94%|█████████▍| 281/298 [08:15<00:28,  1.70s/it]\u001b[A\n",
      " 95%|█████████▍| 282/298 [08:17<00:27,  1.70s/it]\u001b[A\n",
      " 95%|█████████▍| 283/298 [08:18<00:25,  1.71s/it]\u001b[A\n",
      " 95%|█████████▌| 284/298 [08:20<00:23,  1.70s/it]\u001b[A\n",
      " 96%|█████████▌| 285/298 [08:22<00:22,  1.70s/it]\u001b[A\n",
      " 96%|█████████▌| 286/298 [08:23<00:20,  1.70s/it]\u001b[A\n",
      " 96%|█████████▋| 287/298 [08:25<00:18,  1.71s/it]\u001b[A\n",
      " 97%|█████████▋| 288/298 [08:27<00:17,  1.76s/it]\u001b[A\n",
      " 97%|█████████▋| 289/298 [08:29<00:15,  1.77s/it]\u001b[A\n",
      " 97%|█████████▋| 290/298 [08:31<00:14,  1.79s/it]\u001b[A\n",
      " 98%|█████████▊| 291/298 [08:32<00:12,  1.78s/it]\u001b[A\n",
      " 98%|█████████▊| 292/298 [08:34<00:10,  1.75s/it]\u001b[A\n",
      " 98%|█████████▊| 293/298 [08:36<00:08,  1.75s/it]\u001b[A\n",
      " 99%|█████████▊| 294/298 [08:38<00:07,  1.77s/it]\u001b[A\n",
      " 99%|█████████▉| 295/298 [08:39<00:05,  1.76s/it]\u001b[A\n",
      " 99%|█████████▉| 296/298 [08:41<00:03,  1.76s/it]\u001b[A\n",
      "100%|█████████▉| 297/298 [08:43<00:01,  1.75s/it]\u001b[A\n",
      "100%|██████████| 298/298 [08:44<00:00,  1.66s/it]\u001b[A"
     ]
    }
   ],
   "source": [
    "chunk_size = 100\n",
    "number_chunks = len(df) // chunk_size + 1\n",
    "for i in tqdm(range(number_chunks)):\n",
    "    # Takes a small chunk\n",
    "    df_small = df[i * chunk_size:(i + 1) * chunk_size].copy()\n",
    "    \n",
    "    # Computes the numerical representation of the title\n",
    "    df_small['page_title'] = df_small['page_title'].apply(lambda x: vect.transform([x]).toarray().flatten())\n",
    "    \n",
    "    # Computes all pairs\n",
    "    merged = (df_small.merge(df_small, on=df_small.assign(key_col=1)['key_col'], suffixes=('', '_right'))\n",
    "    .query('spec_id < spec_id_right') # filter out joins on the same row\n",
    "    .reset_index(drop=True))\n",
    "    merged.drop(columns = [\"key_0\"], axis = 1, inplace=True)\n",
    "\n",
    "    merged.rename(columns = {\"spec_id\" : \"left_spec_id\", \"spec_id_right\" : \"right_spec_id\"}, inplace=True)\n",
    "    merged.reset_index(inplace=True)\n",
    "    merged.drop(columns=['index'], inplace=True)\n",
    "    merged.rename(columns = {\"page_title\" : \"left_page_title\", \"page_title_right\" : \"right_page_title\"}, inplace=True)\n",
    "    \n",
    "    # Flattens the embedding, generates one matrix with a column per feature\n",
    "    X = merged[['left_page_title', 'right_page_title']]\n",
    "    X = X.to_numpy()\n",
    "    X = np.array([np.concatenate(x) for x in X])\n",
    "    \n",
    "    # Predicts the labels using random forests, change 'rf' to 'nb' for naive Bayes\n",
    "    merged['label'] = rf.predict(X)\n",
    "    \n",
    "    # Filters the result, keeping only the matches\n",
    "    matches = merged.query('label == 1')\n",
    "    \n",
    "    # Saves the matches to a CSV file\n",
    "    output = matches[['left_spec_id', 'right_spec_id']]\n",
    "    output.to_csv('submission.csv', index=False, header=False, mode='a')"
   ]
  },
  {
   "cell_type": "code",
   "execution_count": null,
   "metadata": {},
   "outputs": [],
   "source": []
  }
 ],
 "metadata": {
  "kernelspec": {
   "display_name": "Python 3",
   "language": "python",
   "name": "python3"
  },
  "language_info": {
   "codemirror_mode": {
    "name": "ipython",
    "version": 3
   },
   "file_extension": ".py",
   "mimetype": "text/x-python",
   "name": "python",
   "nbconvert_exporter": "python",
   "pygments_lexer": "ipython3",
   "version": "3.7.4"
  }
 },
 "nbformat": 4,
 "nbformat_minor": 4
}
