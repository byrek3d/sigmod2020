{
 "cells": [
  {
   "cell_type": "code",
   "execution_count": 1,
   "metadata": {},
   "outputs": [],
   "source": [
    "import os\n",
    "import numpy as np\n",
    "import json\n",
    "import pandas as pd\n",
    "import itertools\n",
    "from tqdm import tqdm\n",
    "import nltk\n",
    "from nltk.tokenize import word_tokenize\n",
    "import re\n",
    "import matplotlib.pyplot as plt"
   ]
  },
  {
   "cell_type": "code",
   "execution_count": 2,
   "metadata": {},
   "outputs": [],
   "source": [
    "def create_dataframe(dataset_path, source):\n",
    "    \"\"\"Function used to create a Pandas DataFrame containing specifications page titles\n",
    "\n",
    "    Reads products specifications from the file system (\"dataset_path\" variable in the main function) and creates a Pandas DataFrame where each row is a\n",
    "    specification. The columns are 'source' (e.g. www.sourceA.com), 'spec_number' (e.g. 1) and the 'page title'. Note that this script will consider only\n",
    "    the page title attribute for simplicity.\n",
    "\n",
    "    Args:\n",
    "        dataset_path (str): The path to the dataset\n",
    "\n",
    "    Returns:\n",
    "        df (pd.DataFrame): The Pandas DataFrame containing specifications and page titles\n",
    "    \"\"\"\n",
    "\n",
    "    print('>>> Creating dataframe...\\n')\n",
    "    columns_df = ['source', 'spec_number', 'spec_id', 'page_title']\n",
    "    \n",
    "    df = pd.DataFrame()\n",
    "    progressive_id = 0\n",
    "    progressive_id2row_df = {}\n",
    "    #for source in tqdm(os.listdir(dataset_path)):\n",
    "    #source = \"buy.net\"\n",
    "    for specification in os.listdir(os.path.join(dataset_path, source)):\n",
    "        specification_number = specification.replace('.json', '')\n",
    "        specification_id = '{}//{}'.format(source, specification_number)\n",
    "        with open(os.path.join(dataset_path, source, specification)) as specification_file:\n",
    "            columns_df = ['source', 'spec_number', 'spec_id']\n",
    "            specification_data = json.load(specification_file)\n",
    "            attrs = []\n",
    "            for k, v in specification_data.items():\n",
    "                columns_df.append(k)\n",
    "                attrs.append(v)\n",
    "            row = [source, specification_number, specification_id]\n",
    "            row.extend(attrs)\n",
    "            progressive_id2row_df.update({progressive_id: row})\n",
    "            progressive_id += 1\n",
    "            df = df.append(pd.DataFrame.from_dict(progressive_id2row_df, orient='index', columns=columns_df))\n",
    "            progressive_id2row_df = {}\n",
    "    #print(df)\n",
    "    print('>>> Dataframe created successfully!\\n')\n",
    "    return df"
   ]
  },
  {
   "cell_type": "code",
   "execution_count": 3,
   "metadata": {},
   "outputs": [
    {
     "name": "stdout",
     "output_type": "stream",
     "text": [
      ">>> Creating dataframe...\n",
      "\n",
      ">>> Dataframe created successfully!\n",
      "\n"
     ]
    }
   ],
   "source": [
    "df = create_dataframe('../../datasets/unlabeled/2013_camera_specs', \"www.price-hunt.com\")"
   ]
  },
  {
   "cell_type": "code",
   "execution_count": 4,
   "metadata": {},
   "outputs": [
    {
     "data": {
      "text/html": [
       "<div>\n",
       "<style scoped>\n",
       "    .dataframe tbody tr th:only-of-type {\n",
       "        vertical-align: middle;\n",
       "    }\n",
       "\n",
       "    .dataframe tbody tr th {\n",
       "        vertical-align: top;\n",
       "    }\n",
       "\n",
       "    .dataframe thead th {\n",
       "        text-align: right;\n",
       "    }\n",
       "</style>\n",
       "<table border=\"1\" class=\"dataframe\">\n",
       "  <thead>\n",
       "    <tr style=\"text-align: right;\">\n",
       "      <th></th>\n",
       "      <th>source</th>\n",
       "      <th>spec_number</th>\n",
       "      <th>spec_id</th>\n",
       "      <th>&lt;page title&gt;</th>\n",
       "      <th>additional features</th>\n",
       "      <th>aperture range</th>\n",
       "      <th>audio formats</th>\n",
       "      <th>audio video interface</th>\n",
       "      <th>auto focus</th>\n",
       "      <th>battery type</th>\n",
       "      <th>...</th>\n",
       "      <th>3d images</th>\n",
       "      <th>still image 3d</th>\n",
       "      <th>dynamic range adjustment</th>\n",
       "      <th>recording time</th>\n",
       "      <th>still image mode</th>\n",
       "      <th>view magnification</th>\n",
       "      <th>iso speed range</th>\n",
       "      <th>flash bracketing</th>\n",
       "      <th>maximum recording time</th>\n",
       "      <th>eyefi ready</th>\n",
       "    </tr>\n",
       "  </thead>\n",
       "  <tbody>\n",
       "    <tr>\n",
       "      <th>0</th>\n",
       "      <td>www.price-hunt.com</td>\n",
       "      <td>840</td>\n",
       "      <td>www.price-hunt.com//840</td>\n",
       "      <td>Canon IXUS 132 Advanced Point &amp; Shoot Camera b...</td>\n",
       "      <td>Humidity: 10% - 90%, 100% Coverage, Intelligen...</td>\n",
       "      <td>F3.2 (w) - f6.9 (t)</td>\n",
       "      <td>Linear pcm</td>\n",
       "      <td>Audio / Video Output (Ntsc, Pal)</td>\n",
       "      <td>Ttl</td>\n",
       "      <td>Lithium Battery</td>\n",
       "      <td>...</td>\n",
       "      <td>NaN</td>\n",
       "      <td>NaN</td>\n",
       "      <td>NaN</td>\n",
       "      <td>NaN</td>\n",
       "      <td>NaN</td>\n",
       "      <td>NaN</td>\n",
       "      <td>NaN</td>\n",
       "      <td>NaN</td>\n",
       "      <td>NaN</td>\n",
       "      <td>NaN</td>\n",
       "    </tr>\n",
       "    <tr>\n",
       "      <th>1</th>\n",
       "      <td>www.price-hunt.com</td>\n",
       "      <td>9603</td>\n",
       "      <td>www.price-hunt.com//9603</td>\n",
       "      <td>Sony Cyber Shot DSC W380 best price in India 2...</td>\n",
       "      <td>NaN</td>\n",
       "      <td>F3.5 - f6.3</td>\n",
       "      <td>NaN</td>\n",
       "      <td>NaN</td>\n",
       "      <td>NaN</td>\n",
       "      <td>Lithium-ion</td>\n",
       "      <td>...</td>\n",
       "      <td>NaN</td>\n",
       "      <td>NaN</td>\n",
       "      <td>NaN</td>\n",
       "      <td>NaN</td>\n",
       "      <td>NaN</td>\n",
       "      <td>NaN</td>\n",
       "      <td>NaN</td>\n",
       "      <td>NaN</td>\n",
       "      <td>NaN</td>\n",
       "      <td>NaN</td>\n",
       "    </tr>\n",
       "    <tr>\n",
       "      <th>2</th>\n",
       "      <td>www.price-hunt.com</td>\n",
       "      <td>9809</td>\n",
       "      <td>www.price-hunt.com//9809</td>\n",
       "      <td>Samsung PL120 Point &amp; Shoot Camera best price ...</td>\n",
       "      <td>Operating Temperature: 0deg - 40deg c</td>\n",
       "      <td>NaN</td>\n",
       "      <td>Aac</td>\n",
       "      <td>Audio / Video Output (Ntsc, Pal)</td>\n",
       "      <td>Smart Face Recognition af, Face Detection af, ...</td>\n",
       "      <td>Lithium Battery</td>\n",
       "      <td>...</td>\n",
       "      <td>NaN</td>\n",
       "      <td>NaN</td>\n",
       "      <td>NaN</td>\n",
       "      <td>NaN</td>\n",
       "      <td>NaN</td>\n",
       "      <td>NaN</td>\n",
       "      <td>NaN</td>\n",
       "      <td>NaN</td>\n",
       "      <td>NaN</td>\n",
       "      <td>NaN</td>\n",
       "    </tr>\n",
       "    <tr>\n",
       "      <th>3</th>\n",
       "      <td>www.price-hunt.com</td>\n",
       "      <td>940</td>\n",
       "      <td>www.price-hunt.com//940</td>\n",
       "      <td>Nikon Coolpix P530 Point &amp; Shoot Camera best p...</td>\n",
       "      <td>Viewfinder: 0.5 cm (0.2 Inch), 201,000 Dots Eq...</td>\n",
       "      <td>F3 - f5.9</td>\n",
       "      <td>Audio: Lpcm Stereo, WAV</td>\n",
       "      <td>NaN</td>\n",
       "      <td>Contrast Detect af</td>\n",
       "      <td>Lithium Battery</td>\n",
       "      <td>...</td>\n",
       "      <td>NaN</td>\n",
       "      <td>NaN</td>\n",
       "      <td>NaN</td>\n",
       "      <td>NaN</td>\n",
       "      <td>NaN</td>\n",
       "      <td>NaN</td>\n",
       "      <td>NaN</td>\n",
       "      <td>NaN</td>\n",
       "      <td>NaN</td>\n",
       "      <td>NaN</td>\n",
       "    </tr>\n",
       "    <tr>\n",
       "      <th>4</th>\n",
       "      <td>www.price-hunt.com</td>\n",
       "      <td>9777</td>\n",
       "      <td>www.price-hunt.com//9777</td>\n",
       "      <td>Kodak Pixpro FZ41 Point &amp; Shoot Camera best pr...</td>\n",
       "      <td>NaN</td>\n",
       "      <td>F 3.0 (Wide) - f6.6 (Tele, )</td>\n",
       "      <td>NaN</td>\n",
       "      <td>NaN</td>\n",
       "      <td>NaN</td>\n",
       "      <td>Aa</td>\n",
       "      <td>...</td>\n",
       "      <td>NaN</td>\n",
       "      <td>NaN</td>\n",
       "      <td>NaN</td>\n",
       "      <td>NaN</td>\n",
       "      <td>NaN</td>\n",
       "      <td>NaN</td>\n",
       "      <td>NaN</td>\n",
       "      <td>NaN</td>\n",
       "      <td>NaN</td>\n",
       "      <td>NaN</td>\n",
       "    </tr>\n",
       "  </tbody>\n",
       "</table>\n",
       "<p>5 rows × 170 columns</p>\n",
       "</div>"
      ],
      "text/plain": [
       "               source spec_number                   spec_id  \\\n",
       "0  www.price-hunt.com         840   www.price-hunt.com//840   \n",
       "1  www.price-hunt.com        9603  www.price-hunt.com//9603   \n",
       "2  www.price-hunt.com        9809  www.price-hunt.com//9809   \n",
       "3  www.price-hunt.com         940   www.price-hunt.com//940   \n",
       "4  www.price-hunt.com        9777  www.price-hunt.com//9777   \n",
       "\n",
       "                                        <page title>  \\\n",
       "0  Canon IXUS 132 Advanced Point & Shoot Camera b...   \n",
       "1  Sony Cyber Shot DSC W380 best price in India 2...   \n",
       "2  Samsung PL120 Point & Shoot Camera best price ...   \n",
       "3  Nikon Coolpix P530 Point & Shoot Camera best p...   \n",
       "4  Kodak Pixpro FZ41 Point & Shoot Camera best pr...   \n",
       "\n",
       "                                 additional features  \\\n",
       "0  Humidity: 10% - 90%, 100% Coverage, Intelligen...   \n",
       "1                                                NaN   \n",
       "2              Operating Temperature: 0deg - 40deg c   \n",
       "3  Viewfinder: 0.5 cm (0.2 Inch), 201,000 Dots Eq...   \n",
       "4                                                NaN   \n",
       "\n",
       "                 aperture range            audio formats  \\\n",
       "0           F3.2 (w) - f6.9 (t)               Linear pcm   \n",
       "1                   F3.5 - f6.3                      NaN   \n",
       "2                           NaN                      Aac   \n",
       "3                     F3 - f5.9  Audio: Lpcm Stereo, WAV   \n",
       "4  F 3.0 (Wide) - f6.6 (Tele, )                      NaN   \n",
       "\n",
       "              audio video interface  \\\n",
       "0  Audio / Video Output (Ntsc, Pal)   \n",
       "1                               NaN   \n",
       "2  Audio / Video Output (Ntsc, Pal)   \n",
       "3                               NaN   \n",
       "4                               NaN   \n",
       "\n",
       "                                          auto focus     battery type  ...  \\\n",
       "0                                                Ttl  Lithium Battery  ...   \n",
       "1                                                NaN      Lithium-ion  ...   \n",
       "2  Smart Face Recognition af, Face Detection af, ...  Lithium Battery  ...   \n",
       "3                                 Contrast Detect af  Lithium Battery  ...   \n",
       "4                                                NaN               Aa  ...   \n",
       "\n",
       "  3d images still image 3d dynamic range adjustment recording time  \\\n",
       "0       NaN            NaN                      NaN            NaN   \n",
       "1       NaN            NaN                      NaN            NaN   \n",
       "2       NaN            NaN                      NaN            NaN   \n",
       "3       NaN            NaN                      NaN            NaN   \n",
       "4       NaN            NaN                      NaN            NaN   \n",
       "\n",
       "  still image mode view magnification iso speed range flash bracketing  \\\n",
       "0              NaN                NaN             NaN              NaN   \n",
       "1              NaN                NaN             NaN              NaN   \n",
       "2              NaN                NaN             NaN              NaN   \n",
       "3              NaN                NaN             NaN              NaN   \n",
       "4              NaN                NaN             NaN              NaN   \n",
       "\n",
       "  maximum recording time eyefi ready  \n",
       "0                    NaN         NaN  \n",
       "1                    NaN         NaN  \n",
       "2                    NaN         NaN  \n",
       "3                    NaN         NaN  \n",
       "4                    NaN         NaN  \n",
       "\n",
       "[5 rows x 170 columns]"
      ]
     },
     "execution_count": 4,
     "metadata": {},
     "output_type": "execute_result"
    }
   ],
   "source": [
    "df.head()"
   ]
  },
  {
   "cell_type": "code",
   "execution_count": 5,
   "metadata": {},
   "outputs": [],
   "source": [
    "cols = [\"spec_id\", \"lcd screen size\", \"brand\", \"type\", \"optical sensor resolution in megapixel\", \"image display resolution\", \"weight\", \"dimensions\"]"
   ]
  },
  {
   "cell_type": "code",
   "execution_count": 6,
   "metadata": {},
   "outputs": [],
   "source": [
    "df = df[cols]"
   ]
  },
  {
   "cell_type": "code",
   "execution_count": 7,
   "metadata": {},
   "outputs": [
    {
     "data": {
      "text/html": [
       "<div>\n",
       "<style scoped>\n",
       "    .dataframe tbody tr th:only-of-type {\n",
       "        vertical-align: middle;\n",
       "    }\n",
       "\n",
       "    .dataframe tbody tr th {\n",
       "        vertical-align: top;\n",
       "    }\n",
       "\n",
       "    .dataframe thead th {\n",
       "        text-align: right;\n",
       "    }\n",
       "</style>\n",
       "<table border=\"1\" class=\"dataframe\">\n",
       "  <thead>\n",
       "    <tr style=\"text-align: right;\">\n",
       "      <th></th>\n",
       "      <th>spec_id</th>\n",
       "      <th>lcd screen size</th>\n",
       "      <th>brand</th>\n",
       "      <th>type</th>\n",
       "      <th>optical sensor resolution in megapixel</th>\n",
       "      <th>image display resolution</th>\n",
       "      <th>weight</th>\n",
       "      <th>dimensions</th>\n",
       "    </tr>\n",
       "  </thead>\n",
       "  <tbody>\n",
       "    <tr>\n",
       "      <th>0</th>\n",
       "      <td>www.price-hunt.com//840</td>\n",
       "      <td>2.7 Inch</td>\n",
       "      <td>Canon</td>\n",
       "      <td>Advanced Point &amp; Shoot</td>\n",
       "      <td>16.0 Megapixels</td>\n",
       "      <td>230,000 Dots</td>\n",
       "      <td>117 g (Body Only), 133 g (with Battery and Meo...</td>\n",
       "      <td>92.9 (w) x 52.4 (h) x 21.6 (d) mm</td>\n",
       "    </tr>\n",
       "    <tr>\n",
       "      <th>1</th>\n",
       "      <td>www.price-hunt.com//9603</td>\n",
       "      <td>2.7 Inch</td>\n",
       "      <td>Sony</td>\n",
       "      <td>NaN</td>\n",
       "      <td>14.1 mp</td>\n",
       "      <td>NaN</td>\n",
       "      <td>108</td>\n",
       "      <td>NaN</td>\n",
       "    </tr>\n",
       "    <tr>\n",
       "      <th>2</th>\n",
       "      <td>www.price-hunt.com//9809</td>\n",
       "      <td>2.7 Inch</td>\n",
       "      <td>Samsung</td>\n",
       "      <td>Point &amp; Shoot</td>\n",
       "      <td>14.2 Megapixels</td>\n",
       "      <td>230,000 Dots</td>\n",
       "      <td>110 g</td>\n",
       "      <td>) x 18.8 (d) mm, 94.0 (w) x 54.5 (h</td>\n",
       "    </tr>\n",
       "    <tr>\n",
       "      <th>3</th>\n",
       "      <td>www.price-hunt.com//940</td>\n",
       "      <td>3 Inch</td>\n",
       "      <td>Nikon</td>\n",
       "      <td>Point &amp; Shoot</td>\n",
       "      <td>16.1 Megapixels</td>\n",
       "      <td>921,000 Dots</td>\n",
       "      <td>494 g (with Battery and SD Memory Card)</td>\n",
       "      <td>) x 98.2 (d) mm, 122.8 (w) x 84.1 (h</td>\n",
       "    </tr>\n",
       "    <tr>\n",
       "      <th>4</th>\n",
       "      <td>www.price-hunt.com//9777</td>\n",
       "      <td>2.7 Inch</td>\n",
       "      <td>Kodak</td>\n",
       "      <td>Point &amp; Shoot</td>\n",
       "      <td>16 Megapixels</td>\n",
       "      <td>230,000 Dots</td>\n",
       "      <td>116 g</td>\n",
       "      <td>NaN</td>\n",
       "    </tr>\n",
       "  </tbody>\n",
       "</table>\n",
       "</div>"
      ],
      "text/plain": [
       "                    spec_id lcd screen size    brand                    type  \\\n",
       "0   www.price-hunt.com//840        2.7 Inch    Canon  Advanced Point & Shoot   \n",
       "1  www.price-hunt.com//9603        2.7 Inch     Sony                     NaN   \n",
       "2  www.price-hunt.com//9809        2.7 Inch  Samsung           Point & Shoot   \n",
       "3   www.price-hunt.com//940          3 Inch    Nikon           Point & Shoot   \n",
       "4  www.price-hunt.com//9777        2.7 Inch    Kodak           Point & Shoot   \n",
       "\n",
       "  optical sensor resolution in megapixel image display resolution  \\\n",
       "0                        16.0 Megapixels             230,000 Dots   \n",
       "1                                14.1 mp                      NaN   \n",
       "2                        14.2 Megapixels             230,000 Dots   \n",
       "3                        16.1 Megapixels             921,000 Dots   \n",
       "4                          16 Megapixels             230,000 Dots   \n",
       "\n",
       "                                              weight  \\\n",
       "0  117 g (Body Only), 133 g (with Battery and Meo...   \n",
       "1                                                108   \n",
       "2                                              110 g   \n",
       "3            494 g (with Battery and SD Memory Card)   \n",
       "4                                              116 g   \n",
       "\n",
       "                             dimensions  \n",
       "0     92.9 (w) x 52.4 (h) x 21.6 (d) mm  \n",
       "1                                   NaN  \n",
       "2   ) x 18.8 (d) mm, 94.0 (w) x 54.5 (h  \n",
       "3  ) x 98.2 (d) mm, 122.8 (w) x 84.1 (h  \n",
       "4                                   NaN  "
      ]
     },
     "execution_count": 7,
     "metadata": {},
     "output_type": "execute_result"
    }
   ],
   "source": [
    "df.head()"
   ]
  },
  {
   "cell_type": "code",
   "execution_count": 8,
   "metadata": {},
   "outputs": [
    {
     "data": {
      "text/plain": [
       "spec_id                                    0\n",
       "lcd screen size                           12\n",
       "brand                                      0\n",
       "type                                      26\n",
       "optical sensor resolution in megapixel    13\n",
       "image display resolution                  45\n",
       "weight                                    16\n",
       "dimensions                                59\n",
       "dtype: int64"
      ]
     },
     "execution_count": 8,
     "metadata": {},
     "output_type": "execute_result"
    }
   ],
   "source": [
    "df.isna().sum()"
   ]
  },
  {
   "cell_type": "markdown",
   "metadata": {},
   "source": [
    "## Lcd screen size"
   ]
  },
  {
   "cell_type": "code",
   "execution_count": 9,
   "metadata": {},
   "outputs": [],
   "source": [
    "def clean_size(value):\n",
    "    if pd.isna(value):\n",
    "        return value\n",
    "    elif len(value.split()) == 2:\n",
    "        return float(word_tokenize(value)[0])\n",
    "    else:\n",
    "        return float(value)"
   ]
  },
  {
   "cell_type": "code",
   "execution_count": 10,
   "metadata": {},
   "outputs": [
    {
     "data": {
      "text/plain": [
       "3 Inch       165\n",
       "2.7 Inch     105\n",
       "3.2 Inch      11\n",
       "1.5 Inch       6\n",
       "2.4 Inch       6\n",
       "2.8 Inch       5\n",
       "2.5 Inch       4\n",
       "3.5 Inch       4\n",
       "1.4 Inch       3\n",
       "2 Inch         2\n",
       "1.8 Inch       1\n",
       "2.7            1\n",
       "3.0 Inch       1\n",
       "4.77 Inch      1\n",
       "Name: lcd screen size, dtype: int64"
      ]
     },
     "execution_count": 10,
     "metadata": {},
     "output_type": "execute_result"
    }
   ],
   "source": [
    "df[\"lcd screen size\"].value_counts()"
   ]
  },
  {
   "cell_type": "code",
   "execution_count": 11,
   "metadata": {},
   "outputs": [],
   "source": [
    "df[\"lcd screen size\"] = df[\"lcd screen size\"].apply(clean_size)"
   ]
  },
  {
   "cell_type": "code",
   "execution_count": 12,
   "metadata": {},
   "outputs": [
    {
     "data": {
      "text/plain": [
       "3.00    166\n",
       "2.70    106\n",
       "3.20     11\n",
       "2.40      6\n",
       "1.50      6\n",
       "2.80      5\n",
       "2.50      4\n",
       "3.50      4\n",
       "1.40      3\n",
       "2.00      2\n",
       "1.80      1\n",
       "4.77      1\n",
       "Name: lcd screen size, dtype: int64"
      ]
     },
     "execution_count": 12,
     "metadata": {},
     "output_type": "execute_result"
    }
   ],
   "source": [
    "df[\"lcd screen size\"].value_counts()"
   ]
  },
  {
   "cell_type": "code",
   "execution_count": 13,
   "metadata": {},
   "outputs": [
    {
     "data": {
      "text/html": [
       "<div>\n",
       "<style scoped>\n",
       "    .dataframe tbody tr th:only-of-type {\n",
       "        vertical-align: middle;\n",
       "    }\n",
       "\n",
       "    .dataframe tbody tr th {\n",
       "        vertical-align: top;\n",
       "    }\n",
       "\n",
       "    .dataframe thead th {\n",
       "        text-align: right;\n",
       "    }\n",
       "</style>\n",
       "<table border=\"1\" class=\"dataframe\">\n",
       "  <thead>\n",
       "    <tr style=\"text-align: right;\">\n",
       "      <th></th>\n",
       "      <th>spec_id</th>\n",
       "      <th>lcd screen size</th>\n",
       "      <th>brand</th>\n",
       "      <th>type</th>\n",
       "      <th>optical sensor resolution in megapixel</th>\n",
       "      <th>image display resolution</th>\n",
       "      <th>weight</th>\n",
       "      <th>dimensions</th>\n",
       "    </tr>\n",
       "  </thead>\n",
       "  <tbody>\n",
       "    <tr>\n",
       "      <th>0</th>\n",
       "      <td>www.price-hunt.com//840</td>\n",
       "      <td>2.7</td>\n",
       "      <td>Canon</td>\n",
       "      <td>Advanced Point &amp; Shoot</td>\n",
       "      <td>16.0 Megapixels</td>\n",
       "      <td>230,000 Dots</td>\n",
       "      <td>117 g (Body Only), 133 g (with Battery and Meo...</td>\n",
       "      <td>92.9 (w) x 52.4 (h) x 21.6 (d) mm</td>\n",
       "    </tr>\n",
       "    <tr>\n",
       "      <th>1</th>\n",
       "      <td>www.price-hunt.com//9603</td>\n",
       "      <td>2.7</td>\n",
       "      <td>Sony</td>\n",
       "      <td>NaN</td>\n",
       "      <td>14.1 mp</td>\n",
       "      <td>NaN</td>\n",
       "      <td>108</td>\n",
       "      <td>NaN</td>\n",
       "    </tr>\n",
       "    <tr>\n",
       "      <th>2</th>\n",
       "      <td>www.price-hunt.com//9809</td>\n",
       "      <td>2.7</td>\n",
       "      <td>Samsung</td>\n",
       "      <td>Point &amp; Shoot</td>\n",
       "      <td>14.2 Megapixels</td>\n",
       "      <td>230,000 Dots</td>\n",
       "      <td>110 g</td>\n",
       "      <td>) x 18.8 (d) mm, 94.0 (w) x 54.5 (h</td>\n",
       "    </tr>\n",
       "    <tr>\n",
       "      <th>3</th>\n",
       "      <td>www.price-hunt.com//940</td>\n",
       "      <td>3.0</td>\n",
       "      <td>Nikon</td>\n",
       "      <td>Point &amp; Shoot</td>\n",
       "      <td>16.1 Megapixels</td>\n",
       "      <td>921,000 Dots</td>\n",
       "      <td>494 g (with Battery and SD Memory Card)</td>\n",
       "      <td>) x 98.2 (d) mm, 122.8 (w) x 84.1 (h</td>\n",
       "    </tr>\n",
       "    <tr>\n",
       "      <th>4</th>\n",
       "      <td>www.price-hunt.com//9777</td>\n",
       "      <td>2.7</td>\n",
       "      <td>Kodak</td>\n",
       "      <td>Point &amp; Shoot</td>\n",
       "      <td>16 Megapixels</td>\n",
       "      <td>230,000 Dots</td>\n",
       "      <td>116 g</td>\n",
       "      <td>NaN</td>\n",
       "    </tr>\n",
       "  </tbody>\n",
       "</table>\n",
       "</div>"
      ],
      "text/plain": [
       "                    spec_id  lcd screen size    brand                    type  \\\n",
       "0   www.price-hunt.com//840              2.7    Canon  Advanced Point & Shoot   \n",
       "1  www.price-hunt.com//9603              2.7     Sony                     NaN   \n",
       "2  www.price-hunt.com//9809              2.7  Samsung           Point & Shoot   \n",
       "3   www.price-hunt.com//940              3.0    Nikon           Point & Shoot   \n",
       "4  www.price-hunt.com//9777              2.7    Kodak           Point & Shoot   \n",
       "\n",
       "  optical sensor resolution in megapixel image display resolution  \\\n",
       "0                        16.0 Megapixels             230,000 Dots   \n",
       "1                                14.1 mp                      NaN   \n",
       "2                        14.2 Megapixels             230,000 Dots   \n",
       "3                        16.1 Megapixels             921,000 Dots   \n",
       "4                          16 Megapixels             230,000 Dots   \n",
       "\n",
       "                                              weight  \\\n",
       "0  117 g (Body Only), 133 g (with Battery and Meo...   \n",
       "1                                                108   \n",
       "2                                              110 g   \n",
       "3            494 g (with Battery and SD Memory Card)   \n",
       "4                                              116 g   \n",
       "\n",
       "                             dimensions  \n",
       "0     92.9 (w) x 52.4 (h) x 21.6 (d) mm  \n",
       "1                                   NaN  \n",
       "2   ) x 18.8 (d) mm, 94.0 (w) x 54.5 (h  \n",
       "3  ) x 98.2 (d) mm, 122.8 (w) x 84.1 (h  \n",
       "4                                   NaN  "
      ]
     },
     "execution_count": 13,
     "metadata": {},
     "output_type": "execute_result"
    }
   ],
   "source": [
    "df.head()"
   ]
  },
  {
   "cell_type": "markdown",
   "metadata": {},
   "source": [
    "## Brand"
   ]
  },
  {
   "cell_type": "code",
   "execution_count": 14,
   "metadata": {},
   "outputs": [
    {
     "data": {
      "text/plain": [
       "Sony         83\n",
       "Panasonic    45\n",
       "Canon        43\n",
       "Nikon        42\n",
       "Fujifilm     29\n",
       "Olympus      21\n",
       "Samsung      12\n",
       "Kodak        10\n",
       "Pentax       10\n",
       "Ricoh         5\n",
       "Yourdeal      5\n",
       "Aiptek        3\n",
       "Garmin        3\n",
       "Wespro        3\n",
       "Benq          2\n",
       "Rollei        2\n",
       "Casio         2\n",
       "Tvc           2\n",
       "Drift         2\n",
       "Jvc           1\n",
       "Polaroid      1\n",
       "Gopro         1\n",
       "Name: brand, dtype: int64"
      ]
     },
     "execution_count": 14,
     "metadata": {},
     "output_type": "execute_result"
    }
   ],
   "source": [
    "df[\"brand\"].value_counts()"
   ]
  },
  {
   "cell_type": "code",
   "execution_count": 15,
   "metadata": {},
   "outputs": [],
   "source": [
    "df[\"brand\"] = df[\"brand\"].apply(lambda brand : brand.lower())"
   ]
  },
  {
   "cell_type": "markdown",
   "metadata": {},
   "source": [
    "## Type"
   ]
  },
  {
   "cell_type": "code",
   "execution_count": 16,
   "metadata": {},
   "outputs": [
    {
     "data": {
      "text/plain": [
       "Point & Shoot                                    149\n",
       "DSLR                                              52\n",
       "Camcorder                                         49\n",
       "Advanced Point & Shoot                            15\n",
       "Mirrorless                                        15\n",
       "Sports & Action                                   10\n",
       "Instant                                            4\n",
       "Video Camera                                       2\n",
       "SLR                                                2\n",
       "Lens Style Camera                                  1\n",
       "Micro Four Thirds Interchangeable Lens System      1\n",
       "Digital Interchangeable Lens                       1\n",
       "Name: type, dtype: int64"
      ]
     },
     "execution_count": 16,
     "metadata": {},
     "output_type": "execute_result"
    }
   ],
   "source": [
    "df[\"type\"].value_counts()"
   ]
  },
  {
   "cell_type": "code",
   "execution_count": 17,
   "metadata": {},
   "outputs": [],
   "source": [
    "def clean_camera_type(camera):\n",
    "    if pd.isna(camera):\n",
    "        return camera\n",
    "    else:\n",
    "        punctuation = \"!#$%&'()*+,-./:;<=>?@[\\]^_`{|}~€£¥₹₽\"\n",
    "        for p in punctuation:\n",
    "            camera = camera.replace(p, \"\")\n",
    "        camera = camera.replace(\"camera\", \"\")\n",
    "        camera = ' '.join(camera.split())\n",
    "        return camera.lower()"
   ]
  },
  {
   "cell_type": "code",
   "execution_count": 18,
   "metadata": {},
   "outputs": [],
   "source": [
    "df[\"type\"] = df[\"type\"].apply(clean_camera_type)"
   ]
  },
  {
   "cell_type": "code",
   "execution_count": 19,
   "metadata": {},
   "outputs": [
    {
     "data": {
      "text/plain": [
       "point shoot                                      149\n",
       "dslr                                              52\n",
       "camcorder                                         49\n",
       "mirrorless                                        15\n",
       "advanced point shoot                              15\n",
       "sports action                                     10\n",
       "instant                                            4\n",
       "slr                                                2\n",
       "video camera                                       2\n",
       "lens style camera                                  1\n",
       "micro four thirds interchangeable lens system      1\n",
       "digital interchangeable lens                       1\n",
       "Name: type, dtype: int64"
      ]
     },
     "execution_count": 19,
     "metadata": {},
     "output_type": "execute_result"
    }
   ],
   "source": [
    "df[\"type\"].value_counts()"
   ]
  },
  {
   "cell_type": "code",
   "execution_count": 20,
   "metadata": {},
   "outputs": [
    {
     "data": {
      "text/html": [
       "<div>\n",
       "<style scoped>\n",
       "    .dataframe tbody tr th:only-of-type {\n",
       "        vertical-align: middle;\n",
       "    }\n",
       "\n",
       "    .dataframe tbody tr th {\n",
       "        vertical-align: top;\n",
       "    }\n",
       "\n",
       "    .dataframe thead th {\n",
       "        text-align: right;\n",
       "    }\n",
       "</style>\n",
       "<table border=\"1\" class=\"dataframe\">\n",
       "  <thead>\n",
       "    <tr style=\"text-align: right;\">\n",
       "      <th></th>\n",
       "      <th>spec_id</th>\n",
       "      <th>lcd screen size</th>\n",
       "      <th>brand</th>\n",
       "      <th>type</th>\n",
       "      <th>optical sensor resolution in megapixel</th>\n",
       "      <th>image display resolution</th>\n",
       "      <th>weight</th>\n",
       "      <th>dimensions</th>\n",
       "    </tr>\n",
       "  </thead>\n",
       "  <tbody>\n",
       "    <tr>\n",
       "      <th>0</th>\n",
       "      <td>www.price-hunt.com//840</td>\n",
       "      <td>2.7</td>\n",
       "      <td>canon</td>\n",
       "      <td>advanced point shoot</td>\n",
       "      <td>16.0 Megapixels</td>\n",
       "      <td>230,000 Dots</td>\n",
       "      <td>117 g (Body Only), 133 g (with Battery and Meo...</td>\n",
       "      <td>92.9 (w) x 52.4 (h) x 21.6 (d) mm</td>\n",
       "    </tr>\n",
       "    <tr>\n",
       "      <th>1</th>\n",
       "      <td>www.price-hunt.com//9603</td>\n",
       "      <td>2.7</td>\n",
       "      <td>sony</td>\n",
       "      <td>NaN</td>\n",
       "      <td>14.1 mp</td>\n",
       "      <td>NaN</td>\n",
       "      <td>108</td>\n",
       "      <td>NaN</td>\n",
       "    </tr>\n",
       "    <tr>\n",
       "      <th>2</th>\n",
       "      <td>www.price-hunt.com//9809</td>\n",
       "      <td>2.7</td>\n",
       "      <td>samsung</td>\n",
       "      <td>point shoot</td>\n",
       "      <td>14.2 Megapixels</td>\n",
       "      <td>230,000 Dots</td>\n",
       "      <td>110 g</td>\n",
       "      <td>) x 18.8 (d) mm, 94.0 (w) x 54.5 (h</td>\n",
       "    </tr>\n",
       "    <tr>\n",
       "      <th>3</th>\n",
       "      <td>www.price-hunt.com//940</td>\n",
       "      <td>3.0</td>\n",
       "      <td>nikon</td>\n",
       "      <td>point shoot</td>\n",
       "      <td>16.1 Megapixels</td>\n",
       "      <td>921,000 Dots</td>\n",
       "      <td>494 g (with Battery and SD Memory Card)</td>\n",
       "      <td>) x 98.2 (d) mm, 122.8 (w) x 84.1 (h</td>\n",
       "    </tr>\n",
       "    <tr>\n",
       "      <th>4</th>\n",
       "      <td>www.price-hunt.com//9777</td>\n",
       "      <td>2.7</td>\n",
       "      <td>kodak</td>\n",
       "      <td>point shoot</td>\n",
       "      <td>16 Megapixels</td>\n",
       "      <td>230,000 Dots</td>\n",
       "      <td>116 g</td>\n",
       "      <td>NaN</td>\n",
       "    </tr>\n",
       "  </tbody>\n",
       "</table>\n",
       "</div>"
      ],
      "text/plain": [
       "                    spec_id  lcd screen size    brand                  type  \\\n",
       "0   www.price-hunt.com//840              2.7    canon  advanced point shoot   \n",
       "1  www.price-hunt.com//9603              2.7     sony                   NaN   \n",
       "2  www.price-hunt.com//9809              2.7  samsung           point shoot   \n",
       "3   www.price-hunt.com//940              3.0    nikon           point shoot   \n",
       "4  www.price-hunt.com//9777              2.7    kodak           point shoot   \n",
       "\n",
       "  optical sensor resolution in megapixel image display resolution  \\\n",
       "0                        16.0 Megapixels             230,000 Dots   \n",
       "1                                14.1 mp                      NaN   \n",
       "2                        14.2 Megapixels             230,000 Dots   \n",
       "3                        16.1 Megapixels             921,000 Dots   \n",
       "4                          16 Megapixels             230,000 Dots   \n",
       "\n",
       "                                              weight  \\\n",
       "0  117 g (Body Only), 133 g (with Battery and Meo...   \n",
       "1                                                108   \n",
       "2                                              110 g   \n",
       "3            494 g (with Battery and SD Memory Card)   \n",
       "4                                              116 g   \n",
       "\n",
       "                             dimensions  \n",
       "0     92.9 (w) x 52.4 (h) x 21.6 (d) mm  \n",
       "1                                   NaN  \n",
       "2   ) x 18.8 (d) mm, 94.0 (w) x 54.5 (h  \n",
       "3  ) x 98.2 (d) mm, 122.8 (w) x 84.1 (h  \n",
       "4                                   NaN  "
      ]
     },
     "execution_count": 20,
     "metadata": {},
     "output_type": "execute_result"
    }
   ],
   "source": [
    "df.head()"
   ]
  },
  {
   "cell_type": "markdown",
   "metadata": {},
   "source": [
    "## Optical sensor resolution in megapixel"
   ]
  },
  {
   "cell_type": "code",
   "execution_count": 21,
   "metadata": {},
   "outputs": [],
   "source": [
    "def megapixels_metrics(value):\n",
    "    if pd.isna(value):\n",
    "        return value\n",
    "    else:\n",
    "        return word_tokenize(value)[1]"
   ]
  },
  {
   "cell_type": "code",
   "execution_count": 22,
   "metadata": {},
   "outputs": [],
   "source": [
    "def clean_megapixels(value):\n",
    "    if pd.isna(value):\n",
    "        return value\n",
    "    else:\n",
    "        return round(float(word_tokenize(value)[0]), 1)"
   ]
  },
  {
   "cell_type": "code",
   "execution_count": 23,
   "metadata": {},
   "outputs": [
    {
     "data": {
      "text/plain": [
       "Megapixels    294\n",
       "mp             20\n",
       "Name: optical sensor resolution in megapixel, dtype: int64"
      ]
     },
     "execution_count": 23,
     "metadata": {},
     "output_type": "execute_result"
    }
   ],
   "source": [
    "df[\"optical sensor resolution in megapixel\"].apply(megapixels_metrics).value_counts()"
   ]
  },
  {
   "cell_type": "code",
   "execution_count": 24,
   "metadata": {},
   "outputs": [],
   "source": [
    "df[\"optical sensor resolution in megapixel\"] = df[\"optical sensor resolution in megapixel\"].apply(clean_megapixels)"
   ]
  },
  {
   "cell_type": "markdown",
   "metadata": {},
   "source": [
    "## Image display resolution"
   ]
  },
  {
   "cell_type": "code",
   "execution_count": 25,
   "metadata": {},
   "outputs": [
    {
     "data": {
      "text/plain": [
       "230,000 Dots        92\n",
       "460,000 Dots        31\n",
       "921,600 Dots        22\n",
       "230,400 Dots        17\n",
       "921,000 Dots        16\n",
       "460,800 Dots        15\n",
       "461,000 Dots         9\n",
       "000 Dots, 230        8\n",
       "921, 000 Dots        6\n",
       "1,228,800 Dots       6\n",
       "1,040,000 Dots       6\n",
       "460, 000 Dots        5\n",
       "400 Dots, 230        4\n",
       "230, 000 Dots        4\n",
       "123,200 Dots         3\n",
       "000 Dots, 460        3\n",
       "460, 800 Dots        3\n",
       "460000 Dots          2\n",
       "1,037,000 Dots       2\n",
       "112,000 Dots         2\n",
       "920,000 Dots         2\n",
       "614,000 Dots         2\n",
       "461, 000 Dots        2\n",
       "000 Dots, 921        2\n",
       "922,000 Dots         2\n",
       "230400 Dots          2\n",
       "288,000 Dots         1\n",
       "1,036,800 Dots       1\n",
       "641,000 Dots         1\n",
       "920, 000 Dots        1\n",
       "110,000 Dots         1\n",
       "1,152,000 Dots       1\n",
       "040, 1, 000 Dots     1\n",
       "921, 600 Dots        1\n",
       "460,000dots          1\n",
       "211,200 Dots         1\n",
       "819,000 Dots         1\n",
       "1,230,000 Dots       1\n",
       "230, 400 Dots        1\n",
       "922, 000 Dots        1\n",
       "Name: image display resolution, dtype: int64"
      ]
     },
     "execution_count": 25,
     "metadata": {},
     "output_type": "execute_result"
    }
   ],
   "source": [
    "df[\"image display resolution\"].value_counts()"
   ]
  },
  {
   "cell_type": "code",
   "execution_count": 26,
   "metadata": {},
   "outputs": [],
   "source": [
    "def clean_dots(value):\n",
    "    if pd.isna(value):\n",
    "        return value\n",
    "    else:\n",
    "        value = ' '.join(value.split())\n",
    "        value = value.replace(\",\", \"\")\n",
    "        value = value.replace(\"Dots\", \"d\")\n",
    "        value = value.replace(\"dots\", \"d\")\n",
    "        if bool(re.match(r\"[0-9]* [0-9]* d\", value)):\n",
    "            return value.replace(\" \", \"\")\n",
    "        elif bool(re.match(r\"[0-9]* d [0-9]*\", value)):\n",
    "            splitted = value.split()\n",
    "            return splitted[2] + splitted[0] + splitted[1]            \n",
    "        elif bool(re.match(r\"[0-9]* d\", value)):\n",
    "            return value.replace(\" \", \"\")\n",
    "                \n",
    "        return value.replace(\" \", \"\")"
   ]
  },
  {
   "cell_type": "code",
   "execution_count": 27,
   "metadata": {},
   "outputs": [],
   "source": [
    "df[\"image display resolution\"] = df[\"image display resolution\"].apply(clean_dots)"
   ]
  },
  {
   "cell_type": "code",
   "execution_count": 28,
   "metadata": {},
   "outputs": [
    {
     "data": {
      "text/html": [
       "<div>\n",
       "<style scoped>\n",
       "    .dataframe tbody tr th:only-of-type {\n",
       "        vertical-align: middle;\n",
       "    }\n",
       "\n",
       "    .dataframe tbody tr th {\n",
       "        vertical-align: top;\n",
       "    }\n",
       "\n",
       "    .dataframe thead th {\n",
       "        text-align: right;\n",
       "    }\n",
       "</style>\n",
       "<table border=\"1\" class=\"dataframe\">\n",
       "  <thead>\n",
       "    <tr style=\"text-align: right;\">\n",
       "      <th></th>\n",
       "      <th>spec_id</th>\n",
       "      <th>lcd screen size</th>\n",
       "      <th>brand</th>\n",
       "      <th>type</th>\n",
       "      <th>optical sensor resolution in megapixel</th>\n",
       "      <th>image display resolution</th>\n",
       "      <th>weight</th>\n",
       "      <th>dimensions</th>\n",
       "    </tr>\n",
       "  </thead>\n",
       "  <tbody>\n",
       "    <tr>\n",
       "      <th>0</th>\n",
       "      <td>www.price-hunt.com//840</td>\n",
       "      <td>2.7</td>\n",
       "      <td>canon</td>\n",
       "      <td>advanced point shoot</td>\n",
       "      <td>16.0</td>\n",
       "      <td>230000d</td>\n",
       "      <td>117 g (Body Only), 133 g (with Battery and Meo...</td>\n",
       "      <td>92.9 (w) x 52.4 (h) x 21.6 (d) mm</td>\n",
       "    </tr>\n",
       "    <tr>\n",
       "      <th>1</th>\n",
       "      <td>www.price-hunt.com//9603</td>\n",
       "      <td>2.7</td>\n",
       "      <td>sony</td>\n",
       "      <td>NaN</td>\n",
       "      <td>14.1</td>\n",
       "      <td>NaN</td>\n",
       "      <td>108</td>\n",
       "      <td>NaN</td>\n",
       "    </tr>\n",
       "    <tr>\n",
       "      <th>2</th>\n",
       "      <td>www.price-hunt.com//9809</td>\n",
       "      <td>2.7</td>\n",
       "      <td>samsung</td>\n",
       "      <td>point shoot</td>\n",
       "      <td>14.2</td>\n",
       "      <td>230000d</td>\n",
       "      <td>110 g</td>\n",
       "      <td>) x 18.8 (d) mm, 94.0 (w) x 54.5 (h</td>\n",
       "    </tr>\n",
       "    <tr>\n",
       "      <th>3</th>\n",
       "      <td>www.price-hunt.com//940</td>\n",
       "      <td>3.0</td>\n",
       "      <td>nikon</td>\n",
       "      <td>point shoot</td>\n",
       "      <td>16.1</td>\n",
       "      <td>921000d</td>\n",
       "      <td>494 g (with Battery and SD Memory Card)</td>\n",
       "      <td>) x 98.2 (d) mm, 122.8 (w) x 84.1 (h</td>\n",
       "    </tr>\n",
       "    <tr>\n",
       "      <th>4</th>\n",
       "      <td>www.price-hunt.com//9777</td>\n",
       "      <td>2.7</td>\n",
       "      <td>kodak</td>\n",
       "      <td>point shoot</td>\n",
       "      <td>16.0</td>\n",
       "      <td>230000d</td>\n",
       "      <td>116 g</td>\n",
       "      <td>NaN</td>\n",
       "    </tr>\n",
       "  </tbody>\n",
       "</table>\n",
       "</div>"
      ],
      "text/plain": [
       "                    spec_id  lcd screen size    brand                  type  \\\n",
       "0   www.price-hunt.com//840              2.7    canon  advanced point shoot   \n",
       "1  www.price-hunt.com//9603              2.7     sony                   NaN   \n",
       "2  www.price-hunt.com//9809              2.7  samsung           point shoot   \n",
       "3   www.price-hunt.com//940              3.0    nikon           point shoot   \n",
       "4  www.price-hunt.com//9777              2.7    kodak           point shoot   \n",
       "\n",
       "   optical sensor resolution in megapixel image display resolution  \\\n",
       "0                                    16.0                  230000d   \n",
       "1                                    14.1                      NaN   \n",
       "2                                    14.2                  230000d   \n",
       "3                                    16.1                  921000d   \n",
       "4                                    16.0                  230000d   \n",
       "\n",
       "                                              weight  \\\n",
       "0  117 g (Body Only), 133 g (with Battery and Meo...   \n",
       "1                                                108   \n",
       "2                                              110 g   \n",
       "3            494 g (with Battery and SD Memory Card)   \n",
       "4                                              116 g   \n",
       "\n",
       "                             dimensions  \n",
       "0     92.9 (w) x 52.4 (h) x 21.6 (d) mm  \n",
       "1                                   NaN  \n",
       "2   ) x 18.8 (d) mm, 94.0 (w) x 54.5 (h  \n",
       "3  ) x 98.2 (d) mm, 122.8 (w) x 84.1 (h  \n",
       "4                                   NaN  "
      ]
     },
     "execution_count": 28,
     "metadata": {},
     "output_type": "execute_result"
    }
   ],
   "source": [
    "df.head()"
   ]
  },
  {
   "cell_type": "markdown",
   "metadata": {},
   "source": [
    "## Weight"
   ]
  },
  {
   "cell_type": "code",
   "execution_count": 29,
   "metadata": {},
   "outputs": [
    {
     "data": {
      "text/plain": [
       "210 g                                                                           7\n",
       "100                                                                             6\n",
       "589.67 g (Without Battery and Removable Memory), 649.20 g (Loaded and Ready)    4\n",
       "480 g (Cipa Guidelines)                                                         4\n",
       "269 g (with Battery and Memory Stick pro Duo)                                   3\n",
       "                                                                               ..\n",
       "113 g (with Battery and Memory Stick), 97 g (Body Only)                         1\n",
       "765 g (with Battery and Meomry Card), 675 g (Body Only)                         1\n",
       "218 g (Cipa Guideline Compliant, Including Batteries, Card)                     1\n",
       "160 g (Without Battery and SD Meomry Card)                                      1\n",
       "494 g (with Battery and SD Memory Card)                                         1\n",
       "Name: weight, Length: 257, dtype: int64"
      ]
     },
     "execution_count": 29,
     "metadata": {},
     "output_type": "execute_result"
    }
   ],
   "source": [
    "df[\"weight\"].value_counts()"
   ]
  },
  {
   "cell_type": "code",
   "execution_count": 30,
   "metadata": {},
   "outputs": [],
   "source": [
    "def clean_weight(value):\n",
    "    if pd.isna(value):\n",
    "        return value\n",
    "    else:\n",
    "        tokenized = word_tokenize(value)\n",
    "        if len(tokenized) >= 2:\n",
    "            return int(round(float(tokenized[0].replace(\"g\", \"\"))))\n",
    "        else:\n",
    "            return int(round(float(value)))"
   ]
  },
  {
   "cell_type": "code",
   "execution_count": 31,
   "metadata": {},
   "outputs": [],
   "source": [
    "df[\"weight\"] = df[\"weight\"].apply(clean_weight)"
   ]
  },
  {
   "cell_type": "code",
   "execution_count": 32,
   "metadata": {},
   "outputs": [
    {
     "data": {
      "text/html": [
       "<div>\n",
       "<style scoped>\n",
       "    .dataframe tbody tr th:only-of-type {\n",
       "        vertical-align: middle;\n",
       "    }\n",
       "\n",
       "    .dataframe tbody tr th {\n",
       "        vertical-align: top;\n",
       "    }\n",
       "\n",
       "    .dataframe thead th {\n",
       "        text-align: right;\n",
       "    }\n",
       "</style>\n",
       "<table border=\"1\" class=\"dataframe\">\n",
       "  <thead>\n",
       "    <tr style=\"text-align: right;\">\n",
       "      <th></th>\n",
       "      <th>spec_id</th>\n",
       "      <th>lcd screen size</th>\n",
       "      <th>brand</th>\n",
       "      <th>type</th>\n",
       "      <th>optical sensor resolution in megapixel</th>\n",
       "      <th>image display resolution</th>\n",
       "      <th>weight</th>\n",
       "      <th>dimensions</th>\n",
       "    </tr>\n",
       "  </thead>\n",
       "  <tbody>\n",
       "    <tr>\n",
       "      <th>0</th>\n",
       "      <td>www.price-hunt.com//840</td>\n",
       "      <td>2.7</td>\n",
       "      <td>canon</td>\n",
       "      <td>advanced point shoot</td>\n",
       "      <td>16.0</td>\n",
       "      <td>230000d</td>\n",
       "      <td>117.0</td>\n",
       "      <td>92.9 (w) x 52.4 (h) x 21.6 (d) mm</td>\n",
       "    </tr>\n",
       "    <tr>\n",
       "      <th>1</th>\n",
       "      <td>www.price-hunt.com//9603</td>\n",
       "      <td>2.7</td>\n",
       "      <td>sony</td>\n",
       "      <td>NaN</td>\n",
       "      <td>14.1</td>\n",
       "      <td>NaN</td>\n",
       "      <td>108.0</td>\n",
       "      <td>NaN</td>\n",
       "    </tr>\n",
       "    <tr>\n",
       "      <th>2</th>\n",
       "      <td>www.price-hunt.com//9809</td>\n",
       "      <td>2.7</td>\n",
       "      <td>samsung</td>\n",
       "      <td>point shoot</td>\n",
       "      <td>14.2</td>\n",
       "      <td>230000d</td>\n",
       "      <td>110.0</td>\n",
       "      <td>) x 18.8 (d) mm, 94.0 (w) x 54.5 (h</td>\n",
       "    </tr>\n",
       "    <tr>\n",
       "      <th>3</th>\n",
       "      <td>www.price-hunt.com//940</td>\n",
       "      <td>3.0</td>\n",
       "      <td>nikon</td>\n",
       "      <td>point shoot</td>\n",
       "      <td>16.1</td>\n",
       "      <td>921000d</td>\n",
       "      <td>494.0</td>\n",
       "      <td>) x 98.2 (d) mm, 122.8 (w) x 84.1 (h</td>\n",
       "    </tr>\n",
       "    <tr>\n",
       "      <th>4</th>\n",
       "      <td>www.price-hunt.com//9777</td>\n",
       "      <td>2.7</td>\n",
       "      <td>kodak</td>\n",
       "      <td>point shoot</td>\n",
       "      <td>16.0</td>\n",
       "      <td>230000d</td>\n",
       "      <td>116.0</td>\n",
       "      <td>NaN</td>\n",
       "    </tr>\n",
       "  </tbody>\n",
       "</table>\n",
       "</div>"
      ],
      "text/plain": [
       "                    spec_id  lcd screen size    brand                  type  \\\n",
       "0   www.price-hunt.com//840              2.7    canon  advanced point shoot   \n",
       "1  www.price-hunt.com//9603              2.7     sony                   NaN   \n",
       "2  www.price-hunt.com//9809              2.7  samsung           point shoot   \n",
       "3   www.price-hunt.com//940              3.0    nikon           point shoot   \n",
       "4  www.price-hunt.com//9777              2.7    kodak           point shoot   \n",
       "\n",
       "   optical sensor resolution in megapixel image display resolution  weight  \\\n",
       "0                                    16.0                  230000d   117.0   \n",
       "1                                    14.1                      NaN   108.0   \n",
       "2                                    14.2                  230000d   110.0   \n",
       "3                                    16.1                  921000d   494.0   \n",
       "4                                    16.0                  230000d   116.0   \n",
       "\n",
       "                             dimensions  \n",
       "0     92.9 (w) x 52.4 (h) x 21.6 (d) mm  \n",
       "1                                   NaN  \n",
       "2   ) x 18.8 (d) mm, 94.0 (w) x 54.5 (h  \n",
       "3  ) x 98.2 (d) mm, 122.8 (w) x 84.1 (h  \n",
       "4                                   NaN  "
      ]
     },
     "execution_count": 32,
     "metadata": {},
     "output_type": "execute_result"
    }
   ],
   "source": [
    "df.head()"
   ]
  },
  {
   "cell_type": "markdown",
   "metadata": {},
   "source": [
    "## Dimensions"
   ]
  },
  {
   "cell_type": "code",
   "execution_count": 33,
   "metadata": {},
   "outputs": [
    {
     "data": {
      "text/plain": [
       "5.10 (w) x 3.93 (h) x 3.07 (d) Inch       4\n",
       "129.54 (w) x 96.52 (h) x 71.12 (d) mm     4\n",
       "128.6 (w) x 95.5 (h) x 77.7 (d) mm        4\n",
       "53 (w) x 60 (h) x 114 (d) mm              3\n",
       "126.9 (w) x 94.4 (h) x 48.2 (d) mm        3\n",
       "                                         ..\n",
       ") x 16.90 (d) mm, 90.05 (w) x 52.60 (h    1\n",
       ") x 22.2 (d) mm, 103.7 (w) x 62.5 (h      1\n",
       "205 (w) x 217 (h) x 479 (d) mm            1\n",
       ") x 19 (d) mm, 129 (w) x 71 (h            1\n",
       "92.2 (w) x 52.0 (h, ) x 19.1 (d) mm       1\n",
       "Name: dimensions, Length: 237, dtype: int64"
      ]
     },
     "execution_count": 33,
     "metadata": {},
     "output_type": "execute_result"
    }
   ],
   "source": [
    "df[\"dimensions\"].value_counts()"
   ]
  },
  {
   "cell_type": "code",
   "execution_count": 34,
   "metadata": {},
   "outputs": [
    {
     "name": "stdout",
     "output_type": "stream",
     "text": [
      "True\n"
     ]
    }
   ],
   "source": [
    "print(bool(re.match(r\"[0-9]+[.][0-9]+ \\(w\\) x [0-9]+[.][0-9]+ \\(h\\) x [0-9]+[.][0-9]+ \\(d\\) mm\", \"85.8 (w) x 53.5 (h) x 19.8 (d) mm\")))"
   ]
  },
  {
   "cell_type": "code",
   "execution_count": 35,
   "metadata": {},
   "outputs": [],
   "source": [
    "first_regex = r\"[0-9]+[.][0-9]+ \\(w\\) x [0-9]+[.][0-9]+ \\(h\\) x [0-9]+[.][0-9]+ \\(d\\) mm\" #69\n",
    "second_regex = r\"\\) x [0-9]+[.][0-9]+ \\(d\\) mm, [0-9]+[.][0-9]+ \\(w\\) x [0-9]+[.][0-9]+ \\(h\" #57"
   ]
  },
  {
   "cell_type": "code",
   "execution_count": 36,
   "metadata": {},
   "outputs": [
    {
     "data": {
      "text/plain": [
       "spec_id                                    0\n",
       "lcd screen size                           12\n",
       "brand                                      0\n",
       "type                                      26\n",
       "optical sensor resolution in megapixel    13\n",
       "image display resolution                  45\n",
       "weight                                    16\n",
       "dimensions                                59\n",
       "dtype: int64"
      ]
     },
     "execution_count": 36,
     "metadata": {},
     "output_type": "execute_result"
    }
   ],
   "source": [
    "df.isna().sum()"
   ]
  },
  {
   "cell_type": "code",
   "execution_count": 37,
   "metadata": {},
   "outputs": [
    {
     "data": {
      "text/plain": [
       "69"
      ]
     },
     "execution_count": 37,
     "metadata": {},
     "output_type": "execute_result"
    }
   ],
   "source": [
    "sum(df[\"dimensions\"].apply(lambda dim : bool(re.match(r\"[0-9]+[.][0-9]+ \\(w\\) x [0-9]+[.][0-9]+ \\(h\\) x [0-9]+[.][0-9]+ \\(d\\) mm\", str(dim)))))"
   ]
  },
  {
   "cell_type": "code",
   "execution_count": 38,
   "metadata": {},
   "outputs": [
    {
     "data": {
      "text/plain": [
       "57"
      ]
     },
     "execution_count": 38,
     "metadata": {},
     "output_type": "execute_result"
    }
   ],
   "source": [
    "sum(df[\"dimensions\"].apply(lambda dim : bool(re.match(r\"\\) x [0-9]+[.][0-9]+ \\(d\\) mm, [0-9]+[.][0-9]+ \\(w\\) x [0-9]+[.][0-9]+ \\(h\", str(dim)))))"
   ]
  },
  {
   "cell_type": "code",
   "execution_count": 39,
   "metadata": {},
   "outputs": [],
   "source": [
    "def mm_to_inches(value):\n",
    "    if pd.isna(value):\n",
    "        return value\n",
    "    else:\n",
    "        return round(float(value) / 25.4, 1)"
   ]
  },
  {
   "cell_type": "code",
   "execution_count": 40,
   "metadata": {},
   "outputs": [],
   "source": [
    "def clean_dimensions_regex(value):\n",
    "    first_regex = r\"([0-9]+[.]?[0-9]+?) \\(w\\) x ([0-9]+[.]?[0-9]+?) \\(h\\) x ([0-9]+[.]?[0-9]+?) \\(d\\) mm\" #69\n",
    "    second_regex = r\"\\) x ([0-9]+[.]?[0-9]+?) \\(d\\) mm, ([0-9]+[.]?[0-9]+?) \\(w\\) x ([0-9]+[.]?[0-9]+?) x?[ ]?\\(h\" #79\n",
    "    third_regex = r\"([0-9]+[.]?[0-9]+?) \\(w\\) x ([0-9]+[.]?[0-9]+?) \\(h, \\) x ([0-9]+[.]?[0-9]+?) \\(d\\) mm\" #56\n",
    "    fourth_regex = r\"([0-9]+[.]?[0-9]+?) \\(w\\) x?[ ]?([0-9]+[.]?[0-9]+?) \\(h,?[ ]?\\),? x?[ ]?([0-9]+[.]?[0-9]+?) [(]?(d|l)[)][ ]?m?m?\"#14\n",
    "    final_regex = r\"([0-9]+[.]?[0-9]+?) x ([0-9]+[.]?[0-9]+?) x ([0-9]+[.]?[0-9]+?) mm\"\n",
    "    if pd.isna(value):\n",
    "        return value\n",
    "    else:\n",
    "        if re.match(first_regex, value):\n",
    "            groups = re.match(first_regex, value)\n",
    "            dimension = str(mm_to_inches(groups.group(1))) + \"h\" + str(mm_to_inches(groups.group(2))) + \"w\" + str(mm_to_inches(groups.group(3))) + \"d\"\n",
    "            return dimension\n",
    "        elif re.match(second_regex, value):\n",
    "            groups = re.match(second_regex, value)\n",
    "            dimension = str(mm_to_inches(groups.group(3))) + \"h\" + str(mm_to_inches(groups.group(2))) + \"w\" + str(mm_to_inches(groups.group(1))) + \"d\"\n",
    "            return dimension\n",
    "        elif re.match(third_regex, value):\n",
    "            groups = re.match(third_regex, value)\n",
    "            dimension = str(mm_to_inches(groups.group(2))) + \"h\" + str(mm_to_inches(groups.group(1))) + \"w\" + str(mm_to_inches(groups.group(3))) + \"d\"\n",
    "            return dimension\n",
    "        elif re.match(fourth_regex, value):\n",
    "            groups = re.match(fourth_regex, value)\n",
    "            dimension = str(mm_to_inches(groups.group(2))) + \"h\" + str(mm_to_inches(groups.group(1))) + \"w\" + str(mm_to_inches(groups.group(3))) + \"d\"\n",
    "            return dimension\n",
    "        elif re.match(final_regex, value):\n",
    "            groups = re.match(final_regex, value)\n",
    "            dimension = str(mm_to_inches(groups.group(2))) + \"h\" + str(mm_to_inches(groups.group(1))) + \"w\" + str(mm_to_inches(groups.group(3))) + \"d\"\n",
    "            return dimension\n",
    "        else:\n",
    "            return value"
   ]
  },
  {
   "cell_type": "code",
   "execution_count": 41,
   "metadata": {},
   "outputs": [],
   "source": [
    "df[\"dimensions\"] = df[\"dimensions\"].apply(clean_dimensions_regex)"
   ]
  },
  {
   "cell_type": "markdown",
   "metadata": {},
   "source": [
    "## Saving"
   ]
  },
  {
   "cell_type": "code",
   "execution_count": 42,
   "metadata": {},
   "outputs": [
    {
     "data": {
      "text/html": [
       "<div>\n",
       "<style scoped>\n",
       "    .dataframe tbody tr th:only-of-type {\n",
       "        vertical-align: middle;\n",
       "    }\n",
       "\n",
       "    .dataframe tbody tr th {\n",
       "        vertical-align: top;\n",
       "    }\n",
       "\n",
       "    .dataframe thead th {\n",
       "        text-align: right;\n",
       "    }\n",
       "</style>\n",
       "<table border=\"1\" class=\"dataframe\">\n",
       "  <thead>\n",
       "    <tr style=\"text-align: right;\">\n",
       "      <th></th>\n",
       "      <th>spec_id</th>\n",
       "      <th>screen_size</th>\n",
       "      <th>brand</th>\n",
       "      <th>type</th>\n",
       "      <th>megapixels</th>\n",
       "      <th>dots</th>\n",
       "      <th>weight</th>\n",
       "      <th>dimensions</th>\n",
       "    </tr>\n",
       "  </thead>\n",
       "  <tbody>\n",
       "    <tr>\n",
       "      <th>0</th>\n",
       "      <td>www.price-hunt.com//840</td>\n",
       "      <td>2.7</td>\n",
       "      <td>canon</td>\n",
       "      <td>advanced point shoot</td>\n",
       "      <td>16.0</td>\n",
       "      <td>230000d</td>\n",
       "      <td>117.0</td>\n",
       "      <td>3.7h2.1w0.9d</td>\n",
       "    </tr>\n",
       "    <tr>\n",
       "      <th>1</th>\n",
       "      <td>www.price-hunt.com//9603</td>\n",
       "      <td>2.7</td>\n",
       "      <td>sony</td>\n",
       "      <td>NaN</td>\n",
       "      <td>14.1</td>\n",
       "      <td>NaN</td>\n",
       "      <td>108.0</td>\n",
       "      <td>NaN</td>\n",
       "    </tr>\n",
       "    <tr>\n",
       "      <th>2</th>\n",
       "      <td>www.price-hunt.com//9809</td>\n",
       "      <td>2.7</td>\n",
       "      <td>samsung</td>\n",
       "      <td>point shoot</td>\n",
       "      <td>14.2</td>\n",
       "      <td>230000d</td>\n",
       "      <td>110.0</td>\n",
       "      <td>2.1h3.7w0.7d</td>\n",
       "    </tr>\n",
       "    <tr>\n",
       "      <th>3</th>\n",
       "      <td>www.price-hunt.com//940</td>\n",
       "      <td>3.0</td>\n",
       "      <td>nikon</td>\n",
       "      <td>point shoot</td>\n",
       "      <td>16.1</td>\n",
       "      <td>921000d</td>\n",
       "      <td>494.0</td>\n",
       "      <td>3.3h4.8w3.9d</td>\n",
       "    </tr>\n",
       "    <tr>\n",
       "      <th>4</th>\n",
       "      <td>www.price-hunt.com//9777</td>\n",
       "      <td>2.7</td>\n",
       "      <td>kodak</td>\n",
       "      <td>point shoot</td>\n",
       "      <td>16.0</td>\n",
       "      <td>230000d</td>\n",
       "      <td>116.0</td>\n",
       "      <td>NaN</td>\n",
       "    </tr>\n",
       "  </tbody>\n",
       "</table>\n",
       "</div>"
      ],
      "text/plain": [
       "                    spec_id  screen_size    brand                  type  \\\n",
       "0   www.price-hunt.com//840          2.7    canon  advanced point shoot   \n",
       "1  www.price-hunt.com//9603          2.7     sony                   NaN   \n",
       "2  www.price-hunt.com//9809          2.7  samsung           point shoot   \n",
       "3   www.price-hunt.com//940          3.0    nikon           point shoot   \n",
       "4  www.price-hunt.com//9777          2.7    kodak           point shoot   \n",
       "\n",
       "   megapixels     dots  weight    dimensions  \n",
       "0        16.0  230000d   117.0  3.7h2.1w0.9d  \n",
       "1        14.1      NaN   108.0           NaN  \n",
       "2        14.2  230000d   110.0  2.1h3.7w0.7d  \n",
       "3        16.1  921000d   494.0  3.3h4.8w3.9d  \n",
       "4        16.0  230000d   116.0           NaN  "
      ]
     },
     "execution_count": 42,
     "metadata": {},
     "output_type": "execute_result"
    }
   ],
   "source": [
    "df.rename(columns={'lcd screen size': 'screen_size', 'optical sensor resolution in megapixel': 'megapixels', 'image display resolution': 'dots'}, inplace=True)\n",
    "df.head()"
   ]
  },
  {
   "cell_type": "code",
   "execution_count": 43,
   "metadata": {},
   "outputs": [],
   "source": [
    "df.to_csv(\"../../datasets/unlabeled/cleaned/pricehunt.csv\", index=False)"
   ]
  },
  {
   "cell_type": "code",
   "execution_count": null,
   "metadata": {},
   "outputs": [],
   "source": []
  }
 ],
 "metadata": {
  "kernelspec": {
   "display_name": "Python 3",
   "language": "python",
   "name": "python3"
  },
  "language_info": {
   "codemirror_mode": {
    "name": "ipython",
    "version": 3
   },
   "file_extension": ".py",
   "mimetype": "text/x-python",
   "name": "python",
   "nbconvert_exporter": "python",
   "pygments_lexer": "ipython3",
   "version": "3.8.1"
  }
 },
 "nbformat": 4,
 "nbformat_minor": 4
}
