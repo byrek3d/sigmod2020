{
 "cells": [
  {
   "cell_type": "code",
   "execution_count": 1,
   "metadata": {},
   "outputs": [],
   "source": [
    "import os\n",
    "import numpy as np\n",
    "import json\n",
    "import pandas as pd\n",
    "import itertools\n",
    "from tqdm import tqdm\n",
    "import nltk\n",
    "from nltk.tokenize import word_tokenize\n",
    "import re\n",
    "import matplotlib.pyplot as plt"
   ]
  },
  {
   "cell_type": "code",
   "execution_count": 2,
   "metadata": {},
   "outputs": [],
   "source": [
    "def create_dataframe(dataset_path, source):\n",
    "    \"\"\"Function used to create a Pandas DataFrame containing specifications page titles\n",
    "\n",
    "    Reads products specifications from the file system (\"dataset_path\" variable in the main function) and creates a Pandas DataFrame where each row is a\n",
    "    specification. The columns are 'source' (e.g. www.sourceA.com), 'spec_number' (e.g. 1) and the 'page title'. Note that this script will consider only\n",
    "    the page title attribute for simplicity.\n",
    "\n",
    "    Args:\n",
    "        dataset_path (str): The path to the dataset\n",
    "\n",
    "    Returns:\n",
    "        df (pd.DataFrame): The Pandas DataFrame containing specifications and page titles\n",
    "    \"\"\"\n",
    "\n",
    "    print('>>> Creating dataframe...\\n')\n",
    "    columns_df = ['source', 'spec_number', 'spec_id', 'page_title']\n",
    "    \n",
    "    df = pd.DataFrame()\n",
    "    progressive_id = 0\n",
    "    progressive_id2row_df = {}\n",
    "    #for source in tqdm(os.listdir(dataset_path)):\n",
    "    #source = \"buy.net\"\n",
    "    for specification in os.listdir(os.path.join(dataset_path, source)):\n",
    "        specification_number = specification.replace('.json', '')\n",
    "        specification_id = '{}//{}'.format(source, specification_number)\n",
    "        with open(os.path.join(dataset_path, source, specification)) as specification_file:\n",
    "            columns_df = ['source', 'spec_number', 'spec_id']\n",
    "            specification_data = json.load(specification_file)\n",
    "            attrs = []\n",
    "            for k, v in specification_data.items():\n",
    "                columns_df.append(k)\n",
    "                attrs.append(v)\n",
    "            row = [source, specification_number, specification_id]\n",
    "            row.extend(attrs)\n",
    "            progressive_id2row_df.update({progressive_id: row})\n",
    "            progressive_id += 1\n",
    "            df = df.append(pd.DataFrame.from_dict(progressive_id2row_df, orient='index', columns=columns_df))\n",
    "            progressive_id2row_df = {}\n",
    "    #print(df)\n",
    "    print('>>> Dataframe created successfully!\\n')\n",
    "    return df"
   ]
  },
  {
   "cell_type": "code",
   "execution_count": 3,
   "metadata": {},
   "outputs": [
    {
     "name": "stdout",
     "output_type": "stream",
     "text": [
      ">>> Creating dataframe...\n",
      "\n"
     ]
    },
    {
     "name": "stderr",
     "output_type": "stream",
     "text": [
      "/Users/gfotiadis/anaconda3/lib/python3.7/site-packages/pandas/core/frame.py:6692: FutureWarning: Sorting because non-concatenation axis is not aligned. A future version\n",
      "of pandas will change to not sort by default.\n",
      "\n",
      "To accept the future behavior, pass 'sort=False'.\n",
      "\n",
      "To retain the current behavior and silence the warning, pass 'sort=True'.\n",
      "\n",
      "  sort=sort)\n"
     ]
    },
    {
     "name": "stdout",
     "output_type": "stream",
     "text": [
      ">>> Dataframe created successfully!\n",
      "\n"
     ]
    }
   ],
   "source": [
    "df = create_dataframe('../../datasets/unlabeled/2013_camera_specs', \"www.price-hunt.com\")"
   ]
  },
  {
   "cell_type": "code",
   "execution_count": 4,
   "metadata": {},
   "outputs": [
    {
     "data": {
      "text/html": [
       "<div>\n",
       "<style scoped>\n",
       "    .dataframe tbody tr th:only-of-type {\n",
       "        vertical-align: middle;\n",
       "    }\n",
       "\n",
       "    .dataframe tbody tr th {\n",
       "        vertical-align: top;\n",
       "    }\n",
       "\n",
       "    .dataframe thead th {\n",
       "        text-align: right;\n",
       "    }\n",
       "</style>\n",
       "<table border=\"1\" class=\"dataframe\">\n",
       "  <thead>\n",
       "    <tr style=\"text-align: right;\">\n",
       "      <th></th>\n",
       "      <th>3d images</th>\n",
       "      <th>&lt;page title&gt;</th>\n",
       "      <th>accelerometer</th>\n",
       "      <th>accessory shoe</th>\n",
       "      <th>additional features</th>\n",
       "      <th>ae lockexposure lock</th>\n",
       "      <th>all</th>\n",
       "      <th>altimeter</th>\n",
       "      <th>aperture range</th>\n",
       "      <th>audio formats</th>\n",
       "      <th>...</th>\n",
       "      <th>warranty service type</th>\n",
       "      <th>warranty summary</th>\n",
       "      <th>water resistance depth</th>\n",
       "      <th>weight</th>\n",
       "      <th>weight without battery</th>\n",
       "      <th>white balancing</th>\n",
       "      <th>wifi</th>\n",
       "      <th>wifi connectivity</th>\n",
       "      <th>wifi standard</th>\n",
       "      <th>wireless connectivity</th>\n",
       "    </tr>\n",
       "  </thead>\n",
       "  <tbody>\n",
       "    <tr>\n",
       "      <th>0</th>\n",
       "      <td>NaN</td>\n",
       "      <td>Pentax WG 10 Point &amp; Shoot Camera best price i...</td>\n",
       "      <td>NaN</td>\n",
       "      <td>NaN</td>\n",
       "      <td>Voice Memo, Index (6 or 12 Thumbnails), Croppi...</td>\n",
       "      <td>NaN</td>\n",
       "      <td>NaN</td>\n",
       "      <td>NaN</td>\n",
       "      <td>), f3.5 (w) - f5.5 (t</td>\n",
       "      <td>Pcm, WAV, Monaural</td>\n",
       "      <td>...</td>\n",
       "      <td>NaN</td>\n",
       "      <td>3 Year Pentax India Warranty and Free Transit ...</td>\n",
       "      <td>NaN</td>\n",
       "      <td>167.26 g</td>\n",
       "      <td>147.41</td>\n",
       "      <td>Manual Setting, Shade, Daylight, Tungsten Ligh...</td>\n",
       "      <td>NaN</td>\n",
       "      <td>NaN</td>\n",
       "      <td>NaN</td>\n",
       "      <td>NaN</td>\n",
       "    </tr>\n",
       "    <tr>\n",
       "      <th>1</th>\n",
       "      <td>3d Images</td>\n",
       "      <td>Sony NEX 7K DSLR Camera best price in India 20...</td>\n",
       "      <td>NaN</td>\n",
       "      <td>NaN</td>\n",
       "      <td>Creative Style: Standard, Vivid, Neutral, Clea...</td>\n",
       "      <td>Ae is Locked with Focus Locked</td>\n",
       "      <td>NaN</td>\n",
       "      <td>NaN</td>\n",
       "      <td>F3.5 - f5.6</td>\n",
       "      <td>Audio Recording Format: Dolby Digital (AC-3), ...</td>\n",
       "      <td>...</td>\n",
       "      <td>NaN</td>\n",
       "      <td>2 Year Sony India Warranty and Free Transit In...</td>\n",
       "      <td>NaN</td>\n",
       "      <td>350 g (with Battery and Memory Stick pro Duo)</td>\n",
       "      <td>291</td>\n",
       "      <td>Auto wb, Daylight, Shade, Cloudy, Incandescent...</td>\n",
       "      <td>NaN</td>\n",
       "      <td>NaN</td>\n",
       "      <td>NaN</td>\n",
       "      <td>NaN</td>\n",
       "    </tr>\n",
       "    <tr>\n",
       "      <th>2</th>\n",
       "      <td>NaN</td>\n",
       "      <td>Panasonic SDR H101 Camcorder Camera best price...</td>\n",
       "      <td>NaN</td>\n",
       "      <td>NaN</td>\n",
       "      <td>NaN</td>\n",
       "      <td>NaN</td>\n",
       "      <td>NaN</td>\n",
       "      <td>NaN</td>\n",
       "      <td>F1.9(Wide) / 5.7(Tele)</td>\n",
       "      <td>NaN</td>\n",
       "      <td>...</td>\n",
       "      <td>Customer Needs to Carry the Product to the Nea...</td>\n",
       "      <td>3 Year Panasonic India Warranty and Free Trans...</td>\n",
       "      <td>NaN</td>\n",
       "      <td>273 g</td>\n",
       "      <td>NaN</td>\n",
       "      <td>Auto / Indoor1 / Indoor2 / Sunny / Cloudy / Wh...</td>\n",
       "      <td>NaN</td>\n",
       "      <td>NaN</td>\n",
       "      <td>NaN</td>\n",
       "      <td>NaN</td>\n",
       "    </tr>\n",
       "    <tr>\n",
       "      <th>3</th>\n",
       "      <td>NaN</td>\n",
       "      <td>Sony HVR HD1000P Camcorder Camera best price i...</td>\n",
       "      <td>NaN</td>\n",
       "      <td>NaN</td>\n",
       "      <td>Speaker: 16 mm, Shoulder-Mount Design, Full Co...</td>\n",
       "      <td>NaN</td>\n",
       "      <td>NaN</td>\n",
       "      <td>NaN</td>\n",
       "      <td>NaN</td>\n",
       "      <td>NaN</td>\n",
       "      <td>...</td>\n",
       "      <td>NaN</td>\n",
       "      <td>NaN</td>\n",
       "      <td>NaN</td>\n",
       "      <td>NaN</td>\n",
       "      <td>2700</td>\n",
       "      <td>NaN</td>\n",
       "      <td>NaN</td>\n",
       "      <td>NaN</td>\n",
       "      <td>NaN</td>\n",
       "      <td>NaN</td>\n",
       "    </tr>\n",
       "    <tr>\n",
       "      <th>4</th>\n",
       "      <td>NaN</td>\n",
       "      <td>Panasonic HX DC2 Camcorder Camera best price i...</td>\n",
       "      <td>NaN</td>\n",
       "      <td>NaN</td>\n",
       "      <td>Zoom: 15x Intelligent Zoom, 12x w-Range Zoom, ...</td>\n",
       "      <td>NaN</td>\n",
       "      <td>NaN</td>\n",
       "      <td>NaN</td>\n",
       "      <td>F3.5 (w) - f3.7 (t)</td>\n",
       "      <td>Aac (2ch)</td>\n",
       "      <td>...</td>\n",
       "      <td>Customer Needs to Carry the Product to the Nea...</td>\n",
       "      <td>3 Year Panasonic India Warranty and Free Trans...</td>\n",
       "      <td>NaN</td>\n",
       "      <td>180 g (with Battery and SD Memory Card), 162 g...</td>\n",
       "      <td>NaN</td>\n",
       "      <td>Manual, Auto, Cloudy, Indoor 1, Indoor 2, Whit...</td>\n",
       "      <td>NaN</td>\n",
       "      <td>NaN</td>\n",
       "      <td>NaN</td>\n",
       "      <td>NaN</td>\n",
       "    </tr>\n",
       "  </tbody>\n",
       "</table>\n",
       "<p>5 rows × 170 columns</p>\n",
       "</div>"
      ],
      "text/plain": [
       "   3d images                                       <page title> accelerometer  \\\n",
       "0        NaN  Pentax WG 10 Point & Shoot Camera best price i...           NaN   \n",
       "1  3d Images  Sony NEX 7K DSLR Camera best price in India 20...           NaN   \n",
       "2        NaN  Panasonic SDR H101 Camcorder Camera best price...           NaN   \n",
       "3        NaN  Sony HVR HD1000P Camcorder Camera best price i...           NaN   \n",
       "4        NaN  Panasonic HX DC2 Camcorder Camera best price i...           NaN   \n",
       "\n",
       "  accessory shoe                                additional features  \\\n",
       "0            NaN  Voice Memo, Index (6 or 12 Thumbnails), Croppi...   \n",
       "1            NaN  Creative Style: Standard, Vivid, Neutral, Clea...   \n",
       "2            NaN                                                NaN   \n",
       "3            NaN  Speaker: 16 mm, Shoulder-Mount Design, Full Co...   \n",
       "4            NaN  Zoom: 15x Intelligent Zoom, 12x w-Range Zoom, ...   \n",
       "\n",
       "             ae lockexposure lock  all altimeter          aperture range  \\\n",
       "0                             NaN  NaN       NaN   ), f3.5 (w) - f5.5 (t   \n",
       "1  Ae is Locked with Focus Locked  NaN       NaN             F3.5 - f5.6   \n",
       "2                             NaN  NaN       NaN  F1.9(Wide) / 5.7(Tele)   \n",
       "3                             NaN  NaN       NaN                     NaN   \n",
       "4                             NaN  NaN       NaN     F3.5 (w) - f3.7 (t)   \n",
       "\n",
       "                                       audio formats  ...  \\\n",
       "0                                 Pcm, WAV, Monaural  ...   \n",
       "1  Audio Recording Format: Dolby Digital (AC-3), ...  ...   \n",
       "2                                                NaN  ...   \n",
       "3                                                NaN  ...   \n",
       "4                                          Aac (2ch)  ...   \n",
       "\n",
       "                               warranty service type  \\\n",
       "0                                                NaN   \n",
       "1                                                NaN   \n",
       "2  Customer Needs to Carry the Product to the Nea...   \n",
       "3                                                NaN   \n",
       "4  Customer Needs to Carry the Product to the Nea...   \n",
       "\n",
       "                                    warranty summary water resistance depth  \\\n",
       "0  3 Year Pentax India Warranty and Free Transit ...                    NaN   \n",
       "1  2 Year Sony India Warranty and Free Transit In...                    NaN   \n",
       "2  3 Year Panasonic India Warranty and Free Trans...                    NaN   \n",
       "3                                                NaN                    NaN   \n",
       "4  3 Year Panasonic India Warranty and Free Trans...                    NaN   \n",
       "\n",
       "                                              weight weight without battery  \\\n",
       "0                                           167.26 g                 147.41   \n",
       "1      350 g (with Battery and Memory Stick pro Duo)                    291   \n",
       "2                                              273 g                    NaN   \n",
       "3                                                NaN                   2700   \n",
       "4  180 g (with Battery and SD Memory Card), 162 g...                    NaN   \n",
       "\n",
       "                                     white balancing wifi wifi connectivity  \\\n",
       "0  Manual Setting, Shade, Daylight, Tungsten Ligh...  NaN               NaN   \n",
       "1  Auto wb, Daylight, Shade, Cloudy, Incandescent...  NaN               NaN   \n",
       "2  Auto / Indoor1 / Indoor2 / Sunny / Cloudy / Wh...  NaN               NaN   \n",
       "3                                                NaN  NaN               NaN   \n",
       "4  Manual, Auto, Cloudy, Indoor 1, Indoor 2, Whit...  NaN               NaN   \n",
       "\n",
       "  wifi standard wireless connectivity  \n",
       "0           NaN                   NaN  \n",
       "1           NaN                   NaN  \n",
       "2           NaN                   NaN  \n",
       "3           NaN                   NaN  \n",
       "4           NaN                   NaN  \n",
       "\n",
       "[5 rows x 170 columns]"
      ]
     },
     "execution_count": 4,
     "metadata": {},
     "output_type": "execute_result"
    }
   ],
   "source": [
    "df.head()"
   ]
  },
  {
   "cell_type": "code",
   "execution_count": 5,
   "metadata": {},
   "outputs": [],
   "source": [
    "cols = [\"spec_id\", \"lcd screen size\", \"brand\", \"type\", \"optical sensor resolution in megapixel\", \"image display resolution\", \"weight\", \"dimensions\"]"
   ]
  },
  {
   "cell_type": "code",
   "execution_count": 6,
   "metadata": {},
   "outputs": [],
   "source": [
    "df = df[cols]"
   ]
  },
  {
   "cell_type": "code",
   "execution_count": 7,
   "metadata": {},
   "outputs": [
    {
     "data": {
      "text/html": [
       "<div>\n",
       "<style scoped>\n",
       "    .dataframe tbody tr th:only-of-type {\n",
       "        vertical-align: middle;\n",
       "    }\n",
       "\n",
       "    .dataframe tbody tr th {\n",
       "        vertical-align: top;\n",
       "    }\n",
       "\n",
       "    .dataframe thead th {\n",
       "        text-align: right;\n",
       "    }\n",
       "</style>\n",
       "<table border=\"1\" class=\"dataframe\">\n",
       "  <thead>\n",
       "    <tr style=\"text-align: right;\">\n",
       "      <th></th>\n",
       "      <th>spec_id</th>\n",
       "      <th>lcd screen size</th>\n",
       "      <th>brand</th>\n",
       "      <th>type</th>\n",
       "      <th>optical sensor resolution in megapixel</th>\n",
       "      <th>image display resolution</th>\n",
       "      <th>weight</th>\n",
       "      <th>dimensions</th>\n",
       "    </tr>\n",
       "  </thead>\n",
       "  <tbody>\n",
       "    <tr>\n",
       "      <th>0</th>\n",
       "      <td>www.price-hunt.com//729</td>\n",
       "      <td>2.7 Inch</td>\n",
       "      <td>Pentax</td>\n",
       "      <td>Point &amp; Shoot</td>\n",
       "      <td>14 Megapixels</td>\n",
       "      <td>230,000 Dots</td>\n",
       "      <td>167.26 g</td>\n",
       "      <td>) x 27.94 (d) mm, 114.3 (w) x 58.42 (h</td>\n",
       "    </tr>\n",
       "    <tr>\n",
       "      <th>1</th>\n",
       "      <td>www.price-hunt.com//9793</td>\n",
       "      <td>3 Inch</td>\n",
       "      <td>Sony</td>\n",
       "      <td>DSLR</td>\n",
       "      <td>24.3 Megapixels</td>\n",
       "      <td>921,600 Dots</td>\n",
       "      <td>350 g (with Battery and Memory Stick pro Duo)</td>\n",
       "      <td>119.9 (w) x 66.9 (h) x 42.6 (d) mm</td>\n",
       "    </tr>\n",
       "    <tr>\n",
       "      <th>2</th>\n",
       "      <td>www.price-hunt.com//9681</td>\n",
       "      <td>2.7 Inch</td>\n",
       "      <td>Panasonic</td>\n",
       "      <td>Camcorder</td>\n",
       "      <td>NaN</td>\n",
       "      <td>123,200 Dots</td>\n",
       "      <td>273 g</td>\n",
       "      <td>55.1 (w) x 64.0 (h) x 107.3 (d) mm</td>\n",
       "    </tr>\n",
       "    <tr>\n",
       "      <th>3</th>\n",
       "      <td>www.price-hunt.com//791</td>\n",
       "      <td>2.7 Inch</td>\n",
       "      <td>Sony</td>\n",
       "      <td>Camcorder</td>\n",
       "      <td>NaN</td>\n",
       "      <td>211,200 Dots</td>\n",
       "      <td>NaN</td>\n",
       "      <td>NaN</td>\n",
       "    </tr>\n",
       "    <tr>\n",
       "      <th>4</th>\n",
       "      <td>www.price-hunt.com//9814</td>\n",
       "      <td>3 Inch</td>\n",
       "      <td>Panasonic</td>\n",
       "      <td>Camcorder</td>\n",
       "      <td>14.3 Megapixels</td>\n",
       "      <td>230,400 Dots</td>\n",
       "      <td>180 g (with Battery and SD Memory Card), 162 g...</td>\n",
       "      <td>86.2 (w) x 120.8 (h) x 38.1 (d) mm</td>\n",
       "    </tr>\n",
       "  </tbody>\n",
       "</table>\n",
       "</div>"
      ],
      "text/plain": [
       "                    spec_id lcd screen size      brand           type  \\\n",
       "0   www.price-hunt.com//729        2.7 Inch     Pentax  Point & Shoot   \n",
       "1  www.price-hunt.com//9793          3 Inch       Sony           DSLR   \n",
       "2  www.price-hunt.com//9681        2.7 Inch  Panasonic      Camcorder   \n",
       "3   www.price-hunt.com//791        2.7 Inch       Sony      Camcorder   \n",
       "4  www.price-hunt.com//9814          3 Inch  Panasonic      Camcorder   \n",
       "\n",
       "  optical sensor resolution in megapixel image display resolution  \\\n",
       "0                          14 Megapixels             230,000 Dots   \n",
       "1                        24.3 Megapixels             921,600 Dots   \n",
       "2                                    NaN             123,200 Dots   \n",
       "3                                    NaN             211,200 Dots   \n",
       "4                        14.3 Megapixels             230,400 Dots   \n",
       "\n",
       "                                              weight  \\\n",
       "0                                           167.26 g   \n",
       "1      350 g (with Battery and Memory Stick pro Duo)   \n",
       "2                                              273 g   \n",
       "3                                                NaN   \n",
       "4  180 g (with Battery and SD Memory Card), 162 g...   \n",
       "\n",
       "                               dimensions  \n",
       "0  ) x 27.94 (d) mm, 114.3 (w) x 58.42 (h  \n",
       "1      119.9 (w) x 66.9 (h) x 42.6 (d) mm  \n",
       "2      55.1 (w) x 64.0 (h) x 107.3 (d) mm  \n",
       "3                                     NaN  \n",
       "4      86.2 (w) x 120.8 (h) x 38.1 (d) mm  "
      ]
     },
     "execution_count": 7,
     "metadata": {},
     "output_type": "execute_result"
    }
   ],
   "source": [
    "df.head()"
   ]
  },
  {
   "cell_type": "code",
   "execution_count": 8,
   "metadata": {},
   "outputs": [
    {
     "data": {
      "text/plain": [
       "spec_id                                    0\n",
       "lcd screen size                           12\n",
       "brand                                      0\n",
       "type                                      26\n",
       "optical sensor resolution in megapixel    13\n",
       "image display resolution                  45\n",
       "weight                                    16\n",
       "dimensions                                59\n",
       "dtype: int64"
      ]
     },
     "execution_count": 8,
     "metadata": {},
     "output_type": "execute_result"
    }
   ],
   "source": [
    "df.isna().sum()"
   ]
  },
  {
   "cell_type": "markdown",
   "metadata": {},
   "source": [
    "## Lcd screen size"
   ]
  },
  {
   "cell_type": "code",
   "execution_count": 9,
   "metadata": {},
   "outputs": [],
   "source": [
    "def clean_size(value):\n",
    "    if pd.isna(value):\n",
    "        return value\n",
    "    elif len(value.split()) == 2:\n",
    "        return float(word_tokenize(value)[0])\n",
    "    else:\n",
    "        return float(value)"
   ]
  },
  {
   "cell_type": "code",
   "execution_count": 10,
   "metadata": {},
   "outputs": [
    {
     "data": {
      "text/plain": [
       "3 Inch       165\n",
       "2.7 Inch     105\n",
       "3.2 Inch      11\n",
       "2.4 Inch       6\n",
       "1.5 Inch       6\n",
       "2.8 Inch       5\n",
       "3.5 Inch       4\n",
       "2.5 Inch       4\n",
       "1.4 Inch       3\n",
       "2 Inch         2\n",
       "4.77 Inch      1\n",
       "3.0 Inch       1\n",
       "2.7            1\n",
       "1.8 Inch       1\n",
       "Name: lcd screen size, dtype: int64"
      ]
     },
     "execution_count": 10,
     "metadata": {},
     "output_type": "execute_result"
    }
   ],
   "source": [
    "df[\"lcd screen size\"].value_counts()"
   ]
  },
  {
   "cell_type": "code",
   "execution_count": 11,
   "metadata": {},
   "outputs": [],
   "source": [
    "df[\"lcd screen size\"] = df[\"lcd screen size\"].apply(clean_size)"
   ]
  },
  {
   "cell_type": "code",
   "execution_count": 12,
   "metadata": {},
   "outputs": [
    {
     "data": {
      "text/plain": [
       "3.00    166\n",
       "2.70    106\n",
       "3.20     11\n",
       "2.40      6\n",
       "1.50      6\n",
       "2.80      5\n",
       "2.50      4\n",
       "3.50      4\n",
       "1.40      3\n",
       "2.00      2\n",
       "1.80      1\n",
       "4.77      1\n",
       "Name: lcd screen size, dtype: int64"
      ]
     },
     "execution_count": 12,
     "metadata": {},
     "output_type": "execute_result"
    }
   ],
   "source": [
    "df[\"lcd screen size\"].value_counts()"
   ]
  },
  {
   "cell_type": "code",
   "execution_count": 13,
   "metadata": {},
   "outputs": [
    {
     "data": {
      "text/html": [
       "<div>\n",
       "<style scoped>\n",
       "    .dataframe tbody tr th:only-of-type {\n",
       "        vertical-align: middle;\n",
       "    }\n",
       "\n",
       "    .dataframe tbody tr th {\n",
       "        vertical-align: top;\n",
       "    }\n",
       "\n",
       "    .dataframe thead th {\n",
       "        text-align: right;\n",
       "    }\n",
       "</style>\n",
       "<table border=\"1\" class=\"dataframe\">\n",
       "  <thead>\n",
       "    <tr style=\"text-align: right;\">\n",
       "      <th></th>\n",
       "      <th>spec_id</th>\n",
       "      <th>lcd screen size</th>\n",
       "      <th>brand</th>\n",
       "      <th>type</th>\n",
       "      <th>optical sensor resolution in megapixel</th>\n",
       "      <th>image display resolution</th>\n",
       "      <th>weight</th>\n",
       "      <th>dimensions</th>\n",
       "    </tr>\n",
       "  </thead>\n",
       "  <tbody>\n",
       "    <tr>\n",
       "      <th>0</th>\n",
       "      <td>www.price-hunt.com//729</td>\n",
       "      <td>2.7</td>\n",
       "      <td>Pentax</td>\n",
       "      <td>Point &amp; Shoot</td>\n",
       "      <td>14 Megapixels</td>\n",
       "      <td>230,000 Dots</td>\n",
       "      <td>167.26 g</td>\n",
       "      <td>) x 27.94 (d) mm, 114.3 (w) x 58.42 (h</td>\n",
       "    </tr>\n",
       "    <tr>\n",
       "      <th>1</th>\n",
       "      <td>www.price-hunt.com//9793</td>\n",
       "      <td>3.0</td>\n",
       "      <td>Sony</td>\n",
       "      <td>DSLR</td>\n",
       "      <td>24.3 Megapixels</td>\n",
       "      <td>921,600 Dots</td>\n",
       "      <td>350 g (with Battery and Memory Stick pro Duo)</td>\n",
       "      <td>119.9 (w) x 66.9 (h) x 42.6 (d) mm</td>\n",
       "    </tr>\n",
       "    <tr>\n",
       "      <th>2</th>\n",
       "      <td>www.price-hunt.com//9681</td>\n",
       "      <td>2.7</td>\n",
       "      <td>Panasonic</td>\n",
       "      <td>Camcorder</td>\n",
       "      <td>NaN</td>\n",
       "      <td>123,200 Dots</td>\n",
       "      <td>273 g</td>\n",
       "      <td>55.1 (w) x 64.0 (h) x 107.3 (d) mm</td>\n",
       "    </tr>\n",
       "    <tr>\n",
       "      <th>3</th>\n",
       "      <td>www.price-hunt.com//791</td>\n",
       "      <td>2.7</td>\n",
       "      <td>Sony</td>\n",
       "      <td>Camcorder</td>\n",
       "      <td>NaN</td>\n",
       "      <td>211,200 Dots</td>\n",
       "      <td>NaN</td>\n",
       "      <td>NaN</td>\n",
       "    </tr>\n",
       "    <tr>\n",
       "      <th>4</th>\n",
       "      <td>www.price-hunt.com//9814</td>\n",
       "      <td>3.0</td>\n",
       "      <td>Panasonic</td>\n",
       "      <td>Camcorder</td>\n",
       "      <td>14.3 Megapixels</td>\n",
       "      <td>230,400 Dots</td>\n",
       "      <td>180 g (with Battery and SD Memory Card), 162 g...</td>\n",
       "      <td>86.2 (w) x 120.8 (h) x 38.1 (d) mm</td>\n",
       "    </tr>\n",
       "  </tbody>\n",
       "</table>\n",
       "</div>"
      ],
      "text/plain": [
       "                    spec_id  lcd screen size      brand           type  \\\n",
       "0   www.price-hunt.com//729              2.7     Pentax  Point & Shoot   \n",
       "1  www.price-hunt.com//9793              3.0       Sony           DSLR   \n",
       "2  www.price-hunt.com//9681              2.7  Panasonic      Camcorder   \n",
       "3   www.price-hunt.com//791              2.7       Sony      Camcorder   \n",
       "4  www.price-hunt.com//9814              3.0  Panasonic      Camcorder   \n",
       "\n",
       "  optical sensor resolution in megapixel image display resolution  \\\n",
       "0                          14 Megapixels             230,000 Dots   \n",
       "1                        24.3 Megapixels             921,600 Dots   \n",
       "2                                    NaN             123,200 Dots   \n",
       "3                                    NaN             211,200 Dots   \n",
       "4                        14.3 Megapixels             230,400 Dots   \n",
       "\n",
       "                                              weight  \\\n",
       "0                                           167.26 g   \n",
       "1      350 g (with Battery and Memory Stick pro Duo)   \n",
       "2                                              273 g   \n",
       "3                                                NaN   \n",
       "4  180 g (with Battery and SD Memory Card), 162 g...   \n",
       "\n",
       "                               dimensions  \n",
       "0  ) x 27.94 (d) mm, 114.3 (w) x 58.42 (h  \n",
       "1      119.9 (w) x 66.9 (h) x 42.6 (d) mm  \n",
       "2      55.1 (w) x 64.0 (h) x 107.3 (d) mm  \n",
       "3                                     NaN  \n",
       "4      86.2 (w) x 120.8 (h) x 38.1 (d) mm  "
      ]
     },
     "execution_count": 13,
     "metadata": {},
     "output_type": "execute_result"
    }
   ],
   "source": [
    "df.head()"
   ]
  },
  {
   "cell_type": "markdown",
   "metadata": {},
   "source": [
    "## Brand"
   ]
  },
  {
   "cell_type": "code",
   "execution_count": 14,
   "metadata": {},
   "outputs": [
    {
     "data": {
      "text/plain": [
       "Sony         83\n",
       "Panasonic    45\n",
       "Canon        43\n",
       "Nikon        42\n",
       "Fujifilm     29\n",
       "Olympus      21\n",
       "Samsung      12\n",
       "Kodak        10\n",
       "Pentax       10\n",
       "Ricoh         5\n",
       "Yourdeal      5\n",
       "Aiptek        3\n",
       "Garmin        3\n",
       "Wespro        3\n",
       "Casio         2\n",
       "Tvc           2\n",
       "Benq          2\n",
       "Drift         2\n",
       "Rollei        2\n",
       "Gopro         1\n",
       "Polaroid      1\n",
       "Jvc           1\n",
       "Name: brand, dtype: int64"
      ]
     },
     "execution_count": 14,
     "metadata": {},
     "output_type": "execute_result"
    }
   ],
   "source": [
    "df[\"brand\"].value_counts()"
   ]
  },
  {
   "cell_type": "code",
   "execution_count": 15,
   "metadata": {},
   "outputs": [],
   "source": [
    "df[\"brand\"] = df[\"brand\"].apply(lambda brand : brand.lower())"
   ]
  },
  {
   "cell_type": "markdown",
   "metadata": {},
   "source": [
    "## Type"
   ]
  },
  {
   "cell_type": "code",
   "execution_count": 16,
   "metadata": {},
   "outputs": [
    {
     "data": {
      "text/plain": [
       "Point & Shoot                                    149\n",
       "DSLR                                              52\n",
       "Camcorder                                         49\n",
       "Advanced Point & Shoot                            15\n",
       "Mirrorless                                        15\n",
       "Sports & Action                                   10\n",
       "Instant                                            4\n",
       "SLR                                                2\n",
       "Video Camera                                       2\n",
       "Lens Style Camera                                  1\n",
       "Digital Interchangeable Lens                       1\n",
       "Micro Four Thirds Interchangeable Lens System      1\n",
       "Name: type, dtype: int64"
      ]
     },
     "execution_count": 16,
     "metadata": {},
     "output_type": "execute_result"
    }
   ],
   "source": [
    "df[\"type\"].value_counts()"
   ]
  },
  {
   "cell_type": "code",
   "execution_count": 17,
   "metadata": {},
   "outputs": [],
   "source": [
    "def clean_camera_type(camera):\n",
    "    if pd.isna(camera):\n",
    "        return camera\n",
    "    else:\n",
    "        punctuation = \"!#$%&'()*+,-./:;<=>?@[\\]^_`{|}~€£¥₹₽\"\n",
    "        for p in punctuation:\n",
    "            camera = camera.replace(p, \"\")\n",
    "        camera = camera.replace(\"camera\", \"\")\n",
    "        camera = ' '.join(camera.split())\n",
    "        return camera.lower()"
   ]
  },
  {
   "cell_type": "code",
   "execution_count": 18,
   "metadata": {},
   "outputs": [],
   "source": [
    "df[\"type\"] = df[\"type\"].apply(clean_camera_type)"
   ]
  },
  {
   "cell_type": "code",
   "execution_count": 19,
   "metadata": {},
   "outputs": [
    {
     "data": {
      "text/plain": [
       "point shoot                                      149\n",
       "dslr                                              52\n",
       "camcorder                                         49\n",
       "advanced point shoot                              15\n",
       "mirrorless                                        15\n",
       "sports action                                     10\n",
       "instant                                            4\n",
       "slr                                                2\n",
       "video camera                                       2\n",
       "lens style camera                                  1\n",
       "micro four thirds interchangeable lens system      1\n",
       "digital interchangeable lens                       1\n",
       "Name: type, dtype: int64"
      ]
     },
     "execution_count": 19,
     "metadata": {},
     "output_type": "execute_result"
    }
   ],
   "source": [
    "df[\"type\"].value_counts()"
   ]
  },
  {
   "cell_type": "code",
   "execution_count": 20,
   "metadata": {},
   "outputs": [
    {
     "data": {
      "text/html": [
       "<div>\n",
       "<style scoped>\n",
       "    .dataframe tbody tr th:only-of-type {\n",
       "        vertical-align: middle;\n",
       "    }\n",
       "\n",
       "    .dataframe tbody tr th {\n",
       "        vertical-align: top;\n",
       "    }\n",
       "\n",
       "    .dataframe thead th {\n",
       "        text-align: right;\n",
       "    }\n",
       "</style>\n",
       "<table border=\"1\" class=\"dataframe\">\n",
       "  <thead>\n",
       "    <tr style=\"text-align: right;\">\n",
       "      <th></th>\n",
       "      <th>spec_id</th>\n",
       "      <th>lcd screen size</th>\n",
       "      <th>brand</th>\n",
       "      <th>type</th>\n",
       "      <th>optical sensor resolution in megapixel</th>\n",
       "      <th>image display resolution</th>\n",
       "      <th>weight</th>\n",
       "      <th>dimensions</th>\n",
       "    </tr>\n",
       "  </thead>\n",
       "  <tbody>\n",
       "    <tr>\n",
       "      <th>0</th>\n",
       "      <td>www.price-hunt.com//729</td>\n",
       "      <td>2.7</td>\n",
       "      <td>pentax</td>\n",
       "      <td>point shoot</td>\n",
       "      <td>14 Megapixels</td>\n",
       "      <td>230,000 Dots</td>\n",
       "      <td>167.26 g</td>\n",
       "      <td>) x 27.94 (d) mm, 114.3 (w) x 58.42 (h</td>\n",
       "    </tr>\n",
       "    <tr>\n",
       "      <th>1</th>\n",
       "      <td>www.price-hunt.com//9793</td>\n",
       "      <td>3.0</td>\n",
       "      <td>sony</td>\n",
       "      <td>dslr</td>\n",
       "      <td>24.3 Megapixels</td>\n",
       "      <td>921,600 Dots</td>\n",
       "      <td>350 g (with Battery and Memory Stick pro Duo)</td>\n",
       "      <td>119.9 (w) x 66.9 (h) x 42.6 (d) mm</td>\n",
       "    </tr>\n",
       "    <tr>\n",
       "      <th>2</th>\n",
       "      <td>www.price-hunt.com//9681</td>\n",
       "      <td>2.7</td>\n",
       "      <td>panasonic</td>\n",
       "      <td>camcorder</td>\n",
       "      <td>NaN</td>\n",
       "      <td>123,200 Dots</td>\n",
       "      <td>273 g</td>\n",
       "      <td>55.1 (w) x 64.0 (h) x 107.3 (d) mm</td>\n",
       "    </tr>\n",
       "    <tr>\n",
       "      <th>3</th>\n",
       "      <td>www.price-hunt.com//791</td>\n",
       "      <td>2.7</td>\n",
       "      <td>sony</td>\n",
       "      <td>camcorder</td>\n",
       "      <td>NaN</td>\n",
       "      <td>211,200 Dots</td>\n",
       "      <td>NaN</td>\n",
       "      <td>NaN</td>\n",
       "    </tr>\n",
       "    <tr>\n",
       "      <th>4</th>\n",
       "      <td>www.price-hunt.com//9814</td>\n",
       "      <td>3.0</td>\n",
       "      <td>panasonic</td>\n",
       "      <td>camcorder</td>\n",
       "      <td>14.3 Megapixels</td>\n",
       "      <td>230,400 Dots</td>\n",
       "      <td>180 g (with Battery and SD Memory Card), 162 g...</td>\n",
       "      <td>86.2 (w) x 120.8 (h) x 38.1 (d) mm</td>\n",
       "    </tr>\n",
       "  </tbody>\n",
       "</table>\n",
       "</div>"
      ],
      "text/plain": [
       "                    spec_id  lcd screen size      brand         type  \\\n",
       "0   www.price-hunt.com//729              2.7     pentax  point shoot   \n",
       "1  www.price-hunt.com//9793              3.0       sony         dslr   \n",
       "2  www.price-hunt.com//9681              2.7  panasonic    camcorder   \n",
       "3   www.price-hunt.com//791              2.7       sony    camcorder   \n",
       "4  www.price-hunt.com//9814              3.0  panasonic    camcorder   \n",
       "\n",
       "  optical sensor resolution in megapixel image display resolution  \\\n",
       "0                          14 Megapixels             230,000 Dots   \n",
       "1                        24.3 Megapixels             921,600 Dots   \n",
       "2                                    NaN             123,200 Dots   \n",
       "3                                    NaN             211,200 Dots   \n",
       "4                        14.3 Megapixels             230,400 Dots   \n",
       "\n",
       "                                              weight  \\\n",
       "0                                           167.26 g   \n",
       "1      350 g (with Battery and Memory Stick pro Duo)   \n",
       "2                                              273 g   \n",
       "3                                                NaN   \n",
       "4  180 g (with Battery and SD Memory Card), 162 g...   \n",
       "\n",
       "                               dimensions  \n",
       "0  ) x 27.94 (d) mm, 114.3 (w) x 58.42 (h  \n",
       "1      119.9 (w) x 66.9 (h) x 42.6 (d) mm  \n",
       "2      55.1 (w) x 64.0 (h) x 107.3 (d) mm  \n",
       "3                                     NaN  \n",
       "4      86.2 (w) x 120.8 (h) x 38.1 (d) mm  "
      ]
     },
     "execution_count": 20,
     "metadata": {},
     "output_type": "execute_result"
    }
   ],
   "source": [
    "df.head()"
   ]
  },
  {
   "cell_type": "markdown",
   "metadata": {},
   "source": [
    "## Optical sensor resolution in megapixel"
   ]
  },
  {
   "cell_type": "code",
   "execution_count": 21,
   "metadata": {},
   "outputs": [],
   "source": [
    "def megapixels_metrics(value):\n",
    "    if pd.isna(value):\n",
    "        return value\n",
    "    else:\n",
    "        return word_tokenize(value)[1]"
   ]
  },
  {
   "cell_type": "code",
   "execution_count": 22,
   "metadata": {},
   "outputs": [],
   "source": [
    "def clean_megapixels(value):\n",
    "    if pd.isna(value):\n",
    "        return value\n",
    "    else:\n",
    "        return round(float(word_tokenize(value)[0]), 1)"
   ]
  },
  {
   "cell_type": "code",
   "execution_count": 23,
   "metadata": {},
   "outputs": [
    {
     "data": {
      "text/plain": [
       "Megapixels    294\n",
       "mp             20\n",
       "Name: optical sensor resolution in megapixel, dtype: int64"
      ]
     },
     "execution_count": 23,
     "metadata": {},
     "output_type": "execute_result"
    }
   ],
   "source": [
    "df[\"optical sensor resolution in megapixel\"].apply(megapixels_metrics).value_counts()"
   ]
  },
  {
   "cell_type": "code",
   "execution_count": 24,
   "metadata": {},
   "outputs": [],
   "source": [
    "df[\"optical sensor resolution in megapixel\"] = df[\"optical sensor resolution in megapixel\"].apply(clean_megapixels)"
   ]
  },
  {
   "cell_type": "markdown",
   "metadata": {},
   "source": [
    "## Image display resolution"
   ]
  },
  {
   "cell_type": "code",
   "execution_count": 25,
   "metadata": {},
   "outputs": [
    {
     "data": {
      "text/plain": [
       "230,000 Dots        92\n",
       "460,000 Dots        31\n",
       "921,600 Dots        22\n",
       "230,400 Dots        17\n",
       "921,000 Dots        16\n",
       "460,800 Dots        15\n",
       "461,000 Dots         9\n",
       "000 Dots, 230        8\n",
       "921, 000 Dots        6\n",
       "1,040,000 Dots       6\n",
       "1,228,800 Dots       6\n",
       "460, 000 Dots        5\n",
       "230, 000 Dots        4\n",
       "400 Dots, 230        4\n",
       "460, 800 Dots        3\n",
       "000 Dots, 460        3\n",
       "123,200 Dots         3\n",
       "461, 000 Dots        2\n",
       "460000 Dots          2\n",
       "1,037,000 Dots       2\n",
       "614,000 Dots         2\n",
       "920,000 Dots         2\n",
       "230400 Dots          2\n",
       "922,000 Dots         2\n",
       "112,000 Dots         2\n",
       "000 Dots, 921        2\n",
       "819,000 Dots         1\n",
       "110,000 Dots         1\n",
       "1,230,000 Dots       1\n",
       "230, 400 Dots        1\n",
       "1,036,800 Dots       1\n",
       "211,200 Dots         1\n",
       "040, 1, 000 Dots     1\n",
       "921, 600 Dots        1\n",
       "922, 000 Dots        1\n",
       "920, 000 Dots        1\n",
       "1,152,000 Dots       1\n",
       "641,000 Dots         1\n",
       "288,000 Dots         1\n",
       "460,000dots          1\n",
       "Name: image display resolution, dtype: int64"
      ]
     },
     "execution_count": 25,
     "metadata": {},
     "output_type": "execute_result"
    }
   ],
   "source": [
    "df[\"image display resolution\"].value_counts()"
   ]
  },
  {
   "cell_type": "code",
   "execution_count": 26,
   "metadata": {},
   "outputs": [],
   "source": [
    "def clean_dots(value):\n",
    "    if pd.isna(value):\n",
    "        return value\n",
    "    else:\n",
    "        value = ' '.join(value.split())\n",
    "        value = value.replace(\",\", \"\")\n",
    "        value = value.replace(\"Dots\", \"d\")\n",
    "        value = value.replace(\"dots\", \"d\")\n",
    "        if bool(re.match(r\"[0-9]* [0-9]* d\", value)):\n",
    "            return value.replace(\" \", \"\")\n",
    "        elif bool(re.match(r\"[0-9]* d [0-9]*\", value)):\n",
    "            splitted = value.split()\n",
    "            return splitted[2] + splitted[0] + splitted[1]            \n",
    "        elif bool(re.match(r\"[0-9]* d\", value)):\n",
    "            return value.replace(\" \", \"\")\n",
    "                \n",
    "        return value.replace(\" \", \"\")"
   ]
  },
  {
   "cell_type": "code",
   "execution_count": 27,
   "metadata": {},
   "outputs": [],
   "source": [
    "df[\"image display resolution\"] = df[\"image display resolution\"].apply(clean_dots)"
   ]
  },
  {
   "cell_type": "code",
   "execution_count": 28,
   "metadata": {},
   "outputs": [
    {
     "data": {
      "text/html": [
       "<div>\n",
       "<style scoped>\n",
       "    .dataframe tbody tr th:only-of-type {\n",
       "        vertical-align: middle;\n",
       "    }\n",
       "\n",
       "    .dataframe tbody tr th {\n",
       "        vertical-align: top;\n",
       "    }\n",
       "\n",
       "    .dataframe thead th {\n",
       "        text-align: right;\n",
       "    }\n",
       "</style>\n",
       "<table border=\"1\" class=\"dataframe\">\n",
       "  <thead>\n",
       "    <tr style=\"text-align: right;\">\n",
       "      <th></th>\n",
       "      <th>spec_id</th>\n",
       "      <th>lcd screen size</th>\n",
       "      <th>brand</th>\n",
       "      <th>type</th>\n",
       "      <th>optical sensor resolution in megapixel</th>\n",
       "      <th>image display resolution</th>\n",
       "      <th>weight</th>\n",
       "      <th>dimensions</th>\n",
       "    </tr>\n",
       "  </thead>\n",
       "  <tbody>\n",
       "    <tr>\n",
       "      <th>0</th>\n",
       "      <td>www.price-hunt.com//729</td>\n",
       "      <td>2.7</td>\n",
       "      <td>pentax</td>\n",
       "      <td>point shoot</td>\n",
       "      <td>14.0</td>\n",
       "      <td>230000d</td>\n",
       "      <td>167.26 g</td>\n",
       "      <td>) x 27.94 (d) mm, 114.3 (w) x 58.42 (h</td>\n",
       "    </tr>\n",
       "    <tr>\n",
       "      <th>1</th>\n",
       "      <td>www.price-hunt.com//9793</td>\n",
       "      <td>3.0</td>\n",
       "      <td>sony</td>\n",
       "      <td>dslr</td>\n",
       "      <td>24.3</td>\n",
       "      <td>921600d</td>\n",
       "      <td>350 g (with Battery and Memory Stick pro Duo)</td>\n",
       "      <td>119.9 (w) x 66.9 (h) x 42.6 (d) mm</td>\n",
       "    </tr>\n",
       "    <tr>\n",
       "      <th>2</th>\n",
       "      <td>www.price-hunt.com//9681</td>\n",
       "      <td>2.7</td>\n",
       "      <td>panasonic</td>\n",
       "      <td>camcorder</td>\n",
       "      <td>NaN</td>\n",
       "      <td>123200d</td>\n",
       "      <td>273 g</td>\n",
       "      <td>55.1 (w) x 64.0 (h) x 107.3 (d) mm</td>\n",
       "    </tr>\n",
       "    <tr>\n",
       "      <th>3</th>\n",
       "      <td>www.price-hunt.com//791</td>\n",
       "      <td>2.7</td>\n",
       "      <td>sony</td>\n",
       "      <td>camcorder</td>\n",
       "      <td>NaN</td>\n",
       "      <td>211200d</td>\n",
       "      <td>NaN</td>\n",
       "      <td>NaN</td>\n",
       "    </tr>\n",
       "    <tr>\n",
       "      <th>4</th>\n",
       "      <td>www.price-hunt.com//9814</td>\n",
       "      <td>3.0</td>\n",
       "      <td>panasonic</td>\n",
       "      <td>camcorder</td>\n",
       "      <td>14.3</td>\n",
       "      <td>230400d</td>\n",
       "      <td>180 g (with Battery and SD Memory Card), 162 g...</td>\n",
       "      <td>86.2 (w) x 120.8 (h) x 38.1 (d) mm</td>\n",
       "    </tr>\n",
       "  </tbody>\n",
       "</table>\n",
       "</div>"
      ],
      "text/plain": [
       "                    spec_id  lcd screen size      brand         type  \\\n",
       "0   www.price-hunt.com//729              2.7     pentax  point shoot   \n",
       "1  www.price-hunt.com//9793              3.0       sony         dslr   \n",
       "2  www.price-hunt.com//9681              2.7  panasonic    camcorder   \n",
       "3   www.price-hunt.com//791              2.7       sony    camcorder   \n",
       "4  www.price-hunt.com//9814              3.0  panasonic    camcorder   \n",
       "\n",
       "   optical sensor resolution in megapixel image display resolution  \\\n",
       "0                                    14.0                  230000d   \n",
       "1                                    24.3                  921600d   \n",
       "2                                     NaN                  123200d   \n",
       "3                                     NaN                  211200d   \n",
       "4                                    14.3                  230400d   \n",
       "\n",
       "                                              weight  \\\n",
       "0                                           167.26 g   \n",
       "1      350 g (with Battery and Memory Stick pro Duo)   \n",
       "2                                              273 g   \n",
       "3                                                NaN   \n",
       "4  180 g (with Battery and SD Memory Card), 162 g...   \n",
       "\n",
       "                               dimensions  \n",
       "0  ) x 27.94 (d) mm, 114.3 (w) x 58.42 (h  \n",
       "1      119.9 (w) x 66.9 (h) x 42.6 (d) mm  \n",
       "2      55.1 (w) x 64.0 (h) x 107.3 (d) mm  \n",
       "3                                     NaN  \n",
       "4      86.2 (w) x 120.8 (h) x 38.1 (d) mm  "
      ]
     },
     "execution_count": 28,
     "metadata": {},
     "output_type": "execute_result"
    }
   ],
   "source": [
    "df.head()"
   ]
  },
  {
   "cell_type": "markdown",
   "metadata": {},
   "source": [
    "## Weight"
   ]
  },
  {
   "cell_type": "code",
   "execution_count": 31,
   "metadata": {
    "collapsed": true,
    "jupyter": {
     "outputs_hidden": true
    }
   },
   "outputs": [
    {
     "data": {
      "text/plain": [
       "210 g                                                                                  7\n",
       "100                                                                                    6\n",
       "480 g (Cipa Guidelines)                                                                4\n",
       "589.67 g (Without Battery and Removable Memory), 649.20 g (Loaded and Ready)           4\n",
       "411 g (with Battery and Memory Stick pro Duo)                                          3\n",
       "177.4 g (with Battery)                                                                 3\n",
       "344 g (with Battery and Memory Stick pro Duo)                                          3\n",
       "269 g (with Battery and Memory Stick pro Duo)                                          3\n",
       "135 g (Camera Body Only), 155 g (with Battery and Memory Card)                         2\n",
       "325 g                                                                                  2\n",
       "142 g (Camera Body Only), 163 g (with Battery and Memory Card)                         2\n",
       "474 g (with Battery and Memory Stick pro Duo)                                          2\n",
       "675 g (Body Only), 755 g (Cipa Guidelines)                                             2\n",
       "141 g                                                                                  2\n",
       "215 g                                                                                  2\n",
       "492 g                                                                                  2\n",
       "168 g                                                                                  2\n",
       "460 g                                                                                  2\n",
       "125 g (with Battery and Memory Card)                                                   2\n",
       "539 g (Without Battery, Memory Card or Accessories)                                    2\n",
       "850 g (with Battery and Memory Card but Without Body Cap), 760 g (Camera Body Only)    2\n",
       "653 g (Without Battery, Memory Card or Accessories)                                    2\n",
       "290 g (with Battery and Memory Stick Duo)                                              2\n",
       "181 g (Without Battery and SD Card)                                                    2\n",
       "218 g                                                                                  2\n",
       "117                                                                                    2\n",
       "65 g (Main Unit Only), 90 g (Total)                                                    2\n",
       "212 g                                                                                  2\n",
       "104 g                                                                                  2\n",
       "492 g (Body Only), 573 g (with Battery and Memory Card)                                2\n",
       "                                                                                      ..\n",
       "271 g (Cipa Guideline Compliant, Including Batteries, Card)                            1\n",
       "655 g (with Battery and Memory Stick)                                                  1\n",
       "137 g (with Battery and SD Memory Card)                                                1\n",
       "96 g                                                                                   1\n",
       "606 g (with Battery and Memory Card)                                                   1\n",
       "653 g                                                                                  1\n",
       "116 g (with Battery and Memory Stick), 100 g (Body Only)                               1\n",
       "573 g (with Battery and Memory Card), 492 g (Body Only)                                1\n",
       "113 g                                                                                  1\n",
       "142 g (with Battery and SD Memory Card)                                                1\n",
       "184 g                                                                                  1\n",
       "508 g (with Battery and SD Memory Card)                                                1\n",
       "125 g (with Battery and Memory Stick)                                                  1\n",
       "995 g (Without Battery, Memory Card or Body Cap)                                       1\n",
       "124.8 g                                                                                1\n",
       "465 g (with Battery and Memory Stick pro Duo)                                          1\n",
       "505 g (with Battery and Memory Card but Without Cap), 455 g (with Camera Body Only)    1\n",
       "110 g (Without Battery and SD Memory Card)                                             1\n",
       "481 g                                                                                  1\n",
       "184 g (Without Battery and SD Memory Card), 206 g (with Battery and SD Memory Card)    1\n",
       "218 g (Cipa Guideline Compliant, Including Batteries, Card)                            1\n",
       "498 g                                                                                  1\n",
       "184 g (Without Battery)                                                                1\n",
       "273 g                                                                                  1\n",
       "118 g (Body Only), 134 g (with Battery and Meomry Card)                                1\n",
       "113 g (with Battery and Memory Stick), 97 g (Body Only)                                1\n",
       "353 g (Without Battery and SD Card)                                                    1\n",
       "435 g (with Battery and Memory Card)                                                   1\n",
       "125 g (with Batteries and Memory Card)                                                 1\n",
       "100 g                                                                                  1\n",
       "Name: weight, Length: 257, dtype: int64"
      ]
     },
     "execution_count": 31,
     "metadata": {},
     "output_type": "execute_result"
    }
   ],
   "source": [
    "df[\"weight\"].value_counts()"
   ]
  },
  {
   "cell_type": "code",
   "execution_count": 61,
   "metadata": {},
   "outputs": [],
   "source": [
    "def clean_weight(value):\n",
    "    if pd.isna(value):\n",
    "        return value\n",
    "    else:\n",
    "        tokenized = word_tokenize(value)\n",
    "        if len(tokenized) >= 2:\n",
    "            return int(round(float(tokenized[0].replace(\"g\", \"\"))))\n",
    "        else:\n",
    "            return int(round(float(value)))"
   ]
  },
  {
   "cell_type": "code",
   "execution_count": 64,
   "metadata": {},
   "outputs": [],
   "source": [
    "df[\"weight\"] = df[\"weight\"].apply(clean_weight)"
   ]
  },
  {
   "cell_type": "code",
   "execution_count": 66,
   "metadata": {},
   "outputs": [
    {
     "data": {
      "text/html": [
       "<div>\n",
       "<style scoped>\n",
       "    .dataframe tbody tr th:only-of-type {\n",
       "        vertical-align: middle;\n",
       "    }\n",
       "\n",
       "    .dataframe tbody tr th {\n",
       "        vertical-align: top;\n",
       "    }\n",
       "\n",
       "    .dataframe thead th {\n",
       "        text-align: right;\n",
       "    }\n",
       "</style>\n",
       "<table border=\"1\" class=\"dataframe\">\n",
       "  <thead>\n",
       "    <tr style=\"text-align: right;\">\n",
       "      <th></th>\n",
       "      <th>spec_id</th>\n",
       "      <th>lcd screen size</th>\n",
       "      <th>brand</th>\n",
       "      <th>type</th>\n",
       "      <th>optical sensor resolution in megapixel</th>\n",
       "      <th>image display resolution</th>\n",
       "      <th>weight</th>\n",
       "      <th>dimensions</th>\n",
       "    </tr>\n",
       "  </thead>\n",
       "  <tbody>\n",
       "    <tr>\n",
       "      <th>0</th>\n",
       "      <td>www.price-hunt.com//729</td>\n",
       "      <td>2.7</td>\n",
       "      <td>pentax</td>\n",
       "      <td>point shoot</td>\n",
       "      <td>14.0</td>\n",
       "      <td>230000d</td>\n",
       "      <td>167.0</td>\n",
       "      <td>) x 27.94 (d) mm, 114.3 (w) x 58.42 (h</td>\n",
       "    </tr>\n",
       "    <tr>\n",
       "      <th>1</th>\n",
       "      <td>www.price-hunt.com//9793</td>\n",
       "      <td>3.0</td>\n",
       "      <td>sony</td>\n",
       "      <td>dslr</td>\n",
       "      <td>24.3</td>\n",
       "      <td>921600d</td>\n",
       "      <td>350.0</td>\n",
       "      <td>119.9 (w) x 66.9 (h) x 42.6 (d) mm</td>\n",
       "    </tr>\n",
       "    <tr>\n",
       "      <th>2</th>\n",
       "      <td>www.price-hunt.com//9681</td>\n",
       "      <td>2.7</td>\n",
       "      <td>panasonic</td>\n",
       "      <td>camcorder</td>\n",
       "      <td>NaN</td>\n",
       "      <td>123200d</td>\n",
       "      <td>273.0</td>\n",
       "      <td>55.1 (w) x 64.0 (h) x 107.3 (d) mm</td>\n",
       "    </tr>\n",
       "    <tr>\n",
       "      <th>3</th>\n",
       "      <td>www.price-hunt.com//791</td>\n",
       "      <td>2.7</td>\n",
       "      <td>sony</td>\n",
       "      <td>camcorder</td>\n",
       "      <td>NaN</td>\n",
       "      <td>211200d</td>\n",
       "      <td>NaN</td>\n",
       "      <td>NaN</td>\n",
       "    </tr>\n",
       "    <tr>\n",
       "      <th>4</th>\n",
       "      <td>www.price-hunt.com//9814</td>\n",
       "      <td>3.0</td>\n",
       "      <td>panasonic</td>\n",
       "      <td>camcorder</td>\n",
       "      <td>14.3</td>\n",
       "      <td>230400d</td>\n",
       "      <td>180.0</td>\n",
       "      <td>86.2 (w) x 120.8 (h) x 38.1 (d) mm</td>\n",
       "    </tr>\n",
       "  </tbody>\n",
       "</table>\n",
       "</div>"
      ],
      "text/plain": [
       "                    spec_id  lcd screen size      brand         type  \\\n",
       "0   www.price-hunt.com//729              2.7     pentax  point shoot   \n",
       "1  www.price-hunt.com//9793              3.0       sony         dslr   \n",
       "2  www.price-hunt.com//9681              2.7  panasonic    camcorder   \n",
       "3   www.price-hunt.com//791              2.7       sony    camcorder   \n",
       "4  www.price-hunt.com//9814              3.0  panasonic    camcorder   \n",
       "\n",
       "   optical sensor resolution in megapixel image display resolution  weight  \\\n",
       "0                                    14.0                  230000d   167.0   \n",
       "1                                    24.3                  921600d   350.0   \n",
       "2                                     NaN                  123200d   273.0   \n",
       "3                                     NaN                  211200d     NaN   \n",
       "4                                    14.3                  230400d   180.0   \n",
       "\n",
       "                               dimensions  \n",
       "0  ) x 27.94 (d) mm, 114.3 (w) x 58.42 (h  \n",
       "1      119.9 (w) x 66.9 (h) x 42.6 (d) mm  \n",
       "2      55.1 (w) x 64.0 (h) x 107.3 (d) mm  \n",
       "3                                     NaN  \n",
       "4      86.2 (w) x 120.8 (h) x 38.1 (d) mm  "
      ]
     },
     "execution_count": 66,
     "metadata": {},
     "output_type": "execute_result"
    }
   ],
   "source": [
    "df.head()"
   ]
  },
  {
   "cell_type": "markdown",
   "metadata": {},
   "source": [
    "## Dimensions"
   ]
  },
  {
   "cell_type": "code",
   "execution_count": 67,
   "metadata": {},
   "outputs": [
    {
     "data": {
      "text/plain": [
       "128.6 (w) x 95.5 (h) x 77.7 (d) mm         4\n",
       "129.54 (w) x 96.52 (h) x 71.12 (d) mm      4\n",
       "5.10 (w) x 3.93 (h) x 3.07 (d) Inch        4\n",
       "53 (w) x 60 (h) x 114 (d) mm               3\n",
       "126.9 (w) x 94.4 (h) x 48.2 (d) mm         3\n",
       "53 (w) x 32 (h) x 111 (d)                  3\n",
       "128 (w) x 90.9 (h) x 84.5 (d) mm           2\n",
       "141 (w) x 113 (h) x 82 (d) mm              2\n",
       "24.5 (w) x 47 (h) x 82 (d) mm              2\n",
       "86.2 (w) x 120.8 (h) x 38.1 (d) mm         2\n",
       "95.4 (w) x 58.2 (h, ) x 21.0 (d) mm        2\n",
       "119.9 (w) x 66.9 (h) x 42.6 (d) mm         2\n",
       "53 (w) x 59 (h) x 116 (d) mm               2\n",
       "132.1 (w) x 97.5 (h) x 80.7 (d) mm         2\n",
       "130.4 (w) x 93.5 (h) x 63.1 (d) mm         2\n",
       "92.9 (w) x 52.4 (h) x 21.6 (d) mm          2\n",
       ") x 45.1 (d) mm, 120 (w) x 66.9 (h         2\n",
       "111.1 (w) x 76.3 (h) x 83.1 (d) mm         2\n",
       "142.6 (w) x 104.0 (h) x 80.9 (d) mm        2\n",
       "109.6 (w) x 62.8 (h) x 35.7 (d) mm         2\n",
       "65 (w) x 73 (h) x 139 (d) mm               2\n",
       "152 (w) x 116.4 (h) x 76.4 (d) mm          2\n",
       "95.3 (w) x 58.2 (h, ) x 21.4 (d) mm        1\n",
       ") x 38.3 (d) mm, 108.1 (w) x 63.6 (h       1\n",
       "122.7 (w) x 88.6 (h) x 122.6 (d) mm        1\n",
       ") x 20.2 (d) mm, 96.9 (w) x 58.0 (h        1\n",
       ") x 19.8 (d) mm, 85.8 (w) x 53.5 (h        1\n",
       ") x 39.4 (d) mm, 101.9 (w) x 64.8 (h       1\n",
       "58 (w) x 57 (h) x 117 (d) mm               1\n",
       "93 (w) x 60.2 (h, ) x 27.8 (d) mm          1\n",
       "                                          ..\n",
       ") x 83.3 (d) mm, 111.1 (w) x 76.3 (h       1\n",
       ") x 34.5 (d) mm, 109.6 (w) x 63.5 (h       1\n",
       ") x 19.8 (d) mm, 97.7 (w) x 56 (h          1\n",
       "97.7 (w) x 56.0 (h) x 20.9 (d) mm          1\n",
       ") x 18.2 (d) mm, 101.0 (w) x 58.9 (h       1\n",
       ") x 19.1 (d) mm, 91.0 (w) x 52.2 (h        1\n",
       "82.0 (w) x 51.9 (h, ) x 16.9 (d) mm        1\n",
       ") x 18.8 (d) mm, 94.0 (w) x 54.5 (h        1\n",
       ") x 21.6 (d) mm, 92.3 (w) x 52.4 (h        1\n",
       "101.6 (w) x 57.6 (h, ) x 28.6 (d) mm       1\n",
       ") x 23.3 (d) mm, 93.0 (w) x 60.0 (h        1\n",
       "120 (w) x 66.9 (h) x 45.1 (d) mm           1\n",
       ") x 20.9 (d) mm, 96.9 (w) x 58 (h          1\n",
       "93.2 (w) x 57.0 (h, ) x 20.0 (d) mm        1\n",
       ") x 86.45 (d) mm, 114.48 (w) x 79.26 (h    1\n",
       "85.8 (w) x 53.5 (h) x 19.8 (d) mm          1\n",
       "101.8 (w) x 56.8 (h, ) x 25.3 (d) mm       1\n",
       "107.9 (w) x 61.5 (h, ) x 33.0 (d) mm       1\n",
       "135.5 (w) x 106.5 (h) x 76 (d) mm          1\n",
       ") x 40.4 (d) mm, 107.6 (w) x 66.1 (h       1\n",
       "117.0 (w) x 69.6 (h) x 56.8 (d) mm         1\n",
       "99.0 (w) x 59.4 (h, ) x 19.0 (d) mm        1\n",
       ") x 19.9 (d) mm, 97.1 (w) x 57.9 (h        1\n",
       "93.98 (w) x 55.88 (h, ) x 22.86 (d) mm     1\n",
       "96 (w) x 54.9 (h, ) x 25.7 (d) mm          1\n",
       "95.2 (w) x 56.3 (h, ) x 19.4 (d) mm        1\n",
       "97.1 (w) x 56.9 (h) x 21.6 (d) mm          1\n",
       ") x 77.7 (d) mm, 128.6 (w) x 95.5 (h       1\n",
       "52.5 (w) x 57 (h) x 117 (d) mm             1\n",
       "87.1 (w) x 53.9 (h) x 19.2 (d) mm          1\n",
       "Name: dimensions, Length: 237, dtype: int64"
      ]
     },
     "execution_count": 67,
     "metadata": {},
     "output_type": "execute_result"
    }
   ],
   "source": [
    "df[\"dimensions\"].value_counts()"
   ]
  },
  {
   "cell_type": "code",
   "execution_count": 80,
   "metadata": {},
   "outputs": [
    {
     "name": "stdout",
     "output_type": "stream",
     "text": [
      "True\n"
     ]
    }
   ],
   "source": [
    "print(bool(re.match(r\"[0-9]+[.][0-9]+ \\(w\\) x [0-9]+[.][0-9]+ \\(h\\) x [0-9]+[.][0-9]+ \\(d\\) mm\", \"85.8 (w) x 53.5 (h) x 19.8 (d) mm\")))"
   ]
  },
  {
   "cell_type": "code",
   "execution_count": 83,
   "metadata": {},
   "outputs": [],
   "source": [
    "first_regex = r\"[0-9]+[.][0-9]+ \\(w\\) x [0-9]+[.][0-9]+ \\(h\\) x [0-9]+[.][0-9]+ \\(d\\) mm\" #69\n",
    "second_regex = r\"\\) x [0-9]+[.][0-9]+ \\(d\\) mm, [0-9]+[.][0-9]+ \\(w\\) x [0-9]+[.][0-9]+ \\(h\" #57"
   ]
  },
  {
   "cell_type": "code",
   "execution_count": 84,
   "metadata": {},
   "outputs": [
    {
     "data": {
      "text/plain": [
       "spec_id                                    0\n",
       "lcd screen size                           12\n",
       "brand                                      0\n",
       "type                                      26\n",
       "optical sensor resolution in megapixel    13\n",
       "image display resolution                  45\n",
       "weight                                    16\n",
       "dimensions                                59\n",
       "dtype: int64"
      ]
     },
     "execution_count": 84,
     "metadata": {},
     "output_type": "execute_result"
    }
   ],
   "source": [
    "df.isna().sum()"
   ]
  },
  {
   "cell_type": "code",
   "execution_count": 82,
   "metadata": {},
   "outputs": [
    {
     "data": {
      "text/plain": [
       "69"
      ]
     },
     "execution_count": 82,
     "metadata": {},
     "output_type": "execute_result"
    }
   ],
   "source": [
    "sum(df[\"dimensions\"].apply(lambda dim : bool(re.match(r\"[0-9]+[.][0-9]+ \\(w\\) x [0-9]+[.][0-9]+ \\(h\\) x [0-9]+[.][0-9]+ \\(d\\) mm\", str(dim)))))"
   ]
  },
  {
   "cell_type": "code",
   "execution_count": 99,
   "metadata": {},
   "outputs": [
    {
     "data": {
      "text/plain": [
       "57"
      ]
     },
     "execution_count": 99,
     "metadata": {},
     "output_type": "execute_result"
    }
   ],
   "source": [
    "sum(df[\"dimensions\"].apply(lambda dim : bool(re.match(r\"\\) x [0-9]+[.][0-9]+ \\(d\\) mm, [0-9]+[.][0-9]+ \\(w\\) x [0-9]+[.][0-9]+ \\(h\", str(dim)))))"
   ]
  },
  {
   "cell_type": "code",
   "execution_count": 314,
   "metadata": {},
   "outputs": [],
   "source": [
    "def mm_to_inches(value):\n",
    "    if pd.isna(value):\n",
    "        return value\n",
    "    else:\n",
    "        return round(float(value) / 25.4, 1)"
   ]
  },
  {
   "cell_type": "code",
   "execution_count": 325,
   "metadata": {},
   "outputs": [],
   "source": [
    "def clean_dimensions_regex(value):\n",
    "    first_regex = r\"([0-9]+[.]?[0-9]+?) \\(w\\) x ([0-9]+[.]?[0-9]+?) \\(h\\) x ([0-9]+[.]?[0-9]+?) \\(d\\) mm\" #69\n",
    "    second_regex = r\"\\) x ([0-9]+[.]?[0-9]+?) \\(d\\) mm, ([0-9]+[.]?[0-9]+?) \\(w\\) x ([0-9]+[.]?[0-9]+?) x?[ ]?\\(h\" #79\n",
    "    third_regex = r\"([0-9]+[.]?[0-9]+?) \\(w\\) x ([0-9]+[.]?[0-9]+?) \\(h, \\) x ([0-9]+[.]?[0-9]+?) \\(d\\) mm\" #56\n",
    "    fourth_regex = r\"([0-9]+[.]?[0-9]+?) \\(w\\) x?[ ]?([0-9]+[.]?[0-9]+?) \\(h,?[ ]?\\),? x?[ ]?([0-9]+[.]?[0-9]+?) [(]?(d|l)[)][ ]?m?m?\"#14\n",
    "    final_regex = r\"([0-9]+[.]?[0-9]+?) x ([0-9]+[.]?[0-9]+?) x ([0-9]+[.]?[0-9]+?) mm\"\n",
    "    if pd.isna(value):\n",
    "        return value\n",
    "    else:\n",
    "        if re.match(first_regex, value):\n",
    "            groups = re.match(first_regex, value)\n",
    "            dimension = str(mm_to_inches(groups.group(1))) + \"h\" + str(mm_to_inches(groups.group(2))) + \"w\" + str(mm_to_inches(groups.group(3))) + \"d\"\n",
    "            return dimension\n",
    "        elif re.match(second_regex, value):\n",
    "            groups = re.match(second_regex, value)\n",
    "            dimension = str(mm_to_inches(groups.group(3))) + \"h\" + str(mm_to_inches(groups.group(2))) + \"w\" + str(mm_to_inches(groups.group(1))) + \"d\"\n",
    "            return dimension\n",
    "        elif re.match(third_regex, value):\n",
    "            groups = re.match(third_regex, value)\n",
    "            dimension = str(mm_to_inches(groups.group(2))) + \"h\" + str(mm_to_inches(groups.group(1))) + \"w\" + str(mm_to_inches(groups.group(3))) + \"d\"\n",
    "            return dimension\n",
    "        elif re.match(fourth_regex, value):\n",
    "            groups = re.match(fourth_regex, value)\n",
    "            dimension = str(mm_to_inches(groups.group(2))) + \"h\" + str(mm_to_inches(groups.group(1))) + \"w\" + str(mm_to_inches(groups.group(3))) + \"d\"\n",
    "            return dimension\n",
    "        elif re.match(final_regex, value):\n",
    "            groups = re.match(final_regex, value)\n",
    "            dimension = str(mm_to_inches(groups.group(2))) + \"h\" + str(mm_to_inches(groups.group(1))) + \"w\" + str(mm_to_inches(groups.group(3))) + \"d\"\n",
    "            return dimension\n",
    "        else:\n",
    "            return value"
   ]
  },
  {
   "cell_type": "code",
   "execution_count": 328,
   "metadata": {},
   "outputs": [],
   "source": [
    "df[\"dimensions\"] = df[\"dimensions\"].apply(clean_dimensions_regex)"
   ]
  },
  {
   "cell_type": "code",
   "execution_count": null,
   "metadata": {},
   "outputs": [],
   "source": []
  }
 ],
 "metadata": {
  "kernelspec": {
   "display_name": "Python 3",
   "language": "python",
   "name": "python3"
  },
  "language_info": {
   "codemirror_mode": {
    "name": "ipython",
    "version": 3
   },
   "file_extension": ".py",
   "mimetype": "text/x-python",
   "name": "python",
   "nbconvert_exporter": "python",
   "pygments_lexer": "ipython3",
   "version": "3.7.3"
  }
 },
 "nbformat": 4,
 "nbformat_minor": 4
}
