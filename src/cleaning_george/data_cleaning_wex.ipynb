{
 "cells": [
  {
   "cell_type": "code",
   "execution_count": 1,
   "metadata": {},
   "outputs": [],
   "source": [
    "import os\n",
    "import numpy as np\n",
    "import json\n",
    "import pandas as pd\n",
    "import itertools\n",
    "from tqdm import tqdm\n",
    "import nltk\n",
    "from nltk.tokenize import word_tokenize\n",
    "import matplotlib.pyplot as plt"
   ]
  },
  {
   "cell_type": "code",
   "execution_count": 2,
   "metadata": {},
   "outputs": [],
   "source": [
    "def create_dataframe(dataset_path, source):\n",
    "    \"\"\"Function used to create a Pandas DataFrame containing specifications page titles\n",
    "\n",
    "    Reads products specifications from the file system (\"dataset_path\" variable in the main function) and creates a Pandas DataFrame where each row is a\n",
    "    specification. The columns are 'source' (e.g. www.sourceA.com), 'spec_number' (e.g. 1) and the 'page title'. Note that this script will consider only\n",
    "    the page title attribute for simplicity.\n",
    "\n",
    "    Args:\n",
    "        dataset_path (str): The path to the dataset\n",
    "\n",
    "    Returns:\n",
    "        df (pd.DataFrame): The Pandas DataFrame containing specifications and page titles\n",
    "    \"\"\"\n",
    "\n",
    "    print('>>> Creating dataframe...\\n')\n",
    "    columns_df = ['source', 'spec_number', 'spec_id', 'page_title']\n",
    "    \n",
    "    df = pd.DataFrame()\n",
    "    progressive_id = 0\n",
    "    progressive_id2row_df = {}\n",
    "    #for source in tqdm(os.listdir(dataset_path)):\n",
    "    #source = \"buy.net\"\n",
    "    for specification in os.listdir(os.path.join(dataset_path, source)):\n",
    "        specification_number = specification.replace('.json', '')\n",
    "        specification_id = '{}//{}'.format(source, specification_number)\n",
    "        with open(os.path.join(dataset_path, source, specification)) as specification_file:\n",
    "            columns_df = ['source', 'spec_number', 'spec_id']\n",
    "            specification_data = json.load(specification_file)\n",
    "            attrs = []\n",
    "            for k, v in specification_data.items():\n",
    "                columns_df.append(k)\n",
    "                attrs.append(v)\n",
    "            row = [source, specification_number, specification_id]\n",
    "            row.extend(attrs)\n",
    "            progressive_id2row_df.update({progressive_id: row})\n",
    "            progressive_id += 1\n",
    "            df = df.append(pd.DataFrame.from_dict(progressive_id2row_df, orient='index', columns=columns_df))\n",
    "            progressive_id2row_df = {}\n",
    "    #print(df)\n",
    "    print('>>> Dataframe created successfully!\\n')\n",
    "    return df"
   ]
  },
  {
   "cell_type": "code",
   "execution_count": 3,
   "metadata": {},
   "outputs": [
    {
     "name": "stdout",
     "output_type": "stream",
     "text": [
      ">>> Creating dataframe...\n",
      "\n"
     ]
    },
    {
     "name": "stderr",
     "output_type": "stream",
     "text": [
      "/Users/gfotiadis/anaconda3/lib/python3.7/site-packages/pandas/core/frame.py:6692: FutureWarning: Sorting because non-concatenation axis is not aligned. A future version\n",
      "of pandas will change to not sort by default.\n",
      "\n",
      "To accept the future behavior, pass 'sort=False'.\n",
      "\n",
      "To retain the current behavior and silence the warning, pass 'sort=True'.\n",
      "\n",
      "  sort=sort)\n"
     ]
    },
    {
     "name": "stdout",
     "output_type": "stream",
     "text": [
      ">>> Dataframe created successfully!\n",
      "\n"
     ]
    }
   ],
   "source": [
    "df = create_dataframe('../../datasets/unlabeled/2013_camera_specs', \"www.wexphotographic.com\")"
   ]
  },
  {
   "cell_type": "code",
   "execution_count": 4,
   "metadata": {},
   "outputs": [
    {
     "data": {
      "text/html": [
       "<div>\n",
       "<style scoped>\n",
       "    .dataframe tbody tr th:only-of-type {\n",
       "        vertical-align: middle;\n",
       "    }\n",
       "\n",
       "    .dataframe tbody tr th {\n",
       "        vertical-align: top;\n",
       "    }\n",
       "\n",
       "    .dataframe thead th {\n",
       "        text-align: right;\n",
       "    }\n",
       "</style>\n",
       "<table border=\"1\" class=\"dataframe\">\n",
       "  <thead>\n",
       "    <tr style=\"text-align: right;\">\n",
       "      <th></th>\n",
       "      <th>&lt;page title&gt;</th>\n",
       "      <th>an</th>\n",
       "      <th>battery model</th>\n",
       "      <th>cant find a</th>\n",
       "      <th>card format</th>\n",
       "      <th>colour</th>\n",
       "      <th>connectivity</th>\n",
       "      <th>exposure control</th>\n",
       "      <th>exposure modes</th>\n",
       "      <th>face detection technology</th>\n",
       "      <th>...</th>\n",
       "      <th>shutter speed max</th>\n",
       "      <th>shutter speed min</th>\n",
       "      <th>size</th>\n",
       "      <th>source</th>\n",
       "      <th>spec_id</th>\n",
       "      <th>spec_number</th>\n",
       "      <th>the description needs</th>\n",
       "      <th>the information is</th>\n",
       "      <th>viewfinder type</th>\n",
       "      <th>weight g</th>\n",
       "    </tr>\n",
       "  </thead>\n",
       "  <tbody>\n",
       "    <tr>\n",
       "      <th>0</th>\n",
       "      <td>Nikon Coolpix AW120 Digital Camera - Camouflag...</td>\n",
       "      <td>image is incorrect</td>\n",
       "      <td>EN-EL12</td>\n",
       "      <td>related accessory</td>\n",
       "      <td>SD, SDHC, SDXC</td>\n",
       "      <td>Camouflage</td>\n",
       "      <td>Hi-Speed USB 2.0, HDMI, WiFi</td>\n",
       "      <td>NaN</td>\n",
       "      <td>Scene Modes</td>\n",
       "      <td>NaN</td>\n",
       "      <td>...</td>\n",
       "      <td>1/1500 sec</td>\n",
       "      <td>4 sec</td>\n",
       "      <td>110.0 x 66.0 x 25.8 mm</td>\n",
       "      <td>www.wexphotographic.com</td>\n",
       "      <td>www.wexphotographic.com//154</td>\n",
       "      <td>154</td>\n",
       "      <td>further detail</td>\n",
       "      <td>incorrect</td>\n",
       "      <td>3 Inch OLED Monitor</td>\n",
       "      <td>213</td>\n",
       "    </tr>\n",
       "    <tr>\n",
       "      <th>1</th>\n",
       "      <td>Canon IXUS 150 Digital Camera - Red (9148B007A...</td>\n",
       "      <td>image is incorrect</td>\n",
       "      <td>NB-11L</td>\n",
       "      <td>related accessory</td>\n",
       "      <td>SD, SDHC, SDXC</td>\n",
       "      <td>Red</td>\n",
       "      <td>Hi-Speed USB (USB2.0)</td>\n",
       "      <td>Â±2.0EV 1/3EV step</td>\n",
       "      <td>13 Scene Modes</td>\n",
       "      <td>Yes</td>\n",
       "      <td>...</td>\n",
       "      <td>1/2000 sec</td>\n",
       "      <td>15 sec</td>\n",
       "      <td>95 x 54 x 22 mm</td>\n",
       "      <td>www.wexphotographic.com</td>\n",
       "      <td>www.wexphotographic.com//553</td>\n",
       "      <td>553</td>\n",
       "      <td>further detail</td>\n",
       "      <td>incorrect</td>\n",
       "      <td>2.7 Inch TFT</td>\n",
       "      <td>130</td>\n",
       "    </tr>\n",
       "    <tr>\n",
       "      <th>2</th>\n",
       "      <td>Fuji FinePix S1 Digital Camera (P10NC12730A) -...</td>\n",
       "      <td>image is incorrect</td>\n",
       "      <td>NP-85</td>\n",
       "      <td>related accessory</td>\n",
       "      <td>SD, SDHC, SDXC</td>\n",
       "      <td>Black</td>\n",
       "      <td>Hi-Speed USB (USB2.0), HDMI Mini Connector</td>\n",
       "      <td>Â±2.0EV 1/3EV step</td>\n",
       "      <td>Programmed AE, Shutter Priority AE, Aperture P...</td>\n",
       "      <td>Yes</td>\n",
       "      <td>...</td>\n",
       "      <td>1/2000 sec</td>\n",
       "      <td>30 sec</td>\n",
       "      <td>133 x 90.9 x 110.3 mm</td>\n",
       "      <td>www.wexphotographic.com</td>\n",
       "      <td>www.wexphotographic.com//601</td>\n",
       "      <td>601</td>\n",
       "      <td>further detail</td>\n",
       "      <td>incorrect</td>\n",
       "      <td>0.2 Inch Electronic Viewfinder</td>\n",
       "      <td>680</td>\n",
       "    </tr>\n",
       "    <tr>\n",
       "      <th>3</th>\n",
       "      <td>Nikon Coolpix S5300 Digital Camera - Black (VN...</td>\n",
       "      <td>image is incorrect</td>\n",
       "      <td>EN-EL19</td>\n",
       "      <td>related accessory</td>\n",
       "      <td>25MB Internal, SD, SDHC, SDXC</td>\n",
       "      <td>Black</td>\n",
       "      <td>Hi-Speed USB (USB2.0), HDMI</td>\n",
       "      <td>Â±2.0EV 1/3EV step</td>\n",
       "      <td>18 Scene Modes</td>\n",
       "      <td>Yes</td>\n",
       "      <td>...</td>\n",
       "      <td>1/1500 sec</td>\n",
       "      <td>4 sec</td>\n",
       "      <td>97 x 58 x 21 mm</td>\n",
       "      <td>www.wexphotographic.com</td>\n",
       "      <td>www.wexphotographic.com//197</td>\n",
       "      <td>197</td>\n",
       "      <td>further detail</td>\n",
       "      <td>incorrect</td>\n",
       "      <td>3 Inch LCD</td>\n",
       "      <td>138</td>\n",
       "    </tr>\n",
       "    <tr>\n",
       "      <th>4</th>\n",
       "      <td>Fuji FinePix S8600 Digital Camera - Red (P10NC...</td>\n",
       "      <td>image is incorrect</td>\n",
       "      <td>3 x AA type alkaline batteries or 3 x AA type ...</td>\n",
       "      <td>related accessory</td>\n",
       "      <td>SD, SDHC, SDXC</td>\n",
       "      <td>Red</td>\n",
       "      <td>Hi-Speed USB (USB2.0)</td>\n",
       "      <td>Â±2.0EV 1/3EV step</td>\n",
       "      <td>Programmed AE, Shutter Priority AE, Manual exp...</td>\n",
       "      <td>Yes</td>\n",
       "      <td>...</td>\n",
       "      <td>1/2000 sec</td>\n",
       "      <td>NaN</td>\n",
       "      <td>121 x 81 x 65 mm</td>\n",
       "      <td>www.wexphotographic.com</td>\n",
       "      <td>www.wexphotographic.com//178</td>\n",
       "      <td>178</td>\n",
       "      <td>further detail</td>\n",
       "      <td>incorrect</td>\n",
       "      <td>NaN</td>\n",
       "      <td>450</td>\n",
       "    </tr>\n",
       "  </tbody>\n",
       "</table>\n",
       "<p>5 rows × 45 columns</p>\n",
       "</div>"
      ],
      "text/plain": [
       "                                        <page title>                  an  \\\n",
       "0  Nikon Coolpix AW120 Digital Camera - Camouflag...  image is incorrect   \n",
       "1  Canon IXUS 150 Digital Camera - Red (9148B007A...  image is incorrect   \n",
       "2  Fuji FinePix S1 Digital Camera (P10NC12730A) -...  image is incorrect   \n",
       "3  Nikon Coolpix S5300 Digital Camera - Black (VN...  image is incorrect   \n",
       "4  Fuji FinePix S8600 Digital Camera - Red (P10NC...  image is incorrect   \n",
       "\n",
       "                                       battery model        cant find a  \\\n",
       "0                                            EN-EL12  related accessory   \n",
       "1                                             NB-11L  related accessory   \n",
       "2                                              NP-85  related accessory   \n",
       "3                                            EN-EL19  related accessory   \n",
       "4  3 x AA type alkaline batteries or 3 x AA type ...  related accessory   \n",
       "\n",
       "                     card format      colour  \\\n",
       "0                 SD, SDHC, SDXC  Camouflage   \n",
       "1                 SD, SDHC, SDXC         Red   \n",
       "2                 SD, SDHC, SDXC       Black   \n",
       "3  25MB Internal, SD, SDHC, SDXC       Black   \n",
       "4                 SD, SDHC, SDXC         Red   \n",
       "\n",
       "                                 connectivity    exposure control  \\\n",
       "0                Hi-Speed USB 2.0, HDMI, WiFi                 NaN   \n",
       "1                       Hi-Speed USB (USB2.0)  Â±2.0EV 1/3EV step   \n",
       "2  Hi-Speed USB (USB2.0), HDMI Mini Connector  Â±2.0EV 1/3EV step   \n",
       "3                 Hi-Speed USB (USB2.0), HDMI  Â±2.0EV 1/3EV step   \n",
       "4                       Hi-Speed USB (USB2.0)  Â±2.0EV 1/3EV step   \n",
       "\n",
       "                                      exposure modes  \\\n",
       "0                                        Scene Modes   \n",
       "1                                     13 Scene Modes   \n",
       "2  Programmed AE, Shutter Priority AE, Aperture P...   \n",
       "3                                     18 Scene Modes   \n",
       "4  Programmed AE, Shutter Priority AE, Manual exp...   \n",
       "\n",
       "  face detection technology  ... shutter speed max shutter speed min  \\\n",
       "0                       NaN  ...        1/1500 sec             4 sec   \n",
       "1                       Yes  ...        1/2000 sec            15 sec   \n",
       "2                       Yes  ...        1/2000 sec            30 sec   \n",
       "3                       Yes  ...        1/1500 sec             4 sec   \n",
       "4                       Yes  ...        1/2000 sec               NaN   \n",
       "\n",
       "                     size                   source  \\\n",
       "0  110.0 x 66.0 x 25.8 mm  www.wexphotographic.com   \n",
       "1         95 x 54 x 22 mm  www.wexphotographic.com   \n",
       "2   133 x 90.9 x 110.3 mm  www.wexphotographic.com   \n",
       "3         97 x 58 x 21 mm  www.wexphotographic.com   \n",
       "4        121 x 81 x 65 mm  www.wexphotographic.com   \n",
       "\n",
       "                        spec_id spec_number the description needs  \\\n",
       "0  www.wexphotographic.com//154         154        further detail   \n",
       "1  www.wexphotographic.com//553         553        further detail   \n",
       "2  www.wexphotographic.com//601         601        further detail   \n",
       "3  www.wexphotographic.com//197         197        further detail   \n",
       "4  www.wexphotographic.com//178         178        further detail   \n",
       "\n",
       "  the information is                 viewfinder type weight g  \n",
       "0          incorrect             3 Inch OLED Monitor      213  \n",
       "1          incorrect                    2.7 Inch TFT      130  \n",
       "2          incorrect  0.2 Inch Electronic Viewfinder      680  \n",
       "3          incorrect                      3 Inch LCD      138  \n",
       "4          incorrect                             NaN      450  \n",
       "\n",
       "[5 rows x 45 columns]"
      ]
     },
     "execution_count": 4,
     "metadata": {},
     "output_type": "execute_result"
    }
   ],
   "source": [
    "df.head()"
   ]
  },
  {
   "cell_type": "code",
   "execution_count": 5,
   "metadata": {},
   "outputs": [],
   "source": [
    "cols = [\"spec_id\", \"screen size inches\", \"megapixels\"]"
   ]
  },
  {
   "cell_type": "code",
   "execution_count": 6,
   "metadata": {},
   "outputs": [],
   "source": [
    "df = df[cols]"
   ]
  },
  {
   "cell_type": "code",
   "execution_count": 7,
   "metadata": {},
   "outputs": [
    {
     "data": {
      "text/html": [
       "<div>\n",
       "<style scoped>\n",
       "    .dataframe tbody tr th:only-of-type {\n",
       "        vertical-align: middle;\n",
       "    }\n",
       "\n",
       "    .dataframe tbody tr th {\n",
       "        vertical-align: top;\n",
       "    }\n",
       "\n",
       "    .dataframe thead th {\n",
       "        text-align: right;\n",
       "    }\n",
       "</style>\n",
       "<table border=\"1\" class=\"dataframe\">\n",
       "  <thead>\n",
       "    <tr style=\"text-align: right;\">\n",
       "      <th></th>\n",
       "      <th>spec_id</th>\n",
       "      <th>screen size inches</th>\n",
       "      <th>megapixels</th>\n",
       "    </tr>\n",
       "  </thead>\n",
       "  <tbody>\n",
       "    <tr>\n",
       "      <th>0</th>\n",
       "      <td>www.wexphotographic.com//154</td>\n",
       "      <td>3</td>\n",
       "      <td>16</td>\n",
       "    </tr>\n",
       "    <tr>\n",
       "      <th>1</th>\n",
       "      <td>www.wexphotographic.com//553</td>\n",
       "      <td>2.7</td>\n",
       "      <td>16</td>\n",
       "    </tr>\n",
       "    <tr>\n",
       "      <th>2</th>\n",
       "      <td>www.wexphotographic.com//601</td>\n",
       "      <td>3</td>\n",
       "      <td>16.4</td>\n",
       "    </tr>\n",
       "    <tr>\n",
       "      <th>3</th>\n",
       "      <td>www.wexphotographic.com//197</td>\n",
       "      <td>3</td>\n",
       "      <td>16</td>\n",
       "    </tr>\n",
       "    <tr>\n",
       "      <th>4</th>\n",
       "      <td>www.wexphotographic.com//178</td>\n",
       "      <td>3.0</td>\n",
       "      <td>16</td>\n",
       "    </tr>\n",
       "  </tbody>\n",
       "</table>\n",
       "</div>"
      ],
      "text/plain": [
       "                        spec_id screen size inches megapixels\n",
       "0  www.wexphotographic.com//154                  3         16\n",
       "1  www.wexphotographic.com//553                2.7         16\n",
       "2  www.wexphotographic.com//601                  3       16.4\n",
       "3  www.wexphotographic.com//197                  3         16\n",
       "4  www.wexphotographic.com//178                3.0         16"
      ]
     },
     "execution_count": 7,
     "metadata": {},
     "output_type": "execute_result"
    }
   ],
   "source": [
    "df.head()"
   ]
  },
  {
   "cell_type": "markdown",
   "metadata": {},
   "source": [
    "### Screen size"
   ]
  },
  {
   "cell_type": "code",
   "execution_count": 8,
   "metadata": {},
   "outputs": [],
   "source": [
    "def clean_size(value):\n",
    "    if pd.isna(value):\n",
    "        return value\n",
    "    else:\n",
    "        return word_tokenize(value)[1]"
   ]
  },
  {
   "cell_type": "code",
   "execution_count": 9,
   "metadata": {},
   "outputs": [
    {
     "data": {
      "text/plain": [
       "3.0    72\n",
       "3      43\n",
       "2.7    22\n",
       "0       4\n",
       "2.8     3\n",
       "4.8     2\n",
       "2.5     1\n",
       "Name: screen size inches, dtype: int64"
      ]
     },
     "execution_count": 9,
     "metadata": {},
     "output_type": "execute_result"
    }
   ],
   "source": [
    "df[\"screen size inches\"].value_counts()"
   ]
  },
  {
   "cell_type": "code",
   "execution_count": 10,
   "metadata": {},
   "outputs": [],
   "source": [
    "df[\"screen size inches\"] = df[\"screen size inches\"].apply(lambda value : float(value))"
   ]
  },
  {
   "cell_type": "code",
   "execution_count": 11,
   "metadata": {},
   "outputs": [
    {
     "data": {
      "text/html": [
       "<div>\n",
       "<style scoped>\n",
       "    .dataframe tbody tr th:only-of-type {\n",
       "        vertical-align: middle;\n",
       "    }\n",
       "\n",
       "    .dataframe tbody tr th {\n",
       "        vertical-align: top;\n",
       "    }\n",
       "\n",
       "    .dataframe thead th {\n",
       "        text-align: right;\n",
       "    }\n",
       "</style>\n",
       "<table border=\"1\" class=\"dataframe\">\n",
       "  <thead>\n",
       "    <tr style=\"text-align: right;\">\n",
       "      <th></th>\n",
       "      <th>spec_id</th>\n",
       "      <th>screen size inches</th>\n",
       "      <th>megapixels</th>\n",
       "    </tr>\n",
       "  </thead>\n",
       "  <tbody>\n",
       "    <tr>\n",
       "      <th>0</th>\n",
       "      <td>www.wexphotographic.com//154</td>\n",
       "      <td>3.0</td>\n",
       "      <td>16</td>\n",
       "    </tr>\n",
       "    <tr>\n",
       "      <th>1</th>\n",
       "      <td>www.wexphotographic.com//553</td>\n",
       "      <td>2.7</td>\n",
       "      <td>16</td>\n",
       "    </tr>\n",
       "    <tr>\n",
       "      <th>2</th>\n",
       "      <td>www.wexphotographic.com//601</td>\n",
       "      <td>3.0</td>\n",
       "      <td>16.4</td>\n",
       "    </tr>\n",
       "    <tr>\n",
       "      <th>3</th>\n",
       "      <td>www.wexphotographic.com//197</td>\n",
       "      <td>3.0</td>\n",
       "      <td>16</td>\n",
       "    </tr>\n",
       "    <tr>\n",
       "      <th>4</th>\n",
       "      <td>www.wexphotographic.com//178</td>\n",
       "      <td>3.0</td>\n",
       "      <td>16</td>\n",
       "    </tr>\n",
       "  </tbody>\n",
       "</table>\n",
       "</div>"
      ],
      "text/plain": [
       "                        spec_id  screen size inches megapixels\n",
       "0  www.wexphotographic.com//154                 3.0         16\n",
       "1  www.wexphotographic.com//553                 2.7         16\n",
       "2  www.wexphotographic.com//601                 3.0       16.4\n",
       "3  www.wexphotographic.com//197                 3.0         16\n",
       "4  www.wexphotographic.com//178                 3.0         16"
      ]
     },
     "execution_count": 11,
     "metadata": {},
     "output_type": "execute_result"
    }
   ],
   "source": [
    "df.head()"
   ]
  },
  {
   "cell_type": "markdown",
   "metadata": {},
   "source": [
    "## Megapixels"
   ]
  },
  {
   "cell_type": "code",
   "execution_count": 12,
   "metadata": {
    "collapsed": true,
    "jupyter": {
     "outputs_hidden": true
    }
   },
   "outputs": [
    {
     "data": {
      "text/plain": [
       "16      30\n",
       "16.0    18\n",
       "20.1    14\n",
       "16.2    12\n",
       "16.3     9\n",
       "16.1     8\n",
       "12.1     7\n",
       "20.2     6\n",
       "12.8     5\n",
       "20.4     4\n",
       "12.0     4\n",
       "13.2     3\n",
       "12.2     3\n",
       "18.2     3\n",
       "16.4     3\n",
       "14.0     3\n",
       "24.3     2\n",
       "46.0     2\n",
       "10.1     2\n",
       "18.0     2\n",
       "29       1\n",
       "0        1\n",
       "15.4     1\n",
       "20.0     1\n",
       "18.1     1\n",
       "10.0     1\n",
       "16.8     1\n",
       "Name: megapixels, dtype: int64"
      ]
     },
     "execution_count": 12,
     "metadata": {},
     "output_type": "execute_result"
    }
   ],
   "source": [
    "df[\"megapixels\"].value_counts()"
   ]
  },
  {
   "cell_type": "code",
   "execution_count": 13,
   "metadata": {},
   "outputs": [],
   "source": [
    "df[\"megapixels\"] = df[\"megapixels\"].apply(lambda value : float(value))"
   ]
  },
  {
   "cell_type": "code",
   "execution_count": 14,
   "metadata": {
    "collapsed": true,
    "jupyter": {
     "outputs_hidden": true
    }
   },
   "outputs": [
    {
     "data": {
      "text/plain": [
       "16.0    48\n",
       "20.1    14\n",
       "16.2    12\n",
       "16.3     9\n",
       "16.1     8\n",
       "12.1     7\n",
       "20.2     6\n",
       "12.8     5\n",
       "12.0     4\n",
       "20.4     4\n",
       "12.2     3\n",
       "13.2     3\n",
       "18.2     3\n",
       "16.4     3\n",
       "14.0     3\n",
       "24.3     2\n",
       "46.0     2\n",
       "18.0     2\n",
       "10.1     2\n",
       "18.1     1\n",
       "15.4     1\n",
       "10.0     1\n",
       "20.0     1\n",
       "29.0     1\n",
       "0.0      1\n",
       "16.8     1\n",
       "Name: megapixels, dtype: int64"
      ]
     },
     "execution_count": 14,
     "metadata": {},
     "output_type": "execute_result"
    }
   ],
   "source": [
    "df[\"megapixels\"].value_counts()"
   ]
  },
  {
   "cell_type": "code",
   "execution_count": 15,
   "metadata": {},
   "outputs": [
    {
     "data": {
      "text/html": [
       "<div>\n",
       "<style scoped>\n",
       "    .dataframe tbody tr th:only-of-type {\n",
       "        vertical-align: middle;\n",
       "    }\n",
       "\n",
       "    .dataframe tbody tr th {\n",
       "        vertical-align: top;\n",
       "    }\n",
       "\n",
       "    .dataframe thead th {\n",
       "        text-align: right;\n",
       "    }\n",
       "</style>\n",
       "<table border=\"1\" class=\"dataframe\">\n",
       "  <thead>\n",
       "    <tr style=\"text-align: right;\">\n",
       "      <th></th>\n",
       "      <th>spec_id</th>\n",
       "      <th>screen size inches</th>\n",
       "      <th>megapixels</th>\n",
       "    </tr>\n",
       "  </thead>\n",
       "  <tbody>\n",
       "    <tr>\n",
       "      <th>0</th>\n",
       "      <td>www.wexphotographic.com//154</td>\n",
       "      <td>3.0</td>\n",
       "      <td>16.0</td>\n",
       "    </tr>\n",
       "    <tr>\n",
       "      <th>1</th>\n",
       "      <td>www.wexphotographic.com//553</td>\n",
       "      <td>2.7</td>\n",
       "      <td>16.0</td>\n",
       "    </tr>\n",
       "    <tr>\n",
       "      <th>2</th>\n",
       "      <td>www.wexphotographic.com//601</td>\n",
       "      <td>3.0</td>\n",
       "      <td>16.4</td>\n",
       "    </tr>\n",
       "    <tr>\n",
       "      <th>3</th>\n",
       "      <td>www.wexphotographic.com//197</td>\n",
       "      <td>3.0</td>\n",
       "      <td>16.0</td>\n",
       "    </tr>\n",
       "    <tr>\n",
       "      <th>4</th>\n",
       "      <td>www.wexphotographic.com//178</td>\n",
       "      <td>3.0</td>\n",
       "      <td>16.0</td>\n",
       "    </tr>\n",
       "  </tbody>\n",
       "</table>\n",
       "</div>"
      ],
      "text/plain": [
       "                        spec_id  screen size inches  megapixels\n",
       "0  www.wexphotographic.com//154                 3.0        16.0\n",
       "1  www.wexphotographic.com//553                 2.7        16.0\n",
       "2  www.wexphotographic.com//601                 3.0        16.4\n",
       "3  www.wexphotographic.com//197                 3.0        16.0\n",
       "4  www.wexphotographic.com//178                 3.0        16.0"
      ]
     },
     "execution_count": 15,
     "metadata": {},
     "output_type": "execute_result"
    }
   ],
   "source": [
    "df.head()"
   ]
  },
  {
   "cell_type": "markdown",
   "metadata": {},
   "source": [
    "## Saving"
   ]
  },
  {
   "cell_type": "code",
   "execution_count": 17,
   "metadata": {},
   "outputs": [],
   "source": [
    "df.to_csv(\"../../datasets/unlabeled/cleaned/wexphotographic.csv\", index=False)"
   ]
  },
  {
   "cell_type": "code",
   "execution_count": null,
   "metadata": {},
   "outputs": [],
   "source": []
  }
 ],
 "metadata": {
  "kernelspec": {
   "display_name": "Python 3",
   "language": "python",
   "name": "python3"
  },
  "language_info": {
   "codemirror_mode": {
    "name": "ipython",
    "version": 3
   },
   "file_extension": ".py",
   "mimetype": "text/x-python",
   "name": "python",
   "nbconvert_exporter": "python",
   "pygments_lexer": "ipython3",
   "version": "3.7.3"
  }
 },
 "nbformat": 4,
 "nbformat_minor": 4
}
