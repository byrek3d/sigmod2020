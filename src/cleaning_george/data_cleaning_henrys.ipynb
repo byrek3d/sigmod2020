{
 "cells": [
  {
   "cell_type": "code",
   "execution_count": 1,
   "metadata": {},
   "outputs": [],
   "source": [
    "import os\n",
    "import numpy as np\n",
    "import json\n",
    "import pandas as pd\n",
    "import itertools\n",
    "from tqdm import tqdm\n",
    "import nltk\n",
    "from nltk.tokenize import word_tokenize\n",
    "import re\n",
    "import matplotlib.pyplot as plt"
   ]
  },
  {
   "cell_type": "code",
   "execution_count": 2,
   "metadata": {},
   "outputs": [],
   "source": [
    "def create_dataframe(dataset_path, source, columns_df):\n",
    "    \"\"\"Function used to create a Pandas DataFrame containing specifications page titles\n",
    "\n",
    "    Reads products specifications from the file system (\"dataset_path\" variable in the main function) and creates a Pandas DataFrame where each row is a\n",
    "    specification. The columns are 'source' (e.g. www.sourceA.com), 'spec_number' (e.g. 1) and the 'page title'. Note that this script will consider only\n",
    "    the page title attribute for simplicity.\n",
    "\n",
    "    Args:\n",
    "        dataset_path (str): The path to the dataset\n",
    "\n",
    "    Returns:\n",
    "        df (pd.DataFrame): The Pandas DataFrame containing specifications and page titles\n",
    "    \"\"\"\n",
    "\n",
    "    print('>>> Creating dataframe...\\n')\n",
    "\n",
    "    progressive_id = 0\n",
    "    progressive_id2row_df = {}\n",
    "    for specification in os.listdir(os.path.join(dataset_path, source)):\n",
    "        specification_number = specification.replace('.json', '')\n",
    "        specification_id = '{}//{}'.format(source, specification_number)\n",
    "        with open(os.path.join(dataset_path, source, specification)) as specification_file:\n",
    "            specification_data = json.load(specification_file)\n",
    "        \n",
    "            type_c = specification_data.get(\"camera type\")\n",
    "            megapixels = specification_data.get(\"effective pixels\")\n",
    "            row = (specification_id, type_c, megapixels)\n",
    "            progressive_id2row_df.update({progressive_id: row})\n",
    "            progressive_id += 1\n",
    "    df = pd.DataFrame.from_dict(progressive_id2row_df, orient='index', columns=columns_df)\n",
    "    print('>>> Dataframe created successfully!\\n')\n",
    "    return df"
   ]
  },
  {
   "cell_type": "code",
   "execution_count": 3,
   "metadata": {},
   "outputs": [
    {
     "name": "stdout",
     "output_type": "stream",
     "text": [
      ">>> Creating dataframe...\n",
      "\n",
      ">>> Dataframe created successfully!\n",
      "\n"
     ]
    }
   ],
   "source": [
    "df = create_dataframe('../../datasets/unlabeled/2013_camera_specs', \"www.henrys.com\", [\"spec_id\", \"camera type\", \"effective pixels\"])"
   ]
  },
  {
   "cell_type": "code",
   "execution_count": 4,
   "metadata": {},
   "outputs": [
    {
     "data": {
      "text/html": [
       "<div>\n",
       "<style scoped>\n",
       "    .dataframe tbody tr th:only-of-type {\n",
       "        vertical-align: middle;\n",
       "    }\n",
       "\n",
       "    .dataframe tbody tr th {\n",
       "        vertical-align: top;\n",
       "    }\n",
       "\n",
       "    .dataframe thead th {\n",
       "        text-align: right;\n",
       "    }\n",
       "</style>\n",
       "<table border=\"1\" class=\"dataframe\">\n",
       "  <thead>\n",
       "    <tr style=\"text-align: right;\">\n",
       "      <th></th>\n",
       "      <th>spec_id</th>\n",
       "      <th>camera type</th>\n",
       "      <th>effective pixels</th>\n",
       "    </tr>\n",
       "  </thead>\n",
       "  <tbody>\n",
       "    <tr>\n",
       "      <th>0</th>\n",
       "      <td>www.henrys.com//115</td>\n",
       "      <td>Wi-Fi</td>\n",
       "      <td>12.1MP</td>\n",
       "    </tr>\n",
       "    <tr>\n",
       "      <th>1</th>\n",
       "      <td>www.henrys.com//142</td>\n",
       "      <td>Small &amp; Easy</td>\n",
       "      <td>20.1MP</td>\n",
       "    </tr>\n",
       "    <tr>\n",
       "      <th>2</th>\n",
       "      <td>www.henrys.com//154</td>\n",
       "      <td>Super Zoom</td>\n",
       "      <td>16.1MP</td>\n",
       "    </tr>\n",
       "    <tr>\n",
       "      <th>3</th>\n",
       "      <td>www.henrys.com//197</td>\n",
       "      <td>Small &amp; Easy</td>\n",
       "      <td>16.1MP</td>\n",
       "    </tr>\n",
       "    <tr>\n",
       "      <th>4</th>\n",
       "      <td>www.henrys.com//20</td>\n",
       "      <td>Small &amp; Easy</td>\n",
       "      <td>14.0MP</td>\n",
       "    </tr>\n",
       "  </tbody>\n",
       "</table>\n",
       "</div>"
      ],
      "text/plain": [
       "               spec_id   camera type effective pixels\n",
       "0  www.henrys.com//115         Wi-Fi           12.1MP\n",
       "1  www.henrys.com//142  Small & Easy           20.1MP\n",
       "2  www.henrys.com//154    Super Zoom           16.1MP\n",
       "3  www.henrys.com//197  Small & Easy           16.1MP\n",
       "4   www.henrys.com//20  Small & Easy           14.0MP"
      ]
     },
     "execution_count": 4,
     "metadata": {},
     "output_type": "execute_result"
    }
   ],
   "source": [
    "df.head()"
   ]
  },
  {
   "cell_type": "code",
   "execution_count": 5,
   "metadata": {},
   "outputs": [],
   "source": [
    "cols = [\"spec_id\", \"camera type\", \"effective pixels\"]"
   ]
  },
  {
   "cell_type": "code",
   "execution_count": 6,
   "metadata": {},
   "outputs": [],
   "source": [
    "df = df[cols]"
   ]
  },
  {
   "cell_type": "code",
   "execution_count": 7,
   "metadata": {},
   "outputs": [
    {
     "data": {
      "text/html": [
       "<div>\n",
       "<style scoped>\n",
       "    .dataframe tbody tr th:only-of-type {\n",
       "        vertical-align: middle;\n",
       "    }\n",
       "\n",
       "    .dataframe tbody tr th {\n",
       "        vertical-align: top;\n",
       "    }\n",
       "\n",
       "    .dataframe thead th {\n",
       "        text-align: right;\n",
       "    }\n",
       "</style>\n",
       "<table border=\"1\" class=\"dataframe\">\n",
       "  <thead>\n",
       "    <tr style=\"text-align: right;\">\n",
       "      <th></th>\n",
       "      <th>spec_id</th>\n",
       "      <th>camera type</th>\n",
       "      <th>effective pixels</th>\n",
       "    </tr>\n",
       "  </thead>\n",
       "  <tbody>\n",
       "    <tr>\n",
       "      <th>0</th>\n",
       "      <td>www.henrys.com//115</td>\n",
       "      <td>Wi-Fi</td>\n",
       "      <td>12.1MP</td>\n",
       "    </tr>\n",
       "    <tr>\n",
       "      <th>1</th>\n",
       "      <td>www.henrys.com//142</td>\n",
       "      <td>Small &amp; Easy</td>\n",
       "      <td>20.1MP</td>\n",
       "    </tr>\n",
       "    <tr>\n",
       "      <th>2</th>\n",
       "      <td>www.henrys.com//154</td>\n",
       "      <td>Super Zoom</td>\n",
       "      <td>16.1MP</td>\n",
       "    </tr>\n",
       "    <tr>\n",
       "      <th>3</th>\n",
       "      <td>www.henrys.com//197</td>\n",
       "      <td>Small &amp; Easy</td>\n",
       "      <td>16.1MP</td>\n",
       "    </tr>\n",
       "    <tr>\n",
       "      <th>4</th>\n",
       "      <td>www.henrys.com//20</td>\n",
       "      <td>Small &amp; Easy</td>\n",
       "      <td>14.0MP</td>\n",
       "    </tr>\n",
       "  </tbody>\n",
       "</table>\n",
       "</div>"
      ],
      "text/plain": [
       "               spec_id   camera type effective pixels\n",
       "0  www.henrys.com//115         Wi-Fi           12.1MP\n",
       "1  www.henrys.com//142  Small & Easy           20.1MP\n",
       "2  www.henrys.com//154    Super Zoom           16.1MP\n",
       "3  www.henrys.com//197  Small & Easy           16.1MP\n",
       "4   www.henrys.com//20  Small & Easy           14.0MP"
      ]
     },
     "execution_count": 7,
     "metadata": {},
     "output_type": "execute_result"
    }
   ],
   "source": [
    "df.head()"
   ]
  },
  {
   "cell_type": "markdown",
   "metadata": {},
   "source": [
    "## Camera type"
   ]
  },
  {
   "cell_type": "code",
   "execution_count": 8,
   "metadata": {},
   "outputs": [
    {
     "data": {
      "text/plain": [
       "Super Zoom                42\n",
       "Advanced                  41\n",
       "Small & Easy              31\n",
       "Wi-Fi                     27\n",
       "Waterproof                24\n",
       "Zoom                       5\n",
       "Microscope                 3\n",
       "Compact Digital Camera     2\n",
       "Digital SLR                1\n",
       "Pocketable                 1\n",
       "Compact System Camera      1\n",
       "Name: camera type, dtype: int64"
      ]
     },
     "execution_count": 8,
     "metadata": {},
     "output_type": "execute_result"
    }
   ],
   "source": [
    "df[\"camera type\"].value_counts()"
   ]
  },
  {
   "cell_type": "code",
   "execution_count": 9,
   "metadata": {},
   "outputs": [],
   "source": [
    "def clean_camera_type(camera):\n",
    "    if pd.isna(camera):\n",
    "        return camera\n",
    "    else:\n",
    "        punctuation = \"!#$%&'()*+,-./:;<=>?@[\\]^_`{|}~€£¥₹₽\"\n",
    "        camera = camera.lower()\n",
    "        for p in punctuation:\n",
    "            camera = camera.replace(p, \"\")\n",
    "        camera = camera.replace(\"camera\", \"\")\n",
    "        camera = ' '.join(camera.split())\n",
    "        return camera"
   ]
  },
  {
   "cell_type": "code",
   "execution_count": 10,
   "metadata": {},
   "outputs": [],
   "source": [
    "df[\"camera type\"] = df[\"camera type\"].apply(clean_camera_type)"
   ]
  },
  {
   "cell_type": "markdown",
   "metadata": {},
   "source": [
    "## Effective pixels"
   ]
  },
  {
   "cell_type": "code",
   "execution_count": 11,
   "metadata": {},
   "outputs": [
    {
     "data": {
      "text/plain": [
       "16.0MP                             33\n",
       "16.1MP                             18\n",
       "20.2MP                             15\n",
       "20.1MP                             15\n",
       "12.1MP                             12\n",
       "16.3MP                              9\n",
       "16.2MP                              7\n",
       "16MP                                6\n",
       "16.4MP                              6\n",
       "20.4MP                              4\n",
       "14.0MP                              4\n",
       "12.0MP                              4\n",
       "18.1MP                              4\n",
       "10.1MP                              3\n",
       "13.2MP                              3\n",
       "12MP                                3\n",
       "12.2MP                              3\n",
       "46MP                                3\n",
       "20.0MP                              2\n",
       "20MP                                2\n",
       "18.2MP                              2\n",
       "N/A                                 2\n",
       "24.3MP                              2\n",
       "18MP                                2\n",
       "14.1MP                              2\n",
       "16.1 MP                             2\n",
       "12.0 million pixels                 2\n",
       "16.05MP                             1\n",
       "20.1 MP                             1\n",
       "12.4MP                              1\n",
       "14.3MP                              1\n",
       "14.2MP                              1\n",
       "9.03MP (Motion); 8.34MP (Still)     1\n",
       "12.8MP                              1\n",
       "5MP                                 1\n",
       "Name: effective pixels, dtype: int64"
      ]
     },
     "execution_count": 11,
     "metadata": {},
     "output_type": "execute_result"
    }
   ],
   "source": [
    "df[\"effective pixels\"].value_counts()"
   ]
  },
  {
   "cell_type": "code",
   "execution_count": 12,
   "metadata": {},
   "outputs": [],
   "source": [
    "def clean_pixels(value):\n",
    "    if pd.isna(value):\n",
    "        return value\n",
    "    elif value == \"N/A\":\n",
    "        return np.nan\n",
    "    else:\n",
    "        camera_regex_1 = r\"([0-9]+[.]?[0-9]+?)[ ]?MP\"\n",
    "        camera_regex_2 = r\"([0-9]+)MP\"\n",
    "        if bool(re.match(camera_regex_1, value)):\n",
    "            groups = re.match(camera_regex_1, value)\n",
    "            return float(round(float(groups.group(1)), 1))\n",
    "        elif bool(re.match(camera_regex_2, value)):\n",
    "            groups = re.match(camera_regex_2, value)\n",
    "            return float(round(float(groups.group(1)), 1))\n",
    "        else:\n",
    "            return word_tokenize(value)[0]"
   ]
  },
  {
   "cell_type": "code",
   "execution_count": 13,
   "metadata": {},
   "outputs": [],
   "source": [
    "df[\"effective pixels\"] = df[\"effective pixels\"].apply(clean_pixels)"
   ]
  },
  {
   "cell_type": "code",
   "execution_count": 14,
   "metadata": {},
   "outputs": [
    {
     "data": {
      "text/html": [
       "<div>\n",
       "<style scoped>\n",
       "    .dataframe tbody tr th:only-of-type {\n",
       "        vertical-align: middle;\n",
       "    }\n",
       "\n",
       "    .dataframe tbody tr th {\n",
       "        vertical-align: top;\n",
       "    }\n",
       "\n",
       "    .dataframe thead th {\n",
       "        text-align: right;\n",
       "    }\n",
       "</style>\n",
       "<table border=\"1\" class=\"dataframe\">\n",
       "  <thead>\n",
       "    <tr style=\"text-align: right;\">\n",
       "      <th></th>\n",
       "      <th>spec_id</th>\n",
       "      <th>camera type</th>\n",
       "      <th>effective pixels</th>\n",
       "    </tr>\n",
       "  </thead>\n",
       "  <tbody>\n",
       "    <tr>\n",
       "      <th>0</th>\n",
       "      <td>www.henrys.com//115</td>\n",
       "      <td>wifi</td>\n",
       "      <td>12.1</td>\n",
       "    </tr>\n",
       "    <tr>\n",
       "      <th>1</th>\n",
       "      <td>www.henrys.com//142</td>\n",
       "      <td>small easy</td>\n",
       "      <td>20.1</td>\n",
       "    </tr>\n",
       "    <tr>\n",
       "      <th>2</th>\n",
       "      <td>www.henrys.com//154</td>\n",
       "      <td>super zoom</td>\n",
       "      <td>16.1</td>\n",
       "    </tr>\n",
       "    <tr>\n",
       "      <th>3</th>\n",
       "      <td>www.henrys.com//197</td>\n",
       "      <td>small easy</td>\n",
       "      <td>16.1</td>\n",
       "    </tr>\n",
       "    <tr>\n",
       "      <th>4</th>\n",
       "      <td>www.henrys.com//20</td>\n",
       "      <td>small easy</td>\n",
       "      <td>14</td>\n",
       "    </tr>\n",
       "  </tbody>\n",
       "</table>\n",
       "</div>"
      ],
      "text/plain": [
       "               spec_id camera type effective pixels\n",
       "0  www.henrys.com//115        wifi             12.1\n",
       "1  www.henrys.com//142  small easy             20.1\n",
       "2  www.henrys.com//154  super zoom             16.1\n",
       "3  www.henrys.com//197  small easy             16.1\n",
       "4   www.henrys.com//20  small easy               14"
      ]
     },
     "execution_count": 14,
     "metadata": {},
     "output_type": "execute_result"
    }
   ],
   "source": [
    "df.head()"
   ]
  },
  {
   "cell_type": "markdown",
   "metadata": {},
   "source": [
    "## Saving"
   ]
  },
  {
   "cell_type": "code",
   "execution_count": 15,
   "metadata": {},
   "outputs": [
    {
     "data": {
      "text/html": [
       "<div>\n",
       "<style scoped>\n",
       "    .dataframe tbody tr th:only-of-type {\n",
       "        vertical-align: middle;\n",
       "    }\n",
       "\n",
       "    .dataframe tbody tr th {\n",
       "        vertical-align: top;\n",
       "    }\n",
       "\n",
       "    .dataframe thead th {\n",
       "        text-align: right;\n",
       "    }\n",
       "</style>\n",
       "<table border=\"1\" class=\"dataframe\">\n",
       "  <thead>\n",
       "    <tr style=\"text-align: right;\">\n",
       "      <th></th>\n",
       "      <th>spec_id</th>\n",
       "      <th>camera type</th>\n",
       "      <th>effective pixels</th>\n",
       "    </tr>\n",
       "  </thead>\n",
       "  <tbody>\n",
       "    <tr>\n",
       "      <th>0</th>\n",
       "      <td>www.henrys.com//115</td>\n",
       "      <td>wifi</td>\n",
       "      <td>12.1</td>\n",
       "    </tr>\n",
       "    <tr>\n",
       "      <th>1</th>\n",
       "      <td>www.henrys.com//142</td>\n",
       "      <td>small easy</td>\n",
       "      <td>20.1</td>\n",
       "    </tr>\n",
       "    <tr>\n",
       "      <th>2</th>\n",
       "      <td>www.henrys.com//154</td>\n",
       "      <td>super zoom</td>\n",
       "      <td>16.1</td>\n",
       "    </tr>\n",
       "    <tr>\n",
       "      <th>3</th>\n",
       "      <td>www.henrys.com//197</td>\n",
       "      <td>small easy</td>\n",
       "      <td>16.1</td>\n",
       "    </tr>\n",
       "    <tr>\n",
       "      <th>4</th>\n",
       "      <td>www.henrys.com//20</td>\n",
       "      <td>small easy</td>\n",
       "      <td>14</td>\n",
       "    </tr>\n",
       "  </tbody>\n",
       "</table>\n",
       "</div>"
      ],
      "text/plain": [
       "               spec_id camera type effective pixels\n",
       "0  www.henrys.com//115        wifi             12.1\n",
       "1  www.henrys.com//142  small easy             20.1\n",
       "2  www.henrys.com//154  super zoom             16.1\n",
       "3  www.henrys.com//197  small easy             16.1\n",
       "4   www.henrys.com//20  small easy               14"
      ]
     },
     "execution_count": 15,
     "metadata": {},
     "output_type": "execute_result"
    }
   ],
   "source": [
    "df.head()"
   ]
  },
  {
   "cell_type": "code",
   "execution_count": 16,
   "metadata": {},
   "outputs": [],
   "source": [
    "df.columns = [\"spec_id\", \"type\", \"megapixels\"]"
   ]
  },
  {
   "cell_type": "code",
   "execution_count": null,
   "metadata": {},
   "outputs": [],
   "source": []
  },
  {
   "cell_type": "code",
   "execution_count": 17,
   "metadata": {},
   "outputs": [],
   "source": [
    "df.to_csv(\"../../datasets/unlabeled/cleaned/henrys.csv\", index=False)"
   ]
  },
  {
   "cell_type": "code",
   "execution_count": null,
   "metadata": {},
   "outputs": [],
   "source": []
  }
 ],
 "metadata": {
  "kernelspec": {
   "display_name": "Python 3",
   "language": "python",
   "name": "python3"
  },
  "language_info": {
   "codemirror_mode": {
    "name": "ipython",
    "version": 3
   },
   "file_extension": ".py",
   "mimetype": "text/x-python",
   "name": "python",
   "nbconvert_exporter": "python",
   "pygments_lexer": "ipython3",
   "version": "3.7.3"
  }
 },
 "nbformat": 4,
 "nbformat_minor": 4
}
