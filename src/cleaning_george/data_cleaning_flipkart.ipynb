{
 "cells": [
  {
   "cell_type": "code",
   "execution_count": 1,
   "metadata": {},
   "outputs": [],
   "source": [
    "import os\n",
    "import numpy as np\n",
    "import json\n",
    "import pandas as pd\n",
    "import itertools\n",
    "from tqdm import tqdm\n",
    "import nltk\n",
    "from nltk.tokenize import word_tokenize\n",
    "import re\n",
    "import matplotlib.pyplot as plt"
   ]
  },
  {
   "cell_type": "code",
   "execution_count": 2,
   "metadata": {},
   "outputs": [],
   "source": [
    "def create_dataframe(dataset_path, source, columns_df):\n",
    "    \"\"\"Function used to create a Pandas DataFrame containing specifications page titles\n",
    "\n",
    "    Reads products specifications from the file system (\"dataset_path\" variable in the main function) and creates a Pandas DataFrame where each row is a\n",
    "    specification. The columns are 'source' (e.g. www.sourceA.com), 'spec_number' (e.g. 1) and the 'page title'. Note that this script will consider only\n",
    "    the page title attribute for simplicity.\n",
    "\n",
    "    Args:\n",
    "        dataset_path (str): The path to the dataset\n",
    "\n",
    "    Returns:\n",
    "        df (pd.DataFrame): The Pandas DataFrame containing specifications and page titles\n",
    "    \"\"\"\n",
    "\n",
    "    print('>>> Creating dataframe...\\n')\n",
    "\n",
    "    progressive_id = 0\n",
    "    progressive_id2row_df = {}\n",
    "    for specification in os.listdir(os.path.join(dataset_path, source)):\n",
    "        specification_number = specification.replace('.json', '')\n",
    "        specification_id = '{}//{}'.format(source, specification_number)\n",
    "        with open(os.path.join(dataset_path, source, specification)) as specification_file:\n",
    "            specification_data = json.load(specification_file)\n",
    "        \n",
    "            screen_size = specification_data.get(\"lcd screen size\")\n",
    "            brand = specification_data.get(\"brand\")\n",
    "            disp = specification_data.get(\"image display resolution\")\n",
    "\n",
    "            row = (specification_id, brand, screen_size, disp)\n",
    "            progressive_id2row_df.update({progressive_id: row})\n",
    "            progressive_id += 1\n",
    "    df = pd.DataFrame.from_dict(progressive_id2row_df, orient='index', columns=columns_df)\n",
    "    print('>>> Dataframe created successfully!\\n')\n",
    "    return df"
   ]
  },
  {
   "cell_type": "code",
   "execution_count": 3,
   "metadata": {},
   "outputs": [
    {
     "name": "stdout",
     "output_type": "stream",
     "text": [
      ">>> Creating dataframe...\n",
      "\n",
      ">>> Dataframe created successfully!\n",
      "\n"
     ]
    }
   ],
   "source": [
    "df = create_dataframe('../../datasets/unlabeled/2013_camera_specs', \"www.flipkart.com\", [\"spec_id\", \"brand\", \"lcd screen size\", \"image display resolution\"])"
   ]
  },
  {
   "cell_type": "code",
   "execution_count": 4,
   "metadata": {},
   "outputs": [
    {
     "data": {
      "text/html": [
       "<div>\n",
       "<style scoped>\n",
       "    .dataframe tbody tr th:only-of-type {\n",
       "        vertical-align: middle;\n",
       "    }\n",
       "\n",
       "    .dataframe tbody tr th {\n",
       "        vertical-align: top;\n",
       "    }\n",
       "\n",
       "    .dataframe thead th {\n",
       "        text-align: right;\n",
       "    }\n",
       "</style>\n",
       "<table border=\"1\" class=\"dataframe\">\n",
       "  <thead>\n",
       "    <tr style=\"text-align: right;\">\n",
       "      <th></th>\n",
       "      <th>spec_id</th>\n",
       "      <th>brand</th>\n",
       "      <th>lcd screen size</th>\n",
       "      <th>image display resolution</th>\n",
       "    </tr>\n",
       "  </thead>\n",
       "  <tbody>\n",
       "    <tr>\n",
       "      <th>0</th>\n",
       "      <td>www.flipkart.com//2219</td>\n",
       "      <td>None</td>\n",
       "      <td>None</td>\n",
       "      <td>None</td>\n",
       "    </tr>\n",
       "    <tr>\n",
       "      <th>1</th>\n",
       "      <td>www.flipkart.com//2167</td>\n",
       "      <td>None</td>\n",
       "      <td>None</td>\n",
       "      <td>None</td>\n",
       "    </tr>\n",
       "    <tr>\n",
       "      <th>2</th>\n",
       "      <td>www.flipkart.com//2188</td>\n",
       "      <td>Canon</td>\n",
       "      <td>3 inch</td>\n",
       "      <td>1,040,000 dots</td>\n",
       "    </tr>\n",
       "    <tr>\n",
       "      <th>3</th>\n",
       "      <td>www.flipkart.com//2171</td>\n",
       "      <td>Nikon</td>\n",
       "      <td>2.7 inch</td>\n",
       "      <td>230,000 dots</td>\n",
       "    </tr>\n",
       "    <tr>\n",
       "      <th>4</th>\n",
       "      <td>www.flipkart.com//2258</td>\n",
       "      <td>Nikon</td>\n",
       "      <td>3 inch</td>\n",
       "      <td>460,000 dots</td>\n",
       "    </tr>\n",
       "  </tbody>\n",
       "</table>\n",
       "</div>"
      ],
      "text/plain": [
       "                  spec_id  brand lcd screen size image display resolution\n",
       "0  www.flipkart.com//2219   None            None                     None\n",
       "1  www.flipkart.com//2167   None            None                     None\n",
       "2  www.flipkart.com//2188  Canon          3 inch           1,040,000 dots\n",
       "3  www.flipkart.com//2171  Nikon        2.7 inch             230,000 dots\n",
       "4  www.flipkart.com//2258  Nikon          3 inch             460,000 dots"
      ]
     },
     "execution_count": 4,
     "metadata": {},
     "output_type": "execute_result"
    }
   ],
   "source": [
    "df.head()"
   ]
  },
  {
   "cell_type": "code",
   "execution_count": 5,
   "metadata": {},
   "outputs": [],
   "source": [
    "cols = [\"spec_id\", \"brand\", \"lcd screen size\", \"image display resolution\"]"
   ]
  },
  {
   "cell_type": "code",
   "execution_count": 6,
   "metadata": {},
   "outputs": [],
   "source": [
    "df = df[cols]"
   ]
  },
  {
   "cell_type": "code",
   "execution_count": 7,
   "metadata": {},
   "outputs": [
    {
     "data": {
      "text/html": [
       "<div>\n",
       "<style scoped>\n",
       "    .dataframe tbody tr th:only-of-type {\n",
       "        vertical-align: middle;\n",
       "    }\n",
       "\n",
       "    .dataframe tbody tr th {\n",
       "        vertical-align: top;\n",
       "    }\n",
       "\n",
       "    .dataframe thead th {\n",
       "        text-align: right;\n",
       "    }\n",
       "</style>\n",
       "<table border=\"1\" class=\"dataframe\">\n",
       "  <thead>\n",
       "    <tr style=\"text-align: right;\">\n",
       "      <th></th>\n",
       "      <th>spec_id</th>\n",
       "      <th>brand</th>\n",
       "      <th>lcd screen size</th>\n",
       "      <th>image display resolution</th>\n",
       "    </tr>\n",
       "  </thead>\n",
       "  <tbody>\n",
       "    <tr>\n",
       "      <th>0</th>\n",
       "      <td>www.flipkart.com//2219</td>\n",
       "      <td>None</td>\n",
       "      <td>None</td>\n",
       "      <td>None</td>\n",
       "    </tr>\n",
       "    <tr>\n",
       "      <th>1</th>\n",
       "      <td>www.flipkart.com//2167</td>\n",
       "      <td>None</td>\n",
       "      <td>None</td>\n",
       "      <td>None</td>\n",
       "    </tr>\n",
       "    <tr>\n",
       "      <th>2</th>\n",
       "      <td>www.flipkart.com//2188</td>\n",
       "      <td>Canon</td>\n",
       "      <td>3 inch</td>\n",
       "      <td>1,040,000 dots</td>\n",
       "    </tr>\n",
       "    <tr>\n",
       "      <th>3</th>\n",
       "      <td>www.flipkart.com//2171</td>\n",
       "      <td>Nikon</td>\n",
       "      <td>2.7 inch</td>\n",
       "      <td>230,000 dots</td>\n",
       "    </tr>\n",
       "    <tr>\n",
       "      <th>4</th>\n",
       "      <td>www.flipkart.com//2258</td>\n",
       "      <td>Nikon</td>\n",
       "      <td>3 inch</td>\n",
       "      <td>460,000 dots</td>\n",
       "    </tr>\n",
       "  </tbody>\n",
       "</table>\n",
       "</div>"
      ],
      "text/plain": [
       "                  spec_id  brand lcd screen size image display resolution\n",
       "0  www.flipkart.com//2219   None            None                     None\n",
       "1  www.flipkart.com//2167   None            None                     None\n",
       "2  www.flipkart.com//2188  Canon          3 inch           1,040,000 dots\n",
       "3  www.flipkart.com//2171  Nikon        2.7 inch             230,000 dots\n",
       "4  www.flipkart.com//2258  Nikon          3 inch             460,000 dots"
      ]
     },
     "execution_count": 7,
     "metadata": {},
     "output_type": "execute_result"
    }
   ],
   "source": [
    "df.head()"
   ]
  },
  {
   "cell_type": "markdown",
   "metadata": {},
   "source": [
    "## Brand"
   ]
  },
  {
   "cell_type": "code",
   "execution_count": 8,
   "metadata": {},
   "outputs": [
    {
     "data": {
      "text/plain": [
       "Nikon        50\n",
       "Canon        26\n",
       "Sony         23\n",
       "Tamron        5\n",
       "YourDeal      4\n",
       "Lowepro       4\n",
       "DigiFlip      3\n",
       "Sigma         2\n",
       "Pentax        1\n",
       "Panasonic     1\n",
       "Name: brand, dtype: int64"
      ]
     },
     "execution_count": 8,
     "metadata": {},
     "output_type": "execute_result"
    }
   ],
   "source": [
    "df[\"brand\"].value_counts()"
   ]
  },
  {
   "cell_type": "code",
   "execution_count": 9,
   "metadata": {},
   "outputs": [],
   "source": [
    "df[\"brand\"] = df[\"brand\"].apply(lambda brand : brand.lower() if not pd.isna(brand) else np.nan)"
   ]
  },
  {
   "cell_type": "code",
   "execution_count": 10,
   "metadata": {},
   "outputs": [
    {
     "data": {
      "text/html": [
       "<div>\n",
       "<style scoped>\n",
       "    .dataframe tbody tr th:only-of-type {\n",
       "        vertical-align: middle;\n",
       "    }\n",
       "\n",
       "    .dataframe tbody tr th {\n",
       "        vertical-align: top;\n",
       "    }\n",
       "\n",
       "    .dataframe thead th {\n",
       "        text-align: right;\n",
       "    }\n",
       "</style>\n",
       "<table border=\"1\" class=\"dataframe\">\n",
       "  <thead>\n",
       "    <tr style=\"text-align: right;\">\n",
       "      <th></th>\n",
       "      <th>spec_id</th>\n",
       "      <th>brand</th>\n",
       "      <th>lcd screen size</th>\n",
       "      <th>image display resolution</th>\n",
       "    </tr>\n",
       "  </thead>\n",
       "  <tbody>\n",
       "    <tr>\n",
       "      <th>0</th>\n",
       "      <td>www.flipkart.com//2219</td>\n",
       "      <td>NaN</td>\n",
       "      <td>None</td>\n",
       "      <td>None</td>\n",
       "    </tr>\n",
       "    <tr>\n",
       "      <th>1</th>\n",
       "      <td>www.flipkart.com//2167</td>\n",
       "      <td>NaN</td>\n",
       "      <td>None</td>\n",
       "      <td>None</td>\n",
       "    </tr>\n",
       "    <tr>\n",
       "      <th>2</th>\n",
       "      <td>www.flipkart.com//2188</td>\n",
       "      <td>canon</td>\n",
       "      <td>3 inch</td>\n",
       "      <td>1,040,000 dots</td>\n",
       "    </tr>\n",
       "    <tr>\n",
       "      <th>3</th>\n",
       "      <td>www.flipkart.com//2171</td>\n",
       "      <td>nikon</td>\n",
       "      <td>2.7 inch</td>\n",
       "      <td>230,000 dots</td>\n",
       "    </tr>\n",
       "    <tr>\n",
       "      <th>4</th>\n",
       "      <td>www.flipkart.com//2258</td>\n",
       "      <td>nikon</td>\n",
       "      <td>3 inch</td>\n",
       "      <td>460,000 dots</td>\n",
       "    </tr>\n",
       "  </tbody>\n",
       "</table>\n",
       "</div>"
      ],
      "text/plain": [
       "                  spec_id  brand lcd screen size image display resolution\n",
       "0  www.flipkart.com//2219    NaN            None                     None\n",
       "1  www.flipkart.com//2167    NaN            None                     None\n",
       "2  www.flipkart.com//2188  canon          3 inch           1,040,000 dots\n",
       "3  www.flipkart.com//2171  nikon        2.7 inch             230,000 dots\n",
       "4  www.flipkart.com//2258  nikon          3 inch             460,000 dots"
      ]
     },
     "execution_count": 10,
     "metadata": {},
     "output_type": "execute_result"
    }
   ],
   "source": [
    "df.head()"
   ]
  },
  {
   "cell_type": "markdown",
   "metadata": {},
   "source": [
    "## Lcd screen size"
   ]
  },
  {
   "cell_type": "code",
   "execution_count": 11,
   "metadata": {},
   "outputs": [
    {
     "data": {
      "text/plain": [
       "3 inch      62\n",
       "2.7 inch    35\n",
       "2 inch       4\n",
       "3.2 inch     2\n",
       "2.8 inch     1\n",
       "Name: lcd screen size, dtype: int64"
      ]
     },
     "execution_count": 11,
     "metadata": {},
     "output_type": "execute_result"
    }
   ],
   "source": [
    "df[\"lcd screen size\"].value_counts()"
   ]
  },
  {
   "cell_type": "code",
   "execution_count": 12,
   "metadata": {},
   "outputs": [],
   "source": [
    "def clean_size(value):\n",
    "    if pd.isna(value):\n",
    "        return value\n",
    "    else:\n",
    "        return word_tokenize(value)[0]"
   ]
  },
  {
   "cell_type": "code",
   "execution_count": 14,
   "metadata": {},
   "outputs": [],
   "source": [
    "df[\"lcd screen size\"] = df[\"lcd screen size\"].apply(lambda value : float(clean_size(value)) if not pd.isna(value) else value)"
   ]
  },
  {
   "cell_type": "code",
   "execution_count": 15,
   "metadata": {},
   "outputs": [
    {
     "data": {
      "text/html": [
       "<div>\n",
       "<style scoped>\n",
       "    .dataframe tbody tr th:only-of-type {\n",
       "        vertical-align: middle;\n",
       "    }\n",
       "\n",
       "    .dataframe tbody tr th {\n",
       "        vertical-align: top;\n",
       "    }\n",
       "\n",
       "    .dataframe thead th {\n",
       "        text-align: right;\n",
       "    }\n",
       "</style>\n",
       "<table border=\"1\" class=\"dataframe\">\n",
       "  <thead>\n",
       "    <tr style=\"text-align: right;\">\n",
       "      <th></th>\n",
       "      <th>spec_id</th>\n",
       "      <th>brand</th>\n",
       "      <th>lcd screen size</th>\n",
       "      <th>image display resolution</th>\n",
       "    </tr>\n",
       "  </thead>\n",
       "  <tbody>\n",
       "    <tr>\n",
       "      <th>0</th>\n",
       "      <td>www.flipkart.com//2219</td>\n",
       "      <td>NaN</td>\n",
       "      <td>NaN</td>\n",
       "      <td>None</td>\n",
       "    </tr>\n",
       "    <tr>\n",
       "      <th>1</th>\n",
       "      <td>www.flipkart.com//2167</td>\n",
       "      <td>NaN</td>\n",
       "      <td>NaN</td>\n",
       "      <td>None</td>\n",
       "    </tr>\n",
       "    <tr>\n",
       "      <th>2</th>\n",
       "      <td>www.flipkart.com//2188</td>\n",
       "      <td>canon</td>\n",
       "      <td>3.0</td>\n",
       "      <td>1,040,000 dots</td>\n",
       "    </tr>\n",
       "    <tr>\n",
       "      <th>3</th>\n",
       "      <td>www.flipkart.com//2171</td>\n",
       "      <td>nikon</td>\n",
       "      <td>2.7</td>\n",
       "      <td>230,000 dots</td>\n",
       "    </tr>\n",
       "    <tr>\n",
       "      <th>4</th>\n",
       "      <td>www.flipkart.com//2258</td>\n",
       "      <td>nikon</td>\n",
       "      <td>3.0</td>\n",
       "      <td>460,000 dots</td>\n",
       "    </tr>\n",
       "  </tbody>\n",
       "</table>\n",
       "</div>"
      ],
      "text/plain": [
       "                  spec_id  brand  lcd screen size image display resolution\n",
       "0  www.flipkart.com//2219    NaN              NaN                     None\n",
       "1  www.flipkart.com//2167    NaN              NaN                     None\n",
       "2  www.flipkart.com//2188  canon              3.0           1,040,000 dots\n",
       "3  www.flipkart.com//2171  nikon              2.7             230,000 dots\n",
       "4  www.flipkart.com//2258  nikon              3.0             460,000 dots"
      ]
     },
     "execution_count": 15,
     "metadata": {},
     "output_type": "execute_result"
    }
   ],
   "source": [
    "df.head()"
   ]
  },
  {
   "cell_type": "markdown",
   "metadata": {},
   "source": [
    "## Image display resolution"
   ]
  },
  {
   "cell_type": "code",
   "execution_count": 16,
   "metadata": {},
   "outputs": [
    {
     "data": {
      "text/plain": [
       "230,000 dots      37\n",
       "921,000 dots      25\n",
       "460,000 dots       9\n",
       "460,800 dots       9\n",
       "230,400 dots       7\n",
       "1,040,000 dots     7\n",
       "1,036,800 dots     2\n",
       "921,600 dots       2\n",
       "461,000 dots       1\n",
       "920,000 dots       1\n",
       "Name: image display resolution, dtype: int64"
      ]
     },
     "execution_count": 16,
     "metadata": {},
     "output_type": "execute_result"
    }
   ],
   "source": [
    "df[\"image display resolution\"].value_counts()"
   ]
  },
  {
   "cell_type": "code",
   "execution_count": 17,
   "metadata": {},
   "outputs": [],
   "source": [
    "def clean_dots(value):\n",
    "    if pd.isna(value):\n",
    "        return value\n",
    "    else:\n",
    "        value = ' '.join(value.split())\n",
    "        value = value.replace(\",\", \"\")\n",
    "        value = value.replace(\"Dots\", \"d\")\n",
    "        value = value.replace(\"dots\", \"d\")\n",
    "        if bool(re.match(r\"[0-9]* [0-9]* d\", value)):\n",
    "            return value.replace(\" \", \"\")\n",
    "        elif bool(re.match(r\"[0-9]* d [0-9]*\", value)):\n",
    "            splitted = value.split()\n",
    "            return splitted[2] + splitted[0] + splitted[1]            \n",
    "        elif bool(re.match(r\"[0-9]* d\", value)):\n",
    "            return value.replace(\" \", \"\")\n",
    "                \n",
    "        return value.replace(\" \", \"\")"
   ]
  },
  {
   "cell_type": "code",
   "execution_count": 18,
   "metadata": {},
   "outputs": [],
   "source": [
    "df[\"image display resolution\"] = df[\"image display resolution\"].apply(clean_dots)"
   ]
  },
  {
   "cell_type": "code",
   "execution_count": 19,
   "metadata": {},
   "outputs": [
    {
     "data": {
      "text/html": [
       "<div>\n",
       "<style scoped>\n",
       "    .dataframe tbody tr th:only-of-type {\n",
       "        vertical-align: middle;\n",
       "    }\n",
       "\n",
       "    .dataframe tbody tr th {\n",
       "        vertical-align: top;\n",
       "    }\n",
       "\n",
       "    .dataframe thead th {\n",
       "        text-align: right;\n",
       "    }\n",
       "</style>\n",
       "<table border=\"1\" class=\"dataframe\">\n",
       "  <thead>\n",
       "    <tr style=\"text-align: right;\">\n",
       "      <th></th>\n",
       "      <th>spec_id</th>\n",
       "      <th>brand</th>\n",
       "      <th>lcd screen size</th>\n",
       "      <th>image display resolution</th>\n",
       "    </tr>\n",
       "  </thead>\n",
       "  <tbody>\n",
       "    <tr>\n",
       "      <th>0</th>\n",
       "      <td>www.flipkart.com//2219</td>\n",
       "      <td>NaN</td>\n",
       "      <td>NaN</td>\n",
       "      <td>None</td>\n",
       "    </tr>\n",
       "    <tr>\n",
       "      <th>1</th>\n",
       "      <td>www.flipkart.com//2167</td>\n",
       "      <td>NaN</td>\n",
       "      <td>NaN</td>\n",
       "      <td>None</td>\n",
       "    </tr>\n",
       "    <tr>\n",
       "      <th>2</th>\n",
       "      <td>www.flipkart.com//2188</td>\n",
       "      <td>canon</td>\n",
       "      <td>3.0</td>\n",
       "      <td>1040000d</td>\n",
       "    </tr>\n",
       "    <tr>\n",
       "      <th>3</th>\n",
       "      <td>www.flipkart.com//2171</td>\n",
       "      <td>nikon</td>\n",
       "      <td>2.7</td>\n",
       "      <td>230000d</td>\n",
       "    </tr>\n",
       "    <tr>\n",
       "      <th>4</th>\n",
       "      <td>www.flipkart.com//2258</td>\n",
       "      <td>nikon</td>\n",
       "      <td>3.0</td>\n",
       "      <td>460000d</td>\n",
       "    </tr>\n",
       "  </tbody>\n",
       "</table>\n",
       "</div>"
      ],
      "text/plain": [
       "                  spec_id  brand  lcd screen size image display resolution\n",
       "0  www.flipkart.com//2219    NaN              NaN                     None\n",
       "1  www.flipkart.com//2167    NaN              NaN                     None\n",
       "2  www.flipkart.com//2188  canon              3.0                 1040000d\n",
       "3  www.flipkart.com//2171  nikon              2.7                  230000d\n",
       "4  www.flipkart.com//2258  nikon              3.0                  460000d"
      ]
     },
     "execution_count": 19,
     "metadata": {},
     "output_type": "execute_result"
    }
   ],
   "source": [
    "df.head()"
   ]
  },
  {
   "cell_type": "markdown",
   "metadata": {},
   "source": [
    "## Saving"
   ]
  },
  {
   "cell_type": "code",
   "execution_count": 20,
   "metadata": {},
   "outputs": [
    {
     "data": {
      "text/html": [
       "<div>\n",
       "<style scoped>\n",
       "    .dataframe tbody tr th:only-of-type {\n",
       "        vertical-align: middle;\n",
       "    }\n",
       "\n",
       "    .dataframe tbody tr th {\n",
       "        vertical-align: top;\n",
       "    }\n",
       "\n",
       "    .dataframe thead th {\n",
       "        text-align: right;\n",
       "    }\n",
       "</style>\n",
       "<table border=\"1\" class=\"dataframe\">\n",
       "  <thead>\n",
       "    <tr style=\"text-align: right;\">\n",
       "      <th></th>\n",
       "      <th>spec_id</th>\n",
       "      <th>brand</th>\n",
       "      <th>lcd screen size</th>\n",
       "      <th>image display resolution</th>\n",
       "    </tr>\n",
       "  </thead>\n",
       "  <tbody>\n",
       "    <tr>\n",
       "      <th>0</th>\n",
       "      <td>www.flipkart.com//2219</td>\n",
       "      <td>NaN</td>\n",
       "      <td>NaN</td>\n",
       "      <td>None</td>\n",
       "    </tr>\n",
       "    <tr>\n",
       "      <th>1</th>\n",
       "      <td>www.flipkart.com//2167</td>\n",
       "      <td>NaN</td>\n",
       "      <td>NaN</td>\n",
       "      <td>None</td>\n",
       "    </tr>\n",
       "    <tr>\n",
       "      <th>2</th>\n",
       "      <td>www.flipkart.com//2188</td>\n",
       "      <td>canon</td>\n",
       "      <td>3.0</td>\n",
       "      <td>1040000d</td>\n",
       "    </tr>\n",
       "    <tr>\n",
       "      <th>3</th>\n",
       "      <td>www.flipkart.com//2171</td>\n",
       "      <td>nikon</td>\n",
       "      <td>2.7</td>\n",
       "      <td>230000d</td>\n",
       "    </tr>\n",
       "    <tr>\n",
       "      <th>4</th>\n",
       "      <td>www.flipkart.com//2258</td>\n",
       "      <td>nikon</td>\n",
       "      <td>3.0</td>\n",
       "      <td>460000d</td>\n",
       "    </tr>\n",
       "  </tbody>\n",
       "</table>\n",
       "</div>"
      ],
      "text/plain": [
       "                  spec_id  brand  lcd screen size image display resolution\n",
       "0  www.flipkart.com//2219    NaN              NaN                     None\n",
       "1  www.flipkart.com//2167    NaN              NaN                     None\n",
       "2  www.flipkart.com//2188  canon              3.0                 1040000d\n",
       "3  www.flipkart.com//2171  nikon              2.7                  230000d\n",
       "4  www.flipkart.com//2258  nikon              3.0                  460000d"
      ]
     },
     "execution_count": 20,
     "metadata": {},
     "output_type": "execute_result"
    }
   ],
   "source": [
    "df.head()"
   ]
  },
  {
   "cell_type": "code",
   "execution_count": 21,
   "metadata": {},
   "outputs": [],
   "source": [
    "df.columns = [\"spec_id\", \"brand\", \"screen_size\", \"dots\"]"
   ]
  },
  {
   "cell_type": "code",
   "execution_count": null,
   "metadata": {},
   "outputs": [],
   "source": []
  },
  {
   "cell_type": "code",
   "execution_count": 22,
   "metadata": {},
   "outputs": [],
   "source": [
    "df.to_csv(\"../../datasets/unlabeled/cleaned/flipkart.csv\", index=False)"
   ]
  }
 ],
 "metadata": {
  "kernelspec": {
   "display_name": "Python 3",
   "language": "python",
   "name": "python3"
  },
  "language_info": {
   "codemirror_mode": {
    "name": "ipython",
    "version": 3
   },
   "file_extension": ".py",
   "mimetype": "text/x-python",
   "name": "python",
   "nbconvert_exporter": "python",
   "pygments_lexer": "ipython3",
   "version": "3.7.3"
  }
 },
 "nbformat": 4,
 "nbformat_minor": 4
}
