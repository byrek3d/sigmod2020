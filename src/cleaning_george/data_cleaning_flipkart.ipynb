{
 "cells": [
  {
   "cell_type": "code",
   "execution_count": 1,
   "metadata": {},
   "outputs": [],
   "source": [
    "import os\n",
    "import numpy as np\n",
    "import json\n",
    "import pandas as pd\n",
    "import itertools\n",
    "from tqdm import tqdm\n",
    "import nltk\n",
    "from nltk.tokenize import word_tokenize\n",
    "import re\n",
    "import matplotlib.pyplot as plt"
   ]
  },
  {
   "cell_type": "code",
   "execution_count": 2,
   "metadata": {},
   "outputs": [],
   "source": [
    "def create_dataframe(dataset_path, source):\n",
    "    \"\"\"Function used to create a Pandas DataFrame containing specifications page titles\n",
    "\n",
    "    Reads products specifications from the file system (\"dataset_path\" variable in the main function) and creates a Pandas DataFrame where each row is a\n",
    "    specification. The columns are 'source' (e.g. www.sourceA.com), 'spec_number' (e.g. 1) and the 'page title'. Note that this script will consider only\n",
    "    the page title attribute for simplicity.\n",
    "\n",
    "    Args:\n",
    "        dataset_path (str): The path to the dataset\n",
    "\n",
    "    Returns:\n",
    "        df (pd.DataFrame): The Pandas DataFrame containing specifications and page titles\n",
    "    \"\"\"\n",
    "\n",
    "    print('>>> Creating dataframe...\\n')\n",
    "    columns_df = ['source', 'spec_number', 'spec_id', 'page_title']\n",
    "    \n",
    "    df = pd.DataFrame()\n",
    "    progressive_id = 0\n",
    "    progressive_id2row_df = {}\n",
    "    #for source in tqdm(os.listdir(dataset_path)):\n",
    "    #source = \"buy.net\"\n",
    "    for specification in os.listdir(os.path.join(dataset_path, source)):\n",
    "        specification_number = specification.replace('.json', '')\n",
    "        specification_id = '{}//{}'.format(source, specification_number)\n",
    "        with open(os.path.join(dataset_path, source, specification)) as specification_file:\n",
    "            columns_df = ['source', 'spec_number', 'spec_id']\n",
    "            specification_data = json.load(specification_file)\n",
    "            attrs = []\n",
    "            for k, v in specification_data.items():\n",
    "                columns_df.append(k)\n",
    "                attrs.append(v)\n",
    "            row = [source, specification_number, specification_id]\n",
    "            row.extend(attrs)\n",
    "            progressive_id2row_df.update({progressive_id: row})\n",
    "            progressive_id += 1\n",
    "            df = df.append(pd.DataFrame.from_dict(progressive_id2row_df, orient='index', columns=columns_df))\n",
    "            progressive_id2row_df = {}\n",
    "    #print(df)\n",
    "    print('>>> Dataframe created successfully!\\n')\n",
    "    return df"
   ]
  },
  {
   "cell_type": "code",
   "execution_count": 3,
   "metadata": {},
   "outputs": [
    {
     "name": "stdout",
     "output_type": "stream",
     "text": [
      ">>> Creating dataframe...\n",
      "\n"
     ]
    },
    {
     "name": "stderr",
     "output_type": "stream",
     "text": [
      "/Users/gfotiadis/anaconda3/lib/python3.7/site-packages/pandas/core/frame.py:6692: FutureWarning: Sorting because non-concatenation axis is not aligned. A future version\n",
      "of pandas will change to not sort by default.\n",
      "\n",
      "To accept the future behavior, pass 'sort=False'.\n",
      "\n",
      "To retain the current behavior and silence the warning, pass 'sort=True'.\n",
      "\n",
      "  sort=sort)\n"
     ]
    },
    {
     "name": "stdout",
     "output_type": "stream",
     "text": [
      ">>> Dataframe created successfully!\n",
      "\n"
     ]
    }
   ],
   "source": [
    "df = create_dataframe('../../datasets/unlabeled/2013_camera_specs', \"www.flipkart.com\")"
   ]
  },
  {
   "cell_type": "code",
   "execution_count": 4,
   "metadata": {},
   "outputs": [
    {
     "data": {
      "text/html": [
       "<div>\n",
       "<style scoped>\n",
       "    .dataframe tbody tr th:only-of-type {\n",
       "        vertical-align: middle;\n",
       "    }\n",
       "\n",
       "    .dataframe tbody tr th {\n",
       "        vertical-align: top;\n",
       "    }\n",
       "\n",
       "    .dataframe thead th {\n",
       "        text-align: right;\n",
       "    }\n",
       "</style>\n",
       "<table border=\"1\" class=\"dataframe\">\n",
       "  <thead>\n",
       "    <tr style=\"text-align: right;\">\n",
       "      <th></th>\n",
       "      <th>11 frames</th>\n",
       "      <th>12 months</th>\n",
       "      <th>1220 mp</th>\n",
       "      <th>16 mp</th>\n",
       "      <th>161 mp</th>\n",
       "      <th>18 months</th>\n",
       "      <th>201 mp</th>\n",
       "      <th>202 mp</th>\n",
       "      <th>24 months</th>\n",
       "      <th>242 mp</th>\n",
       "      <th>...</th>\n",
       "      <th>warranty summary</th>\n",
       "      <th>water resistance depth</th>\n",
       "      <th>white balancing</th>\n",
       "      <th>wide range</th>\n",
       "      <th>wifi</th>\n",
       "      <th>wifi connectivity</th>\n",
       "      <th>wifi standard</th>\n",
       "      <th>wireless connectivity</th>\n",
       "      <th>zeiss lens</th>\n",
       "      <th>zoom</th>\n",
       "    </tr>\n",
       "  </thead>\n",
       "  <tbody>\n",
       "    <tr>\n",
       "      <th>0</th>\n",
       "      <td>NaN</td>\n",
       "      <td>NaN</td>\n",
       "      <td>NaN</td>\n",
       "      <td>NaN</td>\n",
       "      <td>NaN</td>\n",
       "      <td>NaN</td>\n",
       "      <td>NaN</td>\n",
       "      <td>NaN</td>\n",
       "      <td>NaN</td>\n",
       "      <td>NaN</td>\n",
       "      <td>...</td>\n",
       "      <td>NaN</td>\n",
       "      <td>NaN</td>\n",
       "      <td>NaN</td>\n",
       "      <td>NaN</td>\n",
       "      <td>NaN</td>\n",
       "      <td>NaN</td>\n",
       "      <td>NaN</td>\n",
       "      <td>NaN</td>\n",
       "      <td>NaN</td>\n",
       "      <td>NaN</td>\n",
       "    </tr>\n",
       "    <tr>\n",
       "      <th>1</th>\n",
       "      <td>NaN</td>\n",
       "      <td>NaN</td>\n",
       "      <td>NaN</td>\n",
       "      <td>NaN</td>\n",
       "      <td>NaN</td>\n",
       "      <td>NaN</td>\n",
       "      <td>NaN</td>\n",
       "      <td>NaN</td>\n",
       "      <td>NaN</td>\n",
       "      <td>NaN</td>\n",
       "      <td>...</td>\n",
       "      <td>NaN</td>\n",
       "      <td>NaN</td>\n",
       "      <td>NaN</td>\n",
       "      <td>NaN</td>\n",
       "      <td>NaN</td>\n",
       "      <td>NaN</td>\n",
       "      <td>NaN</td>\n",
       "      <td>NaN</td>\n",
       "      <td>NaN</td>\n",
       "      <td>NaN</td>\n",
       "    </tr>\n",
       "    <tr>\n",
       "      <th>2</th>\n",
       "      <td>NaN</td>\n",
       "      <td>[14% Rs. 4,703 Rs. 56,432, 13% Rs. 4,678 Rs. 5...</td>\n",
       "      <td>NaN</td>\n",
       "      <td>NaN</td>\n",
       "      <td>NaN</td>\n",
       "      <td>[15% Rs. 2,763 Rs. 49,719, 15% Rs. 3,268 Rs. 5...</td>\n",
       "      <td>NaN</td>\n",
       "      <td>NaN</td>\n",
       "      <td>[15% Rs. 2,540 Rs. 60,948, 15% Rs. 2,147 Rs. 5...</td>\n",
       "      <td>NaN</td>\n",
       "      <td>...</td>\n",
       "      <td>2 year Canon India Warranty and Free Transit I...</td>\n",
       "      <td>NaN</td>\n",
       "      <td>Auto, Daylight, Shade, Cloudy, Tungsten, White...</td>\n",
       "      <td>NaN</td>\n",
       "      <td>NaN</td>\n",
       "      <td>NaN</td>\n",
       "      <td>NaN</td>\n",
       "      <td>NaN</td>\n",
       "      <td>NaN</td>\n",
       "      <td>NaN</td>\n",
       "    </tr>\n",
       "    <tr>\n",
       "      <th>3</th>\n",
       "      <td>NaN</td>\n",
       "      <td>[13% Rs. 384 Rs. 4,608, 15% Rs. 406 Rs. 4,864,...</td>\n",
       "      <td>NaN</td>\n",
       "      <td>NaN</td>\n",
       "      <td>Camera</td>\n",
       "      <td>NaN</td>\n",
       "      <td>NaN</td>\n",
       "      <td>NaN</td>\n",
       "      <td>NaN</td>\n",
       "      <td>NaN</td>\n",
       "      <td>...</td>\n",
       "      <td>NaN</td>\n",
       "      <td>NaN</td>\n",
       "      <td>NaN</td>\n",
       "      <td>NaN</td>\n",
       "      <td>NaN</td>\n",
       "      <td>NaN</td>\n",
       "      <td>NaN</td>\n",
       "      <td>NaN</td>\n",
       "      <td>NaN</td>\n",
       "      <td>NaN</td>\n",
       "    </tr>\n",
       "    <tr>\n",
       "      <th>4</th>\n",
       "      <td>NaN</td>\n",
       "      <td>[15% Rs. 977 Rs. 11,720, 14% Rs. 1,029 Rs. 12,...</td>\n",
       "      <td>NaN</td>\n",
       "      <td>NaN</td>\n",
       "      <td>NaN</td>\n",
       "      <td>[15% Rs. 715 Rs. 12,858, 15% Rs. 677 Rs. 12,18...</td>\n",
       "      <td>NaN</td>\n",
       "      <td>Resolution</td>\n",
       "      <td>[15% Rs. 526 Rs. 12,614, 15% Rs. 556 Rs. 13,32...</td>\n",
       "      <td>NaN</td>\n",
       "      <td>...</td>\n",
       "      <td>NaN</td>\n",
       "      <td>NaN</td>\n",
       "      <td>NaN</td>\n",
       "      <td>NaN</td>\n",
       "      <td>NaN</td>\n",
       "      <td>NaN</td>\n",
       "      <td>NaN</td>\n",
       "      <td>NaN</td>\n",
       "      <td>NaN</td>\n",
       "      <td>NaN</td>\n",
       "    </tr>\n",
       "  </tbody>\n",
       "</table>\n",
       "<p>5 rows × 212 columns</p>\n",
       "</div>"
      ],
      "text/plain": [
       "  11 frames                                          12 months 1220 mp 16 mp  \\\n",
       "0       NaN                                                NaN     NaN   NaN   \n",
       "1       NaN                                                NaN     NaN   NaN   \n",
       "2       NaN  [14% Rs. 4,703 Rs. 56,432, 13% Rs. 4,678 Rs. 5...     NaN   NaN   \n",
       "3       NaN  [13% Rs. 384 Rs. 4,608, 15% Rs. 406 Rs. 4,864,...     NaN   NaN   \n",
       "4       NaN  [15% Rs. 977 Rs. 11,720, 14% Rs. 1,029 Rs. 12,...     NaN   NaN   \n",
       "\n",
       "   161 mp                                          18 months 201 mp  \\\n",
       "0     NaN                                                NaN    NaN   \n",
       "1     NaN                                                NaN    NaN   \n",
       "2     NaN  [15% Rs. 2,763 Rs. 49,719, 15% Rs. 3,268 Rs. 5...    NaN   \n",
       "3  Camera                                                NaN    NaN   \n",
       "4     NaN  [15% Rs. 715 Rs. 12,858, 15% Rs. 677 Rs. 12,18...    NaN   \n",
       "\n",
       "       202 mp                                          24 months 242 mp  ...  \\\n",
       "0         NaN                                                NaN    NaN  ...   \n",
       "1         NaN                                                NaN    NaN  ...   \n",
       "2         NaN  [15% Rs. 2,540 Rs. 60,948, 15% Rs. 2,147 Rs. 5...    NaN  ...   \n",
       "3         NaN                                                NaN    NaN  ...   \n",
       "4  Resolution  [15% Rs. 526 Rs. 12,614, 15% Rs. 556 Rs. 13,32...    NaN  ...   \n",
       "\n",
       "                                    warranty summary water resistance depth  \\\n",
       "0                                                NaN                    NaN   \n",
       "1                                                NaN                    NaN   \n",
       "2  2 year Canon India Warranty and Free Transit I...                    NaN   \n",
       "3                                                NaN                    NaN   \n",
       "4                                                NaN                    NaN   \n",
       "\n",
       "                                     white balancing wide range wifi  \\\n",
       "0                                                NaN        NaN  NaN   \n",
       "1                                                NaN        NaN  NaN   \n",
       "2  Auto, Daylight, Shade, Cloudy, Tungsten, White...        NaN  NaN   \n",
       "3                                                NaN        NaN  NaN   \n",
       "4                                                NaN        NaN  NaN   \n",
       "\n",
       "  wifi connectivity wifi standard wireless connectivity zeiss lens zoom  \n",
       "0               NaN           NaN                   NaN        NaN  NaN  \n",
       "1               NaN           NaN                   NaN        NaN  NaN  \n",
       "2               NaN           NaN                   NaN        NaN  NaN  \n",
       "3               NaN           NaN                   NaN        NaN  NaN  \n",
       "4               NaN           NaN                   NaN        NaN  NaN  \n",
       "\n",
       "[5 rows x 212 columns]"
      ]
     },
     "execution_count": 4,
     "metadata": {},
     "output_type": "execute_result"
    }
   ],
   "source": [
    "df.head()"
   ]
  },
  {
   "cell_type": "code",
   "execution_count": 5,
   "metadata": {},
   "outputs": [],
   "source": [
    "cols = [\"spec_id\", \"brand\", \"lcd screen size\", \"image display resolution\"]"
   ]
  },
  {
   "cell_type": "code",
   "execution_count": 6,
   "metadata": {},
   "outputs": [],
   "source": [
    "df = df[cols]"
   ]
  },
  {
   "cell_type": "code",
   "execution_count": 7,
   "metadata": {},
   "outputs": [
    {
     "data": {
      "text/html": [
       "<div>\n",
       "<style scoped>\n",
       "    .dataframe tbody tr th:only-of-type {\n",
       "        vertical-align: middle;\n",
       "    }\n",
       "\n",
       "    .dataframe tbody tr th {\n",
       "        vertical-align: top;\n",
       "    }\n",
       "\n",
       "    .dataframe thead th {\n",
       "        text-align: right;\n",
       "    }\n",
       "</style>\n",
       "<table border=\"1\" class=\"dataframe\">\n",
       "  <thead>\n",
       "    <tr style=\"text-align: right;\">\n",
       "      <th></th>\n",
       "      <th>spec_id</th>\n",
       "      <th>brand</th>\n",
       "      <th>lcd screen size</th>\n",
       "      <th>image display resolution</th>\n",
       "    </tr>\n",
       "  </thead>\n",
       "  <tbody>\n",
       "    <tr>\n",
       "      <th>0</th>\n",
       "      <td>www.flipkart.com//2219</td>\n",
       "      <td>NaN</td>\n",
       "      <td>NaN</td>\n",
       "      <td>NaN</td>\n",
       "    </tr>\n",
       "    <tr>\n",
       "      <th>1</th>\n",
       "      <td>www.flipkart.com//2167</td>\n",
       "      <td>NaN</td>\n",
       "      <td>NaN</td>\n",
       "      <td>NaN</td>\n",
       "    </tr>\n",
       "    <tr>\n",
       "      <th>2</th>\n",
       "      <td>www.flipkart.com//2188</td>\n",
       "      <td>Canon</td>\n",
       "      <td>3 inch</td>\n",
       "      <td>1,040,000 dots</td>\n",
       "    </tr>\n",
       "    <tr>\n",
       "      <th>3</th>\n",
       "      <td>www.flipkart.com//2171</td>\n",
       "      <td>Nikon</td>\n",
       "      <td>2.7 inch</td>\n",
       "      <td>230,000 dots</td>\n",
       "    </tr>\n",
       "    <tr>\n",
       "      <th>4</th>\n",
       "      <td>www.flipkart.com//2258</td>\n",
       "      <td>Nikon</td>\n",
       "      <td>3 inch</td>\n",
       "      <td>460,000 dots</td>\n",
       "    </tr>\n",
       "  </tbody>\n",
       "</table>\n",
       "</div>"
      ],
      "text/plain": [
       "                  spec_id  brand lcd screen size image display resolution\n",
       "0  www.flipkart.com//2219    NaN             NaN                      NaN\n",
       "1  www.flipkart.com//2167    NaN             NaN                      NaN\n",
       "2  www.flipkart.com//2188  Canon          3 inch           1,040,000 dots\n",
       "3  www.flipkart.com//2171  Nikon        2.7 inch             230,000 dots\n",
       "4  www.flipkart.com//2258  Nikon          3 inch             460,000 dots"
      ]
     },
     "execution_count": 7,
     "metadata": {},
     "output_type": "execute_result"
    }
   ],
   "source": [
    "df.head()"
   ]
  },
  {
   "cell_type": "markdown",
   "metadata": {},
   "source": [
    "## Brand"
   ]
  },
  {
   "cell_type": "code",
   "execution_count": 8,
   "metadata": {},
   "outputs": [
    {
     "data": {
      "text/plain": [
       "Nikon        50\n",
       "Canon        26\n",
       "Sony         23\n",
       "Tamron        5\n",
       "YourDeal      4\n",
       "Lowepro       4\n",
       "DigiFlip      3\n",
       "Sigma         2\n",
       "Pentax        1\n",
       "Panasonic     1\n",
       "Name: brand, dtype: int64"
      ]
     },
     "execution_count": 8,
     "metadata": {},
     "output_type": "execute_result"
    }
   ],
   "source": [
    "df[\"brand\"].value_counts()"
   ]
  },
  {
   "cell_type": "code",
   "execution_count": 9,
   "metadata": {},
   "outputs": [],
   "source": [
    "df[\"brand\"] = df[\"brand\"].apply(lambda brand : brand.lower() if not pd.isna(brand) else np.nan)"
   ]
  },
  {
   "cell_type": "code",
   "execution_count": 10,
   "metadata": {},
   "outputs": [
    {
     "data": {
      "text/html": [
       "<div>\n",
       "<style scoped>\n",
       "    .dataframe tbody tr th:only-of-type {\n",
       "        vertical-align: middle;\n",
       "    }\n",
       "\n",
       "    .dataframe tbody tr th {\n",
       "        vertical-align: top;\n",
       "    }\n",
       "\n",
       "    .dataframe thead th {\n",
       "        text-align: right;\n",
       "    }\n",
       "</style>\n",
       "<table border=\"1\" class=\"dataframe\">\n",
       "  <thead>\n",
       "    <tr style=\"text-align: right;\">\n",
       "      <th></th>\n",
       "      <th>spec_id</th>\n",
       "      <th>brand</th>\n",
       "      <th>lcd screen size</th>\n",
       "      <th>image display resolution</th>\n",
       "    </tr>\n",
       "  </thead>\n",
       "  <tbody>\n",
       "    <tr>\n",
       "      <th>0</th>\n",
       "      <td>www.flipkart.com//2219</td>\n",
       "      <td>NaN</td>\n",
       "      <td>NaN</td>\n",
       "      <td>NaN</td>\n",
       "    </tr>\n",
       "    <tr>\n",
       "      <th>1</th>\n",
       "      <td>www.flipkart.com//2167</td>\n",
       "      <td>NaN</td>\n",
       "      <td>NaN</td>\n",
       "      <td>NaN</td>\n",
       "    </tr>\n",
       "    <tr>\n",
       "      <th>2</th>\n",
       "      <td>www.flipkart.com//2188</td>\n",
       "      <td>canon</td>\n",
       "      <td>3 inch</td>\n",
       "      <td>1,040,000 dots</td>\n",
       "    </tr>\n",
       "    <tr>\n",
       "      <th>3</th>\n",
       "      <td>www.flipkart.com//2171</td>\n",
       "      <td>nikon</td>\n",
       "      <td>2.7 inch</td>\n",
       "      <td>230,000 dots</td>\n",
       "    </tr>\n",
       "    <tr>\n",
       "      <th>4</th>\n",
       "      <td>www.flipkart.com//2258</td>\n",
       "      <td>nikon</td>\n",
       "      <td>3 inch</td>\n",
       "      <td>460,000 dots</td>\n",
       "    </tr>\n",
       "  </tbody>\n",
       "</table>\n",
       "</div>"
      ],
      "text/plain": [
       "                  spec_id  brand lcd screen size image display resolution\n",
       "0  www.flipkart.com//2219    NaN             NaN                      NaN\n",
       "1  www.flipkart.com//2167    NaN             NaN                      NaN\n",
       "2  www.flipkart.com//2188  canon          3 inch           1,040,000 dots\n",
       "3  www.flipkart.com//2171  nikon        2.7 inch             230,000 dots\n",
       "4  www.flipkart.com//2258  nikon          3 inch             460,000 dots"
      ]
     },
     "execution_count": 10,
     "metadata": {},
     "output_type": "execute_result"
    }
   ],
   "source": [
    "df.head()"
   ]
  },
  {
   "cell_type": "markdown",
   "metadata": {},
   "source": [
    "## Lcd screen size"
   ]
  },
  {
   "cell_type": "code",
   "execution_count": 11,
   "metadata": {},
   "outputs": [
    {
     "data": {
      "text/plain": [
       "3 inch      62\n",
       "2.7 inch    35\n",
       "2 inch       4\n",
       "3.2 inch     2\n",
       "2.8 inch     1\n",
       "Name: lcd screen size, dtype: int64"
      ]
     },
     "execution_count": 11,
     "metadata": {},
     "output_type": "execute_result"
    }
   ],
   "source": [
    "df[\"lcd screen size\"].value_counts()"
   ]
  },
  {
   "cell_type": "code",
   "execution_count": 12,
   "metadata": {},
   "outputs": [],
   "source": [
    "def clean_size(value):\n",
    "    if pd.isna(value):\n",
    "        return value\n",
    "    else:\n",
    "        return word_tokenize(value)[0]"
   ]
  },
  {
   "cell_type": "code",
   "execution_count": 13,
   "metadata": {},
   "outputs": [],
   "source": [
    "df[\"lcd screen size\"] = df[\"lcd screen size\"].apply(lambda value : float(clean_size(value)))"
   ]
  },
  {
   "cell_type": "code",
   "execution_count": 14,
   "metadata": {},
   "outputs": [
    {
     "data": {
      "text/html": [
       "<div>\n",
       "<style scoped>\n",
       "    .dataframe tbody tr th:only-of-type {\n",
       "        vertical-align: middle;\n",
       "    }\n",
       "\n",
       "    .dataframe tbody tr th {\n",
       "        vertical-align: top;\n",
       "    }\n",
       "\n",
       "    .dataframe thead th {\n",
       "        text-align: right;\n",
       "    }\n",
       "</style>\n",
       "<table border=\"1\" class=\"dataframe\">\n",
       "  <thead>\n",
       "    <tr style=\"text-align: right;\">\n",
       "      <th></th>\n",
       "      <th>spec_id</th>\n",
       "      <th>brand</th>\n",
       "      <th>lcd screen size</th>\n",
       "      <th>image display resolution</th>\n",
       "    </tr>\n",
       "  </thead>\n",
       "  <tbody>\n",
       "    <tr>\n",
       "      <th>0</th>\n",
       "      <td>www.flipkart.com//2219</td>\n",
       "      <td>NaN</td>\n",
       "      <td>NaN</td>\n",
       "      <td>NaN</td>\n",
       "    </tr>\n",
       "    <tr>\n",
       "      <th>1</th>\n",
       "      <td>www.flipkart.com//2167</td>\n",
       "      <td>NaN</td>\n",
       "      <td>NaN</td>\n",
       "      <td>NaN</td>\n",
       "    </tr>\n",
       "    <tr>\n",
       "      <th>2</th>\n",
       "      <td>www.flipkart.com//2188</td>\n",
       "      <td>canon</td>\n",
       "      <td>3.0</td>\n",
       "      <td>1,040,000 dots</td>\n",
       "    </tr>\n",
       "    <tr>\n",
       "      <th>3</th>\n",
       "      <td>www.flipkart.com//2171</td>\n",
       "      <td>nikon</td>\n",
       "      <td>2.7</td>\n",
       "      <td>230,000 dots</td>\n",
       "    </tr>\n",
       "    <tr>\n",
       "      <th>4</th>\n",
       "      <td>www.flipkart.com//2258</td>\n",
       "      <td>nikon</td>\n",
       "      <td>3.0</td>\n",
       "      <td>460,000 dots</td>\n",
       "    </tr>\n",
       "  </tbody>\n",
       "</table>\n",
       "</div>"
      ],
      "text/plain": [
       "                  spec_id  brand  lcd screen size image display resolution\n",
       "0  www.flipkart.com//2219    NaN              NaN                      NaN\n",
       "1  www.flipkart.com//2167    NaN              NaN                      NaN\n",
       "2  www.flipkart.com//2188  canon              3.0           1,040,000 dots\n",
       "3  www.flipkart.com//2171  nikon              2.7             230,000 dots\n",
       "4  www.flipkart.com//2258  nikon              3.0             460,000 dots"
      ]
     },
     "execution_count": 14,
     "metadata": {},
     "output_type": "execute_result"
    }
   ],
   "source": [
    "df.head()"
   ]
  },
  {
   "cell_type": "markdown",
   "metadata": {},
   "source": [
    "## Image display resolution"
   ]
  },
  {
   "cell_type": "code",
   "execution_count": 15,
   "metadata": {},
   "outputs": [
    {
     "data": {
      "text/plain": [
       "230,000 dots      37\n",
       "921,000 dots      25\n",
       "460,800 dots       9\n",
       "460,000 dots       9\n",
       "230,400 dots       7\n",
       "1,040,000 dots     7\n",
       "921,600 dots       2\n",
       "1,036,800 dots     2\n",
       "920,000 dots       1\n",
       "461,000 dots       1\n",
       "Name: image display resolution, dtype: int64"
      ]
     },
     "execution_count": 15,
     "metadata": {},
     "output_type": "execute_result"
    }
   ],
   "source": [
    "df[\"image display resolution\"].value_counts()"
   ]
  },
  {
   "cell_type": "code",
   "execution_count": 16,
   "metadata": {},
   "outputs": [],
   "source": [
    "def clean_dots(value):\n",
    "    if pd.isna(value):\n",
    "        return value\n",
    "    else:\n",
    "        value = ' '.join(value.split())\n",
    "        value = value.replace(\",\", \"\")\n",
    "        value = value.replace(\"Dots\", \"d\")\n",
    "        value = value.replace(\"dots\", \"d\")\n",
    "        if bool(re.match(r\"[0-9]* [0-9]* d\", value)):\n",
    "            return value.replace(\" \", \"\")\n",
    "        elif bool(re.match(r\"[0-9]* d [0-9]*\", value)):\n",
    "            splitted = value.split()\n",
    "            return splitted[2] + splitted[0] + splitted[1]            \n",
    "        elif bool(re.match(r\"[0-9]* d\", value)):\n",
    "            return value.replace(\" \", \"\")\n",
    "                \n",
    "        return value.replace(\" \", \"\")"
   ]
  },
  {
   "cell_type": "code",
   "execution_count": 17,
   "metadata": {},
   "outputs": [],
   "source": [
    "df[\"image display resolution\"] = df[\"image display resolution\"].apply(clean_dots)"
   ]
  },
  {
   "cell_type": "code",
   "execution_count": 18,
   "metadata": {},
   "outputs": [
    {
     "data": {
      "text/html": [
       "<div>\n",
       "<style scoped>\n",
       "    .dataframe tbody tr th:only-of-type {\n",
       "        vertical-align: middle;\n",
       "    }\n",
       "\n",
       "    .dataframe tbody tr th {\n",
       "        vertical-align: top;\n",
       "    }\n",
       "\n",
       "    .dataframe thead th {\n",
       "        text-align: right;\n",
       "    }\n",
       "</style>\n",
       "<table border=\"1\" class=\"dataframe\">\n",
       "  <thead>\n",
       "    <tr style=\"text-align: right;\">\n",
       "      <th></th>\n",
       "      <th>spec_id</th>\n",
       "      <th>brand</th>\n",
       "      <th>lcd screen size</th>\n",
       "      <th>image display resolution</th>\n",
       "    </tr>\n",
       "  </thead>\n",
       "  <tbody>\n",
       "    <tr>\n",
       "      <th>0</th>\n",
       "      <td>www.flipkart.com//2219</td>\n",
       "      <td>NaN</td>\n",
       "      <td>NaN</td>\n",
       "      <td>NaN</td>\n",
       "    </tr>\n",
       "    <tr>\n",
       "      <th>1</th>\n",
       "      <td>www.flipkart.com//2167</td>\n",
       "      <td>NaN</td>\n",
       "      <td>NaN</td>\n",
       "      <td>NaN</td>\n",
       "    </tr>\n",
       "    <tr>\n",
       "      <th>2</th>\n",
       "      <td>www.flipkart.com//2188</td>\n",
       "      <td>canon</td>\n",
       "      <td>3.0</td>\n",
       "      <td>1040000d</td>\n",
       "    </tr>\n",
       "    <tr>\n",
       "      <th>3</th>\n",
       "      <td>www.flipkart.com//2171</td>\n",
       "      <td>nikon</td>\n",
       "      <td>2.7</td>\n",
       "      <td>230000d</td>\n",
       "    </tr>\n",
       "    <tr>\n",
       "      <th>4</th>\n",
       "      <td>www.flipkart.com//2258</td>\n",
       "      <td>nikon</td>\n",
       "      <td>3.0</td>\n",
       "      <td>460000d</td>\n",
       "    </tr>\n",
       "  </tbody>\n",
       "</table>\n",
       "</div>"
      ],
      "text/plain": [
       "                  spec_id  brand  lcd screen size image display resolution\n",
       "0  www.flipkart.com//2219    NaN              NaN                      NaN\n",
       "1  www.flipkart.com//2167    NaN              NaN                      NaN\n",
       "2  www.flipkart.com//2188  canon              3.0                 1040000d\n",
       "3  www.flipkart.com//2171  nikon              2.7                  230000d\n",
       "4  www.flipkart.com//2258  nikon              3.0                  460000d"
      ]
     },
     "execution_count": 18,
     "metadata": {},
     "output_type": "execute_result"
    }
   ],
   "source": [
    "df.head()"
   ]
  },
  {
   "cell_type": "markdown",
   "metadata": {},
   "source": [
    "## Saving"
   ]
  },
  {
   "cell_type": "code",
   "execution_count": 19,
   "metadata": {},
   "outputs": [
    {
     "data": {
      "text/html": [
       "<div>\n",
       "<style scoped>\n",
       "    .dataframe tbody tr th:only-of-type {\n",
       "        vertical-align: middle;\n",
       "    }\n",
       "\n",
       "    .dataframe tbody tr th {\n",
       "        vertical-align: top;\n",
       "    }\n",
       "\n",
       "    .dataframe thead th {\n",
       "        text-align: right;\n",
       "    }\n",
       "</style>\n",
       "<table border=\"1\" class=\"dataframe\">\n",
       "  <thead>\n",
       "    <tr style=\"text-align: right;\">\n",
       "      <th></th>\n",
       "      <th>spec_id</th>\n",
       "      <th>brand</th>\n",
       "      <th>lcd screen size</th>\n",
       "      <th>image display resolution</th>\n",
       "    </tr>\n",
       "  </thead>\n",
       "  <tbody>\n",
       "    <tr>\n",
       "      <th>0</th>\n",
       "      <td>www.flipkart.com//2219</td>\n",
       "      <td>NaN</td>\n",
       "      <td>NaN</td>\n",
       "      <td>NaN</td>\n",
       "    </tr>\n",
       "    <tr>\n",
       "      <th>1</th>\n",
       "      <td>www.flipkart.com//2167</td>\n",
       "      <td>NaN</td>\n",
       "      <td>NaN</td>\n",
       "      <td>NaN</td>\n",
       "    </tr>\n",
       "    <tr>\n",
       "      <th>2</th>\n",
       "      <td>www.flipkart.com//2188</td>\n",
       "      <td>canon</td>\n",
       "      <td>3.0</td>\n",
       "      <td>1040000d</td>\n",
       "    </tr>\n",
       "    <tr>\n",
       "      <th>3</th>\n",
       "      <td>www.flipkart.com//2171</td>\n",
       "      <td>nikon</td>\n",
       "      <td>2.7</td>\n",
       "      <td>230000d</td>\n",
       "    </tr>\n",
       "    <tr>\n",
       "      <th>4</th>\n",
       "      <td>www.flipkart.com//2258</td>\n",
       "      <td>nikon</td>\n",
       "      <td>3.0</td>\n",
       "      <td>460000d</td>\n",
       "    </tr>\n",
       "  </tbody>\n",
       "</table>\n",
       "</div>"
      ],
      "text/plain": [
       "                  spec_id  brand  lcd screen size image display resolution\n",
       "0  www.flipkart.com//2219    NaN              NaN                      NaN\n",
       "1  www.flipkart.com//2167    NaN              NaN                      NaN\n",
       "2  www.flipkart.com//2188  canon              3.0                 1040000d\n",
       "3  www.flipkart.com//2171  nikon              2.7                  230000d\n",
       "4  www.flipkart.com//2258  nikon              3.0                  460000d"
      ]
     },
     "execution_count": 19,
     "metadata": {},
     "output_type": "execute_result"
    }
   ],
   "source": [
    "df.head()"
   ]
  },
  {
   "cell_type": "code",
   "execution_count": 20,
   "metadata": {},
   "outputs": [],
   "source": [
    "df.to_csv(\"../../datasets/unlabeled/cleaned/flipkart.csv\", index=False)"
   ]
  },
  {
   "cell_type": "code",
   "execution_count": null,
   "metadata": {},
   "outputs": [],
   "source": []
  }
 ],
 "metadata": {
  "kernelspec": {
   "display_name": "Python 3",
   "language": "python",
   "name": "python3"
  },
  "language_info": {
   "codemirror_mode": {
    "name": "ipython",
    "version": 3
   },
   "file_extension": ".py",
   "mimetype": "text/x-python",
   "name": "python",
   "nbconvert_exporter": "python",
   "pygments_lexer": "ipython3",
   "version": "3.7.3"
  }
 },
 "nbformat": 4,
 "nbformat_minor": 4
}
