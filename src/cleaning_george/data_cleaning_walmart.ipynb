{
 "cells": [
  {
   "cell_type": "code",
   "execution_count": 1,
   "metadata": {},
   "outputs": [],
   "source": [
    "import os\n",
    "import numpy as np\n",
    "import json\n",
    "import pandas as pd\n",
    "import itertools\n",
    "from tqdm import tqdm\n",
    "import nltk\n",
    "from nltk.tokenize import word_tokenize\n",
    "import re\n",
    "import matplotlib.pyplot as plt"
   ]
  },
  {
   "cell_type": "code",
   "execution_count": 2,
   "metadata": {},
   "outputs": [],
   "source": [
    "def create_dataframe(dataset_path, source):\n",
    "    \"\"\"Function used to create a Pandas DataFrame containing specifications page titles\n",
    "\n",
    "    Reads products specifications from the file system (\"dataset_path\" variable in the main function) and creates a Pandas DataFrame where each row is a\n",
    "    specification. The columns are 'source' (e.g. www.sourceA.com), 'spec_number' (e.g. 1) and the 'page title'. Note that this script will consider only\n",
    "    the page title attribute for simplicity.\n",
    "\n",
    "    Args:\n",
    "        dataset_path (str): The path to the dataset\n",
    "\n",
    "    Returns:\n",
    "        df (pd.DataFrame): The Pandas DataFrame containing specifications and page titles\n",
    "    \"\"\"\n",
    "\n",
    "    print('>>> Creating dataframe...\\n')\n",
    "    columns_df = ['source', 'spec_number', 'spec_id', 'page_title']\n",
    "    \n",
    "    df = pd.DataFrame()\n",
    "    progressive_id = 0\n",
    "    progressive_id2row_df = {}\n",
    "    #for source in tqdm(os.listdir(dataset_path)):\n",
    "    #source = \"buy.net\"\n",
    "    for specification in os.listdir(os.path.join(dataset_path, source)):\n",
    "        specification_number = specification.replace('.json', '')\n",
    "        specification_id = '{}//{}'.format(source, specification_number)\n",
    "        with open(os.path.join(dataset_path, source, specification)) as specification_file:\n",
    "            columns_df = ['source', 'spec_number', 'spec_id']\n",
    "            specification_data = json.load(specification_file)\n",
    "            attrs = []\n",
    "            for k, v in specification_data.items():\n",
    "                columns_df.append(k)\n",
    "                attrs.append(v)\n",
    "            row = [source, specification_number, specification_id]\n",
    "            row.extend(attrs)\n",
    "            progressive_id2row_df.update({progressive_id: row})\n",
    "            progressive_id += 1\n",
    "            df = df.append(pd.DataFrame.from_dict(progressive_id2row_df, orient='index', columns=columns_df))\n",
    "            progressive_id2row_df = {}\n",
    "    #print(df)\n",
    "    print('>>> Dataframe created successfully!\\n')\n",
    "    return df"
   ]
  },
  {
   "cell_type": "code",
   "execution_count": 5,
   "metadata": {},
   "outputs": [
    {
     "name": "stdout",
     "output_type": "stream",
     "text": [
      ">>> Creating dataframe...\n",
      "\n"
     ]
    },
    {
     "name": "stderr",
     "output_type": "stream",
     "text": [
      "/Users/gfotiadis/anaconda3/lib/python3.7/site-packages/pandas/core/frame.py:6692: FutureWarning: Sorting because non-concatenation axis is not aligned. A future version\n",
      "of pandas will change to not sort by default.\n",
      "\n",
      "To accept the future behavior, pass 'sort=False'.\n",
      "\n",
      "To retain the current behavior and silence the warning, pass 'sort=True'.\n",
      "\n",
      "  sort=sort)\n"
     ]
    },
    {
     "name": "stdout",
     "output_type": "stream",
     "text": [
      ">>> Dataframe created successfully!\n",
      "\n"
     ]
    }
   ],
   "source": [
    "df = df = create_dataframe('../../datasets/unlabeled/2013_camera_specs', \"www.walmart.com\")"
   ]
  },
  {
   "cell_type": "code",
   "execution_count": 6,
   "metadata": {},
   "outputs": [],
   "source": [
    "cols = [\"spec_id\", \"product in inches l x w x h\", \"shipping weight in pounds\"]"
   ]
  },
  {
   "cell_type": "code",
   "execution_count": 7,
   "metadata": {},
   "outputs": [],
   "source": [
    "df = df[cols]"
   ]
  },
  {
   "cell_type": "code",
   "execution_count": 8,
   "metadata": {},
   "outputs": [
    {
     "data": {
      "text/html": [
       "<div>\n",
       "<style scoped>\n",
       "    .dataframe tbody tr th:only-of-type {\n",
       "        vertical-align: middle;\n",
       "    }\n",
       "\n",
       "    .dataframe tbody tr th {\n",
       "        vertical-align: top;\n",
       "    }\n",
       "\n",
       "    .dataframe thead th {\n",
       "        text-align: right;\n",
       "    }\n",
       "</style>\n",
       "<table border=\"1\" class=\"dataframe\">\n",
       "  <thead>\n",
       "    <tr style=\"text-align: right;\">\n",
       "      <th></th>\n",
       "      <th>spec_id</th>\n",
       "      <th>product in inches l x w x h</th>\n",
       "      <th>shipping weight in pounds</th>\n",
       "    </tr>\n",
       "  </thead>\n",
       "  <tbody>\n",
       "    <tr>\n",
       "      <th>0</th>\n",
       "      <td>www.walmart.com//729</td>\n",
       "      <td>3.8 x 0.8 x 2.2</td>\n",
       "      <td>1.1</td>\n",
       "    </tr>\n",
       "    <tr>\n",
       "      <th>1</th>\n",
       "      <td>www.walmart.com//683</td>\n",
       "      <td>4.18 x 2.43 x 0.85</td>\n",
       "      <td>0.75</td>\n",
       "    </tr>\n",
       "    <tr>\n",
       "      <th>2</th>\n",
       "      <td>www.walmart.com//768</td>\n",
       "      <td>3.98 x 2.38 x 1.13</td>\n",
       "      <td>5.3</td>\n",
       "    </tr>\n",
       "    <tr>\n",
       "      <th>3</th>\n",
       "      <td>www.walmart.com//787</td>\n",
       "      <td>2.9 x 5.8 x 4.4</td>\n",
       "      <td>4.25</td>\n",
       "    </tr>\n",
       "    <tr>\n",
       "      <th>4</th>\n",
       "      <td>www.walmart.com//154</td>\n",
       "      <td>5.9 x 9.3 x 3.9</td>\n",
       "      <td>2.1</td>\n",
       "    </tr>\n",
       "  </tbody>\n",
       "</table>\n",
       "</div>"
      ],
      "text/plain": [
       "                spec_id product in inches l x w x h shipping weight in pounds\n",
       "0  www.walmart.com//729             3.8 x 0.8 x 2.2                       1.1\n",
       "1  www.walmart.com//683          4.18 x 2.43 x 0.85                      0.75\n",
       "2  www.walmart.com//768          3.98 x 2.38 x 1.13                       5.3\n",
       "3  www.walmart.com//787             2.9 x 5.8 x 4.4                      4.25\n",
       "4  www.walmart.com//154             5.9 x 9.3 x 3.9                       2.1"
      ]
     },
     "execution_count": 8,
     "metadata": {},
     "output_type": "execute_result"
    }
   ],
   "source": [
    "df.head()"
   ]
  },
  {
   "cell_type": "markdown",
   "metadata": {},
   "source": [
    "## Product in inches l x w x h"
   ]
  },
  {
   "cell_type": "code",
   "execution_count": 13,
   "metadata": {},
   "outputs": [],
   "source": [
    "df = df.rename(columns = {\"product in inches l x w x h\" : \"dimensions\"})"
   ]
  },
  {
   "cell_type": "code",
   "execution_count": 15,
   "metadata": {},
   "outputs": [
    {
     "data": {
      "text/html": [
       "<div>\n",
       "<style scoped>\n",
       "    .dataframe tbody tr th:only-of-type {\n",
       "        vertical-align: middle;\n",
       "    }\n",
       "\n",
       "    .dataframe tbody tr th {\n",
       "        vertical-align: top;\n",
       "    }\n",
       "\n",
       "    .dataframe thead th {\n",
       "        text-align: right;\n",
       "    }\n",
       "</style>\n",
       "<table border=\"1\" class=\"dataframe\">\n",
       "  <thead>\n",
       "    <tr style=\"text-align: right;\">\n",
       "      <th></th>\n",
       "      <th>spec_id</th>\n",
       "      <th>dimensions</th>\n",
       "      <th>shipping weight in pounds</th>\n",
       "    </tr>\n",
       "  </thead>\n",
       "  <tbody>\n",
       "    <tr>\n",
       "      <th>0</th>\n",
       "      <td>www.walmart.com//729</td>\n",
       "      <td>3.8 x 0.8 x 2.2</td>\n",
       "      <td>1.1</td>\n",
       "    </tr>\n",
       "    <tr>\n",
       "      <th>1</th>\n",
       "      <td>www.walmart.com//683</td>\n",
       "      <td>4.18 x 2.43 x 0.85</td>\n",
       "      <td>0.75</td>\n",
       "    </tr>\n",
       "    <tr>\n",
       "      <th>2</th>\n",
       "      <td>www.walmart.com//768</td>\n",
       "      <td>3.98 x 2.38 x 1.13</td>\n",
       "      <td>5.3</td>\n",
       "    </tr>\n",
       "    <tr>\n",
       "      <th>3</th>\n",
       "      <td>www.walmart.com//787</td>\n",
       "      <td>2.9 x 5.8 x 4.4</td>\n",
       "      <td>4.25</td>\n",
       "    </tr>\n",
       "    <tr>\n",
       "      <th>4</th>\n",
       "      <td>www.walmart.com//154</td>\n",
       "      <td>5.9 x 9.3 x 3.9</td>\n",
       "      <td>2.1</td>\n",
       "    </tr>\n",
       "  </tbody>\n",
       "</table>\n",
       "</div>"
      ],
      "text/plain": [
       "                spec_id          dimensions shipping weight in pounds\n",
       "0  www.walmart.com//729     3.8 x 0.8 x 2.2                       1.1\n",
       "1  www.walmart.com//683  4.18 x 2.43 x 0.85                      0.75\n",
       "2  www.walmart.com//768  3.98 x 2.38 x 1.13                       5.3\n",
       "3  www.walmart.com//787     2.9 x 5.8 x 4.4                      4.25\n",
       "4  www.walmart.com//154     5.9 x 9.3 x 3.9                       2.1"
      ]
     },
     "execution_count": 15,
     "metadata": {},
     "output_type": "execute_result"
    }
   ],
   "source": [
    "df.head()"
   ]
  },
  {
   "cell_type": "code",
   "execution_count": 17,
   "metadata": {
    "collapsed": true,
    "jupyter": {
     "outputs_hidden": true
    }
   },
   "outputs": [
    {
     "data": {
      "text/plain": [
       "4.47 x 2.56 x 0.98      5\n",
       "4.0 x 3.0 x 2.0         5\n",
       "4.0 x 2.0 x 3.0         5\n",
       "1.0 x 4.1 x 2.4         4\n",
       "4.5 x 3.1 x 2.8         4\n",
       "3.8 x 2.4 x 1.2         4\n",
       "3.0 x 4.92 x 3.9        4\n",
       "3.97 x 2.41 x 0.81      4\n",
       "7.0 x 6.0 x 3.0         4\n",
       "5.0 x 3.8 x 3.1         4\n",
       "5.1 x 3.9 x 3.1         4\n",
       "4.0 x 3.0 x 1.0         4\n",
       "3.72 x 2.28 x 0.71      3\n",
       "5.3 x 4.2 x 3.0         3\n",
       "6.0 x 4.0 x 3.0         3\n",
       "4.3 x 3.2 x 2.9         3\n",
       "3.81 x 2.28 x 0.9       3\n",
       "3.1 x 5.5 x 4.1         2\n",
       "4.9 x 3.41 x 3.62       2\n",
       "4.875 x 3.33 x 3.625    2\n",
       "4.33 x 2.6 x 1.0        2\n",
       "0.7 x 3.1 x 2.1         2\n",
       "2.46 x 2.8 x 2.3        2\n",
       "4.87 x 3.5 x 3.38       2\n",
       "3.2 x 5.6 x 3.2         2\n",
       "4.37 x 2.53 x 1.59      2\n",
       "10.35 x 7.3 x 8.13      2\n",
       "1.38 x 4.63 x 2.5       2\n",
       "4.4 x 3.0 x 3.6         2\n",
       "5.08 x 2.8 x 0.75       2\n",
       "                       ..\n",
       "1.1 x 3.9 x 2.3         1\n",
       "7.4 x 3.4 x 3.0         1\n",
       "4.31 x 2.51 x 1.4       1\n",
       "4.38 x 1.44 x 2.5       1\n",
       "3.05 x 5.17 x 3.94      1\n",
       "6.85 x 9.45 x 3.9       1\n",
       "2.2 x 2.35 x 2.35       1\n",
       "5.0 x 3.0 x 3.0         1\n",
       "7.5 x 5.8 x 5.0         1\n",
       "7.09 x 1.81 x 8.9       1\n",
       "9.9 x 7.4 x 6.0         1\n",
       "3.9 x 0.7 x 2.2         1\n",
       "7.5 x 5.7 x 4.3         1\n",
       "10.5 x 9.5 x 8.25       1\n",
       "3.76 x 2.17 x 0.72      1\n",
       "3.79 x 0.66 x 2.19      1\n",
       "6.26 x 5.43 x 2.87      1\n",
       "6.3 x 5.7 x 4.2         1\n",
       "4.83 x 3.31 x 3.86      1\n",
       "5.2 x 3.9 x 3.1         1\n",
       "5.5 x 3.61 x 9.6        1\n",
       "4.0 x 1.4 x 2.4         1\n",
       "4.06 x 2.92 x 2.68      1\n",
       "4.0 x 1.5 x 2.28        1\n",
       "3.75 x 2.12 x 0.91      1\n",
       "4.5 x 2.625 x 2.75      1\n",
       "5.8 x 4.9 x 3.3         1\n",
       "4.8 x 2.51 x 1.6        1\n",
       "7.5 x 5.7 x 4.4         1\n",
       "8.27 x 3.3 x 6.02       1\n",
       "Name: dimensions, Length: 112, dtype: int64"
      ]
     },
     "execution_count": 17,
     "metadata": {},
     "output_type": "execute_result"
    }
   ],
   "source": [
    "df[\"dimensions\"].value_counts()"
   ]
  },
  {
   "cell_type": "code",
   "execution_count": 20,
   "metadata": {},
   "outputs": [],
   "source": [
    "def clean_dimensions_regex(value):\n",
    "    regex = r\"([0-9]+[.][0-9]+) x ([0-9]+[.][0-9]+) x ([0-9]+[.][0-9]+)\"\n",
    "    if pd.isna(value):\n",
    "        return value\n",
    "    else:\n",
    "        if re.match(regex, value):\n",
    "            groups = re.match(regex, value)\n",
    "            dimension = str(round(float(groups.group(3)), 1)) + \"h\" + str(round(float(groups.group(2)), 1)) + \"w\" + str(round(float(groups.group(1)), 1)) + \"d\"\n",
    "            return dimension\n",
    "        else:\n",
    "            return value"
   ]
  },
  {
   "cell_type": "code",
   "execution_count": 22,
   "metadata": {},
   "outputs": [],
   "source": [
    "df[\"dimensions\"] = df[\"dimensions\"].apply(clean_dimensions_regex)"
   ]
  },
  {
   "cell_type": "code",
   "execution_count": 23,
   "metadata": {},
   "outputs": [
    {
     "data": {
      "text/html": [
       "<div>\n",
       "<style scoped>\n",
       "    .dataframe tbody tr th:only-of-type {\n",
       "        vertical-align: middle;\n",
       "    }\n",
       "\n",
       "    .dataframe tbody tr th {\n",
       "        vertical-align: top;\n",
       "    }\n",
       "\n",
       "    .dataframe thead th {\n",
       "        text-align: right;\n",
       "    }\n",
       "</style>\n",
       "<table border=\"1\" class=\"dataframe\">\n",
       "  <thead>\n",
       "    <tr style=\"text-align: right;\">\n",
       "      <th></th>\n",
       "      <th>spec_id</th>\n",
       "      <th>dimensions</th>\n",
       "      <th>shipping weight in pounds</th>\n",
       "    </tr>\n",
       "  </thead>\n",
       "  <tbody>\n",
       "    <tr>\n",
       "      <th>0</th>\n",
       "      <td>www.walmart.com//729</td>\n",
       "      <td>2.2h0.8w3.8d</td>\n",
       "      <td>1.1</td>\n",
       "    </tr>\n",
       "    <tr>\n",
       "      <th>1</th>\n",
       "      <td>www.walmart.com//683</td>\n",
       "      <td>0.8h2.4w4.2d</td>\n",
       "      <td>0.75</td>\n",
       "    </tr>\n",
       "    <tr>\n",
       "      <th>2</th>\n",
       "      <td>www.walmart.com//768</td>\n",
       "      <td>1.1h2.4w4.0d</td>\n",
       "      <td>5.3</td>\n",
       "    </tr>\n",
       "    <tr>\n",
       "      <th>3</th>\n",
       "      <td>www.walmart.com//787</td>\n",
       "      <td>4.4h5.8w2.9d</td>\n",
       "      <td>4.25</td>\n",
       "    </tr>\n",
       "    <tr>\n",
       "      <th>4</th>\n",
       "      <td>www.walmart.com//154</td>\n",
       "      <td>3.9h9.3w5.9d</td>\n",
       "      <td>2.1</td>\n",
       "    </tr>\n",
       "  </tbody>\n",
       "</table>\n",
       "</div>"
      ],
      "text/plain": [
       "                spec_id    dimensions shipping weight in pounds\n",
       "0  www.walmart.com//729  2.2h0.8w3.8d                       1.1\n",
       "1  www.walmart.com//683  0.8h2.4w4.2d                      0.75\n",
       "2  www.walmart.com//768  1.1h2.4w4.0d                       5.3\n",
       "3  www.walmart.com//787  4.4h5.8w2.9d                      4.25\n",
       "4  www.walmart.com//154  3.9h9.3w5.9d                       2.1"
      ]
     },
     "execution_count": 23,
     "metadata": {},
     "output_type": "execute_result"
    }
   ],
   "source": [
    "df.head()"
   ]
  },
  {
   "cell_type": "markdown",
   "metadata": {},
   "source": [
    "## Shipping weight in pounds"
   ]
  },
  {
   "cell_type": "code",
   "execution_count": 24,
   "metadata": {},
   "outputs": [],
   "source": [
    "df = df.rename(columns = {\"shipping weight in pounds\" : \"weight\"})"
   ]
  },
  {
   "cell_type": "code",
   "execution_count": 26,
   "metadata": {
    "collapsed": true,
    "jupyter": {
     "outputs_hidden": true
    }
   },
   "outputs": [
    {
     "data": {
      "text/plain": [
       "1.0      27\n",
       "2.0      17\n",
       "0.6       6\n",
       "0.85      6\n",
       "3.6       5\n",
       "1.5       5\n",
       "1.7       5\n",
       "2.3       4\n",
       "2.1       4\n",
       "0.9       4\n",
       "0.93      4\n",
       "2.4       4\n",
       "6.65      4\n",
       "0.55      3\n",
       "1.1       3\n",
       "1.95      3\n",
       "2.05      3\n",
       "0.75      3\n",
       "1.9       3\n",
       "28.6      2\n",
       "4.96      2\n",
       "7.35      2\n",
       "14.55     2\n",
       "4.1       2\n",
       "1.4       2\n",
       "3.3       2\n",
       "5.95      2\n",
       "3.9       2\n",
       "7.0       2\n",
       "0.5       2\n",
       "         ..\n",
       "1.04      1\n",
       "0.7       1\n",
       "0.45      1\n",
       "0.96      1\n",
       "3.0       1\n",
       "0.29      1\n",
       "8.0       1\n",
       "4.25      1\n",
       "2.2       1\n",
       "29.98     1\n",
       "0.51      1\n",
       "0.86      1\n",
       "0.34      1\n",
       "0.35      1\n",
       "2.81      1\n",
       "1.2       1\n",
       "4.096     1\n",
       "11.51     1\n",
       "1.25      1\n",
       "0.97      1\n",
       "2.15      1\n",
       "1.35      1\n",
       "0.95      1\n",
       "7.6       1\n",
       "15.67     1\n",
       "0.4       1\n",
       "0.63      1\n",
       "5.35      1\n",
       "1.81      1\n",
       "1.05      1\n",
       "Name: weight, Length: 82, dtype: int64"
      ]
     },
     "execution_count": 26,
     "metadata": {},
     "output_type": "execute_result"
    }
   ],
   "source": [
    "df[\"weight\"].value_counts()"
   ]
  },
  {
   "cell_type": "code",
   "execution_count": 27,
   "metadata": {},
   "outputs": [],
   "source": [
    "def pounds_to_grams(value):\n",
    "    if pd.isna(value):\n",
    "        return value\n",
    "    else:\n",
    "        return int(round(float(value) * 454))"
   ]
  },
  {
   "cell_type": "code",
   "execution_count": 29,
   "metadata": {},
   "outputs": [],
   "source": [
    "df[\"weight\"] = df[\"weight\"].apply(pounds_to_grams)"
   ]
  },
  {
   "cell_type": "code",
   "execution_count": 30,
   "metadata": {},
   "outputs": [
    {
     "data": {
      "text/html": [
       "<div>\n",
       "<style scoped>\n",
       "    .dataframe tbody tr th:only-of-type {\n",
       "        vertical-align: middle;\n",
       "    }\n",
       "\n",
       "    .dataframe tbody tr th {\n",
       "        vertical-align: top;\n",
       "    }\n",
       "\n",
       "    .dataframe thead th {\n",
       "        text-align: right;\n",
       "    }\n",
       "</style>\n",
       "<table border=\"1\" class=\"dataframe\">\n",
       "  <thead>\n",
       "    <tr style=\"text-align: right;\">\n",
       "      <th></th>\n",
       "      <th>spec_id</th>\n",
       "      <th>dimensions</th>\n",
       "      <th>weight</th>\n",
       "    </tr>\n",
       "  </thead>\n",
       "  <tbody>\n",
       "    <tr>\n",
       "      <th>0</th>\n",
       "      <td>www.walmart.com//729</td>\n",
       "      <td>2.2h0.8w3.8d</td>\n",
       "      <td>499.0</td>\n",
       "    </tr>\n",
       "    <tr>\n",
       "      <th>1</th>\n",
       "      <td>www.walmart.com//683</td>\n",
       "      <td>0.8h2.4w4.2d</td>\n",
       "      <td>340.0</td>\n",
       "    </tr>\n",
       "    <tr>\n",
       "      <th>2</th>\n",
       "      <td>www.walmart.com//768</td>\n",
       "      <td>1.1h2.4w4.0d</td>\n",
       "      <td>2406.0</td>\n",
       "    </tr>\n",
       "    <tr>\n",
       "      <th>3</th>\n",
       "      <td>www.walmart.com//787</td>\n",
       "      <td>4.4h5.8w2.9d</td>\n",
       "      <td>1930.0</td>\n",
       "    </tr>\n",
       "    <tr>\n",
       "      <th>4</th>\n",
       "      <td>www.walmart.com//154</td>\n",
       "      <td>3.9h9.3w5.9d</td>\n",
       "      <td>953.0</td>\n",
       "    </tr>\n",
       "  </tbody>\n",
       "</table>\n",
       "</div>"
      ],
      "text/plain": [
       "                spec_id    dimensions  weight\n",
       "0  www.walmart.com//729  2.2h0.8w3.8d   499.0\n",
       "1  www.walmart.com//683  0.8h2.4w4.2d   340.0\n",
       "2  www.walmart.com//768  1.1h2.4w4.0d  2406.0\n",
       "3  www.walmart.com//787  4.4h5.8w2.9d  1930.0\n",
       "4  www.walmart.com//154  3.9h9.3w5.9d   953.0"
      ]
     },
     "execution_count": 30,
     "metadata": {},
     "output_type": "execute_result"
    }
   ],
   "source": [
    "df.head()"
   ]
  },
  {
   "cell_type": "markdown",
   "metadata": {},
   "source": [
    "## Saving"
   ]
  },
  {
   "cell_type": "code",
   "execution_count": 31,
   "metadata": {},
   "outputs": [],
   "source": [
    "df.to_csv(\"../../datasets/unlabeled/cleaned/walmart.csv\", index=False)"
   ]
  },
  {
   "cell_type": "code",
   "execution_count": null,
   "metadata": {},
   "outputs": [],
   "source": []
  }
 ],
 "metadata": {
  "kernelspec": {
   "display_name": "Python 3",
   "language": "python",
   "name": "python3"
  },
  "language_info": {
   "codemirror_mode": {
    "name": "ipython",
    "version": 3
   },
   "file_extension": ".py",
   "mimetype": "text/x-python",
   "name": "python",
   "nbconvert_exporter": "python",
   "pygments_lexer": "ipython3",
   "version": "3.7.3"
  }
 },
 "nbformat": 4,
 "nbformat_minor": 4
}
