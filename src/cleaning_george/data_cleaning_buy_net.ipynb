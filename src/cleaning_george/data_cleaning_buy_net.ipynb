{
 "cells": [
  {
   "cell_type": "code",
   "execution_count": 1,
   "metadata": {},
   "outputs": [],
   "source": [
    "import os\n",
    "import numpy as np\n",
    "import json\n",
    "import pandas as pd\n",
    "import itertools\n",
    "from tqdm import tqdm\n",
    "import nltk\n",
    "from nltk.tokenize import word_tokenize\n",
    "import matplotlib.pyplot as plt"
   ]
  },
  {
   "cell_type": "code",
   "execution_count": 2,
   "metadata": {},
   "outputs": [],
   "source": [
    "def create_dataframe(dataset_path, source, columns_df):\n",
    "    \"\"\"Function used to create a Pandas DataFrame containing specifications page titles\n",
    "\n",
    "    Reads products specifications from the file system (\"dataset_path\" variable in the main function) and creates a Pandas DataFrame where each row is a\n",
    "    specification. The columns are 'source' (e.g. www.sourceA.com), 'spec_number' (e.g. 1) and the 'page title'. Note that this script will consider only\n",
    "    the page title attribute for simplicity.\n",
    "\n",
    "    Args:\n",
    "        dataset_path (str): The path to the dataset\n",
    "\n",
    "    Returns:\n",
    "        df (pd.DataFrame): The Pandas DataFrame containing specifications and page titles\n",
    "    \"\"\"\n",
    "\n",
    "    print('>>> Creating dataframe...\\n')\n",
    "\n",
    "    progressive_id = 0\n",
    "    progressive_id2row_df = {}\n",
    "    for specification in os.listdir(os.path.join(dataset_path, source)):\n",
    "        specification_number = specification.replace('.json', '')\n",
    "        specification_id = '{}//{}'.format(source, specification_number)\n",
    "        with open(os.path.join(dataset_path, source, specification)) as specification_file:\n",
    "            specification_data = json.load(specification_file)\n",
    "        \n",
    "            screen_size = specification_data.get(\"lcd screen size\")\n",
    "            type_c = specification_data.get(\"camera type\")\n",
    "            megapixels = specification_data.get(\"effective megapixels\")\n",
    "            height = specification_data.get(\"height\")\n",
    "            width = specification_data.get(\"width\")\n",
    "            depth = specification_data.get(\"depth\")\n",
    "            weight = specification_data.get(\"weight\")\n",
    "            dots = specification_data.get(\"total pixels\")\n",
    "            row = (specification_id, screen_size, type_c, megapixels,height,width,depth,weight,dots)\n",
    "            progressive_id2row_df.update({progressive_id: row})\n",
    "            progressive_id += 1\n",
    "    df = pd.DataFrame.from_dict(progressive_id2row_df, orient='index', columns=columns_df)\n",
    "    print('>>> Dataframe created successfully!\\n')\n",
    "    return df"
   ]
  },
  {
   "cell_type": "code",
   "execution_count": 3,
   "metadata": {},
   "outputs": [
    {
     "name": "stdout",
     "output_type": "stream",
     "text": [
      ">>> Creating dataframe...\n",
      "\n",
      ">>> Dataframe created successfully!\n",
      "\n"
     ]
    }
   ],
   "source": [
    "df = create_dataframe('../../datasets/unlabeled/2013_camera_specs', \"buy.net\", [\"spec_id\", \"lcd screen size\", \"camera type\", \"effective megapixels\", \"height\", \"width\", \"depth\", \"weight\", \"total pixels\"])"
   ]
  },
  {
   "cell_type": "code",
   "execution_count": 4,
   "metadata": {},
   "outputs": [
    {
     "data": {
      "text/html": [
       "<div>\n",
       "<style scoped>\n",
       "    .dataframe tbody tr th:only-of-type {\n",
       "        vertical-align: middle;\n",
       "    }\n",
       "\n",
       "    .dataframe tbody tr th {\n",
       "        vertical-align: top;\n",
       "    }\n",
       "\n",
       "    .dataframe thead th {\n",
       "        text-align: right;\n",
       "    }\n",
       "</style>\n",
       "<table border=\"1\" class=\"dataframe\">\n",
       "  <thead>\n",
       "    <tr style=\"text-align: right;\">\n",
       "      <th></th>\n",
       "      <th>spec_id</th>\n",
       "      <th>lcd screen size</th>\n",
       "      <th>camera type</th>\n",
       "      <th>effective megapixels</th>\n",
       "      <th>height</th>\n",
       "      <th>width</th>\n",
       "      <th>depth</th>\n",
       "      <th>weight</th>\n",
       "      <th>total pixels</th>\n",
       "    </tr>\n",
       "  </thead>\n",
       "  <tbody>\n",
       "    <tr>\n",
       "      <th>0</th>\n",
       "      <td>buy.net//6036</td>\n",
       "      <td>3 in</td>\n",
       "      <td>Compact Camera</td>\n",
       "      <td>16 Megapixel</td>\n",
       "      <td>2.8 in</td>\n",
       "      <td>4.3 in</td>\n",
       "      <td>1.7 in</td>\n",
       "      <td>8.04 oz</td>\n",
       "      <td>16600000</td>\n",
       "    </tr>\n",
       "    <tr>\n",
       "      <th>1</th>\n",
       "      <td>buy.net//5860</td>\n",
       "      <td>3 in</td>\n",
       "      <td>Bridge Camera</td>\n",
       "      <td>12.1 Megapixel</td>\n",
       "      <td>3.4 in</td>\n",
       "      <td>4.9 in</td>\n",
       "      <td>4.3 in</td>\n",
       "      <td>1.30 lbs</td>\n",
       "      <td>12800000</td>\n",
       "    </tr>\n",
       "    <tr>\n",
       "      <th>2</th>\n",
       "      <td>buy.net//5925</td>\n",
       "      <td>3 in</td>\n",
       "      <td>Point &amp; Shoot Digital Camera</td>\n",
       "      <td>16000000 pixels</td>\n",
       "      <td>2.5 in</td>\n",
       "      <td>4.3 in</td>\n",
       "      <td>1.7 in</td>\n",
       "      <td>9.5 oz</td>\n",
       "      <td>None</td>\n",
       "    </tr>\n",
       "    <tr>\n",
       "      <th>3</th>\n",
       "      <td>buy.net//6061</td>\n",
       "      <td>2.5 in</td>\n",
       "      <td>Compact Camera</td>\n",
       "      <td>12.1 Megapixel</td>\n",
       "      <td>2.1 in</td>\n",
       "      <td>3.8 in</td>\n",
       "      <td>0.9 in</td>\n",
       "      <td>4.48 oz</td>\n",
       "      <td>12700000</td>\n",
       "    </tr>\n",
       "    <tr>\n",
       "      <th>4</th>\n",
       "      <td>buy.net//5837</td>\n",
       "      <td>3 in</td>\n",
       "      <td>Compact Camera</td>\n",
       "      <td>16 Megapixel</td>\n",
       "      <td>2.4 in</td>\n",
       "      <td>4.1 in</td>\n",
       "      <td>1.1 in</td>\n",
       "      <td>6.07 oz</td>\n",
       "      <td>16500000</td>\n",
       "    </tr>\n",
       "  </tbody>\n",
       "</table>\n",
       "</div>"
      ],
      "text/plain": [
       "         spec_id lcd screen size                   camera type  \\\n",
       "0  buy.net//6036            3 in                Compact Camera   \n",
       "1  buy.net//5860            3 in                 Bridge Camera   \n",
       "2  buy.net//5925            3 in  Point & Shoot Digital Camera   \n",
       "3  buy.net//6061          2.5 in                Compact Camera   \n",
       "4  buy.net//5837            3 in                Compact Camera   \n",
       "\n",
       "  effective megapixels  height   width   depth    weight total pixels  \n",
       "0         16 Megapixel  2.8 in  4.3 in  1.7 in   8.04 oz     16600000  \n",
       "1       12.1 Megapixel  3.4 in  4.9 in  4.3 in  1.30 lbs     12800000  \n",
       "2      16000000 pixels  2.5 in  4.3 in  1.7 in    9.5 oz         None  \n",
       "3       12.1 Megapixel  2.1 in  3.8 in  0.9 in   4.48 oz     12700000  \n",
       "4         16 Megapixel  2.4 in  4.1 in  1.1 in   6.07 oz     16500000  "
      ]
     },
     "execution_count": 4,
     "metadata": {},
     "output_type": "execute_result"
    }
   ],
   "source": [
    "df.head()"
   ]
  },
  {
   "cell_type": "code",
   "execution_count": 5,
   "metadata": {},
   "outputs": [],
   "source": [
    "cols = [\"spec_id\", \"lcd screen size\", \"camera type\", \"effective megapixels\", \"height\", \"width\", \"depth\", \"weight\", \"total pixels\"]"
   ]
  },
  {
   "cell_type": "code",
   "execution_count": 6,
   "metadata": {},
   "outputs": [],
   "source": [
    "df = df[cols]"
   ]
  },
  {
   "cell_type": "code",
   "execution_count": 7,
   "metadata": {},
   "outputs": [
    {
     "data": {
      "text/plain": [
       "spec_id                  0\n",
       "lcd screen size         24\n",
       "camera type             19\n",
       "effective megapixels    26\n",
       "height                  40\n",
       "width                   40\n",
       "depth                   41\n",
       "weight                  41\n",
       "total pixels            89\n",
       "dtype: int64"
      ]
     },
     "execution_count": 7,
     "metadata": {},
     "output_type": "execute_result"
    }
   ],
   "source": [
    "df.isna().sum()"
   ]
  },
  {
   "cell_type": "markdown",
   "metadata": {},
   "source": [
    "### Screen size"
   ]
  },
  {
   "cell_type": "code",
   "execution_count": 8,
   "metadata": {},
   "outputs": [
    {
     "data": {
      "text/html": [
       "<div>\n",
       "<style scoped>\n",
       "    .dataframe tbody tr th:only-of-type {\n",
       "        vertical-align: middle;\n",
       "    }\n",
       "\n",
       "    .dataframe tbody tr th {\n",
       "        vertical-align: top;\n",
       "    }\n",
       "\n",
       "    .dataframe thead th {\n",
       "        text-align: right;\n",
       "    }\n",
       "</style>\n",
       "<table border=\"1\" class=\"dataframe\">\n",
       "  <thead>\n",
       "    <tr style=\"text-align: right;\">\n",
       "      <th></th>\n",
       "      <th>spec_id</th>\n",
       "      <th>lcd screen size</th>\n",
       "      <th>camera type</th>\n",
       "      <th>effective megapixels</th>\n",
       "      <th>height</th>\n",
       "      <th>width</th>\n",
       "      <th>depth</th>\n",
       "      <th>weight</th>\n",
       "      <th>total pixels</th>\n",
       "    </tr>\n",
       "  </thead>\n",
       "  <tbody>\n",
       "    <tr>\n",
       "      <th>0</th>\n",
       "      <td>buy.net//6036</td>\n",
       "      <td>3 in</td>\n",
       "      <td>Compact Camera</td>\n",
       "      <td>16 Megapixel</td>\n",
       "      <td>2.8 in</td>\n",
       "      <td>4.3 in</td>\n",
       "      <td>1.7 in</td>\n",
       "      <td>8.04 oz</td>\n",
       "      <td>16600000</td>\n",
       "    </tr>\n",
       "    <tr>\n",
       "      <th>1</th>\n",
       "      <td>buy.net//5860</td>\n",
       "      <td>3 in</td>\n",
       "      <td>Bridge Camera</td>\n",
       "      <td>12.1 Megapixel</td>\n",
       "      <td>3.4 in</td>\n",
       "      <td>4.9 in</td>\n",
       "      <td>4.3 in</td>\n",
       "      <td>1.30 lbs</td>\n",
       "      <td>12800000</td>\n",
       "    </tr>\n",
       "    <tr>\n",
       "      <th>2</th>\n",
       "      <td>buy.net//5925</td>\n",
       "      <td>3 in</td>\n",
       "      <td>Point &amp; Shoot Digital Camera</td>\n",
       "      <td>16000000 pixels</td>\n",
       "      <td>2.5 in</td>\n",
       "      <td>4.3 in</td>\n",
       "      <td>1.7 in</td>\n",
       "      <td>9.5 oz</td>\n",
       "      <td>None</td>\n",
       "    </tr>\n",
       "    <tr>\n",
       "      <th>3</th>\n",
       "      <td>buy.net//6061</td>\n",
       "      <td>2.5 in</td>\n",
       "      <td>Compact Camera</td>\n",
       "      <td>12.1 Megapixel</td>\n",
       "      <td>2.1 in</td>\n",
       "      <td>3.8 in</td>\n",
       "      <td>0.9 in</td>\n",
       "      <td>4.48 oz</td>\n",
       "      <td>12700000</td>\n",
       "    </tr>\n",
       "    <tr>\n",
       "      <th>4</th>\n",
       "      <td>buy.net//5837</td>\n",
       "      <td>3 in</td>\n",
       "      <td>Compact Camera</td>\n",
       "      <td>16 Megapixel</td>\n",
       "      <td>2.4 in</td>\n",
       "      <td>4.1 in</td>\n",
       "      <td>1.1 in</td>\n",
       "      <td>6.07 oz</td>\n",
       "      <td>16500000</td>\n",
       "    </tr>\n",
       "  </tbody>\n",
       "</table>\n",
       "</div>"
      ],
      "text/plain": [
       "         spec_id lcd screen size                   camera type  \\\n",
       "0  buy.net//6036            3 in                Compact Camera   \n",
       "1  buy.net//5860            3 in                 Bridge Camera   \n",
       "2  buy.net//5925            3 in  Point & Shoot Digital Camera   \n",
       "3  buy.net//6061          2.5 in                Compact Camera   \n",
       "4  buy.net//5837            3 in                Compact Camera   \n",
       "\n",
       "  effective megapixels  height   width   depth    weight total pixels  \n",
       "0         16 Megapixel  2.8 in  4.3 in  1.7 in   8.04 oz     16600000  \n",
       "1       12.1 Megapixel  3.4 in  4.9 in  4.3 in  1.30 lbs     12800000  \n",
       "2      16000000 pixels  2.5 in  4.3 in  1.7 in    9.5 oz         None  \n",
       "3       12.1 Megapixel  2.1 in  3.8 in  0.9 in   4.48 oz     12700000  \n",
       "4         16 Megapixel  2.4 in  4.1 in  1.1 in   6.07 oz     16500000  "
      ]
     },
     "execution_count": 8,
     "metadata": {},
     "output_type": "execute_result"
    }
   ],
   "source": [
    "df.head()"
   ]
  },
  {
   "cell_type": "code",
   "execution_count": 9,
   "metadata": {},
   "outputs": [],
   "source": [
    "screen_size = df[\"lcd screen size\"]"
   ]
  },
  {
   "cell_type": "code",
   "execution_count": 10,
   "metadata": {},
   "outputs": [],
   "source": [
    "def clean_size(value):\n",
    "    if pd.isna(value):\n",
    "        return value\n",
    "    else:\n",
    "        return word_tokenize(value)[1]"
   ]
  },
  {
   "cell_type": "code",
   "execution_count": 11,
   "metadata": {},
   "outputs": [
    {
     "data": {
      "text/plain": [
       "in    334\n",
       "Name: lcd screen size, dtype: int64"
      ]
     },
     "execution_count": 11,
     "metadata": {},
     "output_type": "execute_result"
    }
   ],
   "source": [
    "#screen size values FIX\n",
    "pd.Series(screen_size.apply(clean_size)).value_counts()"
   ]
  },
  {
   "cell_type": "code",
   "execution_count": 12,
   "metadata": {},
   "outputs": [
    {
     "data": {
      "text/plain": [
       "24"
      ]
     },
     "execution_count": 12,
     "metadata": {},
     "output_type": "execute_result"
    }
   ],
   "source": [
    "sum(pd.isna(screen_size))"
   ]
  },
  {
   "cell_type": "code",
   "execution_count": 13,
   "metadata": {},
   "outputs": [],
   "source": [
    "def keep_inches(value):\n",
    "    if pd.isna(value):\n",
    "        return value\n",
    "    else:\n",
    "        return word_tokenize(value)[0]"
   ]
  },
  {
   "cell_type": "code",
   "execution_count": 14,
   "metadata": {},
   "outputs": [],
   "source": [
    "df[\"lcd screen size\"] = df[\"lcd screen size\"].apply(keep_inches)"
   ]
  },
  {
   "cell_type": "code",
   "execution_count": 15,
   "metadata": {},
   "outputs": [
    {
     "data": {
      "text/html": [
       "<div>\n",
       "<style scoped>\n",
       "    .dataframe tbody tr th:only-of-type {\n",
       "        vertical-align: middle;\n",
       "    }\n",
       "\n",
       "    .dataframe tbody tr th {\n",
       "        vertical-align: top;\n",
       "    }\n",
       "\n",
       "    .dataframe thead th {\n",
       "        text-align: right;\n",
       "    }\n",
       "</style>\n",
       "<table border=\"1\" class=\"dataframe\">\n",
       "  <thead>\n",
       "    <tr style=\"text-align: right;\">\n",
       "      <th></th>\n",
       "      <th>spec_id</th>\n",
       "      <th>lcd screen size</th>\n",
       "      <th>camera type</th>\n",
       "      <th>effective megapixels</th>\n",
       "      <th>height</th>\n",
       "      <th>width</th>\n",
       "      <th>depth</th>\n",
       "      <th>weight</th>\n",
       "      <th>total pixels</th>\n",
       "    </tr>\n",
       "  </thead>\n",
       "  <tbody>\n",
       "    <tr>\n",
       "      <th>0</th>\n",
       "      <td>buy.net//6036</td>\n",
       "      <td>3</td>\n",
       "      <td>Compact Camera</td>\n",
       "      <td>16 Megapixel</td>\n",
       "      <td>2.8 in</td>\n",
       "      <td>4.3 in</td>\n",
       "      <td>1.7 in</td>\n",
       "      <td>8.04 oz</td>\n",
       "      <td>16600000</td>\n",
       "    </tr>\n",
       "    <tr>\n",
       "      <th>1</th>\n",
       "      <td>buy.net//5860</td>\n",
       "      <td>3</td>\n",
       "      <td>Bridge Camera</td>\n",
       "      <td>12.1 Megapixel</td>\n",
       "      <td>3.4 in</td>\n",
       "      <td>4.9 in</td>\n",
       "      <td>4.3 in</td>\n",
       "      <td>1.30 lbs</td>\n",
       "      <td>12800000</td>\n",
       "    </tr>\n",
       "    <tr>\n",
       "      <th>2</th>\n",
       "      <td>buy.net//5925</td>\n",
       "      <td>3</td>\n",
       "      <td>Point &amp; Shoot Digital Camera</td>\n",
       "      <td>16000000 pixels</td>\n",
       "      <td>2.5 in</td>\n",
       "      <td>4.3 in</td>\n",
       "      <td>1.7 in</td>\n",
       "      <td>9.5 oz</td>\n",
       "      <td>None</td>\n",
       "    </tr>\n",
       "    <tr>\n",
       "      <th>3</th>\n",
       "      <td>buy.net//6061</td>\n",
       "      <td>2.5</td>\n",
       "      <td>Compact Camera</td>\n",
       "      <td>12.1 Megapixel</td>\n",
       "      <td>2.1 in</td>\n",
       "      <td>3.8 in</td>\n",
       "      <td>0.9 in</td>\n",
       "      <td>4.48 oz</td>\n",
       "      <td>12700000</td>\n",
       "    </tr>\n",
       "    <tr>\n",
       "      <th>4</th>\n",
       "      <td>buy.net//5837</td>\n",
       "      <td>3</td>\n",
       "      <td>Compact Camera</td>\n",
       "      <td>16 Megapixel</td>\n",
       "      <td>2.4 in</td>\n",
       "      <td>4.1 in</td>\n",
       "      <td>1.1 in</td>\n",
       "      <td>6.07 oz</td>\n",
       "      <td>16500000</td>\n",
       "    </tr>\n",
       "  </tbody>\n",
       "</table>\n",
       "</div>"
      ],
      "text/plain": [
       "         spec_id lcd screen size                   camera type  \\\n",
       "0  buy.net//6036               3                Compact Camera   \n",
       "1  buy.net//5860               3                 Bridge Camera   \n",
       "2  buy.net//5925               3  Point & Shoot Digital Camera   \n",
       "3  buy.net//6061             2.5                Compact Camera   \n",
       "4  buy.net//5837               3                Compact Camera   \n",
       "\n",
       "  effective megapixels  height   width   depth    weight total pixels  \n",
       "0         16 Megapixel  2.8 in  4.3 in  1.7 in   8.04 oz     16600000  \n",
       "1       12.1 Megapixel  3.4 in  4.9 in  4.3 in  1.30 lbs     12800000  \n",
       "2      16000000 pixels  2.5 in  4.3 in  1.7 in    9.5 oz         None  \n",
       "3       12.1 Megapixel  2.1 in  3.8 in  0.9 in   4.48 oz     12700000  \n",
       "4         16 Megapixel  2.4 in  4.1 in  1.1 in   6.07 oz     16500000  "
      ]
     },
     "execution_count": 15,
     "metadata": {},
     "output_type": "execute_result"
    }
   ],
   "source": [
    "df.head()"
   ]
  },
  {
   "cell_type": "markdown",
   "metadata": {},
   "source": [
    "### Effective Megapixels"
   ]
  },
  {
   "cell_type": "code",
   "execution_count": 16,
   "metadata": {},
   "outputs": [
    {
     "data": {
      "text/plain": [
       "Megapixel    193\n",
       "pixels       139\n",
       "Name: effective megapixels, dtype: int64"
      ]
     },
     "execution_count": 16,
     "metadata": {},
     "output_type": "execute_result"
    }
   ],
   "source": [
    "#screen size values\n",
    "pd.Series(df[\"effective megapixels\"].apply(clean_size)).value_counts()"
   ]
  },
  {
   "cell_type": "code",
   "execution_count": 17,
   "metadata": {},
   "outputs": [],
   "source": [
    "def pixels_to_megapixels(value):\n",
    "    if pd.isna(value):\n",
    "        return value\n",
    "    else:\n",
    "        metric = word_tokenize(value)[1]\n",
    "        if metric == \"pixels\":\n",
    "            to_convert = word_tokenize(value)[0].replace(\",\", \"\")\n",
    "            return float((to_convert)) / (10 ** 6)\n",
    "        else:\n",
    "            return float(word_tokenize(value)[0])"
   ]
  },
  {
   "cell_type": "code",
   "execution_count": 18,
   "metadata": {},
   "outputs": [],
   "source": [
    "df[\"effective megapixels\"] = df[\"effective megapixels\"].apply(pixels_to_megapixels).head()"
   ]
  },
  {
   "cell_type": "code",
   "execution_count": 19,
   "metadata": {},
   "outputs": [
    {
     "data": {
      "text/html": [
       "<div>\n",
       "<style scoped>\n",
       "    .dataframe tbody tr th:only-of-type {\n",
       "        vertical-align: middle;\n",
       "    }\n",
       "\n",
       "    .dataframe tbody tr th {\n",
       "        vertical-align: top;\n",
       "    }\n",
       "\n",
       "    .dataframe thead th {\n",
       "        text-align: right;\n",
       "    }\n",
       "</style>\n",
       "<table border=\"1\" class=\"dataframe\">\n",
       "  <thead>\n",
       "    <tr style=\"text-align: right;\">\n",
       "      <th></th>\n",
       "      <th>spec_id</th>\n",
       "      <th>lcd screen size</th>\n",
       "      <th>camera type</th>\n",
       "      <th>effective megapixels</th>\n",
       "      <th>height</th>\n",
       "      <th>width</th>\n",
       "      <th>depth</th>\n",
       "      <th>weight</th>\n",
       "      <th>total pixels</th>\n",
       "    </tr>\n",
       "  </thead>\n",
       "  <tbody>\n",
       "    <tr>\n",
       "      <th>0</th>\n",
       "      <td>buy.net//6036</td>\n",
       "      <td>3</td>\n",
       "      <td>Compact Camera</td>\n",
       "      <td>16.0</td>\n",
       "      <td>2.8 in</td>\n",
       "      <td>4.3 in</td>\n",
       "      <td>1.7 in</td>\n",
       "      <td>8.04 oz</td>\n",
       "      <td>16600000</td>\n",
       "    </tr>\n",
       "    <tr>\n",
       "      <th>1</th>\n",
       "      <td>buy.net//5860</td>\n",
       "      <td>3</td>\n",
       "      <td>Bridge Camera</td>\n",
       "      <td>12.1</td>\n",
       "      <td>3.4 in</td>\n",
       "      <td>4.9 in</td>\n",
       "      <td>4.3 in</td>\n",
       "      <td>1.30 lbs</td>\n",
       "      <td>12800000</td>\n",
       "    </tr>\n",
       "    <tr>\n",
       "      <th>2</th>\n",
       "      <td>buy.net//5925</td>\n",
       "      <td>3</td>\n",
       "      <td>Point &amp; Shoot Digital Camera</td>\n",
       "      <td>16.0</td>\n",
       "      <td>2.5 in</td>\n",
       "      <td>4.3 in</td>\n",
       "      <td>1.7 in</td>\n",
       "      <td>9.5 oz</td>\n",
       "      <td>None</td>\n",
       "    </tr>\n",
       "    <tr>\n",
       "      <th>3</th>\n",
       "      <td>buy.net//6061</td>\n",
       "      <td>2.5</td>\n",
       "      <td>Compact Camera</td>\n",
       "      <td>12.1</td>\n",
       "      <td>2.1 in</td>\n",
       "      <td>3.8 in</td>\n",
       "      <td>0.9 in</td>\n",
       "      <td>4.48 oz</td>\n",
       "      <td>12700000</td>\n",
       "    </tr>\n",
       "    <tr>\n",
       "      <th>4</th>\n",
       "      <td>buy.net//5837</td>\n",
       "      <td>3</td>\n",
       "      <td>Compact Camera</td>\n",
       "      <td>16.0</td>\n",
       "      <td>2.4 in</td>\n",
       "      <td>4.1 in</td>\n",
       "      <td>1.1 in</td>\n",
       "      <td>6.07 oz</td>\n",
       "      <td>16500000</td>\n",
       "    </tr>\n",
       "  </tbody>\n",
       "</table>\n",
       "</div>"
      ],
      "text/plain": [
       "         spec_id lcd screen size                   camera type  \\\n",
       "0  buy.net//6036               3                Compact Camera   \n",
       "1  buy.net//5860               3                 Bridge Camera   \n",
       "2  buy.net//5925               3  Point & Shoot Digital Camera   \n",
       "3  buy.net//6061             2.5                Compact Camera   \n",
       "4  buy.net//5837               3                Compact Camera   \n",
       "\n",
       "   effective megapixels  height   width   depth    weight total pixels  \n",
       "0                  16.0  2.8 in  4.3 in  1.7 in   8.04 oz     16600000  \n",
       "1                  12.1  3.4 in  4.9 in  4.3 in  1.30 lbs     12800000  \n",
       "2                  16.0  2.5 in  4.3 in  1.7 in    9.5 oz         None  \n",
       "3                  12.1  2.1 in  3.8 in  0.9 in   4.48 oz     12700000  \n",
       "4                  16.0  2.4 in  4.1 in  1.1 in   6.07 oz     16500000  "
      ]
     },
     "execution_count": 19,
     "metadata": {},
     "output_type": "execute_result"
    }
   ],
   "source": [
    "df.head()"
   ]
  },
  {
   "cell_type": "markdown",
   "metadata": {},
   "source": [
    "### Height width depth"
   ]
  },
  {
   "cell_type": "code",
   "execution_count": 20,
   "metadata": {},
   "outputs": [
    {
     "data": {
      "text/plain": [
       "in    316\n",
       "mm      2\n",
       "Name: height, dtype: int64"
      ]
     },
     "execution_count": 20,
     "metadata": {},
     "output_type": "execute_result"
    }
   ],
   "source": [
    "pd.Series(df[\"height\"].apply(clean_size)).value_counts()"
   ]
  },
  {
   "cell_type": "code",
   "execution_count": 21,
   "metadata": {},
   "outputs": [
    {
     "data": {
      "text/plain": [
       "in    316\n",
       "mm      2\n",
       "Name: width, dtype: int64"
      ]
     },
     "execution_count": 21,
     "metadata": {},
     "output_type": "execute_result"
    }
   ],
   "source": [
    "pd.Series(df[\"width\"].apply(clean_size)).value_counts()"
   ]
  },
  {
   "cell_type": "code",
   "execution_count": 22,
   "metadata": {},
   "outputs": [
    {
     "data": {
      "text/plain": [
       "in    315\n",
       "mm      2\n",
       "Name: depth, dtype: int64"
      ]
     },
     "execution_count": 22,
     "metadata": {},
     "output_type": "execute_result"
    }
   ],
   "source": [
    "pd.Series(df[\"depth\"].apply(clean_size)).value_counts()"
   ]
  },
  {
   "cell_type": "code",
   "execution_count": 23,
   "metadata": {},
   "outputs": [],
   "source": [
    "for index, row in df.iterrows():\n",
    "    if pd.isna(row[\"height\"]) or pd.isna(row[\"width\"]) or pd.isna(row[\"depth\"]):\n",
    "        df.at[index, \"height\"] = np.nan\n",
    "        df.at[index, \"width\"] = np.nan\n",
    "        df.at[index, \"depth\"] = np.nan"
   ]
  },
  {
   "cell_type": "code",
   "execution_count": 24,
   "metadata": {},
   "outputs": [
    {
     "data": {
      "text/plain": [
       "358"
      ]
     },
     "execution_count": 24,
     "metadata": {},
     "output_type": "execute_result"
    }
   ],
   "source": [
    "len(df[\"depth\"])"
   ]
  },
  {
   "cell_type": "code",
   "execution_count": 25,
   "metadata": {},
   "outputs": [],
   "source": [
    "def mm_to_inches(value):\n",
    "    if pd.isna(value):\n",
    "        return value\n",
    "    else:\n",
    "        to_convert = word_tokenize(value)[0]\n",
    "        metric = word_tokenize(value)[1]\n",
    "        if metric == \"mm\":\n",
    "            return round(float(to_convert) / 25.4, 1)\n",
    "        else:\n",
    "            return float(to_convert)"
   ]
  },
  {
   "cell_type": "code",
   "execution_count": 26,
   "metadata": {},
   "outputs": [],
   "source": [
    "df[\"height\"] = df[\"height\"].apply(mm_to_inches)"
   ]
  },
  {
   "cell_type": "code",
   "execution_count": 27,
   "metadata": {},
   "outputs": [],
   "source": [
    "df[\"depth\"] = df[\"depth\"].apply(mm_to_inches)\n",
    "df[\"width\"] = df[\"width\"].apply(mm_to_inches)"
   ]
  },
  {
   "cell_type": "code",
   "execution_count": 28,
   "metadata": {},
   "outputs": [
    {
     "data": {
      "text/html": [
       "<div>\n",
       "<style scoped>\n",
       "    .dataframe tbody tr th:only-of-type {\n",
       "        vertical-align: middle;\n",
       "    }\n",
       "\n",
       "    .dataframe tbody tr th {\n",
       "        vertical-align: top;\n",
       "    }\n",
       "\n",
       "    .dataframe thead th {\n",
       "        text-align: right;\n",
       "    }\n",
       "</style>\n",
       "<table border=\"1\" class=\"dataframe\">\n",
       "  <thead>\n",
       "    <tr style=\"text-align: right;\">\n",
       "      <th></th>\n",
       "      <th>spec_id</th>\n",
       "      <th>lcd screen size</th>\n",
       "      <th>camera type</th>\n",
       "      <th>effective megapixels</th>\n",
       "      <th>height</th>\n",
       "      <th>width</th>\n",
       "      <th>depth</th>\n",
       "      <th>weight</th>\n",
       "      <th>total pixels</th>\n",
       "    </tr>\n",
       "  </thead>\n",
       "  <tbody>\n",
       "    <tr>\n",
       "      <th>0</th>\n",
       "      <td>buy.net//6036</td>\n",
       "      <td>3</td>\n",
       "      <td>Compact Camera</td>\n",
       "      <td>16.0</td>\n",
       "      <td>2.8</td>\n",
       "      <td>4.3</td>\n",
       "      <td>1.7</td>\n",
       "      <td>8.04 oz</td>\n",
       "      <td>16600000</td>\n",
       "    </tr>\n",
       "    <tr>\n",
       "      <th>1</th>\n",
       "      <td>buy.net//5860</td>\n",
       "      <td>3</td>\n",
       "      <td>Bridge Camera</td>\n",
       "      <td>12.1</td>\n",
       "      <td>3.4</td>\n",
       "      <td>4.9</td>\n",
       "      <td>4.3</td>\n",
       "      <td>1.30 lbs</td>\n",
       "      <td>12800000</td>\n",
       "    </tr>\n",
       "    <tr>\n",
       "      <th>2</th>\n",
       "      <td>buy.net//5925</td>\n",
       "      <td>3</td>\n",
       "      <td>Point &amp; Shoot Digital Camera</td>\n",
       "      <td>16.0</td>\n",
       "      <td>2.5</td>\n",
       "      <td>4.3</td>\n",
       "      <td>1.7</td>\n",
       "      <td>9.5 oz</td>\n",
       "      <td>None</td>\n",
       "    </tr>\n",
       "    <tr>\n",
       "      <th>3</th>\n",
       "      <td>buy.net//6061</td>\n",
       "      <td>2.5</td>\n",
       "      <td>Compact Camera</td>\n",
       "      <td>12.1</td>\n",
       "      <td>2.1</td>\n",
       "      <td>3.8</td>\n",
       "      <td>0.9</td>\n",
       "      <td>4.48 oz</td>\n",
       "      <td>12700000</td>\n",
       "    </tr>\n",
       "    <tr>\n",
       "      <th>4</th>\n",
       "      <td>buy.net//5837</td>\n",
       "      <td>3</td>\n",
       "      <td>Compact Camera</td>\n",
       "      <td>16.0</td>\n",
       "      <td>2.4</td>\n",
       "      <td>4.1</td>\n",
       "      <td>1.1</td>\n",
       "      <td>6.07 oz</td>\n",
       "      <td>16500000</td>\n",
       "    </tr>\n",
       "  </tbody>\n",
       "</table>\n",
       "</div>"
      ],
      "text/plain": [
       "         spec_id lcd screen size                   camera type  \\\n",
       "0  buy.net//6036               3                Compact Camera   \n",
       "1  buy.net//5860               3                 Bridge Camera   \n",
       "2  buy.net//5925               3  Point & Shoot Digital Camera   \n",
       "3  buy.net//6061             2.5                Compact Camera   \n",
       "4  buy.net//5837               3                Compact Camera   \n",
       "\n",
       "   effective megapixels  height  width  depth    weight total pixels  \n",
       "0                  16.0     2.8    4.3    1.7   8.04 oz     16600000  \n",
       "1                  12.1     3.4    4.9    4.3  1.30 lbs     12800000  \n",
       "2                  16.0     2.5    4.3    1.7    9.5 oz         None  \n",
       "3                  12.1     2.1    3.8    0.9   4.48 oz     12700000  \n",
       "4                  16.0     2.4    4.1    1.1   6.07 oz     16500000  "
      ]
     },
     "execution_count": 28,
     "metadata": {},
     "output_type": "execute_result"
    }
   ],
   "source": [
    "df.head()"
   ]
  },
  {
   "cell_type": "code",
   "execution_count": 29,
   "metadata": {},
   "outputs": [],
   "source": [
    "def merge_dimensions(row):\n",
    "    if pd.isna(row[\"height\"]) or pd.isna(row[\"width\"]) or pd.isna(row[\"depth\"]):\n",
    "        row[\"dimension\"] = np.nan\n",
    "        return row\n",
    "    row[\"dimension\"] = str(row[\"height\"]) + 'h' + str(row[\"width\"]) + 'w' + str(row[\"depth\"])  + \"d\"\n",
    "    return row"
   ]
  },
  {
   "cell_type": "code",
   "execution_count": 30,
   "metadata": {},
   "outputs": [],
   "source": [
    "df = df.apply(merge_dimensions, axis = 1)"
   ]
  },
  {
   "cell_type": "code",
   "execution_count": 31,
   "metadata": {},
   "outputs": [
    {
     "data": {
      "text/html": [
       "<div>\n",
       "<style scoped>\n",
       "    .dataframe tbody tr th:only-of-type {\n",
       "        vertical-align: middle;\n",
       "    }\n",
       "\n",
       "    .dataframe tbody tr th {\n",
       "        vertical-align: top;\n",
       "    }\n",
       "\n",
       "    .dataframe thead th {\n",
       "        text-align: right;\n",
       "    }\n",
       "</style>\n",
       "<table border=\"1\" class=\"dataframe\">\n",
       "  <thead>\n",
       "    <tr style=\"text-align: right;\">\n",
       "      <th></th>\n",
       "      <th>spec_id</th>\n",
       "      <th>lcd screen size</th>\n",
       "      <th>camera type</th>\n",
       "      <th>effective megapixels</th>\n",
       "      <th>height</th>\n",
       "      <th>width</th>\n",
       "      <th>depth</th>\n",
       "      <th>weight</th>\n",
       "      <th>total pixels</th>\n",
       "      <th>dimension</th>\n",
       "    </tr>\n",
       "  </thead>\n",
       "  <tbody>\n",
       "    <tr>\n",
       "      <th>0</th>\n",
       "      <td>buy.net//6036</td>\n",
       "      <td>3</td>\n",
       "      <td>Compact Camera</td>\n",
       "      <td>16.0</td>\n",
       "      <td>2.8</td>\n",
       "      <td>4.3</td>\n",
       "      <td>1.7</td>\n",
       "      <td>8.04 oz</td>\n",
       "      <td>16600000</td>\n",
       "      <td>2.8h4.3w1.7d</td>\n",
       "    </tr>\n",
       "    <tr>\n",
       "      <th>1</th>\n",
       "      <td>buy.net//5860</td>\n",
       "      <td>3</td>\n",
       "      <td>Bridge Camera</td>\n",
       "      <td>12.1</td>\n",
       "      <td>3.4</td>\n",
       "      <td>4.9</td>\n",
       "      <td>4.3</td>\n",
       "      <td>1.30 lbs</td>\n",
       "      <td>12800000</td>\n",
       "      <td>3.4h4.9w4.3d</td>\n",
       "    </tr>\n",
       "    <tr>\n",
       "      <th>2</th>\n",
       "      <td>buy.net//5925</td>\n",
       "      <td>3</td>\n",
       "      <td>Point &amp; Shoot Digital Camera</td>\n",
       "      <td>16.0</td>\n",
       "      <td>2.5</td>\n",
       "      <td>4.3</td>\n",
       "      <td>1.7</td>\n",
       "      <td>9.5 oz</td>\n",
       "      <td>None</td>\n",
       "      <td>2.5h4.3w1.7d</td>\n",
       "    </tr>\n",
       "    <tr>\n",
       "      <th>3</th>\n",
       "      <td>buy.net//6061</td>\n",
       "      <td>2.5</td>\n",
       "      <td>Compact Camera</td>\n",
       "      <td>12.1</td>\n",
       "      <td>2.1</td>\n",
       "      <td>3.8</td>\n",
       "      <td>0.9</td>\n",
       "      <td>4.48 oz</td>\n",
       "      <td>12700000</td>\n",
       "      <td>2.1h3.8w0.9d</td>\n",
       "    </tr>\n",
       "    <tr>\n",
       "      <th>4</th>\n",
       "      <td>buy.net//5837</td>\n",
       "      <td>3</td>\n",
       "      <td>Compact Camera</td>\n",
       "      <td>16.0</td>\n",
       "      <td>2.4</td>\n",
       "      <td>4.1</td>\n",
       "      <td>1.1</td>\n",
       "      <td>6.07 oz</td>\n",
       "      <td>16500000</td>\n",
       "      <td>2.4h4.1w1.1d</td>\n",
       "    </tr>\n",
       "  </tbody>\n",
       "</table>\n",
       "</div>"
      ],
      "text/plain": [
       "         spec_id lcd screen size                   camera type  \\\n",
       "0  buy.net//6036               3                Compact Camera   \n",
       "1  buy.net//5860               3                 Bridge Camera   \n",
       "2  buy.net//5925               3  Point & Shoot Digital Camera   \n",
       "3  buy.net//6061             2.5                Compact Camera   \n",
       "4  buy.net//5837               3                Compact Camera   \n",
       "\n",
       "   effective megapixels  height  width  depth    weight total pixels  \\\n",
       "0                  16.0     2.8    4.3    1.7   8.04 oz     16600000   \n",
       "1                  12.1     3.4    4.9    4.3  1.30 lbs     12800000   \n",
       "2                  16.0     2.5    4.3    1.7    9.5 oz         None   \n",
       "3                  12.1     2.1    3.8    0.9   4.48 oz     12700000   \n",
       "4                  16.0     2.4    4.1    1.1   6.07 oz     16500000   \n",
       "\n",
       "      dimension  \n",
       "0  2.8h4.3w1.7d  \n",
       "1  3.4h4.9w4.3d  \n",
       "2  2.5h4.3w1.7d  \n",
       "3  2.1h3.8w0.9d  \n",
       "4  2.4h4.1w1.1d  "
      ]
     },
     "execution_count": 31,
     "metadata": {},
     "output_type": "execute_result"
    }
   ],
   "source": [
    "df.head()"
   ]
  },
  {
   "cell_type": "markdown",
   "metadata": {},
   "source": [
    "### Weight"
   ]
  },
  {
   "cell_type": "code",
   "execution_count": 32,
   "metadata": {},
   "outputs": [
    {
     "data": {
      "text/plain": [
       "oz     254\n",
       "lbs     60\n",
       "g        3\n",
       "Name: weight, dtype: int64"
      ]
     },
     "execution_count": 32,
     "metadata": {},
     "output_type": "execute_result"
    }
   ],
   "source": [
    "pd.Series(df[\"weight\"].apply(clean_size)).value_counts()"
   ]
  },
  {
   "cell_type": "code",
   "execution_count": 33,
   "metadata": {},
   "outputs": [],
   "source": [
    "def weight_to_grams_conversion(value):\n",
    "    if pd.isna(value):\n",
    "        return value\n",
    "    else:\n",
    "        to_convert = word_tokenize(value)[0]\n",
    "        metric = word_tokenize(value)[1]\n",
    "        if metric == \"oz\":\n",
    "            return int(round(float(to_convert) * 28.35))\n",
    "        elif metric == \"lbs\":\n",
    "            return int(round(float(to_convert) * 454))\n",
    "        else:\n",
    "            return int(round(float(to_convert)))"
   ]
  },
  {
   "cell_type": "code",
   "execution_count": 34,
   "metadata": {},
   "outputs": [],
   "source": [
    "df[\"weight\"] = df[\"weight\"].apply(weight_to_grams_conversion)"
   ]
  },
  {
   "cell_type": "code",
   "execution_count": 35,
   "metadata": {},
   "outputs": [
    {
     "data": {
      "text/html": [
       "<div>\n",
       "<style scoped>\n",
       "    .dataframe tbody tr th:only-of-type {\n",
       "        vertical-align: middle;\n",
       "    }\n",
       "\n",
       "    .dataframe tbody tr th {\n",
       "        vertical-align: top;\n",
       "    }\n",
       "\n",
       "    .dataframe thead th {\n",
       "        text-align: right;\n",
       "    }\n",
       "</style>\n",
       "<table border=\"1\" class=\"dataframe\">\n",
       "  <thead>\n",
       "    <tr style=\"text-align: right;\">\n",
       "      <th></th>\n",
       "      <th>spec_id</th>\n",
       "      <th>lcd screen size</th>\n",
       "      <th>camera type</th>\n",
       "      <th>effective megapixels</th>\n",
       "      <th>height</th>\n",
       "      <th>width</th>\n",
       "      <th>depth</th>\n",
       "      <th>weight</th>\n",
       "      <th>total pixels</th>\n",
       "      <th>dimension</th>\n",
       "    </tr>\n",
       "  </thead>\n",
       "  <tbody>\n",
       "    <tr>\n",
       "      <th>0</th>\n",
       "      <td>buy.net//6036</td>\n",
       "      <td>3</td>\n",
       "      <td>Compact Camera</td>\n",
       "      <td>16.0</td>\n",
       "      <td>2.8</td>\n",
       "      <td>4.3</td>\n",
       "      <td>1.7</td>\n",
       "      <td>228.0</td>\n",
       "      <td>16600000</td>\n",
       "      <td>2.8h4.3w1.7d</td>\n",
       "    </tr>\n",
       "    <tr>\n",
       "      <th>1</th>\n",
       "      <td>buy.net//5860</td>\n",
       "      <td>3</td>\n",
       "      <td>Bridge Camera</td>\n",
       "      <td>12.1</td>\n",
       "      <td>3.4</td>\n",
       "      <td>4.9</td>\n",
       "      <td>4.3</td>\n",
       "      <td>590.0</td>\n",
       "      <td>12800000</td>\n",
       "      <td>3.4h4.9w4.3d</td>\n",
       "    </tr>\n",
       "    <tr>\n",
       "      <th>2</th>\n",
       "      <td>buy.net//5925</td>\n",
       "      <td>3</td>\n",
       "      <td>Point &amp; Shoot Digital Camera</td>\n",
       "      <td>16.0</td>\n",
       "      <td>2.5</td>\n",
       "      <td>4.3</td>\n",
       "      <td>1.7</td>\n",
       "      <td>269.0</td>\n",
       "      <td>None</td>\n",
       "      <td>2.5h4.3w1.7d</td>\n",
       "    </tr>\n",
       "    <tr>\n",
       "      <th>3</th>\n",
       "      <td>buy.net//6061</td>\n",
       "      <td>2.5</td>\n",
       "      <td>Compact Camera</td>\n",
       "      <td>12.1</td>\n",
       "      <td>2.1</td>\n",
       "      <td>3.8</td>\n",
       "      <td>0.9</td>\n",
       "      <td>127.0</td>\n",
       "      <td>12700000</td>\n",
       "      <td>2.1h3.8w0.9d</td>\n",
       "    </tr>\n",
       "    <tr>\n",
       "      <th>4</th>\n",
       "      <td>buy.net//5837</td>\n",
       "      <td>3</td>\n",
       "      <td>Compact Camera</td>\n",
       "      <td>16.0</td>\n",
       "      <td>2.4</td>\n",
       "      <td>4.1</td>\n",
       "      <td>1.1</td>\n",
       "      <td>172.0</td>\n",
       "      <td>16500000</td>\n",
       "      <td>2.4h4.1w1.1d</td>\n",
       "    </tr>\n",
       "  </tbody>\n",
       "</table>\n",
       "</div>"
      ],
      "text/plain": [
       "         spec_id lcd screen size                   camera type  \\\n",
       "0  buy.net//6036               3                Compact Camera   \n",
       "1  buy.net//5860               3                 Bridge Camera   \n",
       "2  buy.net//5925               3  Point & Shoot Digital Camera   \n",
       "3  buy.net//6061             2.5                Compact Camera   \n",
       "4  buy.net//5837               3                Compact Camera   \n",
       "\n",
       "   effective megapixels  height  width  depth  weight total pixels  \\\n",
       "0                  16.0     2.8    4.3    1.7   228.0     16600000   \n",
       "1                  12.1     3.4    4.9    4.3   590.0     12800000   \n",
       "2                  16.0     2.5    4.3    1.7   269.0         None   \n",
       "3                  12.1     2.1    3.8    0.9   127.0     12700000   \n",
       "4                  16.0     2.4    4.1    1.1   172.0     16500000   \n",
       "\n",
       "      dimension  \n",
       "0  2.8h4.3w1.7d  \n",
       "1  3.4h4.9w4.3d  \n",
       "2  2.5h4.3w1.7d  \n",
       "3  2.1h3.8w0.9d  \n",
       "4  2.4h4.1w1.1d  "
      ]
     },
     "execution_count": 35,
     "metadata": {},
     "output_type": "execute_result"
    }
   ],
   "source": [
    "df.head()"
   ]
  },
  {
   "cell_type": "markdown",
   "metadata": {},
   "source": [
    "### Camera type"
   ]
  },
  {
   "cell_type": "code",
   "execution_count": 36,
   "metadata": {},
   "outputs": [],
   "source": [
    "def clean_camera_type(camera):\n",
    "    if pd.isna(camera):\n",
    "        return camera\n",
    "    else:\n",
    "        punctuation = \"!#$%&'()*+,-./:;<=>?@[\\]^_`{|}~€£¥₹₽\"\n",
    "        for p in punctuation:\n",
    "            camera = camera.replace(p, \"\")\n",
    "        camera = ' '.join(camera.split())\n",
    "        camera = camera.replace(\"camera\", \"\")\n",
    "        return camera.lower()"
   ]
  },
  {
   "cell_type": "code",
   "execution_count": 37,
   "metadata": {},
   "outputs": [],
   "source": [
    "df[\"camera type\"] = df[\"camera type\"].apply(clean_camera_type)"
   ]
  },
  {
   "cell_type": "code",
   "execution_count": 38,
   "metadata": {},
   "outputs": [
    {
     "data": {
      "text/plain": [
       "compact camera                            112\n",
       "point shoot digital camera                 82\n",
       "digital slr camera                         68\n",
       "mirrorless interchangeable lens camera     31\n",
       "mirrorless camera                          25\n",
       "bridge camera                              16\n",
       "surveillancenetwork camera                  2\n",
       "rangefinder                                 1\n",
       "digital camcorder                           1\n",
       "digital frame                               1\n",
       "Name: camera type, dtype: int64"
      ]
     },
     "execution_count": 38,
     "metadata": {},
     "output_type": "execute_result"
    }
   ],
   "source": [
    "df[\"camera type\"].value_counts()"
   ]
  },
  {
   "cell_type": "code",
   "execution_count": 39,
   "metadata": {},
   "outputs": [
    {
     "data": {
      "text/html": [
       "<div>\n",
       "<style scoped>\n",
       "    .dataframe tbody tr th:only-of-type {\n",
       "        vertical-align: middle;\n",
       "    }\n",
       "\n",
       "    .dataframe tbody tr th {\n",
       "        vertical-align: top;\n",
       "    }\n",
       "\n",
       "    .dataframe thead th {\n",
       "        text-align: right;\n",
       "    }\n",
       "</style>\n",
       "<table border=\"1\" class=\"dataframe\">\n",
       "  <thead>\n",
       "    <tr style=\"text-align: right;\">\n",
       "      <th></th>\n",
       "      <th>spec_id</th>\n",
       "      <th>lcd screen size</th>\n",
       "      <th>camera type</th>\n",
       "      <th>effective megapixels</th>\n",
       "      <th>height</th>\n",
       "      <th>width</th>\n",
       "      <th>depth</th>\n",
       "      <th>weight</th>\n",
       "      <th>total pixels</th>\n",
       "      <th>dimension</th>\n",
       "    </tr>\n",
       "  </thead>\n",
       "  <tbody>\n",
       "    <tr>\n",
       "      <th>0</th>\n",
       "      <td>buy.net//6036</td>\n",
       "      <td>3</td>\n",
       "      <td>compact camera</td>\n",
       "      <td>16.0</td>\n",
       "      <td>2.8</td>\n",
       "      <td>4.3</td>\n",
       "      <td>1.7</td>\n",
       "      <td>228.0</td>\n",
       "      <td>16600000</td>\n",
       "      <td>2.8h4.3w1.7d</td>\n",
       "    </tr>\n",
       "    <tr>\n",
       "      <th>1</th>\n",
       "      <td>buy.net//5860</td>\n",
       "      <td>3</td>\n",
       "      <td>bridge camera</td>\n",
       "      <td>12.1</td>\n",
       "      <td>3.4</td>\n",
       "      <td>4.9</td>\n",
       "      <td>4.3</td>\n",
       "      <td>590.0</td>\n",
       "      <td>12800000</td>\n",
       "      <td>3.4h4.9w4.3d</td>\n",
       "    </tr>\n",
       "    <tr>\n",
       "      <th>2</th>\n",
       "      <td>buy.net//5925</td>\n",
       "      <td>3</td>\n",
       "      <td>point shoot digital camera</td>\n",
       "      <td>16.0</td>\n",
       "      <td>2.5</td>\n",
       "      <td>4.3</td>\n",
       "      <td>1.7</td>\n",
       "      <td>269.0</td>\n",
       "      <td>None</td>\n",
       "      <td>2.5h4.3w1.7d</td>\n",
       "    </tr>\n",
       "    <tr>\n",
       "      <th>3</th>\n",
       "      <td>buy.net//6061</td>\n",
       "      <td>2.5</td>\n",
       "      <td>compact camera</td>\n",
       "      <td>12.1</td>\n",
       "      <td>2.1</td>\n",
       "      <td>3.8</td>\n",
       "      <td>0.9</td>\n",
       "      <td>127.0</td>\n",
       "      <td>12700000</td>\n",
       "      <td>2.1h3.8w0.9d</td>\n",
       "    </tr>\n",
       "    <tr>\n",
       "      <th>4</th>\n",
       "      <td>buy.net//5837</td>\n",
       "      <td>3</td>\n",
       "      <td>compact camera</td>\n",
       "      <td>16.0</td>\n",
       "      <td>2.4</td>\n",
       "      <td>4.1</td>\n",
       "      <td>1.1</td>\n",
       "      <td>172.0</td>\n",
       "      <td>16500000</td>\n",
       "      <td>2.4h4.1w1.1d</td>\n",
       "    </tr>\n",
       "  </tbody>\n",
       "</table>\n",
       "</div>"
      ],
      "text/plain": [
       "         spec_id lcd screen size                 camera type  \\\n",
       "0  buy.net//6036               3              compact camera   \n",
       "1  buy.net//5860               3               bridge camera   \n",
       "2  buy.net//5925               3  point shoot digital camera   \n",
       "3  buy.net//6061             2.5              compact camera   \n",
       "4  buy.net//5837               3              compact camera   \n",
       "\n",
       "   effective megapixels  height  width  depth  weight total pixels  \\\n",
       "0                  16.0     2.8    4.3    1.7   228.0     16600000   \n",
       "1                  12.1     3.4    4.9    4.3   590.0     12800000   \n",
       "2                  16.0     2.5    4.3    1.7   269.0         None   \n",
       "3                  12.1     2.1    3.8    0.9   127.0     12700000   \n",
       "4                  16.0     2.4    4.1    1.1   172.0     16500000   \n",
       "\n",
       "      dimension  \n",
       "0  2.8h4.3w1.7d  \n",
       "1  3.4h4.9w4.3d  \n",
       "2  2.5h4.3w1.7d  \n",
       "3  2.1h3.8w0.9d  \n",
       "4  2.4h4.1w1.1d  "
      ]
     },
     "execution_count": 39,
     "metadata": {},
     "output_type": "execute_result"
    }
   ],
   "source": [
    "df.head()"
   ]
  },
  {
   "cell_type": "markdown",
   "metadata": {},
   "source": [
    "### Final cleaning"
   ]
  },
  {
   "cell_type": "code",
   "execution_count": 40,
   "metadata": {},
   "outputs": [],
   "source": [
    "df = df.drop([\"height\", \"width\", \"depth\", \"total pixels\"], axis = 1)"
   ]
  },
  {
   "cell_type": "code",
   "execution_count": 41,
   "metadata": {},
   "outputs": [
    {
     "data": {
      "text/html": [
       "<div>\n",
       "<style scoped>\n",
       "    .dataframe tbody tr th:only-of-type {\n",
       "        vertical-align: middle;\n",
       "    }\n",
       "\n",
       "    .dataframe tbody tr th {\n",
       "        vertical-align: top;\n",
       "    }\n",
       "\n",
       "    .dataframe thead th {\n",
       "        text-align: right;\n",
       "    }\n",
       "</style>\n",
       "<table border=\"1\" class=\"dataframe\">\n",
       "  <thead>\n",
       "    <tr style=\"text-align: right;\">\n",
       "      <th></th>\n",
       "      <th>spec_id</th>\n",
       "      <th>lcd screen size</th>\n",
       "      <th>camera type</th>\n",
       "      <th>effective megapixels</th>\n",
       "      <th>weight</th>\n",
       "      <th>dimension</th>\n",
       "    </tr>\n",
       "  </thead>\n",
       "  <tbody>\n",
       "    <tr>\n",
       "      <th>0</th>\n",
       "      <td>buy.net//6036</td>\n",
       "      <td>3</td>\n",
       "      <td>compact camera</td>\n",
       "      <td>16.0</td>\n",
       "      <td>228.0</td>\n",
       "      <td>2.8h4.3w1.7d</td>\n",
       "    </tr>\n",
       "    <tr>\n",
       "      <th>1</th>\n",
       "      <td>buy.net//5860</td>\n",
       "      <td>3</td>\n",
       "      <td>bridge camera</td>\n",
       "      <td>12.1</td>\n",
       "      <td>590.0</td>\n",
       "      <td>3.4h4.9w4.3d</td>\n",
       "    </tr>\n",
       "    <tr>\n",
       "      <th>2</th>\n",
       "      <td>buy.net//5925</td>\n",
       "      <td>3</td>\n",
       "      <td>point shoot digital camera</td>\n",
       "      <td>16.0</td>\n",
       "      <td>269.0</td>\n",
       "      <td>2.5h4.3w1.7d</td>\n",
       "    </tr>\n",
       "    <tr>\n",
       "      <th>3</th>\n",
       "      <td>buy.net//6061</td>\n",
       "      <td>2.5</td>\n",
       "      <td>compact camera</td>\n",
       "      <td>12.1</td>\n",
       "      <td>127.0</td>\n",
       "      <td>2.1h3.8w0.9d</td>\n",
       "    </tr>\n",
       "    <tr>\n",
       "      <th>4</th>\n",
       "      <td>buy.net//5837</td>\n",
       "      <td>3</td>\n",
       "      <td>compact camera</td>\n",
       "      <td>16.0</td>\n",
       "      <td>172.0</td>\n",
       "      <td>2.4h4.1w1.1d</td>\n",
       "    </tr>\n",
       "  </tbody>\n",
       "</table>\n",
       "</div>"
      ],
      "text/plain": [
       "         spec_id lcd screen size                 camera type  \\\n",
       "0  buy.net//6036               3              compact camera   \n",
       "1  buy.net//5860               3               bridge camera   \n",
       "2  buy.net//5925               3  point shoot digital camera   \n",
       "3  buy.net//6061             2.5              compact camera   \n",
       "4  buy.net//5837               3              compact camera   \n",
       "\n",
       "   effective megapixels  weight     dimension  \n",
       "0                  16.0   228.0  2.8h4.3w1.7d  \n",
       "1                  12.1   590.0  3.4h4.9w4.3d  \n",
       "2                  16.0   269.0  2.5h4.3w1.7d  \n",
       "3                  12.1   127.0  2.1h3.8w0.9d  \n",
       "4                  16.0   172.0  2.4h4.1w1.1d  "
      ]
     },
     "execution_count": 41,
     "metadata": {},
     "output_type": "execute_result"
    }
   ],
   "source": [
    "df.head()"
   ]
  },
  {
   "cell_type": "code",
   "execution_count": 42,
   "metadata": {},
   "outputs": [
    {
     "data": {
      "text/plain": [
       "358"
      ]
     },
     "execution_count": 42,
     "metadata": {},
     "output_type": "execute_result"
    }
   ],
   "source": [
    "len(df)"
   ]
  },
  {
   "cell_type": "code",
   "execution_count": 43,
   "metadata": {},
   "outputs": [
    {
     "data": {
      "text/plain": [
       "spec_id                   0\n",
       "lcd screen size          24\n",
       "camera type              19\n",
       "effective megapixels    353\n",
       "weight                   41\n",
       "dimension                41\n",
       "dtype: int64"
      ]
     },
     "execution_count": 43,
     "metadata": {},
     "output_type": "execute_result"
    }
   ],
   "source": [
    "df.isna().sum()"
   ]
  },
  {
   "cell_type": "code",
   "execution_count": null,
   "metadata": {},
   "outputs": [],
   "source": []
  },
  {
   "cell_type": "code",
   "execution_count": 44,
   "metadata": {},
   "outputs": [
    {
     "data": {
      "text/html": [
       "<div>\n",
       "<style scoped>\n",
       "    .dataframe tbody tr th:only-of-type {\n",
       "        vertical-align: middle;\n",
       "    }\n",
       "\n",
       "    .dataframe tbody tr th {\n",
       "        vertical-align: top;\n",
       "    }\n",
       "\n",
       "    .dataframe thead th {\n",
       "        text-align: right;\n",
       "    }\n",
       "</style>\n",
       "<table border=\"1\" class=\"dataframe\">\n",
       "  <thead>\n",
       "    <tr style=\"text-align: right;\">\n",
       "      <th></th>\n",
       "      <th>spec_id</th>\n",
       "      <th>lcd screen size</th>\n",
       "      <th>camera type</th>\n",
       "      <th>effective megapixels</th>\n",
       "      <th>weight</th>\n",
       "      <th>dimension</th>\n",
       "    </tr>\n",
       "  </thead>\n",
       "  <tbody>\n",
       "    <tr>\n",
       "      <th>0</th>\n",
       "      <td>buy.net//6036</td>\n",
       "      <td>3</td>\n",
       "      <td>compact camera</td>\n",
       "      <td>16.0</td>\n",
       "      <td>228.0</td>\n",
       "      <td>2.8h4.3w1.7d</td>\n",
       "    </tr>\n",
       "    <tr>\n",
       "      <th>1</th>\n",
       "      <td>buy.net//5860</td>\n",
       "      <td>3</td>\n",
       "      <td>bridge camera</td>\n",
       "      <td>12.1</td>\n",
       "      <td>590.0</td>\n",
       "      <td>3.4h4.9w4.3d</td>\n",
       "    </tr>\n",
       "    <tr>\n",
       "      <th>2</th>\n",
       "      <td>buy.net//5925</td>\n",
       "      <td>3</td>\n",
       "      <td>point shoot digital camera</td>\n",
       "      <td>16.0</td>\n",
       "      <td>269.0</td>\n",
       "      <td>2.5h4.3w1.7d</td>\n",
       "    </tr>\n",
       "    <tr>\n",
       "      <th>3</th>\n",
       "      <td>buy.net//6061</td>\n",
       "      <td>2.5</td>\n",
       "      <td>compact camera</td>\n",
       "      <td>12.1</td>\n",
       "      <td>127.0</td>\n",
       "      <td>2.1h3.8w0.9d</td>\n",
       "    </tr>\n",
       "    <tr>\n",
       "      <th>4</th>\n",
       "      <td>buy.net//5837</td>\n",
       "      <td>3</td>\n",
       "      <td>compact camera</td>\n",
       "      <td>16.0</td>\n",
       "      <td>172.0</td>\n",
       "      <td>2.4h4.1w1.1d</td>\n",
       "    </tr>\n",
       "  </tbody>\n",
       "</table>\n",
       "</div>"
      ],
      "text/plain": [
       "         spec_id lcd screen size                 camera type  \\\n",
       "0  buy.net//6036               3              compact camera   \n",
       "1  buy.net//5860               3               bridge camera   \n",
       "2  buy.net//5925               3  point shoot digital camera   \n",
       "3  buy.net//6061             2.5              compact camera   \n",
       "4  buy.net//5837               3              compact camera   \n",
       "\n",
       "   effective megapixels  weight     dimension  \n",
       "0                  16.0   228.0  2.8h4.3w1.7d  \n",
       "1                  12.1   590.0  3.4h4.9w4.3d  \n",
       "2                  16.0   269.0  2.5h4.3w1.7d  \n",
       "3                  12.1   127.0  2.1h3.8w0.9d  \n",
       "4                  16.0   172.0  2.4h4.1w1.1d  "
      ]
     },
     "execution_count": 44,
     "metadata": {},
     "output_type": "execute_result"
    }
   ],
   "source": [
    "df.head()"
   ]
  },
  {
   "cell_type": "code",
   "execution_count": 45,
   "metadata": {},
   "outputs": [],
   "source": [
    "df.columns=[\"spec_id\", \"screen_size\", \"type\", \"megapixels\", \"weight\", \"dimensions\"]"
   ]
  },
  {
   "cell_type": "code",
   "execution_count": 46,
   "metadata": {},
   "outputs": [
    {
     "data": {
      "text/html": [
       "<div>\n",
       "<style scoped>\n",
       "    .dataframe tbody tr th:only-of-type {\n",
       "        vertical-align: middle;\n",
       "    }\n",
       "\n",
       "    .dataframe tbody tr th {\n",
       "        vertical-align: top;\n",
       "    }\n",
       "\n",
       "    .dataframe thead th {\n",
       "        text-align: right;\n",
       "    }\n",
       "</style>\n",
       "<table border=\"1\" class=\"dataframe\">\n",
       "  <thead>\n",
       "    <tr style=\"text-align: right;\">\n",
       "      <th></th>\n",
       "      <th>spec_id</th>\n",
       "      <th>screen_size</th>\n",
       "      <th>type</th>\n",
       "      <th>megapixels</th>\n",
       "      <th>weight</th>\n",
       "      <th>dimensions</th>\n",
       "    </tr>\n",
       "  </thead>\n",
       "  <tbody>\n",
       "    <tr>\n",
       "      <th>0</th>\n",
       "      <td>buy.net//6036</td>\n",
       "      <td>3</td>\n",
       "      <td>compact camera</td>\n",
       "      <td>16.0</td>\n",
       "      <td>228.0</td>\n",
       "      <td>2.8h4.3w1.7d</td>\n",
       "    </tr>\n",
       "    <tr>\n",
       "      <th>1</th>\n",
       "      <td>buy.net//5860</td>\n",
       "      <td>3</td>\n",
       "      <td>bridge camera</td>\n",
       "      <td>12.1</td>\n",
       "      <td>590.0</td>\n",
       "      <td>3.4h4.9w4.3d</td>\n",
       "    </tr>\n",
       "    <tr>\n",
       "      <th>2</th>\n",
       "      <td>buy.net//5925</td>\n",
       "      <td>3</td>\n",
       "      <td>point shoot digital camera</td>\n",
       "      <td>16.0</td>\n",
       "      <td>269.0</td>\n",
       "      <td>2.5h4.3w1.7d</td>\n",
       "    </tr>\n",
       "    <tr>\n",
       "      <th>3</th>\n",
       "      <td>buy.net//6061</td>\n",
       "      <td>2.5</td>\n",
       "      <td>compact camera</td>\n",
       "      <td>12.1</td>\n",
       "      <td>127.0</td>\n",
       "      <td>2.1h3.8w0.9d</td>\n",
       "    </tr>\n",
       "    <tr>\n",
       "      <th>4</th>\n",
       "      <td>buy.net//5837</td>\n",
       "      <td>3</td>\n",
       "      <td>compact camera</td>\n",
       "      <td>16.0</td>\n",
       "      <td>172.0</td>\n",
       "      <td>2.4h4.1w1.1d</td>\n",
       "    </tr>\n",
       "  </tbody>\n",
       "</table>\n",
       "</div>"
      ],
      "text/plain": [
       "         spec_id screen_size                        type  megapixels  weight  \\\n",
       "0  buy.net//6036           3              compact camera        16.0   228.0   \n",
       "1  buy.net//5860           3               bridge camera        12.1   590.0   \n",
       "2  buy.net//5925           3  point shoot digital camera        16.0   269.0   \n",
       "3  buy.net//6061         2.5              compact camera        12.1   127.0   \n",
       "4  buy.net//5837           3              compact camera        16.0   172.0   \n",
       "\n",
       "     dimensions  \n",
       "0  2.8h4.3w1.7d  \n",
       "1  3.4h4.9w4.3d  \n",
       "2  2.5h4.3w1.7d  \n",
       "3  2.1h3.8w0.9d  \n",
       "4  2.4h4.1w1.1d  "
      ]
     },
     "execution_count": 46,
     "metadata": {},
     "output_type": "execute_result"
    }
   ],
   "source": [
    "df.head()"
   ]
  },
  {
   "cell_type": "code",
   "execution_count": 47,
   "metadata": {},
   "outputs": [],
   "source": [
    "df.to_csv(\"../../datasets/unlabeled/cleaned/buy_net.csv\", index=False)"
   ]
  },
  {
   "cell_type": "code",
   "execution_count": null,
   "metadata": {},
   "outputs": [],
   "source": []
  }
 ],
 "metadata": {
  "kernelspec": {
   "display_name": "Python 3",
   "language": "python",
   "name": "python3"
  },
  "language_info": {
   "codemirror_mode": {
    "name": "ipython",
    "version": 3
   },
   "file_extension": ".py",
   "mimetype": "text/x-python",
   "name": "python",
   "nbconvert_exporter": "python",
   "pygments_lexer": "ipython3",
   "version": "3.7.3"
  }
 },
 "nbformat": 4,
 "nbformat_minor": 4
}
