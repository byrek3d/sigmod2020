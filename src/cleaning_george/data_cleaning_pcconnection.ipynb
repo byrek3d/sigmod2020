{
 "cells": [
  {
   "cell_type": "code",
   "execution_count": 1,
   "metadata": {},
   "outputs": [],
   "source": [
    "import os\n",
    "import numpy as np\n",
    "import json\n",
    "import pandas as pd\n",
    "import itertools\n",
    "from tqdm import tqdm\n",
    "import nltk\n",
    "from nltk.tokenize import word_tokenize\n",
    "import re\n",
    "import matplotlib.pyplot as plt"
   ]
  },
  {
   "cell_type": "code",
   "execution_count": 2,
   "metadata": {},
   "outputs": [],
   "source": [
    "def create_dataframe(dataset_path, source):\n",
    "    \"\"\"Function used to create a Pandas DataFrame containing specifications page titles\n",
    "\n",
    "    Reads products specifications from the file system (\"dataset_path\" variable in the main function) and creates a Pandas DataFrame where each row is a\n",
    "    specification. The columns are 'source' (e.g. www.sourceA.com), 'spec_number' (e.g. 1) and the 'page title'. Note that this script will consider only\n",
    "    the page title attribute for simplicity.\n",
    "\n",
    "    Args:\n",
    "        dataset_path (str): The path to the dataset\n",
    "\n",
    "    Returns:\n",
    "        df (pd.DataFrame): The Pandas DataFrame containing specifications and page titles\n",
    "    \"\"\"\n",
    "\n",
    "    print('>>> Creating dataframe...\\n')\n",
    "    columns_df = ['source', 'spec_number', 'spec_id', 'page_title']\n",
    "    \n",
    "    df = pd.DataFrame()\n",
    "    progressive_id = 0\n",
    "    progressive_id2row_df = {}\n",
    "    #for source in tqdm(os.listdir(dataset_path)):\n",
    "    #source = \"buy.net\"\n",
    "    for specification in os.listdir(os.path.join(dataset_path, source)):\n",
    "        specification_number = specification.replace('.json', '')\n",
    "        specification_id = '{}//{}'.format(source, specification_number)\n",
    "        with open(os.path.join(dataset_path, source, specification)) as specification_file:\n",
    "            columns_df = ['source', 'spec_number', 'spec_id']\n",
    "            specification_data = json.load(specification_file)\n",
    "            attrs = []\n",
    "            for k, v in specification_data.items():\n",
    "                columns_df.append(k)\n",
    "                attrs.append(v)\n",
    "            row = [source, specification_number, specification_id]\n",
    "            row.extend(attrs)\n",
    "            progressive_id2row_df.update({progressive_id: row})\n",
    "            progressive_id += 1\n",
    "            df = df.append(pd.DataFrame.from_dict(progressive_id2row_df, orient='index', columns=columns_df))\n",
    "            progressive_id2row_df = {}\n",
    "    #print(df)\n",
    "    print('>>> Dataframe created successfully!\\n')\n",
    "    return df"
   ]
  },
  {
   "cell_type": "code",
   "execution_count": 3,
   "metadata": {},
   "outputs": [
    {
     "name": "stdout",
     "output_type": "stream",
     "text": [
      ">>> Creating dataframe...\n",
      "\n",
      ">>> Dataframe created successfully!\n",
      "\n"
     ]
    }
   ],
   "source": [
    "df = create_dataframe('../../datasets/unlabeled/2013_camera_specs', \"www.pcconnection.com\")"
   ]
  },
  {
   "cell_type": "code",
   "execution_count": 4,
   "metadata": {},
   "outputs": [
    {
     "data": {
      "text/html": [
       "<div>\n",
       "<style scoped>\n",
       "    .dataframe tbody tr th:only-of-type {\n",
       "        vertical-align: middle;\n",
       "    }\n",
       "\n",
       "    .dataframe tbody tr th {\n",
       "        vertical-align: top;\n",
       "    }\n",
       "\n",
       "    .dataframe thead th {\n",
       "        text-align: right;\n",
       "    }\n",
       "</style>\n",
       "<table border=\"1\" class=\"dataframe\">\n",
       "  <thead>\n",
       "    <tr style=\"text-align: right;\">\n",
       "      <th></th>\n",
       "      <th>source</th>\n",
       "      <th>spec_number</th>\n",
       "      <th>spec_id</th>\n",
       "      <th>35mm equivalent focal length max</th>\n",
       "      <th>35mm equivalent focal length min</th>\n",
       "      <th>&lt;page title&gt;</th>\n",
       "      <th>camera type</th>\n",
       "      <th>color</th>\n",
       "      <th>display size</th>\n",
       "      <th>flash type</th>\n",
       "      <th>...</th>\n",
       "      <th>lens aperture</th>\n",
       "      <th>memory notes</th>\n",
       "      <th>storage capacity</th>\n",
       "      <th>digital video format</th>\n",
       "      <th>light sensitivity</th>\n",
       "      <th>video input type</th>\n",
       "      <th>still image format</th>\n",
       "      <th>battery run time max</th>\n",
       "      <th>red eye reduction</th>\n",
       "      <th>warranty details</th>\n",
       "    </tr>\n",
       "  </thead>\n",
       "  <tbody>\n",
       "    <tr>\n",
       "      <th>0</th>\n",
       "      <td>www.pcconnection.com</td>\n",
       "      <td>4452</td>\n",
       "      <td>www.pcconnection.com//4452</td>\n",
       "      <td>100.00 mm</td>\n",
       "      <td>25.00 mm</td>\n",
       "      <td>Buy Fujifilm XF1 Digital Camera, 12MP, 4x Zoom...</td>\n",
       "      <td>Compact</td>\n",
       "      <td>Red</td>\n",
       "      <td>3 in</td>\n",
       "      <td>Pop-up flash</td>\n",
       "      <td>...</td>\n",
       "      <td>NaN</td>\n",
       "      <td>NaN</td>\n",
       "      <td>NaN</td>\n",
       "      <td>NaN</td>\n",
       "      <td>NaN</td>\n",
       "      <td>NaN</td>\n",
       "      <td>NaN</td>\n",
       "      <td>NaN</td>\n",
       "      <td>NaN</td>\n",
       "      <td>NaN</td>\n",
       "    </tr>\n",
       "    <tr>\n",
       "      <th>1</th>\n",
       "      <td>www.pcconnection.com</td>\n",
       "      <td>4451</td>\n",
       "      <td>www.pcconnection.com//4451</td>\n",
       "      <td>NaN</td>\n",
       "      <td>NaN</td>\n",
       "      <td>Buy Nikon WR-T10 Wireless Remote Controller Ca...</td>\n",
       "      <td>NaN</td>\n",
       "      <td>NaN</td>\n",
       "      <td>NaN</td>\n",
       "      <td>NaN</td>\n",
       "      <td>...</td>\n",
       "      <td>NaN</td>\n",
       "      <td>NaN</td>\n",
       "      <td>NaN</td>\n",
       "      <td>NaN</td>\n",
       "      <td>NaN</td>\n",
       "      <td>NaN</td>\n",
       "      <td>NaN</td>\n",
       "      <td>NaN</td>\n",
       "      <td>NaN</td>\n",
       "      <td>NaN</td>\n",
       "    </tr>\n",
       "    <tr>\n",
       "      <th>2</th>\n",
       "      <td>www.pcconnection.com</td>\n",
       "      <td>12419</td>\n",
       "      <td>www.pcconnection.com//12419</td>\n",
       "      <td>450 mm</td>\n",
       "      <td>25 mm</td>\n",
       "      <td>Buy Canon PowerShot SX600 HS, 16MP, 18x Zoom, ...</td>\n",
       "      <td>Point &amp; Shoot camera</td>\n",
       "      <td>White</td>\n",
       "      <td>3 in</td>\n",
       "      <td>Pop-up flash</td>\n",
       "      <td>...</td>\n",
       "      <td>NaN</td>\n",
       "      <td>NaN</td>\n",
       "      <td>NaN</td>\n",
       "      <td>NaN</td>\n",
       "      <td>NaN</td>\n",
       "      <td>NaN</td>\n",
       "      <td>NaN</td>\n",
       "      <td>NaN</td>\n",
       "      <td>NaN</td>\n",
       "      <td>NaN</td>\n",
       "    </tr>\n",
       "    <tr>\n",
       "      <th>3</th>\n",
       "      <td>www.pcconnection.com</td>\n",
       "      <td>12378</td>\n",
       "      <td>www.pcconnection.com//12378</td>\n",
       "      <td>NaN</td>\n",
       "      <td>NaN</td>\n",
       "      <td>Buy Fujifilm FinePix JX680 Digital Camera, 16M...</td>\n",
       "      <td>Compact</td>\n",
       "      <td>Red</td>\n",
       "      <td>3 in</td>\n",
       "      <td>Built-in flash</td>\n",
       "      <td>...</td>\n",
       "      <td>NaN</td>\n",
       "      <td>NaN</td>\n",
       "      <td>NaN</td>\n",
       "      <td>NaN</td>\n",
       "      <td>NaN</td>\n",
       "      <td>NaN</td>\n",
       "      <td>NaN</td>\n",
       "      <td>NaN</td>\n",
       "      <td>NaN</td>\n",
       "      <td>NaN</td>\n",
       "    </tr>\n",
       "    <tr>\n",
       "      <th>4</th>\n",
       "      <td>www.pcconnection.com</td>\n",
       "      <td>4475</td>\n",
       "      <td>www.pcconnection.com//4475</td>\n",
       "      <td>112.00 mm</td>\n",
       "      <td>28.00 mm</td>\n",
       "      <td>Buy Olympus STYLUS XZ-2 iHS Digital Camera, 12...</td>\n",
       "      <td>Compact</td>\n",
       "      <td>Black</td>\n",
       "      <td>3 in</td>\n",
       "      <td>Pop-up flash</td>\n",
       "      <td>...</td>\n",
       "      <td>NaN</td>\n",
       "      <td>NaN</td>\n",
       "      <td>NaN</td>\n",
       "      <td>NaN</td>\n",
       "      <td>NaN</td>\n",
       "      <td>NaN</td>\n",
       "      <td>NaN</td>\n",
       "      <td>NaN</td>\n",
       "      <td>NaN</td>\n",
       "      <td>NaN</td>\n",
       "    </tr>\n",
       "  </tbody>\n",
       "</table>\n",
       "<p>5 rows × 46 columns</p>\n",
       "</div>"
      ],
      "text/plain": [
       "                 source spec_number                      spec_id  \\\n",
       "0  www.pcconnection.com        4452   www.pcconnection.com//4452   \n",
       "1  www.pcconnection.com        4451   www.pcconnection.com//4451   \n",
       "2  www.pcconnection.com       12419  www.pcconnection.com//12419   \n",
       "3  www.pcconnection.com       12378  www.pcconnection.com//12378   \n",
       "4  www.pcconnection.com        4475   www.pcconnection.com//4475   \n",
       "\n",
       "  35mm equivalent focal length max 35mm equivalent focal length min  \\\n",
       "0                        100.00 mm                         25.00 mm   \n",
       "1                              NaN                              NaN   \n",
       "2                           450 mm                            25 mm   \n",
       "3                              NaN                              NaN   \n",
       "4                        112.00 mm                         28.00 mm   \n",
       "\n",
       "                                        <page title>           camera type  \\\n",
       "0  Buy Fujifilm XF1 Digital Camera, 12MP, 4x Zoom...               Compact   \n",
       "1  Buy Nikon WR-T10 Wireless Remote Controller Ca...                   NaN   \n",
       "2  Buy Canon PowerShot SX600 HS, 16MP, 18x Zoom, ...  Point & Shoot camera   \n",
       "3  Buy Fujifilm FinePix JX680 Digital Camera, 16M...               Compact   \n",
       "4  Buy Olympus STYLUS XZ-2 iHS Digital Camera, 12...               Compact   \n",
       "\n",
       "   color display size      flash type  ... lens aperture memory notes  \\\n",
       "0    Red         3 in    Pop-up flash  ...           NaN          NaN   \n",
       "1    NaN          NaN             NaN  ...           NaN          NaN   \n",
       "2  White         3 in    Pop-up flash  ...           NaN          NaN   \n",
       "3    Red         3 in  Built-in flash  ...           NaN          NaN   \n",
       "4  Black         3 in    Pop-up flash  ...           NaN          NaN   \n",
       "\n",
       "  storage capacity digital video format light sensitivity video input type  \\\n",
       "0              NaN                  NaN               NaN              NaN   \n",
       "1              NaN                  NaN               NaN              NaN   \n",
       "2              NaN                  NaN               NaN              NaN   \n",
       "3              NaN                  NaN               NaN              NaN   \n",
       "4              NaN                  NaN               NaN              NaN   \n",
       "\n",
       "  still image format battery run time max red eye reduction warranty details  \n",
       "0                NaN                  NaN               NaN              NaN  \n",
       "1                NaN                  NaN               NaN              NaN  \n",
       "2                NaN                  NaN               NaN              NaN  \n",
       "3                NaN                  NaN               NaN              NaN  \n",
       "4                NaN                  NaN               NaN              NaN  \n",
       "\n",
       "[5 rows x 46 columns]"
      ]
     },
     "execution_count": 4,
     "metadata": {},
     "output_type": "execute_result"
    }
   ],
   "source": [
    "df.head()"
   ]
  },
  {
   "cell_type": "code",
   "execution_count": 5,
   "metadata": {},
   "outputs": [],
   "source": [
    "cols = [\"spec_id\", \"camera type\", \"display size\", \"megapixels\"]"
   ]
  },
  {
   "cell_type": "code",
   "execution_count": 6,
   "metadata": {},
   "outputs": [],
   "source": [
    "df = df[cols]"
   ]
  },
  {
   "cell_type": "code",
   "execution_count": 7,
   "metadata": {},
   "outputs": [
    {
     "data": {
      "text/html": [
       "<div>\n",
       "<style scoped>\n",
       "    .dataframe tbody tr th:only-of-type {\n",
       "        vertical-align: middle;\n",
       "    }\n",
       "\n",
       "    .dataframe tbody tr th {\n",
       "        vertical-align: top;\n",
       "    }\n",
       "\n",
       "    .dataframe thead th {\n",
       "        text-align: right;\n",
       "    }\n",
       "</style>\n",
       "<table border=\"1\" class=\"dataframe\">\n",
       "  <thead>\n",
       "    <tr style=\"text-align: right;\">\n",
       "      <th></th>\n",
       "      <th>spec_id</th>\n",
       "      <th>camera type</th>\n",
       "      <th>display size</th>\n",
       "      <th>megapixels</th>\n",
       "    </tr>\n",
       "  </thead>\n",
       "  <tbody>\n",
       "    <tr>\n",
       "      <th>0</th>\n",
       "      <td>www.pcconnection.com//4452</td>\n",
       "      <td>Compact</td>\n",
       "      <td>3 in</td>\n",
       "      <td>12 megapixel(s)</td>\n",
       "    </tr>\n",
       "    <tr>\n",
       "      <th>1</th>\n",
       "      <td>www.pcconnection.com//4451</td>\n",
       "      <td>NaN</td>\n",
       "      <td>NaN</td>\n",
       "      <td>NaN</td>\n",
       "    </tr>\n",
       "    <tr>\n",
       "      <th>2</th>\n",
       "      <td>www.pcconnection.com//12419</td>\n",
       "      <td>Point &amp; Shoot camera</td>\n",
       "      <td>3 in</td>\n",
       "      <td>16 megapixel(s)</td>\n",
       "    </tr>\n",
       "    <tr>\n",
       "      <th>3</th>\n",
       "      <td>www.pcconnection.com//12378</td>\n",
       "      <td>Compact</td>\n",
       "      <td>3 in</td>\n",
       "      <td>16 megapixel(s)</td>\n",
       "    </tr>\n",
       "    <tr>\n",
       "      <th>4</th>\n",
       "      <td>www.pcconnection.com//4475</td>\n",
       "      <td>Compact</td>\n",
       "      <td>3 in</td>\n",
       "      <td>12 megapixel(s)</td>\n",
       "    </tr>\n",
       "  </tbody>\n",
       "</table>\n",
       "</div>"
      ],
      "text/plain": [
       "                       spec_id           camera type display size  \\\n",
       "0   www.pcconnection.com//4452               Compact         3 in   \n",
       "1   www.pcconnection.com//4451                   NaN          NaN   \n",
       "2  www.pcconnection.com//12419  Point & Shoot camera         3 in   \n",
       "3  www.pcconnection.com//12378               Compact         3 in   \n",
       "4   www.pcconnection.com//4475               Compact         3 in   \n",
       "\n",
       "        megapixels  \n",
       "0  12 megapixel(s)  \n",
       "1              NaN  \n",
       "2  16 megapixel(s)  \n",
       "3  16 megapixel(s)  \n",
       "4  12 megapixel(s)  "
      ]
     },
     "execution_count": 7,
     "metadata": {},
     "output_type": "execute_result"
    }
   ],
   "source": [
    "df.head()"
   ]
  },
  {
   "cell_type": "markdown",
   "metadata": {},
   "source": [
    "## Camera type"
   ]
  },
  {
   "cell_type": "code",
   "execution_count": 8,
   "metadata": {},
   "outputs": [
    {
     "data": {
      "text/plain": [
       "Compact                        89\n",
       "Mirrorless system              45\n",
       "SLR camera                     35\n",
       "Point & Shoot camera           16\n",
       "Smartphone attachable           2\n",
       "Point & Shoot / Zoom camera     1\n",
       "Name: camera type, dtype: int64"
      ]
     },
     "execution_count": 8,
     "metadata": {},
     "output_type": "execute_result"
    }
   ],
   "source": [
    "df[\"camera type\"].value_counts()"
   ]
  },
  {
   "cell_type": "code",
   "execution_count": 9,
   "metadata": {},
   "outputs": [],
   "source": [
    "def clean_camera_type(camera):\n",
    "    if pd.isna(camera):\n",
    "        return camera\n",
    "    else:\n",
    "        punctuation = \"!#$%&'()*+,-./:;<=>?@[\\]^_`{|}~€£¥₹₽\"\n",
    "        camera = camera.lower()\n",
    "        for p in punctuation:\n",
    "            camera = camera.replace(p, \"\")\n",
    "        camera = camera.replace(\"camera\", \"\")\n",
    "        camera = camera.replace(\"zoom\", \"\")\n",
    "        camera = ' '.join(camera.split())\n",
    "        return camera"
   ]
  },
  {
   "cell_type": "code",
   "execution_count": 10,
   "metadata": {},
   "outputs": [
    {
     "data": {
      "text/plain": [
       "compact                  89\n",
       "mirrorless system        45\n",
       "slr                      35\n",
       "point shoot              17\n",
       "smartphone attachable     2\n",
       "Name: camera type, dtype: int64"
      ]
     },
     "execution_count": 10,
     "metadata": {},
     "output_type": "execute_result"
    }
   ],
   "source": [
    "df[\"camera type\"].apply(clean_camera_type).value_counts()"
   ]
  },
  {
   "cell_type": "code",
   "execution_count": 11,
   "metadata": {},
   "outputs": [],
   "source": [
    "df[\"camera type\"] = df[\"camera type\"].apply(clean_camera_type)"
   ]
  },
  {
   "cell_type": "markdown",
   "metadata": {},
   "source": [
    "## Display size"
   ]
  },
  {
   "cell_type": "code",
   "execution_count": 12,
   "metadata": {},
   "outputs": [
    {
     "data": {
      "text/plain": [
       "3 in      134\n",
       "2.7 in     27\n",
       "3.2 in     14\n",
       "3.3 in      3\n",
       "2.5 in      2\n",
       "4.8 in      2\n",
       "2.4 in      2\n",
       "3.5 in      1\n",
       "2.8 in      1\n",
       "Name: display size, dtype: int64"
      ]
     },
     "execution_count": 12,
     "metadata": {},
     "output_type": "execute_result"
    }
   ],
   "source": [
    "df[\"display size\"].value_counts()"
   ]
  },
  {
   "cell_type": "code",
   "execution_count": 13,
   "metadata": {},
   "outputs": [],
   "source": [
    "def clean_display_size(value):\n",
    "    if pd.isna(value):\n",
    "        return value\n",
    "    else:\n",
    "        return float(value.split()[0])"
   ]
  },
  {
   "cell_type": "code",
   "execution_count": 14,
   "metadata": {},
   "outputs": [],
   "source": [
    "df[\"display size\"] = df[\"display size\"].apply(clean_display_size)"
   ]
  },
  {
   "cell_type": "code",
   "execution_count": 15,
   "metadata": {},
   "outputs": [
    {
     "data": {
      "text/html": [
       "<div>\n",
       "<style scoped>\n",
       "    .dataframe tbody tr th:only-of-type {\n",
       "        vertical-align: middle;\n",
       "    }\n",
       "\n",
       "    .dataframe tbody tr th {\n",
       "        vertical-align: top;\n",
       "    }\n",
       "\n",
       "    .dataframe thead th {\n",
       "        text-align: right;\n",
       "    }\n",
       "</style>\n",
       "<table border=\"1\" class=\"dataframe\">\n",
       "  <thead>\n",
       "    <tr style=\"text-align: right;\">\n",
       "      <th></th>\n",
       "      <th>spec_id</th>\n",
       "      <th>camera type</th>\n",
       "      <th>display size</th>\n",
       "      <th>megapixels</th>\n",
       "    </tr>\n",
       "  </thead>\n",
       "  <tbody>\n",
       "    <tr>\n",
       "      <th>0</th>\n",
       "      <td>www.pcconnection.com//4452</td>\n",
       "      <td>compact</td>\n",
       "      <td>3.0</td>\n",
       "      <td>12 megapixel(s)</td>\n",
       "    </tr>\n",
       "    <tr>\n",
       "      <th>1</th>\n",
       "      <td>www.pcconnection.com//4451</td>\n",
       "      <td>NaN</td>\n",
       "      <td>NaN</td>\n",
       "      <td>NaN</td>\n",
       "    </tr>\n",
       "    <tr>\n",
       "      <th>2</th>\n",
       "      <td>www.pcconnection.com//12419</td>\n",
       "      <td>point shoot</td>\n",
       "      <td>3.0</td>\n",
       "      <td>16 megapixel(s)</td>\n",
       "    </tr>\n",
       "    <tr>\n",
       "      <th>3</th>\n",
       "      <td>www.pcconnection.com//12378</td>\n",
       "      <td>compact</td>\n",
       "      <td>3.0</td>\n",
       "      <td>16 megapixel(s)</td>\n",
       "    </tr>\n",
       "    <tr>\n",
       "      <th>4</th>\n",
       "      <td>www.pcconnection.com//4475</td>\n",
       "      <td>compact</td>\n",
       "      <td>3.0</td>\n",
       "      <td>12 megapixel(s)</td>\n",
       "    </tr>\n",
       "  </tbody>\n",
       "</table>\n",
       "</div>"
      ],
      "text/plain": [
       "                       spec_id  camera type  display size       megapixels\n",
       "0   www.pcconnection.com//4452      compact           3.0  12 megapixel(s)\n",
       "1   www.pcconnection.com//4451          NaN           NaN              NaN\n",
       "2  www.pcconnection.com//12419  point shoot           3.0  16 megapixel(s)\n",
       "3  www.pcconnection.com//12378      compact           3.0  16 megapixel(s)\n",
       "4   www.pcconnection.com//4475      compact           3.0  12 megapixel(s)"
      ]
     },
     "execution_count": 15,
     "metadata": {},
     "output_type": "execute_result"
    }
   ],
   "source": [
    "df.head()"
   ]
  },
  {
   "cell_type": "markdown",
   "metadata": {},
   "source": [
    "## Megapixels"
   ]
  },
  {
   "cell_type": "code",
   "execution_count": 16,
   "metadata": {},
   "outputs": [
    {
     "data": {
      "text/plain": [
       "16.1 megapixel(s)     36\n",
       "16 megapixel(s)       35\n",
       "16.2 megapixel(s)     10\n",
       "14.2 megapixel(s)      9\n",
       "18 megapixel(s)        9\n",
       "20.1 megapixel(s)      8\n",
       "18.2 megapixel(s)      8\n",
       "12 megapixel(s)        7\n",
       "24.3 megapixel(s)      6\n",
       "12.1 megapixel(s)      6\n",
       "24.2 megapixel(s)      5\n",
       "20.2 megapixel(s)      4\n",
       "10.1 megapixel(s)      4\n",
       "16.3 megapixel(s)      4\n",
       "24.1 megapixel(s)      4\n",
       "16.4 megapixel(s)      4\n",
       "20 megapixel(s)        4\n",
       "13.2 megapixel(s)      3\n",
       "23.35 megapixel(s)     2\n",
       "20.4 megapixel(s)      2\n",
       "12.4 megapixel(s)      2\n",
       "12.2 megapixel(s)      2\n",
       "36.3 megapixel(s)      2\n",
       "22.3 megapixel(s)      2\n",
       "20.9 megapixel(s)      1\n",
       "36.4 megapixel(s)      1\n",
       "12.3 megapixel(s)      1\n",
       "9.1 megapixel(s)       1\n",
       "14.4 megapixel(s)      1\n",
       "18.4 megapixel(s)      1\n",
       "14.14 megapixel(s)     1\n",
       "20.3 megapixel(s)      1\n",
       "14 megapixel(s)        1\n",
       "Name: megapixels, dtype: int64"
      ]
     },
     "execution_count": 16,
     "metadata": {},
     "output_type": "execute_result"
    }
   ],
   "source": [
    "df[\"megapixels\"].value_counts()"
   ]
  },
  {
   "cell_type": "code",
   "execution_count": 17,
   "metadata": {},
   "outputs": [],
   "source": [
    "def clean_megapixels(value):\n",
    "    if pd.isna(value):\n",
    "        return value\n",
    "    else:\n",
    "        return round(float(value.split()[0]), 1)"
   ]
  },
  {
   "cell_type": "code",
   "execution_count": 18,
   "metadata": {},
   "outputs": [],
   "source": [
    "df[\"megapixels\"] = df[\"megapixels\"].apply(clean_megapixels)"
   ]
  },
  {
   "cell_type": "code",
   "execution_count": 19,
   "metadata": {},
   "outputs": [
    {
     "data": {
      "text/html": [
       "<div>\n",
       "<style scoped>\n",
       "    .dataframe tbody tr th:only-of-type {\n",
       "        vertical-align: middle;\n",
       "    }\n",
       "\n",
       "    .dataframe tbody tr th {\n",
       "        vertical-align: top;\n",
       "    }\n",
       "\n",
       "    .dataframe thead th {\n",
       "        text-align: right;\n",
       "    }\n",
       "</style>\n",
       "<table border=\"1\" class=\"dataframe\">\n",
       "  <thead>\n",
       "    <tr style=\"text-align: right;\">\n",
       "      <th></th>\n",
       "      <th>spec_id</th>\n",
       "      <th>camera type</th>\n",
       "      <th>display size</th>\n",
       "      <th>megapixels</th>\n",
       "    </tr>\n",
       "  </thead>\n",
       "  <tbody>\n",
       "    <tr>\n",
       "      <th>0</th>\n",
       "      <td>www.pcconnection.com//4452</td>\n",
       "      <td>compact</td>\n",
       "      <td>3.0</td>\n",
       "      <td>12.0</td>\n",
       "    </tr>\n",
       "    <tr>\n",
       "      <th>1</th>\n",
       "      <td>www.pcconnection.com//4451</td>\n",
       "      <td>NaN</td>\n",
       "      <td>NaN</td>\n",
       "      <td>NaN</td>\n",
       "    </tr>\n",
       "    <tr>\n",
       "      <th>2</th>\n",
       "      <td>www.pcconnection.com//12419</td>\n",
       "      <td>point shoot</td>\n",
       "      <td>3.0</td>\n",
       "      <td>16.0</td>\n",
       "    </tr>\n",
       "    <tr>\n",
       "      <th>3</th>\n",
       "      <td>www.pcconnection.com//12378</td>\n",
       "      <td>compact</td>\n",
       "      <td>3.0</td>\n",
       "      <td>16.0</td>\n",
       "    </tr>\n",
       "    <tr>\n",
       "      <th>4</th>\n",
       "      <td>www.pcconnection.com//4475</td>\n",
       "      <td>compact</td>\n",
       "      <td>3.0</td>\n",
       "      <td>12.0</td>\n",
       "    </tr>\n",
       "  </tbody>\n",
       "</table>\n",
       "</div>"
      ],
      "text/plain": [
       "                       spec_id  camera type  display size  megapixels\n",
       "0   www.pcconnection.com//4452      compact           3.0        12.0\n",
       "1   www.pcconnection.com//4451          NaN           NaN         NaN\n",
       "2  www.pcconnection.com//12419  point shoot           3.0        16.0\n",
       "3  www.pcconnection.com//12378      compact           3.0        16.0\n",
       "4   www.pcconnection.com//4475      compact           3.0        12.0"
      ]
     },
     "execution_count": 19,
     "metadata": {},
     "output_type": "execute_result"
    }
   ],
   "source": [
    "df.head()"
   ]
  },
  {
   "cell_type": "markdown",
   "metadata": {},
   "source": [
    "## Saving"
   ]
  },
  {
   "cell_type": "code",
   "execution_count": 20,
   "metadata": {},
   "outputs": [
    {
     "data": {
      "text/html": [
       "<div>\n",
       "<style scoped>\n",
       "    .dataframe tbody tr th:only-of-type {\n",
       "        vertical-align: middle;\n",
       "    }\n",
       "\n",
       "    .dataframe tbody tr th {\n",
       "        vertical-align: top;\n",
       "    }\n",
       "\n",
       "    .dataframe thead th {\n",
       "        text-align: right;\n",
       "    }\n",
       "</style>\n",
       "<table border=\"1\" class=\"dataframe\">\n",
       "  <thead>\n",
       "    <tr style=\"text-align: right;\">\n",
       "      <th></th>\n",
       "      <th>spec_id</th>\n",
       "      <th>type</th>\n",
       "      <th>screen_size</th>\n",
       "      <th>megapixels</th>\n",
       "    </tr>\n",
       "  </thead>\n",
       "  <tbody>\n",
       "    <tr>\n",
       "      <th>0</th>\n",
       "      <td>www.pcconnection.com//4452</td>\n",
       "      <td>compact</td>\n",
       "      <td>3.0</td>\n",
       "      <td>12.0</td>\n",
       "    </tr>\n",
       "    <tr>\n",
       "      <th>1</th>\n",
       "      <td>www.pcconnection.com//4451</td>\n",
       "      <td>NaN</td>\n",
       "      <td>NaN</td>\n",
       "      <td>NaN</td>\n",
       "    </tr>\n",
       "    <tr>\n",
       "      <th>2</th>\n",
       "      <td>www.pcconnection.com//12419</td>\n",
       "      <td>point shoot</td>\n",
       "      <td>3.0</td>\n",
       "      <td>16.0</td>\n",
       "    </tr>\n",
       "    <tr>\n",
       "      <th>3</th>\n",
       "      <td>www.pcconnection.com//12378</td>\n",
       "      <td>compact</td>\n",
       "      <td>3.0</td>\n",
       "      <td>16.0</td>\n",
       "    </tr>\n",
       "    <tr>\n",
       "      <th>4</th>\n",
       "      <td>www.pcconnection.com//4475</td>\n",
       "      <td>compact</td>\n",
       "      <td>3.0</td>\n",
       "      <td>12.0</td>\n",
       "    </tr>\n",
       "  </tbody>\n",
       "</table>\n",
       "</div>"
      ],
      "text/plain": [
       "                       spec_id         type  screen_size  megapixels\n",
       "0   www.pcconnection.com//4452      compact          3.0        12.0\n",
       "1   www.pcconnection.com//4451          NaN          NaN         NaN\n",
       "2  www.pcconnection.com//12419  point shoot          3.0        16.0\n",
       "3  www.pcconnection.com//12378      compact          3.0        16.0\n",
       "4   www.pcconnection.com//4475      compact          3.0        12.0"
      ]
     },
     "execution_count": 20,
     "metadata": {},
     "output_type": "execute_result"
    }
   ],
   "source": [
    "df.rename(columns={'camera type': 'type', 'display size': 'screen_size'}, inplace=True)\n",
    "df.head()"
   ]
  },
  {
   "cell_type": "code",
   "execution_count": 21,
   "metadata": {},
   "outputs": [],
   "source": [
    "df.to_csv(\"../../datasets/unlabeled/cleaned/pcconnection.csv\", index=False)"
   ]
  },
  {
   "cell_type": "code",
   "execution_count": null,
   "metadata": {},
   "outputs": [],
   "source": []
  }
 ],
 "metadata": {
  "kernelspec": {
   "display_name": "Python 3",
   "language": "python",
   "name": "python3"
  },
  "language_info": {
   "codemirror_mode": {
    "name": "ipython",
    "version": 3
   },
   "file_extension": ".py",
   "mimetype": "text/x-python",
   "name": "python",
   "nbconvert_exporter": "python",
   "pygments_lexer": "ipython3",
   "version": "3.8.1"
  }
 },
 "nbformat": 4,
 "nbformat_minor": 4
}
