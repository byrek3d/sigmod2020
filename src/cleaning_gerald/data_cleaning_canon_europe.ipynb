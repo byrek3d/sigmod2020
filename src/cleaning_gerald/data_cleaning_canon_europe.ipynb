{
 "cells": [
  {
   "cell_type": "code",
   "execution_count": 1,
   "metadata": {},
   "outputs": [],
   "source": [
    "import os\n",
    "import numpy as np\n",
    "import json\n",
    "import pandas as pd\n",
    "import itertools\n",
    "from tqdm import tqdm\n",
    "import nltk\n",
    "from nltk.tokenize import word_tokenize\n",
    "import matplotlib.pyplot as plt\n",
    "import re"
   ]
  },
  {
   "cell_type": "code",
   "execution_count": 16,
   "metadata": {},
   "outputs": [],
   "source": [
    "def create_dataframe(dataset_path, source):\n",
    "    \"\"\"Function used to create a Pandas DataFrame containing specifications page titles\n",
    "\n",
    "    Reads products specifications from the file system (\"dataset_path\" variable in the main function) and creates a Pandas DataFrame where each row is a\n",
    "    specification. The columns are 'source' (e.g. www.sourceA.com), 'spec_number' (e.g. 1) and the 'page title'. Note that this script will consider only\n",
    "    the page title attribute for simplicity.\n",
    "\n",
    "    Args:\n",
    "        dataset_path (str): The path to the dataset\n",
    "\n",
    "    Returns:\n",
    "        df (pd.DataFrame): The Pandas DataFrame containing specifications and page titles\n",
    "    \"\"\"\n",
    "\n",
    "    print('>>> Creating dataframe...\\n')\n",
    "    columns_df = ['source', 'spec_number', 'spec_id', 'page_title']\n",
    "    \n",
    "    df = pd.DataFrame()\n",
    "    progressive_id = 0\n",
    "    progressive_id2row_df = {}\n",
    "    #for source in tqdm(os.listdir(dataset_path)):\n",
    "    #source = \"buy.net\"\n",
    "    for specification in os.listdir(os.path.join(dataset_path, source)):\n",
    "        specification_number = specification.replace('.json', '')\n",
    "        specification_id = '{}//{}'.format(source, specification_number)\n",
    "        with open(os.path.join(dataset_path, source, specification)) as specification_file:\n",
    "            columns_df = ['source', 'spec_number', 'spec_id']\n",
    "            specification_data = json.load(specification_file)\n",
    "            attrs = []\n",
    "            for k, v in specification_data.items():\n",
    "                columns_df.append(k)\n",
    "                attrs.append(v)\n",
    "            row = [source, specification_number, specification_id]\n",
    "            row.extend(attrs)\n",
    "            progressive_id2row_df.update({progressive_id: row})\n",
    "            progressive_id += 1\n",
    "            df = df.append(pd.DataFrame.from_dict(progressive_id2row_df, orient='index', columns=columns_df))\n",
    "            progressive_id2row_df = {}\n",
    "    #print(df)\n",
    "    print('>>> Dataframe created successfully!\\n')\n",
    "    return df"
   ]
  },
  {
   "cell_type": "code",
   "execution_count": 28,
   "metadata": {},
   "outputs": [
    {
     "name": "stdout",
     "output_type": "stream",
     "text": [
      ">>> Creating dataframe...\n",
      "\n",
      ">>> Dataframe created successfully!\n",
      "\n"
     ]
    }
   ],
   "source": [
    "df = create_dataframe('../../datasets/unlabeled/2013_camera_specs', \"www.canon-europe.com\")"
   ]
  },
  {
   "cell_type": "code",
   "execution_count": 29,
   "metadata": {},
   "outputs": [],
   "source": [
    "df = df[['spec_id']]"
   ]
  },
  {
   "cell_type": "code",
   "execution_count": 31,
   "metadata": {},
   "outputs": [],
   "source": [
    "list = [ 'canon' for i in range(len(df))]"
   ]
  },
  {
   "cell_type": "code",
   "execution_count": 32,
   "metadata": {},
   "outputs": [],
   "source": [
    "df['brand']=list"
   ]
  },
  {
   "cell_type": "code",
   "execution_count": 33,
   "metadata": {
    "scrolled": false
   },
   "outputs": [
    {
     "data": {
      "text/html": [
       "<div>\n",
       "<style scoped>\n",
       "    .dataframe tbody tr th:only-of-type {\n",
       "        vertical-align: middle;\n",
       "    }\n",
       "\n",
       "    .dataframe tbody tr th {\n",
       "        vertical-align: top;\n",
       "    }\n",
       "\n",
       "    .dataframe thead th {\n",
       "        text-align: right;\n",
       "    }\n",
       "</style>\n",
       "<table border=\"1\" class=\"dataframe\">\n",
       "  <thead>\n",
       "    <tr style=\"text-align: right;\">\n",
       "      <th></th>\n",
       "      <th>spec_id</th>\n",
       "      <th>brand</th>\n",
       "    </tr>\n",
       "  </thead>\n",
       "  <tbody>\n",
       "    <tr>\n",
       "      <th>0</th>\n",
       "      <td>www.canon-europe.com//115</td>\n",
       "      <td>canon</td>\n",
       "    </tr>\n",
       "    <tr>\n",
       "      <th>1</th>\n",
       "      <td>www.canon-europe.com//154</td>\n",
       "      <td>canon</td>\n",
       "    </tr>\n",
       "    <tr>\n",
       "      <th>2</th>\n",
       "      <td>www.canon-europe.com//103</td>\n",
       "      <td>canon</td>\n",
       "    </tr>\n",
       "    <tr>\n",
       "      <th>3</th>\n",
       "      <td>www.canon-europe.com//20</td>\n",
       "      <td>canon</td>\n",
       "    </tr>\n",
       "    <tr>\n",
       "      <th>4</th>\n",
       "      <td>www.canon-europe.com//98</td>\n",
       "      <td>canon</td>\n",
       "    </tr>\n",
       "  </tbody>\n",
       "</table>\n",
       "</div>"
      ],
      "text/plain": [
       "                     spec_id  brand\n",
       "0  www.canon-europe.com//115  canon\n",
       "1  www.canon-europe.com//154  canon\n",
       "2  www.canon-europe.com//103  canon\n",
       "3   www.canon-europe.com//20  canon\n",
       "4   www.canon-europe.com//98  canon"
      ]
     },
     "execution_count": 33,
     "metadata": {},
     "output_type": "execute_result"
    }
   ],
   "source": [
    "df.head()"
   ]
  },
  {
   "cell_type": "code",
   "execution_count": 34,
   "metadata": {},
   "outputs": [],
   "source": [
    "df.to_csv(\"../../datasets/unlabeled/cleaned/canon_europe.csv\", index=False)"
   ]
  },
  {
   "cell_type": "code",
   "execution_count": null,
   "metadata": {},
   "outputs": [],
   "source": []
  },
  {
   "cell_type": "code",
   "execution_count": null,
   "metadata": {},
   "outputs": [],
   "source": []
  },
  {
   "cell_type": "code",
   "execution_count": null,
   "metadata": {},
   "outputs": [],
   "source": []
  },
  {
   "cell_type": "code",
   "execution_count": null,
   "metadata": {},
   "outputs": [],
   "source": []
  }
 ],
 "metadata": {
  "kernelspec": {
   "display_name": "Python 3",
   "language": "python",
   "name": "python3"
  },
  "language_info": {
   "codemirror_mode": {
    "name": "ipython",
    "version": 3
   },
   "file_extension": ".py",
   "mimetype": "text/x-python",
   "name": "python",
   "nbconvert_exporter": "python",
   "pygments_lexer": "ipython3",
   "version": "3.7.3"
  }
 },
 "nbformat": 4,
 "nbformat_minor": 4
}
