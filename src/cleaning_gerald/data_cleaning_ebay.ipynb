{
 "cells": [
  {
   "cell_type": "code",
   "execution_count": 1,
   "metadata": {},
   "outputs": [],
   "source": [
    "import os\n",
    "import numpy as np\n",
    "import json\n",
    "import pandas as pd\n",
    "import itertools\n",
    "from tqdm import tqdm\n",
    "import nltk\n",
    "from nltk.tokenize import word_tokenize\n",
    "import matplotlib.pyplot as plt\n",
    "import re"
   ]
  },
  {
   "cell_type": "code",
   "execution_count": 2,
   "metadata": {},
   "outputs": [],
   "source": [
    "def create_dataframe(dataset_path, source):\n",
    "    \"\"\"Function used to create a Pandas DataFrame containing specifications page titles\n",
    "\n",
    "    Reads products specifications from the file system (\"dataset_path\" variable in the main function) and creates a Pandas DataFrame where each row is a\n",
    "    specification. The columns are 'source' (e.g. www.sourceA.com), 'spec_number' (e.g. 1) and the 'page title'. Note that this script will consider only\n",
    "    the page title attribute for simplicity.\n",
    "\n",
    "    Args:\n",
    "        dataset_path (str): The path to the dataset\n",
    "\n",
    "    Returns:\n",
    "        df (pd.DataFrame): The Pandas DataFrame containing specifications and page titles\n",
    "    \"\"\"\n",
    "\n",
    "    print('>>> Creating dataframe...\\n')\n",
    "    columns_df = ['source', 'spec_number', 'spec_id', 'page_title']\n",
    "    \n",
    "    df = pd.DataFrame()\n",
    "    progressive_id = 0\n",
    "    progressive_id2row_df = {}\n",
    "    #for source in tqdm(os.listdir(dataset_path)):\n",
    "    #source = \"buy.net\"\n",
    "    for specification in os.listdir(os.path.join(dataset_path, source)):\n",
    "        specification_number = specification.replace('.json', '')\n",
    "        specification_id = '{}//{}'.format(source, specification_number)\n",
    "        with open(os.path.join(dataset_path, source, specification)) as specification_file:\n",
    "            columns_df = ['source', 'spec_number', 'spec_id']\n",
    "            specification_data = json.load(specification_file)\n",
    "            attrs = []\n",
    "            for k, v in specification_data.items():\n",
    "                columns_df.append(k)\n",
    "                attrs.append(v)\n",
    "            row = [source, specification_number, specification_id]\n",
    "            row.extend(attrs)\n",
    "            progressive_id2row_df.update({progressive_id: row})\n",
    "            progressive_id += 1\n",
    "            df = df.append(pd.DataFrame.from_dict(progressive_id2row_df, orient='index', columns=columns_df), sort=False)\n",
    "            progressive_id2row_df = {}\n",
    "    #print(df)\n",
    "    print('>>> Dataframe created successfully!\\n')\n",
    "    return df"
   ]
  },
  {
   "cell_type": "code",
   "execution_count": null,
   "metadata": {},
   "outputs": [
    {
     "name": "stdout",
     "output_type": "stream",
     "text": [
      ">>> Creating dataframe...\n",
      "\n"
     ]
    }
   ],
   "source": [
    "df = create_dataframe('../../datasets/unlabeled/2013_camera_specs', \"www.ebay.com\")"
   ]
  },
  {
   "cell_type": "code",
   "execution_count": null,
   "metadata": {},
   "outputs": [],
   "source": [
    "df.head()"
   ]
  },
  {
   "cell_type": "code",
   "execution_count": null,
   "metadata": {},
   "outputs": [],
   "source": [
    "cols = [\"spec_id\",\"brand\", \"megapixels\", \"screen size\", \"weight\"]"
   ]
  },
  {
   "cell_type": "code",
   "execution_count": null,
   "metadata": {},
   "outputs": [],
   "source": [
    "df = df[cols]"
   ]
  },
  {
   "cell_type": "code",
   "execution_count": null,
   "metadata": {},
   "outputs": [],
   "source": [
    "df.head()"
   ]
  },
  {
   "cell_type": "code",
   "execution_count": null,
   "metadata": {},
   "outputs": [],
   "source": [
    "df2=df.copy(deep=True)"
   ]
  },
  {
   "cell_type": "markdown",
   "metadata": {},
   "source": [
    "### megapixels"
   ]
  },
  {
   "cell_type": "code",
   "execution_count": null,
   "metadata": {},
   "outputs": [],
   "source": [
    "df[df['megapixels'].notnull()]"
   ]
  },
  {
   "cell_type": "code",
   "execution_count": null,
   "metadata": {},
   "outputs": [],
   "source": [
    "df=df2.copy(deep=True)"
   ]
  },
  {
   "cell_type": "code",
   "execution_count": null,
   "metadata": {},
   "outputs": [],
   "source": [
    "def parse_megapixels(value):\n",
    "    if(isinstance(value, list)):\n",
    "        \n",
    "        value=value[0]\n",
    "    if pd.isna(value):\n",
    "        return value\n",
    "    else:\n",
    "        match1 = re.search('(\\d*\\,\\d+|\\d*\\.\\d+|\\d+)( MP|)', str(value))\n",
    "        if match1 is None: \n",
    "            return float(\"NaN\")\n",
    "\n",
    "\n",
    "        return (match1.group(1).replace(\",\",\".\"))\n",
    "\n",
    "        "
   ]
  },
  {
   "cell_type": "code",
   "execution_count": null,
   "metadata": {},
   "outputs": [],
   "source": [
    "df[\"megapixels\"] = df[\"megapixels\"].apply(parse_megapixels)"
   ]
  },
  {
   "cell_type": "code",
   "execution_count": null,
   "metadata": {},
   "outputs": [],
   "source": [
    "df.head()"
   ]
  },
  {
   "cell_type": "markdown",
   "metadata": {},
   "source": [
    "### Weight"
   ]
  },
  {
   "cell_type": "code",
   "execution_count": null,
   "metadata": {},
   "outputs": [],
   "source": [
    "df[df['weight'].notnull()]"
   ]
  },
  {
   "cell_type": "code",
   "execution_count": null,
   "metadata": {},
   "outputs": [],
   "source": [
    "def parse_weight(value):\n",
    "    if (isinstance(value, list)):\n",
    "        value=value[0]\n",
    "        \n",
    "\n",
    "    if pd.isna(value):\n",
    "        return value\n",
    "    else:\n",
    "        value = value.lower()\n",
    "       \n",
    "        match1 = re.search('()(\\d*\\,\\d+|\\d*\\.\\d+|\\d+)( g|g| kg|kg|lbs| lbs| oz| ounce)', str(value))\n",
    "        if match1 is None: \n",
    "            return float(\"NaN\")\n",
    "\n",
    "\n",
    "\n",
    "\n",
    "        to_convert= match1.group(2).replace(\" \",\"\").replace(\",\",\".\")\n",
    "        metric= match1.group(3).replace(\" \",\"\")\n",
    "        converted=float(\"NaN\")\n",
    "        if (metric == \"oz\" or metric== \"ounce\"):\n",
    "            converted= int(round(float(to_convert) * 28.35))\n",
    "        elif metric == \"lbs\":\n",
    "            converted= int(round(float(to_convert) * 454))\n",
    "        elif metric == \"kg\":\n",
    "            converted= int(round(float(to_convert) * 1000))\n",
    "        else:\n",
    "            converted= int(round(float(to_convert)))\n",
    "\n",
    "        return converted\n",
    "        "
   ]
  },
  {
   "cell_type": "code",
   "execution_count": null,
   "metadata": {},
   "outputs": [],
   "source": [
    "df[\"weight\"] = df[\"weight\"].apply(parse_weight)"
   ]
  },
  {
   "cell_type": "code",
   "execution_count": null,
   "metadata": {},
   "outputs": [],
   "source": [
    "df.head()"
   ]
  },
  {
   "cell_type": "markdown",
   "metadata": {},
   "source": [
    "## screen size"
   ]
  },
  {
   "cell_type": "code",
   "execution_count": null,
   "metadata": {},
   "outputs": [],
   "source": [
    "df[df['screen size'].notnull()]"
   ]
  },
  {
   "cell_type": "code",
   "execution_count": null,
   "metadata": {},
   "outputs": [],
   "source": [
    "def parse_screen_size(value):\n",
    "    if (isinstance(value, list)):\n",
    "        return float(\"NaN\")\n",
    "    if pd.isna(value):\n",
    "        return value\n",
    "\n",
    "    else:\n",
    "        m = re.search('(\\d*\\.\\d+|\\d*\\,\\d+|\\d+)(cm|\\\"| \\\"| in|)', str(value))\n",
    "        if m is None:\n",
    "\n",
    "            return float(\"NaN\")\n",
    "\n",
    "        to_convert= m.group(1).replace(\" \",\"\").replace(\",\",\".\")\n",
    "        metric= m.group(2).replace(\" \",\"\")\n",
    "        converted=float(\"NaN\")\n",
    "        if (metric == \"cm\"):\n",
    "\n",
    "            converted= int(round(float(to_convert) / 2.54))\n",
    "        else:\n",
    "            converted= int(round(float(to_convert)))\n",
    "\n",
    "        return converted"
   ]
  },
  {
   "cell_type": "code",
   "execution_count": null,
   "metadata": {},
   "outputs": [],
   "source": [
    "df[\"screen size\"] = df[\"screen size\"].apply(parse_screen_size)"
   ]
  },
  {
   "cell_type": "code",
   "execution_count": null,
   "metadata": {
    "scrolled": true
   },
   "outputs": [],
   "source": [
    "df.head()"
   ]
  },
  {
   "cell_type": "markdown",
   "metadata": {},
   "source": [
    "## Brand"
   ]
  },
  {
   "cell_type": "code",
   "execution_count": 96,
   "metadata": {},
   "outputs": [],
   "source": [
    "df['brand'] = df['brand'].apply(lambda x: str(x).lower())"
   ]
  },
  {
   "cell_type": "code",
   "execution_count": 104,
   "metadata": {
    "scrolled": true
   },
   "outputs": [
    {
     "data": {
      "text/plain": [
       "canon                                       3580\n",
       "nikon                                       2959\n",
       "sony                                        1866\n",
       "fujifilm                                     835\n",
       "olympus                                      833\n",
       "kodak                                        646\n",
       "samsung                                      602\n",
       "panasonic                                    583\n",
       "pentax                                       301\n",
       "nan                                          290\n",
       "vivitar                                      162\n",
       "casio                                        147\n",
       "leica                                        111\n",
       "polaroid                                      99\n",
       "ge                                            90\n",
       "hp                                            87\n",
       "gopro                                         59\n",
       "ricoh                                         58\n",
       "konica minolta                                54\n",
       "svp                                           51\n",
       "sanyo                                         45\n",
       "vizio                                         31\n",
       "minolta                                       27\n",
       "coleman                                       24\n",
       "fvanor                                        24\n",
       "sakar                                         23\n",
       "fuji                                          22\n",
       "bell & howell                                 22\n",
       "toshiba                                       18\n",
       "lg                                            17\n",
       "                                            ... \n",
       "ximea                                          1\n",
       "cambo                                          1\n",
       "god condition                                  1\n",
       "gpx                                            1\n",
       "emprex                                         1\n",
       "venturer                                       1\n",
       "i_p.mium                                       1\n",
       "palm clix                                      1\n",
       "tenvis                                         1\n",
       "optiz                                          1\n",
       "ge general electric                            1\n",
       "hewlett packard                                1\n",
       "elite screens                                  1\n",
       "aee magicam                                    1\n",
       "imaging apparatus                              1\n",
       "horseman                                       1\n",
       "insigniaâ¢                                    1\n",
       "action shot                                    1\n",
       "tandberg                                       1\n",
       "nabi                                           1\n",
       "fantasea                                       1\n",
       "concord                                        1\n",
       "intel                                          1\n",
       "lexar media                                    1\n",
       "jlb                                            1\n",
       "dgx                                            1\n",
       "kodak, samsung, vivitar, canon , olympus       1\n",
       "evolt                                          1\n",
       "magellan                                       1\n",
       "winait                                         1\n",
       "Name: brand, Length: 277, dtype: int64"
      ]
     },
     "execution_count": 104,
     "metadata": {},
     "output_type": "execute_result"
    }
   ],
   "source": [
    "df.brand.value_counts()"
   ]
  },
  {
   "cell_type": "markdown",
   "metadata": {},
   "source": [
    "### Final cleaning"
   ]
  },
  {
   "cell_type": "code",
   "execution_count": 105,
   "metadata": {},
   "outputs": [],
   "source": [
    "df.to_csv(\"../../datasets/unlabeled/cleaned/ebay.csv\", index=False)"
   ]
  },
  {
   "cell_type": "code",
   "execution_count": null,
   "metadata": {},
   "outputs": [],
   "source": []
  },
  {
   "cell_type": "code",
   "execution_count": null,
   "metadata": {},
   "outputs": [],
   "source": []
  },
  {
   "cell_type": "code",
   "execution_count": null,
   "metadata": {},
   "outputs": [],
   "source": []
  }
 ],
 "metadata": {
  "kernelspec": {
   "display_name": "Python 3",
   "language": "python",
   "name": "python3"
  },
  "language_info": {
   "codemirror_mode": {
    "name": "ipython",
    "version": 3
   },
   "file_extension": ".py",
   "mimetype": "text/x-python",
   "name": "python",
   "nbconvert_exporter": "python",
   "pygments_lexer": "ipython3",
   "version": "3.7.3"
  }
 },
 "nbformat": 4,
 "nbformat_minor": 4
}
